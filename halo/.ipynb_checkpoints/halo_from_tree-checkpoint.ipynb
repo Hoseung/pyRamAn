{
 "cells": [
  {
   "cell_type": "markdown",
   "metadata": {},
   "source": [
    "## Build phantom halo from CT results.\n",
    "So far halo/galaxy brick from HM/GM have been the base of mk_gal routine. But phantom halo information only exist in tree_0_0_0.dat. Because all the basic information of all halos/galaxies are also stored in the tree output, it might be better to run mk_gal routine based on tree output only."
   ]
  },
  {
   "cell_type": "markdown",
   "metadata": {},
   "source": [
    "And, because mk_gal routine requires halo class, I need a function that returns a new halo instance with basic information from the tree output."
   ]
  },
  {
   "cell_type": "code",
   "execution_count": 1,
   "metadata": {
    "collapsed": true
   },
   "outputs": [],
   "source": [
    "import numpy as np\n",
    "import tree.halomodule as hmo\n",
    "import tree.treemodule as tmo\n",
    "import pickle\n",
    "\n",
    "wdir = '/home/hoseung/Work/data/29172/'\n",
    "tree_path = 'GalaxyMaker/Trees/'"
   ]
  },
  {
   "cell_type": "code",
   "execution_count": 4,
   "metadata": {
    "collapsed": false
   },
   "outputs": [
    {
     "name": "stdout",
     "output_type": "stream",
     "text": [
      "Loading Consistent Tree data from ASCII is done\n",
      "------ NOUT fixed\n",
      "------ tree data extended\n"
     ]
    }
   ],
   "source": [
    "from tree import treemodule\n",
    "import tree.ctutils as ctu\n",
    "\n",
    "nout_fi = 187\n",
    "is_gal = True\n",
    "try:    \n",
    "    alltrees = pickle.load(open(wdir + tree_path + \"extended_tree.pickle\", \"rb\" ))\n",
    "    print(\"Loaded an extended tree\")\n",
    "except:\n",
    "    \n",
    "    alltrees = treemodule.CTree()\n",
    "    alltrees.load(filename= wdir + tree_path + 'tree_0_0_0.dat')\n",
    "    # Fix nout -----------------------------------------------------\n",
    "    nout_max = alltrees.data['nout'].max()\n",
    "    alltrees.data['nout'] += nout_fi - nout_max\n",
    "    print(\"------ NOUT fixed\")\n",
    "    alltrees.data = ctu.augment_tree(alltrees.data, wdir, is_gal=is_gal)\n",
    "    print(\"------ tree data extended\")\n",
    "    pickle.dump(alltrees, open(wdir + tree_path + \"extended_tree.pickle\", \"wb\" ))\n"
   ]
  },
  {
   "cell_type": "code",
   "execution_count": 5,
   "metadata": {
    "collapsed": true
   },
   "outputs": [],
   "source": [
    "tree_element = alltrees.data[1234]"
   ]
  },
  {
   "cell_type": "code",
   "execution_count": 15,
   "metadata": {
    "collapsed": true
   },
   "outputs": [],
   "source": [
    "import load\n",
    "nout = 187\n",
    "info = load.info.Info(nout=nout, base=wdir, load=True)"
   ]
  },
  {
   "cell_type": "code",
   "execution_count": 8,
   "metadata": {
    "collapsed": false
   },
   "outputs": [],
   "source": [
    "nout = tree_element['nout']\n",
    "h = hmo.Halo(nout=nout, halofinder='HM', info=info, is_gal=True)\n",
    "# required information\n",
    "# mvir, x, y, z, rvir, vx, vy, vz, id\n",
    "#"
   ]
  },
  {
   "cell_type": "code",
   "execution_count": 22,
   "metadata": {
    "collapsed": false
   },
   "outputs": [
    {
     "ename": "UnboundLocalError",
     "evalue": "local variable 'h' referenced before assignment",
     "output_type": "error",
     "traceback": [
      "\u001b[1;31m---------------------------------------------------------------------------\u001b[0m",
      "\u001b[1;31mUnboundLocalError\u001b[0m                         Traceback (most recent call last)",
      "\u001b[1;32m<ipython-input-22-c46046b8df5d>\u001b[0m in \u001b[0;36m<module>\u001b[1;34m()\u001b[0m\n\u001b[0;32m     23\u001b[0m     \u001b[1;32mreturn\u001b[0m \u001b[0mh\u001b[0m\u001b[1;33m\u001b[0m\u001b[0m\n\u001b[0;32m     24\u001b[0m \u001b[1;33m\u001b[0m\u001b[0m\n\u001b[1;32m---> 25\u001b[1;33m \u001b[0ma\u001b[0m \u001b[1;33m=\u001b[0m \u001b[0mhalo_from_tree\u001b[0m\u001b[1;33m(\u001b[0m\u001b[0mtree_element\u001b[0m\u001b[1;33m,\u001b[0m \u001b[0minfo\u001b[0m\u001b[1;33m)\u001b[0m\u001b[1;33m\u001b[0m\u001b[0m\n\u001b[0m",
      "\u001b[1;32m<ipython-input-22-c46046b8df5d>\u001b[0m in \u001b[0;36mhalo_from_tree\u001b[1;34m(tree_element, info)\u001b[0m\n\u001b[0;32m      4\u001b[0m               ('vx', '<f4'), ('vy', '<f4'), ('vz', '<f4')]\n\u001b[0;32m      5\u001b[0m \u001b[1;32mdef\u001b[0m \u001b[0mhalo_from_tree\u001b[0m\u001b[1;33m(\u001b[0m\u001b[0mtree_element\u001b[0m\u001b[1;33m,\u001b[0m \u001b[0minfo\u001b[0m\u001b[1;33m)\u001b[0m\u001b[1;33m:\u001b[0m\u001b[1;33m\u001b[0m\u001b[0m\n\u001b[1;32m----> 6\u001b[1;33m     \u001b[0mh\u001b[0m\u001b[1;33m.\u001b[0m\u001b[0mnout\u001b[0m \u001b[1;33m=\u001b[0m \u001b[0mtree_element\u001b[0m\u001b[1;33m[\u001b[0m\u001b[1;34m'nout'\u001b[0m\u001b[1;33m]\u001b[0m\u001b[1;33m\u001b[0m\u001b[0m\n\u001b[0m\u001b[0;32m      7\u001b[0m     \u001b[0mh\u001b[0m \u001b[1;33m=\u001b[0m \u001b[0mhmo\u001b[0m\u001b[1;33m.\u001b[0m\u001b[0mHalo\u001b[0m\u001b[1;33m(\u001b[0m\u001b[0mnout\u001b[0m\u001b[1;33m=\u001b[0m\u001b[0mh\u001b[0m\u001b[1;33m.\u001b[0m\u001b[0mnout\u001b[0m\u001b[1;33m,\u001b[0m \u001b[0mhalofinder\u001b[0m\u001b[1;33m=\u001b[0m\u001b[1;34m'HM'\u001b[0m\u001b[1;33m,\u001b[0m \u001b[0minfo\u001b[0m\u001b[1;33m=\u001b[0m\u001b[0minfo\u001b[0m\u001b[1;33m,\u001b[0m \u001b[0mis_gal\u001b[0m\u001b[1;33m=\u001b[0m\u001b[1;32mTrue\u001b[0m\u001b[1;33m)\u001b[0m\u001b[1;33m\u001b[0m\u001b[0m\n\u001b[0;32m      8\u001b[0m     \u001b[0mh\u001b[0m\u001b[1;33m.\u001b[0m\u001b[0mdata\u001b[0m \u001b[1;33m=\u001b[0m \u001b[0mnp\u001b[0m\u001b[1;33m.\u001b[0m\u001b[0mrecarray\u001b[0m\u001b[1;33m(\u001b[0m\u001b[1;36m1\u001b[0m\u001b[1;33m,\u001b[0m \u001b[0mdtype\u001b[0m\u001b[1;33m=\u001b[0m\u001b[0mdtype_halo\u001b[0m\u001b[1;33m)\u001b[0m\u001b[1;33m\u001b[0m\u001b[0m\n",
      "\u001b[1;31mUnboundLocalError\u001b[0m: local variable 'h' referenced before assignment"
     ]
    }
   ],
   "source": [
    "dtype_halo = [('id', '<i4'), ('m', '<f4'), ('mvir', '<f4'),\n",
    "              ('r', '<f4'), ('rvir', '<f4'), \n",
    "              ('x', '<f4'), ('y', '<f4'), ('z', '<f4'),\n",
    "              ('vx', '<f4'), ('vy', '<f4'), ('vz', '<f4')]\n",
    "def halo_from_tree(tree_element, info):\n",
    "    cboxsize = 200.\n",
    "    \n",
    "    nout = tree_element['nout']\n",
    "    h = hmo.Halo(nout=nout, halofinder='HM', info=info, is_gal=True)\n",
    "    \n",
    "    h.data = np.recarray(1, dtype=dtype_halo)\n",
    "    h.nout = nout\n",
    "    \n",
    "    h.data['m'] = tree_element['m']\n",
    "    h.data['mvir'] = tree_element['mvir']\n",
    "    h.data['x'] = tree_element['x']/cboxsize\n",
    "    h.data['y'] = tree_element['y'] /cboxsize\n",
    "    h.data['z'] = tree_element['z'] /cboxsize # Mpc/h -> code unit\n",
    "    h.data['vx'] = tree_element['vx']\n",
    "    h.data['vy'] = tree_element['vy']\n",
    "    h.data['vz'] = tree_element['vz']\n",
    "    h.data['r'] = tree_element['r'] # already in code unit\n",
    "    h.data['rvir'] = tree_element['rvir'] / (cboxsize * 1000) # kpc/h -> code unit\n",
    "    h.data['id'] = tree_element['Orig_halo_id']\n",
    "    h.aexp = tree_element['aexp']\n",
    "    \n",
    "    return h\n",
    "\n",
    "a = halo_from_tree(tree_element, info)"
   ]
  },
  {
   "cell_type": "code",
   "execution_count": 21,
   "metadata": {
    "collapsed": false
   },
   "outputs": [
    {
     "data": {
      "text/plain": [
       "{'lengh': None, 'mass': None, 'velocity': None}"
      ]
     },
     "execution_count": 21,
     "metadata": {},
     "output_type": "execute_result"
    }
   ],
   "source": [
    "a.unit"
   ]
  },
  {
   "cell_type": "code",
   "execution_count": null,
   "metadata": {
    "collapsed": true
   },
   "outputs": [],
   "source": []
  }
 ],
 "metadata": {
  "kernelspec": {
   "display_name": "Python 3",
   "language": "python",
   "name": "python3"
  },
  "language_info": {
   "codemirror_mode": {
    "name": "ipython",
    "version": 3
   },
   "file_extension": ".py",
   "mimetype": "text/x-python",
   "name": "python",
   "nbconvert_exporter": "python",
   "pygments_lexer": "ipython3",
   "version": "3.4.3"
  }
 },
 "nbformat": 4,
 "nbformat_minor": 0
}
