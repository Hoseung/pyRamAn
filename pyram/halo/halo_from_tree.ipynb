{
 "cells": [
  {
   "cell_type": "markdown",
   "metadata": {},
   "source": [
    "## Build phantom halo from CT results.\n",
    "So far halo/galaxy brick from HM/GM have been the base of mk_gal routine. But phantom halo information only exist in tree_0_0_0.dat. Because all the basic information of all halos/galaxies are also stored in the tree output, it might be better to run mk_gal routine based on tree output only."
   ]
  },
  {
   "cell_type": "markdown",
   "metadata": {},
   "source": [
    "And, because mk_gal routine requires halo class, I need a function that returns a new halo instance with basic information from the tree output."
   ]
  },
  {
   "cell_type": "code",
   "execution_count": 1,
   "metadata": {
    "collapsed": true
   },
   "outputs": [],
   "source": [
    "import numpy as np\n",
    "import tree.halomodule as hmo\n",
    "import tree.treemodule as tmo\n",
    "import pickle\n",
    "\n",
    "wdir = '/home/hoseung/Work/data/29172/'\n",
    "tree_path = 'GalaxyMaker/Trees/'"
   ]
  },
  {
   "cell_type": "code",
   "execution_count": 4,
   "metadata": {
    "collapsed": false
   },
   "outputs": [
    {
     "name": "stdout",
     "output_type": "stream",
     "text": [
      "Loading Consistent Tree data from ASCII is done\n",
      "------ NOUT fixed\n",
      "------ tree data extended\n"
     ]
    }
   ],
   "source": [
    "from tree import treemodule\n",
    "import tree.ctutils as ctu\n",
    "\n",
    "nout_fi = 187\n",
    "is_gal = True\n",
    "try:    \n",
    "    alltrees = pickle.load(open(wdir + tree_path + \"extended_tree.pickle\", \"rb\" ))\n",
    "    print(\"Loaded an extended tree\")\n",
    "except:\n",
    "    \n",
    "    alltrees = treemodule.CTree()\n",
    "    alltrees.load(filename= wdir + tree_path + 'tree_0_0_0.dat')\n",
    "    # Fix nout -----------------------------------------------------\n",
    "    nout_max = alltrees.data['nout'].max()\n",
    "    alltrees.data['nout'] += nout_fi - nout_max\n",
    "    print(\"------ NOUT fixed\")\n",
    "    alltrees.data = ctu.augment_tree(alltrees.data, wdir, is_gal=is_gal)\n",
    "    print(\"------ tree data extended\")\n",
    "    pickle.dump(alltrees, open(wdir + tree_path + \"extended_tree.pickle\", \"wb\" ))\n"
   ]
  },
  {
   "cell_type": "code",
   "execution_count": 5,
   "metadata": {
    "collapsed": true
   },
   "outputs": [],
   "source": [
    "tree_element = alltrees.data[1234]"
   ]
  },
  {
   "cell_type": "code",
   "execution_count": 15,
   "metadata": {
    "collapsed": true
   },
   "outputs": [],
   "source": [
    "import load\n",
    "nout = 187\n",
    "info = load.info.Info(nout=nout, base=wdir, load=True)"
   ]
  },
  {
   "cell_type": "code",
   "execution_count": 8,
   "metadata": {
    "collapsed": false
   },
   "outputs": [],
   "source": [
    "nout = tree_element['nout']\n",
    "h = hmo.Halo(nout=nout, halofinder='HM', info=info, is_gal=True)\n",
    "# required information\n",
    "# mvir, x, y, z, rvir, vx, vy, vz, id\n",
    "#"
   ]
  },
  {
   "cell_type": "code",
   "execution_count": 23,
   "metadata": {
    "collapsed": false
   },
   "outputs": [],
   "source": [
    "def halo_from_tree(tree_element, info):\n",
    "    dtype_halo = [('id', '<i4'), ('m', '<f4'), ('mvir', '<f4'),\n",
    "              ('r', '<f4'), ('rvir', '<f4'), \n",
    "              ('x', '<f4'), ('y', '<f4'), ('z', '<f4'),\n",
    "              ('vx', '<f4'), ('vy', '<f4'), ('vz', '<f4')]\n",
    "    \n",
    "    cboxsize = 200.\n",
    "    \n",
    "    nout = tree_element['nout']\n",
    "    h = hmo.Halo(nout=nout, halofinder='HM', info=info, is_gal=True)\n",
    "    \n",
    "    h.data = np.recarray(1, dtype=dtype_halo)\n",
    "    h.nout = nout\n",
    "    \n",
    "    h.data['m'] = tree_element['m']\n",
    "    h.data['mvir'] = tree_element['mvir']\n",
    "    h.data['x'] = tree_element['x'] / cboxsize\n",
    "    h.data['y'] = tree_element['y'] / cboxsize\n",
    "    h.data['z'] = tree_element['z'] / cboxsize # Mpc/h -> code unit\n",
    "    h.data['vx'] = tree_element['vx']\n",
    "    h.data['vy'] = tree_element['vy']\n",
    "    h.data['vz'] = tree_element['vz']\n",
    "    h.data['r'] = tree_element['r'] # already in code unit\n",
    "    h.data['rvir'] = tree_element['rvir'] / (cboxsize * 1000) # kpc/h -> code unit\n",
    "    h.data['id'] = tree_element['Orig_halo_id']\n",
    "    h.aexp = tree_element['aexp']\n",
    "    \n",
    "    return h\n",
    "\n",
    "a = halo_from_tree(tree_element, info)"
   ]
  },
  {
   "cell_type": "code",
   "execution_count": 24,
   "metadata": {
    "collapsed": false
   },
   "outputs": [
    {
     "data": {
      "text/plain": [
       "rec.array([ (232, 252920848.0, 756300032.0, 6.941806350369006e-05, 6.941999890841544e-05, 0.49209749698638916, 0.6785699725151062, 0.45732349157333374, 645.2000122070312, 213.88999938964844, -199.30999755859375)], \n",
       "          dtype=[('id', '<i4'), ('m', '<f4'), ('mvir', '<f4'), ('r', '<f4'), ('rvir', '<f4'), ('x', '<f4'), ('y', '<f4'), ('z', '<f4'), ('vx', '<f4'), ('vy', '<f4'), ('vz', '<f4')])"
      ]
     },
     "execution_count": 24,
     "metadata": {},
     "output_type": "execute_result"
    }
   ],
   "source": [
    "a.data"
   ]
  },
  {
   "cell_type": "code",
   "execution_count": null,
   "metadata": {
    "collapsed": true
   },
   "outputs": [],
   "source": []
  }
 ],
 "metadata": {
  "kernelspec": {
   "display_name": "Python 3",
   "language": "python",
   "name": "python3"
  },
  "language_info": {
   "codemirror_mode": {
    "name": "ipython",
    "version": 3
   },
   "file_extension": ".py",
   "mimetype": "text/x-python",
   "name": "python",
   "nbconvert_exporter": "python",
   "pygments_lexer": "ipython3",
   "version": "3.4.3"
  }
 },
 "nbformat": 4,
 "nbformat_minor": 0
}
