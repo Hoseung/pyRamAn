{
 "cells": [
  {
   "cell_type": "markdown",
   "metadata": {},
   "source": [
    "## Starting from an already performed simulation result (not run in this Python instance)\n",
    "\n",
    ".log file 지우면 안 됨.  한 directory에는 하나의 run만. "
   ]
  },
  {
   "cell_type": "code",
   "execution_count": 1,
   "metadata": {},
   "outputs": [],
   "source": [
    "#from pts.do.prompt import do\n",
    "#%matplotlib inline\n",
    "#%matplotlib notebook\n",
    "import numpy as np\n",
    "import matplotlib\n",
    "matplotlib.use(\"Qt5Agg\")\n",
    "from matplotlib import rcParams\n",
    "import matplotlib.pyplot as plt\n",
    "import logging # This is a Python standard package.\n",
    "import pts.simulation as sm\n",
    "import pts.utils as ut\n",
    "import pts.visual as vis\n",
    "\n",
    "from glob import glob\n",
    "from PIL import Image\n",
    "\n",
    "import pyram"
   ]
  },
  {
   "cell_type": "code",
   "execution_count": 2,
   "metadata": {},
   "outputs": [],
   "source": [
    "#redundant = np.genfromtxt(\"../list_aexprestart_nout.txt\", dtype=[('nout','int'),('zred','float')])\n",
    "#good_nouts = np.setdiff1d(np.arange(900), redundant[\"nout\"])"
   ]
  },
  {
   "cell_type": "markdown",
   "metadata": {},
   "source": [
    "## RGB image\n",
    "\n",
    "Looking at pts/visual/do/make_images.py  \n",
    "Two use cases:\n",
    "1. Specify wavelength  \n",
    "2. Specify bands  \n",
    "\n",
    "Q: Any support for SB limit??\n",
    "\n",
    "\n",
    "Decades not applied to arcsinh? "
   ]
  },
  {
   "cell_type": "code",
   "execution_count": 11,
   "metadata": {
    "scrolled": true
   },
   "outputs": [
    {
     "name": "stdout",
     "output_type": "stream",
     "text": [
      "Generating mock images... nout= 206\n",
      "arcsinh 0.002 200.0\n"
     ]
    }
   ],
   "source": [
    "import pts.band as bnd\n",
    "wavelengths = None\n",
    "\n",
    "if wavelengths is not None:\n",
    "    tuples = { name: wavelengths << sm.unit(\"micron\") }\n",
    "    for sim in sims:\n",
    "        vis.makeRGBImages(sim, wavelengthTuples=tuples, fileType=type)\n",
    "\n",
    "\n",
    "target_nouts=[169, 174, 179, 183,\n",
    "              188, 193, 198, 202,\n",
    "              206, 211, 216, 221]\n",
    "good_nouts=[110, 158, 169, 174, 179, \n",
    "            183, 188, 193, 198, 202, 206,\n",
    "            208, 211, 216, 222, 232, 237, \n",
    "            242, 247, 300, 446]\n",
    "\n",
    "output_type = \"total\"\n",
    "quality = [\"intermediate\", \"high\"][0]\n",
    "\n",
    "if quality == 'intermediate':\n",
    "    name = \"SDSS_RGB_LQ\"\n",
    "    prefix = lambda nout: f\"g13_{nout}\"\n",
    "    decs=[3.5,4,4.5,5,5.5]\n",
    "elif quality == \"high\":\n",
    "    name = \"SDSS_RGB_HQ\"\n",
    "    prefix = lambda nout: f\"g13_{nout}_HQ\"\n",
    "    decs=[3.5,4,4.5]\n",
    "\n",
    "# Keep flux range the same throughout snapshots.z`\n",
    "fmin_ash, fmax_ash =  2e-3, 2e2\n",
    "fmin_log1, fmax_log1 = None, None\n",
    "fmin_log2, fmax_log2 = 5e-3, 5e2\n",
    "fmin_log3, fmax_log3 = None, None\n",
    "\n",
    "all_fns=[]\n",
    "\n",
    "#for nout in target_nouts[]:\n",
    "for nout in [206]:\n",
    "    # try bands\n",
    "    #colors = \"SDSS_Z,SDSS_G,SDSS_U\"#,\n",
    "    colors = \"SDSS_I,SDSS_G,SDSS_U\" #MASS_2MASS_H,2MASS_2MASS_J,2MASS_2MASS_KS\"\n",
    "    segments = colors.split(',')\n",
    "    if len(segments) != 3:\n",
    "        raise ut.UserError(\"colors argument must have three comma-separated segments\")\n",
    "\n",
    "    try: bands = [ bnd.BroadBand(segment) for segment in segments ]\n",
    "    except ValueError: bands = None\n",
    "    \n",
    "    \n",
    "    print(\"Generating mock images... nout=\", nout)\n",
    "    repo = f\"./01000/{nout:05d}/\"#faceon_redshift_\"\n",
    "    # load values from JP's value\n",
    "\n",
    "    sim = sm.createSimulation(outDirPath=repo, prefix=prefix(nout))\n",
    "    skifile = sim.parameters()\n",
    "    \n",
    "    #for inst in sim.instruments():\n",
    "    inst = sim.instruments()[0]\n",
    "    totalfluxpath = inst.outFilePaths(fileType=\"total.fits\")[0]\n",
    "    datacube = sm.loadFits(totalfluxpath) # loadFits & getFitsAxes return 'astropy' quantities with units attached.\n",
    "    x,y,wavelengths = sm.getFitsAxes(totalfluxpath)\n",
    "\n",
    "\n",
    "    if bands is not None:\n",
    "        # 0.6, 0.75, 1.2\n",
    "        contributions = [ (bands[0], 0.6, 0, 0), (bands[1], 0, 0.75, 0), (bands[2], 0, 0, 1.4) ]\n",
    "        # Could loop over sims\n",
    "        # Make RGB images of ALL instruments.\n",
    "        #fmax_ash, fn_ash = vis.makeConvolvedRGBImages(sim, \n",
    "        #                                                contributions=contributions, \n",
    "        #                                                fileType=output_type, \n",
    "        #                                                name=name,\n",
    "        #                                                stretch=np.arcsinh, \n",
    "        #                                                decades=5, \n",
    "        #                                                fmin=fmin_ash, \n",
    "        #                                                fmax=fmax_ash)\n",
    "        print(\"arcsinh\", fmin_ash, fmax_ash)\n",
    "\n",
    "        fmax_log0, fns_log0 = vis.makeConvolvedRGBImages(sim, \n",
    "                                                contributions=contributions, \n",
    "                                                fileType=output_type, \n",
    "                                                name=name,\n",
    "                                                stretch='log', \n",
    "                                                decades=decs[0],\n",
    "                                                fmin=fmin_log1, \n",
    "                                                fmax=fmax_log1)\n",
    "        fmax_log1, fns_log1 = vis.makeConvolvedRGBImages(sim, \n",
    "                                                contributions=contributions, \n",
    "                                                fileType=output_type, \n",
    "                                                name=name,\n",
    "                                                stretch='log', \n",
    "                                                decades=decs[1],\n",
    "                                                fmin=fmin_log2, \n",
    "                                                fmax=fmax_log2)\n",
    "        #fmin_log2, fmax_log2, fns_log2 = vis.makeConvolvedRGBImages(sim, \n",
    "        #                                        contributions=contributions, \n",
    "        #                                        fileType=output_type, \n",
    "        #                                        name=name,\n",
    "        #                                        stretch='log', \n",
    "        #                                        decades=decs[2],\n",
    "        #                                        fmin=fmin_log3, \n",
    "        #                                        fmax=fmax_log3,\n",
    "        #                                        return_fn=True)\n",
    "        #print(dec, fmin_log3, fmax_log3)\n",
    "        #all_fns.append(fns_log2)"
   ]
  },
  {
   "cell_type": "markdown",
   "metadata": {},
   "source": [
    "## Merge stamps"
   ]
  },
  {
   "cell_type": "code",
   "execution_count": 19,
   "metadata": {},
   "outputs": [],
   "source": [
    "im.histogram"
   ]
  },
  {
   "cell_type": "code",
   "execution_count": 20,
   "metadata": {},
   "outputs": [],
   "source": [
    "from PIL import ImageOps"
   ]
  },
  {
   "cell_type": "code",
   "execution_count": 36,
   "metadata": {
    "scrolled": true
   },
   "outputs": [
    {
     "name": "stdout",
     "output_type": "stream",
     "text": [
      "Age of the universe (now/z=0): -3.114 / 0.000 Gyr, z = 2.84816\n",
      "Age of the universe (now/z=0): -3.114 / 0.000 Gyr, z = 2.84816\n",
      "Simulation set up.\n",
      "Age of the universe (now/z=0): -3.051 / 0.000 Gyr, z = 2.78239\n",
      "Age of the universe (now/z=0): -3.051 / 0.000 Gyr, z = 2.78239\n",
      "Simulation set up.\n",
      "Age of the universe (now/z=0): -2.990 / 0.000 Gyr, z = 2.71959\n",
      "Age of the universe (now/z=0): -2.990 / 0.000 Gyr, z = 2.71959\n",
      "Simulation set up.\n",
      "Age of the universe (now/z=0): -2.931 / 0.000 Gyr, z = 2.65899\n",
      "Age of the universe (now/z=0): -2.931 / 0.000 Gyr, z = 2.65899\n",
      "Simulation set up.\n",
      "Age of the universe (now/z=0): -2.874 / 0.000 Gyr, z = 2.60104\n",
      "Age of the universe (now/z=0): -2.874 / 0.000 Gyr, z = 2.60104\n",
      "Simulation set up.\n",
      "Age of the universe (now/z=0): -2.819 / 0.000 Gyr, z = 2.54501\n",
      "Age of the universe (now/z=0): -2.819 / 0.000 Gyr, z = 2.54501\n",
      "Simulation set up.\n",
      "Age of the universe (now/z=0): -2.765 / 0.000 Gyr, z = 2.49096\n",
      "Age of the universe (now/z=0): -2.765 / 0.000 Gyr, z = 2.49096\n",
      "Simulation set up.\n",
      "Age of the universe (now/z=0): -2.714 / 0.000 Gyr, z = 2.43911\n",
      "Age of the universe (now/z=0): -2.714 / 0.000 Gyr, z = 2.43911\n",
      "Simulation set up.\n",
      "Age of the universe (now/z=0): -2.663 / 0.000 Gyr, z = 2.38883\n",
      "Age of the universe (now/z=0): -2.663 / 0.000 Gyr, z = 2.38883\n",
      "Simulation set up.\n",
      "Age of the universe (now/z=0): -2.614 / 0.000 Gyr, z = 2.34040\n",
      "Age of the universe (now/z=0): -2.614 / 0.000 Gyr, z = 2.34040\n",
      "Simulation set up.\n",
      "Age of the universe (now/z=0): -2.567 / 0.000 Gyr, z = 2.29380\n",
      "Age of the universe (now/z=0): -2.567 / 0.000 Gyr, z = 2.29380\n",
      "Simulation set up.\n",
      "Age of the universe (now/z=0): -2.520 / 0.000 Gyr, z = 2.24836\n",
      "Age of the universe (now/z=0): -2.520 / 0.000 Gyr, z = 2.24836\n",
      "Simulation set up.\n"
     ]
    }
   ],
   "source": [
    "rotate = False\n",
    "\n",
    "fig, axs = plt.subplots(3,4)\n",
    "fig.set_size_inches(8,6)\n",
    "axs = axs.ravel()\n",
    "\n",
    "\n",
    "ori ='faceon'\n",
    "getfn = lambda nout: f\"/home/hoseung/Work/data/NH/JP/01000/00{nout}/g13_{nout}_{ori}_total_SDSS_RGB_LQ_log_dec5.0.png\"\n",
    "\n",
    "target_nouts=[169, 174, 179, 183,\n",
    "              188, 193, 198, 202,\n",
    "              206, 211, 216, 221]\n",
    "\n",
    "crop_dx = 250\n",
    "npix=1000\n",
    "normalize=True\n",
    "\n",
    "for ax, nout in zip(axs,target_nouts):\n",
    "    fn = getfn(nout)\n",
    "    proj = fn.split(\"_total_\")[0][-6:]\n",
    "    im = Image.open(fn)\n",
    "    if rotate:\n",
    "        im = im.rotate(80)\n",
    "    if normalize:\n",
    "        ImageOps.autocontrast(im, cutoff=5)\n",
    "    im = im.crop((crop_dx,crop_dx,npix-crop_dx,npix-crop_dx))\n",
    "    #new_img_size = int((npix-2*crop_dx)/1)\n",
    "    #im = im.resize((new_img_size,new_img_size), resample=Image.BILINEAR)\n",
    "    \n",
    "    ax.imshow(im)\n",
    "    ax.set_yticks(())\n",
    "    ax.set_xticks(())\n",
    "    \n",
    "    s = pyram.load.sim.Sim(nout=nout, base='../')\n",
    "    if nout == target_nouts[0]:\n",
    "        t0 = s.info.tGyr\n",
    "        ax.text(0.05, 0.9, \"z={:.2f}\".format(s.info.zred), color='w', transform=ax.transAxes)\n",
    "    elif nout == target_nouts[-1]:\n",
    "        ax.text(0.05, 0.9, \"+{:.2}Gyr        z={:.2f}\".format(s.info.tGyr - t0, s.info.zred),\n",
    "                color='w', transform=ax.transAxes)\n",
    "    else:\n",
    "        ax.text(0.05, 0.9, \"+{:.2}Gyr\".format(s.info.tGyr - t0), color='w', transform=ax.transAxes)\n",
    "                \n",
    "fig.subplots_adjust(left=0.1, right=0.97, top=0.97,bottom=0.1, wspace=0.01, hspace = .01)\n",
    "\n",
    "# turn off ticks\n",
    "axs = axs.reshape(3,4)\n",
    "for ax in axs[:,0]:\n",
    "    ax.set_yticks((50,175,300)) # 1000 : 60 -> new_im....\n",
    "    ax.set_yticklabels([\"15\", \"0\", \"-15\"])\n",
    "\n",
    "for ax in axs[2,:]:\n",
    "    ax.set_xticks((50,175,300))\n",
    "    ax.set_xticklabels([\"-15\", \"0\", \"15\"])\n",
    "\n",
    "fig.text(0.54, 0.04, 'kpc', va='center', ha='center', fontsize=rcParams['axes.labelsize'])\n",
    "fig.text(0.04, 0.54, 'kpc', va='center', ha='center', rotation='vertical', fontsize=rcParams['axes.labelsize'])\n",
    "plt.savefig(\"sequence_\" + proj + fn.split(\".png\")[0][-11:-1]+\"UGI.pdf\", dpi=300)\n",
    "plt.close()"
   ]
  },
  {
   "cell_type": "markdown",
   "metadata": {},
   "source": [
    "Smoothing?"
   ]
  },
  {
   "cell_type": "code",
   "execution_count": 4,
   "metadata": {},
   "outputs": [],
   "source": [
    "# SED plot\n",
    "micron = sm.unit(\"micron\")\n",
    "vis.plotSeds(sim, decades=4, figSize=(7,5), outFileName=\"try1_sed.png\")"
   ]
  },
  {
   "cell_type": "code",
   "execution_count": null,
   "metadata": {},
   "outputs": [],
   "source": []
  }
 ],
 "metadata": {
  "kernelspec": {
   "display_name": "Python 3.7.6 64-bit ('hspy': conda)",
   "language": "python",
   "name": "python37664bithspycondaf1b9afa9fd5c47a989947b56d492bb30"
  },
  "language_info": {
   "codemirror_mode": {
    "name": "ipython",
    "version": 3
   },
   "file_extension": ".py",
   "mimetype": "text/x-python",
   "name": "python",
   "nbconvert_exporter": "python",
   "pygments_lexer": "ipython3",
   "version": "3.7.7"
  },
  "toc": {
   "base_numbering": 1,
   "nav_menu": {},
   "number_sections": true,
   "sideBar": true,
   "skip_h1_title": false,
   "title_cell": "Table of Contents",
   "title_sidebar": "Contents",
   "toc_cell": false,
   "toc_position": {},
   "toc_section_display": true,
   "toc_window_display": false
  }
 },
 "nbformat": 4,
 "nbformat_minor": 4
}
