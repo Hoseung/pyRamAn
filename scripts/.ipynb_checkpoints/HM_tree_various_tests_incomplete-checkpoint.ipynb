{
 "cells": [
  {
   "cell_type": "code",
   "execution_count": 25,
   "metadata": {
    "collapsed": false
   },
   "outputs": [],
   "source": [
    "from scipy.io.idl import readsav\n",
    "import sys\n",
    "sys.path.append(\"/home/hoseung/Work/pyclusterevol/\")\n",
    "import numpy as np\n",
    "\n",
    "\n",
    "def print_halo(halo):\n",
    "    for names in halo.dtype.names:\n",
    "        print(names, data[names][0])  #, data[names].shape)\n",
    "\n",
    "\n",
    "def norm_halo(halo, info):\n",
    "    # To do: Check if it is already normalized or not\n",
    "    halo['p'][0][0] = halo['p'][0][0] / info.pboxsize + 0.5\n",
    "    halo['p'][0][1] = halo['p'][0][1] / info.pboxsize + 0.5\n",
    "    halo['p'][0][2] = halo['p'][0][2] / info.pboxsize + 0.5\n",
    "    halo['r'][0] = halo['r'][0] / info.pboxsize\n",
    "    halo['rvir'][0] = halo['rvir'][0] / info.pboxsize\n",
    "    halo['m'][0] = halo['m'][0] * 1e11\n",
    "\n",
    "\n",
    "def load_data(nout):\n",
    "    from sim import load  # Separate load_info!\n",
    "    snout = str(nout).zfill(3)\n",
    "    data = readsav(work_dir + 'halo/halo' + snout + '.sav')['h']\n",
    "\n",
    "    info = load.Info(nout=nout, base=work_dir)\n",
    "    info.read_info()\n",
    "    norm_halo(data, info)\n",
    "    return data\n",
    "\n",
    "\n",
    "def match_list_ind(arr1, arr2, side='left'):\n",
    "    import numpy as np\n",
    "    if len(arr1) > len(arr2):\n",
    "        bigArr = arr1\n",
    "        smallArr = arr2\n",
    "    else:\n",
    "        bigArr = arr2\n",
    "        smallArr = arr1\n",
    "\n",
    "    # sort big array so that we can you bisection method, which is fast.\n",
    "    sortedind = np.argsort(bigArr)\n",
    "    sortedbigArr = bigArr[sortedind]\n",
    "    sorted_index = np.searchsorted(sortedbigArr, smallArr)\n",
    "    smallindex = np.take(sortedind, sorted_index, mode=\"clip\")\n",
    "    mask = bigArr[smallindex] != smallArr\n",
    "\n",
    "    return np.ma.array(smallindex, mask=mask).compressed()\n",
    "\n",
    "def load_tree():\n",
    "    from astropy.io import fits\n",
    "    from astropy.table import Table\n",
    "    work_dir = \"/home/hoseung/Work/data/\"\n",
    "    data = fits.getdata(work_dir + \"DMO/tree/tree_eccen_v2.fits\", 1)\n",
    "\n",
    "    return Table(data)\n",
    "\n",
    "def get_idx(tree, hnus, nout=None):\n",
    "    i_nout = np.where(tree.field('NOUT') == nout)\n",
    "    i_halo = match_list_ind(tree[i_nout].field('HALNUM'), hnus)\n",
    "\n",
    "    return tree[i_nout[i_halo]].field('IDX')\n",
    "\n",
    "\n",
    "def filter_halo_mass(data, Mcut=None):\n",
    "    m = np.array(data['m'][0])\n",
    "    #ind = m > Mcut\n",
    "    #print(\"# of halos:\",sum(ind))\n",
    "    ind =np.where(m > Mcut)[0]\n",
    "    print(\"# of halos:\",len(ind))\n",
    "    return ind\n",
    "\n",
    "\n",
    "def n_most_massive(data, mass_count=1000):\n",
    "    m = np.array(data['m'][0])\n",
    "    i = np.argsort(m)\n",
    "    ind = i[:-1 - mass_count:-1]\n",
    "    return ind\n",
    "    \n",
    "    \n",
    "def filter_halo_pnum(data, Ncut=1000):\n",
    "    npart = np.array(data['np'][0])\n",
    "    ind =np.where(npart > Ncut)[0]\n",
    "    print(\"# of halos:\",len(ind))\n",
    "    return ind\n",
    "\n",
    "\n",
    "def realistic(data, Mcut=None, halo_id=None):\n",
    "    m = np.array(data['m'][0])\n",
    "    i_massive = m > Mcut\n",
    "    return i_massive\n",
    "\n",
    "\n",
    "def sort_important(ind, ind_important, descending=False, ascending=False):\n",
    "    if descending is False and ascending is False:\n",
    "        descending = True\n",
    "\n",
    "    n_importrant=len(ind_important)\n",
    "    print('len',len(ind_important))\n",
    "    ind_new = ind_important\n",
    "    print(\"\")\n",
    "    print(ind_important)\n",
    "    print(ind_new)\n",
    "    mask = np.zeros(len(ind), dtype=bool) # ones = True, zeros = False.\n",
    "    mask[ind_important] = True\n",
    "    print(ind[mask])\n",
    "    #ind_new[n_importrant:] = ind[mask]\n",
    "    print(np.shape(mask))\n",
    "    return np.concatenate(ind_new,ind[mask[0]])\n",
    "\n",
    "def distance_to(xc, xp):\n",
    "    import numpy as np    \n",
    "    return np.sqrt([(xc[0] - xp[0])**2 + (xc[1] - xp[1])**2 + (xc[2] - xp[2])**2])\n",
    "    \n",
    "\n",
    "def extract_cluster_halo(halo, scale=1.0):\n",
    "    import numpy as np\n",
    "    i_center = np.where(halo['np'][0] == max(halo['np'][0]))\n",
    "    r_center = halo['rvir'][0][i_center]\n",
    "    xc = halo['p'][0][0][i_center]\n",
    "    yc = halo['p'][0][1][i_center]\n",
    "    zc = halo['p'][0][2][i_center]\n",
    "    \n",
    "    xx = halo['p'][0][0]\n",
    "    yy = halo['p'][0][1]\n",
    "    zz = halo['p'][0][2]    \n",
    "    dd = distance_to([xc,yc,zc],[xx,yy,zz])\n",
    "    print(dd < r_center)\n",
    "    return dd < r_center\n",
    "    "
   ]
  },
  {
   "cell_type": "code",
   "execution_count": 32,
   "metadata": {
    "collapsed": false
   },
   "outputs": [
    {
     "data": {
      "text/plain": [
       "0.72952098"
      ]
     },
     "execution_count": 32,
     "metadata": {},
     "output_type": "execute_result"
    }
   ],
   "source": [
    "xc = data['p'][0][0][302]\n",
    "yc = data['p'][0][0][302]\n",
    "xc"
   ]
  },
  {
   "cell_type": "code",
   "execution_count": 30,
   "metadata": {
    "collapsed": false
   },
   "outputs": [
    {
     "data": {
      "text/plain": [
       "array([ 0.12488341,  0.22888297,  0.05993792, ...,  0.77194846,\n",
       "        0.72424001,  0.57518286], dtype=float32)"
      ]
     },
     "execution_count": 30,
     "metadata": {},
     "output_type": "execute_result"
    }
   ],
   "source": [
    "xx = data['p'][0][0]\n",
    "xx"
   ]
  },
  {
   "cell_type": "code",
   "execution_count": 31,
   "metadata": {
    "collapsed": false
   },
   "outputs": [
    {
     "ename": "ValueError",
     "evalue": "operands could not be broadcast together with shapes (8150,) (1454,) ",
     "output_type": "error",
     "traceback": [
      "\u001b[1;31m---------------------------------------------------------------------------\u001b[0m\n\u001b[1;31mValueError\u001b[0m                                Traceback (most recent call last)",
      "\u001b[1;32m<ipython-input-31-add450136be9>\u001b[0m in \u001b[0;36m<module>\u001b[1;34m()\u001b[0m\n\u001b[1;32m----> 1\u001b[1;33m \u001b[0mxx\u001b[0m \u001b[1;33m-\u001b[0m \u001b[0mx\u001b[0m\u001b[1;33m\u001b[0m\u001b[0m\n\u001b[0m",
      "\u001b[1;31mValueError\u001b[0m: operands could not be broadcast together with shapes (8150,) (1454,) "
     ]
    }
   ],
   "source": [
    "xx - x"
   ]
  },
  {
   "cell_type": "code",
   "execution_count": 26,
   "metadata": {
    "collapsed": false
   },
   "outputs": [
    {
     "name": "stdout",
     "output_type": "stream",
     "text": [
      "0 132\n",
      "[[False False False ..., False False False]]\n",
      "[[False False False ..., False False False]]\n"
     ]
    },
    {
     "ename": "IndexError",
     "evalue": "too many indices for array",
     "output_type": "error",
     "traceback": [
      "\u001b[1;31m---------------------------------------------------------------------------\u001b[0m\n\u001b[1;31mIndexError\u001b[0m                                Traceback (most recent call last)",
      "\u001b[1;32m<ipython-input-26-5741872fab33>\u001b[0m in \u001b[0;36m<module>\u001b[1;34m()\u001b[0m\n\u001b[0;32m     39\u001b[0m             \u001b[0mnhalo\u001b[0m \u001b[1;33m=\u001b[0m \u001b[0mlen\u001b[0m\u001b[1;33m(\u001b[0m\u001b[0mind\u001b[0m\u001b[1;33m)\u001b[0m\u001b[1;33m\u001b[0m\u001b[0m\n\u001b[0;32m     40\u001b[0m \u001b[1;33m\u001b[0m\u001b[0m\n\u001b[1;32m---> 41\u001b[1;33m     \u001b[0mx\u001b[0m \u001b[1;33m=\u001b[0m \u001b[0mdata\u001b[0m\u001b[1;33m[\u001b[0m\u001b[1;34m'p'\u001b[0m\u001b[1;33m]\u001b[0m\u001b[1;33m[\u001b[0m\u001b[1;36m0\u001b[0m\u001b[1;33m]\u001b[0m\u001b[1;33m[\u001b[0m\u001b[1;36m0\u001b[0m\u001b[1;33m]\u001b[0m\u001b[1;33m[\u001b[0m\u001b[0mind\u001b[0m\u001b[1;33m]\u001b[0m\u001b[1;33m\u001b[0m\u001b[0m\n\u001b[0m\u001b[0;32m     42\u001b[0m     \u001b[0my\u001b[0m \u001b[1;33m=\u001b[0m \u001b[0mdata\u001b[0m\u001b[1;33m[\u001b[0m\u001b[1;34m'p'\u001b[0m\u001b[1;33m]\u001b[0m\u001b[1;33m[\u001b[0m\u001b[1;36m0\u001b[0m\u001b[1;33m]\u001b[0m\u001b[1;33m[\u001b[0m\u001b[1;36m1\u001b[0m\u001b[1;33m]\u001b[0m\u001b[1;33m[\u001b[0m\u001b[0mind\u001b[0m\u001b[1;33m]\u001b[0m\u001b[1;33m\u001b[0m\u001b[0m\n\u001b[0;32m     43\u001b[0m     \u001b[0mz\u001b[0m \u001b[1;33m=\u001b[0m \u001b[0mdata\u001b[0m\u001b[1;33m[\u001b[0m\u001b[1;34m'p'\u001b[0m\u001b[1;33m]\u001b[0m\u001b[1;33m[\u001b[0m\u001b[1;36m0\u001b[0m\u001b[1;33m]\u001b[0m\u001b[1;33m[\u001b[0m\u001b[1;36m2\u001b[0m\u001b[1;33m]\u001b[0m\u001b[1;33m[\u001b[0m\u001b[0mind\u001b[0m\u001b[1;33m]\u001b[0m\u001b[1;33m\u001b[0m\u001b[0m\n",
      "\u001b[1;31mIndexError\u001b[0m: too many indices for array"
     ]
    }
   ],
   "source": [
    "#%%\n",
    "''' Cluster 05101, cluster subhaloes (at the final snapshot)\n",
    "'''\n",
    "options = ['N most massive', '>1e13', 'nDM', 'cluster']\n",
    "option = options[3]\n",
    "n_massive = 500\n",
    "include_id = False\n",
    "fixed_position = True\n",
    "Ncut = 120\n",
    "work_dir = '/home/hoseung/Work/data/AGN2/'\n",
    "nout_ini = 131\n",
    "nout_fi = 132\n",
    "nouts = range(nout_fi, nout_ini, -1)\n",
    "Nnouts = len(nouts)\n",
    "\n",
    "try:\n",
    "    f = open(work_dir + 'satellite_halos.txt', 'w')\n",
    "except:\n",
    "    print(\"No filename is given.\\n Try write_halo_xyz(x,y,z,r,filename = fn)\")\n",
    "    \n",
    "from tree import TMtree\n",
    "for inout, nout in enumerate(nouts):\n",
    "    print(inout, nout)\n",
    "    data = load_data(nout) # load .sav halo file and normalize it to code unit.\n",
    "#    fname = work_dir + 'halos_py/halos_' + '031' + '.pickle'\n",
    "#    data = load_halo_py(fname)\n",
    "    extract_cluster_halo(data)\n",
    "# filter halos\n",
    "    if inout is 0:\n",
    "        if option is 'N most massive':\n",
    "            ind = n_most_massive(data, mass_count = n_massive)\n",
    "        elif option is '>1e13':\n",
    "            ind = filter_halo_mass(data, Mcut=1e13)\n",
    "        elif option is 'nDM':\n",
    "            ind = filter_halo_pnum(data, Ncut=Ncut)\n",
    "        elif option is 'cluster':\n",
    "            ind = extract_cluster_halo(data, scale=2.0)\n",
    "        if nout is max(nouts):\n",
    "            nhalo = len(ind) \n",
    "    \n",
    "    x = data['p'][0][0][ind]\n",
    "    y = data['p'][0][1][ind]\n",
    "    z = data['p'][0][2][ind]\n",
    "    r = data['rvir'][0][ind]\n",
    "\n",
    "#    if nout is max(nouts):\n",
    "#        with open('ID list', 'r') as f:\n",
    "\n",
    "    if include_id is True:\n",
    "         dd = np.column_stack([x, y, z, r, data['hnu'][0][ind]])\n",
    "         for i in range(dd.shape[0]):\n",
    "             f.write(\"{0}   {1}   {2}   {3}  {4}  {5}\\n\".format(\n",
    "                     i,dd[i][0],dd[i][1],dd[i][2],dd[i][3],int(dd[i][4])))\n",
    "    else:\n",
    "        dd = np.column_stack([x, y, z, r])\n",
    "        for i in range(dd.shape[0]):\n",
    "             f.write(\"{0}   {1}   {2}   {3}  {4}\\n\".format(\n",
    "                     i,dd[i][0],dd[i][1],dd[i][2],dd[i][3]))\n",
    "#    elif option is 'realistic':\n",
    "#        if nout is nout_fi:\n",
    "#            idx, dd_tmp = realistic(data, Mcut=1e13)\n",
    "#            dd = np.column_stack(dd_tmp)\n",
    "\n",
    "f.close()    \n",
    "    "
   ]
  },
  {
   "cell_type": "code",
   "execution_count": null,
   "metadata": {
    "collapsed": false
   },
   "outputs": [],
   "source": []
  }
 ],
 "metadata": {
  "kernelspec": {
   "display_name": "Python 3",
   "language": "python",
   "name": "python3"
  },
  "language_info": {
   "codemirror_mode": {
    "name": "ipython",
    "version": 3
   },
   "file_extension": ".py",
   "mimetype": "text/x-python",
   "name": "python",
   "nbconvert_exporter": "python",
   "pygments_lexer": "ipython3",
   "version": "3.4.3"
  }
 },
 "nbformat": 4,
 "nbformat_minor": 0
}
