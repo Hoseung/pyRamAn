{
 "cells": [
  {
   "cell_type": "code",
   "execution_count": 1,
   "metadata": {
    "collapsed": true
   },
   "outputs": [],
   "source": [
    "import tree"
   ]
  },
  {
   "cell_type": "code",
   "execution_count": 2,
   "metadata": {
    "collapsed": true
   },
   "outputs": [],
   "source": [
    "hmo = tree.halomodule"
   ]
  },
  {
   "cell_type": "code",
   "execution_count": 31,
   "metadata": {
    "collapsed": false
   },
   "outputs": [],
   "source": [
    "wdir = \"/home/hoseung/Work/data/05427/\"\n",
    "hh = hmo.Halo(nout=187, base=wdir, halofinder=\"HM\", load=True, is_gal=True)"
   ]
  },
  {
   "cell_type": "code",
   "execution_count": 33,
   "metadata": {
    "collapsed": false
   },
   "outputs": [],
   "source": [
    "data = hh.data\n",
    "import load\n",
    "info = load.info.Info()\n",
    "info.setup(nout=187, base=wdir)\n",
    "#info.load()\n",
    "\n",
    "x = data['x']# * info.pboxsize\n",
    "y = data['y']# * info.pboxsize\n",
    "z = data['z']# * info.pboxsize\n",
    "vx = data['vx']# * info.kms\n",
    "vy = data['vy']# * info.kms\n",
    "vz = data['vz']# * info.kms\n",
    "r = data['rvir']# * info.pboxsize\n",
    "m = data['mvir']\n",
    "m2 = data['m']\n",
    "ids = data['id']\n",
    "\n",
    "f = open('galaxy_catalog_05427.txt', 'w')\n",
    "\n",
    "f.write(\" #      ID        x          y         z[codeunit]     vx      vy     vz[km/s]\")\n",
    "f.write(\"    Rvir[codeunit]      Mvir      Mass\\n\")\n",
    "\n",
    "for i in range(len(x)):\n",
    "    f.write(\"{:<4}   {:<4}   {:.9f}  {:.9f}  {:.9f}\".format(i,ids[i],x[i],y[i],z[i]))\n",
    "    f.write(\"  {:.3f}  {:.3f}  {:.3f}\".format(vx[i],vy[i],vz[i], 9))\n",
    "    f.write(\"  {:.9f}  {:.0f}  {:.0f}     \\n\".format(r[i],m[i],m2[i]))\n",
    "    \n",
    "    \n",
    "f.close()"
   ]
  },
  {
   "cell_type": "code",
   "execution_count": null,
   "metadata": {
    "collapsed": true
   },
   "outputs": [],
   "source": []
  }
 ],
 "metadata": {
  "kernelspec": {
   "display_name": "Python 3",
   "language": "python",
   "name": "python3"
  },
  "language_info": {
   "codemirror_mode": {
    "name": "ipython",
    "version": 3
   },
   "file_extension": ".py",
   "mimetype": "text/x-python",
   "name": "python",
   "nbconvert_exporter": "python",
   "pygments_lexer": "ipython3",
   "version": "3.4.3"
  }
 },
 "nbformat": 4,
 "nbformat_minor": 0
}
