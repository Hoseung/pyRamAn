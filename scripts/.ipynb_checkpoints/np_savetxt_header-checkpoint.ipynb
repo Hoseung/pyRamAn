{
 "cells": [
  {
   "cell_type": "markdown",
   "metadata": {},
   "source": [
    "#### Save"
   ]
  },
  {
   "cell_type": "code",
   "execution_count": 28,
   "metadata": {
    "collapsed": false
   },
   "outputs": [],
   "source": [
    "import numpy as np\n",
    "\n",
    "## numpy.savetxt(fname, X, fmt='%.18e', delimiter=' ', newline='\\n', header='', footer='', comments='# ')\n",
    "\n",
    "a = np.random.random(10)\n",
    "b = np.floor(np.random.random(10) * 100).astype(int)\n",
    "fmt = \"%.5f  %4i\"\n",
    "delimiter = '  '\n",
    "header = \"random value\"\n",
    "fname = 'text_np_savetxt.txt'\n",
    "# Save\n",
    "np.savetxt(fname, np.c_[a,b], fmt=fmt, header=header)"
   ]
  },
  {
   "cell_type": "code",
   "execution_count": 33,
   "metadata": {
    "collapsed": false
   },
   "outputs": [
    {
     "name": "stdout",
     "output_type": "stream",
     "text": [
      "# random value\r\n",
      "0.84629    56\r\n",
      "0.54606     7\r\n",
      "0.44002    50\r\n",
      "0.19411    58\r\n",
      "0.47539    87\r\n",
      "0.30121    79\r\n",
      "0.50781    86\r\n",
      "0.15110    97\r\n",
      "0.88208    44\r\n",
      "0.72905    72\r\n"
     ]
    }
   ],
   "source": [
    "!cat text_np_savetxt.txt"
   ]
  },
  {
   "cell_type": "markdown",
   "metadata": {},
   "source": [
    "####  Load"
   ]
  },
  {
   "cell_type": "code",
   "execution_count": 31,
   "metadata": {
    "collapsed": true
   },
   "outputs": [],
   "source": [
    "## numpy.loadtxt(fname, dtype=<type 'float'>, comments='#', delimiter=None, converters=None, skiprows=0, usecols=None, unpack=False, ndmin=0)[source]\n",
    "\n",
    "# 1) Because the header is commented, skiprows=0 still skips the header. \n",
    "# 2) unpack=True returns multiple variables. (each column to each variable!)\n",
    "\n",
    "x,y = np.loadtxt(fname, dtype = 'float, int', skiprows=0, unpack=True)"
   ]
  },
  {
   "cell_type": "code",
   "execution_count": 34,
   "metadata": {
    "collapsed": false
   },
   "outputs": [
    {
     "name": "stdout",
     "output_type": "stream",
     "text": [
      "[ 0.84629  0.54606  0.44002  0.19411  0.47539  0.30121  0.50781  0.1511\n",
      "  0.88208  0.72905] \n",
      " [56  7 50 58 87 79 86 97 44 72]\n"
     ]
    }
   ],
   "source": [
    "print(x, '\\n', y)"
   ]
  },
  {
   "cell_type": "code",
   "execution_count": null,
   "metadata": {
    "collapsed": true
   },
   "outputs": [],
   "source": []
  }
 ],
 "metadata": {
  "kernelspec": {
   "display_name": "Python 3",
   "language": "python",
   "name": "python3"
  },
  "language_info": {
   "codemirror_mode": {
    "name": "ipython",
    "version": 3
   },
   "file_extension": ".py",
   "mimetype": "text/x-python",
   "name": "python",
   "nbconvert_exporter": "python",
   "pygments_lexer": "ipython3",
   "version": "3.4.3"
  }
 },
 "nbformat": 4,
 "nbformat_minor": 0
}
