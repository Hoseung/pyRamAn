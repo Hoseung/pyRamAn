{
 "cells": [
  {
   "cell_type": "markdown",
   "metadata": {},
   "source": [
    "# 2d maps\n",
    "stellar/DM density maps, gas density/temperature/metallicity maps"
   ]
  },
  {
   "cell_type": "markdown",
   "metadata": {},
   "source": [
    "Related methods. \n",
    "\n",
    "pp.den2d, pp.part2den, draw.img,..\n",
    "\n",
    "\n",
    "def den2d(x, y, z, m, npix, region=None,\n",
    "                    ngp=False, cic=False, tsc=False,\n",
    "                    vmin=None, vmax=None, verbose=False,\n",
    "                    norm_integer=False):\n",
    "    \"\"\"\n",
    "        accept view of x,y,z, arrays and return 2D projected density map.\n",
    "\n",
    "        assignment funciton (ngp, cic, tsc) takes these arrays.\n",
    "        But no modification is required.\n",
    "    \"\"\"\n",
    "    \n",
    "    \n"
   ]
  },
  {
   "cell_type": "code",
   "execution_count": 3,
   "metadata": {
    "collapsed": false
   },
   "outputs": [
    {
     "ename": "FileNotFoundError",
     "evalue": "[Errno 2] No such file or directory: './snapshots/output_00187/info_00187.txt'",
     "output_type": "error",
     "traceback": [
      "\u001b[1;31m---------------------------------------------------------------------------\u001b[0m",
      "\u001b[1;31mFileNotFoundError\u001b[0m                         Traceback (most recent call last)",
      "\u001b[1;32m<ipython-input-3-3b1b979a6499>\u001b[0m in \u001b[0;36m<module>\u001b[1;34m()\u001b[0m\n\u001b[0;32m      9\u001b[0m \u001b[0mnout\u001b[0m\u001b[1;33m=\u001b[0m\u001b[1;36m187\u001b[0m\u001b[1;33m\u001b[0m\u001b[0m\n\u001b[0;32m     10\u001b[0m \u001b[1;33m\u001b[0m\u001b[0m\n\u001b[1;32m---> 11\u001b[1;33m \u001b[0minfo\u001b[0m \u001b[1;33m=\u001b[0m \u001b[0mload\u001b[0m\u001b[1;33m.\u001b[0m\u001b[0minfo\u001b[0m\u001b[1;33m.\u001b[0m\u001b[0mInfo\u001b[0m\u001b[1;33m(\u001b[0m\u001b[0mnout\u001b[0m\u001b[1;33m=\u001b[0m\u001b[0mnout\u001b[0m\u001b[1;33m,\u001b[0m \u001b[0mbase\u001b[0m\u001b[1;33m=\u001b[0m\u001b[0mwdir\u001b[0m\u001b[1;33m,\u001b[0m \u001b[0mload\u001b[0m\u001b[1;33m=\u001b[0m\u001b[1;32mTrue\u001b[0m\u001b[1;33m)\u001b[0m\u001b[1;33m\u001b[0m\u001b[0m\n\u001b[0m\u001b[0;32m     12\u001b[0m \u001b[1;33m\u001b[0m\u001b[0m\n\u001b[0;32m     13\u001b[0m \u001b[1;31m# 2. options\u001b[0m\u001b[1;33m\u001b[0m\u001b[1;33m\u001b[0m\u001b[0m\n",
      "\u001b[1;32m/home/hoseung/Copy/pyclusterevol/load/info.py\u001b[0m in \u001b[0;36m__init__\u001b[1;34m(self, nout, base, fn, load)\u001b[0m\n\u001b[0;32m     12\u001b[0m                  fn = None, load=False):\n\u001b[0;32m     13\u001b[0m         \u001b[1;32mif\u001b[0m \u001b[0mnout\u001b[0m \u001b[1;32mis\u001b[0m \u001b[1;32mnot\u001b[0m \u001b[1;32mNone\u001b[0m \u001b[1;32mor\u001b[0m \u001b[0mbase\u001b[0m \u001b[1;32mis\u001b[0m \u001b[1;32mnot\u001b[0m \u001b[1;32mNone\u001b[0m \u001b[1;32mor\u001b[0m \u001b[0mfn\u001b[0m \u001b[1;32mis\u001b[0m \u001b[1;32mnot\u001b[0m \u001b[1;32mNone\u001b[0m\u001b[1;33m:\u001b[0m\u001b[1;33m\u001b[0m\u001b[0m\n\u001b[1;32m---> 14\u001b[1;33m             \u001b[0mself\u001b[0m\u001b[1;33m.\u001b[0m\u001b[0msetup\u001b[0m\u001b[1;33m(\u001b[0m\u001b[0mnout\u001b[0m\u001b[1;33m=\u001b[0m\u001b[0mnout\u001b[0m\u001b[1;33m,\u001b[0m \u001b[0mbase\u001b[0m\u001b[1;33m=\u001b[0m\u001b[0mbase\u001b[0m\u001b[1;33m,\u001b[0m \u001b[0mfn\u001b[0m\u001b[1;33m=\u001b[0m\u001b[0mfn\u001b[0m\u001b[1;33m)\u001b[0m\u001b[1;33m\u001b[0m\u001b[0m\n\u001b[0m\u001b[0;32m     15\u001b[0m         \u001b[1;32mif\u001b[0m \u001b[0mload\u001b[0m\u001b[1;33m:\u001b[0m\u001b[1;33m\u001b[0m\u001b[0m\n\u001b[0;32m     16\u001b[0m             \u001b[0mself\u001b[0m\u001b[1;33m.\u001b[0m\u001b[0mread_info\u001b[0m\u001b[1;33m(\u001b[0m\u001b[1;33m)\u001b[0m\u001b[1;33m\u001b[0m\u001b[0m\n",
      "\u001b[1;32m/home/hoseung/Copy/pyclusterevol/load/info.py\u001b[0m in \u001b[0;36msetup\u001b[1;34m(self, nout, base, fn)\u001b[0m\n\u001b[0;32m     30\u001b[0m \u001b[1;33m\u001b[0m\u001b[0m\n\u001b[0;32m     31\u001b[0m         \u001b[1;32mif\u001b[0m \u001b[0mself\u001b[0m\u001b[1;33m.\u001b[0m\u001b[0mall_set\u001b[0m\u001b[1;33m(\u001b[0m\u001b[1;33m)\u001b[0m\u001b[1;33m:\u001b[0m\u001b[1;33m\u001b[0m\u001b[0m\n\u001b[1;32m---> 32\u001b[1;33m             \u001b[0mself\u001b[0m\u001b[1;33m.\u001b[0m\u001b[0mread_info\u001b[0m\u001b[1;33m(\u001b[0m\u001b[1;33m)\u001b[0m  \u001b[1;31m# sets ncpu_tot,\u001b[0m\u001b[1;33m\u001b[0m\u001b[0m\n\u001b[0m\u001b[0;32m     33\u001b[0m \u001b[1;33m\u001b[0m\u001b[0m\n\u001b[0;32m     34\u001b[0m \u001b[1;33m\u001b[0m\u001b[0m\n",
      "\u001b[1;32m/home/hoseung/Copy/pyclusterevol/load/info.py\u001b[0m in \u001b[0;36mread_info\u001b[1;34m(self, base, nout, verbose)\u001b[0m\n\u001b[0;32m    147\u001b[0m     \u001b[1;32mdef\u001b[0m \u001b[0mread_info\u001b[0m\u001b[1;33m(\u001b[0m\u001b[0mself\u001b[0m\u001b[1;33m,\u001b[0m \u001b[0mbase\u001b[0m\u001b[1;33m=\u001b[0m\u001b[1;32mNone\u001b[0m\u001b[1;33m,\u001b[0m \u001b[0mnout\u001b[0m\u001b[1;33m=\u001b[0m\u001b[1;32mNone\u001b[0m\u001b[1;33m,\u001b[0m \u001b[0mverbose\u001b[0m\u001b[1;33m=\u001b[0m\u001b[1;32mFalse\u001b[0m\u001b[1;33m)\u001b[0m\u001b[1;33m:\u001b[0m\u001b[1;33m\u001b[0m\u001b[0m\n\u001b[0;32m    148\u001b[0m         \u001b[1;34m\"\"\" backward compatibility. but use .load instead\"\"\"\u001b[0m\u001b[1;33m\u001b[0m\u001b[0m\n\u001b[1;32m--> 149\u001b[1;33m         \u001b[0mself\u001b[0m\u001b[1;33m.\u001b[0m\u001b[0mload\u001b[0m\u001b[1;33m(\u001b[0m\u001b[0mbase\u001b[0m\u001b[1;33m=\u001b[0m\u001b[0mbase\u001b[0m\u001b[1;33m,\u001b[0m \u001b[0mnout\u001b[0m\u001b[1;33m=\u001b[0m\u001b[0mnout\u001b[0m\u001b[1;33m,\u001b[0m \u001b[0mverbose\u001b[0m\u001b[1;33m=\u001b[0m\u001b[0mverbose\u001b[0m\u001b[1;33m)\u001b[0m\u001b[1;33m\u001b[0m\u001b[0m\n\u001b[0m\u001b[0;32m    150\u001b[0m \u001b[1;33m\u001b[0m\u001b[0m\n\u001b[0;32m    151\u001b[0m     \u001b[1;32mdef\u001b[0m \u001b[0mload\u001b[0m\u001b[1;33m(\u001b[0m\u001b[0mself\u001b[0m\u001b[1;33m,\u001b[0m \u001b[0mbase\u001b[0m\u001b[1;33m=\u001b[0m\u001b[1;32mNone\u001b[0m\u001b[1;33m,\u001b[0m \u001b[0mnout\u001b[0m\u001b[1;33m=\u001b[0m\u001b[1;32mNone\u001b[0m\u001b[1;33m,\u001b[0m \u001b[0mverbose\u001b[0m\u001b[1;33m=\u001b[0m\u001b[1;32mFalse\u001b[0m\u001b[1;33m)\u001b[0m\u001b[1;33m:\u001b[0m\u001b[1;33m\u001b[0m\u001b[0m\n",
      "\u001b[1;32m/home/hoseung/Copy/pyclusterevol/load/info.py\u001b[0m in \u001b[0;36mload\u001b[1;34m(self, base, nout, verbose)\u001b[0m\n\u001b[0;32m    170\u001b[0m             \u001b[0mprint\u001b[0m\u001b[1;33m(\u001b[0m\u001b[0mself\u001b[0m\u001b[1;33m.\u001b[0m\u001b[0mfn\u001b[0m\u001b[1;33m)\u001b[0m\u001b[1;33m\u001b[0m\u001b[0m\n\u001b[0;32m    171\u001b[0m \u001b[1;33m\u001b[0m\u001b[0m\n\u001b[1;32m--> 172\u001b[1;33m         \u001b[1;32mwith\u001b[0m \u001b[0mopen\u001b[0m\u001b[1;33m(\u001b[0m\u001b[0mself\u001b[0m\u001b[1;33m.\u001b[0m\u001b[0mfn\u001b[0m\u001b[1;33m)\u001b[0m \u001b[1;32mas\u001b[0m \u001b[0mf\u001b[0m\u001b[1;33m:\u001b[0m\u001b[1;33m\u001b[0m\u001b[0m\n\u001b[0m\u001b[0;32m    173\u001b[0m             \u001b[0marr1\u001b[0m \u001b[1;33m=\u001b[0m \u001b[1;33m[\u001b[0m\u001b[1;33m]\u001b[0m\u001b[1;33m\u001b[0m\u001b[0m\n\u001b[0;32m    174\u001b[0m             \u001b[0marr2\u001b[0m \u001b[1;33m=\u001b[0m \u001b[1;33m[\u001b[0m\u001b[1;33m]\u001b[0m\u001b[1;33m\u001b[0m\u001b[0m\n",
      "\u001b[1;31mFileNotFoundError\u001b[0m: [Errno 2] No such file or directory: './snapshots/output_00187/info_00187.txt'"
     ]
    }
   ],
   "source": [
    "import load \n",
    "import utils.sampling as smp\n",
    "import tree.halomodule as hmo \n",
    "import numpy as np\n",
    "import utils.util\n",
    "# run time parameters\n",
    "# 1. simulation parameter\n",
    "wdir = './'\n",
    "\n",
    "nout=187\n",
    "\n",
    "info = load.info.Info(nout=nout, base=wdir, load=True)\n",
    "\n",
    "# 2. options \n",
    "rscale = 2\n",
    "\n",
    "\n",
    "# Find the central cluster.\n",
    "hh = hmo.Halo(base=wdir, nout=nout, halofinder='HM', info=info)\n",
    "hh.load()\n",
    "i_center = np.where(hh.data['np'] == max(hh.data['np']))\n",
    "cluster = hh.data[i_center]\n",
    "xc, yc, zc, rr = cluster.x, cluster.y, cluster.z, cluster.rvir\n",
    "region = smp.set_region_multi(xc=xc, yc=yc, zc=zc, radius = rr * rscale)"
   ]
  },
  {
   "cell_type": "code",
   "execution_count": 2,
   "metadata": {
    "collapsed": false,
    "scrolled": true
   },
   "outputs": [
    {
     "ename": "FileNotFoundError",
     "evalue": "[Errno 2] No such file or directory: '/home/hoseung/Copy/pyclusterevol/scripts/AAS/snapshots/output_00187/info_00187.txt'",
     "output_type": "error",
     "traceback": [
      "\u001b[1;31m---------------------------------------------------------------------------\u001b[0m",
      "\u001b[1;31mFileNotFoundError\u001b[0m                         Traceback (most recent call last)",
      "\u001b[1;32m<ipython-input-2-5a82045f6a3b>\u001b[0m in \u001b[0;36m<module>\u001b[1;34m()\u001b[0m\n\u001b[0;32m      1\u001b[0m \u001b[0ms\u001b[0m \u001b[1;33m=\u001b[0m \u001b[0mload\u001b[0m\u001b[1;33m.\u001b[0m\u001b[0msim\u001b[0m\u001b[1;33m.\u001b[0m\u001b[0mSim\u001b[0m\u001b[1;33m(\u001b[0m\u001b[1;33m)\u001b[0m\u001b[1;33m\u001b[0m\u001b[0m\n\u001b[1;32m----> 2\u001b[1;33m \u001b[0ms\u001b[0m\u001b[1;33m.\u001b[0m\u001b[0msetup\u001b[0m\u001b[1;33m(\u001b[0m\u001b[0mnout\u001b[0m\u001b[1;33m,\u001b[0m \u001b[0mwdir\u001b[0m\u001b[1;33m)\u001b[0m\u001b[1;33m\u001b[0m\u001b[0m\n\u001b[0m\u001b[0;32m      3\u001b[0m \u001b[0ms\u001b[0m\u001b[1;33m.\u001b[0m\u001b[0mset_ranges\u001b[0m\u001b[1;33m(\u001b[0m\u001b[0mregion\u001b[0m\u001b[1;33m[\u001b[0m\u001b[1;34m\"ranges\"\u001b[0m\u001b[1;33m]\u001b[0m\u001b[1;33m)\u001b[0m\u001b[1;33m\u001b[0m\u001b[0m\n\u001b[0;32m      4\u001b[0m \u001b[0ms\u001b[0m\u001b[1;33m.\u001b[0m\u001b[0mshow_cpus\u001b[0m\u001b[1;33m(\u001b[0m\u001b[1;33m)\u001b[0m\u001b[1;33m\u001b[0m\u001b[0m\n\u001b[0;32m      5\u001b[0m \u001b[0mptypes\u001b[0m\u001b[1;33m=\u001b[0m\u001b[1;33m[\u001b[0m\u001b[1;34m\"star id pos mass\"\u001b[0m\u001b[1;33m,\u001b[0m \u001b[1;34m\"dm id pos mass\"\u001b[0m\u001b[1;33m]\u001b[0m\u001b[1;33m\u001b[0m\u001b[0m\n",
      "\u001b[1;32m/home/hoseung/Copy/pyclusterevol/load/sim.py\u001b[0m in \u001b[0;36msetup\u001b[1;34m(self, nout, base, data_dir, ranges, dmo)\u001b[0m\n\u001b[0;32m    307\u001b[0m         \u001b[1;32mif\u001b[0m \u001b[0mself\u001b[0m\u001b[1;33m.\u001b[0m\u001b[0mnout\u001b[0m \u001b[1;32mis\u001b[0m \u001b[1;32mNone\u001b[0m\u001b[1;33m:\u001b[0m\u001b[1;33m\u001b[0m\u001b[0m\n\u001b[0;32m    308\u001b[0m             \u001b[0mprint\u001b[0m\u001b[1;33m(\u001b[0m\u001b[1;34m\"Note that 'nout' is not set. \\n use sim.Sim.set_nout(nout)\"\u001b[0m\u001b[1;33m)\u001b[0m\u001b[1;33m\u001b[0m\u001b[0m\n\u001b[1;32m--> 309\u001b[1;33m         \u001b[0mself\u001b[0m\u001b[1;33m.\u001b[0m\u001b[0madd_info\u001b[0m\u001b[1;33m(\u001b[0m\u001b[1;33m)\u001b[0m\u001b[1;33m\u001b[0m\u001b[0m\n\u001b[0m\u001b[0;32m    310\u001b[0m         \u001b[1;31m# set_data_dir and set_range needs info instance be exist.\u001b[0m\u001b[1;33m\u001b[0m\u001b[1;33m\u001b[0m\u001b[0m\n\u001b[0;32m    311\u001b[0m         \u001b[0mself\u001b[0m\u001b[1;33m.\u001b[0m\u001b[0mset_ranges\u001b[0m\u001b[1;33m(\u001b[0m\u001b[0mranges\u001b[0m\u001b[1;33m)\u001b[0m\u001b[1;33m\u001b[0m\u001b[0m\n",
      "\u001b[1;32m/home/hoseung/Copy/pyclusterevol/load/sim.py\u001b[0m in \u001b[0;36madd_info\u001b[1;34m(self, load)\u001b[0m\n\u001b[0;32m    353\u001b[0m     \u001b[1;32mdef\u001b[0m \u001b[0madd_info\u001b[0m\u001b[1;33m(\u001b[0m\u001b[0mself\u001b[0m\u001b[1;33m,\u001b[0m \u001b[0mload\u001b[0m\u001b[1;33m=\u001b[0m\u001b[1;32mFalse\u001b[0m\u001b[1;33m)\u001b[0m\u001b[1;33m:\u001b[0m\u001b[1;33m\u001b[0m\u001b[0m\n\u001b[0;32m    354\u001b[0m         \u001b[1;32mfrom\u001b[0m \u001b[0mload\u001b[0m \u001b[1;32mimport\u001b[0m \u001b[0minfo\u001b[0m\u001b[1;33m\u001b[0m\u001b[0m\n\u001b[1;32m--> 355\u001b[1;33m         \u001b[0mself\u001b[0m\u001b[1;33m.\u001b[0m\u001b[0minfo\u001b[0m \u001b[1;33m=\u001b[0m \u001b[0minfo\u001b[0m\u001b[1;33m.\u001b[0m\u001b[0mInfo\u001b[0m\u001b[1;33m(\u001b[0m\u001b[0mself\u001b[0m\u001b[1;33m.\u001b[0m\u001b[0mnout\u001b[0m\u001b[1;33m,\u001b[0m \u001b[0mself\u001b[0m\u001b[1;33m.\u001b[0m\u001b[0mbase\u001b[0m\u001b[1;33m,\u001b[0m \u001b[0mload\u001b[0m\u001b[1;33m=\u001b[0m\u001b[0mload\u001b[0m\u001b[1;33m)\u001b[0m\u001b[1;33m\u001b[0m\u001b[0m\n\u001b[0m\u001b[0;32m    356\u001b[0m \u001b[1;31m#        self.info.setup()\u001b[0m\u001b[1;33m\u001b[0m\u001b[1;33m\u001b[0m\u001b[0m\n\u001b[0;32m    357\u001b[0m \u001b[1;33m\u001b[0m\u001b[0m\n",
      "\u001b[1;32m/home/hoseung/Copy/pyclusterevol/load/info.py\u001b[0m in \u001b[0;36m__init__\u001b[1;34m(self, nout, base, fn, load)\u001b[0m\n\u001b[0;32m     12\u001b[0m                  fn = None, load=False):\n\u001b[0;32m     13\u001b[0m         \u001b[1;32mif\u001b[0m \u001b[0mnout\u001b[0m \u001b[1;32mis\u001b[0m \u001b[1;32mnot\u001b[0m \u001b[1;32mNone\u001b[0m \u001b[1;32mor\u001b[0m \u001b[0mbase\u001b[0m \u001b[1;32mis\u001b[0m \u001b[1;32mnot\u001b[0m \u001b[1;32mNone\u001b[0m \u001b[1;32mor\u001b[0m \u001b[0mfn\u001b[0m \u001b[1;32mis\u001b[0m \u001b[1;32mnot\u001b[0m \u001b[1;32mNone\u001b[0m\u001b[1;33m:\u001b[0m\u001b[1;33m\u001b[0m\u001b[0m\n\u001b[1;32m---> 14\u001b[1;33m             \u001b[0mself\u001b[0m\u001b[1;33m.\u001b[0m\u001b[0msetup\u001b[0m\u001b[1;33m(\u001b[0m\u001b[0mnout\u001b[0m\u001b[1;33m=\u001b[0m\u001b[0mnout\u001b[0m\u001b[1;33m,\u001b[0m \u001b[0mbase\u001b[0m\u001b[1;33m=\u001b[0m\u001b[0mbase\u001b[0m\u001b[1;33m,\u001b[0m \u001b[0mfn\u001b[0m\u001b[1;33m=\u001b[0m\u001b[0mfn\u001b[0m\u001b[1;33m)\u001b[0m\u001b[1;33m\u001b[0m\u001b[0m\n\u001b[0m\u001b[0;32m     15\u001b[0m         \u001b[1;32mif\u001b[0m \u001b[0mload\u001b[0m\u001b[1;33m:\u001b[0m\u001b[1;33m\u001b[0m\u001b[0m\n\u001b[0;32m     16\u001b[0m             \u001b[0mself\u001b[0m\u001b[1;33m.\u001b[0m\u001b[0mread_info\u001b[0m\u001b[1;33m(\u001b[0m\u001b[1;33m)\u001b[0m\u001b[1;33m\u001b[0m\u001b[0m\n",
      "\u001b[1;32m/home/hoseung/Copy/pyclusterevol/load/info.py\u001b[0m in \u001b[0;36msetup\u001b[1;34m(self, nout, base, fn)\u001b[0m\n\u001b[0;32m     30\u001b[0m \u001b[1;33m\u001b[0m\u001b[0m\n\u001b[0;32m     31\u001b[0m         \u001b[1;32mif\u001b[0m \u001b[0mself\u001b[0m\u001b[1;33m.\u001b[0m\u001b[0mall_set\u001b[0m\u001b[1;33m(\u001b[0m\u001b[1;33m)\u001b[0m\u001b[1;33m:\u001b[0m\u001b[1;33m\u001b[0m\u001b[0m\n\u001b[1;32m---> 32\u001b[1;33m             \u001b[0mself\u001b[0m\u001b[1;33m.\u001b[0m\u001b[0mread_info\u001b[0m\u001b[1;33m(\u001b[0m\u001b[1;33m)\u001b[0m  \u001b[1;31m# sets ncpu_tot,\u001b[0m\u001b[1;33m\u001b[0m\u001b[0m\n\u001b[0m\u001b[0;32m     33\u001b[0m \u001b[1;33m\u001b[0m\u001b[0m\n\u001b[0;32m     34\u001b[0m \u001b[1;33m\u001b[0m\u001b[0m\n",
      "\u001b[1;32m/home/hoseung/Copy/pyclusterevol/load/info.py\u001b[0m in \u001b[0;36mread_info\u001b[1;34m(self, base, nout, verbose)\u001b[0m\n\u001b[0;32m    147\u001b[0m     \u001b[1;32mdef\u001b[0m \u001b[0mread_info\u001b[0m\u001b[1;33m(\u001b[0m\u001b[0mself\u001b[0m\u001b[1;33m,\u001b[0m \u001b[0mbase\u001b[0m\u001b[1;33m=\u001b[0m\u001b[1;32mNone\u001b[0m\u001b[1;33m,\u001b[0m \u001b[0mnout\u001b[0m\u001b[1;33m=\u001b[0m\u001b[1;32mNone\u001b[0m\u001b[1;33m,\u001b[0m \u001b[0mverbose\u001b[0m\u001b[1;33m=\u001b[0m\u001b[1;32mFalse\u001b[0m\u001b[1;33m)\u001b[0m\u001b[1;33m:\u001b[0m\u001b[1;33m\u001b[0m\u001b[0m\n\u001b[0;32m    148\u001b[0m         \u001b[1;34m\"\"\" backward compatibility. but use .load instead\"\"\"\u001b[0m\u001b[1;33m\u001b[0m\u001b[0m\n\u001b[1;32m--> 149\u001b[1;33m         \u001b[0mself\u001b[0m\u001b[1;33m.\u001b[0m\u001b[0mload\u001b[0m\u001b[1;33m(\u001b[0m\u001b[0mbase\u001b[0m\u001b[1;33m=\u001b[0m\u001b[0mbase\u001b[0m\u001b[1;33m,\u001b[0m \u001b[0mnout\u001b[0m\u001b[1;33m=\u001b[0m\u001b[0mnout\u001b[0m\u001b[1;33m,\u001b[0m \u001b[0mverbose\u001b[0m\u001b[1;33m=\u001b[0m\u001b[0mverbose\u001b[0m\u001b[1;33m)\u001b[0m\u001b[1;33m\u001b[0m\u001b[0m\n\u001b[0m\u001b[0;32m    150\u001b[0m \u001b[1;33m\u001b[0m\u001b[0m\n\u001b[0;32m    151\u001b[0m     \u001b[1;32mdef\u001b[0m \u001b[0mload\u001b[0m\u001b[1;33m(\u001b[0m\u001b[0mself\u001b[0m\u001b[1;33m,\u001b[0m \u001b[0mbase\u001b[0m\u001b[1;33m=\u001b[0m\u001b[1;32mNone\u001b[0m\u001b[1;33m,\u001b[0m \u001b[0mnout\u001b[0m\u001b[1;33m=\u001b[0m\u001b[1;32mNone\u001b[0m\u001b[1;33m,\u001b[0m \u001b[0mverbose\u001b[0m\u001b[1;33m=\u001b[0m\u001b[1;32mFalse\u001b[0m\u001b[1;33m)\u001b[0m\u001b[1;33m:\u001b[0m\u001b[1;33m\u001b[0m\u001b[0m\n",
      "\u001b[1;32m/home/hoseung/Copy/pyclusterevol/load/info.py\u001b[0m in \u001b[0;36mload\u001b[1;34m(self, base, nout, verbose)\u001b[0m\n\u001b[0;32m    170\u001b[0m             \u001b[0mprint\u001b[0m\u001b[1;33m(\u001b[0m\u001b[0mself\u001b[0m\u001b[1;33m.\u001b[0m\u001b[0mfn\u001b[0m\u001b[1;33m)\u001b[0m\u001b[1;33m\u001b[0m\u001b[0m\n\u001b[0;32m    171\u001b[0m \u001b[1;33m\u001b[0m\u001b[0m\n\u001b[1;32m--> 172\u001b[1;33m         \u001b[1;32mwith\u001b[0m \u001b[0mopen\u001b[0m\u001b[1;33m(\u001b[0m\u001b[0mself\u001b[0m\u001b[1;33m.\u001b[0m\u001b[0mfn\u001b[0m\u001b[1;33m)\u001b[0m \u001b[1;32mas\u001b[0m \u001b[0mf\u001b[0m\u001b[1;33m:\u001b[0m\u001b[1;33m\u001b[0m\u001b[0m\n\u001b[0m\u001b[0;32m    173\u001b[0m             \u001b[0marr1\u001b[0m \u001b[1;33m=\u001b[0m \u001b[1;33m[\u001b[0m\u001b[1;33m]\u001b[0m\u001b[1;33m\u001b[0m\u001b[0m\n\u001b[0;32m    174\u001b[0m             \u001b[0marr2\u001b[0m \u001b[1;33m=\u001b[0m \u001b[1;33m[\u001b[0m\u001b[1;33m]\u001b[0m\u001b[1;33m\u001b[0m\u001b[0m\n",
      "\u001b[1;31mFileNotFoundError\u001b[0m: [Errno 2] No such file or directory: '/home/hoseung/Copy/pyclusterevol/scripts/AAS/snapshots/output_00187/info_00187.txt'"
     ]
    }
   ],
   "source": [
    "s = load.sim.Sim()\n",
    "s.setup(nout, wdir)    \n",
    "s.set_ranges(region[\"ranges\"])\n",
    "s.show_cpus()\n",
    "ptypes=[\"star id pos mass\", \"dm id pos mass\"]\n",
    "s.add_part(ptypes) \n",
    "s.add_hydro()\n",
    "\n",
    "s.part.load(fortran=True)\n",
    "lmax = 18\n",
    "s.hydro.amr2cell(lmax=lmax)\n",
    "\n",
    "star = s.part.star\n",
    "dm = s.part.dm\n",
    "cell = s.hydro.cell"
   ]
  },
  {
   "cell_type": "markdown",
   "metadata": {},
   "source": [
    "def set_region(**region):\n",
    "    \"\"\"\n",
    "        take any of xr, yr, zr, xc, yc, zc, ranges or centers\n",
    "        and calculate the others.\n",
    "        returns a dict (or defaultdict).\n",
    "\n",
    "        example\n",
    "        >>> r1 = set_region(yr=[0.45,0.733])\n",
    "        >>> r2 = set_region(xc=0.7, radius=0.2)\n",
    "        >>> r3 = set_region(abc=123)\n",
    "        >>> c = {\"center\":[0.33, 0.33, 0.64], \"radius\":0.1}\n",
    "        >>> r4 = set_region(*c)\n",
    "\n",
    "        To do\n",
    "        1. Allow mix of xc and xr arguments.\n",
    "           as xr requires more effort, xr overwrites xc.\n",
    "        2. Accept both \"center\" and \"centers\"\n",
    "           Also, both \"range\" and \"ranges\"\n",
    "    \"\"\""
   ]
  },
  {
   "cell_type": "code",
   "execution_count": 84,
   "metadata": {
    "collapsed": false
   },
   "outputs": [
    {
     "name": "stdout",
     "output_type": "stream",
     "text": [
      "9639811\n",
      "x.ptp() 788.033301442 npix 800\n",
      "Resampling 9639811 values to a 800 by 800 by 1 grid\n",
      "Updating field vals\n",
      "Updating field vals\n",
      "Updating field vals\n",
      "Updating field vals\n",
      "minmax field after crop and converting into physical unit 1000.55544505 430132509.597\n"
     ]
    }
   ],
   "source": [
    "import matplotlib\n",
    "matplotlib.use('Agg')\n",
    "import matplotlib.pyplot as plt\n",
    "import draw\n",
    "#import copy\n",
    "utils.util.reimport(utils.sampling)\n",
    "# copy.deepcopy() returns copies of all linked objects to the target object. \n",
    "\n",
    "#small_centers = region['centers'].copy() # wihtout .copy(), reference is passed, and modifying small_ceters also modify region['centers']\n",
    "#small_centers[2] += 0.1 * region['radius'] # offset \n",
    "#small_region = smp.set_region(centers=small_centers, radius=0.02 * rr[0])\n",
    "small_region = region\n",
    "\n",
    "utils.util.reimport(draw.pp)\n",
    "npix = 800\n",
    "extent = (0, npix, 0, npix)\n",
    "\n",
    "\n",
    "x = star['x']\n",
    "y = star['y']\n",
    "z = star['z']\n",
    "\n",
    "star_map = draw.pp.den2d(star['x'],star['y'],star['z'],star['m'] * info.msun / (info.pboxsize * info.pboxsize * 1e6)\n",
    "                         , npix, region=small_region\n",
    "                         , cic=True, norm_integer=False, proj='z', vmin=1000) # vmin in Msun / kpc2\n",
    "\n"
   ]
  },
  {
   "cell_type": "code",
   "execution_count": 85,
   "metadata": {
    "collapsed": false
   },
   "outputs": [
    {
     "name": "stdout",
     "output_type": "stream",
     "text": [
      "4592101\n",
      "x.ptp() 799.823848166 npix 800\n",
      "Resampling 4592101 values to a 800 by 800 by 1 grid\n",
      "Updating field vals\n",
      "Updating field vals\n",
      "Updating field vals\n",
      "Updating field vals\n",
      "minmax field after crop and converting into physical unit 1.07843254122e-08 156.200660073\n",
      " ... working resolution % npix  5553.0 5553.0\n",
      " ... given npix: 800\n"
     ]
    }
   ],
   "source": [
    "dm_map = draw.pp.den2d(dm['x'],dm['y'],dm['z'],dm['m'], npix, region=small_region, cic=True, norm_integer=False)\n",
    "gas_map = draw.pp.pp_cell(cell, npix, s.info, region=small_region, verbose=True) "
   ]
  },
  {
   "cell_type": "code",
   "execution_count": 175,
   "metadata": {
    "collapsed": false
   },
   "outputs": [],
   "source": [
    "ls = np.zeros((npix,npix))\n",
    "ii = star_map > 0\n",
    "ls[ii] = np.log10(star_map[ii]) # Stellar map HAS empty pixels.\n",
    "ls[~ii] = np.floor(ls.min())\n",
    "\n",
    "\n",
    "lg = np.log10(gas_map).copy() # gas_map does not have empty pixel.\n",
    "\n",
    "ld = np.zeros((npix,npix))\n",
    "ii = dm_map > 0\n",
    "ld[ii] = np.log10(dm_map[ii]) # Stellar map HAS empty pixels.\n",
    "ld[~ii] = np.floor(ld.min())"
   ]
  },
  {
   "cell_type": "code",
   "execution_count": 176,
   "metadata": {
    "collapsed": false
   },
   "outputs": [
    {
     "name": "stderr",
     "output_type": "stream",
     "text": [
      "/home/hoseung/.local/lib/python3.4/site-packages/IPython/kernel/__main__.py:31: RuntimeWarning: invalid value encountered in less\n",
      "/home/hoseung/.local/lib/python3.4/site-packages/numpy/ma/core.py:4085: UserWarning: Warning: converting a masked element to nan.\n",
      "  warnings.warn(\"Warning: converting a masked element to nan.\")\n"
     ]
    },
    {
     "name": "stdout",
     "output_type": "stream",
     "text": [
      "0.0\n",
      "nan nan\n"
     ]
    }
   ],
   "source": [
    "rgal = region['radius'] * s.info.pboxsize# * 1000\n",
    "\n",
    "ls[ls < 2] = np.nan\n",
    "\n",
    "im2 = plt.imshow(ls, cmap='brg', interpolation='nearest', extent=extent, origin='lower')\n",
    "ax = plt.gca()\n",
    "ax.set_xlabel(\"x [Mpc]\")\n",
    "ax.set_xticks(np.linspace(0,npix,5))\n",
    "xticks = [\"{:.1f}\".format(x) \\\n",
    "            for x in np.linspace(-rgal, rgal, num=5)]\n",
    "ax.set_xticklabels(xticks)\n",
    "\n",
    "ax.set_ylabel(\"y [Mpc]\")\n",
    "ax.set_yticks(np.linspace(0,npix,5))\n",
    "yticks = [\"{:.1f}\".format(y) for y in np.linspace(-rgal, rgal, num=5)]\n",
    "ax.set_yticklabels(yticks)\n",
    "\n",
    "# add scale bar\n",
    "\n",
    "plt.savefig(wdir + \"2d_star.png\", dpi=144)\n",
    "\n",
    "draw.pp.pp_halo(hh, npix, region=small_region, rscale=1.0, ind=i_center[0], axes=plt.gca(), name=False,\n",
    "            verbose=False, new_axes=False, linewidth=0.4, edgecolor='y')\n",
    "\n",
    "plt.savefig(wdir + \"2d_star.png_halo\", dpi=144)\n",
    "plt.close()\n",
    "\n",
    "\n",
    "lg = (lg - lg.min())/lg.ptp() * 256\n",
    "\n",
    "ls = (ls - ls.min())/ls.ptp() * 256\n",
    "ls[ls < 100] = np.nan\n",
    "\n",
    "im3 = plt.imshow(np.transpose(lg), cmap=\"Reds\", alpha=.8, interpolation='bilinear',\n",
    "                 extent=extent, origin='lower')\n",
    "\n",
    "im1 = plt.imshow(ls, cmap=\"Blues\", interpolation='nearest', extent=extent,\n",
    "                 origin='lower', alpha=.3)\n",
    "\n",
    "\n",
    "ax = plt.gca()\n",
    "ax.set_xlabel(\"x [Mpc]\")\n",
    "ax.set_xticks(np.linspace(0,npix,5))\n",
    "xticks = [\"{:.1f}\".format(x) for x in np.linspace(-rgal, rgal, num=5)]\n",
    "ax.set_xticklabels(xticks)\n",
    "\n",
    "ax.set_ylabel(\"y [Mpc]\")\n",
    "ax.set_yticks(np.linspace(0,npix,5))\n",
    "yticks = [\"{:.1f}\".format(y) for y in np.linspace(-rgal, rgal, num=5)]\n",
    "ax.set_yticklabels(yticks)\n",
    "\n",
    "plt.savefig(wdir + \"2d_star_gas.png\", dpi=144)\n",
    "\n",
    "draw.pp.pp_halo(hh, npix, region=small_region, rscale=1.0, ind=i_center[0], axes=ax, name=False,\n",
    "            verbose=False, new_axes=False, linewidth=0.4)\n",
    "plt.savefig(wdir + \"2d_star_gas_halo.png\", dpi=144)\n",
    "plt.close()\n",
    "\n"
   ]
  },
  {
   "cell_type": "markdown",
   "metadata": {},
   "source": [
    "By default(WHY????), (0,0) coordinate of an axes created by imshow starts from the top left. \n",
    "origin='lower' to change the default coordinate origin. "
   ]
  },
  {
   "cell_type": "code",
   "execution_count": 88,
   "metadata": {
    "collapsed": false
   },
   "outputs": [],
   "source": [
    "im1 = plt.imshow(ls, cmap=\"gray\", interpolation='bilinear', extent=extent, origin='lower')\n",
    "im2 = plt.imshow(ld, cmap=\"copper\", interpolation='bilinear', extent=extent, origin='lower')\n",
    "this_axes = plt.gca()\n",
    "hind = np.where(hh.data['mvir'] > 5e10)[0]\n",
    "draw.pp.pp_halo(hh, npix, region=small_region, rscale=1.0, ind=hind, axes=this_axes, name=True,\n",
    "            verbose=False, new_axes=False)\n",
    "plt.savefig(wdir + \"2d_star_dm.png\", dpi=200)\n",
    "plt.close()"
   ]
  },
  {
   "cell_type": "code",
   "execution_count": 89,
   "metadata": {
    "collapsed": true
   },
   "outputs": [],
   "source": [
    "#plt.hold(True)\n",
    "im2 = plt.imshow(ld, cmap=\"copper\", interpolation='nearest', extent=extent, origin='lower')\n",
    "im3 = plt.imshow(np.transpose(lg), cmap=\"CMRmap\", alpha=.5, interpolation='bilinear', extent=extent, origin='lower')\n",
    "plt.savefig(wdir + \"2d_dm_gas.png\", dpi=200)\n",
    "plt.close()\n",
    "# One of two should be transposed.\n",
    "# But which one?\n",
    "\n"
   ]
  },
  {
   "cell_type": "markdown",
   "metadata": {},
   "source": [
    "I don't understand.. \n",
    "Anyways, small_region = smp.set_region(centers=small_centers, radius=0.05 * rr) results in small_region['centers'] to be a list of 3 arrays. Same goes for the other variables.\n",
    "But if you modify rr to rr[0], then the resulting region is good. \n",
    "And, you need to pass the 'good' region to pp module in order to get the calculations right. "
   ]
  },
  {
   "cell_type": "markdown",
   "metadata": {},
   "source": [
    "Note 1)\n",
    "When making an superimposed image, it is important to match the 'background color' of each figure.\n",
    "If low density gas has some color while empty stellar map is black, the resulting image has unwanted color that may indicate some other value of gas density, (or stellar density).\n",
    "\n",
    "Note 2)\n",
    "region argument added to pp_cell.\n",
    "\n",
    "Note 3)\n",
    "The above code does not run in parallel. \n",
    "First suspect is \"plt.hold(True)\".\n",
    "  -> Do I really need plt.hold(True)?"
   ]
  }
 ],
 "metadata": {
  "kernelspec": {
   "display_name": "Python 3",
   "language": "python",
   "name": "python3"
  },
  "language_info": {
   "codemirror_mode": {
    "name": "ipython",
    "version": 3
   },
   "file_extension": ".py",
   "mimetype": "text/x-python",
   "name": "python",
   "nbconvert_exporter": "python",
   "pygments_lexer": "ipython3",
   "version": "3.4.3"
  }
 },
 "nbformat": 4,
 "nbformat_minor": 0
}
