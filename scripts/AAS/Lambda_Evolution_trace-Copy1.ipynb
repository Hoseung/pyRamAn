{
 "cells": [
  {
   "cell_type": "code",
   "execution_count": 1,
   "metadata": {
    "collapsed": true
   },
   "outputs": [],
   "source": [
    "def load_pickle(fname):\n",
    "    with open(fname, 'rb') as f:\n",
    "        return pickle.load(f)\n",
    "\n",
    "## time\n",
    "def aexp2zred(aexp):\n",
    "    return [1.0/a - 1.0 for a in aexp]\n",
    "\n",
    "def zred2aexp(zred):\n",
    "    return [1.0/(1.0 + z) for z in zred]\n",
    "\n",
    "def lbt2aexp(lts):\n",
    "    import astropy.units as u\n",
    "    from astropy.cosmology import WMAP7, z_at_value\n",
    "    zreds = [z_at_value(WMAP7.lookback_time, ll * u.Gyr) for ll in lts]\n",
    "    return [1.0/(1+z) for z in zreds]\n",
    "\n",
    "def density_map(x, y, sort=True):\n",
    "    from scipy.stats import gaussian_kde\n",
    "    xy = np.vstack([x,y])\n",
    "    z = gaussian_kde(xy)(xy) \n",
    "    z /= max(z)\n",
    "\n",
    "    idx = z.argsort()    \n",
    "    xx, yy = x[idx], y[idx]\n",
    "    z = z[idx]\n",
    "    \n",
    "    return xx, yy, z\n",
    "\n",
    "\n",
    "def sigma_clip_ind(c, high, low):\n",
    "    \"\"\"\n",
    "        returns indices of sigma-clipping-safe elements.\n",
    "    \"\"\"\n",
    "    import numpy as np\n",
    "    ind = (np.mean(c) - np.std(c)*low < c) * (c < np.mean(c) + np.std(c)*high)\n",
    "    return ind\n",
    "\n",
    "\n",
    "def mask_outlier(y, low=1.5, high=1.5):\n",
    "    \"\"\"\n",
    "        maks outlier assuming monotonic trend.\n",
    "    \"\"\"\n",
    "    x = np.arange(len(y))\n",
    "\n",
    "    # linear fitting .. more desirably, a very strong smoothing scheme that can reconstrcut mild curve.\n",
    "    slope, intercept, r_value, p_value, std_err = scipy.stats.linregress(x,y)\n",
    "\n",
    "    # extract linear fit\n",
    "    yy = y - (slope * x + intercept)\n",
    "\n",
    "    # sigma clipped value = mean of the rest \n",
    "    i_good = sigma_clip_ind(yy, low, high)\n",
    "    yy[~i_good] = np.mean(yy[i_good])\n",
    "\n",
    "    # add linear fit again\n",
    "    return yy + (slope * x + intercept)\n",
    "\n",
    "\n",
    "def smooth(x, beta=5, window_len=20, monotonic=False):\n",
    "    \"\"\" \n",
    "    kaiser window smoothing \n",
    "    beta = 5 : Similar to a Hamming\n",
    "    \"\"\"\n",
    "    \n",
    "    if monotonic:\n",
    "        \"\"\"\n",
    "        if there is an overall slope, smoothing may result in offset.\n",
    "        compensate for that. \n",
    "        \"\"\"\n",
    "        slope, intercept, r_value, p_value, std_err = scipy.stats.linregress(x, y=np.arange(len(x)))\n",
    "        xx = np.arange(len(x)) * slope + intercept\n",
    "        x = x - xx\n",
    "    \n",
    "    # extending the data at beginning and at the end\n",
    "    # to apply the window at the borders\n",
    "    s = np.r_[x[window_len-1:0:-1], x, x[-1:-window_len:-1]]\n",
    "    w = np.kaiser(window_len,beta)\n",
    "    y = np.convolve(w/w.sum(), s, mode='valid')\n",
    "    if monotonic: \n",
    "         return y[int(window_len)/2:len(y)-int(window_len/2) + 1] + xx#[x[window_len-1:0:-1],x,x[-1:-window_len:-1]]\n",
    "    else:\n",
    "        return y[int(window_len)/2:len(y)-int(window_len/2) + 1]\n",
    "        #return y[5:len(y)-5]\n",
    "\n",
    "        \n",
    "class MainPrg():\n",
    "    import tree.ctutils as ctu\n",
    "    import numpy as np\n",
    "    \n",
    "    def __init__(self, treedata, final_gal, nout_ini=None, nout_fi=None):\n",
    "\n",
    "        temp_tree = ctu.extract_main_tree(treedata, final_gal)\n",
    "        if nout_ini == None:\n",
    "            nout_ini = min(temp_tree['nout'])\n",
    "        if nout_fi == None:\n",
    "            nout_fi = max(temp_tree['nout'])            \n",
    "            \n",
    "        self.nouts = np.arange(nout_fi, nout_ini -1, -1)\n",
    "        self.idxs = temp_tree['id'] # nout_ini, nout_fi consideration needed.\n",
    "        self.ids = temp_tree['Orig_halo_id']\n",
    "        self.data = None\n",
    "    \n",
    "    def set_data(self, cat, nout):\n",
    "        \"\"\"\n",
    "        compile data from catalogs.\n",
    "        \"\"\"\n",
    "        if nout in self.nouts:\n",
    "            # Declare self.data first if there isn't.\n",
    "            if self.data == None:\n",
    "                self.data = np.zeros(len(self.nouts), dtype=cat.dtype)\n",
    "            inow = self.nouts == nout\n",
    "            a = np.where(cat['idx'] == self.idxs[inow])[0]\n",
    "            if len(a) > 0:\n",
    "                self.data[inow] = cat[a]        \n",
    "            else:\n",
    "                pass\n",
    "                #print(self.ids[inow],cat['id'])\n",
    "        else:\n",
    "            pass\n",
    "            #print(\"No {} in the catalog\".format(nout))\n",
    "            \n",
    "    def clip_non_detection(self):\n",
    "        # end of galaxy tree = last non-zero position.\n",
    "        # Note that 'id' can be 0 if phantom. But phantom is a valid datapoint\n",
    "        i_first_nout = max(np.where(self.data['idx'] > 0)[0])\n",
    "        #print('i_first', i_first_nout)\n",
    "        # then, only [0-i_first_nout] are valid.\n",
    "        # earlier then 187 - 91-th are zero. so get rid of them.\n",
    "        self.data = self.data[:i_first_nout].copy()\n",
    "        self.nouts = self.nouts[:i_first_nout].copy()\n",
    "        self.ids = self.ids[:i_first_nout].copy()\n",
    "        self.idxs = self.idxs[:i_first_nout].copy()\n",
    "        \n",
    "    def fill_missing_data(self):\n",
    "        assert (self.ids[-1] != 0)\n",
    "        \n",
    "        # loop over all fields except id, index, and non-physical entries.\n",
    "        i_bad = np.where(self.data['idx'] == 0)[0]\n",
    "        for field in self.data.dtype.names:\n",
    "            # do not modify index and id fields.\n",
    "            if field in [\"index\", \"id\", \"idx\"]:\n",
    "                continue\n",
    "            arr = self.data[field] # it's a view.\n",
    "\n",
    "            for i_b in i_bad:\n",
    "                # neighbouring array might also be empty. Search for closest valid element.\n",
    "                # left point\n",
    "                i_l = i_b - 1\n",
    "                while(i_l in i_bad):\n",
    "                    i_l = i_l - 1\n",
    "                # right point\n",
    "                i_r = i_b + 1\n",
    "                while(i_r in i_bad):\n",
    "                    i_r = i_r + 1\n",
    "\n",
    "                arr[i_b] = (arr[i_b -1] + arr[i_b +1])/2.\n",
    "    "
   ]
  },
  {
   "cell_type": "code",
   "execution_count": 2,
   "metadata": {
    "collapsed": true
   },
   "outputs": [],
   "source": [
    "def fixed_ind_Lr(gal):\n",
    "    nnouts = len(gal.nouts)\n",
    "    ind_reff_fix = np.zeros(nnouts, dtype='i4')\n",
    "\n",
    "    #print(gal.data['rgal'])\n",
    "    smooth_r = smooth(mask_outlier(gal.data['rgal'], 1.5, 1.5), 50, monotonic=False)\n",
    "\n",
    "    # fixed Reff array\n",
    "    for i in range(nnouts):\n",
    "        # 1Reff = 5 points\n",
    "        reff_real = smooth_r[i]\n",
    "        reff = gal.data['rgal'][i]\n",
    "        try:\n",
    "            ind_reff_fix[i] = np.round(reff_real/reff * 5) -1\n",
    "        except:\n",
    "            pass\n",
    "    return ind_reff_fix\n",
    "\n",
    "\n",
    "def smoothed_reff(cat, nout_merger):\n",
    "    \"\"\"\n",
    "    returns \"representative\" lambda at each nout by assuming monotonic change in Reff. \n",
    "    During merger, Reff can fluctuate, and if has no physical meaning to infer Labda at Reff during merger stage. \n",
    "    So Reff' is derived by linear interpolating Reffs before and after the merger. \n",
    "    \n",
    "    cat is one galaxy catalog over time.\n",
    "    \"\"\"\n",
    "    import utils.match as mtc\n",
    "    i_merger = np.where(cat['nout'] == nout_merger)[0]\n",
    "    ind_lower = 20\n",
    "    ind_upper = 20\n",
    "    \n",
    "    reffs = cat['rgal']\n",
    "    # left and right values chosen by sigma-clipping\n",
    "    r_lefts, b, c = scipy.stats.sigmaclip(reffs[max([0,i_merger-ind_lower]):i_merger], sig_lower, sig_upper)\n",
    "    #print(r_lefts)\n",
    "    r_left = r_lefts[-1]\n",
    "    i_left = np.where(reffs == r_left)[0]\n",
    "    \n",
    "\n",
    "    r_rights, b,c = scipy.stats.sigmaclip(reffs[i_merger:min([i_merger+ind_upper,len(reffs)])], sig_lower, sig_upper)\n",
    "    r_right = r_rights[0]\n",
    "    i_right = np.where(reffs == r_right)[0]\n",
    "\n",
    "    r_prime = reffs\n",
    "    #print(\"chekc\")\n",
    "    #print(r_prime)\n",
    "    r_prime[i_left : i_right + 1] = np.linspace(r_left, r_right, i_right - i_left + 1)\n",
    "    return r_prime    "
   ]
  },
  {
   "cell_type": "code",
   "execution_count": 3,
   "metadata": {
    "collapsed": true
   },
   "outputs": [],
   "source": [
    "import numpy as np\n",
    "import scipy.stats\n",
    "import tree.ctutils as ctu\n",
    "import matplotlib.pyplot as plt\n",
    "\n",
    "# Read a single galaxy evolution catalog.\n",
    "import pickle"
   ]
  },
  {
   "cell_type": "code",
   "execution_count": 11,
   "metadata": {
    "collapsed": true
   },
   "outputs": [],
   "source": [
    "clusters = ['36413', '01605', '39990', '05427'][:3]\n",
    "# parameters used for lambda_arr clipping.\n",
    "ind_upper = 20\n",
    "ind_lower = 20\n",
    "sig_upper = 2.0\n",
    "sig_lower = 2.0\n",
    "\n",
    "nout_ini = 60\n",
    "nout_fi = 187\n",
    "\n",
    "bad = 0"
   ]
  },
  {
   "cell_type": "code",
   "execution_count": 12,
   "metadata": {
    "collapsed": false
   },
   "outputs": [
    {
     "name": "stdout",
     "output_type": "stream",
     "text": [
      "Loaded an extended tree\n",
      "Loaded an extended tree\n"
     ]
    },
    {
     "name": "stderr",
     "output_type": "stream",
     "text": [
      "/usr/local/lib/python3.4/dist-packages/IPython/kernel/__main__.py:110: FutureWarning: comparison to `None` will result in an elementwise object comparison in the future.\n"
     ]
    }
   ],
   "source": [
    "cdir = 'catalog_GM/'\n",
    "\n",
    "verbose=True\n",
    "\n",
    "ngals_tot = 0\n",
    "for cluster in clusters:\n",
    "    wdir = '/home/hoseung/Work/data/' + cluster + '/'\n",
    "    # main galaxy list\n",
    "    cat = pickle.load(open(wdir + cdir + 'catalog' + str(nout_fi) + '.pickle', 'rb'))\n",
    "    ngals_tot = ngals_tot + len(cat['idx'])\n",
    "\n",
    "\n",
    "nnouts = nout_fi - nout_ini + 1\n",
    "lambda_evol_all = np.zeros([ngals_tot, nnouts])\n",
    "\n",
    "mpgs = []\n",
    "for cluster in clusters:\n",
    "    wdir = '/home/hoseung/Work/data/' + cluster + '/'\n",
    "\n",
    "    # Serialize catalogs. -> Only main galaxies\n",
    "    # main galaxy list\n",
    "    alltrees = ctu.load_tree(wdir, is_gal=True)\n",
    "    ad = alltrees.data\n",
    "    tn = ad[ad['nout'] == nout_fi]\n",
    "\n",
    "    cat = pickle.load(open(wdir + cdir + 'catalog' + str(nout_fi) + '.pickle', 'rb'))\n",
    "    #idx_all = [tn['id'][tn['Orig_halo_id'] == id_final][0] for id_final in cat['id']]\n",
    "    idx_all = cat['idx']\n",
    "    mpg_tmp =[MainPrg(ad, idx) for idx in idx_all]\n",
    "    #print(mpgs[0].nouts)\n",
    "    #print(mpgs[0].ids)\n",
    "    for nout in range(nout_ini, nout_fi + 1):\n",
    "        cat = pickle.load(open(wdir + cdir + 'catalog' + str(nout) + '.pickle', 'rb'))\n",
    "        for gal in mpg_tmp:\n",
    "            gal.set_data(cat, nout)\n",
    "\n",
    "    while len(mpg_tmp) > 0:\n",
    "        mpgs.append(mpg_tmp.pop())\n",
    "\n",
    "    \n",
    "#mpgs = (x for y in mpgs for x in y) # similar to flatten()\n"
   ]
  },
  {
   "cell_type": "code",
   "execution_count": 13,
   "metadata": {
    "collapsed": false,
    "scrolled": true
   },
   "outputs": [],
   "source": [
    "#mpgs = (x for y in mpgs for x in y) # similar to flatten()\n",
    "for igal, gal in enumerate(mpgs):\n",
    "    try:\n",
    "        gal.clip_non_detection()\n",
    "        gal.fill_missing_data()\n",
    "        ind_reff_fix = fixed_ind_Lr(gal)\n",
    "\n",
    "    except:\n",
    "        continue\n",
    "\n",
    "    ind_max = len(gal.data['lambda_arr'][0]) - 1\n",
    "\n",
    "    for inout, ind in enumerate(ind_reff_fix):\n",
    "        if ind == 0 : print(ind)\n",
    "        lambda_evol_all[igal][inout] = gal.data['lambda_arr'][inout][min([ind_max,ind])]"
   ]
  },
  {
   "cell_type": "code",
   "execution_count": 7,
   "metadata": {
    "collapsed": true
   },
   "outputs": [],
   "source": [
    "#mpgs = (x for y in mpgs for x in y) # similar to flatten()\n",
    "for igal, gal in enumerate(mpgs):\n",
    "    try:\n",
    "        gal.clip_non_detection()\n",
    "        gal.fill_missing_data()\n",
    "        #ind_reff_fix = fixed_ind_Lr(gal)\n",
    "\n",
    "    except:\n",
    "        continue\n",
    "\n",
    "    #ind_max = len(gal.data['lambda_arr'][0]) - 1\n",
    "\n",
    "    for inout in range(len(gal.nouts)):\n",
    "        if ind == 0 : print(ind)\n",
    "        lambda_evol_all[igal][inout] = gal.data['lambda_r'][inout]"
   ]
  },
  {
   "cell_type": "code",
   "execution_count": 14,
   "metadata": {
    "collapsed": true
   },
   "outputs": [],
   "source": [
    "zreds=[]\n",
    "aexps=[]\n",
    "import load\n",
    "for nout in range(nout_ini, nout_fi+1):\n",
    "    info = load.info.Info(nout=nout, base=wdir, load=True)\n",
    "    aexps.append(info.aexp)\n",
    "    zreds.append(info.zred)\n",
    "aexps = np.array(aexps)\n",
    "zreds = np.array(zreds)\n",
    "\n",
    "# For a given list of nouts, \n",
    "# calculate a nice-looking set of zreds AND lookback times\n",
    "z_targets=[0, 0.2, 0.5, 1, 2, 3]\n",
    "z_target_str=[\"{:.2f}\".format(z) for z in z_targets]\n",
    "a_targets_z = zred2aexp(z_targets)\n",
    "z_pos =  [nout_ini + (1 - (max(aexps) - a)/aexps.ptp()) * nnouts for a in a_targets_z]\n",
    "\n",
    "lbt_targets=[0.00001,1,3,5,8,12]\n",
    "lbt_target_str=[\"{:.0f}\".format(l) for l in lbt_targets]\n",
    "a_targets_lbt = lbt2aexp(lbt_targets)\n",
    "lbt_pos = [nout_ini + (1 - (max(aexps) - a)/aexps.ptp()) * nnouts for a in a_targets_lbt]"
   ]
  },
  {
   "cell_type": "code",
   "execution_count": 18,
   "metadata": {
    "collapsed": true
   },
   "outputs": [],
   "source": [
    "lambda_range=[0., 0.8]\n",
    "yticks_ok=[0.0, 0.2, 0.4, 0.6, 0.8]\n",
    "nbins = 20\n",
    "den_map = np.zeros((nbins, nnouts))\n",
    "\n",
    "for i in range(nnouts):\n",
    "    den_map[:,i], ypoints = np.histogram(lambda_evol_all[:,i], bins=nbins, range=lambda_range)\n",
    "    den_map[:,i] /= den_map[:,i].max()\n",
    "\n",
    "  "
   ]
  },
  {
   "cell_type": "code",
   "execution_count": 19,
   "metadata": {
    "collapsed": true
   },
   "outputs": [],
   "source": [
    "from astropy.stats import sigma_clip\n",
    "\n",
    "nouts = np.arange(nout_ini, nout_fi + 1)\n",
    "xx = np.tile(nouts, ngals_tot) \n",
    "all_data = lambda_evol_all.ravel()\n",
    "data = all_data.copy()\n",
    "data[np.isnan(data)] = 10\n",
    "data[np.isinf(data)] = 10\n",
    "data[data==0] = 10\n",
    "\n",
    "#al, b1, c1 = scipy.stats.sigmaclip(data, 1.0, 1.0)\n",
    "filtered_data = sigma_clip(data, sig=1.0, copy=True)\n",
    "x = xx[~filtered_data.mask]\n",
    "y = all_data[~filtered_data.mask]\n",
    "\n",
    "xx,yy,z = density_map(x,y)"
   ]
  },
  {
   "cell_type": "code",
   "execution_count": 31,
   "metadata": {
    "collapsed": false
   },
   "outputs": [
    {
     "data": {
      "text/plain": [
       "126"
      ]
     },
     "execution_count": 31,
     "metadata": {},
     "output_type": "execute_result"
    }
   ],
   "source": [
    "xx.ptp()"
   ]
  },
  {
   "cell_type": "code",
   "execution_count": null,
   "metadata": {
    "collapsed": true
   },
   "outputs": [],
   "source": []
  },
  {
   "cell_type": "code",
   "execution_count": 38,
   "metadata": {
    "collapsed": false
   },
   "outputs": [
    {
     "name": "stderr",
     "output_type": "stream",
     "text": [
      "/usr/lib/python3/dist-packages/matplotlib/collections.py:571: FutureWarning: elementwise comparison failed; returning scalar instead, but in the future will perform elementwise comparison\n",
      "  if self._edgecolors == str('face'):\n"
     ]
    }
   ],
   "source": [
    "fig, ax = plt.subplots(1)\n",
    "im = ax.scatter(xx, yy, c=z, s=50, edgecolor='')\n",
    "ax.set_ylim([-0.05, 0.9])\n",
    "ax.set_yticks([0.0, 0.2, 0.4, 0.6, 0.8])\n",
    "ax.set_yticklabels([str(yy) for yy in yticks_ok])\n",
    "\n",
    "ax.set_xlabel(\"Redshift\")\n",
    "ax.set_xlim([nout_ini, nout_fi+1])\n",
    "zz_target = [0, 0.2, 0.5, 1.0, 2.0, 3.0]\n",
    "x_tick_pos = np.searchsorted(zreds[::-1], zz_target) + nout_ini# + nout_min\n",
    "\n",
    "ax.set_xticks(x_tick_pos)#[::-1])\n",
    "ax.set_xticklabels(labels = [\"{:0.1f}\".format(z) for z in zz_target])\n",
    "\n",
    "ax.plot(range(nout_ini, nout_fi),lambda_evol_all[50,:-1])\n",
    "\n",
    "plt.show()\n"
   ]
  },
  {
   "cell_type": "code",
   "execution_count": 37,
   "metadata": {
    "collapsed": false
   },
   "outputs": [
    {
     "data": {
      "text/plain": [
       "128"
      ]
     },
     "execution_count": 37,
     "metadata": {},
     "output_type": "execute_result"
    }
   ],
   "source": [
    "nout_fi + 1 - nout_ini"
   ]
  },
  {
   "cell_type": "code",
   "execution_count": 32,
   "metadata": {
    "collapsed": true
   },
   "outputs": [],
   "source": [
    "agal = lambda_evol_all[50,:-1]"
   ]
  },
  {
   "cell_type": "code",
   "execution_count": 33,
   "metadata": {
    "collapsed": false
   },
   "outputs": [
    {
     "data": {
      "text/plain": [
       "127"
      ]
     },
     "execution_count": 33,
     "metadata": {},
     "output_type": "execute_result"
    }
   ],
   "source": [
    "len(agal)"
   ]
  },
  {
   "cell_type": "code",
   "execution_count": null,
   "metadata": {
    "collapsed": true
   },
   "outputs": [],
   "source": [
    "lambda_evol_all[i,:]"
   ]
  },
  {
   "cell_type": "markdown",
   "metadata": {},
   "source": [
    "### trace"
   ]
  },
  {
   "cell_type": "code",
   "execution_count": 15,
   "metadata": {
    "collapsed": false
   },
   "outputs": [
    {
     "data": {
      "text/plain": [
       "(253, 128)"
      ]
     },
     "execution_count": 15,
     "metadata": {},
     "output_type": "execute_result"
    }
   ],
   "source": [
    "lambda_evol_all.shape"
   ]
  },
  {
   "cell_type": "code",
   "execution_count": 21,
   "metadata": {
    "collapsed": false
   },
   "outputs": [],
   "source": [
    "fig, axs = plt.subplots(5,5)\n",
    "fig.set_size_inches(16,12)\n",
    "axs = axs.ravel()\n",
    "    \n",
    "for i in range(lambda_evol_all.shape[0]):\n",
    "    agal = lambda_evol_all[i,:].copy()\n",
    "    axs[np.mod(i,25)].plot(agal)\n",
    "\n",
    "plt.tight_layout()\n",
    "plt.show()\n",
    "#plt.savefig(\"/home/hoseung/Desktop/all_traces.png\")"
   ]
  },
  {
   "cell_type": "markdown",
   "metadata": {},
   "source": [
    "여기가 중요. \n",
    "어떻게 나눠야 잘 나눌까? "
   ]
  },
  {
   "cell_type": "code",
   "execution_count": 17,
   "metadata": {
    "collapsed": false
   },
   "outputs": [],
   "source": [
    "fig, axs = plt.subplots(3,3)\n",
    "fig.set_size_inches(16,12)\n",
    "axs = axs.ravel()\n",
    "from scipy.stats import linregress\n",
    "    \n",
    "for i in range(lambda_evol_all.shape[0]):\n",
    "    agal = lambda_evol_all[i,:].copy()   \n",
    "    try:\n",
    "        agal = smooth(agal[agal > 0], window_len=20)\n",
    "        ll = len(agal)\n",
    "        if ll < 40:\n",
    "            continue\n",
    "        \n",
    "        xx = np.arange(ll)\n",
    "        \n",
    "        # flat\n",
    "        if (agal[:-15].ptp() < 0.1):\n",
    "            axs[3].plot(agal)\n",
    "        else:\n",
    "            slope, intercept, r_value, p_value, std_err = linregress(xx[:-15], y=agal[:-15])\n",
    "            # slow decrease\n",
    "            if r_value**2 > 0.88:\n",
    "                if np.abs(slope) < 1e-3:\n",
    "                    axs[3].plot(agal)\n",
    "                elif slope > 0:\n",
    "                    axs[0].plot(agal)\n",
    "                else:\n",
    "                    # early decrease\n",
    "                    axs[1].plot(agal)\n",
    "            elif slope < -1e-3:\n",
    "                axs[2].plot(agal)\n",
    "                \n",
    "            elif (np.average(agal[-20:]) - np.average(agal[:40])) > 0.2:\n",
    "                # early decrease\n",
    "                axs[1].plot(agal)\n",
    "            elif r_value**2 < 0.4:\n",
    "                axs[4].plot(agal)\n",
    "            else:\n",
    "                slope, intercept, r_value, p_value, std_err = linregress(xx[0:40], y=agal[0:40])\n",
    "                if r_value**2 > 0.9:\n",
    "                    if np.abs(slope) < 1e-3:\n",
    "                        # early decrease\n",
    "                        axs[1].plot(agal)\n",
    "                else:\n",
    "                    # fluctuate\n",
    "                    if agal.ptp() > 0.2:\n",
    "                        axs[4].plot(agal)\n",
    "                    else:\n",
    "                        axs[5].plot(agal)\n",
    "    except:\n",
    "        axs[5].plot(agal)\n",
    "\n",
    "for ax in axs:\n",
    "    ax.set_ylim([0,0.8])\n",
    "\n",
    "plt.tight_layout()\n",
    "plt.show()#savefig(\"/home/hoseung/Desktop/all_traces.png\")"
   ]
  },
  {
   "cell_type": "code",
   "execution_count": 127,
   "metadata": {
    "collapsed": false
   },
   "outputs": [],
   "source": [
    "from scipy import optimize\n",
    "\n",
    "def piecewise_linear(x, x0, y0, k1, k2):\n",
    "    return np.piecewise(x, [x < x0], [lambda x:k1*x + y0-k1*x0, lambda x:k2*x + y0-k2*x0])\n",
    "\n",
    "agal = lambda_evol_all[i,:].copy()\n",
    "agal = smooth(agal[agal > 0], window_len=20)\n",
    "xx = np.arange(len(agal))\n",
    "\n",
    "p , e = optimize.curve_fit(piecewise_linear, xx, agal)\n",
    "plt.plot(xx, agal, \"o\")\n",
    "plt.plot(xx, piecewise_linear(xx, *p))\n",
    "plt.show()"
   ]
  },
  {
   "cell_type": "code",
   "execution_count": 104,
   "metadata": {
    "collapsed": false
   },
   "outputs": [],
   "source": [
    "from statsmodels.sandbox.regression.predstd import wls_prediction_std\n",
    "import statsmodels.api as sm"
   ]
  },
  {
   "cell_type": "code",
   "execution_count": 106,
   "metadata": {
    "collapsed": false
   },
   "outputs": [
    {
     "ename": "NameError",
     "evalue": "name 'dummy' is not defined",
     "output_type": "error",
     "traceback": [
      "\u001b[1;31m---------------------------------------------------------------------------\u001b[0m",
      "\u001b[1;31mNameError\u001b[0m                                 Traceback (most recent call last)",
      "\u001b[1;32m<ipython-input-106-c4dbaa54946c>\u001b[0m in \u001b[0;36m<module>\u001b[1;34m()\u001b[0m\n\u001b[1;32m----> 1\u001b[1;33m \u001b[0mX\u001b[0m \u001b[1;33m=\u001b[0m \u001b[0mnp\u001b[0m\u001b[1;33m.\u001b[0m\u001b[0mcolumn_stack\u001b[0m\u001b[1;33m(\u001b[0m\u001b[1;33m(\u001b[0m\u001b[0mxx\u001b[0m\u001b[1;33m,\u001b[0m \u001b[0mdummy\u001b[0m\u001b[1;33m[\u001b[0m\u001b[1;33m:\u001b[0m\u001b[1;33m,\u001b[0m\u001b[1;36m1\u001b[0m\u001b[1;33m:\u001b[0m\u001b[1;33m]\u001b[0m\u001b[1;33m)\u001b[0m\u001b[1;33m)\u001b[0m\u001b[1;33m\u001b[0m\u001b[0m\n\u001b[0m\u001b[0;32m      2\u001b[0m \u001b[0mX\u001b[0m \u001b[1;33m=\u001b[0m \u001b[0msm\u001b[0m\u001b[1;33m.\u001b[0m\u001b[0madd_constant\u001b[0m\u001b[1;33m(\u001b[0m\u001b[0mX\u001b[0m\u001b[1;33m,\u001b[0m \u001b[0mprepend\u001b[0m\u001b[1;33m=\u001b[0m\u001b[1;32mFalse\u001b[0m\u001b[1;33m)\u001b[0m\u001b[1;33m\u001b[0m\u001b[0m\n\u001b[0;32m      3\u001b[0m \u001b[0mres2\u001b[0m \u001b[1;33m=\u001b[0m \u001b[0msm\u001b[0m\u001b[1;33m.\u001b[0m\u001b[0mOLS\u001b[0m\u001b[1;33m(\u001b[0m\u001b[0magal\u001b[0m\u001b[1;33m,\u001b[0m \u001b[0mX\u001b[0m\u001b[1;33m)\u001b[0m\u001b[1;33m.\u001b[0m\u001b[0mfit\u001b[0m\u001b[1;33m(\u001b[0m\u001b[1;33m)\u001b[0m\u001b[1;33m\u001b[0m\u001b[0m\n",
      "\u001b[1;31mNameError\u001b[0m: name 'dummy' is not defined"
     ]
    }
   ],
   "source": [
    "X = np.column_stack((xx, dummy[:,1:]))\n",
    "X = sm.add_constant(X, prepend=False)\n",
    "res2 = sm.OLS(agal, X).fit()"
   ]
  },
  {
   "cell_type": "code",
   "execution_count": null,
   "metadata": {
    "collapsed": true
   },
   "outputs": [],
   "source": []
  },
  {
   "cell_type": "markdown",
   "metadata": {},
   "source": [
    "Outlier를 제외하고 linear fit,\n",
    "그 다음에 outlier만 가지고 outlier의 outlier를 제외한 linear fit. \n",
    "반복... 그냥 linear fit과 outlier를 제외한 fit이 비슷해지면 멈춤\n",
    "... 별로임. (http://scikit-learn.org/stable/auto_examples/linear_model/plot_ransac.html)"
   ]
  },
  {
   "cell_type": "code",
   "execution_count": 126,
   "metadata": {
    "collapsed": false
   },
   "outputs": [
    {
     "name": "stdout",
     "output_type": "stream",
     "text": [
      "Estimated coefficients (true, normal, RANSAC):\n",
      "82.1903908407869 [-0.00152772] [-0.00251588]\n"
     ]
    }
   ],
   "source": [
    "from sklearn import linear_model, datasets\n",
    "\n",
    "agal = lambda_evol_all[4,:].copy()\n",
    "agal = smooth(agal[agal > 0], window_len=20)\n",
    "xx = np.arange(len(agal))\n",
    "\n",
    "tmp = np.zeros((len(xx),1))\n",
    "tmp[:,0] = xx\n",
    "X = tmp\n",
    "y = agal\n",
    "\n",
    "# Fit line using all data\n",
    "model = linear_model.LinearRegression()\n",
    "model.fit(X, y)\n",
    "\n",
    "# Robustly fit linear model with RANSAC algorithm\n",
    "model_ransac = linear_model.RANSACRegressor(linear_model.LinearRegression())\n",
    "model_ransac.fit(X, y)\n",
    "inlier_mask = model_ransac.inlier_mask_\n",
    "outlier_mask = np.logical_not(inlier_mask)\n",
    "\n",
    "# Predict data of estimated models\n",
    "line_X = np.arange(-5, 5)\n",
    "line_y = model.predict(line_X[:, np.newaxis])\n",
    "line_y_ransac = model_ransac.predict(line_X[:, np.newaxis])\n",
    "\n",
    "# Compare estimated coefficients\n",
    "print(\"Estimated coefficients (true, normal, RANSAC):\")\n",
    "print(coef, model.coef_, model_ransac.estimator_.coef_)\n",
    "\n",
    "plt.plot(X[inlier_mask], y[inlier_mask], '.g', label='Inliers')\n",
    "plt.plot(X[outlier_mask], y[outlier_mask], '.r', label='Outliers')\n",
    "plt.plot(line_X, line_y, '-k', label='Linear regressor')\n",
    "plt.plot(line_X, line_y_ransac, '-b', label='RANSAC regressor')\n",
    "plt.legend(loc='best')\n",
    "plt.show()"
   ]
  },
  {
   "cell_type": "code",
   "execution_count": 131,
   "metadata": {
    "collapsed": true
   },
   "outputs": [],
   "source": [
    "from scipy import interpolate\n",
    "fig, ax = plt.subplots(3)\n",
    "agal = lambda_evol_all[6,:].copy()\n",
    "agal = smooth(agal[agal > 0], window_len=20)\n",
    "xx = range(len(agal))\n",
    "xnew = np.linspace(0,len(agal),num=30)\n",
    "\n",
    "tck = interpolate.splrep(xx, agal, k=2, s=0)\n",
    "fit = interpolate.splev(xnew, tck, der=0)\n",
    "\n",
    "\n",
    "\n",
    "ax[0].plot(xx, agal, \"o\")\n",
    "ax[0].plot(xnew, fit)\n",
    "ax[1].plot(interpolate.splev(xnew, tck, der=1))\n",
    "ax[2].plot(interpolate.splev(xnew, tck, der=2))\n",
    "plt.show()"
   ]
  },
  {
   "cell_type": "code",
   "execution_count": 72,
   "metadata": {
    "collapsed": false
   },
   "outputs": [
    {
     "name": "stdout",
     "output_type": "stream",
     "text": [
      "r2 = 0.97864589967\n"
     ]
    }
   ],
   "source": [
    "#from scipy.signal import wiener, medfilt\n",
    "#import scipy.ndimage.filters as filters\n",
    "def piecewise_linear(data, knot):\n",
    "    x1 = np.arange(len(data))\n",
    "    x2 = np.arange(len(data))\n",
    "    x1[knot:] = 0 # [1,2,3,4,5,0,0,0,0]\n",
    "    x2[:knot] = 0 # [0,0,0,0,0,6,7,8,9]\n",
    "    \n",
    "    fit1 = scipy.stats.linregress(xx, y=data[:knot])    \n",
    "    \n",
    "\n",
    "\n",
    "\n",
    "agal = smooth(agal_org, window_len=25)\n",
    "#agal2 = wiener(agal_org,mysize=10)\n",
    "#agal3 = medfilt(agal_org,kernel_size=25)\n",
    "#agal4 = filters.gaussian_filter1d(agal_org,sigma=10)\n",
    "\n",
    "\n",
    "# Now, try 1D fit. \n",
    "\n",
    " = scipy.stats.linregress(xx, y=agal)\n",
    "print(\"r2 =\", r_value**2)"
   ]
  },
  {
   "cell_type": "markdown",
   "metadata": {},
   "source": [
    "예를 들어.. r2가 0.9 이상인걸 골라보자. "
   ]
  },
  {
   "cell_type": "code",
   "execution_count": 73,
   "metadata": {
    "collapsed": true
   },
   "outputs": [],
   "source": [
    "plt.plot(agal, label='smooth')\n",
    "#plt.plot(agal2, label='wiener')\n",
    "#plt.plot(agal3, label='medfit')\n",
    "#plt.plot(agal4, label='gaussian')\n",
    "plt.plot(intercept + slope * xx)\n",
    "plt.plot(agal_org, label='org')\n",
    "plt.legend(loc='best')\n",
    "plt.show()\n",
    "\n",
    "# among those above, smooth works best."
   ]
  },
  {
   "cell_type": "code",
   "execution_count": 9,
   "metadata": {
    "collapsed": true
   },
   "outputs": [],
   "source": [
    "lambda_range=[0., 0.8]\n",
    "yticks_ok=[0.0, 0.2, 0.4, 0.6, 0.8]\n",
    "nbins = 20\n",
    "den_map = np.zeros((nbins, nnouts))\n",
    "\n",
    "for i in range(nnouts):\n",
    "    den_map[:,i], ypoints = np.histogram(lambda_evol_all[:,i], bins=nbins, range=lambda_range)\n",
    "    den_map[:,i] /= den_map[:,i].max()\n",
    "\n",
    "  "
   ]
  },
  {
   "cell_type": "code",
   "execution_count": null,
   "metadata": {
    "collapsed": false
   },
   "outputs": [],
   "source": [
    "from astropy.stats import sigma_clip\n",
    "\n",
    "\n",
    "\n",
    "nouts = np.arange(nout_ini, nout_fi + 1)\n",
    "xx = np.tile(nouts, ngals_tot) \n",
    "all_data = lambda_evol_all.ravel()\n",
    "data = all_data.copy()\n",
    "data[np.isnan(data)] = 10\n",
    "data[np.isinf(data)] = 10\n",
    "data[data==0] = 10\n",
    "\n",
    "#al, b1, c1 = scipy.stats.sigmaclip(data, 1.0, 1.0)\n",
    "filtered_data = sigma_clip(data, sig=1.0, copy=True)\n",
    "x = xx[~filtered_data.mask]\n",
    "y = all_data[~filtered_data.mask]\n",
    "\n",
    "xx,yy,z = density_map(x,y)\n",
    "\n",
    "\n"
   ]
  },
  {
   "cell_type": "code",
   "execution_count": 95,
   "metadata": {
    "collapsed": true
   },
   "outputs": [
    {
     "data": {
      "text/plain": [
       "array([  1.73972577e+00,   1.70270268e+00,   1.66666662e+00,\n",
       "         1.63157889e+00,   1.59740260e+00,   1.56410245e+00,\n",
       "         1.53164542e+00,   1.49999994e+00,   1.46913579e+00,\n",
       "         1.43902430e+00,   1.40963854e+00,   1.38095237e+00,\n",
       "         1.35294102e+00,   1.32558128e+00,   1.29885047e+00,\n",
       "         1.27272726e+00,   1.24719091e+00,   1.22222220e+00,\n",
       "         1.19780216e+00,   1.17391291e+00,   1.15053756e+00,\n",
       "         1.12765957e+00,   1.10526298e+00,   1.08333330e+00,\n",
       "         1.06185564e+00,   1.04081632e+00,   1.02020202e+00,\n",
       "         9.99999924e-01,   9.80198017e-01,   9.60784241e-01,\n",
       "         9.41747460e-01,   9.23076797e-01,   9.04761848e-01,\n",
       "         8.86792387e-01,   8.69158763e-01,   8.51851840e-01,\n",
       "         8.34862321e-01,   8.18181764e-01,   8.01801651e-01,\n",
       "         7.85714239e-01,   7.69911496e-01,   7.54385907e-01,\n",
       "         7.39130432e-01,   7.24137901e-01,   7.09401681e-01,\n",
       "         6.94915248e-01,   6.80672223e-01,   6.66666656e-01,\n",
       "         6.52892510e-01,   6.39344120e-01,   6.26016253e-01,\n",
       "         6.12903198e-01,   5.99999945e-01,   5.87301573e-01,\n",
       "         5.74803066e-01,   5.62499930e-01,   5.50387516e-01,\n",
       "         5.38461508e-01,   5.26717421e-01,   5.15151394e-01,\n",
       "         5.03759395e-01,   4.92537284e-01,   4.81481370e-01,\n",
       "         4.70588235e-01,   4.59853946e-01,   4.49275244e-01,\n",
       "         4.38848894e-01,   4.28571303e-01,   4.18439686e-01,\n",
       "         4.08450692e-01,   3.98601259e-01,   3.88888847e-01,\n",
       "         3.79310344e-01,   3.69862971e-01,   3.60544213e-01,\n",
       "         3.51351346e-01,   3.42281840e-01,   3.33333332e-01,\n",
       "         3.24503255e-01,   3.15789401e-01,   3.07189541e-01,\n",
       "         2.98701275e-01,   2.90322449e-01,   2.82051250e-01,\n",
       "         2.73885349e-01,   2.65822779e-01,   2.57861597e-01,\n",
       "         2.49999989e-01,   2.42236024e-01,   2.34567901e-01,\n",
       "         2.26993838e-01,   2.19512180e-01,   2.12121209e-01,\n",
       "         2.04819275e-01,   1.97604786e-01,   1.90476155e-01,\n",
       "         1.83431942e-01,   1.76470587e-01,   1.69590593e-01,\n",
       "         1.62790675e-01,   1.56069354e-01,   1.49425285e-01,\n",
       "         1.42857064e-01,   1.36363618e-01,   1.29943483e-01,\n",
       "         1.23595471e-01,   1.17318424e-01,   1.11111108e-01,\n",
       "         1.04972370e-01,   9.89010870e-02,   9.28961221e-02,\n",
       "         8.69565128e-02,   8.10810768e-02,   7.52688136e-02,\n",
       "         6.95187104e-02,   6.38297832e-02,   5.82010305e-02,\n",
       "         5.26315788e-02,   4.71203860e-02,   4.16666124e-02,\n",
       "         3.62694284e-02,   3.09278350e-02,   2.56409871e-02,\n",
       "         2.04078275e-02,   1.52284256e-02,   1.01010097e-02,\n",
       "         5.02510951e-03,  -5.90099969e-10])"
      ]
     },
     "execution_count": 95,
     "metadata": {},
     "output_type": "execute_result"
    }
   ],
   "source": [
    "zreds"
   ]
  },
  {
   "cell_type": "code",
   "execution_count": 99,
   "metadata": {
    "collapsed": false
   },
   "outputs": [
    {
     "name": "stderr",
     "output_type": "stream",
     "text": [
      "/home/hoseung/.local/lib/python3.4/site-packages/matplotlib/collections.py:590: FutureWarning: elementwise comparison failed; returning scalar instead, but in the future will perform elementwise comparison\n",
      "  if self._edgecolors == str('face'):\n"
     ]
    }
   ],
   "source": [
    "fig, ax = plt.subplots(1)\n",
    "im = ax.scatter(xx, yy, c=z, s=50, edgecolor='')\n",
    "ax.set_ylim([-0.05, 0.9])\n",
    "ax.set_yticks([0.0, 0.2, 0.4, 0.6, 0.8])\n",
    "ax.set_yticklabels([str(yy) for yy in yticks_ok])\n",
    "\n",
    "ax.set_xlabel(\"Redshift\")\n",
    "ax.set_xlim([nout_ini, nout_fi+1])\n",
    "zz_target = [0, 0.2, 0.5, 1.0, 2.0, 3.0]\n",
    "x_tick_pos = np.searchsorted(zreds[::-1], zz_target) + nout_ini# + nout_min\n",
    "\n",
    "ax.set_xticks(x_tick_pos)#[::-1])\n",
    "ax.set_xticklabels(labels = [\"{:0.1f}\".format(z) for z in zz_target])\n",
    "\n",
    "plt.show()\n"
   ]
  },
  {
   "cell_type": "code",
   "execution_count": 69,
   "metadata": {
    "collapsed": false
   },
   "outputs": [],
   "source": [
    "\n",
    "fig, ax = plt.subplots(1)\n",
    "    \n",
    "im = ax.imshow(den_map, origin=\"lower\"#, cmap=\"Blues\", interpolation=\"none\"\n",
    "               , extent=[0,nnouts,0,nbins], aspect='auto')\n",
    "\n",
    "#ax.set_xlim([-1.5, lr_points*nreff])\n",
    "ax.set_ylim([-0.5,nbins]) \n",
    "#ax.set_title(r\"{:.1e} $< M_\\ast <$ {:.1e}\".format(mass_cut_l[imass], mass_cut_r[imass]))\n",
    "#ax.text(2,17, \"# gals:\" + str(ngood)) # data coordinates\n",
    "\n",
    "ax.set_yticks([0.5 + nbins * ly for ly in [0.0, 0.2, 0.4, 0.6, 0.8]])\n",
    "ax.set_yticklabels([str(yy) for yy in yticks_ok])\n",
    "\n",
    "ax.set_xlabel(\"Redshift\")\n",
    "#nout_min = 37\n",
    "#ax.set_xlim([nout_min, 190])\n",
    "#plt.gca().invert_xaxis()\n",
    "\n",
    "# Redshift axis\n",
    "#ax2 = ax.twiny()\n",
    "zz_target = [0, 0.2, 0.5, 1.0, 2.0, 3.0]\n",
    "x_tick_pos = np.searchsorted(zreds[::-1], zz_target)# + nout_min\n",
    "\n",
    "ax.set_xticks(x_tick_pos)#[::-1])\n",
    "ax.set_xticklabels(labels = [\"{:0.1f}\".format(z) for z in zz_target])\n",
    "\n",
    "plt.show()"
   ]
  },
  {
   "cell_type": "code",
   "execution_count": null,
   "metadata": {
    "collapsed": true
   },
   "outputs": [],
   "source": []
  }
 ],
 "metadata": {
  "kernelspec": {
   "display_name": "Python 3",
   "language": "python",
   "name": "python3"
  },
  "language_info": {
   "codemirror_mode": {
    "name": "ipython",
    "version": 3
   },
   "file_extension": ".py",
   "mimetype": "text/x-python",
   "name": "python",
   "nbconvert_exporter": "python",
   "pygments_lexer": "ipython3",
   "version": "3.4.3+"
  }
 },
 "nbformat": 4,
 "nbformat_minor": 0
}
