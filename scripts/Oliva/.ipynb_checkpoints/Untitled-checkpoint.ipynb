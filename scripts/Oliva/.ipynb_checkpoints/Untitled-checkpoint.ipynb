{
 "cells": [
  {
   "cell_type": "code",
   "execution_count": 31,
   "metadata": {
    "collapsed": false
   },
   "outputs": [],
   "source": [
    "import pickle\n",
    "import numpy as np\n",
    "import load\n",
    "\n",
    "import matplotlib.pyplot as plt\n",
    "import tree.halomodule as hmo\n",
    "import utils.match as mtc\n",
    "\n",
    "\n",
    "cat = pickle.load(open(wdir + cdir + 'catalog' + str(nout) + '.pickle', 'rb'))"
   ]
  },
  {
   "cell_type": "code",
   "execution_count": 57,
   "metadata": {
    "collapsed": false
   },
   "outputs": [],
   "source": [
    "def bcg_prop(cat, verbose=False):\n",
    "    sort_mstar = cat['mstar'].argsort()\n",
    "    bcg = cat[-1]\n",
    "    sbcg = cat[-2]\n",
    "    dominance = bcg.mstar - sbcg.mstar\n",
    "    if verbose:\n",
    "        pass\n",
    "        #print(bcg.mstar, sbcg.mstar)\n",
    "    \n",
    "    return bcg, dominance\n",
    "\n",
    "\n",
    "def assign_recarr(recarr, ind, data):\n",
    "    \"\"\"\n",
    "        If dtype varies among clusters (different version of lambda_gal),\n",
    "        available \n",
    "    \"\"\"\n",
    "    for fieldname in data.dtype.names:\n",
    "        recarr[fieldname][ind] = data[fieldname]\n",
    "        \n",
    "        \n",
    "def halo_of_gal(halo, catalog, galid, dim6=False):\n",
    "    gal = catalog[catalog.id == galid]\n",
    "    \n",
    "    center = np.array([gal.xc, gal.yc, gal.zc, gal.rhalo, gal.vx, gal.vy, gal.vz])\n",
    "    \n",
    "    if dim6 :\n",
    "        norm = np.sqrt(np.square(center[0] - halo.x) + \n",
    "                   np.square(center[1] - halo.y) + \n",
    "                   np.square(center[2] - halo.z) +\n",
    "                   np.square(center[3] - halo.rvir) +\n",
    "                   np.square(center[4] - halo.vx) + \n",
    "                   np.square(center[5] - halo.vy) + \n",
    "                   np.square(center[6] - halo.vz))\n",
    "    else:\n",
    "        norm = np.sqrt(np.square(center[0] - halo.x) + \n",
    "                   np.square(center[1] - halo.y) + \n",
    "                   np.square(center[2] - halo.z) +\n",
    "                   np.square(center[3] - halo.rvir))\n",
    "\n",
    "    i_match = norm.argmin()\n",
    "    \n",
    "    return halo[i_match]"
   ]
  },
  {
   "cell_type": "code",
   "execution_count": 36,
   "metadata": {
    "collapsed": true
   },
   "outputs": [],
   "source": [
    "nout = 187\n",
    "clusters = ['05427', '01605', '29172', '28928']"
   ]
  },
  {
   "cell_type": "code",
   "execution_count": 37,
   "metadata": {
    "collapsed": false
   },
   "outputs": [
    {
     "name": "stdout",
     "output_type": "stream",
     "text": [
      "/home/hoseung/Work/data/05427/catalog_GM/catalog187.pickle\n",
      "/home/hoseung/Work/data/05427/halo/DM/tree_bricks187\n",
      "/home/hoseung/Work/data/01605/catalog_GM/catalog187.pickle\n",
      "/home/hoseung/Work/data/01605/halo/DM/tree_bricks187\n"
     ]
    }
   ],
   "source": [
    "# check if the clusters have relevant data\n",
    "from glob import glob\n",
    "for i, cluster in enumerate(clusters):\n",
    "    wdir = '/home/hoseung/Work/data/' + cluster + '/'\n",
    "    cat_list = glob(\"\")\n",
    "    for file in glob(wdir + cdir + 'catalog' + str(nout) + '.pickle'):\n",
    "        print(file)\n",
    "    for file in glob(wdir + 'halo/DM/tree_bricks' + str(nout)):\n",
    "        print(file)"
   ]
  },
  {
   "cell_type": "code",
   "execution_count": 64,
   "metadata": {
    "collapsed": false
   },
   "outputs": [
    {
     "name": "stdout",
     "output_type": "stream",
     "text": [
      "143.7947 88.8570 86.1537 1.9126e+14\n",
      "143.8875 89.0313 85.9952 2.3898e+10\n",
      "100.2541 55.3397 173.1102 5.4942e+14\n",
      "100.3797 55.5025 172.9746 8.2163e+09\n"
     ]
    }
   ],
   "source": [
    "bcgs = np.zeros(len(clusters), dtype=[('index', '<i8'), ('boxtokpc', '<f8'), ('id', '<i8'), ('idx', '<i8'), ('lambda_arr', 'O'), ('lambda_r', '<f8'), ('mgas', '<f8'), ('mstar', '<f8'), ('nstar', '<i8'), ('rgal', '<f8'), ('rhalo', '<f8'), ('vx', '<f8'), ('vy', '<f8'), ('vz', '<f8'), ('xc', '<f8'), ('yc', '<f8'), ('zc', '<f8')])\n",
    "#dominance = np.zeros(len(clusters))\n",
    "dominance =[]\n",
    "rgal = []\n",
    "mhalo = []\n",
    "rhalo =[]\n",
    "lambdar = []\n",
    "mstar = []\n",
    "\n",
    "for i, cluster in enumerate(clusters[:2]):\n",
    "    wdir = '/home/hoseung/Work/data/' + cluster + '/' #'05427/'\n",
    "    \n",
    "    cat = pickle.load(open(wdir + cdir + 'catalog' + str(nout) + '.pickle', 'rb'))\n",
    "    bcg, dom = bcg_prop(cat, verbose=True)\n",
    "    assign_recarr(bcgs, i, bcg)\n",
    "    \n",
    "    info = load.info.Info(base = wdir, nout=nout, load=True)\n",
    "    hh = hmo.Halo(nout=nout, base=wdir, info=info, halofinder=\"HM\", is_gal=False, load=True)\n",
    "    hh.data.x *= info.pboxsize\n",
    "    hh.data.y *= info.pboxsize\n",
    "    hh.data.z *= info.pboxsize\n",
    "    hh.data.rvir *= info.pboxsize\n",
    "    \n",
    "    halo = halo_of_gal(hh.data, cat, bcg.id) # halo data\n",
    "    halo = hh.data[hh.data.np.argmax()]\n",
    "    print(\"{:.4f} {:.4f} {:.4f} {:.4e}\".format(halo['x'], halo['y'], halo['z'], halo.mvir))\n",
    "    print(\"{:.4f} {:.4f} {:.4f} {:.4e}\".format(bcg['xc'], bcg['yc'], bcg['zc'], bcg.mstar))\n",
    "    #print(halo.mvir, hh.data.mvir[hh.data.np.argmax()])\n",
    "    rgal.append(np.log10(bcg['rgal'])) # in kpc\n",
    "    rhalo.append(np.log10(bcg['rhalo'] * info.pboxsize * 1000)) # in kpc  (/h?)\n",
    "    mhalo.append(np.log10(halo['mvir']))\n",
    "    lambdar.append(bcg['lambda_r'])\n",
    "    mstar.append(np.log10(bcg['mstar']))"
   ]
  },
  {
   "cell_type": "code",
   "execution_count": 62,
   "metadata": {
    "collapsed": false
   },
   "outputs": [
    {
     "data": {
      "text/plain": [
       "0.034465533850577254"
      ]
     },
     "execution_count": 62,
     "metadata": {},
     "output_type": "execute_result"
    }
   ],
   "source": [
    "bcg['rhalo'] * info.pboxsize"
   ]
  },
  {
   "cell_type": "markdown",
   "metadata": {},
   "source": [
    "halo_of_gal이 안 맞음. 왜 안 맞을까?... 너무 busy해서 다른 헤일로가 더 잘 맞아버림.. \n",
    "-> rvir까지 사용하면 한결 나음. \n",
    "\n",
    "mhalo만 추출하면 그림 그릴 수 있음! "
   ]
  },
  {
   "cell_type": "markdown",
   "metadata": {},
   "source": [
    "# confirm halos matching\n",
    "fig, axs = plt.subplots(2)\n",
    "axs[0].plot(halos.id, cat.id)\n",
    "axs[0].set_title(\"id vs id\")\n",
    "axs[1].plot(halos.rvir, cat.rhalo)\n",
    "axs[1].set_title(\"rvir vs rvir\")\n",
    "\n",
    "plt.show()"
   ]
  },
  {
   "cell_type": "code",
   "execution_count": 65,
   "metadata": {
    "collapsed": false
   },
   "outputs": [],
   "source": [
    "#samples = bcgs\n",
    "\n",
    "fig, axs = plt.subplots(3,3)\n",
    "axs = axs.ravel()\n",
    "\n",
    "#rgal = np.log10(samples['rgal']) # in kpc\n",
    "#rhalo = np.log10(samples['rhalo'] * info.pboxsize * 1000) # in kpc  (/h?)\n",
    "#mhalo = np.log10(samples['mvir'])\n",
    "#lambdar = samples['lambda_r']\n",
    "#mstar = np.log10(samples['mstar'])\n",
    "\n",
    "axs[0].scatter(mstar, lambdar, c = lambdar)\n",
    "axs[0].set_title(\"rotation vs Mstar, fig3\")\n",
    "\n",
    "axs[1].scatter(rgal, lambdar, c = lambdar)\n",
    "axs[1].set_title(\"rotation vs Rgal, fig7\")\n",
    "\n",
    "axs[2].scatter(mhalo, lambdar, c = lambdar)\n",
    "axs[2].set_title(\"rotation vs Mhalo, fig8\")\n",
    "\n",
    "axs[3].scatter(rgal, lambdar, c = lambdar)\n",
    "axs[3].set_title(\"rotation vs dominance**, fig9\")\n",
    "\n",
    "axs[4].scatter(mstar, rgal, c = lambdar)\n",
    "axs[4].set_title(\"Rgal vs Mstar, fig10\")\n",
    "\n",
    "axs[5].scatter(mhalo, rhalo, c = lambdar)\n",
    "axs[5].set_title(\"Mhalo vs Mstar, fig11\")\n",
    "\n",
    "plt.show()"
   ]
  },
  {
   "cell_type": "code",
   "execution_count": null,
   "metadata": {
    "collapsed": true
   },
   "outputs": [],
   "source": []
  }
 ],
 "metadata": {
  "kernelspec": {
   "display_name": "Python 3",
   "language": "python",
   "name": "python3"
  },
  "language_info": {
   "codemirror_mode": {
    "name": "ipython",
    "version": 3
   },
   "file_extension": ".py",
   "mimetype": "text/x-python",
   "name": "python",
   "nbconvert_exporter": "python",
   "pygments_lexer": "ipython3",
   "version": "3.4.3+"
  }
 },
 "nbformat": 4,
 "nbformat_minor": 0
}
