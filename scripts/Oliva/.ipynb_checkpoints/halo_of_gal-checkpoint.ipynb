{
 "cells": [
  {
   "cell_type": "markdown",
   "metadata": {},
   "source": [
    "Works great overall, but doesn't wokr well with BCG.\n",
    "Because BCGs are not at the center of cluster potential? "
   ]
  },
  {
   "cell_type": "code",
   "execution_count": 105,
   "metadata": {
    "collapsed": true
   },
   "outputs": [],
   "source": [
    "import pickle\n",
    "import numpy as np\n",
    "import load\n",
    "\n",
    "import matplotlib.pyplot as plt\n",
    "import tree.halomodule as hmo\n",
    "import utils.match as mtc\n",
    "\n",
    "nout = 187\n",
    "clusters = ['29172', '28928', '05427', '01605']\n"
   ]
  },
  {
   "cell_type": "code",
   "execution_count": 108,
   "metadata": {
    "collapsed": true
   },
   "outputs": [],
   "source": [
    "def halo_of_gal(halo, catalog, galid, dim6=True):\n",
    "    gal = catalog[catalog.id == galid]\n",
    "    \n",
    "    center = np.array([gal.xc, gal.yc, gal.zc, gal.vx, gal.vy, gal.vz])\n",
    "    \n",
    "    if dim6 :\n",
    "        norm = np.sqrt(np.square(center[0] - halo.x) + \n",
    "                   np.square(center[1] - halo.y) + \n",
    "                   np.square(center[2] - halo.z) + \n",
    "                   np.square(center[3] - halo.vx) + \n",
    "                   np.square(center[4] - halo.vy) + \n",
    "                   np.square(center[5] - halo.vz))\n",
    "    else:\n",
    "        norm = np.sqrt(np.square(center[0] - halo.x) + \n",
    "                   np.square(center[1] - halo.y) + \n",
    "                   np.square(center[2] - halo.z))\n",
    "\n",
    "    i_match = norm.argmin()\n",
    "    \n",
    "    return halo[i_match]"
   ]
  },
  {
   "cell_type": "code",
   "execution_count": 109,
   "metadata": {
    "collapsed": false
   },
   "outputs": [],
   "source": [
    "#for i, cluster in enumerate(clusters):\n",
    "cluster = clusters[3]\n",
    "cdir = 'catalog_GM/'\n",
    "wdir = '/home/hoseung/Work/data/' + cluster + '/' #'05427/'\n",
    "\n",
    "cat = pickle.load(open(wdir + cdir + 'catalog' + str(nout) + '.pickle', 'rb'))\n",
    "\n",
    "info = load.info.Info(base = wdir, nout=nout, load=True)\n",
    "hh = hmo.Halo(nout=nout, base=wdir, info=info, halofinder=\"HM\", is_gal=False, load=True)"
   ]
  },
  {
   "cell_type": "code",
   "execution_count": 130,
   "metadata": {
    "collapsed": false
   },
   "outputs": [],
   "source": [
    "gal = cat[cat.mstar.argmax()]\n",
    "hal = hh.data.copy()\n",
    "hal.x *= info.pboxsize\n",
    "hal.y *= info.pboxsize\n",
    "hal.z *= info.pboxsize\n",
    "hal.rvir *= info.pboxsize\n",
    "\n",
    "hhm = halo_of_gal(hal, cat, gal.id, dim6=False)"
   ]
  },
  {
   "cell_type": "code",
   "execution_count": 131,
   "metadata": {
    "collapsed": false
   },
   "outputs": [
    {
     "name": "stdout",
     "output_type": "stream",
     "text": [
      "[  94.91790009   66.01610565  166.52716064]\n",
      "100.255646233 55.3375592087 173.109018897\n"
     ]
    }
   ],
   "source": [
    "print(np.array([hhm['x'],hhm['y'],hhm['z']]))\n",
    "print(gal['xc'], gal['yc'], gal['zc'])"
   ]
  },
  {
   "cell_type": "code",
   "execution_count": 82,
   "metadata": {
    "collapsed": false
   },
   "outputs": [],
   "source": [
    "def halo_near(data, i_center, radius):\n",
    "    return (np.square(data.x - data.x[i_center]) + \n",
    "           np.square(data.y - data.y[i_center]) + \n",
    "           np.square(data.z - data.z[i_center])) < np.square(radius)"
   ]
  },
  {
   "cell_type": "code",
   "execution_count": 123,
   "metadata": {
    "collapsed": true
   },
   "outputs": [],
   "source": [
    "i_cluster = hal.np.argmax()\n",
    "h_massive = (hal.mvir > 1e12) * halo_near(hal, i_cluster, 2*hal.rvir[i_cluster])"
   ]
  },
  {
   "cell_type": "code",
   "execution_count": 124,
   "metadata": {
    "collapsed": true
   },
   "outputs": [],
   "source": [
    "hms = hal[h_massive]"
   ]
  },
  {
   "cell_type": "code",
   "execution_count": 125,
   "metadata": {
    "collapsed": false
   },
   "outputs": [
    {
     "data": {
      "text/plain": [
       "14"
      ]
     },
     "execution_count": 125,
     "metadata": {},
     "output_type": "execute_result"
    }
   ],
   "source": [
    "sum(h_massive)"
   ]
  },
  {
   "cell_type": "code",
   "execution_count": 100,
   "metadata": {
    "collapsed": false
   },
   "outputs": [],
   "source": [
    "from mpl_toolkits.mplot3d import Axes3D\n",
    "\n",
    "def make_sphere(xc,yc,zc,rr):\n",
    "    u, v = np.mgrid[0:2*np.pi:15j, 0:np.pi:10j]\n",
    "    x = xc + rr *np.cos(u)*np.sin(v)\n",
    "    y = yc + rr *np.sin(u)*np.sin(v)\n",
    "    z = zc + rr *np.cos(v)\n",
    "    return x,y,z"
   ]
  },
  {
   "cell_type": "code",
   "execution_count": 126,
   "metadata": {
    "collapsed": false
   },
   "outputs": [
    {
     "name": "stderr",
     "output_type": "stream",
     "text": [
      "/usr/lib/python3/dist-packages/mpl_toolkits/mplot3d/axes3d.py:1094: FutureWarning: comparison to `None` will result in an elementwise object comparison in the future.\n",
      "  if self.button_pressed in self._rotate_btn:\n"
     ]
    }
   ],
   "source": [
    "fig = plt.figure()\n",
    "ax = fig.add_subplot(111, projection='3d')\n",
    "ax.set_aspect(\"equal\")\n",
    "\n",
    "\n",
    "\n",
    "for ahalo in hms:\n",
    "    x,y,z = make_sphere(ahalo.x,\n",
    "                        ahalo.y,\n",
    "                        ahalo.z,\n",
    "                        ahalo.rvir)\n",
    "    ax.plot_wireframe(x, y, z, color=\"r\")\n",
    "\n",
    "x,y,z = make_sphere(gal.xc, gal.yc, gal.zc, gal.rgal * 1e-3 * 10)\n",
    "ax.plot_wireframe(x, y, z, color=\"b\")\n",
    "    \n",
    "#ax.scatter(, s = hms.rvir * 1000000)\n",
    "#ax.scatter(gal.xc, gal.yc, gal.zc, s = gal.rgal, c='red')\n",
    "ax.set_xlim([gal.xc - 3,gal.xc + 3])\n",
    "ax.set_ylim([gal.yc - 3,gal.yc + 3])\n",
    "ax.set_zlim([gal.zc - 3,gal.zc + 3])\n",
    "plt.show()"
   ]
  },
  {
   "cell_type": "code",
   "execution_count": 41,
   "metadata": {
    "collapsed": false
   },
   "outputs": [
    {
     "name": "stdout",
     "output_type": "stream",
     "text": [
      " 2.429395e+12\n"
     ]
    }
   ],
   "source": [
    "print(\" {:4e}\".format(cat.mstar[117]))"
   ]
  },
  {
   "cell_type": "code",
   "execution_count": null,
   "metadata": {
    "collapsed": true
   },
   "outputs": [],
   "source": []
  }
 ],
 "metadata": {
  "kernelspec": {
   "display_name": "Python 3",
   "language": "python",
   "name": "python3"
  },
  "language_info": {
   "codemirror_mode": {
    "name": "ipython",
    "version": 3
   },
   "file_extension": ".py",
   "mimetype": "text/x-python",
   "name": "python",
   "nbconvert_exporter": "python",
   "pygments_lexer": "ipython3",
   "version": "3.4.3+"
  }
 },
 "nbformat": 4,
 "nbformat_minor": 0
}
