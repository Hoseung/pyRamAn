{
 "cells": [
  {
   "cell_type": "code",
   "execution_count": 2,
   "metadata": {
    "collapsed": true
   },
   "outputs": [],
   "source": [
    "import numpy as np"
   ]
  },
  {
   "cell_type": "code",
   "execution_count": 27,
   "metadata": {
    "collapsed": false
   },
   "outputs": [],
   "source": [
    "#rgal, mstar, mhalo, dominance, lambdar = np.genfromtxt('./Oliva_data.txt')\n",
    "#data = np.load(\"Oliva_data_170.npy\")\n",
    "data = np.load(\"Oliva_data_187.npy\")\n",
    "rgal = data['rgal']\n",
    "mstar = data['mstar']\n",
    "mhalo = data['mhalo']\n",
    "dominance = data['dominance']\n",
    "lambdar = data['lambda_r']\n",
    "bcgid = data['id']\n",
    "mgas = data['mgas']\n",
    "#rgal = data['rgal']"
   ]
  },
  {
   "cell_type": "code",
   "execution_count": 28,
   "metadata": {
    "collapsed": false
   },
   "outputs": [
    {
     "name": "stderr",
     "output_type": "stream",
     "text": [
      "/home/hoseung/.local/lib/python3.4/site-packages/matplotlib/collections.py:590: FutureWarning: elementwise comparison failed; returning scalar instead, but in the future will perform elementwise comparison\n",
      "  if self._edgecolors == str('face'):\n"
     ]
    }
   ],
   "source": [
    "import matplotlib.pyplot as plt\n",
    "fig, axs = plt.subplots(3,3)\n",
    "axs = axs.ravel()\n",
    "\n",
    "#rgal = np.log10(samples['rgal']) # in kpc\n",
    "#rhalo = np.log10(samples['rhalo'] * info.pboxsize * 1000) # in kpc  (/h?)\n",
    "#mhalo = np.log10(samples['mvir'])\n",
    "#lambdar = samples['lambda_r']\n",
    "#mstar = np.log10(samples['mstar'])\n",
    "cname = \"Blues\"\n",
    "size = 40\n",
    "axs[0].scatter(np.log10(mstar), lambdar, s =size, c = lambdar, cmap=plt.get_cmap(cname))\n",
    "axs[0].set_title(\"rotation vs Mstar, fig3\")\n",
    "\n",
    "axs[1].scatter(np.log10(rgal), lambdar, s =size, c = lambdar, cmap=plt.get_cmap(cname))\n",
    "axs[1].set_title(\"rotation vs Rgal, fig7\")\n",
    "\n",
    "axs[2].scatter(np.log10(mhalo), lambdar, s =size, c = lambdar, cmap=plt.get_cmap(cname))\n",
    "axs[2].set_title(\"rotation vs Mhalo, fig8\")\n",
    "\n",
    "axs[3].scatter(dominance, lambdar, s =size, c = lambdar, cmap=plt.get_cmap(cname))\n",
    "axs[3].set_title(\"rotation vs dominance, fig9\")\n",
    "\n",
    "axs[4].scatter(np.log10(mstar), np.log10(rgal), s =size, c = lambdar, cmap=plt.get_cmap(cname))\n",
    "axs[4].set_title(\"Rgal vs Mstar, fig10\")\n",
    "\n",
    "axs[5].scatter(np.log10(mstar), np.log10(mhalo), s =size, c = lambdar, cmap=plt.get_cmap(cname))\n",
    "axs[5].set_title(\"Mhalo vs Mstar, fig11\")\n",
    "\n",
    "axs[6].scatter(np.log10(mgas), np.log10(mhalo), s =size, c = lambdar, cmap=plt.get_cmap(cname))\n",
    "axs[6].set_title(\"rotation vs Mgas\")\n",
    "\n",
    "#axs[7].scatter(np.log10(mstar), np.log10(mhalo), s =size, c = lambdar, cmap=plt.get_cmap(cname))\n",
    "#axs[7].set_title(\"rotation vs Last Major Merger\")\n",
    "\n",
    "#plt.suptitle(\"nout = {}, z= {:.3f}\".format(str(nout), info.zred))\n",
    "\n",
    "plt.tight_layout()\n",
    "plt.show()\n",
    "#plt.savefig(\"./Oliva_plots.png\",dpi=300)\n"
   ]
  },
  {
   "cell_type": "code",
   "execution_count": null,
   "metadata": {
    "collapsed": true
   },
   "outputs": [],
   "source": []
  }
 ],
 "metadata": {
  "kernelspec": {
   "display_name": "Python 3",
   "language": "python",
   "name": "python3"
  },
  "language_info": {
   "codemirror_mode": {
    "name": "ipython",
    "version": 3
   },
   "file_extension": ".py",
   "mimetype": "text/x-python",
   "name": "python",
   "nbconvert_exporter": "python",
   "pygments_lexer": "ipython3",
   "version": "3.4.3+"
  }
 },
 "nbformat": 4,
 "nbformat_minor": 0
}
