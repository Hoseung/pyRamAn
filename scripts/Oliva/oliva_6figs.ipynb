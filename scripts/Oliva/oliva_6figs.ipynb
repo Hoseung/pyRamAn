{
 "cells": [
  {
   "cell_type": "code",
   "execution_count": 1,
   "metadata": {
    "collapsed": false
   },
   "outputs": [],
   "source": [
    "import pickle\n",
    "import numpy as np\n",
    "import load\n",
    "\n",
    "import matplotlib.pyplot as plt\n",
    "import tree.halomodule as hmo\n",
    "import utils.match as mtc"
   ]
  },
  {
   "cell_type": "code",
   "execution_count": 8,
   "metadata": {
    "collapsed": false
   },
   "outputs": [],
   "source": [
    "def bcg_prop(cat, verbose=False):\n",
    "    sort_mstar = cat['mstar'].argsort()\n",
    "    bcg = cat[sort_mstar[-1]] # BCG\n",
    "    sbcg = cat[sort_mstar[-2]] # 2nd BCG\n",
    "    dominance = 2.5* (np.log10(bcg.mstar) - np.log10(sbcg.mstar))\n",
    "    if verbose:\n",
    "        pass\n",
    "        #print(bcg.mstar, sbcg.mstar)\n",
    "    \n",
    "    return bcg, dominance\n",
    "\n",
    "\n",
    "def assign_recarr(recarr, ind, data, drop=None):\n",
    "    \"\"\"\n",
    "        If dtype varies among clusters (different version of lambda_gal),\n",
    "        available \n",
    "    \"\"\"\n",
    "    names = list(data.dtype.names)\n",
    "    if drop is not None:\n",
    "        for dd in drop:\n",
    "            names.remove(dd)\n",
    "    for fieldname in names:\n",
    "        recarr[fieldname][ind] = data[fieldname]\n",
    "        \n",
    "        \n",
    "def halo_of_gal(halo, catalog, galid, dim6=False):\n",
    "    gal = catalog[catalog.id == galid]\n",
    "    \n",
    "    center = np.array([gal.xc, gal.yc, gal.zc, gal.rhalo, gal.vx, gal.vy, gal.vz])\n",
    "    \n",
    "    if dim6 :\n",
    "        norm = np.sqrt(np.square(center[0] - halo.x) + \n",
    "                   np.square(center[1] - halo.y) + \n",
    "                   np.square(center[2] - halo.z) +\n",
    "                   np.square(center[3] - halo.rvir) +\n",
    "                   np.square(center[4] - halo.vx) + \n",
    "                   np.square(center[5] - halo.vy) + \n",
    "                   np.square(center[6] - halo.vz))\n",
    "    else:\n",
    "        norm = np.sqrt(np.square(center[0] - halo.x) + \n",
    "                   np.square(center[1] - halo.y) + \n",
    "                   np.square(center[2] - halo.z) +\n",
    "                   np.square(center[3] - halo.rvir))\n",
    "\n",
    "    i_match = norm.argmin()\n",
    "    \n",
    "    return halo[i_match]"
   ]
  },
  {
   "cell_type": "code",
   "execution_count": 3,
   "metadata": {
    "collapsed": true
   },
   "outputs": [],
   "source": [
    "nout = 187\n",
    "clusters = ['05427', '01605', '29172', '28928']\n",
    "cdir = 'catalog_GM/'"
   ]
  },
  {
   "cell_type": "code",
   "execution_count": 10,
   "metadata": {
    "collapsed": false
   },
   "outputs": [
    {
     "name": "stdout",
     "output_type": "stream",
     "text": [
      "/home/hoseung/Work/data/05427/catalog_GM/catalog187.pickle\n",
      "/home/hoseung/Work/data/05427/halo/DM/tree_bricks187\n",
      "/home/hoseung/Work/data/01605/catalog_GM/catalog187.pickle\n",
      "/home/hoseung/Work/data/01605/halo/DM/tree_bricks187\n",
      "/home/hoseung/Work/data/29172/catalog_GM/catalog187.pickle\n",
      "/home/hoseung/Work/data/29172/halo/DM/tree_bricks187\n",
      "/home/hoseung/Work/data/28928/catalog_GM/catalog187.pickle\n",
      "/home/hoseung/Work/data/28928/halo/DM/tree_bricks187\n"
     ]
    }
   ],
   "source": [
    "# check if the clusters have relevant data\n",
    "check_file=False\n",
    "if check_file:\n",
    "    from glob import glob\n",
    "    for i, cluster in enumerate(clusters):\n",
    "        wdir = '/home/hoseung/Work/data/' + cluster + '/'\n",
    "        cat_list = glob(\"\")\n",
    "        for file in glob(wdir + cdir + 'catalog' + str(nout) + '.pickle'):\n",
    "            print(file)\n",
    "        for file in glob(wdir + 'halo/DM/tree_bricks' + str(nout)):\n",
    "            print(file)"
   ]
  },
  {
   "cell_type": "code",
   "execution_count": 18,
   "metadata": {
    "collapsed": false
   },
   "outputs": [
    {
     "name": "stdout",
     "output_type": "stream",
     "text": [
      "143.7947 88.8570 86.1537 1.9126e+14\n",
      "143.4873 88.3888 86.3275 3.3774e+11\n",
      "100.2541 55.3397 173.1102 5.4942e+14\n",
      "99.4169 57.2136 174.2417 6.0399e+09\n",
      "145.5601 195.4110 129.9003 6.7639e+13\n",
      "145.6642 195.3017 129.8410 9.7173e+09\n",
      "112.7063 215.1701 82.3901 1.3751e+14\n",
      "117.8282 208.4377 84.0748 2.2562e+10\n"
     ]
    }
   ],
   "source": [
    "bcgs = np.zeros(len(clusters), \n",
    "                dtype=[('index', '<i8'), ('boxtokpc', '<f8'), ('id', '<i8'),\n",
    "                       ('idx', '<i8'), ('lambda_r', '<f8'),\n",
    "                       ('mgas', '<f8'), ('mstar', '<f8'), ('nstar', '<i8'),\n",
    "                       ('rgal', '<f8'), ('rhalo', '<f8'),\n",
    "                       ('vx', '<f8'), ('vy', '<f8'), ('vz', '<f8'),\n",
    "                       ('xc', '<f8'), ('yc', '<f8'), ('zc', '<f8'),\n",
    "                       ('mhalo', '<f8'), ('dominance', '<f8'), ('cluster', '<i8'),\n",
    "                       ('haloid', '<i8')])\n",
    "# lambda_arr is removed from bcgs and also will be ignored in assign_recarr\n",
    "# by drop=['lambda_arr'] option.\n",
    "\n",
    "dominance =[]\n",
    "rgal = []\n",
    "mhalo = []\n",
    "rhalo =[]\n",
    "lambdar = []\n",
    "mstar = []\n",
    "\n",
    "for i, cluster in enumerate(clusters):\n",
    "    wdir = '/home/hoseung/Work/data/' + cluster + '/' #'05427/'\n",
    "    \n",
    "    cat = pickle.load(open(wdir + cdir + 'catalog' + str(nout) + '.pickle', 'rb'))\n",
    "    bcg, dom = bcg_prop(cat, verbose=True)\n",
    "#    plot_gal_merger_history(cluster, bcg)\n",
    "    # exclude lambda_arr \n",
    "    \n",
    "    assign_recarr(bcgs, i, bcg, drop=['lambda_arr'])\n",
    "    \n",
    "    info = load.info.Info(base = wdir, nout=nout, load=True)\n",
    "    hh = hmo.Halo(nout=nout, base=wdir, info=info, halofinder=\"HM\", is_gal=False, load=True)\n",
    "    hh.data.x *= info.pboxsize\n",
    "    hh.data.y *= info.pboxsize\n",
    "    hh.data.z *= info.pboxsize\n",
    "    hh.data.rvir *= info.pboxsize\n",
    "    \n",
    "    halo = halo_of_gal(hh.data, cat, bcg.id) # halo data\n",
    "    halo = hh.data[hh.data.np.argmax()]\n",
    "    print(\"{:.4f} {:.4f} {:.4f} {:.4e}\".format(halo['x'], halo['y'], halo['z'], halo.mvir))\n",
    "    print(\"{:.4f} {:.4f} {:.4f} {:.4e}\".format(bcg['xc'], bcg['yc'], bcg['zc'], bcg.mstar))\n",
    "    #print(halo.mvir, hh.data.mvir[hh.data.np.argmax()])\n",
    "    rgal.append(np.log10(bcg['rgal'])) # in kpc\n",
    "    rhalo.append(np.log10(bcg['rhalo'] * info.pboxsize * 1000)) # in kpc  (/h?)\n",
    "    mhalo.append(np.log10(halo['mvir']))\n",
    "    lambdar.append(bcg['lambda_r'])\n",
    "    mstar.append(np.log10(bcg['mstar']))\n",
    "    dominance.append(dom)\n",
    "    bcgs[i]['mhalo'] = halo['mvir']\n",
    "    bcgs[i]['dominance'] = dom\n",
    "    bcgs[i]['cluster'] = cluster\n",
    "    bcgs[i]['haloid'] = halo.id\n",
    "\n",
    "    "
   ]
  },
  {
   "cell_type": "code",
   "execution_count": 17,
   "metadata": {
    "collapsed": false
   },
   "outputs": [],
   "source": [
    "#np.savetxt(\"ss.txt\", bcgs)\n",
    "np.save(\"Oliva_data.npy\", bcgs)"
   ]
  },
  {
   "cell_type": "markdown",
   "metadata": {},
   "source": [
    "# confirm halos matching\n",
    "fig, axs = plt.subplots(2)\n",
    "axs[0].plot(halos.id, cat.id)\n",
    "axs[0].set_title(\"id vs id\")\n",
    "axs[1].plot(halos.rvir, cat.rhalo)\n",
    "axs[1].set_title(\"rvir vs rvir\")\n",
    "\n",
    "plt.show()"
   ]
  },
  {
   "cell_type": "code",
   "execution_count": 16,
   "metadata": {
    "collapsed": false
   },
   "outputs": [
    {
     "name": "stderr",
     "output_type": "stream",
     "text": [
      "/home/hoseung/.local/lib/python3.4/site-packages/matplotlib/collections.py:590: FutureWarning: elementwise comparison failed; returning scalar instead, but in the future will perform elementwise comparison\n",
      "  if self._edgecolors == str('face'):\n"
     ]
    }
   ],
   "source": [
    "#samples = bcgs\n",
    "\n",
    "fig, axs = plt.subplots(3,3)\n",
    "axs = axs.ravel()\n",
    "\n",
    "#rgal = np.log10(samples['rgal']) # in kpc\n",
    "#rhalo = np.log10(samples['rhalo'] * info.pboxsize * 1000) # in kpc  (/h?)\n",
    "#mhalo = np.log10(samples['mvir'])\n",
    "#lambdar = samples['lambda_r']\n",
    "#mstar = np.log10(samples['mstar'])\n",
    "\n",
    "axs[0].scatter(mstar, lambdar, c = lambdar)\n",
    "axs[0].set_title(\"rotation vs Mstar, fig3\")\n",
    "\n",
    "axs[1].scatter(rgal, lambdar, c = lambdar)\n",
    "axs[1].set_title(\"rotation vs Rgal, fig7\")\n",
    "\n",
    "axs[2].scatter(mhalo, lambdar, c = lambdar)\n",
    "axs[2].set_title(\"rotation vs Mhalo, fig8\")\n",
    "\n",
    "axs[3].scatter(dominance, lambdar, c = lambdar)\n",
    "axs[3].set_title(\"rotation vs dominance, fig9\")\n",
    "\n",
    "axs[4].scatter(mstar, rgal, c = lambdar)\n",
    "axs[4].set_title(\"Rgal vs Mstar, fig10\")\n",
    "\n",
    "axs[5].scatter(mhalo, rhalo, c = lambdar)\n",
    "axs[5].set_title(\"Mhalo vs Mstar, fig11\")\n",
    "\n",
    "plt.suptitle(\"nout = {}, z= {:.3f}\".format(str(nout), info.zred))\n",
    "plt.tight_layout()\n",
    "#plt.show()\n",
    "plt.savefig('Oliva_fig.png', dpi=200)"
   ]
  },
  {
   "cell_type": "code",
   "execution_count": null,
   "metadata": {
    "collapsed": true
   },
   "outputs": [],
   "source": []
  }
 ],
 "metadata": {
  "kernelspec": {
   "display_name": "Python 3",
   "language": "python",
   "name": "python3"
  },
  "language_info": {
   "codemirror_mode": {
    "name": "ipython",
    "version": 3
   },
   "file_extension": ".py",
   "mimetype": "text/x-python",
   "name": "python",
   "nbconvert_exporter": "python",
   "pygments_lexer": "ipython3",
   "version": "3.4.3+"
  }
 },
 "nbformat": 4,
 "nbformat_minor": 0
}
