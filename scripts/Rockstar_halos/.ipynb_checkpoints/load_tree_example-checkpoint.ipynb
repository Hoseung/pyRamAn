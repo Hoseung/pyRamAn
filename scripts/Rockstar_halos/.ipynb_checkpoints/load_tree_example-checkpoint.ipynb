{
 "cells": [
  {
   "cell_type": "code",
   "execution_count": 1,
   "metadata": {
    "collapsed": true
   },
   "outputs": [],
   "source": [
    "import numpy as np\n",
    "import pickle\n",
    "from tree import treemodule"
   ]
  },
  {
   "cell_type": "markdown",
   "metadata": {},
   "source": [
    "### NOTE\n",
    "numpy."
   ]
  },
  {
   "cell_type": "code",
   "execution_count": null,
   "metadata": {
    "collapsed": false
   },
   "outputs": [],
   "source": [
    "is_gal=False\n",
    "wdir = '/media/hoseung/btrfs/DMO_new/'\n",
    "\n",
    "# Load complete tree -----------------------------------------------------\n",
    "alltrees = treemodule.CTree()\n",
    "if is_gal:\n",
    "    # Galaxy tree\n",
    "    tree_path = 'GalaxyMaker/Trees/'\n",
    "else:\n",
    "    # halo tree\n",
    "    tree_path = 'halo/trees/'\n",
    "    \n",
    "\n",
    "alltrees.load(filename= wdir + tree_path + 'tree_0_0_0.dat')"
   ]
  },
  {
   "cell_type": "code",
   "execution_count": null,
   "metadata": {
    "collapsed": true
   },
   "outputs": [],
   "source": []
  }
 ],
 "metadata": {
  "kernelspec": {
   "display_name": "Python 3",
   "language": "python",
   "name": "python3"
  },
  "language_info": {
   "codemirror_mode": {
    "name": "ipython",
    "version": 3
   },
   "file_extension": ".py",
   "mimetype": "text/x-python",
   "name": "python",
   "nbconvert_exporter": "python",
   "pygments_lexer": "ipython3",
   "version": "3.4.3"
  }
 },
 "nbformat": 4,
 "nbformat_minor": 0
}
