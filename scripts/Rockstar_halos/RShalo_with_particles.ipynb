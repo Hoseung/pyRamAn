{
 "cells": [
  {
   "cell_type": "code",
   "execution_count": 1,
   "metadata": {
    "collapsed": true
   },
   "outputs": [],
   "source": [
    "def plot_halo_region(region, info, star, cell=None,\n",
    "                     npix=400,\n",
    "                     fn_save='region_map.png',\n",
    "                     show=True):\n",
    "    import draw  \n",
    "    extent = (0, npix, 0, npix)\n",
    "\n",
    "    star_map = draw.pp.den2d(star['x'],star['y'],star['z'],star['m'], npix,\n",
    "                             region=region, cic=True, norm_integer=False)\n",
    "    if star_map is not False:\n",
    "        ls = np.zeros((npix,npix))\n",
    "        ii = star_map > 0\n",
    "        ls[ii] = np.log10(star_map[ii]) # Stellar map HAS empty pixels.\n",
    "        ls[star_map <= 0] = np.floor(ls.min())\n",
    "        im1 = plt.imshow(ls, cmap=\"gray\",\n",
    "                         interpolation='nearest',\n",
    "                         extent=extent,\n",
    "                         origin='lower')\n",
    "    \n",
    "    # One of two should be transposed.\n",
    "    # But which one?\n",
    "    if cell is not None:\n",
    "        gas_map = draw.pp.pp_cell(cell, npix, info, region=region, verbose=False)\n",
    "        im2 = plt.imshow(np.transpose(np.log10(gas_map)),\n",
    "                         cmap=\"CMRmap\",\n",
    "                         alpha=.5,\n",
    "                         interpolation='bilinear',\n",
    "                         extent=extent,\n",
    "                         origin='lower')\n",
    "\n",
    "    rgal = region['radius'] * info.pboxsize * 1000\n",
    "\n",
    "    ax = plt.gca()\n",
    "    ax.set_xlabel(\"position [kpc]\")\n",
    "    ax.set_xticks(np.linspace(0,npix,5))\n",
    "    xticks = [\"{:.2f}\".format(x) \\\n",
    "                for x in np.linspace(-rgal, rgal, num=5)]\n",
    "    ax.set_xticklabels(xticks)\n",
    "    ax.set_ylabel(\"position [kpc]\")\n",
    "    ax.set_yticks(np.linspace(0,npix,5))\n",
    "    yticks = [\"{:.2f}\".format(y) \\\n",
    "                for y in np.linspace(-rgal, rgal, num=5)]\n",
    "    ax.set_yticklabels(yticks)\n",
    "    \n",
    "    plt.savefig(fn_save, dpi=144)\n",
    "    if show:\n",
    "        plt.show()\n",
    "    else:\n",
    "        return\n"
   ]
  },
  {
   "cell_type": "code",
   "execution_count": 2,
   "metadata": {
    "collapsed": false
   },
   "outputs": [],
   "source": [
    "import numpy as np\n",
    "import load\n",
    "import tree\n",
    "import matplotlib.pyplot as plt\n",
    "import utils.sampling as smp\n",
    "from draw import pp"
   ]
  },
  {
   "cell_type": "code",
   "execution_count": 3,
   "metadata": {
    "collapsed": false
   },
   "outputs": [],
   "source": [
    "wdir = '/media/hoseung/btrfs/DMO/'\n",
    "nout=80\n",
    "info = load.info.Info(nout=nout, base=wdir, load=True)\n"
   ]
  },
  {
   "cell_type": "code",
   "execution_count": 6,
   "metadata": {
    "collapsed": false
   },
   "outputs": [
    {
     "name": "stdout",
     "output_type": "stream",
     "text": [
      "Ranges = [[0, 1], [0, 1], [0, 1]]\n",
      "\n",
      "No AMR instance,\n",
      "Loading one...\n",
      "An AMR instance is created\n",
      "\n",
      "Updating info.cpus\n",
      "Types of particles you want to load are:  ['dm id pos mass']\n",
      "No AMR instance,\n",
      "Loading one...\n",
      "An AMR instance is created\n",
      "\n",
      "Updating info.cpus\n",
      "No info._set_cpus attribute??\n",
      "A particle instance is created\n",
      "\n",
      "Use part.load() to load particle\n"
     ]
    }
   ],
   "source": [
    "s = load.sim.Sim(nout=nout, base=wdir, dmo=True)\n",
    "s.set_ranges() # whole volume\n",
    "\n",
    "s.add_part(['dm id pos mass'])\n",
    "\n",
    "s.part.load()\n",
    "#s.add_part(ptypes=[\"dm id pos mass\"], load=True)"
   ]
  },
  {
   "cell_type": "code",
   "execution_count": 8,
   "metadata": {
    "collapsed": true
   },
   "outputs": [],
   "source": [
    "hall = tree.halomodule.Halo(nout=nout, base=wdir, halofinder=\"RS\", info=info)\n",
    "hall.load()\n",
    "region = smp.set_region(xc=0.5, yc=0.5, zc=0.5, radius=0.5) "
   ]
  },
  {
   "cell_type": "code",
   "execution_count": 21,
   "metadata": {
    "collapsed": false
   },
   "outputs": [
    {
     "data": {
      "text/plain": [
       "rec.array([ 0.00032662,  0.0003909 ,  0.00104156, ...,  0.00037973,\n",
       "        0.00029196,  0.00037973])"
      ]
     },
     "execution_count": 21,
     "metadata": {},
     "output_type": "execute_result"
    }
   ],
   "source": [
    "hall.data['rvir']"
   ]
  },
  {
   "cell_type": "code",
   "execution_count": 22,
   "metadata": {
    "collapsed": false
   },
   "outputs": [
    {
     "name": "stdout",
     "output_type": "stream",
     "text": [
      "Are these parameters right?\n"
     ]
    }
   ],
   "source": [
    "h = tree.halomodule.Halo()\n",
    "h.derive_from(hall, hall.data['rvir'] > 0.005)\n",
    "\n",
    "fig = plt.figure()\n",
    "ax1 = fig.add_subplot(111)"
   ]
  },
  {
   "cell_type": "code",
   "execution_count": 23,
   "metadata": {
    "collapsed": false
   },
   "outputs": [
    {
     "data": {
      "text/plain": [
       "True"
      ]
     },
     "execution_count": 23,
     "metadata": {},
     "output_type": "execute_result"
    }
   ],
   "source": [
    "#ptimg = img.ptden2d\n",
    "#img.ptden2d.plot_2d_den(save=False, show=False, vmin=1e13, vmax=1e20, dpi=200, axes=ax1)\n",
    "\n",
    "pp.pp_halo(h, 800, region=region, axes=ax1, rscale=40, name=True)"
   ]
  },
  {
   "cell_type": "code",
   "execution_count": 24,
   "metadata": {
    "collapsed": false
   },
   "outputs": [],
   "source": [
    "#plt.show()\n",
    "fig.savefig(\"/home/hoseung/Desktop/akfljsdlf.png\")"
   ]
  },
  {
   "cell_type": "code",
   "execution_count": null,
   "metadata": {
    "collapsed": true
   },
   "outputs": [],
   "source": []
  }
 ],
 "metadata": {
  "kernelspec": {
   "display_name": "Python 3",
   "language": "python",
   "name": "python3"
  },
  "language_info": {
   "codemirror_mode": {
    "name": "ipython",
    "version": 3
   },
   "file_extension": ".py",
   "mimetype": "text/x-python",
   "name": "python",
   "nbconvert_exporter": "python",
   "pygments_lexer": "ipython3",
   "version": "3.4.3"
  }
 },
 "nbformat": 4,
 "nbformat_minor": 0
}
