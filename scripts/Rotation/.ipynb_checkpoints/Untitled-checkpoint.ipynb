{
 "cells": [
  {
   "cell_type": "code",
   "execution_count": 1,
   "metadata": {
    "collapsed": true
   },
   "outputs": [],
   "source": [
    "#import matplotlib\n",
    "#matplotlib.use('Agg')\n",
    "import numpy as np\n",
    "import matplotlib.pyplot as plt\n",
    "from utils.catalogs import *\n",
    "import tree.ctutils as ctu\n",
    "import pickle\n",
    "import tree.halomodule as hmo\n",
    "import load"
   ]
  },
  {
   "cell_type": "code",
   "execution_count": null,
   "metadata": {
    "collapsed": true
   },
   "outputs": [],
   "source": [
    "clusters = ['35663', '17891', '01605', '05427', '36413', '39990', '36415',\n",
    "            '07206', '06098', '10002', '28928']\n",
    "\n",
    "\n",
    "# In[7]:\n",
    "\n",
    "# single nout.\n",
    "\n",
    "cdir = 'catalog_GM/'\n",
    "cmap = plt.cm.get_cmap('jet', 5)\n",
    "\n",
    "verbose=True\n",
    "nout = 67\n",
    "ngals_tot = 0\n",
    "\n",
    "lambdas = []\n",
    "rvir = []\n",
    "dist = []\n",
    "epss = []\n",
    "\n",
    "\n",
    "#cluster = clusters[0]\n",
    "#wdir = './' + cluster + '/'\n",
    "# main galaxy list\n",
    "#print(cluster)\n",
    "#cat = pickle.load(open(wdir + cdir + 'catalog' + str(nout) + '.pickle', 'rb'))\n",
    "#info = load.info.Info(base=wdir, nout=nout, load=True)\n",
    "#hal = hmo.Halo(base=wdir, nout=nout, is_gal=False, \n",
    "#               halofinder='HM', return_id=False,\n",
    "#               load=True, info=info)\n",
    "#rr, dd = clustocentric_dist(cat, hal, info)\n",
    "\n",
    "#rvir.append(rr)\n",
    "#dist.append(dd)\n",
    "#near = cat['lambda_r'][dist < rvir[0]]\n",
    "#far = cat['lambda_r'][dist > rvir[0]]\n",
    "#    print(near)\n",
    "for iclu in range(len(clusters)):\n",
    "    cluster = clusters[iclu]\n",
    "    print(cluster)\n",
    "    wdir = './' + cluster + '/'\n",
    "    # main galaxy list\n",
    "\n",
    "    cat = pickle.load(open(wdir + cdir + 'catalog' + str(nout) + '.pickle', 'rb'))\n",
    "    info = load.info.Info(base=wdir, nout=nout, load=True)\n",
    "    hal = hmo.Halo(base=wdir, nout=nout, is_gal=False, \n",
    "                   halofinder='HM', return_id=False,\n",
    "                   load=True, info=info)\n",
    "    rr, dd = clustocentric_dist(cat, hal, info)\n",
    "    rvir.append(rr)\n",
    "    dist.append(dd)\n",
    "    epss.append(cat['eps'])\n",
    "    lambdas.append(cat['lambda_r'])\n",
    "#    near = np.concatenate((near,cat['lambda_r'][bb < rvir[iclu]]))\n",
    "#    far = np.concatenate((far,cat['lambda_r'][bb > rvir[iclu]]))\n",
    "    print(rvir[iclu], len(near), len(far))\n",
    "\n",
    "    \n",
    "fig, ax = plt.subplots(1)\n",
    "ax.scatter(np.array(eps).flatten(),\n",
    "           np.array(lambdas).flatten(),\n",
    "           alpha=0.9, color='r', label='near')\n",
    "plt.show()\n"
   ]
  }
 ],
 "metadata": {
  "kernelspec": {
   "display_name": "Python 3",
   "language": "python",
   "name": "python3"
  },
  "language_info": {
   "codemirror_mode": {
    "name": "ipython",
    "version": 3
   },
   "file_extension": ".py",
   "mimetype": "text/x-python",
   "name": "python",
   "nbconvert_exporter": "python",
   "pygments_lexer": "ipython3",
   "version": "3.4.3+"
  }
 },
 "nbformat": 4,
 "nbformat_minor": 0
}
