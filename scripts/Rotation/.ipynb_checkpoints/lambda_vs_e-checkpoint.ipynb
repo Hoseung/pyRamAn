{
 "cells": [
  {
   "cell_type": "code",
   "execution_count": 11,
   "metadata": {
    "collapsed": false
   },
   "outputs": [],
   "source": [
    "import pickle\n",
    "import matplotlib.pyplot as plt \n",
    "import numpy as np\n",
    "import load\n",
    "\n",
    "k1 = 0.786\n",
    "k2 = 0.355\n",
    "xx = np.arange(90)*0.01\n",
    "#yy = k1*np.sqrt(xx/(1-k2*xx))\n",
    "# Simple demarkation (Emsellem 2011)\n",
    "yy = 0.31 * np.sqrt(xx)\n",
    "\n",
    "eps = []\n",
    "lambda_c = []\n",
    "lambda_e = []\n",
    "\n",
    "base = '/home/hoseung/Work/data/'\n",
    "\n",
    "#info = load.info.Info(base=base +wdir + '/', nout=187, load=True)\n",
    "\n",
    "\n",
    "clusters = ['36413','35663', '04466', '39990', '10002', '36415']\n",
    "for wdir in clusters:\n",
    "    cat = pickle.load(open(base + wdir + '/rcut/catalog187.pickle', 'rb'))\n",
    "    \n",
    "#    ind = cat['mstar']*info.msun > 5e9 \n",
    "    ind = np.arange(len(cat['mstar']))\n",
    "    eps.extend(cat['eps'][ind])\n",
    "    lambda_e.extend( cat['lambda_r2'][ind])\n",
    "    lambda_c.extend( cat['lambda_r'][ind])"
   ]
  },
  {
   "cell_type": "code",
   "execution_count": 26,
   "metadata": {
    "collapsed": true
   },
   "outputs": [],
   "source": [
    "import scipy.stats as st\n",
    "\n",
    "xmin, xmax = -0.05, 1.0\n",
    "ymin, ymax = -0.05, 0.8\n",
    "\n",
    "xx, yy = np.mgrid[xmin:xmax:100j, ymin:ymax:100j]\n",
    "positions = np.vstack([xx.ravel(), yy.ravel()])\n",
    "\n",
    "values = np.vstack([eps, lambda_e])\n",
    "kernel = st.gaussian_kde(values)\n",
    "f = np.reshape(kernel(positions).T, xx.shape)\n",
    "\n",
    "values2 = np.vstack([eps, lambda_c])\n",
    "kernel2 = st.gaussian_kde(values2)\n",
    "f2 = np.reshape(kernel2(positions).T, xx.shape)"
   ]
  },
  {
   "cell_type": "code",
   "execution_count": null,
   "metadata": {
    "collapsed": false
   },
   "outputs": [],
   "source": [
    "from mpl_toolkits.axes_grid1.inset_locator import inset_axes\n",
    "fig = plt.figure(221, figsize=(6.3, 6.3))\n",
    "\n",
    "\n",
    "x = eps\n",
    "y = lambda_e\n",
    "# Calculate number of bins based on binsize for both x and y\n",
    "min_x_data, max_x_data = np.min(x), np.max(x)\n",
    "binsize = 0.05\n",
    "num_x_bins = np.floor((max_x_data - min_x_data) / binsize)\n",
    "\n",
    "min_y_data, max_y_data = np.min(y), np.max(y)\n",
    "binsize = 0.05\n",
    "num_y_bins = np.floor((max_y_data - min_y_data) / binsize)\n",
    "\n",
    "# Axes definitions\n",
    "nullfmt = plt.NullFormatter()\n",
    "left, width = 0.1, 0.6\n",
    "bottom, height = 0.1, 0.6\n",
    "bottom_h = left_h = left + width + 0.02\n",
    "hist_height = 0.2\n",
    "\n",
    "rect_main = [left, bottom, width, height]\n",
    "rect_histx = [left, bottom_h, width, hist_height]\n",
    "rect_histy = [left_h, bottom, hist_height, height]\n",
    "\n",
    "axmain=fig.add_subplot(223, position=rect_main)\n",
    "axmain.set_xlim(xmin, xmax)\n",
    "axmain.set_ylim(ymin, ymax)\n",
    "\n",
    "axHistX = fig.add_subplot(221, position=rect_histx)\n",
    "axHistY = fig.add_subplot(221, position=rect_histy)\n",
    "\n",
    "# Remove labels from histogram edges touching scatter plot\n",
    "axHistX.xaxis.set_major_formatter(nullfmt)\n",
    "axHistY.yaxis.set_major_formatter(nullfmt)\n",
    "\n",
    "# Draw main density map\n",
    "cfset = axmain.contourf(xx, yy, f, [0.2, 2, 3, 5, 10, 16], cmap='Blues')\n",
    "ains = inset_axes(axmain, width='5%', height='60%', loc=1)\n",
    "cbar = plt.colorbar(cfset, cax=ains, orientation='vertical') \n",
    "cbar.ax.yaxis.set_ticks_position('left')\n",
    "axmain.scatter(x,y)\n",
    "\n",
    "\n",
    "# Draw x-axis histogram\n",
    "axHistX.hist(x, num_x_bins, ec='green', fc='none', histtype='step')\n",
    "\n",
    "# Draw y-axis histogram\n",
    "axHistY.hist(y, num_y_bins, ec='green', fc='none', histtype='step', orientation='horizontal')\n",
    "\n",
    "\n",
    "## Or kernel density estimate plot instead of the contourf plot\n",
    "#ax.imshow(np.rot90(f), cmap='Blues', extent=[xmin, xmax, ymin, ymax])\n",
    "# Contour plot\n",
    "#cset = ax[0].contour(xx, yy, f, colors='k')\n",
    "\n",
    "\n",
    "#plt.savefig(\"lambda_vs_e.eps\")\n",
    "plt.show()"
   ]
  },
  {
   "cell_type": "code",
   "execution_count": 29,
   "metadata": {
    "collapsed": false
   },
   "outputs": [
    {
     "data": {
      "text/plain": [
       "15.719599135398058"
      ]
     },
     "execution_count": 29,
     "metadata": {},
     "output_type": "execute_result"
    }
   ],
   "source": [
    "f.ptp()"
   ]
  },
  {
   "cell_type": "code",
   "execution_count": null,
   "metadata": {
    "collapsed": true
   },
   "outputs": [],
   "source": []
  }
 ],
 "metadata": {
  "kernelspec": {
   "display_name": "Python 3",
   "language": "python",
   "name": "python3"
  },
  "language_info": {
   "codemirror_mode": {
    "name": "ipython",
    "version": 3
   },
   "file_extension": ".py",
   "mimetype": "text/x-python",
   "name": "python",
   "nbconvert_exporter": "python",
   "pygments_lexer": "ipython3",
   "version": "3.4.3+"
  }
 },
 "nbformat": 4,
 "nbformat_minor": 0
}
