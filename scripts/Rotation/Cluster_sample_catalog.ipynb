{
 "cells": [
  {
   "cell_type": "markdown",
   "metadata": {},
   "source": [
    "Table 1 of the paper.\n",
    "List of clusters, \n",
    "mass, radius, number of galaxies, (Can I measure relaxedness?)\n",
    "and so on if needed later."
   ]
  },
  {
   "cell_type": "code",
   "execution_count": 38,
   "metadata": {
    "collapsed": false
   },
   "outputs": [],
   "source": [
    "import load\n",
    "import pickle\n",
    "import tree.halomodule as hmo\n",
    "import numpy as np"
   ]
  },
  {
   "cell_type": "markdown",
   "metadata": {},
   "source": [
    "load halo bricks of each cluster, \n",
    "galaxyMaker brick (for total number of galaxies)\n",
    "galaxy catalog (for number of galaxies above the mass cut)"
   ]
  },
  {
   "cell_type": "code",
   "execution_count": 51,
   "metadata": {
    "collapsed": true
   },
   "outputs": [],
   "source": [
    "def get_ngals(halo, gal):  \n",
    "    return np.where(np.square(gal.data.x - halo.x) + \n",
    "                    np.square(gal.data.y - halo.y) +\n",
    "                    np.square(gal.data.z - halo.z) < np.square(halo.rvir))[0]\n",
    "    \n",
    "    "
   ]
  },
  {
   "cell_type": "code",
   "execution_count": 54,
   "metadata": {
    "collapsed": false
   },
   "outputs": [
    {
     "name": "stdout",
     "output_type": "stream",
     "text": [
      "05427 1.91258e+14 0.00529606 492 65\n",
      "01605 5.49418e+14 0.00752634 1523 191\n"
     ]
    }
   ],
   "source": [
    "clusters = ['05427', '01605']\n",
    "base = '/home/hoseung/Work/data/'\n",
    "\n",
    "main_halos=[]\n",
    "ngals=[]\n",
    "len_cat=[]\n",
    "\n",
    "for cluster in clusters:\n",
    "    wdir = base + cluster + '/'\n",
    "    nout = 187\n",
    "    h = hmo.Halo(nout=nout, base=wdir, halofinder='HM', is_gal=False, load=True)\n",
    "    hg = hmo.Halo(nout=nout, base=wdir, halofinder='HM', is_gal=True, load=True)\n",
    "    cat = pickle.load(open(wdir + 'catalog_GM/catalog' + str(nout) + '.pickle', 'rb'))\n",
    "    clu = h.data[h.data.np.argmax()]\n",
    "    main_halos.append(clu)\n",
    "    gals_in_cluster = get_ngals(clu,hg)\n",
    "    ngals.append(len(gals_in_cluster))\n",
    "    len_cat.append(len(cat))\n",
    "    \n",
    "    print(cluster, clu.mvir, clu.rvir, clu.nsub, len(cat))"
   ]
  },
  {
   "cell_type": "code",
   "execution_count": 60,
   "metadata": {
    "collapsed": false
   },
   "outputs": [
    {
     "ename": "TypeError",
     "evalue": "write() takes exactly 1 argument (5 given)",
     "output_type": "error",
     "traceback": [
      "\u001b[1;31m---------------------------------------------------------------------------\u001b[0m",
      "\u001b[1;31mTypeError\u001b[0m                                 Traceback (most recent call last)",
      "\u001b[1;32m<ipython-input-60-803ce0089381>\u001b[0m in \u001b[0;36m<module>\u001b[1;34m()\u001b[0m\n\u001b[0;32m      4\u001b[0m \u001b[0mf\u001b[0m\u001b[1;33m.\u001b[0m\u001b[0mwrite\u001b[0m\u001b[1;33m(\u001b[0m\u001b[1;34m\"ID      Mvir     Rvir     #gals    #large gals\"\u001b[0m\u001b[1;33m)\u001b[0m\u001b[1;33m\u001b[0m\u001b[0m\n\u001b[0;32m      5\u001b[0m \u001b[1;32mfor\u001b[0m \u001b[0ma\u001b[0m\u001b[1;33m,\u001b[0m\u001b[0mb\u001b[0m\u001b[1;33m,\u001b[0m\u001b[0mc\u001b[0m\u001b[1;33m,\u001b[0m\u001b[0md\u001b[0m \u001b[1;32min\u001b[0m \u001b[0mzip\u001b[0m\u001b[1;33m(\u001b[0m\u001b[0mclusters\u001b[0m\u001b[1;33m,\u001b[0m \u001b[0mmain_halos\u001b[0m\u001b[1;33m,\u001b[0m \u001b[0mngals\u001b[0m\u001b[1;33m,\u001b[0m \u001b[0mlen_cat\u001b[0m\u001b[1;33m)\u001b[0m\u001b[1;33m:\u001b[0m\u001b[1;33m\u001b[0m\u001b[0m\n\u001b[1;32m----> 6\u001b[1;33m     \u001b[0mf\u001b[0m\u001b[1;33m.\u001b[0m\u001b[0mwrite\u001b[0m\u001b[1;33m(\u001b[0m\u001b[0ma\u001b[0m\u001b[1;33m,\u001b[0m \u001b[0mb\u001b[0m\u001b[1;33m.\u001b[0m\u001b[0mmvir\u001b[0m\u001b[1;33m/\u001b[0m\u001b[1;36m1e13\u001b[0m\u001b[1;33m,\u001b[0m \u001b[0mb\u001b[0m\u001b[1;33m.\u001b[0m\u001b[0mrvir\u001b[0m\u001b[1;33m*\u001b[0m\u001b[0minfo\u001b[0m\u001b[1;33m.\u001b[0m\u001b[0mpboxsize\u001b[0m\u001b[1;33m,\u001b[0m \u001b[0mc\u001b[0m\u001b[1;33m,\u001b[0m \u001b[0md\u001b[0m\u001b[1;33m)\u001b[0m\u001b[1;33m\u001b[0m\u001b[0m\n\u001b[0m\u001b[0;32m      7\u001b[0m     \u001b[0mprint\u001b[0m\u001b[1;33m(\u001b[0m\u001b[0ma\u001b[0m\u001b[1;33m,\u001b[0m \u001b[0mb\u001b[0m\u001b[1;33m.\u001b[0m\u001b[0mmvir\u001b[0m\u001b[1;33m/\u001b[0m\u001b[1;36m1e13\u001b[0m\u001b[1;33m,\u001b[0m \u001b[0mb\u001b[0m\u001b[1;33m.\u001b[0m\u001b[0mrvir\u001b[0m\u001b[1;33m*\u001b[0m\u001b[0minfo\u001b[0m\u001b[1;33m.\u001b[0m\u001b[0mpboxsize\u001b[0m\u001b[1;33m,\u001b[0m \u001b[0mc\u001b[0m\u001b[1;33m,\u001b[0m \u001b[0md\u001b[0m\u001b[1;33m)\u001b[0m\u001b[1;33m\u001b[0m\u001b[0m\n",
      "\u001b[1;31mTypeError\u001b[0m: write() takes exactly 1 argument (5 given)"
     ]
    }
   ],
   "source": [
    "info = load.info.Info(base=wdir, nout=nout, load=True)\n",
    "\n",
    "#f = open(base + 'cluster_list.txt', 'w')\n",
    "#f.write(\"ID      Mvir     Rvir     #gals    #large gals\")\n",
    "for a,b,c,d in zip(clusters, main_halos, ngals, len_cat):\n",
    "#    f.write(a, b.mvir/1e13, b.rvir*info.pboxsize, c, d)\n",
    "    print(a, b.mvir/1e13, b.rvir*info.pboxsize, c, d)\n"
   ]
  },
  {
   "cell_type": "code",
   "execution_count": null,
   "metadata": {
    "collapsed": true
   },
   "outputs": [],
   "source": []
  }
 ],
 "metadata": {
  "kernelspec": {
   "display_name": "Python 3",
   "language": "python",
   "name": "python3"
  },
  "language_info": {
   "codemirror_mode": {
    "name": "ipython",
    "version": 3
   },
   "file_extension": ".py",
   "mimetype": "text/x-python",
   "name": "python",
   "nbconvert_exporter": "python",
   "pygments_lexer": "ipython3",
   "version": "3.4.3+"
  }
 },
 "nbformat": 4,
 "nbformat_minor": 0
}
