{
 "cells": [
  {
   "cell_type": "code",
   "execution_count": 1,
   "metadata": {
    "collapsed": true
   },
   "outputs": [],
   "source": [
    "# -*- coding: utf-8 -*-\n",
    "\"\"\"\n",
    "Created on Tue Mar  3 13:12:43 2015\n",
    "write a text file for Blender visualization\n",
    "\n",
    "x  y  z  r\n",
    "\n",
    "x  y  z  r\n",
    "\n",
    "x  y  z  r\n",
    "\n",
    "In this script top N massive halos\n",
    "@author: hoseung\n",
    "\"\"\"\n",
    "\n",
    "import numpy as np"
   ]
  },
  {
   "cell_type": "code",
   "execution_count": 2,
   "metadata": {
    "collapsed": true
   },
   "outputs": [],
   "source": [
    "def distance_to(xc, xx):\n",
    "    import numpy as np\n",
    "    return np.sqrt([(xc[0] - xx[0])**2 + (xc[1] - xx[1])**2 + (xc[2] - xx[2])**2])\n",
    "\n",
    "\n",
    "def extract_halos_within(halos, i_center, scale=1.0):\n",
    "    import numpy as np\n",
    "    '''\n",
    "    Returns halos within SCALE * Rvir of the central halo.\n",
    "\n",
    "    def extract_halos_within(halos, ind_center, scale=1.0)\n",
    "    halos : halo finder output (single snapshot)\n",
    "    ind_center : index of central halo\n",
    "    scale : multiplying factor to the Rvir of the central halo\n",
    "    '''\n",
    "    xc = halos['p'][0][0][i_center]\n",
    "    yc = halos['p'][0][1][i_center]\n",
    "    zc = halos['p'][0][2][i_center]\n",
    "    rvir= halos['rvir'][0][i_center]\n",
    "\n",
    "    xx = halos['p'][0][0]\n",
    "    yy = halos['p'][0][1]\n",
    "    zz = halos['p'][0][2]\n",
    "    m = np.array(data['m'][0])\n",
    "\n",
    "    dd = distance_to([xc,yc,zc],[xx,yy,zz])\n",
    "\n",
    "    Mcut = 1e11\n",
    "    i_m = m > Mcut\n",
    "    i_ok = np.logical_and(dd < (rvir * scale), i_m)\n",
    "\n",
    "    return i_ok"
   ]
  },
  {
   "cell_type": "code",
   "execution_count": 3,
   "metadata": {
    "collapsed": true
   },
   "outputs": [],
   "source": [
    "''' Cluster 05101, cluster subhaloes (at the final snapshot)\n",
    "'''\n",
    "n_massive = 500\n",
    "include_id = False\n",
    "fixed_position = True\n",
    "Ncut = 120\n",
    "work_dir = '/home/hoseung/Work/data/AGN2/'\n",
    "nout_ini = 131\n",
    "nout_fi = 132\n",
    "nouts = range(nout_fi, nout_ini, -1)\n",
    "Nnouts = len(nouts)"
   ]
  },
  {
   "cell_type": "code",
   "execution_count": 7,
   "metadata": {
    "collapsed": false
   },
   "outputs": [],
   "source": [
    "try:\n",
    "    f = open(work_dir + 'satellite_halo_trees.txt', 'w')\n",
    "except:\n",
    "    print(\"No filename is given.\\n Try write_halo_xyz(x,y,z,r,filename = fn)\")\n",
    "\n",
    "import tree.treeutils as tru\n",
    "import tree.rshalo as rsh\n",
    "# get_main_tree\n",
    "# gal_list\n",
    "import pickle\n",
    "\n",
    "dir_halo = work_dir + \"rhalo/rockstar_halos/\"\n",
    "f_halo = work_dir + \"rhalo/tree.pickle\"\n",
    "\n",
    "# Open the file and call pickle.load.\n",
    "with open(f_halo, \"rb\") as f_halo:\n",
    "    data = pickle.load(f_halo)"
   ]
  },
  {
   "cell_type": "code",
   "execution_count": 10,
   "metadata": {
    "collapsed": false
   },
   "outputs": [
    {
     "ename": "AttributeError",
     "evalue": "'module' object has no attribute 'gal_list'",
     "output_type": "error",
     "traceback": [
      "\u001b[1;31m---------------------------------------------------------------------------\u001b[0m",
      "\u001b[1;31mAttributeError\u001b[0m                            Traceback (most recent call last)",
      "\u001b[1;32m<ipython-input-10-290118c0e1a4>\u001b[0m in \u001b[0;36m<module>\u001b[1;34m()\u001b[0m\n\u001b[0;32m      1\u001b[0m \u001b[1;31m# Gals = satellite halos inside the zoomed-in cluster above a mass cut.\u001b[0m\u001b[1;33m\u001b[0m\u001b[1;33m\u001b[0m\u001b[0m\n\u001b[1;32m----> 2\u001b[1;33m \u001b[0mall_final_halo\u001b[0m \u001b[1;33m=\u001b[0m \u001b[0mtru\u001b[0m\u001b[1;33m.\u001b[0m\u001b[0mgal_list\u001b[0m\u001b[1;33m(\u001b[0m\u001b[0mdata\u001b[0m\u001b[1;33m)\u001b[0m\u001b[1;33m\u001b[0m\u001b[0m\n\u001b[0m\u001b[0;32m      3\u001b[0m \u001b[1;31m# tru.gal_list returns the list of galaxies at the final snapshot.\u001b[0m\u001b[1;33m\u001b[0m\u001b[1;33m\u001b[0m\u001b[0m\n\u001b[0;32m      4\u001b[0m \u001b[0mi_center\u001b[0m \u001b[1;33m=\u001b[0m \u001b[0mtru\u001b[0m\u001b[1;33m.\u001b[0m\u001b[0mget_center\u001b[0m\u001b[1;33m(\u001b[0m\u001b[0mdata\u001b[0m\u001b[1;33m)\u001b[0m\u001b[1;33m\u001b[0m\u001b[0m\n\u001b[0;32m      5\u001b[0m \u001b[1;31m# No # particle information. Devise a new way.\u001b[0m\u001b[1;33m\u001b[0m\u001b[1;33m\u001b[0m\u001b[0m\n",
      "\u001b[1;31mAttributeError\u001b[0m: 'module' object has no attribute 'gal_list'"
     ]
    }
   ],
   "source": [
    "# Gals = satellite halos inside the zoomed-in cluster above a mass cut.\n",
    "all_final_halo = tru.final_halo_list(data)\n",
    "# tru.final_halo_list returns the list of galaxies at the final snapshot.\n",
    "i_center = tru.get_center(data)\n",
    "# No number of particle information. Devise a new way.\n",
    "\n",
    "fn_halo = dir_halo + 'halos_py/halos_82.py'\n",
    "## There is no halos_82.py.\n",
    "#  You have to convert ascii files into .py or .pickle before.\n",
    "#\n",
    "#\n",
    "#\n",
    "tree_final = data[i_final] \n",
    "#tree_final = rsh.read_halo_all(fn_halo)\n",
    "##\n",
    "\n",
    "\n",
    "i_satellites = extract_halos_within(data, i_center, scale=1.0)[0]\n",
    "print(\"Total {0} halos \\n{1} halos are selected\".format(\n",
    "      len(i_satellites),sum(i_satellites)))\n",
    "\n",
    "\n",
    "#%%\n",
    "\n",
    "cnt=150\n",
    "ngal = len(gals)\n",
    "#cnt = range(ngal)\n",
    "\n",
    "# loop over individual galaxies\n",
    "for thisgal in gals[cnt:cnt+1]:\n",
    "    print(thisgal)\n",
    "    if (cnt % 10 == 0): print(cnt)\n",
    "    tree = tru.get_main_tree(data, thisgal)\n",
    "    ind_tree = np.zeros(len(tree), dtype=np.int)\n",
    "    for i in range(sum(x > 0 for x in tree)): ind_tree[i] = np.where(data['id'] == tree[i])[0] # Why first element?\n",
    "    tree = data[ind_tree] # td = tree\n",
    "\n",
    "    x = data['p'][0][0][i_satellites]\n",
    "    y = data['p'][0][1][i_satellites]\n",
    "    z = data['p'][0][2][i_satellites]\n",
    "    r = data['rvir'][0][i_satellites]\n",
    "\n",
    "    if include_id is True:\n",
    "        dd = np.column_stack([x, y, z, r, data['hnu'][0][ind]])\n",
    "        for i i\n",
    "        n range(dd.shape[0]):\n",
    "            f.write(\"{0}   {1}   {2}   {3}  {4} \\n\".format(\n",
    "                    dd[i][0],dd[i][1],dd[i][2],dd[i][3],int(dd[i][4])))\n",
    "    else:\n",
    "        dd = np.column_stack([x, y, z, r])\n",
    "        for i in range(dd.shape[0]):\n",
    "            f.write(\"{0}   {1}   {2}   {3} \\n\".format(\n",
    "                    dd[i][0],dd[i][1],dd[i][2],dd[i][3]))\n",
    "\n",
    "f.close()"
   ]
  },
  {
   "cell_type": "code",
   "execution_count": null,
   "metadata": {
    "collapsed": true
   },
   "outputs": [],
   "source": []
  }
 ],
 "metadata": {
  "kernelspec": {
   "display_name": "Python 3",
   "language": "python",
   "name": "python3"
  },
  "language_info": {
   "codemirror_mode": {
    "name": "ipython",
    "version": 3
   },
   "file_extension": ".py",
   "mimetype": "text/x-python",
   "name": "python",
   "nbconvert_exporter": "python",
   "pygments_lexer": "ipython3",
   "version": "3.4.3"
  }
 },
 "nbformat": 4,
 "nbformat_minor": 0
}
