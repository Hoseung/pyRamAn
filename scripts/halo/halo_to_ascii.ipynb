{
 "cells": [
  {
   "cell_type": "code",
   "execution_count": 1,
   "metadata": {
    "collapsed": false
   },
   "outputs": [],
   "source": [
    "def halo_to_ascii(hh, fname, quick=False):\n",
    "    with open(fname, 'w') as f:\n",
    "        if quick:\n",
    "            for line in hh.data.dtype.descr:\n",
    "                f.write(line[0] + \" \")\n",
    "            f.write(\"\\n\")\n",
    "            hh.data.tofile(f, sep=\" \\n\")\n",
    "        else:\n",
    "            for line in hh.data.dtype.descr:\n",
    "                f.write(line[0] + \" \")\n",
    "            f.write(\"\\n\")\n",
    "\n",
    "            for line in hh.data[0:100]:\n",
    "                for ll in line:\n",
    "                    f.write(str(ll) + ' ')\n",
    "                f.write('\\n')\n"
   ]
  },
  {
   "cell_type": "code",
   "execution_count": 2,
   "metadata": {
    "collapsed": false
   },
   "outputs": [],
   "source": [
    "import load\n",
    "import tree.halomodule as hmo\n",
    "\n",
    "wdir = \"./29172/\"\n",
    "nout=187\n",
    "info = load.info.Info(nout=nout, base=wdir, load=True)\n",
    "    \n",
    "hh = hmo.Halo(base=wdir, nout=nout, halofinder='HM', info=info, load=True, is_gal=False)\n",
    "fname = wdir + 'halo_brick_' + str(nout).zfill(3) + '.txt'\n",
    "halo_to_ascii(hh, fname, quick=False)"
   ]
  },
  {
   "cell_type": "code",
   "execution_count": 6,
   "metadata": {
    "collapsed": false
   },
   "outputs": [
    {
     "data": {
      "text/plain": [
       "array([  1,   2,   3, ..., 766, 766, 784], dtype=int32)"
      ]
     },
     "execution_count": 6,
     "metadata": {},
     "output_type": "execute_result"
    }
   ],
   "source": [
    "hh.data[\"host\"]"
   ]
  },
  {
   "cell_type": "code",
   "execution_count": null,
   "metadata": {
    "collapsed": true
   },
   "outputs": [],
   "source": []
  }
 ],
 "metadata": {
  "kernelspec": {
   "display_name": "Python 3",
   "language": "python",
   "name": "python3"
  },
  "language_info": {
   "codemirror_mode": {
    "name": "ipython",
    "version": 3
   },
   "file_extension": ".py",
   "mimetype": "text/x-python",
   "name": "python",
   "nbconvert_exporter": "python",
   "pygments_lexer": "ipython3",
   "version": "3.5.1+"
  }
 },
 "nbformat": 4,
 "nbformat_minor": 0
}
