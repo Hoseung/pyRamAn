{
 "metadata": {
  "kernelspec": {
   "display_name": "Python 3",
   "language": "python",
   "name": "python3"
  },
  "language_info": {
   "codemirror_mode": {
    "name": "ipython",
    "version": 3
   },
   "file_extension": ".py",
   "mimetype": "text/x-python",
   "name": "python",
   "nbconvert_exporter": "python",
   "pygments_lexer": "ipython3",
   "version": "3.5.1+"
  },
  "name": "",
  "signature": "sha256:36733940f976305933b87de075a4680d41206e5aff4950fa5006d6f995f418bd"
 },
 "nbformat": 3,
 "nbformat_minor": 0,
 "worksheets": [
  {
   "cells": [
    {
     "cell_type": "code",
     "collapsed": false,
     "input": [
      "def plot_violin(mpgs, mstar_limit=1e10, suffix=\"\", base='./'):\n",
      "    dlt_all=[]\n",
      "    dlo_all=[]\n",
      "    dlM_all=[]\n",
      "    dlm_all=[]\n",
      "    for igal, gal in enumerate(mpgs):\n",
      "        # Only large galaxy at the final snapshot\n",
      "        if gal.data['mstar'][0] > mstar_limit:\n",
      "            dlt_all.append(gal.dlt)\n",
      "            dlo_all.append(gal.dlo)\n",
      "            dlM_all.append(gal.dlM)\n",
      "            dlm_all.append(gal.dlm)\n",
      "\n",
      "    data = [dlM_all, dlm_all, dlt_all]\n",
      "    pos = [1,2,3]\n",
      "    fig, ax = plt.subplots()\n",
      "    ax.violinplot(data, pos, points=20, widths=0.3,\n",
      "                          showmeans=True, showextrema=True, showmedians=True)\n",
      "    ax.set_ylim([-0.8, 0.3])\n",
      "    ax.tick_params(labelsize=18)\n",
      "    plt.savefig(dir_out + \"mma_violin\" + suffix + \".png\")\n",
      "    #plt.show()"
     ],
     "language": "python",
     "metadata": {},
     "outputs": [],
     "prompt_number": 2
    },
    {
     "cell_type": "code",
     "collapsed": false,
     "input": [
      "def plot_simple(mpgs, base='./', suffix=\"\"):\n",
      "    fig, ax = plt.subplots(2)\n",
      "    for igal, gal in enumerate(mpgs):\n",
      "        if gal.merger is not None:\n",
      "            for mr, xx, delta in zip(gal.merger.mr, gal.merger.nout, gal.merger.delta):\n",
      "                ax[0].scatter(mr, delta)\n",
      "        ax[1].scatter([1],gal.dlM) \n",
      "        ax[1].scatter([3],gal.dlm) \n",
      "        ax[1].scatter([5],gal.dlo)\n",
      "    #plt.show()\n",
      "    plt.savefig(wdir + \"mma_simple\" + suffix + \".png\")"
     ],
     "language": "python",
     "metadata": {},
     "outputs": [],
     "prompt_number": 3
    },
    {
     "cell_type": "code",
     "collapsed": false,
     "input": [
      "def plot_hist(mpgs, base='./', suffix=\"\"):\n",
      "    all_mr = []\n",
      "    all_delta =[]\n",
      "    for gal in mpgs:\n",
      "        if gal.merger is not None:\n",
      "            for mr, delta in zip(gal.merger.mr, gal.merger.delta):\n",
      "                all_mr.append(mr)\n",
      "                all_delta.append(delta)\n",
      "\n",
      "    all_mr = np.array(all_mr)\n",
      "    all_delta = np.array(all_delta)\n",
      "    plt.ioff()\n",
      "    plt.hist(all_delta[all_mr < 3], alpha=0.3, range=[-0.7, 0.5],\n",
      "             facecolor='none', edgecolor='r', linestyle='dashed',\n",
      "             lw=3)\n",
      "    plt.hist(all_delta[(all_mr < 10) * (all_mr > 3)], alpha=0.3, range=[-0.7, 0.5],\n",
      "             facecolor='none', edgecolor='g', linestyle='solid', lw=3)\n",
      "    plt.hist(all_delta[all_mr > 10], alpha=0.3, range=[-0.7, 0.5],\n",
      "             facecolor='none', edgecolor='b', linestyle=\"-.\", lw=3)\n",
      "    plt.savefig(wdir + 'MMA_hist' + suffix +'.png')\n",
      "    \n",
      "    print(len(all_mr))"
     ],
     "language": "python",
     "metadata": {},
     "outputs": [],
     "prompt_number": 4
    },
    {
     "cell_type": "code",
     "collapsed": false,
     "input": [
      "def filter_small_mergers(mm, window=7):\n",
      "    if mm is None:\n",
      "        return\n",
      "    \n",
      "    if len(mm.nout) == 1:\n",
      "        return\n",
      "\n",
      "    \n",
      "    neighbor=np.zeros(len(mm.mr))\n",
      "    # Tag mergers with neighbor\n",
      "    delimeter = 1\n",
      "    for i in range(len(mm.mr)-1):\n",
      "        #print(mm.nout[i], mm.nout[i+1], delimeter)\n",
      "        neighbor[i]=delimeter\n",
      "        if abs(mm.nout[i] - mm.nout[i+1]) > window:\n",
      "            delimeter +=1\n",
      "\n",
      "        \n",
      "        #print(neighbor)\n",
      "    # last element\n",
      "    neighbor[-1] = delimeter\n",
      "    #if abs(mm.nout[-2] - mm.nout[-1]) < window:\n",
      "    #    neighbor[-1] = delimeter\n",
      "    #else:\n",
      "    #    neighbor[-1] = delimeter + 1\n",
      "\n",
      "    #print(mm.nout)\n",
      "    #print(neighbor)\n",
      "\n",
      "    ind_ok = []\n",
      "    # neighbor may have 0,1, or may start from 2.\n",
      "    for imerger in range(delimeter+1):\n",
      "        ii = np.where(neighbor == imerger)[0]\n",
      "        if len(ii) > 0:\n",
      "            ind_ok.append(ii[np.argmin(mm.mr[ii])])\n",
      "\n",
      "    #print(\"finally\", neighbor[ind_ok],mm.mr, mm.mr[ind_ok])\n",
      "    mm.nout = mm.nout[ind_ok]\n",
      "    mm.mr = mm.mr[ind_ok]\n",
      "    mm.nout_ini = mm.nout_ini[ind_ok]"
     ],
     "language": "python",
     "metadata": {},
     "outputs": [],
     "prompt_number": 5
    },
    {
     "cell_type": "code",
     "collapsed": false,
     "input": [
      "def multipage_plots(mpgs, nout_ini=37, base='./', suffix=\"\", dt_after = 10, dt_before = 7):\n",
      "    from matplotlib.backends.backend_pdf import PdfPages\n",
      "    from scipy.signal import medfilt\n",
      "\n",
      "    nout_fi = 187\n",
      "    fig, ax = plt.subplots(1,2, sharex=True)\n",
      "    plt.subplots_adjust(hspace=0.001)\n",
      "    fig.set_size_inches(8,4)\n",
      "\n",
      "    with PdfPages(wdir + 'MMA_plots' + suffix +'.pdf') as pdf:\n",
      "        for gal in mpgs:\n",
      "            ind_nout = gal.nouts > nout_ini\n",
      "            gal.nouts = gal.nouts[ind_nout]\n",
      "            gal.data = gal.data[ind_nout]\n",
      "\n",
      "            ax[0].scatter(gal.nouts, np.log10(gal.data['mstar']))\n",
      "            ax[0].set_xlim([50,190])\n",
      "            ax[0].set_title(str(gal.ids[0]) + \", \" + str(gal.idxs[0]))\n",
      "            ax[1].plot(gal.nouts, gal.smoothed_lambda, 'black')\n",
      "\n",
      "            if gal.merger is not None:\n",
      "                delta_lambda =[]\n",
      "\n",
      "                ind_nout = gal.nouts > nout_ini\n",
      "                gal.nouts = gal.nouts[ind_nout]\n",
      "                gal.data = gal.data[ind_nout]\n",
      "                gal.smoothed_lambda = medfilt(gal.data['lambda_r'], kernel_size=5)\n",
      "\n",
      "                for mr, xx, x2 in zip(gal.merger.mr, gal.merger.nout, gal.merger.nout_ini):\n",
      "                    i_nout = np.where(gal.nouts == xx)[0]\n",
      "                    iini_nout = np.where(gal.nouts == x2)[0]\n",
      "                    if i_nout == 0:\n",
      "                        nouts_after = [nout_fi]\n",
      "                        l_after = gal.smoothed_lambda[0]\n",
      "                    else:\n",
      "                        nouts_after = gal.nouts[max([0, i_nout - dt_after]) : i_nout]\n",
      "                        l_after = gal.smoothed_lambda[max([0, i_nout - dt_after]) : i_nout]\n",
      "                    lambda_after = np.average(l_after)\n",
      "                    \n",
      "                    ax[1].plot(nouts_after,l_after, 'g-')                       \n",
      "                    nn = range(min(nouts_after) - 5, min([nout_fi, max(nouts_after) + 5]))\n",
      "                    ax[1].plot(nn, [lambda_after]*len(nn), \"g:\")\n",
      "                    \n",
      "#                        l_before = gal.smoothed_lambda[-1] \n",
      "#                        nouts_before = [nout_ini]\n",
      "#                    else:\n",
      "                    l_before = gal.smoothed_lambda[iini_nout:min([len(gal.data), iini_nout + dt_before])]\n",
      "                    nouts_before = gal.nouts[iini_nout:min([len(gal.data), iini_nout + dt_before])]\n",
      "                    lambda_before = np.average(l_before)\n",
      "                    ax[1].plot(nouts_before,l_before, 'r-')\n",
      "                    nn = range(max([nout_ini, min(nouts_before) - 5]), max(nouts_before) + 5)\n",
      "                    ax[1].plot(nn, [lambda_before]*len(nn), \"r:\")\n",
      "\n",
      "                    delta_lambda.append(lambda_after - lambda_before)\n",
      "                gal.merger.delta = np.array(delta_lambda)\n",
      "\n",
      "                for mr, xx, x2 in zip(gal.merger.mr, gal.merger.nout, gal.merger.nout_ini):\n",
      "                    ax[0].axvline(xx, linestyle=':')\n",
      "                    ax[0].annotate(\"{:.1f}\".format(mr), xy=(xx,0.8))\n",
      "                    ax[1].axvline(xx, linestyle=':')\n",
      "                    ax[1].annotate(\"{:.1f}\".format(mr), xy=(xx,0.8))\n",
      "                    ax[1].axvline(xx, linestyle=':')\n",
      "                    ax[1].axvline(x2, linestyle=':', c='g')\n",
      "\n",
      "                    i_nout = np.where(gal.nouts == xx)[0]\n",
      "            \n",
      "            pdf.savefig()\n",
      "            ax[0].clear()\n",
      "            ax[1].clear()\n",
      "\n",
      "    #plt.show()\n",
      "    plt.close()"
     ],
     "language": "python",
     "metadata": {
      "scrolled": true
     },
     "outputs": [],
     "prompt_number": 16
    },
    {
     "cell_type": "markdown",
     "metadata": {},
     "source": [
      "## Measure contribution of Major merger, minor merger, and smooth accretion for only the 'safe' samples. \n",
      "Because tree bad link more likely occur at major merger events, I guess the 'safe' samples have less major mergers than the total sample. \n",
      "\n",
      "* 29176 catalog is not complete.\n",
      "change to 10002"
     ]
    },
    {
     "cell_type": "markdown",
     "metadata": {},
     "source": [
      "## import analysis.Major_Minor_accretion as mma\n"
     ]
    },
    {
     "cell_type": "code",
     "collapsed": false,
     "input": [
      "import utils.sampling as smp\n",
      "import matplotlib.pyplot as plt\n",
      "import tree\n",
      "import pickle\n",
      "import tree.halomodule as hmo\n",
      "import numpy as np\n",
      "import draw\n",
      "import load\n",
      "import analysis.evol_lambda as evl\n",
      "import analysis.Major_Minor_accretion as mma\n",
      "import tree.ctutils as ctu\n",
      "import utils.match as mtc\n",
      "\n",
      "\n",
      "nout_fi = 187\n",
      "nout_ini = 57\n",
      "cdir = 'easy_new/'\n",
      "suffix = [\"10002\", \"04466\", \"29172\", \"17891\", \"29176\"][4]\n",
      "wdir = './' + suffix + '/'\n",
      "dir_out = wdir \n",
      "# \"10002\"\n",
      "\n",
      "info = load.info.Info(base= wdir, nout=187, load=True)"
     ],
     "language": "python",
     "metadata": {},
     "outputs": [],
     "prompt_number": 7
    },
    {
     "cell_type": "markdown",
     "metadata": {},
     "source": [
      "Largest halo in the refinement region is not the main cluster.\n",
      "Is the largest NP halo the main cluster? \n",
      "To check it, color halos in NP.\n",
      "\n",
      "No, max_np galaxy/halo is the main galaxy/halo.\n",
      "But 'rvir' value is wrong.\n",
      "\n",
      "and fixed."
     ]
    },
    {
     "cell_type": "code",
     "collapsed": false,
     "input": [
      "gg = hmo.Halo(nout=187, base=wdir, load=True, is_gal=True)\n",
      "hh = hmo.Halo(nout=187, base=wdir, load=True, is_gal=False)\n",
      "\n",
      "good_gals = mma.close_gals(hh, gg, rscale=3)\n",
      "\n",
      "# cluster 29176 ok_gals=[3, 5, 6, 9, 10, 11, 15, 16, 18, 20, 21, 22, 25, 26, 31, 32, 34, 37, 39, 43, 45, 49, 54, 55, 62, 63, 67, 68, 71]\n",
      "#ok_gals =[2, 3,4, 6, 7, 10, 13, 18, 19, 22, 23, 28, 34,\n",
      "#          40, 41, 42, 47, 48, 50, 51, 52, 54, 55, 59,\n",
      "#          65, 66, 68, 73, 75, 81, 82, 83, 88, 89, 101, 102,\n",
      "#          108, 113, 128, 131, 132, 135, 144, 148, 151, 157, 158,\n",
      "#          170, 171, 178, 179,182,208, 214, 225, 421] # 10002\n",
      "# Galaxies with good main progenitor list.\n",
      "# But some galaxies have up-and-down mass evolution histories. \n",
      "# By looking at merger tree plots, I can roughly tell \n",
      "# major merger galaixies, minor merger galaxies, smooth accretion galaxies."
     ],
     "language": "python",
     "metadata": {},
     "outputs": [
      {
       "output_type": "stream",
       "stream": "stdout",
       "text": [
        "187\n",
        "187\n"
       ]
      }
     ],
     "prompt_number": 8
    },
    {
     "cell_type": "markdown",
     "metadata": {},
     "source": [
      "Load and compile catalogs"
     ]
    },
    {
     "cell_type": "code",
     "collapsed": false,
     "input": [
      "alltrees = ctu.load_tree(wdir, is_gal=True)\n",
      "# Serialize catalogs. -> Only main galaxies\n",
      "# main galaxy list\n",
      "\n",
      "ad = alltrees.data\n",
      "tn = ad[ad['nout'] == nout_fi]\n",
      "\n",
      "ad['r'] *= 2e2 # code unit to Mpc/h\n",
      "\n",
      "cat = pickle.load(open(wdir + cdir + 'catalog' + str(nout_fi) + '.pickle', 'rb'))\n",
      "# Only good galaxies are saved in the catalogue.\n",
      "# But there is no mass cut in good_gals list.\n",
      "# And match_list_ind doest not handle cases where the array a is shorter than array b.\n",
      "# Need another matching funciton that automatically excludes missing values.\n",
      "good_gals = np.intersect1d(cat['id'], good_gals)\n",
      "ind_ok = mtc.match_list_ind(cat['id'], good_gals, allow_swap=False)\n",
      "cat = cat[ind_ok]\n",
      "\n",
      "# Some galaxies are not in the tree. So can't follow their main progenitors.\n",
      "cat = cat[(~np.isnan(cat['idx'])) * (cat['idx'] > 0)] \n",
      "# Some galaxies has no idx (-1). These are large gaalxies wihtout trees.\n",
      "# I am keeping them hoping at some point they are useful in fixing bad trees.\n",
      "idx_all = cat['idx'].astype(int) # fix so that idx is int from the beginning. \n",
      "#print(good_gals)"
     ],
     "language": "python",
     "metadata": {},
     "outputs": [
      {
       "output_type": "stream",
       "stream": "stdout",
       "text": [
        "Loaded an extended tree\n"
       ]
      }
     ],
     "prompt_number": 9
    },
    {
     "cell_type": "code",
     "collapsed": false,
     "input": [
      "mpgs = mma.compile_mpgs(alltrees, idx_all, base=wdir, cdir=cdir, nout_ini=nout_ini, nout_fi=nout_fi)\n",
      "\n",
      "#Merger epochs\n",
      "\n",
      "mma.find_merger_epochs(alltrees, idx_all, mpgs, nout_ini=nout_ini, dist_gal_scale=1,\n",
      "                      mass_ratio='early') \n",
      "# mass_ratio = early : satellite mass at when radii of two galaxies touch each other.\n",
      "#            = max   : maximum mass of the satellite.   \n",
      "\n",
      "for gal in mpgs:\n",
      "    #print(gal.ids[0])\n",
      "    filter_small_mergers(gal.merger)"
     ],
     "language": "python",
     "metadata": {},
     "outputs": [
      {
       "output_type": "stream",
       "stream": "stderr",
       "text": [
        "/home/hoseung/Work/pyclusterevol/analysis/evol_lambda.py:115: FutureWarning: comparison to `None` will result in an elementwise object comparison in the future.\n",
        "  if self.data == None:\n",
        "/home/hoseung/Work/pyclusterevol/analysis/Major_Minor_accretion.py:104: RuntimeWarning: divide by zero encountered in true_divide\n",
        "  mass_ratios_single[i] = satellite['m'][satellite['nout'] == nout_inits[i]] / mass_prgs[0]\n",
        "/home/hoseung/Work/pyclusterevol/analysis/Major_Minor_accretion.py:142: VisibleDeprecationWarning: converting an array with ndim > 0 to an index will result in an error in the future\n",
        "  merger.mr = mr_list[ind]\n",
        "/home/hoseung/Work/pyclusterevol/analysis/Major_Minor_accretion.py:143: VisibleDeprecationWarning: converting an array with ndim > 0 to an index will result in an error in the future\n",
        "  merger.nout = nout_list[ind]\n",
        "/home/hoseung/Work/pyclusterevol/analysis/Major_Minor_accretion.py:144: VisibleDeprecationWarning: converting an array with ndim > 0 to an index will result in an error in the future\n",
        "  merger.nout_ini = nout_ini_list[ind]\n"
       ]
      }
     ],
     "prompt_number": 10
    },
    {
     "cell_type": "code",
     "collapsed": false,
     "input": [
      "# Measure delta lambda\n",
      "mma.measure_delta_lambda(mpgs, dt_before=7, dt_after=10, nout_ini=nout_ini)\n",
      "mma.Maj_min_acc_ratio(mpgs)"
     ],
     "language": "python",
     "metadata": {},
     "outputs": [
      {
       "output_type": "stream",
       "stream": "stderr",
       "text": [
        "/home/hoseung/Work/pyclusterevol/analysis/Major_Minor_accretion.py:254: VisibleDeprecationWarning: converting an array with ndim > 0 to an index will result in an error in the future\n",
        "  lambda_after = np.average(gal.smoothed_lambda[max([0, i_nout - dt_after]) : i_nout])\n",
        "/home/hoseung/Work/pyclusterevol/analysis/Major_Minor_accretion.py:255: VisibleDeprecationWarning: converting an array with ndim > 0 to an index will result in an error in the future\n",
        "  lambda_before = np.average(gal.smoothed_lambda[iini_nout:min([len(gal.data), iini_nout + dt_before])])\n",
        "/home/hoseung/.local/lib/python3.5/site-packages/numpy/core/_methods.py:59: RuntimeWarning: Mean of empty slice.\n",
        "  warnings.warn(\"Mean of empty slice.\", RuntimeWarning)\n",
        "/home/hoseung/.local/lib/python3.5/site-packages/numpy/core/_methods.py:70: RuntimeWarning: invalid value encountered in double_scalars\n",
        "  ret = ret.dtype.type(ret / rcount)\n"
       ]
      }
     ],
     "prompt_number": 11
    },
    {
     "cell_type": "code",
     "collapsed": false,
     "input": [
      "multipage_plots(mpgs, nout_ini=nout_ini, base=wdir, suffix=suffix)\n",
      "\n",
      "pickle.dump(mpgs, open(dir_out + \"mpgs\" + suffix + \".pickle\", 'wb'))\n",
      "\n",
      "plot_simple(mpgs, base=dir_out, suffix=\"\")\n",
      "\n",
      "plot_violin(mpgs, mstar_limit = 1e10)\n",
      "\n",
      "plot_hist(mpgs, base=dir_out, suffix=suffix)"
     ],
     "language": "python",
     "metadata": {
      "scrolled": false
     },
     "outputs": [
      {
       "output_type": "stream",
       "stream": "stderr",
       "text": [
        "/home/hoseung/.local/lib/python3.5/site-packages/ipykernel/__main__.py:16: RuntimeWarning: divide by zero encountered in log10\n",
        "/home/hoseung/.local/lib/python3.5/site-packages/ipykernel/__main__.py:36: VisibleDeprecationWarning: converting an array with ndim > 0 to an index will result in an error in the future\n",
        "/home/hoseung/.local/lib/python3.5/site-packages/ipykernel/__main__.py:37: VisibleDeprecationWarning: converting an array with ndim > 0 to an index will result in an error in the future\n",
        "/home/hoseung/.local/lib/python3.5/site-packages/ipykernel/__main__.py:47: VisibleDeprecationWarning: converting an array with ndim > 0 to an index will result in an error in the future\n",
        "/home/hoseung/.local/lib/python3.5/site-packages/ipykernel/__main__.py:48: VisibleDeprecationWarning: converting an array with ndim > 0 to an index will result in an error in the future\n",
        "/home/hoseung/.local/lib/python3.5/site-packages/numpy/linalg/linalg.py:1776: RuntimeWarning: invalid value encountered in det\n",
        "  r = _umath_linalg.det(a, signature=signature)\n",
        "/home/hoseung/.local/lib/python3.5/site-packages/numpy/lib/function_base.py:3558: RuntimeWarning: Invalid value encountered in median\n",
        "  RuntimeWarning)\n"
       ]
      },
      {
       "output_type": "stream",
       "stream": "stdout",
       "text": [
        "99\n"
       ]
      }
     ],
     "prompt_number": 17
    },
    {
     "cell_type": "heading",
     "level": 1,
     "metadata": {},
     "source": [
      "Clustocentric distance."
     ]
    },
    {
     "cell_type": "code",
     "collapsed": true,
     "input": [],
     "language": "python",
     "metadata": {},
     "outputs": [],
     "prompt_number": null
    },
    {
     "cell_type": "code",
     "collapsed": true,
     "input": [],
     "language": "python",
     "metadata": {},
     "outputs": [],
     "prompt_number": null
    },
    {
     "cell_type": "code",
     "collapsed": true,
     "input": [],
     "language": "python",
     "metadata": {},
     "outputs": [],
     "prompt_number": null
    },
    {
     "cell_type": "code",
     "collapsed": true,
     "input": [],
     "language": "python",
     "metadata": {},
     "outputs": [],
     "prompt_number": null
    },
    {
     "cell_type": "code",
     "collapsed": true,
     "input": [],
     "language": "python",
     "metadata": {},
     "outputs": [],
     "prompt_number": null
    },
    {
     "cell_type": "code",
     "collapsed": true,
     "input": [],
     "language": "python",
     "metadata": {},
     "outputs": [],
     "prompt_number": null
    },
    {
     "cell_type": "heading",
     "level": 3,
     "metadata": {},
     "source": [
      "Draw a vilon plot of Major/Minor/accretion contributio ratio"
     ]
    },
    {
     "cell_type": "markdown",
     "metadata": {
      "collapsed": true
     },
     "source": [
      "### Visual inspection. \n",
      "Do I differentiate the effects of major/minor merger and accretion?"
     ]
    }
   ],
   "metadata": {}
  }
 ]
}