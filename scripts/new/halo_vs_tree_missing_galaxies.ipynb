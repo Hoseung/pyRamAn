{
 "cells": [
  {
   "cell_type": "code",
   "execution_count": 1,
   "metadata": {
    "collapsed": true
   },
   "outputs": [],
   "source": [
    "# load tree & halo\n",
    "import matplotlib.pyplot as plt\n",
    "import pickle\n",
    "import load\n",
    "from utils import match\n",
    "import numpy as np\n",
    "\n",
    "wdir = '/home/hoseung/Work/data/05427/'\n",
    "nout=187\n",
    "is_gal=True\n",
    "\n",
    "\n",
    "# Load galaxy catalog\n",
    "cat = pickle.load(open(wdir + '/catalog_GM/' + 'catalog' + str(nout) + '.pickle', 'rb'))\n",
    "\n",
    "# Load tree brick (GM)\n",
    "import tree.halomodule as hmo\n",
    "\n",
    "info = load.info.Info(nout=nout, base=wdir, load=True)\n",
    "hh = hmo.Halo(base=wdir, nout=nout, halofinder='HM', info=info, load=True, is_gal=is_gal)\n",
    "hind = match.match_list_ind(hh.data['id'], cat['id'])\n",
    "h = hmo.Halo(base=wdir, nout=nout, halofinder='HM', info=info, is_gal=is_gal)\n",
    "h.derive_from(hh, hind)\n"
   ]
  },
  {
   "cell_type": "code",
   "execution_count": null,
   "metadata": {
    "collapsed": true
   },
   "outputs": [],
   "source": []
  }
 ],
 "metadata": {
  "kernelspec": {
   "display_name": "Python 3",
   "language": "python",
   "name": "python3"
  },
  "language_info": {
   "codemirror_mode": {
    "name": "ipython",
    "version": 3
   },
   "file_extension": ".py",
   "mimetype": "text/x-python",
   "name": "python",
   "nbconvert_exporter": "python",
   "pygments_lexer": "ipython3",
   "version": "3.4.3"
  }
 },
 "nbformat": 4,
 "nbformat_minor": 0
}
