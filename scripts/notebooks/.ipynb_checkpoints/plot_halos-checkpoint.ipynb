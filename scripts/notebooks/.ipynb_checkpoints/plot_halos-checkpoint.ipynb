{
 "cells": [
  {
   "cell_type": "markdown",
   "metadata": {},
   "source": [
    "### Halo check\n",
    "Plot halos to see if halofinders work well"
   ]
  },
  {
   "cell_type": "code",
   "execution_count": 6,
   "metadata": {
    "collapsed": false
   },
   "outputs": [
    {
     "name": "stdout",
     "output_type": "stream",
     "text": [
      "type namelist file name (enter = cosmo_200.nml):\n",
      "Starting nout?186\n",
      "ending nout?187\n",
      "Scale?: 10\n",
      "npix (enter = 400)800\n",
      "maximum level15\n",
      "Ranges = [[0.25598451411900003, 0.757884514119], [0.06195341601400001, 0.5638534160140001], [0.05209825115900002, 0.553998251159]]\n",
      "\n",
      "No AMR instance,\n",
      "Loading one...\n",
      "An AMR instance is created\n",
      "\n",
      "Updating info.cpus\n",
      "Updating data\n",
      "Types of particles you want to load are:  ['star pos mass']\n"
     ]
    },
    {
     "ename": "AttributeError",
     "evalue": "'Sim' object has no attribute 'data_dir'",
     "output_type": "error",
     "traceback": [
      "\u001b[1;31m---------------------------------------------------------------------------\u001b[0m",
      "\u001b[1;31mAttributeError\u001b[0m                            Traceback (most recent call last)",
      "\u001b[1;32m<ipython-input-6-54dd64676afe>\u001b[0m in \u001b[0;36m<module>\u001b[1;34m()\u001b[0m\n\u001b[0;32m     75\u001b[0m     \u001b[1;31m#%%\u001b[0m\u001b[1;33m\u001b[0m\u001b[1;33m\u001b[0m\u001b[0m\n\u001b[0;32m     76\u001b[0m     \u001b[1;32mif\u001b[0m \u001b[0mdraw_part\u001b[0m\u001b[1;33m:\u001b[0m\u001b[1;33m\u001b[0m\u001b[0m\n\u001b[1;32m---> 77\u001b[1;33m         \u001b[0ms\u001b[0m\u001b[1;33m.\u001b[0m\u001b[0madd_part\u001b[0m\u001b[1;33m(\u001b[0m\u001b[0mptype\u001b[0m\u001b[1;33m)\u001b[0m\u001b[1;33m\u001b[0m\u001b[0m\n\u001b[0m\u001b[0;32m     78\u001b[0m         \u001b[0ms\u001b[0m\u001b[1;33m.\u001b[0m\u001b[0mpart\u001b[0m\u001b[1;33m.\u001b[0m\u001b[0mload\u001b[0m\u001b[1;33m(\u001b[0m\u001b[1;33m)\u001b[0m\u001b[1;33m\u001b[0m\u001b[0m\n\u001b[0;32m     79\u001b[0m         \u001b[0mpart\u001b[0m \u001b[1;33m=\u001b[0m \u001b[0mgetattr\u001b[0m\u001b[1;33m(\u001b[0m\u001b[0ms\u001b[0m\u001b[1;33m.\u001b[0m\u001b[0mpart\u001b[0m\u001b[1;33m,\u001b[0m \u001b[0ms\u001b[0m\u001b[1;33m.\u001b[0m\u001b[0mpart\u001b[0m\u001b[1;33m.\u001b[0m\u001b[0mpt\u001b[0m\u001b[1;33m[\u001b[0m\u001b[1;36m0\u001b[0m\u001b[1;33m]\u001b[0m\u001b[1;33m)\u001b[0m\u001b[1;33m\u001b[0m\u001b[0m\n",
      "\u001b[1;32m/home/hoseung/Copy/pyclusterevol/load/sim.py\u001b[0m in \u001b[0;36madd_part\u001b[1;34m(self, ptypes, load, fortran, **kwargs)\u001b[0m\n\u001b[0;32m    368\u001b[0m         \u001b[1;32mfrom\u001b[0m \u001b[0mload\u001b[0m \u001b[1;32mimport\u001b[0m \u001b[0mpart\u001b[0m\u001b[1;33m\u001b[0m\u001b[0m\n\u001b[0;32m    369\u001b[0m         \u001b[0mprint\u001b[0m\u001b[1;33m(\u001b[0m\u001b[1;34m\"Types of particles you want to load are: \"\u001b[0m\u001b[1;33m,\u001b[0m \u001b[0mptypes\u001b[0m\u001b[1;33m)\u001b[0m\u001b[1;33m\u001b[0m\u001b[0m\n\u001b[1;32m--> 370\u001b[1;33m         \u001b[0mself\u001b[0m\u001b[1;33m.\u001b[0m\u001b[0mpart\u001b[0m \u001b[1;33m=\u001b[0m \u001b[0mpart\u001b[0m\u001b[1;33m.\u001b[0m\u001b[0mPart\u001b[0m\u001b[1;33m(\u001b[0m\u001b[0mself\u001b[0m\u001b[1;33m.\u001b[0m\u001b[0minfo\u001b[0m\u001b[1;33m,\u001b[0m \u001b[0mptypes\u001b[0m\u001b[1;33m=\u001b[0m\u001b[0mptypes\u001b[0m\u001b[1;33m,\u001b[0m \u001b[0mdata_dir\u001b[0m\u001b[1;33m=\u001b[0m\u001b[0mself\u001b[0m\u001b[1;33m.\u001b[0m\u001b[0mdata_dir\u001b[0m\u001b[1;33m,\u001b[0m \u001b[0mdmo\u001b[0m\u001b[1;33m=\u001b[0m\u001b[0mself\u001b[0m\u001b[1;33m.\u001b[0m\u001b[0mdmo\u001b[0m\u001b[1;33m,\u001b[0m \u001b[1;33m**\u001b[0m\u001b[0mkwargs\u001b[0m\u001b[1;33m)\u001b[0m\u001b[1;33m\u001b[0m\u001b[0m\n\u001b[0m\u001b[0;32m    371\u001b[0m         \u001b[0mprint\u001b[0m\u001b[1;33m(\u001b[0m\u001b[1;34m\"A particle instance is created\\n\"\u001b[0m\u001b[1;33m)\u001b[0m\u001b[1;33m\u001b[0m\u001b[0m\n\u001b[0;32m    372\u001b[0m \u001b[1;33m\u001b[0m\u001b[0m\n",
      "\u001b[1;31mAttributeError\u001b[0m: 'Sim' object has no attribute 'data_dir'"
     ]
    }
   ],
   "source": [
    "import os\n",
    "base = os.path.abspath('/home/hoseung/Work/data/05427/')\n",
    "cluster_name = base.split('/')[-1]\n",
    "base = base + '/'\n",
    "frefine= 'refine_params.txt'\n",
    "fnml = input(\"type namelist file name (enter = cosmo_200.nml):\")\n",
    "if fnml ==\"\":\n",
    "    fnml = 'cosmo_200.nml'\n",
    "nout_ini=int(input(\"Starting nout?\"))\n",
    "nout_fi=int(input(\"ending nout?\"))\n",
    "scale = input(\"Scale?: \")\n",
    "if scale==\"\":\n",
    "    scale = 0.3\n",
    "scale = float(scale)\n",
    "\n",
    "npix = input(\"npix (enter = 400)\")\n",
    "if npix == \"\":\n",
    "    npix = 400\n",
    "npix = int(npix)\n",
    "\n",
    "ptype=[\"star pos mass\"]\n",
    "refine_params = True\n",
    "dmo=False\n",
    "draw=True\n",
    "draw_halos=True\n",
    "draw_part = True\n",
    "draw_hydro = True\n",
    "if draw_hydro:\n",
    "    lmax=input(\"maximum level\")\n",
    "    if lmax==\"\":\n",
    "        lmax=19\n",
    "    lmax = int(lmax)\n",
    "\n",
    "\n",
    "\n",
    "import load\n",
    "import utils.sampling as smp\n",
    "import utils.match as mtc\n",
    "import draw\n",
    "import pickle\n",
    "\n",
    "nouts = range(nout_ini,nout_fi)\n",
    "\n",
    "for nout in nouts:\n",
    "    snout = str(nout).zfill(3)\n",
    "\n",
    "    if refine_params:\n",
    "        rr = load.info.RefineParam()\n",
    "        rr.loadRegion(base + frefine)\n",
    "      \n",
    "        nn = load.info.Nml()\n",
    "        nn.load(base + fnml)\n",
    "        \n",
    "        aexp = nn.aout[nout]\n",
    "        i_aexp = mtc.closest(aexp, rr.aexp)\n",
    "        \n",
    "        x_refine = rr.x_refine[i_aexp]\n",
    "        y_refine = rr.y_refine[i_aexp]\n",
    "        z_refine = rr.z_refine[i_aexp]\n",
    "        r_refine = rr.r_refine[i_aexp] * 0.5\n",
    "        \n",
    "        region = smp.set_region(xc = x_refine, yc = y_refine, zc = z_refine,\n",
    "                                radius = r_refine * scale)\n",
    "    else:   \n",
    "        region = smp.set_region(xc=0.5, yc=0.5, zc=0.5, radius=0.1)                            \n",
    "    #region = s.part.search_zoomin(scale=0.5, load=True)\n",
    "    s = load.sim.Sim(nout, base, dmo=dmo)\n",
    "    s.set_ranges(region[\"ranges\"])\n",
    "    imgs = draw.img_obj.MapSet(info=s.info, region=region)\n",
    "\n",
    "\n",
    "    imgp = draw.img_obj.MapImg(info=s.info, proj='z', npix=npix, ptype=ptype)\n",
    "    imgp.set_region(region)\n",
    "\n",
    "    #%%\n",
    "    if draw_part:\n",
    "        s.add_part(ptype)\n",
    "        s.part.load()\n",
    "        part = getattr(s.part, s.part.pt[0])\n",
    "    \n",
    "        x = part['x']\n",
    "        y = part['y']\n",
    "        z = part['y']\n",
    "        m = part['m'] * s.info.msun # part must be normalized already!\n",
    "    \n",
    "        imgp.set_data(draw.pp.den2d(x, y, z, m, npix, s.info, cic=True, norm_integer=True))\n",
    "        imgs.ptden2d = imgp\n",
    "#    imgp.show_data()\n",
    "\n",
    "    #%%\n",
    "    if draw_hydro:\n",
    "        s.add_hydro()\n",
    "        s.hydro.amr2cell(lmax=lmax)\n",
    "        field = draw.pp.pp_cell(s.hydro.cell, npix, s.info, verbose=True)\n",
    "        ptype = 'gas_den'\n",
    "        imgh = draw.img_obj.MapImg(info=s.info, proj='z', npix=npix, ptype=ptype)\n",
    "        imgh.set_data(field)\n",
    "        imgh.set_region(region)\n",
    "    #    imgh.show_data()\n",
    "        imgs.hydro = imgh\n",
    "    \n",
    "    #%%\n",
    "    fdump = base + snout + 'map.pickle'\n",
    "    with open(fdump, 'wb') as f:\n",
    "        pickle.dump(imgs, f)\n",
    "    if draw:\n",
    "        if draw_part:\n",
    "            imgs.ptden2d.plot_2d_den(save= base + cluster_name + snout +'star.png', dpi=400, show=False)\n",
    "        if draw_hydro:    \n",
    "            imgs.hydro.plot_2d_den(save= base + cluster_name +snout + 'hydro.png',vmax=15,vmin=10, show=False,\n",
    "                                   dpi=400)\n"
   ]
  },
  {
   "cell_type": "code",
   "execution_count": null,
   "metadata": {
    "collapsed": true
   },
   "outputs": [],
   "source": [
    "import load\n",
    "import matplotlib.pyplot as plt\n",
    "base_dir = '/home/hoseung/Work/data/05427/'\n",
    "\n",
    "nout=187\n",
    "\n",
    "s = load.sim.Sim(nout=nout, base=base_dir, setup=True)"
   ]
  },
  {
   "cell_type": "code",
   "execution_count": 3,
   "metadata": {
    "collapsed": false
   },
   "outputs": [
    {
     "name": "stdout",
     "output_type": "stream",
     "text": [
      "Types of particles you want to load are:  ['dm pos']\n",
      "No AMR instance,\n",
      "Loading one...\n",
      "An AMR instance is created\n",
      "\n",
      "Updating info.cpus\n",
      "No info._set_cpus attribute??\n",
      "A particle instance is created\n",
      "\n",
      "Use part.load() to load particle\n"
     ]
    }
   ],
   "source": [
    "ptypes = [\"dm pos\"]\n",
    "s.add_part(ptypes=ptypes)"
   ]
  },
  {
   "cell_type": "code",
   "execution_count": null,
   "metadata": {
    "collapsed": true
   },
   "outputs": [],
   "source": []
  },
  {
   "cell_type": "code",
   "execution_count": 2,
   "metadata": {
    "collapsed": false
   },
   "outputs": [
    {
     "name": "stdout",
     "output_type": "stream",
     "text": [
      "Ranges = [[0.0, 1.0], [0.0, 1.0], [0.0, 1.0]]\n",
      "\n",
      "No AMR instance,\n",
      "Loading one...\n",
      "An AMR instance is created\n",
      "\n",
      "Updating info.cpus\n",
      "An AMR instance is created\n",
      "\n",
      "Updating info.cpus\n",
      " Simulation set up.\n"
     ]
    },
    {
     "ename": "FileNotFoundError",
     "evalue": "[Errno 2] No such file or directory: '/home/hoseung/Work/data/05427/187map.pickle'",
     "output_type": "error",
     "traceback": [
      "\u001b[1;31m---------------------------------------------------------------------------\u001b[0m",
      "\u001b[1;31mFileNotFoundError\u001b[0m                         Traceback (most recent call last)",
      "\u001b[1;32m<ipython-input-2-8cdd0a233156>\u001b[0m in \u001b[0;36m<module>\u001b[1;34m()\u001b[0m\n\u001b[0;32m     12\u001b[0m \u001b[1;33m\u001b[0m\u001b[0m\n\u001b[0;32m     13\u001b[0m \u001b[0mfin\u001b[0m \u001b[1;33m=\u001b[0m \u001b[0mbase_dir\u001b[0m \u001b[1;33m+\u001b[0m \u001b[0msnout\u001b[0m \u001b[1;33m+\u001b[0m \u001b[1;34m'map.pickle'\u001b[0m\u001b[1;33m\u001b[0m\u001b[0m\n\u001b[1;32m---> 14\u001b[1;33m \u001b[1;32mwith\u001b[0m \u001b[0mopen\u001b[0m\u001b[1;33m(\u001b[0m\u001b[0mfin\u001b[0m\u001b[1;33m,\u001b[0m \u001b[1;34m'rb'\u001b[0m\u001b[1;33m)\u001b[0m \u001b[1;32mas\u001b[0m \u001b[0mf\u001b[0m\u001b[1;33m:\u001b[0m\u001b[1;33m\u001b[0m\u001b[0m\n\u001b[0m\u001b[0;32m     15\u001b[0m     \u001b[0mimg\u001b[0m \u001b[1;33m=\u001b[0m \u001b[0mpickle\u001b[0m\u001b[1;33m.\u001b[0m\u001b[0mload\u001b[0m\u001b[1;33m(\u001b[0m\u001b[0mf\u001b[0m\u001b[1;33m)\u001b[0m\u001b[1;33m\u001b[0m\u001b[0m\n\u001b[0;32m     16\u001b[0m \u001b[1;33m\u001b[0m\u001b[0m\n",
      "\u001b[1;31mFileNotFoundError\u001b[0m: [Errno 2] No such file or directory: '/home/hoseung/Work/data/05427/187map.pickle'"
     ]
    }
   ],
   "source": [
    "fig = plt.figure()\n",
    "ax1 = fig.add_subplot(111)\n",
    "snout = str(nout).zfill(3)\n",
    "\n",
    "fin = base_dir + snout + 'map.pickle'\n",
    "with open(fin, 'rb') as f:\n",
    "    img = pickle.load(f)\n",
    "\n",
    "ptimg = img.ptden2d\n",
    "fout = base_dir + snout + \"dmmap_\" + ptimg.proj + \".png\"\n",
    "img.ptden2d.plot_2d_den(save=False, show=False, vmin=1e7, vmax=3e10, dpi=400, axes=ax1)"
   ]
  },
  {
   "cell_type": "markdown",
   "metadata": {},
   "source": [
    "##### Load halofinder result"
   ]
  },
  {
   "cell_type": "markdown",
   "metadata": {},
   "source": [
    "##### get position and virial radius "
   ]
  },
  {
   "cell_type": "markdown",
   "metadata": {},
   "source": [
    "##### load particles data (star or DM) and draw density map"
   ]
  },
  {
   "cell_type": "markdown",
   "metadata": {},
   "source": [
    "##### plot halos on top of particle density map"
   ]
  },
  {
   "cell_type": "code",
   "execution_count": null,
   "metadata": {
    "collapsed": true
   },
   "outputs": [],
   "source": []
  }
 ],
 "metadata": {
  "kernelspec": {
   "display_name": "Python 3",
   "language": "python",
   "name": "python3"
  },
  "language_info": {
   "codemirror_mode": {
    "name": "ipython",
    "version": 3
   },
   "file_extension": ".py",
   "mimetype": "text/x-python",
   "name": "python",
   "nbconvert_exporter": "python",
   "pygments_lexer": "ipython3",
   "version": "3.4.3"
  }
 },
 "nbformat": 4,
 "nbformat_minor": 0
}
