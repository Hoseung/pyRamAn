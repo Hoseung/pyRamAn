{
 "cells": [
  {
   "cell_type": "code",
   "execution_count": 1,
   "metadata": {
    "collapsed": false
   },
   "outputs": [],
   "source": [
    "import load\n",
    "from tree import tmtree\n",
    "import numpy as np\n",
    "import utils.sampling as smp\n",
    "import tree.halomodule as hmo \n",
    "\n",
    "# Load simulation data and halo (tree later)\n",
    "\n",
    "wdir = '/home/hoseung/Work/data/05427/'\n",
    "nout = 187\n",
    "info = load.info.Info(nout=nout, base=wdir, load=True)\n",
    "#hgal = hmo.Halo(base=wdir, nout=nout, halofinder='HM', info=info, load=True, is_gal=True)"
   ]
  },
  {
   "cell_type": "code",
   "execution_count": 18,
   "metadata": {
    "collapsed": false
   },
   "outputs": [],
   "source": [
    "from load.utils import skip_fortran, read_fortran\n",
    "fn = \"/home/hoseung/Work/data/05427/GalaxyMaker/gal/tree_bricks187\"\n",
    "f = open(fn, \"rb\")\n",
    "\n",
    "nbodies = read_fortran(f, np.dtype('i4'), 1)\n",
    "massp = read_fortran(f, np.dtype('f4'), 1)\n",
    "aexp = read_fortran(f, np.dtype('f4'), 1)\n",
    "omegat = read_fortran(f, np.dtype('f4'), 1)\n",
    "age = read_fortran(f, np.dtype('f4'), 1)\n",
    "halnum, subnum = read_fortran(f, np.dtype('i4'), 2)\n",
    "dtype_gal = [('np', '<i4'), ('galid', '<i4'), ('hhost', '<i4', (5,)),\n",
    "            ('ang', '<f4', (3,)), ('m', '<f4'), ('mvir', '<f4'),\n",
    "            ('r', '<f4', (4,)), ('energy', '<f8', (3,)),\n",
    "            ('rvir', '<f4'), ('p', '<f4', (3,)),\n",
    "            ('v', '<f4', (3,)), ('sp', '<f4')]\n",
    "\n",
    "dtype_profile = [('rho_0', '<f4'), ('r_c', '<f4')]\n",
    "\n",
    "tothal = halnum + subnum\n",
    "data = np.recarray(tothal, dtype=dtype_gal)\n",
    "profile = np.recarray(tothal, dtype=dtype_profile)\n",
    "\n",
    "for i in range(tothal):\n",
    "    nph = read_fortran(f, np.dtype('i4'), 1)\n",
    "    data['np'][i] = nph\n",
    "    pids = read_fortran(f, np.dtype('i4'), nph) # id list. \n",
    "    data['galid'][i] = read_fortran(f, np.dtype('i4'), 1)\n",
    "    read_fortran(f, np.dtype('i4'), 1) #timestep\n",
    "    data['hhost'][i][0:5] = read_fortran(f, np.dtype('i4'), 5)\n",
    "    data['m'][i] = read_fortran(f, np.dtype('f4'), 1)\n",
    "    data['p'][i][0:3] = read_fortran(f, np.dtype('f4'), 3)\n",
    "    data['v'][i][0:3] = read_fortran(f, np.dtype('f4'), 3)\n",
    "    data['ang'][i][0:3] = read_fortran(f, np.dtype('f4'), 3)\n",
    "    data['r'][i][0:4] = read_fortran(f, np.dtype('f4'), 4)\n",
    "    data['energy'][i][0:3] = read_fortran(f, np.dtype('f4'), 3)#energies\n",
    "    data['sp'][i] = read_fortran(f, np.dtype('f4'), 1)\n",
    "    sig, sigb, mb = read_fortran(f, np.dtype('f4'), 3)\n",
    "    virials = read_fortran(f, np.dtype('f4'), 4)\n",
    "    data['rvir'][i], data['mvir'][i] = virials[0:2]\n",
    "    profile['rho_0'][i], profile['r_c'] = read_fortran(f, np.dtype('f4'), 2)\n",
    "    nbin = read_fortran(f, np.dtype('i4'), 1)\n",
    "    rr = read_fortran(f, np.dtype('f4'), nbin)\n",
    "    rho = read_fortran(f, np.dtype('f4'), nbin) # wasted..\n",
    "    "
   ]
  },
  {
   "cell_type": "code",
   "execution_count": 19,
   "metadata": {
    "collapsed": false
   },
   "outputs": [
    {
     "data": {
      "text/plain": [
       "array([2054426,   66958,  101730,   56215,   39669,   78748,  181272,\n",
       "        114847,   37463,   56315,   90760,   33688,   24727,   50856,\n",
       "        173276,   24670,     786,   53288,  126157,   75062,   43574,\n",
       "        102832,   80432,   27985,     555,   28261,     660,    1233,\n",
       "         35361,   14730,   12686,   26205,   25646,   23838,   30615,\n",
       "         30649,   23631,    2198,   10522,   64090,    9521,   18017,\n",
       "         21062,   18874,   30971,    3114,     495,   26437,   11666,\n",
       "          3772,   13557,    1800,   90648,   10814,   16487,   20420,\n",
       "         25218,   19009,   14044,     755,   24171,    8212,   21475,\n",
       "         17166,    3390,   24949,   15885,   12661,     782,    8389,\n",
       "          4121,   27548,   19938,    9778,   14911,   42373,    4809,\n",
       "         26459,   14871,     300,   10749,    2533,    7550,   52034,\n",
       "          8759,   22764,   14540,    9313,   94964,   66798,   15597,\n",
       "         40507,   24926,   16731,   25859,    5468,   17997,   17664,\n",
       "          2270,   12039,    1800,   34825,    1930,    4925,   13500,\n",
       "         11710,    5073,    5438,    4656,    3648,   12549,   48328,\n",
       "           827,    6794,   16021,    5462,     896,    8255,   12220,\n",
       "          1686,    4825,    6396,   32836,    1739,    5251,   15471,\n",
       "          9824,    1252,     877,    1215,     324,    4000,   11471,\n",
       "          2123,    2516,     248,    8825,    1285,     216,    6393,\n",
       "           308,    1958,    3949,    9199,   15095,    1924,    4057,\n",
       "           551,    2389,    1748,    8887,     671,   38962,    2695,\n",
       "          1825,    5758,    2530,    1650,     633,     900,    1924,\n",
       "         10561,   10829,    8869,    1585,   17111,    1858,    1937,\n",
       "          7584,     599,   14729,     367,    5353,   24676,    8602,\n",
       "         13404,    7786,   10537,     235,    3995,    9232,     339,\n",
       "           287,    4674,    1329,    5568,     993,    9345,     324,\n",
       "          2024,    1741,    1775,    1160,    2657,    1113,    1002,\n",
       "           445,    1771,    1277,    2864,    3772,    4541,     725,\n",
       "          3738,    3335,     699,    1550,     836,    2746,    1435,\n",
       "          2502,    3413,    5475,    1163,    3998,     244,    6037,\n",
       "          1260,     661,    2583,    1671,    1861,    8685,    8692,\n",
       "           739,    1543,     952,    1148,     932,    7233,    1357,\n",
       "           276,    1565,    4129,     229,    4079,    1372,   13983,\n",
       "          2328,     422,     869,    3130,     282,     563,    8120,\n",
       "           473,     912,     410,    1148,     513,    8734,    1562,\n",
       "          1713,     771,     542,    4571,    5558,     403,     552,\n",
       "           525,     931,    2918,    1260,    6069,    1573,     315,\n",
       "         40025,     264,     592,     306,    4814,    1393,    3163,\n",
       "           229,     222,    8029,    1465,     873,     935,    1364,\n",
       "          1806,     844,    2408,     395,    1927,     385,    6554,\n",
       "           582,     252,     623,     217,     212,    2629,     201,\n",
       "           227,    2394,    1131,    1549,     241,     656,    1182,\n",
       "          1044,    3482,     511,     843,     384,     745,    2886,\n",
       "           392,    1742,     454,    2507,     333,     876,    1993,\n",
       "           372,    1474,     200,     213,     340,     544,     484,\n",
       "          1123,     640,     495,     983,    4641,     211,    2142,\n",
       "           776,     269,     560,    2227,     439,     293,    1929,\n",
       "           276,    3706,    7681,     221,    1444,    2143,     360,\n",
       "           836,     349,     462,     308,     979,    1478,     318,\n",
       "          7676,   14293,    1748,     399,     311,    2831,     833,\n",
       "          1355,     777,     886,    1292,    1718,   17058,   19287,\n",
       "          4417,     909,    5942,     365,   23532,    1108,   51217,\n",
       "          1743,     238,    5907,    2029, 1501960,    1015,   17955,\n",
       "         61456,   11261,     233,     260,     893,     651,     418,\n",
       "        129807,     328,    1375,    2241,   19354,     950,   19124,\n",
       "         60548,    5095,     329,     814,    2136,     601,    5523,\n",
       "         15125,    7308,    5961,    1231,    1033,     507,    1897,\n",
       "         14734,    2474,   41044,     783,   45634,    6757,     203,\n",
       "           607,   12127,    4425,  279145,     910,    2496,    4625,\n",
       "          9535,    5894,    1127,  140086,     336,  118231,   14573,\n",
       "          4553,    3972,    1930,   16486,     459,    9418,     362,\n",
       "         14233,    2976,     491,   25934,    3717,    1194,    4234,\n",
       "          1432,     983,     370,     303,   16385,     662,     621,\n",
       "           972,     315,   11732,   20700,     961,   22256,     805,\n",
       "           486,     563,     676,    1304,     651,   14057,    1133,\n",
       "          2026,    1887,     770,    1532,     497,    2364,    1326,\n",
       "          4299,    2662,    3470,     419,     812,    1483], dtype=int32)"
      ]
     },
     "execution_count": 19,
     "metadata": {},
     "output_type": "execute_result"
    }
   ],
   "source": [
    "data['np']"
   ]
  },
  {
   "cell_type": "code",
   "execution_count": 11,
   "metadata": {
    "collapsed": false
   },
   "outputs": [],
   "source": [
    "    data['np'][i] = read_fortran(f, np.dtype('i4'), 1)\n",
    "    pids = read_fortran(f, np.dtype('i4'), nph) # id list. \n",
    "    #pids = read_fortran(f, np.dtype('i4'), nph) # id list. \n",
    "    galid = read_fortran(f, np.dtype('i4'), 1)\n",
    "    read_fortran(f, np.dtype('i4'), 1) #timestep\n",
    "    level, host, sub, nsub, nextsub = read_fortran(f, np.dtype('i4'), 5)\n",
    "    mass = read_fortran(f, np.dtype('f4'), 1)\n",
    "    xx, yy, zz = read_fortran(f, np.dtype('f4'), 3)\n",
    "    vx, vy, vz = read_fortran(f, np.dtype('f4'), 3)\n",
    "    ax, ay, az = read_fortran(f, np.dtype('f4'), 3)\n",
    "    r = read_fortran(f, np.dtype('f4'), 4)[0]\n",
    "    read_fortran(f, np.dtype('f4'), 3)#energies\n",
    "    sp = read_fortran(f, np.dtype('f4'), 1)\n",
    "    sig, sigb, mb = read_fortran(f, np.dtype('f4'), 3)\n",
    "    rvir, mvir = read_fortran(f, np.dtype('f4'), 4)[0:2]\n",
    "    rho_0,rho_c = read_fortran(f, np.dtype('f4'), 2)\n",
    "    nbin = read_fortran(f, np.dtype('i4'), 1)\n",
    "    rr = read_fortran(f, np.dtype('f4'), nbin)\n",
    "    rho = read_fortran(f, np.dtype('f4'), nbin)"
   ]
  },
  {
   "cell_type": "code",
   "execution_count": 12,
   "metadata": {
    "collapsed": false
   },
   "outputs": [
    {
     "data": {
      "text/plain": [
       "array([1483], dtype=int32)"
      ]
     },
     "execution_count": 12,
     "metadata": {},
     "output_type": "execute_result"
    }
   ],
   "source": [
    "nph"
   ]
  },
  {
   "cell_type": "code",
   "execution_count": 9,
   "metadata": {
    "collapsed": false
   },
   "outputs": [
    {
     "data": {
      "text/plain": [
       "array([  1.03994621e+02,   9.18323746e+01,   7.38007355e+01,\n",
       "         6.07760811e+01,   4.81730194e+01,   3.95351486e+01,\n",
       "         3.10097618e+01,   2.44032860e+01,   2.07155056e+01,\n",
       "         1.62880344e+01,   1.43288059e+01,   1.19010649e+01,\n",
       "         9.14089108e+00,   7.74707460e+00,   6.63719654e+00,\n",
       "         5.51804352e+00,   4.43158913e+00,   3.64656496e+00,\n",
       "         3.03424120e+00,   2.45820642e+00,   2.09689832e+00,\n",
       "         1.70392883e+00,   1.43452179e+00,   1.15032744e+00,\n",
       "         1.03705227e+00,   7.41494715e-01,   6.77280664e-01,\n",
       "         5.18361688e-01,   5.02765119e-01,   3.83069575e-01,\n",
       "         2.88174391e-01,   1.99304283e-01,   1.59082696e-01,\n",
       "         1.25671938e-01,   6.85076639e-02,   3.53694893e-02,\n",
       "         1.21413404e-02,   1.18175708e-02,   7.67374784e-03,\n",
       "         1.86986884e-03,   0.00000000e+00,   0.00000000e+00,\n",
       "         0.00000000e+00,   0.00000000e+00,   0.00000000e+00,\n",
       "         0.00000000e+00,   0.00000000e+00,   0.00000000e+00,\n",
       "         0.00000000e+00,   0.00000000e+00,   0.00000000e+00,\n",
       "         0.00000000e+00,   0.00000000e+00,   0.00000000e+00,\n",
       "         0.00000000e+00,   0.00000000e+00,   0.00000000e+00,\n",
       "         0.00000000e+00,   0.00000000e+00,   0.00000000e+00,\n",
       "         0.00000000e+00,   0.00000000e+00,   0.00000000e+00,\n",
       "         0.00000000e+00,   0.00000000e+00,   0.00000000e+00,\n",
       "         0.00000000e+00,   0.00000000e+00,   0.00000000e+00,\n",
       "         0.00000000e+00,   0.00000000e+00,   0.00000000e+00,\n",
       "         0.00000000e+00,   0.00000000e+00,   0.00000000e+00,\n",
       "         0.00000000e+00,   0.00000000e+00,   0.00000000e+00,\n",
       "         0.00000000e+00,   0.00000000e+00,   0.00000000e+00,\n",
       "         0.00000000e+00,   0.00000000e+00,   0.00000000e+00,\n",
       "         0.00000000e+00,   0.00000000e+00,   0.00000000e+00,\n",
       "         0.00000000e+00,   0.00000000e+00,   0.00000000e+00,\n",
       "         0.00000000e+00,   0.00000000e+00,   0.00000000e+00,\n",
       "         0.00000000e+00,   0.00000000e+00,   0.00000000e+00,\n",
       "         0.00000000e+00,   0.00000000e+00,   0.00000000e+00,\n",
       "         0.00000000e+00], dtype=float32)"
      ]
     },
     "execution_count": 9,
     "metadata": {},
     "output_type": "execute_result"
    }
   ],
   "source": [
    "rho"
   ]
  },
  {
   "cell_type": "code",
   "execution_count": 4,
   "metadata": {
    "collapsed": false
   },
   "outputs": [
    {
     "name": "stdout",
     "output_type": "stream",
     "text": [
      "[       2        4        7 ..., 11209993 11209994 11209995]\n",
      "8218052\n",
      "[1056964608 1069547520 1075838976 1080033280 1083179008 1085276160\n",
      " 1087373312 1089470464 1091043328 1092091904 1093140480 1094189056\n",
      " 1095237632 1096286208 1097334784 1098383360 1099169792 1099694080\n",
      " 1100218368 1100742656 1101266944 1101791232 1102315520 1102839808\n",
      " 1103364096 1103888384 1104412672 1104936960 1105461248 1105985536\n",
      " 1106509824 1107034112 1107427328 1107689472 1107951616 1108213760\n",
      " 1108475904 1108738048 1109000192 1109262336 1109524480 1109786624\n",
      " 1110048768 1110310912 1110573056 1110835200 1111097344 1111359488\n",
      " 1111621632 1111883776 1112145920 1112408064 1112670208 1112932352\n",
      " 1113194496 1113456640 1113718784 1113980928 1114243072 1114505216\n",
      " 1114767360 1115029504 1115291648 1115553793 1115750400 1115881472\n",
      " 1116012544 1116143616 1116274688 1116405760 1116536832 1116667904\n",
      " 1116798976 1116930048 1117061120 1117192192 1117323264 1117454336\n",
      " 1117585408 1117716480 1117847552 1117978624 1118109696 1118240768\n",
      " 1118371840 1118502912 1118633984 1118765056 1118896128 1119027200\n",
      " 1119158272 1119289344 1119420416 1119551488 1119682560 1119813632\n",
      " 1119944704 1120075776 1120206848 1120337920]\n",
      "8218868\n",
      "[1146634997 1145057988 1142727280 1140465325 1137187102 1134981170\n",
      " 1133423329 1131391675 1129388729 1127705043 1126215950 1125010663\n",
      " 1123991901 1122393605 1120882975 1119701619 1118321396 1117423641\n",
      " 1116432984 1115658181 1114264003 1113094073 1112072025 1111038914\n",
      " 1110221325 1109483806 1108949538 1108145039 1107524037 1106966818\n",
      " 1105686080 1105171395 1104320209 1103649304 1103041986 1102257265\n",
      " 1101952645 1101456711 1100891994 1100420573 1100075696 1099795028\n",
      " 1099458319 1098991100 1098780803 1098122093 1097530020 1097261255\n",
      " 1096677812 1096229031 1095894640 1095732643 1095101805 1095174930\n",
      " 1094740897 1094621131 1094361676 1094085653 1093870699 1093673384\n",
      " 1093343058 1093248890 1093009037 1092729171 1092720947 1092217543\n",
      " 1092376812 1092163056 1092040338 1091854289 1091687800 1091736105\n",
      " 1091450855 1091464189 1091147624 1091084610 1090940227 1090850536\n",
      " 1090655591 1090562970 1089954837 1089904148 1089612487 1089107064\n",
      " 1088822574 1088892574 1088536562 1088107254 1088100703 1088073530\n",
      " 1087961382 1087472486 1087257064 1087059504 1086576004 1086371871\n",
      " 1086184810 1086263717 1085840953 1085562124]\n",
      "[66958]\n",
      "8218880\n"
     ]
    }
   ],
   "source": [
    "print(pids)\n",
    "\n",
    "nph = read_fortran(f, np.dtype('i4'), 1)\n",
    "print(f.tell())\n",
    "#print(np.fromfile(f, np.dtype(np.int32), 1))\n",
    "#np.fromfile(f, np.dtype(np.int16), 1)\n",
    "#pids = np.fromfile(f, np.dtype(np.int32), nph)\n",
    "pids = read_fortran(f, np.dtype('i4'), nph) # id list. \n",
    "print(pids)\n",
    "\n",
    "pids2 = read_fortran(f, np.dtype('i4'), nph) # id list. \n",
    "print(f.tell())\n",
    "galid = read_fortran(f, np.dtype('i4'), 1)\n",
    "print(pids2)\n",
    "print(galid)\n",
    "print(f.tell())"
   ]
  },
  {
   "cell_type": "code",
   "execution_count": 21,
   "metadata": {
    "collapsed": false
   },
   "outputs": [
    {
     "ename": "OSError",
     "evalue": "Unexpected FORTRAN block length 0!=400",
     "output_type": "error",
     "traceback": [
      "\u001b[1;31m---------------------------------------------------------------------------\u001b[0m",
      "\u001b[1;31mOSError\u001b[0m                                   Traceback (most recent call last)",
      "\u001b[1;32m<ipython-input-21-7323dec86a83>\u001b[0m in \u001b[0;36m<module>\u001b[1;34m()\u001b[0m\n\u001b[1;32m----> 1\u001b[1;33m \u001b[0mprint\u001b[0m\u001b[1;33m(\u001b[0m\u001b[0mread_fortran\u001b[0m\u001b[1;33m(\u001b[0m\u001b[0mf\u001b[0m\u001b[1;33m,\u001b[0m \u001b[0mnp\u001b[0m\u001b[1;33m.\u001b[0m\u001b[0mdtype\u001b[0m\u001b[1;33m(\u001b[0m\u001b[1;34m'i4'\u001b[0m\u001b[1;33m)\u001b[0m\u001b[1;33m,\u001b[0m \u001b[1;36m100\u001b[0m\u001b[1;33m)\u001b[0m\u001b[1;33m)\u001b[0m\u001b[1;33m\u001b[0m\u001b[0m\n\u001b[0m\u001b[0;32m      2\u001b[0m \u001b[0mprint\u001b[0m\u001b[1;33m(\u001b[0m\u001b[0mf\u001b[0m\u001b[1;33m.\u001b[0m\u001b[0mtell\u001b[0m\u001b[1;33m(\u001b[0m\u001b[1;33m)\u001b[0m\u001b[1;33m)\u001b[0m\u001b[1;33m\u001b[0m\u001b[0m\n",
      "\u001b[1;32m/home/hoseung/Copy/pyclusterevol/load/utils.py\u001b[0m in \u001b[0;36mread_fortran\u001b[1;34m(f, dtype, n, check)\u001b[0m\n\u001b[0;32m     36\u001b[0m         \u001b[1;32mif\u001b[0m \u001b[0mcheck\u001b[0m\u001b[1;33m:\u001b[0m\u001b[1;33m\u001b[0m\u001b[0m\n\u001b[0;32m     37\u001b[0m             raise IOError(\"Unexpected FORTRAN block length %d!=%d\"\n\u001b[1;32m---> 38\u001b[1;33m                           % (alen, length))\n\u001b[0m\u001b[0;32m     39\u001b[0m         \u001b[1;32melse\u001b[0m\u001b[1;33m:\u001b[0m\u001b[1;33m\u001b[0m\u001b[0m\n\u001b[0;32m     40\u001b[0m             \u001b[0mn\u001b[0m \u001b[1;33m=\u001b[0m \u001b[0mint\u001b[0m\u001b[1;33m(\u001b[0m\u001b[0malen\u001b[0m \u001b[1;33m/\u001b[0m \u001b[0mdtype\u001b[0m\u001b[1;33m.\u001b[0m\u001b[0mitemsize\u001b[0m\u001b[1;33m)\u001b[0m\u001b[1;33m\u001b[0m\u001b[0m\n",
      "\u001b[1;31mOSError\u001b[0m: Unexpected FORTRAN block length 0!=400"
     ]
    }
   ],
   "source": [
    "print(f.tell())"
   ]
  },
  {
   "cell_type": "code",
   "execution_count": 12,
   "metadata": {
    "collapsed": false
   },
   "outputs": [
    {
     "name": "stdout",
     "output_type": "stream",
     "text": [
      "number of galaxies: 475\n"
     ]
    }
   ],
   "source": [
    "print(\"number of galaxies:\", len(hgal.data))"
   ]
  },
  {
   "cell_type": "code",
   "execution_count": null,
   "metadata": {
    "collapsed": true
   },
   "outputs": [],
   "source": [
    "tt = tmtree.load(work_dir=wdir, filename=\"halo/TMtree.fits\")\n",
    "\n",
    "\n",
    "\n",
    "# plot individual galaxies."
   ]
  }
 ],
 "metadata": {
  "kernelspec": {
   "display_name": "Python 3",
   "language": "python",
   "name": "python3"
  },
  "language_info": {
   "codemirror_mode": {
    "name": "ipython",
    "version": 3
   },
   "file_extension": ".py",
   "mimetype": "text/x-python",
   "name": "python",
   "nbconvert_exporter": "python",
   "pygments_lexer": "ipython3",
   "version": "3.4.3"
  }
 },
 "nbformat": 4,
 "nbformat_minor": 0
}
