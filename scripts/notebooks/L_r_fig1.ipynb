{
 "cells": [
  {
   "cell_type": "code",
   "execution_count": 1,
   "metadata": {
    "collapsed": true
   },
   "outputs": [],
   "source": [
    "import matplotlib.pyplot as plt\n",
    "import pickle\n",
    "import numpy as np\n",
    "import tree.ctutils as ctu\n",
    "\n",
    "## fucntions \n",
    "def load_pickle(fname):\n",
    "    with open(fname, 'rb') as f:\n",
    "        return pickle.load(f)\n",
    "\n",
    "\n",
    "def plot_lambda(catalog, i_early, i_late, i_bad, fn_out='./'):\n",
    "    import matplotlib.pyplot as plt\n",
    "    plt.ioff()\n",
    "    f = plt.figure()\n",
    "    ax = f.add_subplot(111)\n",
    "    #for i, val in enumerate(lambdar_arr):\n",
    "    for i in i_early:\n",
    "        a = np.asarray(catalog['lambda_arr'][i])\n",
    "        ax.plot(a, 'r-', alpha=0.5) # Red = Early\n",
    "    for i in i_late:\n",
    "        ax.plot(catalog['lambda_arr'][i], 'b-', alpha=0.3) # Red = Early\n",
    "    \n",
    "    #plt.xlabel() # in the unit of Reff\n",
    "    ax.set_title(r\"$\\lambda _{R}$\") \n",
    "    ax.set_ylabel(r\"$\\lambda _{R}$\") \n",
    "    ax.set_xlabel(\"[\"+ r'$R/R_{eff}$'+\"]\")\n",
    "    ax.set_xlim(right=9)\n",
    "    ax.set_ylim([0,1])\n",
    "    ax.set_xticks([0, 4.5, 9])\n",
    "    ax.set_xticklabels([\"0\", \"0.5\", \"1\"])\n",
    "    plt.savefig(fn_out)\n",
    "    plt.close()\n",
    "    \n",
    "def aexp2zred(aexp):\n",
    "    return [1.0/a - 1.0 for a in aexp]\n",
    "\n",
    "def zred2aexp(zred):\n",
    "    return [1.0/(1.0 + z) for z in zred]\n",
    "\n",
    "def lbt2aexp(lts):\n",
    "    import astropy.units as u\n",
    "    from astropy.cosmology import WMAP7, z_at_value\n",
    "    zreds = [z_at_value(WMAP7.lookback_time, ll * u.Gyr) for ll in lts]\n",
    "    return [1.0/(1+z) for z in zreds]\n",
    "\n",
    "def density_map(x, y, ax, sort=True):\n",
    "    from scipy.stats import gaussian_kde\n",
    "    xy = np.vstack([x,y])\n",
    "    z = gaussian_kde(xy)(xy) \n",
    "    z /= max(z)\n",
    "\n",
    "    idx = z.argsort()    \n",
    "    xx, yy = x[idx], y[idx]\n",
    "    z = z[idx]\n",
    "    \n",
    "    im = ax.scatter(xx, yy, c=z, s=50, edgecolor='')\n",
    "    return im"
   ]
  },
  {
   "cell_type": "code",
   "execution_count": 2,
   "metadata": {
    "collapsed": true
   },
   "outputs": [],
   "source": [
    "#clusters = [5427, 36415, 10002, 39990, 1605, 36413, 4466, 74010][0:5]\n",
    "clusters = [5427, 36415, 39990, 1605, 10002, 36413, 4466, 74010][0:1]\n",
    "# 74010 is unreliable.\n",
    "# 36413 왜 안 돌아가나..?\n",
    "\n",
    "#exclude_gals = [[],\n",
    "#                [],\n",
    "#                [],\n",
    "#                [123,155,],\n",
    "#                [2694,4684,5448,5885,5906,6967,6981,7047,7072,7151,7612],\n",
    "#                []]\n",
    "lr_points = 10\n",
    "points = np.arange(lr_points * 3)"
   ]
  },
  {
   "cell_type": "code",
   "execution_count": 3,
   "metadata": {
    "collapsed": true
   },
   "outputs": [],
   "source": [
    "class Galaxy:\n",
    "    # No data encapsulation, I don't care. (it's not meadatory)\n",
    "    def __init__(self, cluster, final_id, idx, nout_fi=None, nout_ini=None):\n",
    "        self.cluster = cluster\n",
    "        self.final_id = final_id\n",
    "        self.idx = idx\n",
    "        self.nout_fi = nout_fi\n",
    "        self.nout_ini = nout_ini\n",
    "        self.data = None\n",
    "        #galaxy.data = list of catalog outputs (x nnouts)\n",
    "        #self.data = [[]]*(self.nout_fi - self.nout_ini + 1)\n",
    "        self.nout = [[]]*(self.nout_fi - self.nout_ini + 1)\n",
    "    \n",
    "    def add_data(self, dtype):\n",
    "        if self.nout_fi == None or self.nout_ini == None:\n",
    "            print(\"set nout_fi and nout_ini first!\")\n",
    "            return\n",
    "        else:\n",
    "            new_types = []\n",
    "            for item in dtype.descr:\n",
    "                if item[1] != 'lambda_arr':\n",
    "                    new_types.append(item)\n",
    "            b = np.zeros(self.nout_fi - self.nout_ini + 1, dtype=new_types)    \n",
    "    \n",
    "    def add_catalog_data(self, catalog, nout):\n",
    "        if self.data == None:\n",
    "            self.add_data(catalog.dtype)\n",
    "        nout_ind = nout - nout_ini\n",
    "        self.nout[nout_ind] = nout\n",
    "        self.data[nout_ind] = catalog\n",
    "        #self.data[nout_ind] = catalog\n",
    "    "
   ]
  },
  {
   "cell_type": "code",
   "execution_count": 4,
   "metadata": {
    "collapsed": false
   },
   "outputs": [
    {
     "name": "stdout",
     "output_type": "stream",
     "text": [
      "Loaded an extended tree\n"
     ]
    }
   ],
   "source": [
    "f = plt.figure()\n",
    "ax = f.add_subplot(111)\n",
    "\n",
    "nout_ini = 37\n",
    "nout_fi = 187\n",
    "\n",
    "#for i, cluster in enumerate(clusters):\n",
    "cluster = clusters[0]\n",
    "nouts = range(nout_ini, nout_fi+1)\n",
    "wdir = '/home/hoseung/Work/data/' + str(cluster).zfill(5) + '/'\n",
    "\n",
    "snout = str(nout_fi).zfill(3)\n",
    "catalog = load_pickle(wdir + 'catalog_GM/' + 'catalog'+ snout +'.pickle')\n",
    "idfs = np.asarray(catalog['id'])\n",
    "idxs = np.asarray(catalog['idx'])\n",
    "# allgall = list of galaxies\n",
    "# galaxy = list of catalog outputs (x nnouts)\n",
    "#allgall = [[]]*len(idfs)\n",
    "\n",
    "# Load tree\n",
    "\n",
    "alltrees = ctu.load_tree(wdir, is_gal=True)\n",
    "main_list=[[]]*len(idfs)\n",
    "for i, idx in enumerate(idxs):\n",
    "    main_list[i] = ctu.extract_main_tree(alltrees.data, idx)"
   ]
  },
  {
   "cell_type": "code",
   "execution_count": 5,
   "metadata": {
    "collapsed": false
   },
   "outputs": [],
   "source": [
    "# I can't construct a new structured array with 2D array in it. \n",
    "# dtype of lambda_arr is not recognized properly.\n",
    "# So, separate lambda_arr as a new attribute to galaxy instance.\n",
    "new_types = []\n",
    "for item in catalog.dtype.descr:\n",
    "    if item[1] != 'lambda_arr':\n",
    "        new_types.append(item)\n",
    "\n",
    "# initialize data arrays of galaxies.\n",
    "allgal=[]\n",
    "for j, (idx, idf) in enumerate(zip(idxs, idfs)):\n",
    "    allgal.append(Galaxy(cluster, idf, idx, nout_fi=nout_fi, nout_ini=nout_ini))# for idx,idf in zip(idxs, idfs))\n",
    "    allgal[j].data = np.zeros(nout_fi - nout_ini + 1, new_types)\n",
    "    allgal[j].lambda_arr = np.zeros((nout_fi - nout_ini + 1, len(catalog['lambda_arr'][0])), dtype=float)\n",
    "\n",
    "#allgal[j].data = np.zeros(nout_fi - nout_ini + 1, new_types)\n",
    "#allgal[j].lambda_arr = np.zeros((nout_fi - nout_ini + 1, len(catalog['lambda_arr'][0])), dtype=float)\n"
   ]
  },
  {
   "cell_type": "code",
   "execution_count": 6,
   "metadata": {
    "collapsed": false
   },
   "outputs": [
    {
     "name": "stdout",
     "output_type": "stream",
     "text": [
      "187 [0] 1\n",
      "186 [10] 1\n",
      "185 [21] 1\n",
      "184 [0] 1\n",
      "183 [6] 1\n",
      "182 [] 0\n"
     ]
    },
    {
     "ename": "ValueError",
     "evalue": "setting an array element with a sequence.",
     "output_type": "error",
     "traceback": [
      "\u001b[1;31m---------------------------------------------------------------------------\u001b[0m",
      "\u001b[1;31mValueError\u001b[0m                                Traceback (most recent call last)",
      "\u001b[1;32m<ipython-input-6-4e50d410d61c>\u001b[0m in \u001b[0;36m<module>\u001b[1;34m()\u001b[0m\n\u001b[0;32m     19\u001b[0m                 \u001b[1;31m#print(dtype)\u001b[0m\u001b[1;33m\u001b[0m\u001b[1;33m\u001b[0m\u001b[0m\n\u001b[0;32m     20\u001b[0m                 \u001b[1;31m#print(catalog[i_gal][dtype])\u001b[0m\u001b[1;33m\u001b[0m\u001b[1;33m\u001b[0m\u001b[0m\n\u001b[1;32m---> 21\u001b[1;33m                 \u001b[0mallgal\u001b[0m\u001b[1;33m[\u001b[0m\u001b[0mi_main\u001b[0m\u001b[1;33m]\u001b[0m\u001b[1;33m.\u001b[0m\u001b[0mdata\u001b[0m\u001b[1;33m[\u001b[0m\u001b[0mi\u001b[0m\u001b[1;33m]\u001b[0m\u001b[1;33m[\u001b[0m\u001b[0mdtype\u001b[0m\u001b[1;33m]\u001b[0m \u001b[1;33m=\u001b[0m \u001b[0mcatalog\u001b[0m\u001b[1;33m[\u001b[0m\u001b[0mi_gal\u001b[0m\u001b[1;33m]\u001b[0m\u001b[1;33m[\u001b[0m\u001b[0mdtype\u001b[0m\u001b[1;33m]\u001b[0m\u001b[1;33m\u001b[0m\u001b[0m\n\u001b[0m\u001b[0;32m     22\u001b[0m                 \u001b[0mallgal\u001b[0m\u001b[1;33m[\u001b[0m\u001b[0mi_main\u001b[0m\u001b[1;33m]\u001b[0m\u001b[1;33m.\u001b[0m\u001b[0mnout\u001b[0m\u001b[1;33m[\u001b[0m\u001b[0mi\u001b[0m\u001b[1;33m]\u001b[0m \u001b[1;33m=\u001b[0m \u001b[0mnout\u001b[0m\u001b[1;33m\u001b[0m\u001b[0m\n\u001b[0;32m     23\u001b[0m \u001b[1;33m\u001b[0m\u001b[0m\n",
      "\u001b[1;31mValueError\u001b[0m: setting an array element with a sequence."
     ]
    }
   ],
   "source": [
    "# from the last snapshot.\n",
    "\n",
    "#b = np.zeros(self.nout_fi - self.nout_ini + 1, dtype=new_types)    \n",
    "\n",
    "for i, nout in enumerate(reversed(nouts)):\n",
    "    catalog = load_pickle(wdir + 'catalog_GM/' + 'catalog'+ str(nout) +'.pickle')\n",
    "    for i_main, main in enumerate(main_list[1:2]):\n",
    "        \n",
    "        # Some galaxies are shorter than others.\n",
    "        #  -> len(main_list[10]['id']) > len(main_list[11]['id'])\n",
    "        \n",
    "        i_now = np.where(main_list[i_main]['nout'] == nout)[0]\n",
    "        \n",
    "        if len(i_now) > 0:\n",
    "            # index of catalog of a galaxy with idx at nout. \n",
    "            i_gal = np.where(catalog['idx'] == main_list[i_main]['id'][i_now])[0]\n",
    "            print(nout, i_gal, len(i_gal))\n",
    "            for dtype in allgal[j].data.dtype.names:\n",
    "                #print(dtype)\n",
    "                #print(catalog[i_gal][dtype])\n",
    "                allgal[i_main].data[i][dtype] = catalog[i_gal][dtype]\n",
    "                allgal[i_main].nout[i] = nout\n",
    "            \n",
    "            #allgal[i_main].add_catalog_data(catalog[i_gal], nout)\n",
    "    "
   ]
  },
  {
   "cell_type": "code",
   "execution_count": 180,
   "metadata": {
    "collapsed": false
   },
   "outputs": [],
   "source": [
    "nout_main_list = main_list[0]['nout']\n",
    "#main_list[0]['id']"
   ]
  },
  {
   "cell_type": "code",
   "execution_count": 10,
   "metadata": {
    "collapsed": false,
    "scrolled": true
   },
   "outputs": [
    {
     "data": {
      "text/plain": [
       "[187,\n",
       " 186,\n",
       " 185,\n",
       " 184,\n",
       " 183,\n",
       " 182,\n",
       " 181,\n",
       " 180,\n",
       " 179,\n",
       " 178,\n",
       " 177,\n",
       " 176,\n",
       " 175,\n",
       " 174,\n",
       " 173,\n",
       " 172,\n",
       " 171,\n",
       " 170,\n",
       " 169,\n",
       " 168,\n",
       " 167,\n",
       " 166,\n",
       " 165,\n",
       " 164,\n",
       " 163,\n",
       " 162,\n",
       " 161,\n",
       " 160,\n",
       " 159,\n",
       " 158,\n",
       " 157,\n",
       " 156,\n",
       " 155,\n",
       " 154,\n",
       " 153,\n",
       " 152,\n",
       " 151,\n",
       " 150,\n",
       " 149,\n",
       " 148,\n",
       " 147,\n",
       " 146,\n",
       " 145,\n",
       " 144,\n",
       " 143,\n",
       " 142,\n",
       " 141,\n",
       " 140,\n",
       " 139,\n",
       " 138,\n",
       " 137,\n",
       " 136,\n",
       " 135,\n",
       " 134,\n",
       " 133,\n",
       " 132,\n",
       " 131,\n",
       " 130,\n",
       " 129,\n",
       " 128,\n",
       " 127,\n",
       " 126,\n",
       " 125,\n",
       " 124,\n",
       " 123,\n",
       " 122,\n",
       " 121,\n",
       " 120,\n",
       " 119,\n",
       " 118,\n",
       " 117,\n",
       " 116,\n",
       " 115,\n",
       " 114,\n",
       " 113,\n",
       " 112,\n",
       " 111,\n",
       " 110,\n",
       " 109,\n",
       " 108,\n",
       " 107,\n",
       " 106,\n",
       " 105,\n",
       " 104,\n",
       " 103,\n",
       " 102,\n",
       " 101,\n",
       " 100,\n",
       " 99,\n",
       " 98,\n",
       " 97,\n",
       " 96,\n",
       " 95,\n",
       " 94,\n",
       " 93,\n",
       " 92,\n",
       " 91,\n",
       " 90,\n",
       " 89,\n",
       " 88,\n",
       " 87,\n",
       " 86,\n",
       " 85,\n",
       " 84,\n",
       " 83,\n",
       " 82,\n",
       " 81,\n",
       " 80,\n",
       " 79,\n",
       " 78,\n",
       " 77,\n",
       " 76,\n",
       " 75,\n",
       " 74,\n",
       " 73,\n",
       " 72,\n",
       " 71,\n",
       " 70,\n",
       " 69,\n",
       " 68,\n",
       " 67,\n",
       " 66,\n",
       " 65,\n",
       " 64,\n",
       " 63,\n",
       " 62,\n",
       " 61,\n",
       " 60,\n",
       " 59,\n",
       " 58,\n",
       " 57,\n",
       " 56,\n",
       " 55,\n",
       " 54,\n",
       " 53,\n",
       " 52,\n",
       " 51,\n",
       " 50,\n",
       " 49,\n",
       " 48,\n",
       " 47,\n",
       " 46,\n",
       " 45,\n",
       " 44,\n",
       " 43,\n",
       " 42,\n",
       " 41,\n",
       " 40,\n",
       " 39,\n",
       " 38,\n",
       " 37]"
      ]
     },
     "execution_count": 10,
     "metadata": {},
     "output_type": "execute_result"
    }
   ],
   "source": [
    "allgal[0].nout"
   ]
  },
  {
   "cell_type": "code",
   "execution_count": 18,
   "metadata": {
    "collapsed": false,
    "scrolled": true
   },
   "outputs": [
    {
     "data": {
      "text/plain": [
       "array([  3.73028492e+010,   3.73483344e+010,   3.71879878e+010,\n",
       "         3.71930417e+010,   3.73386860e+010,   1.32554656e+010,\n",
       "         3.72003929e+010,   3.72137168e+010,   3.72752825e+010,\n",
       "         3.73621177e+010,   3.73419021e+010,   7.44853237e+009,\n",
       "         1.32720056e+010,   7.81057552e+006,   3.73437399e+010,\n",
       "         3.75022486e+010,   3.53773127e+007,   6.92701042e-310,\n",
       "         3.03234109e+007,   6.92701042e-310,   3.75265993e+010,\n",
       "         3.76795947e+010,   6.92701042e-310,   3.73308754e+010,\n",
       "         3.74912220e+010,   3.76451362e+010,   6.92701042e-310,\n",
       "         3.73451182e+010,   3.74411424e+010,   3.76001106e+010,\n",
       "         3.75707060e+010,   3.73951978e+010,   4.18095513e+007,\n",
       "         3.21611933e+007,   3.73814144e+010,   3.71429622e+010,\n",
       "         6.61601691e+007,   3.71617994e+010,   2.57289547e+007,\n",
       "         1.30294183e+010,   3.69945612e+010,   6.92701042e-310,\n",
       "         4.54851163e+007,   1.88372704e+007,   3.70639375e+010,\n",
       "         1.06591384e+008,   1.07510275e+008,   3.71686911e+010,\n",
       "         3.72656342e+010,   2.84856284e+007,   3.72426619e+010,\n",
       "         3.74167918e+010,   3.74829519e+010,   3.74714658e+010,\n",
       "         4.13501057e+007,   3.76745408e+007,   3.75560038e+010,\n",
       "         3.79258575e+010,   3.69803184e+010,   6.01873761e+007,\n",
       "         3.70262630e+010,   6.94222330e+009,   3.68548898e+010,\n",
       "         6.92701042e-310,   4.64040075e+007,   3.68604031e+010,\n",
       "         1.27142386e+010,   2.84856284e+007,   3.67115427e+010,\n",
       "         3.63573102e+010,   6.11062673e+007,   6.92701042e-310,\n",
       "         1.17158633e+008,   3.57365991e+010,   3.58261910e+010,\n",
       "         3.57398153e+010,   7.48896359e+007,   3.56387372e+010,\n",
       "         2.29722809e+007,   3.26206389e+007,   3.52826669e+010,\n",
       "         3.50092967e+010,   7.71868640e+007,   6.75385060e+007,\n",
       "         2.11344985e+008,   1.84697139e+008,   3.45861473e+010,\n",
       "         6.92701042e-310,   1.06131938e+008,   1.21316616e+010,\n",
       "         8.29299342e+009,   6.93762885e+007,   3.29744121e+010,\n",
       "         3.20385213e+010,   3.10024715e+010,   3.08945018e+010,\n",
       "         5.92684848e+007,   1.18803448e+010,   1.04730629e+010,\n",
       "         4.13501057e+007,   1.26806991e+008,   4.54851163e+007,\n",
       "         2.57289547e+007,   6.70790604e+007,   1.07151907e+010,\n",
       "         9.51052431e+007,   1.28185328e+008,   1.05222236e+010,\n",
       "         5.83036490e+008,   1.04464150e+010,   1.03173108e+010,\n",
       "         2.03989260e+010,   2.01136103e+010,   5.62820883e+008,\n",
       "         1.94056046e+010,   5.44902504e+008,   5.29740799e+008,\n",
       "         6.66196147e+007,   9.61757514e+009,   4.58526728e+008,\n",
       "         2.47641189e+008,   2.02156072e+008,   9.19764185e+009,\n",
       "         2.45343961e+008,   1.55384508e+010,   1.37833686e+008,\n",
       "         6.15657129e+007,   4.41067794e+007,   5.53034692e+009,\n",
       "         5.42145830e+007,   1.83318802e+008,   1.23802216e+010,\n",
       "         1.17985635e+010,   1.12463099e+010,   1.75508226e+008,\n",
       "         3.44584214e+007,   9.77884055e+009,   6.92701042e-310,\n",
       "         4.23333193e+009,   1.50698163e+008,   8.03708221e+009,\n",
       "         6.92701042e-310,   2.47181743e+008,   7.04927413e+009,\n",
       "         1.14401959e+009,   6.42075252e+009,   2.10426093e+008,\n",
       "         3.05990782e+008,   5.19541106e+009,   6.20251586e+007,\n",
       "         1.82859356e+008])"
      ]
     },
     "execution_count": 18,
     "metadata": {},
     "output_type": "execute_result"
    }
   ],
   "source": [
    "allgal[igal].data['mstar']"
   ]
  },
  {
   "cell_type": "code",
   "execution_count": 11,
   "metadata": {
    "collapsed": false
   },
   "outputs": [],
   "source": [
    "igal = 0\n",
    "plt.plot(allgal[igal].nout, allgal[igal].data[:]['mstar'])\n",
    "plt.show()"
   ]
  },
  {
   "cell_type": "code",
   "execution_count": 189,
   "metadata": {
    "collapsed": true
   },
   "outputs": [],
   "source": []
  },
  {
   "cell_type": "code",
   "execution_count": 4,
   "metadata": {
    "collapsed": false
   },
   "outputs": [
    {
     "ename": "TypeError",
     "evalue": "'numpy.float64' object does not support item assignment",
     "output_type": "error",
     "traceback": [
      "\u001b[1;31m---------------------------------------------------------------------------\u001b[0m",
      "\u001b[1;31mTypeError\u001b[0m                                 Traceback (most recent call last)",
      "\u001b[1;32m<ipython-input-4-8688b64485bc>\u001b[0m in \u001b[0;36m<module>\u001b[1;34m()\u001b[0m\n\u001b[0;32m     29\u001b[0m         \u001b[0mzpos\u001b[0m\u001b[1;33m.\u001b[0m\u001b[0mappend\u001b[0m\u001b[1;33m(\u001b[0m\u001b[0mcatalog\u001b[0m\u001b[1;33m[\u001b[0m\u001b[1;34m'zc'\u001b[0m\u001b[1;33m]\u001b[0m\u001b[1;33m[\u001b[0m\u001b[0mj\u001b[0m\u001b[1;33m]\u001b[0m\u001b[1;33m)\u001b[0m\u001b[1;33m\u001b[0m\u001b[0m\n\u001b[0;32m     30\u001b[0m         \u001b[0mclur\u001b[0m\u001b[1;33m.\u001b[0m\u001b[0mappend\u001b[0m\u001b[1;33m(\u001b[0m\u001b[0mcatalog\u001b[0m\u001b[1;33m[\u001b[0m\u001b[1;34m'xc'\u001b[0m\u001b[1;33m]\u001b[0m\u001b[1;33m[\u001b[0m\u001b[0mj\u001b[0m\u001b[1;33m]\u001b[0m\u001b[1;33m)\u001b[0m\u001b[1;33m\u001b[0m\u001b[0m\n\u001b[1;32m---> 31\u001b[1;33m         \u001b[0mxpos\u001b[0m \u001b[1;33m=\u001b[0m \u001b[0mxpos\u001b[0m\u001b[1;33m[\u001b[0m\u001b[0mij\u001b[0m\u001b[1;33m]\u001b[0m \u001b[1;33m=\u001b[0m \u001b[0mcatalog\u001b[0m\u001b[1;33m[\u001b[0m\u001b[1;34m'xc'\u001b[0m\u001b[1;33m]\u001b[0m\u001b[1;33m[\u001b[0m\u001b[0mj\u001b[0m\u001b[1;33m]\u001b[0m\u001b[1;33m\u001b[0m\u001b[0m\n\u001b[0m\u001b[0;32m     32\u001b[0m         \u001b[0mxpos\u001b[0m \u001b[1;33m=\u001b[0m \u001b[0mxpos\u001b[0m\u001b[1;33m[\u001b[0m\u001b[0mij\u001b[0m\u001b[1;33m]\u001b[0m \u001b[1;33m=\u001b[0m \u001b[0mcatalog\u001b[0m\u001b[1;33m[\u001b[0m\u001b[1;34m'xc'\u001b[0m\u001b[1;33m]\u001b[0m\u001b[1;33m[\u001b[0m\u001b[0mj\u001b[0m\u001b[1;33m]\u001b[0m\u001b[1;33m\u001b[0m\u001b[0m\n\u001b[0;32m     33\u001b[0m         \u001b[0mxpos\u001b[0m \u001b[1;33m=\u001b[0m \u001b[0mxpos\u001b[0m\u001b[1;33m[\u001b[0m\u001b[0mij\u001b[0m\u001b[1;33m]\u001b[0m \u001b[1;33m=\u001b[0m \u001b[0mcatalog\u001b[0m\u001b[1;33m[\u001b[0m\u001b[1;34m'xc'\u001b[0m\u001b[1;33m]\u001b[0m\u001b[1;33m[\u001b[0m\u001b[0mj\u001b[0m\u001b[1;33m]\u001b[0m\u001b[1;33m\u001b[0m\u001b[0m\n",
      "\u001b[1;31mTypeError\u001b[0m: 'numpy.float64' object does not support item assignment"
     ]
    }
   ],
   "source": [
    "    \n",
    "    i_early = np.where((catalog['mstar'] > 1e10) & (catalog['mstar'] < 1e11))[0]\n",
    "    i_late = []\n",
    "    #i_cluster = np.where(catalog['\n",
    "#    i_bad = np.where(catalog.id == 0)[0]\n",
    "#    i_bad = np.concatenate((i_bad, np.where(catalog['lambda_arr'][0] > 0.3)[0]))\n",
    "    #i_bad = np.concatenate(i_bad, exclude_gals[i])\n",
    "    n_good += len(i_early)\n",
    "    for ij, j in enumerate(i_early):\n",
    "        all_lr = np.concatenate((all_lr, catalog['lambda_arr'][j][0: 2*lr_points])) # some catalog has L_arr up to 2Rvir. \n",
    "        xpos.append(catalog['xc'][j])\n",
    "        ypos.append(catalog['yc'][j])\n",
    "        zpos.append(catalog['zc'][j])\n",
    "        clur.append(catalog['xc'][j])\n",
    "        xpos = xpos[ij] = catalog['xc'][j]\n",
    "        xpos = xpos[ij] = catalog['xc'][j]\n",
    "        xpos = xpos[ij] = catalog['xc'][j]\n",
    "\n",
    "\n",
    "                                 "
   ]
  },
  {
   "cell_type": "code",
   "execution_count": 9,
   "metadata": {
    "collapsed": false
   },
   "outputs": [],
   "source": [
    "xpoints = np.tile(points, n_good)\n",
    "\n",
    "im = density_map(xpoints, all_lr.ravel(), ax)\n",
    "ax.set_xlim([-0.5,2*lr_points])\n",
    "ax.set_ylim([0,0.8])\n",
    "x_tick_pos = \"\"\n",
    "ax.set_xticks([0,lr_points-1,2*lr_points - 1])\n",
    "x_ticks_label = [\"0\", \"1\", \"2\"] # Correct. by default, rscale_lambda = 2.0\n",
    "ax.set_xticklabels(labels = [z for z in x_ticks_label])\n",
    "ax.set_xlabel(r\"$R/R_{eff}$\")\n",
    "\n",
    "#plot_lambda(catalog, i_early, i_late, i_bad, fn_out = str(cluster) + \"_lambdar_disk.png\")\n",
    "plt.show()"
   ]
  },
  {
   "cell_type": "code",
   "execution_count": 17,
   "metadata": {
    "collapsed": false
   },
   "outputs": [
    {
     "data": {
      "text/plain": [
       "15"
      ]
     },
     "execution_count": 17,
     "metadata": {},
     "output_type": "execute_result"
    }
   ],
   "source": [
    "lr_points"
   ]
  },
  {
   "cell_type": "code",
   "execution_count": 24,
   "metadata": {
    "collapsed": false
   },
   "outputs": [
    {
     "name": "stdout",
     "output_type": "stream",
     "text": [
      "[ 0  1  2  3  4  5  6  7  8  9 10 11 12 13 14 15 16 17 18 19 20 21 22 23 24\n",
      " 25 26 27 28 29]\n",
      "[ 0.09013026  0.15048778  0.17486082  0.17904494  0.20769836  0.22743054\n",
      "  0.23884647  0.22560917  0.24075304  0.25897361  0.24736996  0.24396904\n",
      "  0.24362423  0.28476168  0.24230847  0.26043998  0.25583183  0.27019347\n",
      "  0.29174383  0.27495197]\n"
     ]
    }
   ],
   "source": [
    "print(points)\n",
    "print(catalog['lambda_arr'][j])#[ :2 *lr_points])"
   ]
  },
  {
   "cell_type": "code",
   "execution_count": 25,
   "metadata": {
    "collapsed": false
   },
   "outputs": [],
   "source": [
    "# as a line\n",
    "plt.close()\n",
    "\n",
    "fig, ax = plt.subplots(len(clusters))\n",
    "\n",
    "for i, cluster in enumerate(clusters):\n",
    "    wdir = '/home/hoseung/Work/data/' + str(cluster).zfill(5)\n",
    "    catalog = load_pickle(wdir + '/catalog_GM/' + 'catalog187.pickle')\n",
    "    #i_early = np.where(catalog['mstar'] > 5e11)[0]\n",
    "    i_early = np.where((catalog['mstar'] > 1e10) & (catalog['mstar'] < 1e11))[0]\n",
    "    \n",
    "    for j in i_early:\n",
    "        ax[i].plot(points, catalog['lambda_arr'][j][ :2 *lr_points], c='grey', alpha=0.3)\n",
    "    \n",
    "    ax[i].set_xlim([-0.5,2*lr_points])\n",
    "    ax[i].set_ylim([0,0.8])\n",
    "    x_tick_pos = \"\"\n",
    "    ax[i].set_xticks([0,lr_points -1, 2*lr_points - 1])\n",
    "    x_ticks_label = [\"0\", \"1\", \"2\"] # Correct. by default, rscale_lambda = 2.0\n",
    "    ax[i].set_xticklabels(labels = [z for z in x_ticks_label])\n",
    "    ax[i].set_xlabel(r\"$R/R_{eff}$\")\n",
    "    \n",
    "plt.show()    "
   ]
  },
  {
   "cell_type": "code",
   "execution_count": 11,
   "metadata": {
    "collapsed": false
   },
   "outputs": [
    {
     "data": {
      "text/plain": [
       "45"
      ]
     },
     "execution_count": 11,
     "metadata": {},
     "output_type": "execute_result"
    }
   ],
   "source": [
    "len(catalog['lambda_arr'][j])"
   ]
  },
  {
   "cell_type": "code",
   "execution_count": null,
   "metadata": {
    "collapsed": true
   },
   "outputs": [],
   "source": [
    "final_gals = list(cat['final_gal'])\n",
    "\n",
    "    # exclude disky galaxies\n",
    "for bad_gal in exclude_gals[i]:\n",
    "    final_gals.remove(bad_gal)\n",
    "\n",
    "ngals = len(final_gals)\n",
    "mstar = np.zeros((ngals, nnouts))\n",
    "l_r = np.zeros((ngals, nnouts))"
   ]
  }
 ],
 "metadata": {
  "kernelspec": {
   "display_name": "Python 3",
   "language": "python",
   "name": "python3"
  },
  "language_info": {
   "codemirror_mode": {
    "name": "ipython",
    "version": 3
   },
   "file_extension": ".py",
   "mimetype": "text/x-python",
   "name": "python",
   "nbconvert_exporter": "python",
   "pygments_lexer": "ipython3",
   "version": "3.4.3"
  }
 },
 "nbformat": 4,
 "nbformat_minor": 0
}
