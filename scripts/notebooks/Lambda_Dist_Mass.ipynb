{
 "cells": [
  {
   "cell_type": "markdown",
   "metadata": {},
   "source": [
    "# Lambda distribution (Vs Reff)"
   ]
  },
  {
   "cell_type": "code",
   "execution_count": 1,
   "metadata": {
    "collapsed": true
   },
   "outputs": [],
   "source": [
    "import matplotlib.pyplot as plt\n",
    "import pickle\n",
    "import numpy as np\n",
    "\n",
    "## fucntions \n",
    "def load_pickle(fname):\n",
    "    with open(fname, 'rb') as f:\n",
    "        return pickle.load(f)\n",
    "\n",
    "\n",
    "def plot_lambda(catalog, i_early, i_late, i_bad, fn_out='./'):\n",
    "    import matplotlib.pyplot as plt\n",
    "    plt.ioff()\n",
    "    f = plt.figure()\n",
    "    ax = f.add_subplot(111)\n",
    "    #for i, val in enumerate(lambdar_arr):\n",
    "    for i in i_early:\n",
    "        a = np.asarray(catalog['lambda_arr'][i])\n",
    "        ax.plot(a, 'r-', alpha=0.5) # Red = Early\n",
    "    for i in i_late:\n",
    "        ax.plot(catalog['lambda_arr'][i], 'b-', alpha=0.3) # Red = Early\n",
    "    \n",
    "    #plt.xlabel() # in the unit of Reff\n",
    "    ax.set_title(r\"$\\lambda _{R}$\") \n",
    "    ax.set_ylabel(r\"$\\lambda _{R}$\") \n",
    "    ax.set_xlabel(\"[\"+ r'$R/R_{eff}$'+\"]\")\n",
    "    ax.set_xlim(right=9)\n",
    "    ax.set_ylim([0,1])\n",
    "    ax.set_xticks([0, 4.5, 9])\n",
    "    ax.set_xticklabels([\"0\", \"0.5\", \"1\"])\n",
    "    plt.savefig(fn_out)\n",
    "    plt.close()\n",
    "    \n",
    "def aexp2zred(aexp):\n",
    "    return [1.0/a - 1.0 for a in aexp]\n",
    "\n",
    "def zred2aexp(zred):\n",
    "    return [1.0/(1.0 + z) for z in zred]\n",
    "\n",
    "def lbt2aexp(lts):\n",
    "    import astropy.units as u\n",
    "    from astropy.cosmology import WMAP7, z_at_value\n",
    "    zreds = [z_at_value(WMAP7.lookback_time, ll * u.Gyr) for ll in lts]\n",
    "    return [1.0/(1+z) for z in zreds]\n",
    "\n",
    "def density_map(x, y, sort=True):\n",
    "    from scipy.stats import gaussian_kde\n",
    "    xy = np.vstack([x,y])\n",
    "    z = gaussian_kde(xy)(xy) \n",
    "    z /= max(z)\n",
    "\n",
    "    idx = z.argsort()    \n",
    "    xx, yy = x[idx], y[idx]\n",
    "    z = z[idx]\n",
    "    \n",
    "    return xx, yy, z"
   ]
  },
  {
   "cell_type": "markdown",
   "metadata": {},
   "source": [
    "##  I like this!"
   ]
  },
  {
   "cell_type": "code",
   "execution_count": 2,
   "metadata": {
    "collapsed": true
   },
   "outputs": [],
   "source": [
    "clusters = ['05427', '36415', '39990', '01605', '10002', '36413', '04466', '74010'][0:5]\n",
    "\n",
    "lr_points = 10 # number of points int 1 Reff.\n",
    "nreff = 3\n",
    "nbins = 20\n",
    "\n",
    "def lambda_den_map(clusters, nout=187, lr_points = 10, nreff=3, nbins=20):\n",
    "    print(\" nout:\", nout, \"lr_points:\", lr_points, \"nreff:\", nreff, \"nbins:\", nbins)\n",
    "    \n",
    "    points = np.arange(lr_points * nreff)\n",
    "    x_ticks_label = [\"0\", \"1\", \"2\", \"3\", \"4\"][0:nreff]\n",
    "\n",
    "    x_tick_pos = [0]\n",
    "    [x_tick_pos.append((i+1)*lr_points) for i in range(nreff)]\n",
    "\n",
    "    # Need a compiled array of lambda_arr\n",
    "    fig, axs = plt.subplots(2,2, sharey=True)#, sharex=True)\n",
    "\n",
    "    mass_cut_l = [0, 5e9, 1e10, 1e11, 1e12]\n",
    "    mass_cut_r = [1e13,1e10, 1e11, 1e12, 1e13]\n",
    "\n",
    "    yticks_ok=[0.0, 0.2, 0.4, 0.6, 0.8]\n",
    "    lambda_range=[0.0, 0.8]\n",
    "\n",
    "    snout = str(nout)\n",
    "    for imass in range(4):\n",
    "\n",
    "        # Count number of galaxies\n",
    "        ngood=0\n",
    "        for i, cluster in enumerate(clusters):\n",
    "            wdir = '/home/hoseung/Work/data/' + cluster\n",
    "            catalog = load_pickle(wdir + '/catalog_GM/' + 'catalog' + snout + '.pickle')\n",
    "            i_good = np.where((catalog['mstar'] > mass_cut_l[imass]) & (catalog['mstar'] < mass_cut_r[imass]))[0]\n",
    "            ngood += len(i_good)\n",
    "\n",
    "        ax = axs.ravel()[imass]\n",
    "        all_lr = np.zeros((len(points), ngood))\n",
    "\n",
    "        ngood=0\n",
    "        for i, cluster in enumerate(clusters):\n",
    "            wdir = '/home/hoseung/Work/data/' + cluster\n",
    "            catalog = load_pickle(wdir + '/catalog_GM/' + 'catalog' + snout + '.pickle')\n",
    "            i_good = np.where((catalog['mstar'] > mass_cut_l[imass]) & (catalog['mstar'] < mass_cut_r[imass]))[0]\n",
    "\n",
    "            for i, i_gal in enumerate(i_good):\n",
    "                all_lr[:,ngood + i] = catalog['lambda_arr'][i_gal][:len(points)]\n",
    "            ngood +=len(i_good)\n",
    "\n",
    "        # Draw density maps   \n",
    "        den_map = np.zeros((nbins, len(points)))\n",
    "        for i in range(len(points)):\n",
    "            den_map[:,i], ypoints = np.histogram(all_lr[i,:], bins=nbins, range=lambda_range)\n",
    "\n",
    "        den_map /= den_map.max()\n",
    "        im = ax.imshow(den_map, origin=\"lower\", cmap=\"Blues\", interpolation=\"none\")\n",
    "\n",
    "        #ax.set_xlim([-0.5,2*lr_points])\n",
    "        ax.set_ylim([-0.5,nbins]) \n",
    "        ax.set_title(r\"{:.1e} $< M_\\ast <$ {:.1e}\".format(mass_cut_l[imass], mass_cut_r[imass]))\n",
    "        ax.text(3,17, \"# gals:\" + str(ngood)) # data coordinates\n",
    "\n",
    "        #ax.set_yticks([np.where(ypoints == yy)[0] for yy in [0.0, 0.2, 0.4, 0.6, 0.8]]) # 0.0, 0.2, 0.4, 0.6, 0.8\n",
    "        #ax.set_yticklabels([str(yy) for yy in yticks_ok])\n",
    "\n",
    "    for j in range(2):\n",
    "        for i in range(2):\n",
    "            axs[j,i].set_xticks(x_tick_pos)\n",
    "            axs[j,i].set_xticklabels(labels = [z for z in x_ticks_label])\n",
    "            axs[1,i].set_xlabel(r\"$R/R_{eff}$\")\n",
    "\n",
    "            #axs[i,0].set_ylabel(\"$\\lambda _R$\")\n",
    "            axs[i,j].set_yticks([np.where(ypoints == yy)[0] for yy in np.arange(lambda_range[0], lambda_range[1])]) # 0.0, 0.2, 0.4, 0.6, 0.8\n",
    "            axs[i,j].set_yticklabels([str(yy) for yy in yticks_ok])\n",
    "\n",
    "    # Add + mark at 0.5, 1.0, 2.0Reff\n",
    "    #fig.tight_layout()\n",
    "    cax = fig.add_axes([0.86, 0.1, 0.03, 0.8]) # [left corner x, left corner y, x width, y width]\n",
    "    plt.colorbar(im, cax=cax, label='normalized denisty')\n",
    "\n",
    "    plt.subplots_adjust(left=0.1, bottom=None, right=0.8, top=None, wspace=0.05, hspace=0.22)\n",
    "\n",
    "    #left  = 0.125  # the left side of the subplots of the figure\n",
    "    #right = 0.9    # the right side of the subplots of the figure\n",
    "    #bottom = 0.1   # the bottom of the subplots of the figure\n",
    "    #top = 0.9      # the top of the subplots of the figure\n",
    "    #wspace = 0.2   # the amount of width reserved for blank space between subplots\n",
    "    #hspace = 0.5   # the amount of height reserved for white space between subplots\n",
    "\n",
    "    plt.show()\n",
    "    "
   ]
  },
  {
   "cell_type": "code",
   "execution_count": 3,
   "metadata": {
    "collapsed": false
   },
   "outputs": [
    {
     "name": "stdout",
     "output_type": "stream",
     "text": [
      " nout: 368 lr_points: 10 nreff: 3 nbins: 20\n"
     ]
    }
   ],
   "source": [
    "#lambda_den_map(clusters)\n",
    "lambda_den_map([\"01605_hi\"], nout=368)"
   ]
  },
  {
   "cell_type": "markdown",
   "metadata": {},
   "source": [
    "High resolution run seems to have more galaxies. \n",
    "check mass function. "
   ]
  },
  {
   "cell_type": "code",
   "execution_count": null,
   "metadata": {
    "collapsed": true
   },
   "outputs": [],
   "source": []
  },
  {
   "cell_type": "code",
   "execution_count": 4,
   "metadata": {
    "collapsed": false
   },
   "outputs": [],
   "source": [
    "clusters = [5427, 36415, 39990, 1605, 10002, 36413, 4466, 74010][0:5]\n",
    "# 74010 is unreliable.\n",
    "# 36413 왜 안 돌아가나..?\n",
    "\n",
    "#exclude_gals = [[],\n",
    "#                [],\n",
    "#                [],\n",
    "#                [123,155,],\n",
    "#                [2694,4684,5448,5885,5906,6967,6981,7047,7072,7151,7612],\n",
    "#                []]\n",
    "\n",
    "lr_points = 10 # number of points int 1 Reff.\n",
    "nreff = 3\n",
    "points = np.arange(lr_points * nreff)\n",
    "x_ticks_label = [\"0\", \"1\", \"2\", \"3\", \"4\"][0:nreff]\n",
    "\n",
    "x_tick_pos = [0]\n",
    "[x_tick_pos.append((i+1)*lr_points) for i in range(nreff)]\n",
    "\n",
    "# Need a compiled array of lambda_arr\n",
    "fig, axs = plt.subplots(2,2, sharey=True, sharex=True)\n",
    "\n",
    "mass_cut_l = [0, 5e9, 1e10, 1e11, 1e12]\n",
    "mass_cut_r = [1e13,1e10, 1e11, 1e12, 1e13]\n",
    "#titles = #[\"All galaxies from all clusters\", \n",
    "#          \" {} $< M_{*} <$ {}\".format(mass_cut_l[imass], mass_cut_r[imass])]\n",
    "\n",
    "\n",
    "for imass in range(4):\n",
    "    ax = axs.ravel()[imass]\n",
    "    all_lr = np.zeros(0)\n",
    "    xpos = [] # why list?? \n",
    "    ypos = []\n",
    "    zpos = []\n",
    "    clur = []\n",
    "\n",
    "    for i, cluster in enumerate(clusters):\n",
    "        wdir = '/home/hoseung/Work/data/' + str(cluster).zfill(5)\n",
    "        catalog = load_pickle(wdir + '/catalog_GM/' + 'catalog187.pickle')\n",
    "        i_good = np.where((catalog['mstar'] > mass_cut_l[imass]) & (catalog['mstar'] < mass_cut_r[imass]))[0]\n",
    "\n",
    "        for ij, j in enumerate(i_good):\n",
    "            #catalog['lambda_arr'][#galaxies][#number of points]\n",
    "            all_lr = np.concatenate((all_lr, catalog['lambda_arr'][j][:len(points)])) # some catalog has L_arr up to 2Rvir. \n",
    "    \n",
    "    # Draw density maps\n",
    "    \n",
    "    # x values\n",
    "    xpoints = np.tile(points, len(all_lr))\n",
    "    # Gaussian_kde measures 2D density. But in this case x-axis and y-axis are two independent parameters \n",
    "    #(not like x position and y position). So instead, measure 1-D histogram at each x point (R/Reff).\n",
    "\n",
    "    xx, yy, z = density_map(xpoints[:all_lr.shape[0]], all_lr.ravel(), ax)\n",
    "    ax.scatter(xx, yy, c=z, s=50, edgecolor='')\n",
    "    ax.set_xlim([-0.5,2*lr_points])\n",
    "    ax.set_ylim([0,0.8])\n",
    "    ax.set_title(r\"{:.1e} $< M_\\ast <$ {:.1e}\".format(mass_cut_l[imass], mass_cut_r[imass]))\n",
    "\n",
    "    \n",
    "axs[1,0].set_xticks(x_tick_pos)#[0,lr_points-1,2*lr_points - 1])\n",
    "axs[1,0].set_xticklabels(labels = [z for z in x_ticks_label])\n",
    "axs[1,0].set_xlabel(r\"$R/R_{eff}$\")\n",
    "axs[1,1].set_xticks(x_tick_pos)#[0,lr_points-1,2*lr_points - 1])\n",
    "axs[1,1].set_xticklabels(labels = [z for z in x_ticks_label])\n",
    "axs[1,1].set_xlabel(r\"$R/R_{eff}$\")\n",
    "\n",
    "\n",
    "axs[0,0].set_ylabel(\"$\\lambda _R$\")\n",
    "axs[1,0].set_ylabel(\"$\\lambda _R$\")\n",
    "\n",
    "# Add + mark at 0.5, 1.0, 2.0Reff\n",
    "\n",
    "\n",
    "plt.show()\n",
    "    "
   ]
  },
  {
   "cell_type": "code",
   "execution_count": null,
   "metadata": {
    "collapsed": true
   },
   "outputs": [],
   "source": [
    "plt.close()"
   ]
  },
  {
   "cell_type": "markdown",
   "metadata": {},
   "source": [
    "####  Seaborn heat map \n",
    "looks better than imshow. (BTW, you can use pcolomesh (X,Y,Z) instead of imshow(map))\n",
    "Choose a suitable color map from Seaborn color map templates."
   ]
  },
  {
   "cell_type": "code",
   "execution_count": 8,
   "metadata": {
    "collapsed": false
   },
   "outputs": [],
   "source": [
    "#plt.clf()\n",
    "fig, ax = plt.subplots(1)\n",
    "import seaborn.apionly as sns\n",
    "\n",
    "# reset rc params to defaults\n",
    "sns.reset_orig()\n",
    "#cmap = sns.diverging_palette(220, 10, as_cmap=True)\n",
    "sns.heatmap(den_map, cmap=\"Blues\", square=True, xticklabels=5, yticklabels=5,\n",
    "            linewidths=.2, cbar_kws={\"shrink\": .5}, ax=ax)\n",
    "plt.gca().invert_yaxis()\n",
    "plt.show()"
   ]
  },
  {
   "cell_type": "code",
   "execution_count": 5,
   "metadata": {
    "collapsed": false
   },
   "outputs": [
    {
     "ename": "ValueError",
     "evalue": "x and y must have same first dimension",
     "output_type": "error",
     "traceback": [
      "\u001b[1;31m---------------------------------------------------------------------------\u001b[0m",
      "\u001b[1;31mValueError\u001b[0m                                Traceback (most recent call last)",
      "\u001b[1;32m<ipython-input-5-ca6d38958c66>\u001b[0m in \u001b[0;36m<module>\u001b[1;34m()\u001b[0m\n\u001b[0;32m     11\u001b[0m \u001b[1;33m\u001b[0m\u001b[0m\n\u001b[0;32m     12\u001b[0m     \u001b[1;32mfor\u001b[0m \u001b[0mj\u001b[0m \u001b[1;32min\u001b[0m \u001b[0mi_early\u001b[0m\u001b[1;33m:\u001b[0m\u001b[1;33m\u001b[0m\u001b[0m\n\u001b[1;32m---> 13\u001b[1;33m         \u001b[0max\u001b[0m\u001b[1;33m[\u001b[0m\u001b[0mi\u001b[0m\u001b[1;33m]\u001b[0m\u001b[1;33m.\u001b[0m\u001b[0mplot\u001b[0m\u001b[1;33m(\u001b[0m\u001b[0mpoints\u001b[0m\u001b[1;33m,\u001b[0m \u001b[0mcatalog\u001b[0m\u001b[1;33m[\u001b[0m\u001b[1;34m'lambda_arr'\u001b[0m\u001b[1;33m]\u001b[0m\u001b[1;33m[\u001b[0m\u001b[0mj\u001b[0m\u001b[1;33m]\u001b[0m\u001b[1;33m[\u001b[0m \u001b[1;33m:\u001b[0m\u001b[1;36m2\u001b[0m \u001b[1;33m*\u001b[0m\u001b[0mlr_points\u001b[0m\u001b[1;33m]\u001b[0m\u001b[1;33m,\u001b[0m \u001b[0mc\u001b[0m\u001b[1;33m=\u001b[0m\u001b[1;34m'grey'\u001b[0m\u001b[1;33m,\u001b[0m \u001b[0malpha\u001b[0m\u001b[1;33m=\u001b[0m\u001b[1;36m0.3\u001b[0m\u001b[1;33m)\u001b[0m\u001b[1;33m\u001b[0m\u001b[0m\n\u001b[0m\u001b[0;32m     14\u001b[0m \u001b[1;33m\u001b[0m\u001b[0m\n\u001b[0;32m     15\u001b[0m     \u001b[0max\u001b[0m\u001b[1;33m[\u001b[0m\u001b[0mi\u001b[0m\u001b[1;33m]\u001b[0m\u001b[1;33m.\u001b[0m\u001b[0mset_xlim\u001b[0m\u001b[1;33m(\u001b[0m\u001b[1;33m[\u001b[0m\u001b[1;33m-\u001b[0m\u001b[1;36m0.5\u001b[0m\u001b[1;33m,\u001b[0m\u001b[1;36m2\u001b[0m\u001b[1;33m*\u001b[0m\u001b[0mlr_points\u001b[0m\u001b[1;33m]\u001b[0m\u001b[1;33m)\u001b[0m\u001b[1;33m\u001b[0m\u001b[0m\n",
      "\u001b[1;32m/usr/lib/python3/dist-packages/matplotlib/axes.py\u001b[0m in \u001b[0;36mplot\u001b[1;34m(self, *args, **kwargs)\u001b[0m\n\u001b[0;32m   4137\u001b[0m         \u001b[0mlines\u001b[0m \u001b[1;33m=\u001b[0m \u001b[1;33m[\u001b[0m\u001b[1;33m]\u001b[0m\u001b[1;33m\u001b[0m\u001b[0m\n\u001b[0;32m   4138\u001b[0m \u001b[1;33m\u001b[0m\u001b[0m\n\u001b[1;32m-> 4139\u001b[1;33m         \u001b[1;32mfor\u001b[0m \u001b[0mline\u001b[0m \u001b[1;32min\u001b[0m \u001b[0mself\u001b[0m\u001b[1;33m.\u001b[0m\u001b[0m_get_lines\u001b[0m\u001b[1;33m(\u001b[0m\u001b[1;33m*\u001b[0m\u001b[0margs\u001b[0m\u001b[1;33m,\u001b[0m \u001b[1;33m**\u001b[0m\u001b[0mkwargs\u001b[0m\u001b[1;33m)\u001b[0m\u001b[1;33m:\u001b[0m\u001b[1;33m\u001b[0m\u001b[0m\n\u001b[0m\u001b[0;32m   4140\u001b[0m             \u001b[0mself\u001b[0m\u001b[1;33m.\u001b[0m\u001b[0madd_line\u001b[0m\u001b[1;33m(\u001b[0m\u001b[0mline\u001b[0m\u001b[1;33m)\u001b[0m\u001b[1;33m\u001b[0m\u001b[0m\n\u001b[0;32m   4141\u001b[0m             \u001b[0mlines\u001b[0m\u001b[1;33m.\u001b[0m\u001b[0mappend\u001b[0m\u001b[1;33m(\u001b[0m\u001b[0mline\u001b[0m\u001b[1;33m)\u001b[0m\u001b[1;33m\u001b[0m\u001b[0m\n",
      "\u001b[1;32m/usr/lib/python3/dist-packages/matplotlib/axes.py\u001b[0m in \u001b[0;36m_grab_next_args\u001b[1;34m(self, *args, **kwargs)\u001b[0m\n\u001b[0;32m    317\u001b[0m                 \u001b[1;32mreturn\u001b[0m\u001b[1;33m\u001b[0m\u001b[0m\n\u001b[0;32m    318\u001b[0m             \u001b[1;32mif\u001b[0m \u001b[0mlen\u001b[0m\u001b[1;33m(\u001b[0m\u001b[0mremaining\u001b[0m\u001b[1;33m)\u001b[0m \u001b[1;33m<=\u001b[0m \u001b[1;36m3\u001b[0m\u001b[1;33m:\u001b[0m\u001b[1;33m\u001b[0m\u001b[0m\n\u001b[1;32m--> 319\u001b[1;33m                 \u001b[1;32mfor\u001b[0m \u001b[0mseg\u001b[0m \u001b[1;32min\u001b[0m \u001b[0mself\u001b[0m\u001b[1;33m.\u001b[0m\u001b[0m_plot_args\u001b[0m\u001b[1;33m(\u001b[0m\u001b[0mremaining\u001b[0m\u001b[1;33m,\u001b[0m \u001b[0mkwargs\u001b[0m\u001b[1;33m)\u001b[0m\u001b[1;33m:\u001b[0m\u001b[1;33m\u001b[0m\u001b[0m\n\u001b[0m\u001b[0;32m    320\u001b[0m                     \u001b[1;32myield\u001b[0m \u001b[0mseg\u001b[0m\u001b[1;33m\u001b[0m\u001b[0m\n\u001b[0;32m    321\u001b[0m                 \u001b[1;32mreturn\u001b[0m\u001b[1;33m\u001b[0m\u001b[0m\n",
      "\u001b[1;32m/usr/lib/python3/dist-packages/matplotlib/axes.py\u001b[0m in \u001b[0;36m_plot_args\u001b[1;34m(self, tup, kwargs)\u001b[0m\n\u001b[0;32m    295\u001b[0m             \u001b[0mx\u001b[0m \u001b[1;33m=\u001b[0m \u001b[0mnp\u001b[0m\u001b[1;33m.\u001b[0m\u001b[0marange\u001b[0m\u001b[1;33m(\u001b[0m\u001b[0my\u001b[0m\u001b[1;33m.\u001b[0m\u001b[0mshape\u001b[0m\u001b[1;33m[\u001b[0m\u001b[1;36m0\u001b[0m\u001b[1;33m]\u001b[0m\u001b[1;33m,\u001b[0m \u001b[0mdtype\u001b[0m\u001b[1;33m=\u001b[0m\u001b[0mfloat\u001b[0m\u001b[1;33m)\u001b[0m\u001b[1;33m\u001b[0m\u001b[0m\n\u001b[0;32m    296\u001b[0m \u001b[1;33m\u001b[0m\u001b[0m\n\u001b[1;32m--> 297\u001b[1;33m         \u001b[0mx\u001b[0m\u001b[1;33m,\u001b[0m \u001b[0my\u001b[0m \u001b[1;33m=\u001b[0m \u001b[0mself\u001b[0m\u001b[1;33m.\u001b[0m\u001b[0m_xy_from_xy\u001b[0m\u001b[1;33m(\u001b[0m\u001b[0mx\u001b[0m\u001b[1;33m,\u001b[0m \u001b[0my\u001b[0m\u001b[1;33m)\u001b[0m\u001b[1;33m\u001b[0m\u001b[0m\n\u001b[0m\u001b[0;32m    298\u001b[0m \u001b[1;33m\u001b[0m\u001b[0m\n\u001b[0;32m    299\u001b[0m         \u001b[1;32mif\u001b[0m \u001b[0mself\u001b[0m\u001b[1;33m.\u001b[0m\u001b[0mcommand\u001b[0m \u001b[1;33m==\u001b[0m \u001b[1;34m'plot'\u001b[0m\u001b[1;33m:\u001b[0m\u001b[1;33m\u001b[0m\u001b[0m\n",
      "\u001b[1;32m/usr/lib/python3/dist-packages/matplotlib/axes.py\u001b[0m in \u001b[0;36m_xy_from_xy\u001b[1;34m(self, x, y)\u001b[0m\n\u001b[0;32m    237\u001b[0m         \u001b[0my\u001b[0m \u001b[1;33m=\u001b[0m \u001b[0mnp\u001b[0m\u001b[1;33m.\u001b[0m\u001b[0matleast_1d\u001b[0m\u001b[1;33m(\u001b[0m\u001b[0my\u001b[0m\u001b[1;33m)\u001b[0m\u001b[1;33m\u001b[0m\u001b[0m\n\u001b[0;32m    238\u001b[0m         \u001b[1;32mif\u001b[0m \u001b[0mx\u001b[0m\u001b[1;33m.\u001b[0m\u001b[0mshape\u001b[0m\u001b[1;33m[\u001b[0m\u001b[1;36m0\u001b[0m\u001b[1;33m]\u001b[0m \u001b[1;33m!=\u001b[0m \u001b[0my\u001b[0m\u001b[1;33m.\u001b[0m\u001b[0mshape\u001b[0m\u001b[1;33m[\u001b[0m\u001b[1;36m0\u001b[0m\u001b[1;33m]\u001b[0m\u001b[1;33m:\u001b[0m\u001b[1;33m\u001b[0m\u001b[0m\n\u001b[1;32m--> 239\u001b[1;33m             \u001b[1;32mraise\u001b[0m \u001b[0mValueError\u001b[0m\u001b[1;33m(\u001b[0m\u001b[1;34m\"x and y must have same first dimension\"\u001b[0m\u001b[1;33m)\u001b[0m\u001b[1;33m\u001b[0m\u001b[0m\n\u001b[0m\u001b[0;32m    240\u001b[0m         \u001b[1;32mif\u001b[0m \u001b[0mx\u001b[0m\u001b[1;33m.\u001b[0m\u001b[0mndim\u001b[0m \u001b[1;33m>\u001b[0m \u001b[1;36m2\u001b[0m \u001b[1;32mor\u001b[0m \u001b[0my\u001b[0m\u001b[1;33m.\u001b[0m\u001b[0mndim\u001b[0m \u001b[1;33m>\u001b[0m \u001b[1;36m2\u001b[0m\u001b[1;33m:\u001b[0m\u001b[1;33m\u001b[0m\u001b[0m\n\u001b[0;32m    241\u001b[0m             \u001b[1;32mraise\u001b[0m \u001b[0mValueError\u001b[0m\u001b[1;33m(\u001b[0m\u001b[1;34m\"x and y can be no greater than 2-D\"\u001b[0m\u001b[1;33m)\u001b[0m\u001b[1;33m\u001b[0m\u001b[0m\n",
      "\u001b[1;31mValueError\u001b[0m: x and y must have same first dimension"
     ]
    }
   ],
   "source": [
    "# as a line\n",
    "plt.close()\n",
    "\n",
    "fig, ax = plt.subplots(len(clusters))\n",
    "\n",
    "for i, cluster in enumerate(clusters):\n",
    "    wdir = '/home/hoseung/Work/data/' + str(cluster).zfill(5)\n",
    "    catalog = load_pickle(wdir + '/catalog_GM/' + 'catalog187.pickle')\n",
    "    #i_early = np.where(catalog['mstar'] > 5e11)[0]\n",
    "    i_early = np.where((catalog['mstar'] > 1e10) & (catalog['mstar'] < 1e11))[0]\n",
    "    \n",
    "    for j in i_early:\n",
    "        ax[i].plot(points, catalog['lambda_arr'][j][:2 *lr_points], c='grey', alpha=0.3)\n",
    "    \n",
    "    ax[i].set_xlim([-0.5,2*lr_points])\n",
    "    ax[i].set_ylim([0,0.8])\n",
    "    x_tick_pos = \"\"\n",
    "    ax[i].set_xticks([0,lr_points -1, 2*lr_points - 1])\n",
    "    x_ticks_label = [\"0\", \"1\", \"2\"] # Correct. by default, rscale_lambda = 2.0\n",
    "    ax[i].set_xticklabels(labels = [z for z in x_ticks_label])\n",
    "    ax[i].set_xlabel(r\"$R/R_{eff}$\")\n",
    "    \n",
    "plt.show()"
   ]
  },
  {
   "cell_type": "code",
   "execution_count": 11,
   "metadata": {
    "collapsed": false
   },
   "outputs": [
    {
     "data": {
      "text/plain": [
       "45"
      ]
     },
     "execution_count": 11,
     "metadata": {},
     "output_type": "execute_result"
    }
   ],
   "source": [
    "len(catalog['lambda_arr'][j])"
   ]
  },
  {
   "cell_type": "code",
   "execution_count": null,
   "metadata": {
    "collapsed": true
   },
   "outputs": [],
   "source": [
    "final_gals = list(cat['final_gal'])\n",
    "\n",
    "    # exclude disky galaxies\n",
    "for bad_gal in exclude_gals[i]:\n",
    "    final_gals.remove(bad_gal)\n",
    "\n",
    "ngals = len(final_gals)\n",
    "mstar = np.zeros((ngals, nnouts))\n",
    "l_r = np.zeros((ngals, nnouts))"
   ]
  }
 ],
 "metadata": {
  "kernelspec": {
   "display_name": "Python 3",
   "language": "python",
   "name": "python3"
  },
  "language_info": {
   "codemirror_mode": {
    "name": "ipython",
    "version": 3
   },
   "file_extension": ".py",
   "mimetype": "text/x-python",
   "name": "python",
   "nbconvert_exporter": "python",
   "pygments_lexer": "ipython3",
   "version": "3.4.3"
  }
 },
 "nbformat": 4,
 "nbformat_minor": 0
}
