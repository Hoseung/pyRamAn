{
 "cells": [
  {
   "cell_type": "code",
   "execution_count": 3,
   "metadata": {
    "collapsed": true
   },
   "outputs": [],
   "source": [
    "import matplotlib.pyplot as plt\n",
    "import pickle\n",
    "import numpy as np\n",
    "\n",
    "## fucntions \n",
    "def load_pickle(fname):\n",
    "    with open(fname, 'rb') as f:\n",
    "        return pickle.load(f)\n",
    "\n",
    "    \n",
    "clusters = [5427, 36413, 74010, 1605, 39990, 36415][0:6]\n",
    "exclude_gals = [[1496, 85, 1636, 1340],\n",
    "                [],\n",
    "                [123,155,],\n",
    "                [2694,4684,5448,5885,5906,6967,6981,7047,7072,7151,7612],\n",
    "                []]\n",
    "\n",
    "f = plt.figure()\n",
    "ax = f.add_subplot(111)\n",
    "\n",
    "all_lr = np.zeros(0)\n",
    "points = np.arange(20)\n",
    "n_good = 0\n",
    "for i, cluster in enumerate(clusters):\n",
    "    wdir = '/home/hoseung/Work/data/' + str(cluster).zfill(5)\n",
    "    catalog = load_pickle(wdir + '/catalog/' + 'catalog187.pickle')\n",
    "    i_early = np.where(catalog['mstar'] > 1e11)[0]\n",
    "    i_late = []\n",
    "    i_bad = np.where(catalog.id == 0)[0]\n",
    "    i_bad = np.concatenate((i_bad, np.where(catalog['lambda_arr'][0] > 0.3)[0]))\n",
    "    #i_bad = np.concatenate(i_bad, exclude_gals[i])\n",
    "    n_good += len(i_early)\n",
    "    for j in i_early:\n",
    "        all_lr = np.concatenate((all_lr, catalog['lambda_arr'][j]))\n",
    "        #ax.plot(points, catalog['lambda_arr'][j], color='r', alpha=0.2)\n"
   ]
  },
  {
   "cell_type": "code",
   "execution_count": null,
   "metadata": {
    "collapsed": true
   },
   "outputs": [],
   "source": []
  },
  {
   "cell_type": "code",
   "execution_count": null,
   "metadata": {
    "collapsed": true
   },
   "outputs": [],
   "source": []
  }
 ],
 "metadata": {
  "kernelspec": {
   "display_name": "Python 3",
   "language": "python",
   "name": "python3"
  },
  "language_info": {
   "codemirror_mode": {
    "name": "ipython",
    "version": 3
   },
   "file_extension": ".py",
   "mimetype": "text/x-python",
   "name": "python",
   "nbconvert_exporter": "python",
   "pygments_lexer": "ipython3",
   "version": "3.4.3"
  }
 },
 "nbformat": 4,
 "nbformat_minor": 0
}
