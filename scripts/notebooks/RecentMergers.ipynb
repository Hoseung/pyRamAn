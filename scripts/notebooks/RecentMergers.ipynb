{
 "cells": [
  {
   "cell_type": "code",
   "execution_count": 2,
   "metadata": {
    "collapsed": false
   },
   "outputs": [],
   "source": [
    "from tree import tmtree\n",
    "import numpy as np\n",
    "import utils.sampling as smp\n",
    "import tree.halomodule as hmo \n",
    "import load\n",
    "\n",
    "from astropy.io import fits\n",
    "\n",
    "wdir = '/home/hoseung/Work/data/05427/'\n",
    "\n",
    "tt = fits.getdata(wdir + \"GalaxyMaker/TMtree.fits\", 1)\n",
    "\n",
    "\n",
    "#tt = tmtree.load(base=wdir, filename=\"GalaxyMaker/TMtree.fits\")\n",
    "\n",
    "\n",
    "#h = halomodule.Halo(nout=187, base='/home/hoseung/Work/data/05427/', halofinder=\"HaloMaker\", load=True)"
   ]
  },
  {
   "cell_type": "markdown",
   "metadata": {},
   "source": [
    "#### Latest merger of each galaxy"
   ]
  },
  {
   "cell_type": "code",
   "execution_count": 3,
   "metadata": {
    "collapsed": false
   },
   "outputs": [],
   "source": [
    "tmtree.fix_nout(tt, 10, 187)\n",
    "ifinal_gal = np.where(tt[\"NOUT\"] == 187)[0]\n",
    "final_gal = tt[\"HALNUM\"][ifinal_gal]"
   ]
  },
  {
   "cell_type": "markdown",
   "metadata": {},
   "source": [
    "#### extract merger trees of final galaxies"
   ]
  },
  {
   "cell_type": "code",
   "execution_count": 39,
   "metadata": {
    "collapsed": false
   },
   "outputs": [],
   "source": [
    "import tree.draw_merger_tree as dmt\n",
    "\n",
    "def get_xarr(n):\n",
    "    import numpy as np\n",
    "    arr=[]\n",
    "    a=0\n",
    "    for i in range(n):\n",
    "        a += (-1)**i * i\n",
    "        arr.append(a)\n",
    "    return np.asarray(arr)\n",
    "       \n",
    "\n",
    "def recursive_tree(idx, tt, nstep):\n",
    "    prgs = tt[idx][\"TREE\"]\n",
    "    #print(\"IDX:\", idx, \"prgs: \",prgs[:5], tt[idx][\"NOUT\"])\n",
    "    prgs = prgs[prgs > 0]\n",
    "    nprg = len(prgs)\n",
    "    if nprg == 0:\n",
    "        return\n",
    "    if nstep == 0:\n",
    "        return \n",
    "    else:\n",
    "        if nprg > 1:\n",
    "            print(\"Branch!\", nprg)\n",
    "#            dx *= 0.9\n",
    "#            dxarr = np.arange(np.fix(-nprg/2), np.fix(nprg/2)+1)\n",
    "#            xarr = dxarr[-nprg:]*dx + x0\n",
    "            #xarr = get_xarr(nprg) * dx + x0\n",
    "        for i in prgs:\n",
    "#link_circle_up([x0, x], [y0, y0 + 1], m, ax)\n",
    "                #print(\"Nstep\", nstep, \" prg \", i)\n",
    "            recursive_tree(i, tt, nstep - 1)\n",
    "\n",
    "def get_idx(tt, halnum, nout):\n",
    "    \"\"\"\n",
    "    It's better to be included in tree object.\n",
    "    \"\"\"\n",
    "    ind_now = np.where(tt[\"NOUT\"] == nout)\n",
    "    tt_sub = tt[ind_now]\n",
    "    ind_hal = np.where(tt_sub[\"HALNUM\"] == halnum)\n",
    "    return tt_sub[ind_hal][\"IDX\"]\n",
    "\n",
    "\n",
    "def last_merger(idx, tt, nstep, nstep_end):\n",
    "    nprgs = 1\n",
    "    while nprgs < 2:\n",
    "        prgs = tt[idx][\"TREE\"]\n",
    "        nprgs = len(prgs[prgs > 0])\n",
    "        #print(nprgs)\n",
    "        idx = prgs[prgs > 0]\n",
    "        nstep -= 1\n",
    "        if nstep == nstep_end:\n",
    "            break\n",
    "    return nstep\n"
   ]
  },
  {
   "cell_type": "markdown",
   "metadata": {},
   "source": [
    "#### Find last merger event"
   ]
  },
  {
   "cell_type": "code",
   "execution_count": 40,
   "metadata": {
    "collapsed": false
   },
   "outputs": [],
   "source": [
    "last_mergers = np.zeros(len(final_gal), dtype=int)\n",
    "for i, gal in enumerate(final_gal):\n",
    "    idx0 = dmt.get_idx(tt, gal, 187)\n",
    "    last_mergers[i] = last_merger(idx0, tt, 187, nstep_end=10)\n",
    "    "
   ]
  },
  {
   "cell_type": "code",
   "execution_count": 41,
   "metadata": {
    "collapsed": false
   },
   "outputs": [
    {
     "data": {
      "text/plain": [
       "array([185,  10,  10,  10,  10,  10, 159,  10,  10,  10,  10,  10,  10,\n",
       "        10,  10,  10,  10,  10,  10,  10,  10,  10,  10,  10,  10,  10,\n",
       "        10,  10,  10,  10,  10,  10,  10,  10,  10,  10,  10,  10,  10,\n",
       "        10,  10,  10,  10,  10,  10,  10,  10,  10,  10,  10,  10,  10,\n",
       "        10,  10,  10,  10,  10,  10,  10,  10,  10,  10,  10,  10,  10,\n",
       "        10,  10,  10,  10,  10,  10,  10,  10,  10,  10,  10,  10,  10,\n",
       "        10,  10,  10,  10,  10,  10,  10,  10,  10,  10,  10,  10,  10,\n",
       "        10,  10,  10,  10,  10,  10,  10,  10,  10,  10,  10,  10,  10,\n",
       "        10,  10,  10,  10,  10,  10,  10,  10,  10,  10,  10,  10,  10,\n",
       "        10,  10,  10,  10,  10,  10,  10,  10,  10,  10,  10,  10,  10,\n",
       "        10,  10,  10,  10,  10,  10,  10,  10,  10,  10,  10,  10,  10,\n",
       "        10,  10,  10,  10,  10,  10,  10,  10,  10,  10,  10,  10,  10,\n",
       "        10,  10,  10,  10,  10,  10,  10,  10,  10,  10,  10,  10,  10,\n",
       "        10,  10,  10,  10,  10,  10,  10,  10,  10,  10,  10,  10,  10,\n",
       "        10,  10,  10,  10,  10,  10,  10,  10,  10,  10,  10,  10,  10,\n",
       "        10,  10,  10,  10,  10,  10,  10,  10,  10,  10,  10,  10,  10,\n",
       "        10,  10,  10,  10,  10,  10,  10,  10,  10,  10,  10,  10,  10,\n",
       "        10,  10,  10,  10,  10,  10,  10,  10,  10,  10,  10,  10,  10,\n",
       "        10,  10,  10,  10,  10,  10,  10,  10,  10,  10,  10,  10,  10,\n",
       "        10,  10,  10,  10,  10,  10,  10,  10,  10,  10,  10,  10,  10,\n",
       "        10,  10,  10,  10,  10,  10,  10,  10,  10,  10,  10,  10,  10,\n",
       "        10,  10,  10,  10,  10,  10,  10,  10,  10,  10,  10,  10,  10,\n",
       "        10,  10,  10,  10,  10,  10,  10,  10,  10,  10,  10,  10,  10,\n",
       "        10,  10,  10,  10,  10,  10,  10,  10,  10,  10,  10,  10,  10,\n",
       "        10,  10,  10,  10,  10,  10,  10,  10,  10,  10,  10,  10,  10,\n",
       "        10,  10,  10,  10,  10,  10,  10,  10,  10,  10,  10,  10,  10,\n",
       "        10,  10,  10,  10,  10,  10,  10,  10,  10,  10,  10,  10,  10,\n",
       "        10,  10,  10,  10,  10,  10,  10,  10,  10,  10,  10,  10,  10,\n",
       "        10,  10,  10,  10,  10,  10,  10,  10,  10,  10,  10, 177,  10,\n",
       "        10,  10,  10,  10,  10,  10,  10,  10, 111,  10,  10,  10,  10,\n",
       "        10,  10,  10,  10,  10,  10,  10,  10,  10,  10,  10,  10,  10,\n",
       "        10,  10,  10,  10,  10,  10,  10,  10,  10,  10,  10,  10,  10,\n",
       "       161,  10,  10,  10,  10,  10,  10,  10,  10,  10,  10,  10,  10,\n",
       "        10,  10,  10,  10,  10,  10,  10,  10,  10,  10,  10,  10,  10,\n",
       "        10,  10,  10,  10,  10,  10,  10,  10,  10,  10,  10,  10,  10,\n",
       "        10,  10,  10,  10,  10,  10,  10,  10,  10,  10,  10,  10,  10,\n",
       "        10,  10,  10,  10,  10,  10,  10])"
      ]
     },
     "execution_count": 41,
     "metadata": {},
     "output_type": "execute_result"
    }
   ],
   "source": [
    "last_mergers"
   ]
  },
  {
   "cell_type": "raw",
   "metadata": {},
   "source": [
    "Most galaixes are found to have no mergers at all.\n",
    "Of course, this is wrong. "
   ]
  },
  {
   "cell_type": "markdown",
   "metadata": {
    "collapsed": true
   },
   "source": [
    "#### IT's merger tree is not satisfactory.\n",
    "how about the original TreeMaker output?"
   ]
  },
  {
   "cell_type": "code",
   "execution_count": 37,
   "metadata": {
    "collapsed": false
   },
   "outputs": [],
   "source": [
    "wdir = '/home/hoseung/Work/data/05427/'\n",
    "import numpy as np\n",
    "from load import utils\n",
    "f = open(wdir + '/GalaxyMaker/tree.dat', 'rb')\n",
    "nsteps = utils.read_fortran(f, np.int32, n=1, check=True)[0]\n",
    "nhals = utils.read_fortran(f, np.int32, n=2*nsteps, check=True)\n",
    "nsub = nhals[nsteps:]\n",
    "nhals = nhals[:nsteps]\n",
    "aexps = utils.read_fortran(f, np.float32, n=nsteps, check=True)\n",
    "omega_t = utils.read_fortran(f, np.float32, n=nsteps, check=True)\n",
    "age_univ = utils.read_fortran(f, np.float32, n=nsteps, check=True)"
   ]
  },
  {
   "cell_type": "raw",
   "metadata": {},
   "source": [
    "The code below is incomplete. \n",
    "It loads all the data, but lack a mechanism to determine the 'main' progenitors. \n",
    "See readtreedat_vel.pro"
   ]
  },
  {
   "cell_type": "code",
   "execution_count": 39,
   "metadata": {
    "collapsed": false
   },
   "outputs": [],
   "source": [
    "idx=0\n",
    "nhal_tot = sum(nhals) + sum(nsub)\n",
    "istep = np.zeros(nhal_tot)\n",
    "\n",
    "dtype = np.dtype([(\"hID\", \"i4\"), (\"bushID\",\"i4\"), (\"st\",\"i4\"),\n",
    "                  (\"hh\",\"i4\", (5,)),\n",
    "                  (\"m\",\"f4\"), (\"macc\",\"f8\"),\n",
    "                  (\"xp\",\"f4\", (3,)), (\"vp\",\"f4\", (3,)), (\"lp\",\"f4\", (3,)),\n",
    "                  (\"abc\",\"f4\", (4,)), (\"energy\",\"f4\", (3,)), (\"spin\",\"f4\"),\n",
    "                  (\"nb_fathers\",\"i4\"), (\"nb_sons\",\"i4\")])\n",
    "\n",
    "tt = np.array(nhal_tot, dtype=dtype)\n",
    "\n",
    "for i in range(nsteps):\n",
    "    nhalos = nhals[i] + nsub[i]\n",
    "    for j in range(nhalos):\n",
    "        tt[idx][\"hID\"] = utils.read_fortran(f, np.int32, n=1, check=True)[0]\n",
    "        tt[idx][\"bushID\"] = utils.read_fortran(f, np.int32, n=1, check=True)[0]\n",
    "        tt[idx][\"st\"] = utils.read_fortran(f, np.int32, n=1, check=True)[0]\n",
    "        tt[idx][\"hh\"] = utils.read_fortran(f, np.int32, n=5, check=True)\n",
    "        tt[idx][\"m\"]  = utils.read_fortran(f, np.float32, n=1, check=True)[0]\n",
    "        tt[idx][\"macc\"] = utils.read_fortran(f, np.float64, n=1, check=True)[0]\n",
    "        tt[idx][\"xp\"] = utils.read_fortran(f, np.float32, n=3, check=True)\n",
    "        tt[idx][\"vp\"] = utils.read_fortran(f, np.float32, n=3, check=True)\n",
    "        tt[idx][\"lp\"] = utils.read_fortran(f, np.float32, n=3, check=True)\n",
    "        tt[idx][\"abc\"] = utils.read_fortran(f, np.float32, n=4, check=True)\n",
    "        tt[idx][\"energy\"] = utils.read_fortran(f, np.float32, n=3, check=True)\n",
    "        tt[idx][\"spin\"] = utils.read_fortran(f, np.float32, n=1, check=True)[0]\n",
    "\n",
    "        nb_fathers = utils.read_fortran(f, np.int32, n=1, check=True)[0]\n",
    "        tt[idx][\"nb_fathers\"] = nb_fathers\n",
    "        if nb_fathers > 0:\n",
    "            tmp_list_fathers = utils.read_fortran(f, np.int32, n=nb_fathers, check=True)\n",
    "            tmp_mass_fathers = utils.read_fortran(f, np.float32, n=nb_fathers, check=True)\n",
    "\n",
    "        nb_sons = utils.read_fortran(f, np.int32, n=1, check=True)\n",
    "        if nb_sons > 0:\n",
    "            tmp_list_sons = utils.read_fortran(f, np.int32, n=nb_sons, check=True)\n",
    "        \n",
    "        rvir, mvir, tvir, cvel = utils.read_fortran(f, np.float32, n=4, check=True)\n",
    "        #rvir, mvir, tvir, cvel = tmp\n",
    "        rho_0, r_c = utils.read_fortran(f, np.float32, n=2, check=True)\n",
    "        \n",
    "        \n",
    "        # \n",
    "        \n",
    "        \n",
    "        istep[idx] = i\n",
    "        idx+=1\n",
    "        "
   ]
  },
  {
   "cell_type": "code",
   "execution_count": 40,
   "metadata": {
    "collapsed": false
   },
   "outputs": [
    {
     "data": {
      "text/plain": [
       "array([   0.,    0.,    0., ...,  177.,  177.,  177.])"
      ]
     },
     "execution_count": 40,
     "metadata": {},
     "output_type": "execute_result"
    }
   ],
   "source": [
    "istep"
   ]
  },
  {
   "cell_type": "code",
   "execution_count": 13,
   "metadata": {
    "collapsed": false
   },
   "outputs": [
    {
     "ename": "AttributeError",
     "evalue": "'list' object has no attribute 'fields'",
     "output_type": "error",
     "traceback": [
      "\u001b[1;31m---------------------------------------------------------------------------\u001b[0m",
      "\u001b[1;31mAttributeError\u001b[0m                            Traceback (most recent call last)",
      "\u001b[1;32m<ipython-input-13-9f1e072ce799>\u001b[0m in \u001b[0;36m<module>\u001b[1;34m()\u001b[0m\n\u001b[0;32m      4\u001b[0m utils.read_header(f, dtype=([('aexp', 'f8', (nstep,)),\n\u001b[0;32m      5\u001b[0m          \u001b[1;33m(\u001b[0m\u001b[1;34m'omega_t'\u001b[0m\u001b[1;33m,\u001b[0m \u001b[1;34m'f8'\u001b[0m\u001b[1;33m,\u001b[0m \u001b[1;33m(\u001b[0m\u001b[0mnstep\u001b[0m\u001b[1;33m,\u001b[0m\u001b[1;33m)\u001b[0m\u001b[1;33m)\u001b[0m\u001b[1;33m,\u001b[0m\u001b[1;33m\u001b[0m\u001b[0m\n\u001b[1;32m----> 6\u001b[1;33m          ('age_univ', 'f8', (nstep,))]), check=True)\n\u001b[0m",
      "\u001b[1;32m/home/hoseung/Copy/pyclusterevol/load/utils.py\u001b[0m in \u001b[0;36mread_header\u001b[1;34m(f, dtype, check)\u001b[0m\n\u001b[0;32m     53\u001b[0m \u001b[1;32mdef\u001b[0m \u001b[0mread_header\u001b[0m\u001b[1;33m(\u001b[0m\u001b[0mf\u001b[0m\u001b[1;33m,\u001b[0m \u001b[0mdtype\u001b[0m\u001b[1;33m,\u001b[0m \u001b[0mcheck\u001b[0m\u001b[1;33m=\u001b[0m\u001b[1;32mTrue\u001b[0m\u001b[1;33m)\u001b[0m\u001b[1;33m:\u001b[0m\u001b[1;33m\u001b[0m\u001b[0m\n\u001b[0;32m     54\u001b[0m     \u001b[0mq\u001b[0m \u001b[1;33m=\u001b[0m \u001b[0mnp\u001b[0m\u001b[1;33m.\u001b[0m\u001b[0mempty\u001b[0m\u001b[1;33m(\u001b[0m\u001b[1;36m1\u001b[0m\u001b[1;33m,\u001b[0m \u001b[0mdtype\u001b[0m\u001b[1;33m=\u001b[0m\u001b[0mdtype\u001b[0m\u001b[1;33m)\u001b[0m\u001b[1;33m\u001b[0m\u001b[0m\n\u001b[1;32m---> 55\u001b[1;33m     \u001b[1;32mfor\u001b[0m \u001b[0mi\u001b[0m \u001b[1;32min\u001b[0m \u001b[0mrange\u001b[0m\u001b[1;33m(\u001b[0m\u001b[0mlen\u001b[0m\u001b[1;33m(\u001b[0m\u001b[0mdtype\u001b[0m\u001b[1;33m.\u001b[0m\u001b[0mfields\u001b[0m\u001b[1;33m)\u001b[0m\u001b[1;33m)\u001b[0m\u001b[1;33m:\u001b[0m\u001b[1;33m\u001b[0m\u001b[0m\n\u001b[0m\u001b[0;32m     56\u001b[0m         \u001b[0mdata\u001b[0m \u001b[1;33m=\u001b[0m \u001b[0mread_fortran\u001b[0m\u001b[1;33m(\u001b[0m\u001b[0mf\u001b[0m\u001b[1;33m,\u001b[0m \u001b[0mdtype\u001b[0m\u001b[1;33m[\u001b[0m\u001b[0mi\u001b[0m\u001b[1;33m]\u001b[0m\u001b[1;33m,\u001b[0m \u001b[0mcheck\u001b[0m\u001b[1;33m=\u001b[0m\u001b[0mcheck\u001b[0m\u001b[1;33m)\u001b[0m\u001b[1;33m\u001b[0m\u001b[0m\n\u001b[0;32m     57\u001b[0m \u001b[1;33m\u001b[0m\u001b[0m\n",
      "\u001b[1;31mAttributeError\u001b[0m: 'list' object has no attribute 'fields'"
     ]
    }
   ],
   "source": [
    "utils.read_header(f, dtype=np.dtype([('nhal', 'i4', (nstep,2)),\n",
    "         ('nsub', 'i4', (nstep,))]))\n",
    "utils.read_header(f, dtype=np.dtype([('aexp', 'f8', (nstep,)),\n",
    "         ('omega_t', 'f8', (nstep,)),\n",
    "         ('age_univ', 'f8', (nstep,))]), check=True)"
   ]
  },
  {
   "cell_type": "code",
   "execution_count": null,
   "metadata": {
    "collapsed": true
   },
   "outputs": [],
   "source": []
  },
  {
   "cell_type": "code",
   "execution_count": 16,
   "metadata": {
    "collapsed": false
   },
   "outputs": [
    {
     "data": {
      "text/plain": [
       "array([178], dtype=int32)"
      ]
     },
     "execution_count": 16,
     "metadata": {},
     "output_type": "execute_result"
    }
   ],
   "source": [
    "n_halos, n_subhals = utils.read_fortran(f, np.int32, n=1, check=True)[0]"
   ]
  },
  {
   "cell_type": "code",
   "execution_count": null,
   "metadata": {
    "collapsed": true
   },
   "outputs": [],
   "source": []
  }
 ],
 "metadata": {
  "kernelspec": {
   "display_name": "Python 3",
   "language": "python",
   "name": "python3"
  },
  "language_info": {
   "codemirror_mode": {
    "name": "ipython",
    "version": 3
   },
   "file_extension": ".py",
   "mimetype": "text/x-python",
   "name": "python",
   "nbconvert_exporter": "python",
   "pygments_lexer": "ipython3",
   "version": "3.4.3"
  }
 },
 "nbformat": 4,
 "nbformat_minor": 0
}
