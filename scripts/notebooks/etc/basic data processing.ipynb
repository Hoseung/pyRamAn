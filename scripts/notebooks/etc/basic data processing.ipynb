{
 "cells": [
  {
   "cell_type": "markdown",
   "metadata": {},
   "source": [
    "##### Load simulation\n",
    "simulation meta data is loaded. (info)"
   ]
  },
  {
   "cell_type": "code",
   "execution_count": 3,
   "metadata": {
    "collapsed": false,
    "scrolled": true
   },
   "outputs": [
    {
     "name": "stdout",
     "output_type": "stream",
     "text": [
      "Ranges = [[0.0, 1.0], [0.0, 1.0], [0.0, 1.0]]\n",
      "\n",
      "No AMR instance,\n",
      "Loading one...\n",
      "An AMR instance is created\n",
      "\n",
      "Updating info.cpus\n",
      "An AMR instance is created\n",
      "\n",
      "Updating info.cpus\n",
      " Simulation set up.\n"
     ]
    }
   ],
   "source": [
    "import load\n",
    "s = load.sim.Sim(nout=187, base='/home/hoseung/Work/data/05427/', setup=True)"
   ]
  },
  {
   "cell_type": "markdown",
   "metadata": {},
   "source": [
    "##### Load halo data\n"
   ]
  },
  {
   "cell_type": "code",
   "execution_count": 5,
   "metadata": {
    "collapsed": false
   },
   "outputs": [],
   "source": [
    "from tree import halomodule"
   ]
  },
  {
   "cell_type": "code",
   "execution_count": 8,
   "metadata": {
    "collapsed": false
   },
   "outputs": [],
   "source": [
    "h = halomodule.Halo(nout=187, base='/home/hoseung/Work/data/05427/', halofinder=\"HaloMaker\", load=True)"
   ]
  },
  {
   "cell_type": "code",
   "execution_count": 9,
   "metadata": {
    "collapsed": false
   },
   "outputs": [
    {
     "data": {
      "text/plain": [
       "rec.array([ (129, 1, 1, 1, 0, 0, -1, 44166411190272.0, 9244131721216.0, 0.00785656739026308, 0.001922563649713993, 0.06089693307876587, 0.06112396717071533, 0.07528093457221985, 107.33905029296875, -105.43354034423828, 113.67853546142578, 138.79042053222656, 12860.3017578125, 3454.005615234375, 0.04120155796408653),\n",
       "       (217, 2, 1, 2, 0, 0, -1, 74295434805248.0, 22939143503872.0, 0.011005053296685219, 0.002608116017654538, 0.12529224157333374, 0.9887836575508118, 0.021165549755096436, -44.88469696044922, -110.11692810058594, -318.98223876953125, 12170.0888671875, 3628.37451171875, -22785.080078125, 0.03986629098653793),\n",
       "       (609, 3, 1, 3, 0, 0, -1, 208506535804928.0, 105109216296960.0, 0.012560459785163403, 0.004329067189246416, 0.0526258647441864, 0.06610757112503052, 0.11623755097389221, 133.6474609375, 3.7831177711486816, -144.388427734375, -45807.41796875, 72926.53125, 28166.671875, 0.02238859422504902),\n",
       "       ...,\n",
       "       (74, 1957, 2, 978, 978, 0, -1, 6185490944.0, 6018315264.0, 0.0002009988675126806, 0.0001671439822530374, 0.5091248750686646, 0.29475006461143494, 0.3053627014160156, -264.2775573730469, 245.66360473632812, -150.43096923828125, 0.002500816248357296, 0.0029230876825749874, 0.0004679962294176221, 0.030860887840390205),\n",
       "       (65, 1958, 2, 988, 988, 0, 1959, 12454568960.0, 6018315264.0, 0.0009574150899425149, 0.00016720705025363714, 0.5154119729995728, 0.31376802921295166, 0.35280320048332214, -55.12577819824219, -82.12742614746094, -339.6258850097656, -0.29664668440818787, 0.03970107436180115, 0.15944354236125946, 1.2082396745681763),\n",
       "       (93, 1959, 2, 988, 988, 0, -1, 28252645376.0, 7104955392.0, 0.0009224065579473972, 0.00017632673552725464, 0.5148451924324036, 0.31333357095718384, 0.35291436314582825, -62.3853874206543, -54.18581771850586, -326.62884521484375, -0.09782619774341583, 0.0038315188139677048, -0.1931060254573822, 0.0744350478053093)], \n",
       "      dtype=[('np', '<i4'), ('id', '<i4'), ('level', '<i4'), ('host', '<i4'), ('sub', '<i4'), ('nsub', '<i4'), ('nextsub', '<i4'), ('m', '<f4'), ('mvir', '<f4'), ('r', '<f4'), ('rvir', '<f4'), ('x', '<f4'), ('y', '<f4'), ('z', '<f4'), ('vx', '<f4'), ('vy', '<f4'), ('vz', '<f4'), ('ax', '<f4'), ('ay', '<f4'), ('az', '<f4'), ('sp', '<f4')])"
      ]
     },
     "execution_count": 9,
     "metadata": {},
     "output_type": "execute_result"
    }
   ],
   "source": [
    "h.data"
   ]
  },
  {
   "cell_type": "code",
   "execution_count": null,
   "metadata": {
    "collapsed": true
   },
   "outputs": [],
   "source": []
  }
 ],
 "metadata": {
  "kernelspec": {
   "display_name": "Python 3",
   "language": "python",
   "name": "python3"
  },
  "language_info": {
   "codemirror_mode": {
    "name": "ipython",
    "version": 3
   },
   "file_extension": ".py",
   "mimetype": "text/x-python",
   "name": "python",
   "nbconvert_exporter": "python",
   "pygments_lexer": "ipython3",
   "version": "3.4.3"
  }
 },
 "nbformat": 4,
 "nbformat_minor": 0
}
