{
 "cells": [
  {
   "cell_type": "code",
   "execution_count": 2,
   "metadata": {
    "collapsed": true
   },
   "outputs": [
    {
     "name": "stdout",
     "output_type": "stream",
     "text": [
      "Loading Consistent Tree data from ASCII is done\n"
     ]
    },
    {
     "ename": "KeyboardInterrupt",
     "evalue": "",
     "output_type": "error",
     "traceback": [
      "\u001b[1;31m---------------------------------------------------------------------------\u001b[0m",
      "\u001b[1;31mKeyboardInterrupt\u001b[0m                         Traceback (most recent call last)",
      "\u001b[1;32m<ipython-input-2-16f33fc28919>\u001b[0m in \u001b[0;36m<module>\u001b[1;34m()\u001b[0m\n\u001b[0;32m     78\u001b[0m \u001b[0mnout_fi\u001b[0m \u001b[1;33m=\u001b[0m \u001b[1;36m187\u001b[0m\u001b[1;33m\u001b[0m\u001b[0m\n\u001b[0;32m     79\u001b[0m \u001b[0malltrees\u001b[0m\u001b[1;33m.\u001b[0m\u001b[0mdata\u001b[0m\u001b[1;33m[\u001b[0m\u001b[1;34m'nout'\u001b[0m\u001b[1;33m]\u001b[0m \u001b[1;33m+=\u001b[0m \u001b[0mnout_fi\u001b[0m \u001b[1;33m-\u001b[0m \u001b[0mnout_max\u001b[0m\u001b[1;33m\u001b[0m\u001b[0m\n\u001b[1;32m---> 80\u001b[1;33m \u001b[0malltrees\u001b[0m\u001b[1;33m.\u001b[0m\u001b[0mdata\u001b[0m \u001b[1;33m=\u001b[0m \u001b[0maugment_tree\u001b[0m\u001b[1;33m(\u001b[0m\u001b[0malltrees\u001b[0m\u001b[1;33m.\u001b[0m\u001b[0mdata\u001b[0m\u001b[1;33m,\u001b[0m \u001b[0mwdir\u001b[0m\u001b[1;33m,\u001b[0m \u001b[0mis_gal\u001b[0m\u001b[1;33m=\u001b[0m\u001b[0mis_gal\u001b[0m\u001b[1;33m)\u001b[0m\u001b[1;33m\u001b[0m\u001b[0m\n\u001b[0m\u001b[0;32m     81\u001b[0m \u001b[1;33m\u001b[0m\u001b[0m\n\u001b[0;32m     82\u001b[0m \u001b[1;33m\u001b[0m\u001b[0m\n",
      "\u001b[1;32m<ipython-input-2-16f33fc28919>\u001b[0m in \u001b[0;36maugment_tree\u001b[1;34m(treedata, base, is_gal)\u001b[0m\n\u001b[0;32m     34\u001b[0m     \u001b[1;32mfor\u001b[0m \u001b[0mnout\u001b[0m \u001b[1;32min\u001b[0m \u001b[0mnp\u001b[0m\u001b[1;33m.\u001b[0m\u001b[0munique\u001b[0m\u001b[1;33m(\u001b[0m\u001b[0mtreedata\u001b[0m\u001b[1;33m[\u001b[0m\u001b[1;34m'nout'\u001b[0m\u001b[1;33m]\u001b[0m\u001b[1;33m)\u001b[0m\u001b[1;33m:\u001b[0m\u001b[1;33m\u001b[0m\u001b[0m\n\u001b[0;32m     35\u001b[0m         \u001b[1;31m# nout and Orig_halo_id are required.\u001b[0m\u001b[1;33m\u001b[0m\u001b[1;33m\u001b[0m\u001b[0m\n\u001b[1;32m---> 36\u001b[1;33m         \u001b[0mgal_org\u001b[0m \u001b[1;33m=\u001b[0m \u001b[0mhmo\u001b[0m\u001b[1;33m.\u001b[0m\u001b[0mHalo\u001b[0m\u001b[1;33m(\u001b[0m\u001b[0mbase\u001b[0m\u001b[1;33m=\u001b[0m\u001b[0mwdir\u001b[0m\u001b[1;33m,\u001b[0m \u001b[0mnout\u001b[0m\u001b[1;33m=\u001b[0m\u001b[0mnout\u001b[0m\u001b[1;33m,\u001b[0m \u001b[0mhalofinder\u001b[0m\u001b[1;33m=\u001b[0m\u001b[1;34m'HM'\u001b[0m\u001b[1;33m,\u001b[0m \u001b[0mload\u001b[0m\u001b[1;33m=\u001b[0m\u001b[1;32mTrue\u001b[0m\u001b[1;33m,\u001b[0m \u001b[0mis_gal\u001b[0m\u001b[1;33m=\u001b[0m\u001b[0mis_gal\u001b[0m\u001b[1;33m)\u001b[0m\u001b[1;33m\u001b[0m\u001b[0m\n\u001b[0m\u001b[0;32m     37\u001b[0m         \u001b[1;31m# Before we start, remove unnecessary coulmns\u001b[0m\u001b[1;33m\u001b[0m\u001b[1;33m\u001b[0m\u001b[0m\n\u001b[0;32m     38\u001b[0m         \u001b[0mdtype_names\u001b[0m \u001b[1;33m=\u001b[0m \u001b[1;33m[\u001b[0m\u001b[0mfield\u001b[0m\u001b[1;33m[\u001b[0m\u001b[1;36m0\u001b[0m\u001b[1;33m]\u001b[0m \u001b[1;32mfor\u001b[0m \u001b[0mfield\u001b[0m \u001b[1;32min\u001b[0m \u001b[0mdtype_new_quantities\u001b[0m\u001b[1;33m]\u001b[0m\u001b[1;33m\u001b[0m\u001b[0m\n",
      "\u001b[1;32m/home/hoseung/Copy/pyclusterevol/tree/halomodule.py\u001b[0m in \u001b[0;36m__init__\u001b[1;34m(self, nout, base, info, halofinder, load, is_gal, return_id)\u001b[0m\n\u001b[0;32m    112\u001b[0m            \u001b[1;32mpass\u001b[0m\u001b[1;33m\u001b[0m\u001b[0m\n\u001b[0;32m    113\u001b[0m        \u001b[1;32mif\u001b[0m \u001b[0mload\u001b[0m\u001b[1;33m:\u001b[0m\u001b[1;33m\u001b[0m\u001b[0m\n\u001b[1;32m--> 114\u001b[1;33m            \u001b[0mself\u001b[0m\u001b[1;33m.\u001b[0m\u001b[0mload\u001b[0m\u001b[1;33m(\u001b[0m\u001b[1;33m)\u001b[0m\u001b[1;33m\u001b[0m\u001b[0m\n\u001b[0m\u001b[0;32m    115\u001b[0m \u001b[1;33m\u001b[0m\u001b[0m\n\u001b[0;32m    116\u001b[0m     \u001b[1;32mdef\u001b[0m \u001b[0mset_info\u001b[0m\u001b[1;33m(\u001b[0m\u001b[0mself\u001b[0m\u001b[1;33m,\u001b[0m \u001b[0minfo\u001b[0m\u001b[1;33m)\u001b[0m\u001b[1;33m:\u001b[0m\u001b[1;33m\u001b[0m\u001b[0m\n",
      "\u001b[1;32m/home/hoseung/Copy/pyclusterevol/tree/halomodule.py\u001b[0m in \u001b[0;36mload\u001b[1;34m(self)\u001b[0m\n\u001b[0;32m    183\u001b[0m             \u001b[0mself\u001b[0m\u001b[1;33m.\u001b[0m\u001b[0mload_rs\u001b[0m\u001b[1;33m(\u001b[0m\u001b[1;33m)\u001b[0m\u001b[1;33m\u001b[0m\u001b[0m\n\u001b[0;32m    184\u001b[0m         \u001b[1;32melif\u001b[0m \u001b[0mself\u001b[0m\u001b[1;33m.\u001b[0m\u001b[0mhalofinder\u001b[0m \u001b[1;32mis\u001b[0m \u001b[1;34m'HaloMaker'\u001b[0m\u001b[1;33m:\u001b[0m\u001b[1;33m\u001b[0m\u001b[0m\n\u001b[1;32m--> 185\u001b[1;33m             \u001b[0mself\u001b[0m\u001b[1;33m.\u001b[0m\u001b[0mload_hm\u001b[0m\u001b[1;33m(\u001b[0m\u001b[1;33m)\u001b[0m\u001b[1;33m\u001b[0m\u001b[0m\n\u001b[0m\u001b[0;32m    186\u001b[0m \u001b[1;33m\u001b[0m\u001b[0m\n\u001b[0;32m    187\u001b[0m     \u001b[1;32mdef\u001b[0m \u001b[0mload_hm_sav\u001b[0m\u001b[1;33m(\u001b[0m\u001b[0mself\u001b[0m\u001b[1;33m,\u001b[0m \u001b[0mnout\u001b[0m\u001b[1;33m=\u001b[0m\u001b[1;32mNone\u001b[0m\u001b[1;33m,\u001b[0m \u001b[0mbase\u001b[0m\u001b[1;33m=\u001b[0m\u001b[1;32mNone\u001b[0m\u001b[1;33m,\u001b[0m \u001b[0minfo\u001b[0m\u001b[1;33m=\u001b[0m\u001b[1;32mNone\u001b[0m\u001b[1;33m)\u001b[0m\u001b[1;33m:\u001b[0m\u001b[1;33m\u001b[0m\u001b[0m\n",
      "\u001b[1;32m/home/hoseung/Copy/pyclusterevol/tree/halomodule.py\u001b[0m in \u001b[0;36mload_hm\u001b[1;34m(self, nout, base, info)\u001b[0m\n\u001b[0;32m    268\u001b[0m                 \u001b[1;32mif\u001b[0m \u001b[0mself\u001b[0m\u001b[1;33m.\u001b[0m\u001b[0mis_gal\u001b[0m\u001b[1;33m:\u001b[0m\u001b[1;33m\u001b[0m\u001b[0m\n\u001b[0;32m    269\u001b[0m                     \u001b[0mself\u001b[0m\u001b[1;33m.\u001b[0m\u001b[0mdata\u001b[0m\u001b[1;33m[\u001b[0m\u001b[1;34m'sig'\u001b[0m\u001b[1;33m]\u001b[0m\u001b[1;33m[\u001b[0m\u001b[0mi\u001b[0m\u001b[1;33m]\u001b[0m\u001b[1;33m,\u001b[0m \u001b[0mself\u001b[0m\u001b[1;33m.\u001b[0m\u001b[0mdata\u001b[0m\u001b[1;33m[\u001b[0m\u001b[1;34m'sigbulge'\u001b[0m\u001b[1;33m]\u001b[0m\u001b[1;33m[\u001b[0m\u001b[0mi\u001b[0m\u001b[1;33m]\u001b[0m\u001b[1;33m,\u001b[0m \u001b[0mself\u001b[0m\u001b[1;33m.\u001b[0m\u001b[0mdata\u001b[0m\u001b[1;33m[\u001b[0m\u001b[1;34m'mbulge'\u001b[0m\u001b[1;33m]\u001b[0m\u001b[1;33m[\u001b[0m\u001b[0mi\u001b[0m\u001b[1;33m]\u001b[0m\u001b[0;31m \u001b[0m\u001b[0;31m\\\u001b[0m\u001b[1;33m\u001b[0m\u001b[0m\n\u001b[1;32m--> 270\u001b[1;33m                     \u001b[1;33m=\u001b[0m \u001b[0mread_fortran\u001b[0m\u001b[1;33m(\u001b[0m\u001b[0mf\u001b[0m\u001b[1;33m,\u001b[0m \u001b[0mnp\u001b[0m\u001b[1;33m.\u001b[0m\u001b[0mdtype\u001b[0m\u001b[1;33m(\u001b[0m\u001b[1;34m'f4'\u001b[0m\u001b[1;33m)\u001b[0m\u001b[1;33m,\u001b[0m \u001b[1;36m3\u001b[0m\u001b[1;33m)\u001b[0m\u001b[1;33m\u001b[0m\u001b[0m\n\u001b[0m\u001b[0;32m    271\u001b[0m                     \u001b[1;31m#skip_fortran(f)\u001b[0m\u001b[1;33m\u001b[0m\u001b[1;33m\u001b[0m\u001b[0m\n\u001b[0;32m    272\u001b[0m \u001b[1;33m\u001b[0m\u001b[0m\n",
      "\u001b[1;32m/usr/local/lib/python3.4/dist-packages/numpy/core/records.py\u001b[0m in \u001b[0;36m__getitem__\u001b[1;34m(self, indx)\u001b[0m\n\u001b[0;32m    455\u001b[0m         \u001b[1;32mreturn\u001b[0m \u001b[0mself\u001b[0m\u001b[1;33m.\u001b[0m\u001b[0msetfield\u001b[0m\u001b[1;33m(\u001b[0m\u001b[0mval\u001b[0m\u001b[1;33m,\u001b[0m \u001b[1;33m*\u001b[0m\u001b[0mres\u001b[0m\u001b[1;33m)\u001b[0m\u001b[1;33m\u001b[0m\u001b[0m\n\u001b[0;32m    456\u001b[0m \u001b[1;33m\u001b[0m\u001b[0m\n\u001b[1;32m--> 457\u001b[1;33m     \u001b[1;32mdef\u001b[0m \u001b[0m__getitem__\u001b[0m\u001b[1;33m(\u001b[0m\u001b[0mself\u001b[0m\u001b[1;33m,\u001b[0m \u001b[0mindx\u001b[0m\u001b[1;33m)\u001b[0m\u001b[1;33m:\u001b[0m\u001b[1;33m\u001b[0m\u001b[0m\n\u001b[0m\u001b[0;32m    458\u001b[0m         \u001b[0mobj\u001b[0m \u001b[1;33m=\u001b[0m \u001b[0mndarray\u001b[0m\u001b[1;33m.\u001b[0m\u001b[0m__getitem__\u001b[0m\u001b[1;33m(\u001b[0m\u001b[0mself\u001b[0m\u001b[1;33m,\u001b[0m \u001b[0mindx\u001b[0m\u001b[1;33m)\u001b[0m\u001b[1;33m\u001b[0m\u001b[0m\n\u001b[0;32m    459\u001b[0m         \u001b[1;32mif\u001b[0m \u001b[1;33m(\u001b[0m\u001b[0misinstance\u001b[0m\u001b[1;33m(\u001b[0m\u001b[0mobj\u001b[0m\u001b[1;33m,\u001b[0m \u001b[0mndarray\u001b[0m\u001b[1;33m)\u001b[0m \u001b[1;32mand\u001b[0m \u001b[0mobj\u001b[0m\u001b[1;33m.\u001b[0m\u001b[0mdtype\u001b[0m\u001b[1;33m.\u001b[0m\u001b[0misbuiltin\u001b[0m\u001b[1;33m)\u001b[0m\u001b[1;33m:\u001b[0m\u001b[1;33m\u001b[0m\u001b[0m\n",
      "\u001b[1;31mKeyboardInterrupt\u001b[0m: "
     ]
    }
   ],
   "source": [
    "import numpy as np\n",
    "import pickle\n",
    "from tree import treemodule\n",
    "\n",
    "def join_struct_arrays(arrays):\n",
    "    sizes = np.array([a.itemsize for a in arrays])\n",
    "    offsets = np.r_[0, sizes.cumsum()]\n",
    "    n = len(arrays[0])\n",
    "    joint = np.empty((n, offsets[-1]), dtype=np.uint8)\n",
    "    for a, size, offset in zip(arrays, sizes, offsets):\n",
    "        joint[:,offset:offset+size] = a.view(np.uint8).reshape(n,size)\n",
    "    dtype = sum((a.dtype.descr for a in arrays), [])\n",
    "    return joint.ravel().view(dtype)\n",
    "\n",
    "def augment_tree(treedata, base, is_gal=False):\n",
    "    \"\"\"\n",
    "        Add more quantities to existing tree data. \n",
    "        \n",
    "        Consistent tree (built with HM/GM output) does not provide much detail of halos/galaxies.\n",
    "        I need to add some more information from original HM/GM output.\n",
    "    \"\"\"\n",
    "    \n",
    "    dtype_new_quantities = [('np', '<i4'), ('id', '<i4'), ('m', '<f4'), ('mvir', '<f4'),\n",
    "                            ('r', '<f4'), ('rvir', '<f4'), ('tvir', '<f4'), ('cvel', '<f4'),\n",
    "                            ('x', '<f4'), ('y', '<f4'), ('z', '<f4'),\n",
    "                            ('vx', '<f4'), ('vy', '<f4'), ('vz', '<f4'),\n",
    "                            ('ax', '<f4'), ('ay', '<f4'), ('az', '<f4'),\n",
    "                            ('sp', '<f4')]\n",
    "    if is_gal:\n",
    "        [dtype_new_quantities.append(i) for i in [('sig', '<f4'), ('sigbulge', '<f4'), ('mbulge', '<f4')]]\n",
    "           \n",
    "    New_arr = np.zeros(len(treedata), dtype=dtype_new_quantities)\n",
    "    import tree.halomodule as hmo\n",
    "    for nout in np.unique(treedata['nout']):\n",
    "        # nout and Orig_halo_id are required.\n",
    "        gal_org = hmo.Halo(base=wdir, nout=nout, halofinder='HM', load=True, is_gal=is_gal)\n",
    "        # Before we start, remove unnecessary coulmns\n",
    "        dtype_names = [field[0] for field in dtype_new_quantities]\n",
    "        gal_org = gal_org.data[dtype_names]\n",
    "        \n",
    "        ind_tree_this_nout = np.where(treedata['nout'] == nout)[0]\n",
    "        ok_gals = treedata['Orig_halo_id'][ind_tree_this_nout]\n",
    "        \n",
    "        # Galaxies are from a snapshot. Galaxy ID list must be a unique set.\n",
    "        assert len(ok_gals) == len(np.unique(ok_gals))\n",
    "        \n",
    "        ind_org_gals = [np.where(gal_org['id'] == gal)[0] for gal in ok_gals]\n",
    "        \n",
    "        for i, ind in enumerate(ind_org_gals):\n",
    "            assert sum(New_arr[ind_tree_this_nout[i]]) == 0. # array must be empty\n",
    "            New_arr[ind_tree_this_nout[i]] = gal_org[ind]\n",
    " \n",
    "    # Drop duplicate fields\n",
    "    #[\"id\", \"mvir\", \"rvir\", \"x\", \"y\", \"z\", \"vx\", \"vy\", \"vz\"]\n",
    "    keep_fields = [\"np\", \"m\", \"r\", \"tvir\", \"cvel\"]\n",
    "    if is_gal:\n",
    "        [keep_fields.append(i) for i in ['sig', 'sigbulge', 'mbulge']]\n",
    "        \n",
    "    return join_struct_arrays([treedata, New_arr[keep_fields]])\n",
    "\n",
    "\n",
    "is_gal=True\n",
    "wdir = './'\n",
    "\n",
    "# Load complete tree -----------------------------------------------------\n",
    "alltrees = treemodule.CTree()\n",
    "if is_gal:\n",
    "    # Galaxy tree\n",
    "    tree_path = 'GalaxyMaker/Trees/'\n",
    "else:\n",
    "    # halo tree\n",
    "    tree_path = 'halo/Trees/'\n",
    "\n",
    "\n",
    "alltrees.load(filename= wdir + tree_path + 'tree_0_0_0.dat')\n",
    "\n",
    "# Fix nout -----------------------------------------------------\n",
    "nout_max = alltrees.data['nout'].max()\n",
    "nout_fi = 187\n",
    "alltrees.data['nout'] += nout_fi - nout_max\n",
    "alltrees.data = augment_tree(alltrees.data, wdir, is_gal=is_gal)\n",
    "\n",
    "\n",
    "pickle.dump(alltrees, open(wdir + tree_path + \"extended_tree.pickle\", \"wb\" ))"
   ]
  }
 ],
 "metadata": {
  "kernelspec": {
   "display_name": "Python 3",
   "language": "python",
   "name": "python3"
  },
  "language_info": {
   "codemirror_mode": {
    "name": "ipython",
    "version": 3
   },
   "file_extension": ".py",
   "mimetype": "text/x-python",
   "name": "python",
   "nbconvert_exporter": "python",
   "pygments_lexer": "ipython3",
   "version": "3.4.3"
  }
 },
 "nbformat": 4,
 "nbformat_minor": 0
}
