{
 "cells": [
  {
   "cell_type": "code",
   "execution_count": null,
   "metadata": {
    "collapsed": true
   },
   "outputs": [],
   "source": [
    "import matplotlib.pyplot as plt\n",
    "import pickle\n",
    "import load\n",
    "from utils import match\n",
    "import numpy as np\n",
    "\n",
    "wdir = '/home/hoseung/Work/data/05427/'\n",
    "nout=187\n",
    "is_gal=True\n",
    "\n",
    "\n",
    "# Load galaxy catalog\n",
    "cat = pickle.load(open(wdir + '/catalog_GM/' + 'catalog' + str(nout) + '.pickle', 'rb'))\n",
    "\n",
    "# Load tree brick (GM)\n",
    "import tree.halomodule as hmo\n",
    "\n",
    "info = load.info.Info(nout=nout, base=wdir, load=True)\n",
    "hh = hmo.Halo(base=wdir, nout=nout, halofinder='HM', info=info, load=True, is_gal=is_gal)\n",
    "hind = match.match_list_ind(hh.data['id'], cat['id'])\n",
    "h = hmo.Halo(base=wdir, nout=nout, halofinder='HM', info=info, is_gal=is_gal)\n",
    "h.derive_from(hh, hind)"
   ]
  },
  {
   "cell_type": "code",
   "execution_count": 1,
   "metadata": {
    "collapsed": false
   },
   "outputs": [],
   "source": [
    "x = np.log10(cat['mstar'])\n",
    "y = np.log10(h.data['m'])\n",
    "\n",
    "fig, ax = plt.subplots(1)\n",
    "ax.scatter(x,y)\n",
    "ax.plot([9,11.5],[9,11.5])\n",
    "ax.set_xlabel(\"lambda_mp\")\n",
    "ax.set_ylabel(\"GalaxyMaker\")\n",
    "for name, xx,yy in zip(cat['id'],x,y):\n",
    "    ax.annotate(str(name), xy=(xx, yy), xytext=(-15, 10), textcoords='offset points')\n",
    "            #arrowprops=dict(facecolor='black', shrink=0.05) )\n",
    "plt.show()"
   ]
  },
  {
   "cell_type": "code",
   "execution_count": 2,
   "metadata": {
    "collapsed": false
   },
   "outputs": [],
   "source": [
    "fig, ax = plt.subplots(1)\n",
    "x = h.data['rvir']\n",
    "y = h.data['r']\n",
    "ax.scatter(x,y)\n",
    "ax.plot([0,0.1],[0,0.1])\n",
    "ax.set_xlim([0,0.001])\n",
    "ax.set_ylim([0,0.001])\n",
    "ax.set_xlabel(\"rvir_GM\")\n",
    "ax.set_ylabel(\"r_GM\")\n",
    "for name, xx,yy in zip(cat['id'],x,y):\n",
    "    ax.annotate(str(name), xy=(xx, yy), xytext=(-15, 10), textcoords='offset points')\n",
    "            #arrowprops=dict(facecolor='black', shrink=0.05) )\n",
    "plt.show()"
   ]
  },
  {
   "cell_type": "code",
   "execution_count": null,
   "metadata": {
    "collapsed": true
   },
   "outputs": [],
   "source": []
  }
 ],
 "metadata": {
  "kernelspec": {
   "display_name": "Python 3",
   "language": "python",
   "name": "python3"
  },
  "language_info": {
   "codemirror_mode": {
    "name": "ipython",
    "version": 3
   },
   "file_extension": ".py",
   "mimetype": "text/x-python",
   "name": "python",
   "nbconvert_exporter": "python",
   "pygments_lexer": "ipython3",
   "version": "3.4.3"
  }
 },
 "nbformat": 4,
 "nbformat_minor": 0
}
