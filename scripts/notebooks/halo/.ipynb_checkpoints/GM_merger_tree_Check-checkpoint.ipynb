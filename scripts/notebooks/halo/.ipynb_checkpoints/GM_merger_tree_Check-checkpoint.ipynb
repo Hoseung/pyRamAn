{
 "cells": [
  {
   "cell_type": "markdown",
   "metadata": {},
   "source": [
    "Draw merger tree using GalaxyMaker + ConsistenTree\n",
    "\n",
    "\n",
    "2015. 12. 01 \n",
    "    Functionally OK.\n",
    "    Looks ugly: displacement dx should be more adaptive. \n",
    "    "
   ]
  },
  {
   "cell_type": "code",
   "execution_count": 1,
   "metadata": {
    "collapsed": false
   },
   "outputs": [],
   "source": [
    "import tree.ctutils as ctu\n",
    "\n",
    "def link_circle_up(x, y, r, ax, finish=0):\n",
    "    \"\"\"\n",
    "    Given two points, draw circle at the first point and link it to the second point\n",
    "    without drawing the second point by default (so that it can repeat to build a long thread of bids).\n",
    "    for the last point, pass the radius of the last circle to the argument 'finish'\n",
    "    \n",
    "    For example,\n",
    "\n",
    "    fig = plt.figure()\n",
    "    ax = fig.add_subplot(111)\n",
    "    xpos = [1,1] &  ypos = [2,4]\n",
    "    link_circle(xpos, ypos, 10, ax)\n",
    "\n",
    "    xpos = [1,2] & ypos = [4,6]\n",
    "    link_circle(xpos, ypos, 30, ax, finish=30)\n",
    "    fig.show()\n",
    "    \"\"\"\n",
    "    ax.plot(x[0], y[0], 'o', ms=r, lw=2,  alpha=0.7, mfc='orange')\n",
    "    ax.plot(x, y, '-', c='black',alpha=0.7)\n",
    "    if finish > 0:\n",
    "        ax.plot(x[1], y[1], 'o', ms=20, lw=2, alpha=0.7, mfc='orange')    \n",
    "\n",
    "def get_xarr(n):\n",
    "    import numpy as np\n",
    "    arr=[]\n",
    "    a=0\n",
    "    for i in range(n):\n",
    "        a += (-1)**i * i\n",
    "        arr.append(a)\n",
    "    return np.asarray(arr)  \n",
    "        \n",
    "def recursive_tree(idx, tt, nstep, ax, x0, y0, dx, mass_unit=1e10):\n",
    "    import tree.draw_merger_tree as dmt\n",
    "    prgs = ctu.get_progenitors(tt, idx)\n",
    "    i_this_gal = np.where(tt['id'] == idx)\n",
    "    m = np.sqrt(tt[i_this_gal][\"mvir\"] / mass_unit)\n",
    "    #print(\"IDX:\", idx, \"prgs: \",prgs, \"mass:\", m, i_this_gal)\n",
    "    nprg = len(prgs)\n",
    "    if nstep == 0:\n",
    "        return \n",
    "    else:\n",
    "        if nprg == 0:\n",
    "            return\n",
    "        else:\n",
    "            if nprg > 1:\n",
    "                #dx *= 1.1\n",
    "                dx += 0.5\n",
    "#                print(\"Branch!\", nprg)\n",
    "\n",
    "            #xarr = get_xarr(nprg) * dx + x0\n",
    "            xarr = np.arange(nprg) * dx + x0\n",
    "            for i, x in zip(prgs, xarr):\n",
    "                link_circle_up([x0, x], [y0, y0 + 1], m, ax)\n",
    "                recursive_tree(i, tt, nstep - 1, ax, x, y0 + 1, dx, mass_unit=mass_unit)\n"
   ]
  },
  {
   "cell_type": "code",
   "execution_count": 1,
   "metadata": {
    "collapsed": false
   },
   "outputs": [
    {
     "name": "stdout",
     "output_type": "stream",
     "text": [
      "Loading Consistent Tree data from ASCII is done\n",
      "------ NOUT fixed\n"
     ]
    },
    {
     "ename": "NameError",
     "evalue": "name 'ctu' is not defined",
     "output_type": "error",
     "traceback": [
      "\u001b[1;31m---------------------------------------------------------------------------\u001b[0m",
      "\u001b[1;31mNameError\u001b[0m                                 Traceback (most recent call last)",
      "\u001b[1;32m<ipython-input-1-35f94a2d6a12>\u001b[0m in \u001b[0;36m<module>\u001b[1;34m()\u001b[0m\n\u001b[0;32m     34\u001b[0m     \u001b[0malltrees\u001b[0m\u001b[1;33m.\u001b[0m\u001b[0mdata\u001b[0m\u001b[1;33m[\u001b[0m\u001b[1;34m'nout'\u001b[0m\u001b[1;33m]\u001b[0m \u001b[1;33m+=\u001b[0m \u001b[1;36m187\u001b[0m \u001b[1;33m-\u001b[0m \u001b[0mnout_max\u001b[0m\u001b[1;33m\u001b[0m\u001b[0m\n\u001b[0;32m     35\u001b[0m     \u001b[0mprint\u001b[0m\u001b[1;33m(\u001b[0m\u001b[1;34m\"------ NOUT fixed\"\u001b[0m\u001b[1;33m)\u001b[0m\u001b[1;33m\u001b[0m\u001b[0m\n\u001b[1;32m---> 36\u001b[1;33m     \u001b[0malltrees\u001b[0m\u001b[1;33m.\u001b[0m\u001b[0mdata\u001b[0m \u001b[1;33m=\u001b[0m \u001b[0mctu\u001b[0m\u001b[1;33m.\u001b[0m\u001b[0maugment_tree\u001b[0m\u001b[1;33m(\u001b[0m\u001b[0malltrees\u001b[0m\u001b[1;33m.\u001b[0m\u001b[0mdata\u001b[0m\u001b[1;33m,\u001b[0m \u001b[0mwdir\u001b[0m\u001b[1;33m,\u001b[0m \u001b[0mis_gal\u001b[0m\u001b[1;33m=\u001b[0m\u001b[0mis_gal\u001b[0m\u001b[1;33m)\u001b[0m\u001b[1;33m\u001b[0m\u001b[0m\n\u001b[0m\u001b[0;32m     37\u001b[0m     \u001b[0mprint\u001b[0m\u001b[1;33m(\u001b[0m\u001b[1;34m\"------ tree data extended\"\u001b[0m\u001b[1;33m)\u001b[0m\u001b[1;33m\u001b[0m\u001b[0m\n\u001b[0;32m     38\u001b[0m \u001b[1;33m\u001b[0m\u001b[0m\n",
      "\u001b[1;31mNameError\u001b[0m: name 'ctu' is not defined"
     ]
    }
   ],
   "source": [
    "from tree import treemodule\n",
    "from tree import treeutils\n",
    "import pickle\n",
    "import numpy as np\n",
    "\n",
    "alltrees = treemodule.CTree()\n",
    "#wdir = '/home/hoseung/Work/data/05427/'\n",
    "wdir = './'\n",
    "is_gal = True\n",
    "\n",
    "if is_gal:\n",
    "    # Galaxy tree\n",
    "    tree_path = 'GalaxyMaker/Trees/'\n",
    "else:\n",
    "    # halo tree\n",
    "    tree_path = 'halo/Trees/'\n",
    "\n",
    "load_extended_tree = True\n",
    "    \n",
    "if load_extended_tree:    \n",
    "    try:\n",
    "        alltrees = pickle.load(open(wdir + tree_path + \"extended_tree.pickle\", \"rb\" ))\n",
    "        print(\"Loaded an extended tree\")\n",
    "    except:\n",
    "        load_extended_tree = False\n",
    "\n",
    "if not load_extended_tree:\n",
    "    \"\"\"\n",
    "        info file of each snapshot are required.\n",
    "    \"\"\"\n",
    "    alltrees = treemodule.CTree()\n",
    "    alltrees.load(filename= wdir + tree_path + 'tree_0_0_0.dat')\n",
    "    # Fix nout -----------------------------------------------------\n",
    "    nout_max = alltrees.data['nout'].max()\n",
    "    alltrees.data['nout'] += 187 - nout_max\n",
    "    print(\"------ NOUT fixed\")\n",
    "    alltrees.data = ctu.augment_tree(alltrees.data, wdir, is_gal=is_gal)\n",
    "    print(\"------ tree data extended\")\n",
    "\n"
   ]
  },
  {
   "cell_type": "code",
   "execution_count": 4,
   "metadata": {
    "collapsed": true
   },
   "outputs": [],
   "source": [
    "def extract_main_tree(treedata, idx=None, verbose=False):\n",
    "    \"\"\"\n",
    "        Returns a single branch/trunk of tree following only the main progenitors.\n",
    "        Works with both alltrees or atree.\n",
    "        Search until no progenitor is found. Doesn't matter how long the given tree is. \n",
    "        Only earlier snapshots are searched for.\n",
    "    \"\"\"\n",
    "    \n",
    "    if idx == None:\n",
    "        idx = treedata['id'][0]\n",
    "        if verbose:\n",
    "            print(\"No idx is given\")\n",
    "            print(\"idx = \", idx)\n",
    "\n",
    "    \n",
    "    nprg = 1\n",
    "    ind_list=[np.where(treedata['id'] == idx)[0][0]]\n",
    "    \n",
    "    # main progenitor = mmp.\n",
    "    while nprg > 0:        \n",
    "        idx = ctu.get_progenitors(treedata, idx, main=True)\n",
    "#        print(idx)\n",
    "        ind_list.append(np.where(treedata['id'] == idx[0])[0][0])\n",
    "\n",
    "        nprg = ctu.get_npr(treedata, idx[0])\n",
    "\n",
    "    return treedata[ind_list]"
   ]
  },
  {
   "cell_type": "code",
   "execution_count": null,
   "metadata": {
    "collapsed": true
   },
   "outputs": [],
   "source": [
    "def plot_atree(atree, galid):\n",
    "    fig, ax = plt.subplots(1)\n",
    "    ax.scatter(atree['aexp'], np.log10(atree['m']))\n",
    "    ax.title(galid)\n",
    "    plt.savefig(wdir + \"mergertrees/\" + sidgal + '.png')"
   ]
  },
  {
   "cell_type": "code",
   "execution_count": 5,
   "metadata": {
    "collapsed": false
   },
   "outputs": [
    {
     "name": "stderr",
     "output_type": "stream",
     "text": [
      "/home/hoseung/.local/lib/python3.4/site-packages/IPython/kernel/__main__.py:42: RuntimeWarning: divide by zero encountered in log10\n",
      "/home/hoseung/.local/lib/python3.4/site-packages/IPython/kernel/__main__.py:43: RuntimeWarning: divide by zero encountered in log10\n",
      "/home/hoseung/.local/lib/python3.4/site-packages/matplotlib/collections.py:590: FutureWarning: elementwise comparison failed; returning scalar instead, but in the future will perform elementwise comparison\n",
      "  if self._edgecolors == str('face'):\n",
      "/home/hoseung/.local/lib/python3.4/site-packages/matplotlib/pyplot.py:424: RuntimeWarning: More than 20 figures have been opened. Figures created through the pyplot interface (`matplotlib.pyplot.figure`) are retained until explicitly closed and may consume too much memory. (To control this warning, see the rcParam `figure.max_open_warning`).\n",
      "  max_open_warning, RuntimeWarning)\n"
     ]
    }
   ],
   "source": [
    "import matplotlib.pyplot as plt\n",
    "\n",
    "nout_fi = 187\n",
    "nout_ini = 30\n",
    "\n",
    "\n",
    "i_final = np.where(alltrees.data[\"nout\"] == nout_fi)\n",
    "ttt_sub = alltrees.data[i_final]\n",
    "\n",
    "nouts = np.arange(nout_fi - nout_ini + 1)\n",
    "\n",
    "final_gals = ttt_sub['id']\n",
    "final_gals_org = ttt_sub['Orig_halo_id']\n",
    "\n",
    "plt.ioff()\n",
    "\n",
    "#figure(figsize=[6,6])\n",
    "#ax = fig.add_subplot(211)\n",
    "\n",
    "#aexps = np.unique(alltrees.data[\"aexp\"])[:len(nouts)]\n",
    "aexps = np.unique(alltrees.data[\"aexp\"])[:-len(nouts):-1]\n",
    "zreds = [\"%.2f\" % (1/i -1) for i in aexps]\n",
    "\n",
    "import os\n",
    "if not os.path.isdir(wdir + \"mergertrees/\"):\n",
    "    os.mkdir(wdir + \"mergertrees/\")\n",
    "\n",
    "\n",
    "for galid in final_gals:\n",
    "    #galid = 42216\n",
    "    #galid = 42207\n",
    "    plt.clf()\n",
    "    fig, ax = plt.subplots(1,2)\n",
    "    fig.set_size_inches([12,6])\n",
    "    \n",
    "    sidgal = str(galid).zfill(5)      \n",
    "    \n",
    "    #print(zreds)\n",
    "    atree = ctu.extract_a_tree(alltrees.data, galid)\n",
    "    mtree = extract_main_tree(atree)\n",
    "    \n",
    "    ax[0].scatter(atree['aexp'], np.log10(atree['m']), edgecolors='none', alpha=0.3)\n",
    "    ax[0].scatter(mtree['aexp'], np.log10(mtree['m']), edgecolors='none', alpha=0.6,\n",
    "                  facecolors='red')\n",
    "    ax[0].set_xlim([0.15,1.1])\n",
    "    ax[0].set_xticks(aexps[0:151:20])\n",
    "    ax[0].set_xticklabels(zreds[0:151:20])\n",
    "    ax[0].set_title(galid)\n",
    "    \n",
    "    recursive_tree(galid, atree, 150, ax[1], 0, 0, 0.8, mass_unit=2e8)\n",
    "    \n",
    "    # y axis label (redshift)\n",
    "    ax[1].set_ylabel(\"Redshift\")\n",
    "    #ax.set_xlim([-0.5,30])\n",
    "    ax[1].set_ylim([-5,155])\n",
    "    ax[1].set_yticks(range(0,151,10))\n",
    "    ax[1].set_yticklabels(zreds[0:151:10])\n",
    "    #plt.yticks(range(0,151,10), zreds[0:151:10])\n",
    "    ax[1].set_title(sidgal + \", \" + str(atree[0]['Orig_halo_id']))\n",
    "    #fig.show()\n",
    "    plt.savefig(wdir + \"mergertrees/\" + sidgal + '.png')\n",
    "    #plt.close()\n",
    "\n",
    "\n",
    "plt.close()"
   ]
  },
  {
   "cell_type": "markdown",
   "metadata": {},
   "source": [
    "It's working well. \n",
    "Now search the tree to calculate construct catalog, and search for mergers."
   ]
  }
 ],
 "metadata": {
  "kernelspec": {
   "display_name": "Python 3",
   "language": "python",
   "name": "python3"
  },
  "language_info": {
   "codemirror_mode": {
    "name": "ipython",
    "version": 3
   },
   "file_extension": ".py",
   "mimetype": "text/x-python",
   "name": "python",
   "nbconvert_exporter": "python",
   "pygments_lexer": "ipython3",
   "version": "3.4.3"
  }
 },
 "nbformat": 4,
 "nbformat_minor": 0
}
