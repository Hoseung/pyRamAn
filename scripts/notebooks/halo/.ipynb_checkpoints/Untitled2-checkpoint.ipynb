{
 "cells": [
  {
   "cell_type": "code",
   "execution_count": 91,
   "metadata": {
    "collapsed": true
   },
   "outputs": [],
   "source": [
    "import time\n",
    "import numpy as np\n",
    "\n",
    "def extract_data(halo, rscale=1.25, radius='rvir'):\n",
    "    xc_tmp0 = halo['x']\n",
    "    yc_tmp0 = halo['y']\n",
    "    zc_tmp0 = halo['z']\n",
    "       \n",
    "    #rr_tmp0 = min([halo[radius] * rscale, 0.0002]) \n",
    "    rr_tmp0 = max([halo[radius] * rscale, 0.0001])\n",
    "    # arbitrary! < 20kpc/h\n",
    "    \n",
    "    # When merger occurs, larger radius is likely to include \n",
    "    # companion galaxy resulting center to be in the middle of nowhere.\n",
    "    # If you want a larger galaxy, # increase rgal_tmp instead. \n",
    "    #        \n",
    "    # xx is easier to search for than x.\n",
    "\n",
    "    if star_all is not None:\n",
    "        ind_s = np.where((star_all['x'] - xc_tmp0)**2 + (star_all['y'] - yc_tmp0)**2 \n",
    "                        + (star_all['z'] - zc_tmp0)**2 < rr_tmp0**2)[0]\n",
    "    if dm_all is not None:\n",
    "        ind_d = np.where((dm_all['x'] - xc_tmp0)**2 + (dm_all['y'] - yc_tmp0)**2 \n",
    "                        + (dm_all['z'] - zc_tmp0)**2 < rr_tmp0**2)[0]\n",
    "    if cell_all is not None:\n",
    "        ind_c = np.where((cell_all['x'] - xc_tmp0)**2 + (cell_all['y'] - yc_tmp0)**2 \n",
    "                        + (cell_all['z'] - zc_tmp0)**2 < rr_tmp0**2)[0]\n",
    "    else:\n",
    "        return star_all[ind_s], dm_all[ind_d], None\n",
    "        \n",
    "    return star_all[ind_s], dm_all[ind_d], cell_all[ind_c]\n",
    "\n",
    "\n",
    "\n",
    "def mk_gal(halodata, info, i, idx,\n",
    "           save=False, rscale=1.5, verbose=False, galaxy_plot_dir='./',\n",
    "           rscale_lambda=3.0, npix_lambda=50, npix=400, galaxy_plot=False,\n",
    "           method_com=2, mstar_min=5e9):\n",
    "    \n",
    "    from galaxy.galaxy2 import Galaxy\n",
    "\n",
    "    rscale_extract = 1.1\n",
    "    star, dm, cell = extract_data(h.data[i], rscale=rscale_extract, radius='rvir')\n",
    "    if mstar_min > 0.:\n",
    "        if sum(star['m']) * info.msun < mstar_min:\n",
    "            print(\"(1)Not enough stars: {:.2f} Msun\".format(sum(star['m']) * info.msun))\n",
    "            print(\"Aborting... \\n\")\n",
    "            print(\" Not a good galaxy\")\n",
    "            out_q.put(gal_out)\n",
    "            return\n",
    "               \n",
    "    #Create galaxy ----------------------------------------------\n",
    "    gal = Galaxy(halodata, radius_method='eff', info=info)\n",
    "    #print(i, time.time() - t, \"seconds ---2\")\n",
    "    good_gal = gal.mk_gal_from_gal(star, dm, cell,\n",
    "                        mstar_min=mstar_min,\n",
    "               rscale=min([rscale,rscale_extract]), verbose=verbose, method_com=method_com)\n",
    "\n",
    "    \n",
    "    gal.cal_lambda_r(npix=npix_lambda, method=1, rscale=rscale_lambda) # calculate within 1.0 * reff    \n",
    "\n",
    "    gal.plot_gal(fn_save = galaxy_plot_dir + str(nout).zfill(3) \\\n",
    "                         + \"_\" + str(idx).zfill(7) + \"_\"  \\\n",
    "                         + str(gal.id) + \".png\", ioff=True)\n",
    "                             \n",
    "    return gal\n",
    "   "
   ]
  },
  {
   "cell_type": "code",
   "execution_count": 92,
   "metadata": {
    "collapsed": true
   },
   "outputs": [],
   "source": [
    "def photometry(img, nbin, npix_img, l_img):\n",
    "    \"\"\"\n",
    "    What does it do? \n",
    "    \n",
    "    \"\"\"\n",
    "    arr=np.recarray((nbin,), dtype=[(\"eps\", np.float),\n",
    "                 (\"mjr\", np.float), (\"pa\", np.float),\n",
    "                 (\"xpos\", np.float), (\"ypos\", np.float)])\n",
    "\n",
    "    for i, frac in enumerate(np.linspace(0.005, 0.15, num=nbin, endpoint=True)):\n",
    "        f = mge.find_galaxy.find_galaxy(data, quiet=True, plot=True, mask_shade=False, fraction=frac)\n",
    "        arr.mjr[i] = f.majoraxis\n",
    "        arr.eps[i] = f.eps\n",
    "        arr.pa[i] = f.theta\n",
    "        arr.xpos[i] = f.xpeak\n",
    "        arr.ypos[i] = f.ypeak\n",
    "\n",
    "    # convert units\n",
    "    arr.mjr = arr.mjr * 3.5 / npix_img * l_img # in kpc.\n",
    "    arr.xpos = (arr.xpos / npix_img - 0.5) * l_img # in kpc.\n",
    "    arr.ypos = (arr.ypos / npix_img - 0.5) * l_img # in kpc.\n",
    "        \n",
    "    return arr\n",
    "\n",
    "def sigmap_vmap(self, npix, ind_ok=None):\n",
    "    if ind_ok is None:\n",
    "        rr = self.reff * self.rscale_lambda\n",
    "\n",
    "        ind_ok = np.where((abs(self.star[\"x\"]) <= rr) &\n",
    "                          (abs(self.star[\"y\"]) <= rr) &\n",
    "                          (abs(self.star[\"z\"]) <= rr) )[0]\n",
    "        \n",
    "        print((\"\\n\" \"Calculating Lambda_r for {} particles \"\n",
    "           \"inside {:.3f}kpc, or {}Reff\".format(len(ind_ok), rr, rscale)))\n",
    "\n",
    "    x = self.star['x'][ind_ok]\n",
    "    y = self.star['y'][ind_ok]\n",
    "    m = self.star['m'][ind_ok]\n",
    "    vz = self.star['vz'][ind_ok]\n",
    "\n",
    "    # NGP charge assignment\n",
    "    nx = npix\n",
    "    ny = npix\n",
    "\n",
    "    # distance in pixel unit.\n",
    "    dist2d=np.zeros((nx, ny), dtype=float)\n",
    "    for i in range(nx):\n",
    "        for j in range(ny):\n",
    "            dist2d[i][j]= np.sqrt((0.5 + i - nx/2)**2 + (0.5 + j - ny/2)**2)\n",
    "\n",
    "    dist1d = dist2d.ravel()\n",
    "\n",
    "    # fix center explicitely.\n",
    "    # 0.5 * (min + max) != center\n",
    "    xx = (x + rr) / rr * 0.5 * nx\n",
    "    yy = (y + rr) / rr * 0.5 * ny\n",
    "\n",
    "    ngx = np.clip(np.fix(xx), 0, nx-1)\n",
    "    ngy = np.clip(np.fix(yy), 0, ny-1)\n",
    "\n",
    "    indices = ngx + ngy * nx\n",
    "\n",
    "    mmap = np.zeros(nx * ny, dtype=float)\n",
    "    for i, ind in enumerate(indices):\n",
    "        mmap[ind] += m[i]\n",
    "\n",
    "    dx = (2 * rr) / npix2\n",
    "    mmap = mmap / (dx*dx)\n",
    "    self.mmap = mmap.reshape(nx, ny)\n",
    "\n",
    "    vmap = np.zeros(nx * ny, dtype=float)\n",
    "    # mass-weighted sigma         \n",
    "    sigmap=np.zeros(nx * ny, dtype=float)\n",
    "    for i in range(nx * ny):\n",
    "        ind = np.where(indices == i)[0]\n",
    "        if len(ind) > 0:\n",
    "            sigmap[i] = self.weighted_std(vz[ind], m[ind])\n",
    "            vmap[i] = np.average(vz[ind], weights=m[ind])\n",
    "        else:\n",
    "            sigmap[i] = 0\n",
    "            vmap[i] = 0\n",
    "\n",
    "    return sigmap.reshape(nx, ny), vmap.reshape(nx, ny)"
   ]
  },
  {
   "cell_type": "code",
   "execution_count": 93,
   "metadata": {
    "collapsed": false
   },
   "outputs": [
    {
     "name": "stdout",
     "output_type": "stream",
     "text": [
      "Ranges = [[array([ 0.58649516], dtype=float32), array([ 0.58822393], dtype=float32)], [array([ 0.74074751], dtype=float32), array([ 0.74247628], dtype=float32)], [array([ 0.51011389], dtype=float32), array([ 0.51184267], dtype=float32)]]\n",
      "\n",
      "No AMR instance,\n",
      "Loading one...\n"
     ]
    },
    {
     "ename": "FileNotFoundError",
     "evalue": "[Errno 2] No such file or directory: '/home/hoseung/Work/data/36415/snapshots/output_00187/amr_00187.out00001'",
     "output_type": "error",
     "traceback": [
      "\u001b[1;31m---------------------------------------------------------------------------\u001b[0m",
      "\u001b[1;31mFileNotFoundError\u001b[0m                         Traceback (most recent call last)",
      "\u001b[1;32m<ipython-input-93-05ba5042cc7d>\u001b[0m in \u001b[0;36m<module>\u001b[1;34m()\u001b[0m\n\u001b[0;32m     55\u001b[0m \u001b[1;33m\u001b[0m\u001b[0m\n\u001b[0;32m     56\u001b[0m \u001b[1;33m\u001b[0m\u001b[0m\n\u001b[1;32m---> 57\u001b[1;33m \u001b[0ms\u001b[0m \u001b[1;33m=\u001b[0m \u001b[0mload\u001b[0m\u001b[1;33m.\u001b[0m\u001b[0msim\u001b[0m\u001b[1;33m.\u001b[0m\u001b[0mSim\u001b[0m\u001b[1;33m(\u001b[0m\u001b[0mnout\u001b[0m\u001b[1;33m=\u001b[0m\u001b[0mnout\u001b[0m\u001b[1;33m,\u001b[0m \u001b[0mbase\u001b[0m\u001b[1;33m=\u001b[0m\u001b[0mwdir\u001b[0m\u001b[1;33m,\u001b[0m \u001b[0msetup\u001b[0m\u001b[1;33m=\u001b[0m\u001b[1;32mTrue\u001b[0m\u001b[1;33m,\u001b[0m \u001b[0mregion\u001b[0m \u001b[1;33m=\u001b[0m \u001b[0mregion\u001b[0m\u001b[1;33m)\u001b[0m\u001b[1;33m\u001b[0m\u001b[0m\n\u001b[0m\u001b[0;32m     58\u001b[0m \u001b[1;31m#s.set_ranges(region = region)\u001b[0m\u001b[1;33m\u001b[0m\u001b[1;33m\u001b[0m\u001b[0m\n\u001b[0;32m     59\u001b[0m \u001b[0ms\u001b[0m\u001b[1;33m.\u001b[0m\u001b[0madd_part\u001b[0m\u001b[1;33m(\u001b[0m\u001b[0mptypes\u001b[0m\u001b[1;33m,\u001b[0m \u001b[0mload\u001b[0m\u001b[1;33m=\u001b[0m\u001b[1;32mTrue\u001b[0m\u001b[1;33m,\u001b[0m \u001b[0mfortran\u001b[0m\u001b[1;33m=\u001b[0m\u001b[1;32mTrue\u001b[0m\u001b[1;33m)\u001b[0m\u001b[1;33m\u001b[0m\u001b[0m\n",
      "\u001b[1;32m/home/hoseung/Copy/pyclusterevol/load/sim.py\u001b[0m in \u001b[0;36m__init__\u001b[1;34m(self, nout, base, data_dir, ranges, dmo, setup, region)\u001b[0m\n\u001b[0;32m    291\u001b[0m                       [region['zc'] - region['radius'], region['zc'] + region['radius']]]\n\u001b[0;32m    292\u001b[0m         \u001b[1;32mif\u001b[0m \u001b[0msetup\u001b[0m\u001b[1;33m:\u001b[0m\u001b[1;33m\u001b[0m\u001b[0m\n\u001b[1;32m--> 293\u001b[1;33m             \u001b[0mself\u001b[0m\u001b[1;33m.\u001b[0m\u001b[0msetup\u001b[0m\u001b[1;33m(\u001b[0m\u001b[0mnout\u001b[0m\u001b[1;33m,\u001b[0m \u001b[0mbase\u001b[0m\u001b[1;33m,\u001b[0m \u001b[0mdata_dir\u001b[0m\u001b[1;33m,\u001b[0m \u001b[0mranges\u001b[0m\u001b[1;33m,\u001b[0m \u001b[0mdmo\u001b[0m\u001b[1;33m)\u001b[0m\u001b[1;33m\u001b[0m\u001b[0m\n\u001b[0m\u001b[0;32m    294\u001b[0m \u001b[1;33m\u001b[0m\u001b[0m\n\u001b[0;32m    295\u001b[0m     \u001b[1;32mdef\u001b[0m \u001b[0m__call__\u001b[0m\u001b[1;33m(\u001b[0m\u001b[0mself\u001b[0m\u001b[1;33m,\u001b[0m \u001b[1;33m*\u001b[0m\u001b[0margs\u001b[0m\u001b[1;33m)\u001b[0m\u001b[1;33m:\u001b[0m\u001b[1;33m\u001b[0m\u001b[0m\n",
      "\u001b[1;32m/home/hoseung/Copy/pyclusterevol/load/sim.py\u001b[0m in \u001b[0;36msetup\u001b[1;34m(self, nout, base, data_dir, ranges, dmo)\u001b[0m\n\u001b[0;32m    309\u001b[0m         \u001b[0mself\u001b[0m\u001b[1;33m.\u001b[0m\u001b[0madd_info\u001b[0m\u001b[1;33m(\u001b[0m\u001b[1;33m)\u001b[0m\u001b[1;33m\u001b[0m\u001b[0m\n\u001b[0;32m    310\u001b[0m         \u001b[1;31m# set_data_dir and set_range needs info instance be exist.\u001b[0m\u001b[1;33m\u001b[0m\u001b[1;33m\u001b[0m\u001b[0m\n\u001b[1;32m--> 311\u001b[1;33m         \u001b[0mself\u001b[0m\u001b[1;33m.\u001b[0m\u001b[0mset_ranges\u001b[0m\u001b[1;33m(\u001b[0m\u001b[0mranges\u001b[0m\u001b[1;33m)\u001b[0m\u001b[1;33m\u001b[0m\u001b[0m\n\u001b[0m\u001b[0;32m    312\u001b[0m \u001b[1;33m\u001b[0m\u001b[0m\n\u001b[0;32m    313\u001b[0m         \u001b[1;32mif\u001b[0m \u001b[0mself\u001b[0m\u001b[1;33m.\u001b[0m\u001b[0mall_set\u001b[0m\u001b[1;33m(\u001b[0m\u001b[1;33m)\u001b[0m\u001b[1;33m:\u001b[0m\u001b[1;33m\u001b[0m\u001b[0m\n",
      "\u001b[1;32m/home/hoseung/Copy/pyclusterevol/load/sim.py\u001b[0m in \u001b[0;36mset_ranges\u001b[1;34m(self, ranges)\u001b[0m\n\u001b[0;32m    409\u001b[0m                 \u001b[0mprint\u001b[0m\u001b[1;33m(\u001b[0m\u001b[1;34m\"There is no info._set_ranges attribute\"\u001b[0m\u001b[1;33m)\u001b[0m\u001b[1;33m\u001b[0m\u001b[0m\n\u001b[0;32m    410\u001b[0m             \u001b[0mself\u001b[0m\u001b[1;33m.\u001b[0m\u001b[0mshow_ranges\u001b[0m\u001b[1;33m(\u001b[0m\u001b[1;33m)\u001b[0m\u001b[1;33m\u001b[0m\u001b[0m\n\u001b[1;32m--> 411\u001b[1;33m             \u001b[0mself\u001b[0m\u001b[1;33m.\u001b[0m\u001b[0mset_cpus\u001b[0m\u001b[1;33m(\u001b[0m\u001b[0mself\u001b[0m\u001b[1;33m.\u001b[0m\u001b[0m_hilbert_cpulist\u001b[0m\u001b[1;33m(\u001b[0m\u001b[0mself\u001b[0m\u001b[1;33m.\u001b[0m\u001b[0minfo\u001b[0m\u001b[1;33m,\u001b[0m \u001b[0mself\u001b[0m\u001b[1;33m.\u001b[0m\u001b[0mranges\u001b[0m\u001b[1;33m)\u001b[0m\u001b[1;33m)\u001b[0m\u001b[1;33m\u001b[0m\u001b[0m\n\u001b[0m\u001b[0;32m    412\u001b[0m \u001b[1;33m\u001b[0m\u001b[0m\n\u001b[0;32m    413\u001b[0m     \u001b[1;32mdef\u001b[0m \u001b[0mshow_ranges\u001b[0m\u001b[1;33m(\u001b[0m\u001b[0mself\u001b[0m\u001b[1;33m)\u001b[0m\u001b[1;33m:\u001b[0m\u001b[1;33m\u001b[0m\u001b[0m\n",
      "\u001b[1;32m/home/hoseung/Copy/pyclusterevol/load/sim.py\u001b[0m in \u001b[0;36m_hilbert_cpulist\u001b[1;34m(self, info, ranges)\u001b[0m\n\u001b[0;32m     31\u001b[0m             \u001b[0mprint\u001b[0m\u001b[1;33m(\u001b[0m\u001b[1;34m\"No AMR instance,\"\u001b[0m\u001b[1;33m)\u001b[0m\u001b[1;33m\u001b[0m\u001b[0m\n\u001b[0;32m     32\u001b[0m             \u001b[0mprint\u001b[0m\u001b[1;33m(\u001b[0m\u001b[1;34m\"Loading one...\"\u001b[0m\u001b[1;33m)\u001b[0m\u001b[1;33m\u001b[0m\u001b[0m\n\u001b[1;32m---> 33\u001b[1;33m             \u001b[0mself\u001b[0m\u001b[1;33m.\u001b[0m\u001b[0madd_amr\u001b[0m\u001b[1;33m(\u001b[0m\u001b[1;33m)\u001b[0m\u001b[1;33m\u001b[0m\u001b[0m\n\u001b[0m\u001b[0;32m     34\u001b[0m         \u001b[0mnlevelmax\u001b[0m \u001b[1;33m=\u001b[0m \u001b[0mself\u001b[0m\u001b[1;33m.\u001b[0m\u001b[0mamr\u001b[0m\u001b[1;33m.\u001b[0m\u001b[0mheader\u001b[0m\u001b[1;33m.\u001b[0m\u001b[0mnlevelmax\u001b[0m\u001b[1;33m\u001b[0m\u001b[0m\n\u001b[0;32m     35\u001b[0m         \u001b[0mnboundary\u001b[0m \u001b[1;33m=\u001b[0m \u001b[0mself\u001b[0m\u001b[1;33m.\u001b[0m\u001b[0mamr\u001b[0m\u001b[1;33m.\u001b[0m\u001b[0mheader\u001b[0m\u001b[1;33m.\u001b[0m\u001b[0mnboundary\u001b[0m\u001b[1;33m\u001b[0m\u001b[0m\n",
      "\u001b[1;32m/home/hoseung/Copy/pyclusterevol/load/sim.py\u001b[0m in \u001b[0;36madd_amr\u001b[1;34m(self)\u001b[0m\n\u001b[0;32m     18\u001b[0m     \u001b[1;32mdef\u001b[0m \u001b[0madd_amr\u001b[0m\u001b[1;33m(\u001b[0m\u001b[0mself\u001b[0m\u001b[1;33m)\u001b[0m\u001b[1;33m:\u001b[0m\u001b[1;33m\u001b[0m\u001b[0m\n\u001b[0;32m     19\u001b[0m         \u001b[1;32mfrom\u001b[0m \u001b[0mload\u001b[0m \u001b[1;32mimport\u001b[0m \u001b[0mamr\u001b[0m\u001b[1;33m\u001b[0m\u001b[0m\n\u001b[1;32m---> 20\u001b[1;33m         \u001b[0mself\u001b[0m\u001b[1;33m.\u001b[0m\u001b[0mamr\u001b[0m \u001b[1;33m=\u001b[0m \u001b[0mamr\u001b[0m\u001b[1;33m.\u001b[0m\u001b[0mAmr\u001b[0m\u001b[1;33m(\u001b[0m\u001b[0mself\u001b[0m\u001b[1;33m.\u001b[0m\u001b[0minfo\u001b[0m\u001b[1;33m)\u001b[0m\u001b[1;33m\u001b[0m\u001b[0m\n\u001b[0m\u001b[0;32m     21\u001b[0m         \u001b[0mprint\u001b[0m\u001b[1;33m(\u001b[0m\u001b[1;34m\"An AMR instance is created\\n\"\u001b[0m\u001b[1;33m)\u001b[0m\u001b[1;33m\u001b[0m\u001b[0m\n\u001b[0;32m     22\u001b[0m \u001b[1;33m\u001b[0m\u001b[0m\n",
      "\u001b[1;32m/home/hoseung/Copy/pyclusterevol/load/amr.py\u001b[0m in \u001b[0;36m__init__\u001b[1;34m(self, info)\u001b[0m\n\u001b[0;32m    192\u001b[0m         \u001b[0mself\u001b[0m\u001b[1;33m.\u001b[0m\u001b[0minfo\u001b[0m \u001b[1;33m=\u001b[0m \u001b[0minfo\u001b[0m\u001b[1;33m\u001b[0m\u001b[0m\n\u001b[0;32m    193\u001b[0m         \u001b[0mself\u001b[0m\u001b[1;33m.\u001b[0m\u001b[0m_fnbase\u001b[0m \u001b[1;33m=\u001b[0m \u001b[0minfo\u001b[0m\u001b[1;33m.\u001b[0m\u001b[0mbase\u001b[0m \u001b[1;33m+\u001b[0m \u001b[1;34m'/snapshots/output_'\u001b[0m \u001b[1;33m+\u001b[0m \u001b[0msnout\u001b[0m \u001b[1;33m+\u001b[0m \u001b[1;34m'/amr_'\u001b[0m \u001b[1;33m+\u001b[0m \u001b[0msnout\u001b[0m \u001b[1;33m+\u001b[0m \u001b[1;34m'.out'\u001b[0m\u001b[1;33m\u001b[0m\u001b[0m\n\u001b[1;32m--> 194\u001b[1;33m         \u001b[0mf\u001b[0m \u001b[1;33m=\u001b[0m \u001b[0mopen\u001b[0m\u001b[1;33m(\u001b[0m\u001b[0mself\u001b[0m\u001b[1;33m.\u001b[0m\u001b[0m_fnbase\u001b[0m \u001b[1;33m+\u001b[0m \u001b[1;34m'00001'\u001b[0m\u001b[1;33m,\u001b[0m \u001b[1;34m\"rb\"\u001b[0m\u001b[1;33m)\u001b[0m\u001b[1;33m\u001b[0m\u001b[0m\n\u001b[0m\u001b[0;32m    195\u001b[0m \u001b[1;33m\u001b[0m\u001b[0m\n\u001b[0;32m    196\u001b[0m         \u001b[0mself\u001b[0m\u001b[1;33m.\u001b[0m\u001b[0mheader\u001b[0m \u001b[1;33m=\u001b[0m \u001b[0mAmrHeader\u001b[0m\u001b[1;33m(\u001b[0m\u001b[1;33m)\u001b[0m\u001b[1;33m\u001b[0m\u001b[0m\n",
      "\u001b[1;31mFileNotFoundError\u001b[0m: [Errno 2] No such file or directory: '/home/hoseung/Work/data/36415/snapshots/output_00187/amr_00187.out00001'"
     ]
    }
   ],
   "source": [
    "#%%\n",
    "\n",
    "\"\"\"\n",
    "The processing pool needs to be instantiated in the main \n",
    "thread of execution. \n",
    "\"\"\"\n",
    "import load\n",
    "import matplotlib.pyplot as plt\n",
    "from tree import tmtree, treemodule\n",
    "import tree.ctutils as ctu\n",
    "import utils.sampling as smp\n",
    "import tree.halomodule as hmo \n",
    "import os\n",
    "import pickle\n",
    "hydro = True\n",
    "is_gal = True\n",
    "\n",
    "wdir = '/home/hoseung/Work/data/05427/'\n",
    "nout = 187\n",
    "halo_ok = 426\n",
    "\n",
    "\n",
    "#----------------------------------------------------------------------\n",
    "mstar_min = 5e9\n",
    "# Only galaxies above this stellar mass at the final snapshot are considered.\n",
    "\n",
    "mk_gal_rscale = 2.0 # unit of Rvir,galaxy\n",
    "rscale = 1.5\n",
    "npix=800\n",
    "rscale_lambda = 3.0 # Reff unit.\n",
    "npix_lambda = int(10 * rscale_lambda)\n",
    "lmax = 19\n",
    "ptypes=[\"star id pos mass vel time metal\", \"dm id pos mass vel\"]\n",
    "\n",
    "## halo part -----------------------------------------------------------\n",
    "m_halo_min = 5e9 # minimum galaxy mass above which galaxies are searched for. \n",
    "dir_out = wdir + 'catalog_GM/'\n",
    "\n",
    "# optional parameters ----------------------------------------------------\n",
    "do_galaxy_plot=False\n",
    "lambda_plot = False\n",
    "\n",
    "info = load.info.Info(nout=nout, base=wdir, load=True)\n",
    "\n",
    "# Do I really need halo bricks?\n",
    "hh = hmo.Halo(base=wdir, nout=nout, halofinder='HM', info=info, load=True, is_gal=is_gal)\n",
    "hind = hh.data['id'] == halo_ok\n",
    "h = hmo.Halo(base=wdir, nout=nout, halofinder='HM', info=info, is_gal=is_gal)\n",
    "h.derive_from(hh, hind)\n",
    "halodata = h.data\n",
    "region = smp.set_region(xc=halodata['x'],\n",
    "                    yc=halodata['y'],\n",
    "                    zc=halodata['z'],\n",
    "                    radius = halodata['rvir'])\n",
    "\n",
    "\n",
    "s = load.sim.Sim(nout=nout, base=wdir, setup=True, region = region)\n",
    "#s.set_ranges(region = region)\n",
    "s.add_part(ptypes, load=True, fortran=True)\n",
    "\n",
    "if hydro:\n",
    "    s.add_hydro(load=True, lmax=lmax)\n",
    "    cell_all = s.hydro.cell\n",
    "else:\n",
    "    cell_all = None\n",
    "\n",
    "star_all = s.part.star\n",
    "dm_all = s.part.dm\n",
    "\n",
    "keywords = dict(galaxy_plot_dir='./',\n",
    "            rscale = mk_gal_rscale,\n",
    "            verbose=False, rscale_lambda=rscale_lambda,\n",
    "            npix_lambda=npix_lambda, galaxy_plot = do_galaxy_plot,\n",
    "            mstar_min=mstar_min)\n",
    "\n",
    "\n",
    "from queue import Queue\n",
    "out_q = Queue()\n",
    "\n",
    "gal = mk_gal(h.data, s.info, 0, 12345, **keywords)\n",
    "\n",
    "print(\"----------Done---------\")"
   ]
  },
  {
   "cell_type": "code",
   "execution_count": 90,
   "metadata": {
    "collapsed": false
   },
   "outputs": [
    {
     "name": "stdout",
     "output_type": "stream",
     "text": [
      " Pixels used: 82\n",
      " Peak Img[j, k]: 61 64\n",
      " Mean (j, k): 62.26 64.17\n",
      " Theta (deg): 77.0\n",
      " Astro PA (deg): 13.0\n",
      " Eps: 0.232\n",
      " Sigma along major axis (pix): 2.8\n",
      " Pixels used: 246\n",
      " Peak Img[j, k]: 61 64\n",
      " Mean (j, k): 62.19 64.03\n",
      " Theta (deg): 66.4\n",
      " Astro PA (deg): 23.6\n",
      " Eps: 0.196\n",
      " Sigma along major axis (pix): 4.6\n",
      " Pixels used: 410\n",
      " Peak Img[j, k]: 61 64\n",
      " Mean (j, k): 62.41 64.05\n",
      " Theta (deg): 60.8\n",
      " Astro PA (deg): 29.2\n",
      " Eps: 0.166\n",
      " Sigma along major axis (pix): 5.8\n",
      " Pixels used: 574\n",
      " Peak Img[j, k]: 61 64\n",
      " Mean (j, k): 62.49 63.82\n",
      " Theta (deg): 64.0\n",
      " Astro PA (deg): 26.0\n",
      " Eps: 0.126\n",
      " Sigma along major axis (pix): 6.6\n",
      " Pixels used: 737\n",
      " Peak Img[j, k]: 61 64\n",
      " Mean (j, k): 62.43 63.71\n",
      " Theta (deg): 66.3\n",
      " Astro PA (deg): 23.7\n",
      " Eps: 0.072\n",
      " Sigma along major axis (pix): 7.1\n",
      " Pixels used: 902\n",
      " Peak Img[j, k]: 61 64\n",
      " Mean (j, k): 62.61 63.68\n",
      " Theta (deg): 62.5\n",
      " Astro PA (deg): 27.5\n",
      " Eps: 0.025\n",
      " Sigma along major axis (pix): 7.6\n",
      " Pixels used: 1065\n",
      " Peak Img[j, k]: 61 64\n",
      " Mean (j, k): 62.64 63.68\n",
      " Theta (deg): 167.3\n",
      " Astro PA (deg): 102.7\n",
      " Eps: 0.019\n",
      " Sigma along major axis (pix): 8.2\n",
      " Pixels used: 1228\n",
      " Peak Img[j, k]: 61 64\n",
      " Mean (j, k): 62.63 63.67\n",
      " Theta (deg): 148.0\n",
      " Astro PA (deg): 122.0\n",
      " Eps: 0.052\n",
      " Sigma along major axis (pix): 8.9\n",
      " Pixels used: 1393\n",
      " Peak Img[j, k]: 61 64\n",
      " Mean (j, k): 62.60 63.66\n",
      " Theta (deg): 147.5\n",
      " Astro PA (deg): 122.5\n",
      " Eps: 0.093\n",
      " Sigma along major axis (pix): 9.6\n",
      " Pixels used: 1555\n",
      " Peak Img[j, k]: 61 64\n",
      " Mean (j, k): 62.77 63.69\n",
      " Theta (deg): 147.0\n",
      " Astro PA (deg): 123.0\n",
      " Eps: 0.117\n",
      " Sigma along major axis (pix): 10.2\n",
      " Pixels used: 1720\n",
      " Peak Img[j, k]: 61 64\n",
      " Mean (j, k): 62.84 63.79\n",
      " Theta (deg): 147.4\n",
      " Astro PA (deg): 122.6\n",
      " Eps: 0.144\n",
      " Sigma along major axis (pix): 10.8\n",
      " Pixels used: 1885\n",
      " Peak Img[j, k]: 61 64\n",
      " Mean (j, k): 62.85 63.81\n",
      " Theta (deg): 146.6\n",
      " Astro PA (deg): 123.4\n",
      " Eps: 0.172\n",
      " Sigma along major axis (pix): 11.5\n",
      " Pixels used: 2048\n",
      " Peak Img[j, k]: 61 64\n",
      " Mean (j, k): 62.74 63.67\n",
      " Theta (deg): 146.5\n",
      " Astro PA (deg): 123.5\n",
      " Eps: 0.188\n",
      " Sigma along major axis (pix): 12.0\n",
      " Pixels used: 2211\n",
      " Peak Img[j, k]: 61 64\n",
      " Mean (j, k): 62.67 63.64\n",
      " Theta (deg): 146.6\n",
      " Astro PA (deg): 123.4\n",
      " Eps: 0.192\n",
      " Sigma along major axis (pix): 12.5\n",
      " Pixels used: 2374\n",
      " Peak Img[j, k]: 61 64\n",
      " Mean (j, k): 62.72 63.71\n",
      " Theta (deg): 146.8\n",
      " Astro PA (deg): 123.2\n",
      " Eps: 0.211\n",
      " Sigma along major axis (pix): 13.0\n"
     ]
    }
   ],
   "source": [
    "from draw import pp\n",
    "from matplotlib.colors import LogNorm\n",
    "# npix = round(gal.nstar**(1/3) * 3) # to maintain roughly same pixel density. \n",
    "# Or, constant physical scale\n",
    "\n",
    "rscale = 3\n",
    "\n",
    "npix = round(gal.reff * rscale) * 4 # 5 * reff = Rgal in most case, 4 pixels in 1 kpc.\n",
    "region = smp.set_region(xc=0, yc=0, zc=0, radius = gal.reff * rscale)  \n",
    "data = pp.den2d(gal.star['x'], gal.star['y'], gal.star['z'], gal.star['m'], \\\n",
    "              npix, region=region, cic=True, norm_integer=True)\n",
    "\n",
    "from Cappellari import mge\n",
    "import utils.util\n",
    "utils.util.reimport(mge)\n",
    "fig, ax = plt.subplots(1)\n",
    "\n",
    "\n",
    "nbin = 5 * rscale #  =15 \n",
    "\n",
    "eps_arr = np.zeros(nbin)\n",
    "mjr_arr = np.zeros(nbin)\n",
    "pa_arr = np.zeros(nbin)\n",
    "xpos_arr = np.zeros(nbin)\n",
    "ypos_arr = np.zeros(nbin)\n",
    "\n",
    "l_img = 2 * region['radius'] # in kpc.\n",
    "\n",
    "for i in range(15):\n",
    "    f = mge.find_galaxy.find_galaxy(data, quiet=False, plot=True, mask_shade=False, fraction=0.005 + 0.01 * i)\n",
    "    mjr_arr[i] = f.majoraxis * 3.5 / npix * l_img\n",
    "    eps_arr[i] = f.eps\n",
    "    pa_arr[i] = f.theta\n",
    "    xpos_arr[i] = f.xpeak\n",
    "    ypos_arr[i] = f.ypeak\n",
    "    \n",
    "    #print(f.eps, f.theta, f.majoraxis)\n",
    "plt.show()"
   ]
  },
  {
   "cell_type": "code",
   "execution_count": null,
   "metadata": {
    "collapsed": true
   },
   "outputs": [],
   "source": [
    "gal.rscale_lambda"
   ]
  },
  {
   "cell_type": "code",
   "execution_count": 63,
   "metadata": {
    "collapsed": false
   },
   "outputs": [],
   "source": [
    "def general_ellipse(x, y, a, b, xoff, yoff, theta):\n",
    "    return np.square((x - xoff) * np.cos(theta) + (y - yoff)*np.sin(theta)) / a**2 + \\\n",
    "    np.square((x - xoff) * np.sin(theta) - (y - yoff)*np.cos(theta)) / b**2\n",
    "\n",
    "def cal_lambda_better(self, npix_lambda=5,\n",
    "                 r=0.5,\n",
    "                 rscale=3.0,\n",
    "                 method=2,\n",
    "                 verbose=False):\n",
    "    import numpy as np\n",
    "    from Cappellari import mge\n",
    "\n",
    "    # First, measure photometric properties\n",
    "    nbin = npix * rscale #  =15 \n",
    "\n",
    "    npix_img = round(self.reff * rscale) * 4 # 5 * reff = Rgal in most case, 4 pixels in 1 kpc.\n",
    "    region = smp.set_region(xc=0, yc=0, zc=0, radius = self.reff * rscale)  \n",
    "    data = pp.den2d(self.star['x'], self.star['y'], self.star['z'], self.star['m'], \\\n",
    "          npix_img, region=region, cic=True, norm_integer=True)\n",
    "\n",
    "    arr = photometry(data, nbin, npix_img, 2 * region['radius'])\n",
    "    #arr.mjr = arr.mjr * 3.5 / npix_img *  # in kpc.\n",
    "    \n",
    "    \n",
    "    \n",
    "    # velocity map & velocity dispersion map.\n",
    "    a_max = arr.mjr[-1]\n",
    "    b_max = a_max * arr.eps[-1]\n",
    "#    ind_ok = np.where(np.squar())\n",
    "    sigmap, vmap = sigmap_vmap(self, npix_img, ind_ok=None)\n",
    " \n",
    "    x = gal.star['x']\n",
    "    y = gal.star['y']\n",
    "    #z = gal.star['z']\n",
    "    \n",
    "    # \n",
    "    for i in range(nbin):\n",
    "        a = arr.mjr[i]\n",
    "        b = arr.mjr[i] * arr.eps[i]\n",
    "        xoff = arr.xpeak[i]\n",
    "        yoff = arr.ypeak[i]\n",
    "        theta = arr.theta[i]\n",
    "                       \n",
    "        q = general_ellipse(x, y, a, b, xoff, yoff, theta)\n",
    "        ind = np.where((0.9 < q) & (q < 1))[0]\n",
    "        print(len(ind))\n",
    "    \n",
    "    \n",
    "    "
   ]
  },
  {
   "cell_type": "code",
   "execution_count": 9,
   "metadata": {
    "collapsed": false
   },
   "outputs": [],
   "source": [
    "plt.plot(mjr_arr)\n",
    "plt.show()"
   ]
  },
  {
   "cell_type": "markdown",
   "metadata": {},
   "source": [
    "### 2-D Gaussian fitting"
   ]
  },
  {
   "cell_type": "code",
   "execution_count": null,
   "metadata": {
    "collapsed": true
   },
   "outputs": [],
   "source": []
  },
  {
   "cell_type": "code",
   "execution_count": null,
   "metadata": {
    "collapsed": true
   },
   "outputs": [],
   "source": []
  },
  {
   "cell_type": "code",
   "execution_count": 3,
   "metadata": {
    "collapsed": true
   },
   "outputs": [],
   "source": [
    "from scipy import optimize\n",
    "from pylab import *\n",
    "\n",
    "def gaussian(height, center_x, center_y, width_x, width_y):\n",
    "    \"\"\"Returns a gaussian function with the given parameters\"\"\"\n",
    "    width_x = float(width_x)\n",
    "    width_y = float(width_y)\n",
    "    return lambda x,y: height*np.exp(\n",
    "                -(((center_x-x)/width_x)**2+((center_y-y)/width_y)**2)/2)\n",
    "\n",
    "def moments(data):\n",
    "    \"\"\"Returns (height, x, y, width_x, width_y)\n",
    "    the gaussian parameters of a 2D distribution by calculating its\n",
    "    moments \"\"\"\n",
    "    total = data.sum()\n",
    "    X, Y = indices(data.shape)\n",
    "    x = (X*data).sum()/total\n",
    "    y = (Y*data).sum()/total\n",
    "    col = data[:, int(y)]\n",
    "    width_x = sqrt(abs((arange(col.size)-y)**2*col).sum()/col.sum())\n",
    "    row = data[int(x), :]\n",
    "    width_y = sqrt(abs((arange(row.size)-x)**2*row).sum()/row.sum())\n",
    "    height = data.max()\n",
    "    return height, x, y, width_x, width_y\n",
    "\n",
    "def fitgaussian(data):\n",
    "    \"\"\"Returns (height, x, y, width_x, width_y)\n",
    "    the gaussian parameters of a 2D distribution found by a fit\"\"\"\n",
    "    params = moments(data)\n",
    "    errorfunction = lambda p: np.ravel(gaussian(*p)(*indices(data.shape)) -\n",
    "                                 data)\n",
    "    p, success = optimize.leastsq(errorfunction, params)\n",
    "    return p"
   ]
  },
  {
   "cell_type": "code",
   "execution_count": 32,
   "metadata": {
    "collapsed": false
   },
   "outputs": [],
   "source": [
    "# Create the gaussian data (with a bit of noise:\n",
    "\n",
    "#Xin, Yin = np.mgrid[0:401, 0:401]\n",
    "#data = gaussian(3, 200, 200, 40, 80)(Xin, Yin) + np.random.random(Xin.shape)\n",
    "#matshow(data, cmap=cm.jet)\n",
    "plt.imshow(data, cmap=plt.cm.jet)\n",
    "#plt.show()\n",
    "params = fitgaussian(data)\n",
    "fit = gaussian(*params)\n",
    "plt.contour(fit(*indices(data.shape)), cmap=cm.Greys)\n",
    "ax = gca()\n",
    "(height, x, y, width_x, width_y) = params\n",
    "\n",
    "text(0.95, 0.05, \"\"\"\n",
    "x : %.1f\n",
    "y : %.1f\n",
    "width_x : %.1f\n",
    "width_y : %.1f \"\"\" %(x, y, width_x, width_y),\n",
    "        fontsize=16, color='w', horizontalalignment='right',\n",
    "        verticalalignment='bottom', transform=ax.transAxes)\n",
    "\n",
    "\n",
    "title('Fitting a 2-d Gaussian', fontsize=16, color='blue')\n",
    "\n",
    "show()"
   ]
  },
  {
   "cell_type": "markdown",
   "metadata": {},
   "source": [
    "#### Find PA"
   ]
  },
  {
   "cell_type": "code",
   "execution_count": 30,
   "metadata": {
    "collapsed": true
   },
   "outputs": [],
   "source": [
    "def main():\n",
    "    xbar, ybar, cov = intertial_axis(data)\n",
    "    fig, ax = plt.subplots()\n",
    "    ax.imshow(data)\n",
    "    plot_bars(xbar, ybar, cov, ax)\n",
    "    plt.show()\n",
    "\n",
    "def raw_moment(data, iord, jord):\n",
    "    nrows, ncols = data.shape\n",
    "    y, x = np.mgrid[:nrows, :ncols]\n",
    "    data = data * x**iord * y**jord\n",
    "    return data.sum()\n",
    "\n",
    "def intertial_axis(data):\n",
    "    \"\"\"Calculate the x-mean, y-mean, and cov matrix of an image.\"\"\"\n",
    "    data_sum = data.sum()\n",
    "    m10 = raw_moment(data, 1, 0)\n",
    "    m01 = raw_moment(data, 0, 1)\n",
    "    x_bar = m10 / data_sum\n",
    "    y_bar = m01 / data_sum\n",
    "    u11 = (raw_moment(data, 1, 1) - x_bar * m01) / data_sum\n",
    "    u20 = (raw_moment(data, 2, 0) - x_bar * m10) / data_sum\n",
    "    u02 = (raw_moment(data, 0, 2) - y_bar * m01) / data_sum\n",
    "    cov = np.array([[u20, u11], [u11, u02]])\n",
    "    return x_bar, y_bar, cov\n",
    "\n",
    "def plot_bars(x_bar, y_bar, cov, ax):\n",
    "    \"\"\"Plot bars with a length of 2 stddev along the principal axes.\"\"\"\n",
    "    def make_lines(eigvals, eigvecs, mean, i):\n",
    "        \"\"\"Make lines a length of 2 stddev.\"\"\"\n",
    "        std = np.sqrt(eigvals[i])\n",
    "        vec = 2 * std * eigvecs[:,i] / np.hypot(*eigvecs[:,i])\n",
    "        x, y = np.vstack((mean-vec, mean, mean+vec)).T\n",
    "        return x, y\n",
    "    mean = np.array([x_bar, y_bar])\n",
    "    eigvals, eigvecs = np.linalg.eigh(cov)\n",
    "    ax.plot(*make_lines(eigvals, eigvecs, mean, 0), marker='o', color='white')\n",
    "    ax.plot(*make_lines(eigvals, eigvecs, mean, -1), marker='o', color='red')\n",
    "    ax.axis('image')\n",
    "\n",
    "if __name__ == '__main__':\n",
    "    main()"
   ]
  },
  {
   "cell_type": "code",
   "execution_count": 5,
   "metadata": {
    "collapsed": true
   },
   "outputs": [],
   "source": []
  },
  {
   "cell_type": "code",
   "execution_count": 30,
   "metadata": {
    "collapsed": false
   },
   "outputs": [
    {
     "data": {
      "text/plain": [
       "14.103231652528891"
      ]
     },
     "execution_count": 30,
     "metadata": {},
     "output_type": "execute_result"
    }
   ],
   "source": [
    "gal.reff"
   ]
  },
  {
   "cell_type": "code",
   "execution_count": 31,
   "metadata": {
    "collapsed": false
   },
   "outputs": [
    {
     "data": {
      "text/plain": [
       "70.516158262644453"
      ]
     },
     "execution_count": 31,
     "metadata": {},
     "output_type": "execute_result"
    }
   ],
   "source": [
    "gal.region['radius']"
   ]
  },
  {
   "cell_type": "code",
   "execution_count": 16,
   "metadata": {
    "collapsed": false
   },
   "outputs": [
    {
     "data": {
      "text/plain": [
       "array([[ 0.,  0.,  0., ...,  0.,  0.,  0.],\n",
       "       [ 0.,  0.,  0., ...,  0.,  0.,  0.],\n",
       "       [ 0.,  0.,  0., ...,  0.,  0.,  0.],\n",
       "       ..., \n",
       "       [ 0.,  0.,  0., ...,  0.,  0.,  0.],\n",
       "       [ 0.,  0.,  0., ...,  0.,  0.,  0.],\n",
       "       [ 0.,  0.,  0., ...,  0.,  0.,  0.]])"
      ]
     },
     "execution_count": 16,
     "metadata": {},
     "output_type": "execute_result"
    }
   ],
   "source": [
    "data.data"
   ]
  },
  {
   "cell_type": "code",
   "execution_count": 29,
   "metadata": {
    "collapsed": false
   },
   "outputs": [
    {
     "data": {
      "text/plain": [
       "33.606749273638279"
      ]
     },
     "execution_count": 29,
     "metadata": {},
     "output_type": "execute_result"
    }
   ],
   "source": [
    "f.majoraxis"
   ]
  },
  {
   "cell_type": "code",
   "execution_count": null,
   "metadata": {
    "collapsed": true
   },
   "outputs": [],
   "source": []
  }
 ],
 "metadata": {
  "kernelspec": {
   "display_name": "Python 3",
   "language": "python",
   "name": "python3"
  },
  "language_info": {
   "codemirror_mode": {
    "name": "ipython",
    "version": 3
   },
   "file_extension": ".py",
   "mimetype": "text/x-python",
   "name": "python",
   "nbconvert_exporter": "python",
   "pygments_lexer": "ipython3",
   "version": "3.4.3"
  }
 },
 "nbformat": 4,
 "nbformat_minor": 0
}
