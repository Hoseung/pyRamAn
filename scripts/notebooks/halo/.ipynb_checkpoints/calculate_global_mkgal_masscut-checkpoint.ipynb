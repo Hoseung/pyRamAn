{
 "cells": [
  {
   "cell_type": "markdown",
   "metadata": {},
   "source": [
    "Smaller galaxies are less reliable and thus it is inefficient to consider all the small galaxies running lamda_mp_codes. \n",
    "So, what is the right mass cut for 'samll' galaxies to be ignored? \n",
    "Main galaxies below 5e9 at z=0 can be ignored. However, in the very early universe, all galaxies were below 5e9, and the same mass cut will keep me from 'detecting' any existing galaxies at that time. \n",
    "For some recent time, it may be good enough to keep 5e9 cut, but it should be lowered in earlier universe. \n"
   ]
  },
  {
   "cell_type": "code",
   "execution_count": 1,
   "metadata": {
    "collapsed": false
   },
   "outputs": [
    {
     "name": "stdout",
     "output_type": "stream",
     "text": [
      "Loaded an extended tree\n"
     ]
    }
   ],
   "source": [
    "import tree.ctutils as ctu\n",
    "import numpy as np\n",
    "import matplotlib.pyplot as plt\n",
    "\n",
    "wdir = '/home/hoseung/Work/data/05427/'\n",
    "is_gal = True\n",
    "\n",
    "alltrees = ctu.load_tree(wdir, is_gal=is_gal)\n",
    "ad = alltrees.data"
   ]
  },
  {
   "cell_type": "code",
   "execution_count": 4,
   "metadata": {
    "collapsed": false
   },
   "outputs": [],
   "source": [
    "bottom=[]\n",
    "top=[]\n",
    "aexps = []\n",
    "nouts =np.arange(20,187)\n",
    "for nout in nouts:\n",
    "    t_now = ad[ad['nout'] == nout]\n",
    "    aexps.append(t_now['aexp'][0])\n",
    "    bottom.append(np.percentile(t_now['m'][t_now['m'] > 10], 50))\n",
    "    top.append(np.percentile(t_now['m'][t_now['m'] > 10], 80))\n",
    "    #print(\"aexp =\", t_now['aexp'][0])\n",
    "    #print(\"{:.2e}  {:.2e}\".format(np.percentile(t_now['m'], 10), np.percentile(t_now['m'], 90)))\n",
    "    \n",
    "# histogram\n",
    "#plt.hist(np.log10(t_now['m'][t_now['m'] > 10]))\n",
    "#plt.show()\n",
    "\n"
   ]
  },
  {
   "cell_type": "code",
   "execution_count": 10,
   "metadata": {
    "collapsed": false
   },
   "outputs": [],
   "source": [
    "plt.plot(aexps, np.log10(bottom))\n",
    "ax = plt.gca()\n",
    "ax.plot(aexps, np.log10(top), 'r--')\n",
    "\n",
    "import scipy.stats\n",
    "slope, intercept, r_value, p_value, std_err = scipy.stats.linregress(aexps[:60], bottom[:60])\n",
    "cut = aexps * slope + intercept\n",
    "cut[cut > 1.5e9] = 1.5e9\n",
    "ax.plot(aexps, np.log10(cut), 'g')\n",
    "plt.show()"
   ]
  },
  {
   "cell_type": "code",
   "execution_count": 11,
   "metadata": {
    "collapsed": false
   },
   "outputs": [
    {
     "name": "stdout",
     "output_type": "stream",
     "text": [
      "3119316524.46 -156648939.759\n"
     ]
    }
   ],
   "source": [
    "print(slope, intercept)\n"
   ]
  },
  {
   "cell_type": "code",
   "execution_count": null,
   "metadata": {
    "collapsed": true
   },
   "outputs": [],
   "source": []
  }
 ],
 "metadata": {
  "kernelspec": {
   "display_name": "Python 3",
   "language": "python",
   "name": "python3"
  },
  "language_info": {
   "codemirror_mode": {
    "name": "ipython",
    "version": 3
   },
   "file_extension": ".py",
   "mimetype": "text/x-python",
   "name": "python",
   "nbconvert_exporter": "python",
   "pygments_lexer": "ipython3",
   "version": "3.4.3"
  }
 },
 "nbformat": 4,
 "nbformat_minor": 0
}
