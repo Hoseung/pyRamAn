{
 "cells": [
  {
   "cell_type": "markdown",
   "metadata": {},
   "source": [
    "# Measure delta Lambda"
   ]
  },
  {
   "cell_type": "markdown",
   "metadata": {},
   "source": [
    "Lambda fluctuates, and it fluctuates more as two galaxies get closer.\n",
    "It is hard to separate 'normal' stage and 'merging' stage of lambda.\n",
    "Measuring L at normal stage may require some fitting algorithm. "
   ]
  },
  {
   "cell_type": "code",
   "execution_count": 94,
   "metadata": {
    "collapsed": true
   },
   "outputs": [],
   "source": [
    "def load_pickle(fname):\n",
    "    with open(fname, 'rb') as f:\n",
    "        return pickle.load(f)\n",
    "\n",
    "## time\n",
    "def aexp2zred(aexp):\n",
    "    return [1.0/a - 1.0 for a in aexp]\n",
    "\n",
    "def zred2aexp(zred):\n",
    "    return [1.0/(1.0 + z) for z in zred]\n",
    "\n",
    "def lbt2aexp(lts):\n",
    "    import astropy.units as u\n",
    "    from astropy.cosmology import WMAP7, z_at_value\n",
    "    zreds = [z_at_value(WMAP7.lookback_time, ll * u.Gyr) for ll in lts]\n",
    "    return [1.0/(1+z) for z in zreds]\n",
    "\n",
    "def density_map(x, y, ax, sort=True):\n",
    "    from scipy.stats import gaussian_kde\n",
    "    xy = np.vstack([x,y])\n",
    "    z = gaussian_kde(xy)(xy) \n",
    "    z /= max(z)\n",
    "\n",
    "    idx = z.argsort()    \n",
    "    xx, yy = x[idx], y[idx]\n",
    "    z = z[idx]\n",
    "    \n",
    "    im = ax.scatter(xx, yy, c=z, s=50, edgecolor='')\n",
    "    return im\n",
    "\n",
    "\n",
    "def sigma_clip_ind(c, high, low):\n",
    "    \"\"\"\n",
    "        returns indices of sigma-clipping-safe elements.\n",
    "    \"\"\"\n",
    "    import numpy as np\n",
    "    ind = (np.mean(c) - np.std(c)*low < c) * (c < np.mean(c) + np.std(c)*high)\n",
    "    return ind\n",
    "\n",
    "\n",
    "def mask_outlier(y, low=1.5, high=1.5):\n",
    "    \"\"\"\n",
    "        maks outlier assuming monotonic trend.\n",
    "    \"\"\"\n",
    "    x = np.arange(len(y))\n",
    "\n",
    "    # linear fitting .. more desirably, a very strong smoothing scheme that can reconstrcut mild curve.\n",
    "    slope, intercept, r_value, p_value, std_err = scipy.stats.linregress(x,y)\n",
    "\n",
    "    # extract linear fit\n",
    "    yy = y - (slope * x + intercept)\n",
    "\n",
    "    # sigma clipped value = mean of the rest \n",
    "    i_good = sigma_clip_ind(yy, low, high)\n",
    "    yy[~i_good] = np.mean(yy[i_good])\n",
    "\n",
    "    # add linear fit again\n",
    "    return yy + (slope * x + intercept)\n",
    "\n",
    "\n",
    "def smooth(x, beta=5, window_len=20, monotonic=False):\n",
    "    \"\"\" \n",
    "    kaiser window smoothing \n",
    "    beta = 5 : Similar to a Hamming\n",
    "    \"\"\"\n",
    "    \n",
    "    if monotonic:\n",
    "        \"\"\"\n",
    "        if there is an overall slope, smoothing may result in offset.\n",
    "        compensate for that. \n",
    "        \"\"\"\n",
    "        slope, intercept, r_value, p_value, std_err = scipy.stats.linregress(x, y=np.arange(len(x)))\n",
    "        xx = np.arange(len(x)) * slope + intercept\n",
    "        x = x - xx\n",
    "    \n",
    "    # extending the data at beginning and at the end\n",
    "    # to apply the window at the borders\n",
    "    s = np.r_[x[window_len-1:0:-1], x, x[-1:-window_len:-1]]\n",
    "    w = np.kaiser(window_len,beta)\n",
    "    y = np.convolve(w/w.sum(),s,mode='valid')\n",
    "    if monotonic: \n",
    "         return y[int(window_len)/2:len(y)-int(window_len/2) + 1] + xx#[x[window_len-1:0:-1],x,x[-1:-window_len:-1]]\n",
    "    else:\n",
    "        return y[int(window_len)/2:len(y)-int(window_len/2) + 1]\n",
    "        #return y[5:len(y)-5]"
   ]
  },
  {
   "cell_type": "code",
   "execution_count": 95,
   "metadata": {
    "collapsed": false
   },
   "outputs": [],
   "source": [
    "class MainPrg():\n",
    "    import tree.ctutils as ctu\n",
    "    import numpy as np\n",
    "    \n",
    "    def __init__(self, treedata, final_gal, nout_ini=None, nout_fi=None):\n",
    "\n",
    "        temp_tree = ctu.extract_main_tree(treedata, final_gal)\n",
    "        if nout_ini == None:\n",
    "            nout_ini = min(temp_tree['nout'])\n",
    "        if nout_fi == None:\n",
    "            nout_fi = max(temp_tree['nout'])            \n",
    "            \n",
    "        self.nouts = np.arange(nout_fi, nout_ini -1, -1)\n",
    "        self.idxs = temp_tree['id'] # nout_ini, nout_fi consideration needed.\n",
    "        self.ids = temp_tree['Orig_halo_id']\n",
    "        self.data = None\n",
    "    \n",
    "    def set_data(self, cat, nout):\n",
    "        \"\"\"\n",
    "        compile data from catalogs.\n",
    "        \"\"\"\n",
    "        if nout in self.nouts:\n",
    "            # Declare self.data first if there isn't.\n",
    "            if self.data == None:\n",
    "                self.data = np.zeros(len(self.nouts), dtype=cat.dtype)\n",
    "            inow = self.nouts == nout\n",
    "            a = np.where(cat['id'] == self.ids[inow])[0]\n",
    "            if len(a) > 0:\n",
    "                self.data[inow] = cat[a]        \n",
    "            else:\n",
    "                pass\n",
    "                #print(self.ids[inow],cat['id'])\n",
    "        else:\n",
    "            pass\n",
    "            #print(\"No {} in the catalog\".format(nout))\n",
    "            \n",
    "    def clip_non_detection(self):\n",
    "        # end of galaxy tree = last non-zero position.\n",
    "        i_first_nout = max(np.where(self.data['id'] > 0)[0])\n",
    "        print('i_first', i_first_nout)\n",
    "        # then, only [0-i_first_nout] are valid.\n",
    "        # earlier then 187 - 91-th are zero. so get rid of them.\n",
    "        self.data = self.data[:i_first_nout].copy()\n",
    "        self.nouts = self.nouts[:i_first_nout].copy()\n",
    "        self.ids = self.ids[:i_first_nout].copy()\n",
    "        self.idxs = self.idxs[:i_first_nout].copy()\n",
    "        \n",
    "    def fill_missing_data(self):\n",
    "        assert (self.ids[-1] != 0)\n",
    "        \n",
    "        # loop over all fields except id, index, and non-physical entries.\n",
    "        i_bad = np.where(self.data['id'] == 0)[0]\n",
    "        for field in self.data.dtype.names:\n",
    "            if field in [\"index\", \"id\"]:\n",
    "                continue\n",
    "            arr = self.data[field] # it's a view.\n",
    "        #    i_bad = locate_wrong_arr(arr)\n",
    "\n",
    "            for i_b in i_bad:\n",
    "                # neighbouring array might also be empty. Search for closest valid array.\n",
    "                # left point\n",
    "                i_l = i_b - 1\n",
    "                while(i_l in i_bad):\n",
    "                    i_l = i_l - 1\n",
    "                # right point\n",
    "                i_r = i_b + 1\n",
    "                while(i_r in i_bad):\n",
    "                    i_r = i_r + 1\n",
    "\n",
    "                arr[i_b] = (arr[i_b -1] + arr[i_b +1])/2.\n",
    "    "
   ]
  },
  {
   "cell_type": "code",
   "execution_count": 97,
   "metadata": {
    "collapsed": true
   },
   "outputs": [],
   "source": [
    "import numpy as np\n",
    "import scipy.stats\n",
    "\n",
    "import matplotlib.pyplot as plt\n",
    "# Read a single galaxy evolution catalog.\n",
    "import pickle\n",
    "#wdir = '/home/hoseung/Work/data/05427/'\n",
    "wdir = '/home/hoseung/Work/data/05427/'\n",
    "cdir = 'catalog_GM/'\n",
    "\n",
    "#idxs = [122668, 122669, 122683, 122695, 122747, 122750, 122835, 123087] 05427"
   ]
  },
  {
   "cell_type": "code",
   "execution_count": 112,
   "metadata": {
    "collapsed": false
   },
   "outputs": [
    {
     "name": "stdout",
     "output_type": "stream",
     "text": [
      "Loaded an extended tree\n"
     ]
    },
    {
     "name": "stderr",
     "output_type": "stream",
     "text": [
      "/home/hoseung/.local/lib/python3.4/site-packages/IPython/kernel/__main__.py:24: FutureWarning: comparison to `None` will result in an elementwise object comparison in the future.\n"
     ]
    }
   ],
   "source": [
    "# Serialize catalogs. -> Only main galaxies\n",
    "\n",
    "nout_fi = 187\n",
    "\n",
    "# main galaxy list\n",
    "import tree.ctutils as ctu\n",
    "alltrees = ctu.load_tree(wdir, is_gal=True)\n",
    "ad = alltrees.data\n",
    "tn = ad[ad['nout'] == nout_fi]\n",
    "\n",
    "cat = pickle.load(open(wdir + cdir + 'catalog' + str(nout_fi) + '.pickle', 'rb'))\n",
    "    \n",
    "#idx_all = [tn['id'][tn['Orig_halo_id'] == id_final][0] for id_final in cat['id']]\n",
    "idx_all = cat['idx']\n",
    "mpgs = [MainPrg(ad, idx) for idx in idx_all]\n",
    "#print(mpgs[0].nouts)\n",
    "#print(mpgs[0].ids)\n",
    "for nout in range(60,188):\n",
    "    cat = pickle.load(open(wdir + cdir + 'catalog' + str(nout) + '.pickle', 'rb'))\n",
    "    for mpg in mpgs:\n",
    "        mpg.set_data(cat, nout)\n",
    "        "
   ]
  },
  {
   "cell_type": "markdown",
   "metadata": {},
   "source": [
    "중간에 비는 것은 아마도 phantom이라 'Orig_halo_id'는 없는 경우일 듯. \n",
    "그렇기 때문에..! cat을 만들때 idx를 넣어야함!  : 넣었음. (근데 final_ID는 뺐나...?)"
   ]
  },
  {
   "cell_type": "code",
   "execution_count": 104,
   "metadata": {
    "collapsed": false
   },
   "outputs": [],
   "source": [
    "def smoothed_reff(cat, nout_merger):\n",
    "    \"\"\"\n",
    "    returns \"representative\" lambda at each nout by assuming monotonic change in Reff. \n",
    "    During merger, Reff can fluctuate, and if has no physical meaning to infer Labda at Reff during merger stage. \n",
    "    So Reff' is derived by linear interpolating Reffs before and after the merger. \n",
    "    \n",
    "    cat is one galaxy catalog over time.\n",
    "    \"\"\"\n",
    "    import utils.match as mtc\n",
    "    i_merger = np.where(cat['nout'] == nout_merger)[0]\n",
    "    ind_lower = 20\n",
    "    ind_upper = 20\n",
    "    \n",
    "    reffs = cat['rgal']\n",
    "    # left and right values chosen by sigma-clipping\n",
    "    r_lefts, b, c = scipy.stats.sigmaclip(reffs[max([0,i_merger-ind_lower]):i_merger], sig_lower, sig_upper)\n",
    "    print(r_lefts)\n",
    "    r_left = r_lefts[-1]\n",
    "    i_left = np.where(reffs == r_left)[0]\n",
    "    \n",
    "\n",
    "    r_rights, b,c = scipy.stats.sigmaclip(reffs[i_merger:min([i_merger+ind_upper,len(reffs)])], sig_lower, sig_upper)\n",
    "    r_right = r_rights[0]\n",
    "    i_right = np.where(reffs == r_right)[0]\n",
    "\n",
    "    r_prime = reffs\n",
    "    print(i_left, i_right)\n",
    "    print(np.linspace(r_left, r_right, i_right - i_left + 1))\n",
    "    r_prime[i_left : i_right + 1] = np.linspace(r_left, r_right, i_right - i_left + 1)\n",
    "    return r_prime    "
   ]
  },
  {
   "cell_type": "markdown",
   "metadata": {},
   "source": [
    "##### fix Reff of a galaxy"
   ]
  },
  {
   "cell_type": "code",
   "execution_count": 105,
   "metadata": {
    "collapsed": false
   },
   "outputs": [],
   "source": [
    "def fixed_ind_Lr(gal):\n",
    "    nnouts = len(gal.nouts)\n",
    "    ind_reff_fix = np.zeros(nnouts, dtype='i4')\n",
    "\n",
    "    smooth_r = smooth(mask_outlier(gal.data['rgal'], 1.5, 1.5), 50, monotonic=False)\n",
    "\n",
    "    # fixed Reff array\n",
    "    for i in range(nnouts):\n",
    "        # 1Reff = 10 points\n",
    "        reff_real = smooth_r[i]\n",
    "        reff = gal.data['rgal'][i]\n",
    "        try:\n",
    "            ind_reff_fix[i] = np.round(reff_real/reff * 5) -1\n",
    "        except:\n",
    "            pass\n",
    "    return ind_reff_fix"
   ]
  },
  {
   "cell_type": "code",
   "execution_count": 113,
   "metadata": {
    "collapsed": false
   },
   "outputs": [
    {
     "name": "stdout",
     "output_type": "stream",
     "text": [
      "i_first 127\n",
      "Galaxy ID at the final nout 122737, 76\n",
      "i_first 126\n",
      "Galaxy ID at the final nout 122737, 76\n",
      "i_first 127\n",
      "Galaxy ID at the final nout 122727, 66\n",
      "i_first 127\n",
      "Galaxy ID at the final nout 122696, 35\n",
      "i_first 127\n",
      "Galaxy ID at the final nout 122724, 63\n",
      "i_first 126\n",
      "Galaxy ID at the final nout 122724, 63\n",
      "i_first 16\n",
      "Galaxy ID at the final nout 122680, 19\n"
     ]
    },
    {
     "ename": "IndexError",
     "evalue": "index 9 is out of bounds for axis 0 with size 9",
     "output_type": "error",
     "traceback": [
      "\u001b[1;31m---------------------------------------------------------------------------\u001b[0m",
      "\u001b[1;31mIndexError\u001b[0m                                Traceback (most recent call last)",
      "\u001b[1;32m<ipython-input-113-7bcbceff6373>\u001b[0m in \u001b[0;36m<module>\u001b[1;34m()\u001b[0m\n\u001b[0;32m     41\u001b[0m \u001b[1;33m\u001b[0m\u001b[0m\n\u001b[0;32m     42\u001b[0m     \u001b[1;31m# fixed Lambda array based on Reff_fix.\u001b[0m\u001b[1;33m\u001b[0m\u001b[1;33m\u001b[0m\u001b[0m\n\u001b[1;32m---> 43\u001b[1;33m     \u001b[0mind_reff_fix\u001b[0m \u001b[1;33m=\u001b[0m \u001b[0mfixed_ind_Lr\u001b[0m\u001b[1;33m(\u001b[0m\u001b[0mgal\u001b[0m\u001b[1;33m)\u001b[0m\u001b[1;33m\u001b[0m\u001b[0m\n\u001b[0m\u001b[0;32m     44\u001b[0m     \u001b[0mlam\u001b[0m \u001b[1;33m=\u001b[0m \u001b[0mnp\u001b[0m\u001b[1;33m.\u001b[0m\u001b[0mzeros\u001b[0m\u001b[1;33m(\u001b[0m\u001b[0msum\u001b[0m\u001b[1;33m(\u001b[0m\u001b[0mind_reff_fix\u001b[0m \u001b[1;33m>\u001b[0m \u001b[1;36m0\u001b[0m\u001b[1;33m)\u001b[0m\u001b[1;33m)\u001b[0m\u001b[1;33m\u001b[0m\u001b[0m\n\u001b[0;32m     45\u001b[0m     \u001b[1;32mfor\u001b[0m \u001b[0mi\u001b[0m\u001b[1;33m,\u001b[0m \u001b[0mind\u001b[0m \u001b[1;32min\u001b[0m \u001b[0menumerate\u001b[0m\u001b[1;33m(\u001b[0m\u001b[0mind_reff_fix\u001b[0m\u001b[1;33m[\u001b[0m\u001b[0mind_reff_fix\u001b[0m \u001b[1;33m>\u001b[0m \u001b[1;36m0\u001b[0m\u001b[1;33m]\u001b[0m\u001b[1;33m)\u001b[0m\u001b[1;33m:\u001b[0m\u001b[1;33m\u001b[0m\u001b[0m\n",
      "\u001b[1;32m<ipython-input-105-0e9f2fcb7931>\u001b[0m in \u001b[0;36mfixed_ind_Lr\u001b[1;34m(gal)\u001b[0m\n\u001b[0;32m      8\u001b[0m     \u001b[1;32mfor\u001b[0m \u001b[0mi\u001b[0m \u001b[1;32min\u001b[0m \u001b[0mrange\u001b[0m\u001b[1;33m(\u001b[0m\u001b[0mnnouts\u001b[0m\u001b[1;33m)\u001b[0m\u001b[1;33m:\u001b[0m\u001b[1;33m\u001b[0m\u001b[0m\n\u001b[0;32m      9\u001b[0m         \u001b[1;31m# 1Reff = 10 points\u001b[0m\u001b[1;33m\u001b[0m\u001b[1;33m\u001b[0m\u001b[0m\n\u001b[1;32m---> 10\u001b[1;33m         \u001b[0mreff_real\u001b[0m \u001b[1;33m=\u001b[0m \u001b[0msmooth_r\u001b[0m\u001b[1;33m[\u001b[0m\u001b[0mi\u001b[0m\u001b[1;33m]\u001b[0m\u001b[1;33m\u001b[0m\u001b[0m\n\u001b[0m\u001b[0;32m     11\u001b[0m         \u001b[0mreff\u001b[0m \u001b[1;33m=\u001b[0m \u001b[0mgal\u001b[0m\u001b[1;33m.\u001b[0m\u001b[0mdata\u001b[0m\u001b[1;33m[\u001b[0m\u001b[1;34m'rgal'\u001b[0m\u001b[1;33m]\u001b[0m\u001b[1;33m[\u001b[0m\u001b[0mi\u001b[0m\u001b[1;33m]\u001b[0m\u001b[1;33m\u001b[0m\u001b[0m\n\u001b[0;32m     12\u001b[0m         \u001b[1;32mtry\u001b[0m\u001b[1;33m:\u001b[0m\u001b[1;33m\u001b[0m\u001b[0m\n",
      "\u001b[1;31mIndexError\u001b[0m: index 9 is out of bounds for axis 0 with size 9"
     ]
    }
   ],
   "source": [
    "#idx = mgl['idx'][2]\n",
    "\n",
    "# parameters used for lambda_arr clipping.\n",
    "ind_upper = 20\n",
    "ind_lower = 20\n",
    "sig_upper = 2.0\n",
    "sig_lower = 2.0\n",
    "\n",
    "mr = []\n",
    "dl = []\n",
    "\n",
    "# load merger galaxy list (geneated by scripts/notebooks/halo/Merter_no_cat.ipynb)\n",
    "with open(wdir + 'merger_list.txt', 'rb') as f:\n",
    "    mgl = np.genfromtxt(f, dtype=[('idx','i8'),('mr','f8'),('nout','i4')])\n",
    "\n",
    "mids = mgl['idx']\n",
    "mrs = mgl['mr'] #np.random.random(len(mpgs)) # just as a test.\n",
    "nout_mergers = mgl['nout'] #np.round(mrs * 50).astype(\"int\") + 137\n",
    "i_mergers = 187 - nout_mergers \n",
    "\n",
    "gal_idxs = [gal.idxs[0] for gal in mpgs]\n",
    "\n",
    "for i, mid in enumerate(mids):\n",
    "#gal = mpgs[3]\n",
    "    if mid not in gal_idxs:\n",
    "        print(\"Merger gal {} is not in catalog, skipping\".format(mid))\n",
    "        continue\n",
    "    else:\n",
    "        gal = mpgs[np.where(gal_idxs == mid)[0]]\n",
    "        \n",
    "    gal.clip_non_detection()\n",
    "    gal.fill_missing_data()\n",
    "    print(\"Galaxy ID at the final nout {}, {}\".format(gal.idxs[0], gal.ids[0]))\n",
    "\n",
    "    i_merger = i_mergers[i]  #i_merger = 187 - mgl[igal][2]\n",
    "    merger_ratio = mrs[i]\n",
    "    \n",
    "    if i_merger > len(gal.nouts):\n",
    "        print(\"Too short evolution history, aborting..\")\n",
    "        continue\n",
    "    \n",
    "    # fixed Lambda array based on Reff_fix.\n",
    "    ind_reff_fix = fixed_ind_Lr(gal)\n",
    "    lam = np.zeros(sum(ind_reff_fix > 0))\n",
    "    for i, ind in enumerate(ind_reff_fix[ind_reff_fix > 0]):\n",
    "        lam[i] = gal.data['lambda_arr'][i][ind] # fixed value\n",
    "    \n",
    "    x_al = range(max([0,i_merger-ind_lower]), i_merger)\n",
    "    x_ar = range(i_merger,min([i_merger+ind_upper,len(lam)]))\n",
    "\n",
    "    al, b1, c1 = scipy.stats.sigmaclip(lam[x_al], sig_lower, sig_upper)\n",
    "    ar, b2, c2 = scipy.stats.sigmaclip(lam[x_ar], sig_lower, sig_upper)\n",
    "\n",
    "    dl.append(np.median(ar) - np.median(al))\n",
    "    mr.append(merger_ratio)"
   ]
  },
  {
   "cell_type": "code",
   "execution_count": 111,
   "metadata": {
    "collapsed": false
   },
   "outputs": [
    {
     "name": "stdout",
     "output_type": "stream",
     "text": [
      "[187 186 185 184 183 182 181 180 179 178 177 176 175 174 173 172]\n",
      "[ 8.18039035  8.22933254  8.20742423  8.11891505  8.17397144  8.17748829\n",
      "  8.15156431  8.35777142  8.37699861  8.3956901   8.17637856  8.31860723\n",
      "  8.46083589  5.68802862  5.46057375  5.448735  ]\n"
     ]
    }
   ],
   "source": [
    "print(gal.nouts)\n",
    "print(gal.data['rgal'])"
   ]
  },
  {
   "cell_type": "markdown",
   "metadata": {},
   "source": [
    "lambda_mp_gal에서 은하에 대해 np = max 를 i_center로 잡았는데, halo에서 np = max와 다름.....\n",
    "어째 생긴 은하단인가. 허허. "
   ]
  },
  {
   "cell_type": "code",
   "execution_count": 93,
   "metadata": {
    "collapsed": false
   },
   "outputs": [
    {
     "data": {
      "text/plain": [
       "array([83116, 83334, 83129, 83117, 83139, 83345, 83145, 83127, 83158,\n",
       "       83136, 83180, 83140, 83184, 83155, 83178, 83215, 83165, 83208,\n",
       "       83172, 83137, 83133, 83141, 83177, 83242, 83143, 83206, 83196,\n",
       "       83138, 83212, 83211, 83157, 83213, 83254, 83150, 83170, 83248,\n",
       "       83123, 83146, 83234, 83344, 83193, 83224, 83202, 83235, 83225,\n",
       "       83232, 83250, 83131, 83300, 83115, 83199, 83294, 83187, 83174,\n",
       "       83156, 83176, 83220, 83339, 83223, 83236, 83209, 83251, 83243,\n",
       "       83231, 83227, 83268, 83207, 83154, 83309, 83175, 83256, 83214,\n",
       "       83182, 83125, 83238, 83228, 83190, 83204, 83183, 83195, 83271,\n",
       "       83210, 83230, 83282, 83252, 83272, 83197, 83219, 83247, 83291,\n",
       "       83153, 83341, 83249, 83118, 83269, 83124, 83290, 83303, 83233,\n",
       "       83261, 83311, 83275, 83350, 83288, 83205, 83113, 83267, 83274,\n",
       "       83264, 83307, 83276, 83226, 83189, 83302, 83152, 83322, 83148,\n",
       "       83181, 83266, 83263, 83216, 83292, 83295, 83237, 83286, 83280,\n",
       "       83347, 83244, 83222, 83318, 83240, 83315, 83306, 83299, 83313,\n",
       "       83283, 83289, 83265, 83297, 83310, 83273, 83278, 83167, 83284,\n",
       "       83320, 83305, 83296, 83317, 83323, 83301, 83324, 83253, 83260,\n",
       "       83312, 83304, 83335, 83287, 83229, 83321, 83298, 83285, 83241,\n",
       "       83316, 83314, 83325, 83259, 83319, 83246])"
      ]
     },
     "execution_count": 93,
     "metadata": {},
     "output_type": "execute_result"
    }
   ],
   "source": [
    "ad['id'][ad['nout'] == 187]"
   ]
  },
  {
   "cell_type": "code",
   "execution_count": null,
   "metadata": {
    "collapsed": true
   },
   "outputs": [],
   "source": []
  },
  {
   "cell_type": "markdown",
   "metadata": {},
   "source": [
    "gal.idxs"
   ]
  },
  {
   "cell_type": "markdown",
   "metadata": {},
   "source": [
    "I have regularized galaxy evolution data.\n",
    "\n",
    "I want to measure rotation parameter before and after a merger.\n",
    "I take 20 lambda values before and after the merger, sigma clip outliers, and take median value.\n",
    "So dLambda = media(Lambda_after) - median(Lambda_before).\n",
    "\n",
    "However, Lambda measurement at 1Reff requires robust Reff measurement, which is very tough during merger events.\n",
    "So I smooth Reff evolution history to guess more reasonable Reff values at all points. Following is the procedure."
   ]
  },
  {
   "cell_type": "code",
   "execution_count": 42,
   "metadata": {
    "collapsed": false
   },
   "outputs": [
    {
     "name": "stderr",
     "output_type": "stream",
     "text": [
      "/home/hoseung/.local/lib/python3.4/site-packages/matplotlib/collections.py:590: FutureWarning: elementwise comparison failed; returning scalar instead, but in the future will perform elementwise comparison\n",
      "  if self._edgecolors == str('face'):\n"
     ]
    }
   ],
   "source": [
    "fig, ax = plt.subplots(1)\n",
    "ax.scatter(mr, dl)\n",
    "ax.set_ylim([-1,+1])\n",
    "ax.set_xlim([0, 10])\n",
    "plt.show()"
   ]
  },
  {
   "cell_type": "code",
   "execution_count": null,
   "metadata": {
    "collapsed": true
   },
   "outputs": [],
   "source": []
  },
  {
   "cell_type": "code",
   "execution_count": null,
   "metadata": {
    "collapsed": true
   },
   "outputs": [],
   "source": []
  },
  {
   "cell_type": "code",
   "execution_count": null,
   "metadata": {
    "collapsed": true
   },
   "outputs": [],
   "source": []
  },
  {
   "cell_type": "code",
   "execution_count": null,
   "metadata": {
    "collapsed": true
   },
   "outputs": [],
   "source": []
  },
  {
   "cell_type": "markdown",
   "metadata": {},
   "source": [
    "ind_reff_fix points to the Lambda_arr element closest to the fixed Reff at every nout."
   ]
  },
  {
   "cell_type": "markdown",
   "metadata": {},
   "source": [
    "왜 lambda_r 이랑 lambda_arr[4]랑 다르지? -> 0.5Reff에서 측정했었음..!\n",
    "그림에는 0.5Reff이지만 나머지는 1.0Reff로 쓸래.. \n",
    "나중에 그림도 1.0으로 바꾸지 뭐.. (lambda_single.py로)"
   ]
  },
  {
   "cell_type": "code",
   "execution_count": 9,
   "metadata": {
    "collapsed": true
   },
   "outputs": [],
   "source": [
    "fig, ax = plt.subplots(1)\n",
    "ax.plot(lam, 'b-')\n",
    "ax.plot(lam_fix, 'g--')\n",
    "plt.show()"
   ]
  },
  {
   "cell_type": "code",
   "execution_count": 11,
   "metadata": {
    "collapsed": false
   },
   "outputs": [],
   "source": [
    "y = gal.data['rgal']\n",
    "fig, ax = plt.subplots(1)\n",
    "ax.plot(y)\n",
    "ax.plot(smooth_r, 'r--')\n",
    "#ax.plot(smoothed_reff(gal.data['reff'], 102))\n",
    "ax.plot(gal.data['lambda_r'] * 20)\n",
    "ax.set_title(\"Rgal, Rgal_smoothed, and Lambda_r\")\n",
    "plt.show()"
   ]
  },
  {
   "cell_type": "code",
   "execution_count": 91,
   "metadata": {
    "collapsed": false
   },
   "outputs": [],
   "source": [
    "# plot all properties of a galaxy\n",
    "\n",
    "fig, axs = plt.subplots(4,4)\n",
    "axs = axs.flatten()\n",
    "for i, field in enumerate(gal.data.dtype.names):\n",
    "    if field == \"lambda_arr\":\n",
    "        continue\n",
    "    axs[i].plot(gal.data[field])\n",
    "    axs[i].set_ylabel(field)\n",
    "    \n",
    "plt.tight_layout()\n",
    "plt.show()"
   ]
  },
  {
   "cell_type": "code",
   "execution_count": 29,
   "metadata": {
    "collapsed": false
   },
   "outputs": [
    {
     "name": "stdout",
     "output_type": "stream",
     "text": [
      "0.247116707298 0.241349076274\n",
      "0.240646574733 0.245995951079\n"
     ]
    }
   ],
   "source": [
    "# i_merger가 정확해야하는데... \n",
    "# Tree에서 주는 merger는 final coalescence일 가능성이 높음. \n",
    "print(np.mean(al), np.mean(ar))\n",
    "print(np.median(al), np.median(ar))\n",
    "\n",
    "\n",
    "fig, ax = plt.subplots(1)\n",
    "ax.plot(x_al, lam[x_al], 'r')\n",
    "ax.plot(x_ar, lam[x_ar], 'b')\n",
    "ax.axhline(np.mean(al), color='r')\n",
    "ax.axhline(np.mean(ar), color='b')\n",
    "#ax.plot(smoothed_reff(gal.data['reff'], 102))\n",
    "ax.set_title(\"Rgal, Rgal_smoothed, and Lambda_r\")\n",
    "plt.show()\n"
   ]
  },
  {
   "cell_type": "markdown",
   "metadata": {},
   "source": [
    "I can measure dL in this way, but am I following the right galaxy? is the tree right?"
   ]
  },
  {
   "cell_type": "code",
   "execution_count": 223,
   "metadata": {
    "collapsed": false
   },
   "outputs": [
    {
     "name": "stdout",
     "output_type": "stream",
     "text": [
      "[(83116, 1.6080775310169404, 171) (83334, 9.723992317756643, 113)\n",
      " (83117, 5.628116671634298, 107) (83139, 1.8823297100888297, 124)\n",
      " (83345, 2.8883693284502954, 165) (83345, 1.0428572316559068, 152)\n",
      " (83184, 1.532682197682854, 105) (83155, 1.3627227787912803, 141)\n",
      " (83155, 1.4007294519675875, 138) (83178, 7.298628930814874, 150)\n",
      " (83208, 8.469499127479162, 113) (83242, 3.650532934609259, 136)\n",
      " (83196, 1.7698715554171962, 115)]\n"
     ]
    }
   ],
   "source": [
    "# load merger galaxy list (geneated by scripts/notebooks/halo/Merter_no_cat.ipynb)\n",
    "with open(wdir + 'merger_list.txt', 'rb') as f:\n",
    "    mgl = np.genfromtxt(f, dtype=[('idx','i8'),('mr','f8'),('nout','i4')])\n",
    "print(mgl)"
   ]
  },
  {
   "cell_type": "code",
   "execution_count": 225,
   "metadata": {
    "collapsed": false
   },
   "outputs": [
    {
     "data": {
      "text/plain": [
       "83116"
      ]
     },
     "execution_count": 225,
     "metadata": {},
     "output_type": "execute_result"
    }
   ],
   "source": [
    "mgl[0][0]"
   ]
  },
  {
   "cell_type": "code",
   "execution_count": null,
   "metadata": {
    "collapsed": true
   },
   "outputs": [],
   "source": []
  },
  {
   "cell_type": "code",
   "execution_count": 335,
   "metadata": {
    "collapsed": false
   },
   "outputs": [
    {
     "name": "stdout",
     "output_type": "stream",
     "text": [
      "len Lr_arr 91\n",
      "72\n",
      "[0]\n",
      "[ array([ 0.24895497,  0.44111995,  0.61401316,  0.74073474,  0.93864124,\n",
      "        1.03958405,  1.06799237,  1.09722928,  1.07574542,  1.19460084,\n",
      "        1.15060364,  1.26472134,  1.37878218,  1.39374947,  1.63227243])]\n"
     ]
    }
   ],
   "source": [
    "# Obsolete\n",
    "# lambda_arr = [0] instead of an array if ill measured.\n",
    "# filter them.\n",
    "\n",
    "def locate_wrong_arr(arrays, len_cut = 2):\n",
    "    ind_bad = []\n",
    "    for i, arr in enumerate(arrays):\n",
    "        if isinstance(arr, int): \n",
    "            ind_bad.append(i)\n",
    "        elif len(arr) < len_cut:\n",
    "            ind_bad.append(i)\n",
    "    return ind_bad\n",
    "\n",
    "arr = gal.data['lambda_arr'].copy()\n",
    "i_bad = locate_wrong_arr(arr)\n",
    "\n",
    "#print(\"len Lr_arr\", len(arr))\n",
    "\n",
    "for i_b in i_bad:\n",
    "    # neighbouring array might also be empty. Search for closest valid array.\n",
    "    # left point\n",
    "    i_l = i_b - 1\n",
    "    while(i_l in i_bad):\n",
    "        i_l = i_l - 1\n",
    "    # right point\n",
    "    i_r = i_b + 1\n",
    "    while(i_r in i_bad):\n",
    "        i_r = i_r + 1\n",
    "\n",
    "    arr[i_b] = arr[i_b -1] + arr[i_b +1]\n",
    "\n",
    "#fig, ax = plt.subplots(1)      \n",
    "#for arr in Lr_arr:\n",
    "#    ax.plot(arr)"
   ]
  }
 ],
 "metadata": {
  "kernelspec": {
   "display_name": "Python 3",
   "language": "python",
   "name": "python3"
  },
  "language_info": {
   "codemirror_mode": {
    "name": "ipython",
    "version": 3
   },
   "file_extension": ".py",
   "mimetype": "text/x-python",
   "name": "python",
   "nbconvert_exporter": "python",
   "pygments_lexer": "ipython3",
   "version": "3.4.3"
  }
 },
 "nbformat": 4,
 "nbformat_minor": 0
}
