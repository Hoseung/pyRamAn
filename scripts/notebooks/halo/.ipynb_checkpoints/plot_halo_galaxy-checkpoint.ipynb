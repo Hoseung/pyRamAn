{
 "cells": [
  {
   "cell_type": "code",
   "execution_count": 60,
   "metadata": {
    "collapsed": false
   },
   "outputs": [
    {
     "name": "stdout",
     "output_type": "stream",
     "text": [
      "Total 475 halos \n",
      "291 halos are selected\n",
      "Ngal [7]\n"
     ]
    }
   ],
   "source": [
    "wdir = '/home/hoseung/Work/data/05427/'\n",
    "cluster_name = wdir.split('/')[-2]\n",
    "\n",
    "frefine= 'refine_params.txt'\n",
    "fnml = 'cosmo_200.nml'\n",
    "nout_ini=186\n",
    "nout_fi=187\n",
    "nouts = range(nout_ini,nout_fi+1)\n",
    "\n",
    "scale = 5\n",
    "npix = 800\n",
    "\n",
    "m_halo_min = 5e9\n",
    "\n",
    "# data loading parameters\n",
    "ptype=[\"star pos mass\"]\n",
    "refine_params = True\n",
    "dmo=False\n",
    "draw=True\n",
    "draw_halos=True\n",
    "draw_part = True\n",
    "draw_hydro = False\n",
    "if draw_hydro:\n",
    "    lmax=19\n",
    "    \n",
    "import load\n",
    "import utils.sampling as smp\n",
    "import tree.halomodule as hmo\n",
    "import utils.match as mtc\n",
    "import draw\n",
    "import pickle\n",
    "import numpy as np\n",
    "from tree import tmtree\n",
    "\n",
    "info = load.info.Info(nout_fi, wdir, load=True)\n",
    "tt = tmtree.load(work_dir=wdir, filename=\"GalaxyMaker/TMtree.fits\")\n",
    "\n",
    "# Galaxy ID list\n",
    "hh = hmo.Halo(base=wdir, nout=nout_fi, halofinder='HM', info=info, load=True, is_gal=True)\n",
    "i_center = np.where(hh.data['np'] == max(hh.data['np']))\n",
    "i_satellites = smp.extract_halos_within(hh.data, i_center, scale=scale)\n",
    "print(\"Total {0} halos \\n{1} halos are selected\".format(len(i_satellites),sum(i_satellites)))\n",
    "\n",
    "large_enugh = hh.data['mvir'] > m_halo_min\n",
    "halo_list = hh.data['id'][i_satellites * large_enugh]\n",
    "h_ind_ok, gal_ok = tmtree.check_tree_complete(tt, 0, nout_fi - nout_ini, halo_list[4:5])\n",
    "final_gal = gal_ok[:,0]\n",
    "ngals = len(final_gal)\n",
    "print(\"Ngal\", final_gal)"
   ]
  },
  {
   "cell_type": "code",
   "execution_count": null,
   "metadata": {
    "collapsed": true
   },
   "outputs": [],
   "source": [
    "import matplotlib.pyplot as plt\n",
    "import tree\n",
    "from draw import pp\n",
    "\n",
    "#for igal, gal in enumerate(final_gal):\n",
    "#    for inout, nout in enumerate(nouts[1:]):\n",
    "igal = 0\n",
    "gal = 7\n",
    "nout - 187\n",
    "inout = 0\n",
    "snout = str(nout).zfill(3)\n",
    "\n",
    "# Only selected galaxy\n",
    "hh = hmo.Halo(base=wdir, nout=nout, halofinder='HM', info=info, load=True, is_gal=True)\n",
    "hind = np.where(hh.data['id'] == halo_ok[igal,inout])[0]\n",
    "h = hmo.Halo(base=wdir, nout=nout, halofinder='HM', info=info)\n",
    "h.derive_from(hh, hind)\n",
    "print(\"Final target galaxy: \")\n",
    "print(\" ID {} \\n POS {} {} {} \\n Rvir {}\".format(h.data['id'],\n",
    "                                                h.data['x'], h.data['y'], h.data['z'],\n",
    "                                                h.data['rvir']*200000))\n",
    "\n",
    "region = smp.set_region(xc=h.data['x'],\n",
    "                yc=h.data['y'],\n",
    "                zc=h.data['z'],\n",
    "                radius = h.data['rvir'] * 5)\n",
    "s = load.sim.Sim(nout, wdir, dmo=dmo, ranges=region[\"ranges\"], setup=True)\n",
    "imgs = draw.img_obj.MapSet(info=s.info, region=region)\n",
    "imgp = draw.img_obj.MapImg(info=s.info, proj='z', npix=npix, ptype=ptype)\n",
    "imgp.set_region(region)\n",
    "\n",
    "#%%\n",
    "if draw_part:\n",
    "    s.add_part(ptype)\n",
    "    s.part.load()\n",
    "    part = getattr(s.part, s.part.pt[0])\n",
    "\n",
    "    x = part['x']\n",
    "    y = part['y']\n",
    "    z = part['z']\n",
    "    m = part['m'] * s.info.msun # part must be normalized already!\n",
    "    #imgp.set_data(draw.pp.den2d(x, y, z, m, npix, s.info, cic=True, norm_integer=True))\n",
    "    imgp.set_data(draw.pp.den2d(x, y, z, m, npix, region=region, cic=True, norm_integer=True))\n",
    "    imgs.ptden2d = imgp\n",
    "#    imgp.show_data()\n",
    "\n",
    "#%%\n",
    "if draw_hydro:\n",
    "    s.add_hydro()\n",
    "    s.hydro.amr2cell(lmax=lmax)\n",
    "    field = draw.pp.pp_cell(s.hydro.cell, npix, s.info, verbose=True)\n",
    "    ptype = 'gas_den'\n",
    "    imgh = draw.img_obj.MapImg(info=s.info, proj='z', npix=npix, ptype=ptype)\n",
    "    imgh.set_data(field)\n",
    "    imgh.set_region(region)\n",
    "#    imgh.show_data()\n",
    "    imgs.hydro = imgh\n",
    "#%%\n",
    "\n",
    "fdump = wdir + snout + 'map.pickle'\n",
    "with open(fdump, 'wb') as f:\n",
    "    pickle.dump(imgs, f)\n",
    "if draw:\n",
    "    if draw_part:\n",
    "        imgs.ptden2d.plot_2d_den(save= wdir + cluster_name + snout +'star.png',\n",
    "                                 vmax=20,vmin=15, dpi=400, show=False)\n",
    "    if draw_hydro:    \n",
    "        imgs.hydro.plot_2d_den(save= wdir + cluster_name +snout + 'hydro.png',\n",
    "                               vmax=15,vmin=10, show=False, dpi=400)"
   ]
  },
  {
   "cell_type": "code",
   "execution_count": 70,
   "metadata": {
    "collapsed": false
   },
   "outputs": [
    {
     "name": "stdout",
     "output_type": "stream",
     "text": [
      "Are these parameters right?\n"
     ]
    }
   ],
   "source": [
    "fig = plt.figure()\n",
    "ax1 = fig.add_subplot(111)\n",
    "snout = str(nout).zfill(3)\n",
    "fin = wdir + snout + 'map.pickle'\n",
    "with open(fin, 'rb') as f:\n",
    "    img = pickle.load(f)\n",
    "\n",
    "ptimg = img.ptden2d\n",
    "fout = wdir + snout + \"dmmap_\" + ptimg.proj + \".png\"\n",
    "img.ptden2d.plot_2d_den(save=False, show=False, vmin=1e13, vmax=1e20, dpi=400, axes=ax1)\n",
    "\n",
    "#s = load.sim.Sim(nout, base_dir)\n",
    "info = load.info.Info(nout=nout, base=wdir, load=True)\n",
    "#hall = tree.halomodule.Halo(nout=nout, base=wdir, halofinder=\"HM\", info=info, load=True, is_gal=True)\n",
    "#i_center = np.where(hall.data['np'] == max(hall.data['np']))\n",
    "#h = tree.halomodule.Halo()\n",
    "#h.derive_from(hh, [i_center]) \n",
    "\n",
    "ind = np.where(hall.data.mvir > 1e9)\n",
    "h_sub = tree.halomodule.Halo()\n",
    "h_sub.derive_from(hh, ind) \n",
    "\n",
    "#ax1.set_xlim(right=npix).\n",
    "#ax1.set_ylim(top=npix)\n",
    "#pp.pp_halo(h_sub, npix, region=img.ptden2d.region, axes=ax1, rscale=3, name=True)\n",
    "pp.pp_halo(h_sub, npix, region=region, axes=ax1, rscale=3, name=True)\n",
    "\n",
    "plt.show()\n",
    "        #plt.savefig(\"aaa.png\")"
   ]
  },
  {
   "cell_type": "code",
   "execution_count": 73,
   "metadata": {
    "collapsed": false
   },
   "outputs": [
    {
     "data": {
      "text/plain": [
       "187"
      ]
     },
     "execution_count": 73,
     "metadata": {},
     "output_type": "execute_result"
    }
   ],
   "source": [
    "nout"
   ]
  },
  {
   "cell_type": "code",
   "execution_count": null,
   "metadata": {
    "collapsed": true
   },
   "outputs": [],
   "source": []
  }
 ],
 "metadata": {
  "kernelspec": {
   "display_name": "Python 3",
   "language": "python",
   "name": "python3"
  },
  "language_info": {
   "codemirror_mode": {
    "name": "ipython",
    "version": 3
   },
   "file_extension": ".py",
   "mimetype": "text/x-python",
   "name": "python",
   "nbconvert_exporter": "python",
   "pygments_lexer": "ipython3",
   "version": "3.4.3"
  }
 },
 "nbformat": 4,
 "nbformat_minor": 0
}
