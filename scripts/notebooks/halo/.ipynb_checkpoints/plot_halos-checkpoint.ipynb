{
 "cells": [
  {
   "cell_type": "markdown",
   "metadata": {},
   "source": [
    "### Halo check\n",
    "Plot halos to see if halofinders work well"
   ]
  },
  {
   "cell_type": "code",
   "execution_count": 5,
   "metadata": {
    "collapsed": false
   },
   "outputs": [
    {
     "name": "stdout",
     "output_type": "stream",
     "text": [
      "\n",
      "type namelist file name (enter = cosmo_200.nml):\n",
      "Starting nout?186\n",
      "ending nout?187\n",
      "Scale?: 1.0\n",
      "npix (enter = 400)800\n"
     ]
    }
   ],
   "source": [
    "#import os\n",
    "#base = os.path.abspath('/home/hoseung/Work/data/05427/')\n",
    "\n",
    "#base = base + '/'\n",
    "\n",
    "# basic parameters\n",
    "# Directory, file names, snapshots, scale, npix\n",
    "base = '/home/hoseung/Work/data/05427/'\n",
    "cluster_name = base.split('/')[-2]\n",
    "frefine= 'refine_params.txt'\n",
    "fnml = input(\"type namelist file name (enter = cosmo_200.nml):\")\n",
    "if fnml ==\"\":\n",
    "    fnml = 'cosmo_200.nml'\n",
    "nout_ini=int(input(\"Starting nout?\"))\n",
    "nout_fi=int(input(\"ending nout?\"))\n",
    "nouts = range(nout_ini,nout_fi+1)\n",
    "\n",
    "scale = input(\"Scale?: \")\n",
    "if scale==\"\":\n",
    "    scale = 0.3\n",
    "scale = float(scale)\n",
    "\n",
    "npix = input(\"npix (enter = 400)\")\n",
    "if npix == \"\":\n",
    "    npix = 400\n",
    "npix = int(npix)\n",
    "\n",
    "# data loading parameters\n",
    "ptype=[\"star pos mass\"]\n",
    "refine_params = True\n",
    "dmo=False\n",
    "draw=True\n",
    "draw_halos=True\n",
    "draw_part = True\n",
    "draw_hydro = False\n",
    "if draw_hydro:\n",
    "    lmax=input(\"maximum level\")\n",
    "    if lmax==\"\":\n",
    "        lmax=19\n",
    "    lmax = int(lmax)"
   ]
  },
  {
   "cell_type": "code",
   "execution_count": 8,
   "metadata": {
    "collapsed": false
   },
   "outputs": [
    {
     "name": "stdout",
     "output_type": "stream",
     "text": [
      "Ranges = [[0.486934514119, 0.526934514119], [0.292903416014, 0.33290341601400003], [0.283048251159, 0.32304825115900004]]\n",
      "\n",
      "No AMR instance,\n",
      "Loading one...\n",
      "An AMR instance is created\n",
      "\n",
      "Updating info.cpus\n",
      "An AMR instance is created\n",
      "\n",
      "Updating info.cpus\n",
      " Simulation set up.\n",
      "Updating data\n",
      "Types of particles you want to load are:  ['star pos mass']\n",
      "No AMR instance,\n",
      "Loading one...\n",
      "An AMR instance is created\n",
      "\n",
      "Updating info.cpus\n",
      "No info._set_cpus attribute??\n",
      "A particle instance is created\n",
      "\n",
      "Use part.load() to load particle\n",
      "Loading particle... \n",
      " ranges: [[0.486934514119, 0.526934514119], [0.292903416014, 0.33290341601400003], [0.283048251159, 0.32304825115900004]]\n",
      "npart_arr: [529265, 150869, 20003, 22575, 43984, 37461, 36154, 48006, 57590, 9513, 17105, 27692, 22877, 11515, 26766, 522364, 19630, 24029, 24154, 22484, 11173, 9271, 824362, 56354, 475406, 254975, 29430, 23149, 5520, 8118, 7391, 9926, 15295, 15177, 28856, 30638, 27114, 33751, 7464, 204523, 309474, 19159, 43451, 8224, 35226, 21942, 11894, 17735, 20877, 21723, 15979, 70024, 5921, 9949, 10020, 16786, 11333, 21722, 14847, 19518, 17132, 21256, 9394, 27007, 26537, 21641, 27645, 24015, 17073, 7606, 34677, 8870, 30942, 20329, 30404, 7629, 8131, 30725, 20468, 10113, 19699, 12102, 19664, 38313, 38244, 69874, 109368, 24489, 11307, 20466, 52467, 19660, 13548, 33961, 13332, 45313, 47917, 18428, 23815, 11196, 7319, 41786, 43866, 32716, 26223, 16488, 26614, 20561, 38232, 38293, 26603, 28724, 16690, 52383, 33255, 45442, 32104, 11932, 17118, 17921, 84654, 18490, 36028, 44233, 33678, 9302, 23399, 10536, 32452, 26232, 38902, 27886, 32312, 58857, 21297, 34302, 26282, 23167, 47750, 76078, 59090, 70214, 20422, 41138, 88852, 82494, 31957, 23277, 73332, 43356, 33305, 8980, 53595, 50352, 47958, 73418, 80016, 38782, 13865, 28989, 49620, 60289, 94562, 92784, 66015, 52305, 56445, 48663, 41591, 85647, 52880, 86496, 894, 4107, 44887, 60310, 22963, 33196, 17234, 37436, 44829, 93569, 128584, 4726, 4381, 14496, 25216, 32565, 91911, 28984, 17981, 27571, 69113, 35791, 2762, 46956, 64625, 64696, 3215, 4447, 39170, 28169, 22718, 6339, 43872, 40548, 41209, 31514, 7657, 34874, 1874, 42945, 32000, 43026, 17290, 41553, 28773, 48842, 31395, 32984, 15848, 43440, 53971, 68887, 39082, 53564, 34854, 38711, 29219, 43339, 50797, 30328, 19171, 23300, 24489, 31471, 22893, 12415, 223497, 15420, 15723, 6762, 46117, 35463, 43322, 584027, 31820, 7328, 9258, 10080, 8547, 19347, 14112, 5431, 16543, 10737, 17104, 15103, 22363, 3922, 20825, 9516, 10737, 21872, 18589, 1100, 34399, 48714, 44292, 37897, 20593, 10549, 43452, 42166, 23834, 17400, 24698, 38343, 38517, 25552, 16764, 28588, 23986, 21962, 25219, 18429, 18746, 15464, 18246, 53176, 11873, 34195, 13824, 34217, 36625, 26595, 29859, 23787, 14560, 29480, 18774, 10195, 59160, 26622, 36086, 54378, 40566, 47629, 39171, 30037, 46922, 48545, 65365, 58790, 69937, 25395, 68465, 35501, 66447, 31385, 50651, 25449, 10812, 20569, 35861, 26726, 15062, 30619, 53629, 37574, 27291, 8216, 17065, 61571, 20034, 62319, 60138, 57448, 30817, 23710, 13328, 49182, 53300, 74505, 81985, 52126, 29145, 24000, 39309, 57308, 30143, 41471, 58924, 68170, 85980, 45847, 58099, 62767, 14864, 13621, 46571, 66094, 84409, 57987, 91566, 45780, 55043, 53591, 29607, 13157, 326, 3101, 96341, 47163, 34352, 31671, 47208, 16953, 11941, 14103, 25071, 52109, 43121, 45686, 5310, 40943, 26962, 28618, 50700, 20850, 6761, 46515, 18665, 36488, 45376, 47810, 49104, 9329, 51838, 31268, 17730, 45549, 34136, 57291, 21198, 24641, 37536, 37781, 27909, 7314, 44860, 49944, 50581, 35038, 63620, 8057, 45088, 16808, 11595, 16316, 67988, 26044, 41473, 28600, 18396, 37386, 13051, 24468, 29761, 45706, 22299, 15762, 47005, 17895, 13167, 11750, 14427, 12007, 21804, 27693, 48735, 19316, 10829, 11816, 18551, 5868, 15858, 25487, 20857, 7633, 11421, 5150, 577, 10568, 78677, 19543, 19636, 46467, 14042, 12867, 41928, 56219, 51409, 39481, 21861, 21116, 14889, 19717, 26649, 20875, 9941, 20052, 3511, 27773, 23280, 17796, 39632, 35024, 11286, 14843, 19374, 25490, 12914, 45499, 40331, 58693, 20762, 1991, 15542, 29187, 40573, 48939, 10857, 27722, 22813, 6546, 40336, 54689, 31695, 32252, 374216, 43405, 17217, 64585, 333731, 228090, 1142615]\n",
      "Total DM particle 3986787\n",
      "Total star particle 10414404\n",
      "Total sink particle 1594404\n",
      "Resampling 10294369 values to a 800 by 800 by 1 grid\n",
      "Updating field vals\n",
      "Updating field vals\n",
      "Updating field vals\n",
      "Updating field vals\n",
      "minmax field after crop and converting into physical unit 54131815.8091 2.34816405446e+19\n",
      "Updating data\n"
     ]
    },
    {
     "ename": "IndexError",
     "evalue": "index 187 is out of bounds for axis 0 with size 187",
     "output_type": "error",
     "traceback": [
      "\u001b[1;31m---------------------------------------------------------------------------\u001b[0m",
      "\u001b[1;31mIndexError\u001b[0m                                Traceback (most recent call last)",
      "\u001b[1;32m<ipython-input-8-74cf5e08ab42>\u001b[0m in \u001b[0;36m<module>\u001b[1;34m()\u001b[0m\n\u001b[0;32m     18\u001b[0m         \u001b[0mnn\u001b[0m \u001b[1;33m=\u001b[0m \u001b[0mload\u001b[0m\u001b[1;33m.\u001b[0m\u001b[0minfo\u001b[0m\u001b[1;33m.\u001b[0m\u001b[0mNml\u001b[0m\u001b[1;33m(\u001b[0m\u001b[0mfname\u001b[0m\u001b[1;33m=\u001b[0m\u001b[0mbase\u001b[0m \u001b[1;33m+\u001b[0m \u001b[0mfnml\u001b[0m\u001b[1;33m)\u001b[0m\u001b[1;33m\u001b[0m\u001b[0m\n\u001b[0;32m     19\u001b[0m \u001b[1;33m\u001b[0m\u001b[0m\n\u001b[1;32m---> 20\u001b[1;33m         \u001b[0maexp\u001b[0m \u001b[1;33m=\u001b[0m \u001b[0mnn\u001b[0m\u001b[1;33m.\u001b[0m\u001b[0maout\u001b[0m\u001b[1;33m[\u001b[0m\u001b[0mnout\u001b[0m\u001b[1;33m]\u001b[0m\u001b[1;33m\u001b[0m\u001b[0m\n\u001b[0m\u001b[0;32m     21\u001b[0m         \u001b[0mi_aexp\u001b[0m \u001b[1;33m=\u001b[0m \u001b[0mmtc\u001b[0m\u001b[1;33m.\u001b[0m\u001b[0mclosest\u001b[0m\u001b[1;33m(\u001b[0m\u001b[0maexp\u001b[0m\u001b[1;33m,\u001b[0m \u001b[0mrr\u001b[0m\u001b[1;33m.\u001b[0m\u001b[0maexp\u001b[0m\u001b[1;33m)\u001b[0m\u001b[1;33m\u001b[0m\u001b[0m\n\u001b[0;32m     22\u001b[0m \u001b[1;33m\u001b[0m\u001b[0m\n",
      "\u001b[1;31mIndexError\u001b[0m: index 187 is out of bounds for axis 0 with size 187"
     ]
    }
   ],
   "source": [
    "import load\n",
    "import utils.sampling as smp\n",
    "import utils.match as mtc\n",
    "import draw\n",
    "import pickle\n",
    "\n",
    "\n",
    "for nout in nouts:\n",
    "    snout = str(nout).zfill(3)\n",
    "\n",
    "    if refine_params:\n",
    "        # instead of calculating zoomin region, just load it from the refine_params.txt file.\n",
    "        # region = s.part.search_zoomin(scale=0.5, load=True)\n",
    "\n",
    "        rr = load.info.RefineParam()\n",
    "        rr.loadRegion(base + frefine)\n",
    "      \n",
    "        nn = load.info.Nml(fname=base + fnml)\n",
    "        \n",
    "        aexp = nn.aout[nout-1]\n",
    "        i_aexp = mtc.closest(aexp, rr.aexp)\n",
    "        \n",
    "        x_refine = rr.x_refine[i_aexp]\n",
    "        y_refine = rr.y_refine[i_aexp]\n",
    "        z_refine = rr.z_refine[i_aexp]\n",
    "        r_refine = rr.r_refine[i_aexp] * 0.5\n",
    "        \n",
    "        region = smp.set_region(xc = x_refine, yc = y_refine, zc = z_refine,\n",
    "                                radius = r_refine * scale)\n",
    "    else:   \n",
    "        region = smp.set_region(xc=0.5, yc=0.5, zc=0.5, radius=0.1)   \n",
    "        \n",
    "    s = load.sim.Sim(nout, base, dmo=dmo, ranges=region[\"ranges\"], setup=True)\n",
    "    imgs = draw.img_obj.MapSet(info=s.info, region=region)\n",
    "    imgp = draw.img_obj.MapImg(info=s.info, proj='z', npix=npix, ptype=ptype)\n",
    "    imgp.set_region(region)\n",
    "\n",
    "    #%%\n",
    "    if draw_part:\n",
    "        s.add_part(ptype)\n",
    "        s.part.load()\n",
    "        part = getattr(s.part, s.part.pt[0])\n",
    "    \n",
    "        x = part['x']\n",
    "        y = part['y']\n",
    "        z = part['y']\n",
    "        m = part['m'] * s.info.msun # part must be normalized already!\n",
    "    \n",
    "        #imgp.set_data(draw.pp.den2d(x, y, z, m, npix, s.info, cic=True, norm_integer=True))\n",
    "        imgp.set_data(draw.pp.den2d(x, y, z, m, npix, region, cic=True, norm_integer=True))\n",
    "        imgs.ptden2d = imgp\n",
    "#    imgp.show_data()\n",
    "\n",
    "    #%%\n",
    "    if draw_hydro:\n",
    "        s.add_hydro()\n",
    "        s.hydro.amr2cell(lmax=lmax)\n",
    "        field = draw.pp.pp_cell(s.hydro.cell, npix, s.info, verbose=True)\n",
    "        ptype = 'gas_den'\n",
    "        imgh = draw.img_obj.MapImg(info=s.info, proj='z', npix=npix, ptype=ptype)\n",
    "        imgh.set_data(field)\n",
    "        imgh.set_region(region)\n",
    "    #    imgh.show_data()\n",
    "        imgs.hydro = imgh\n",
    "    \n",
    "    #%%\n",
    "    fdump = base + snout + 'map.pickle'\n",
    "    with open(fdump, 'wb') as f:\n",
    "        pickle.dump(imgs, f)\n",
    "    if draw:\n",
    "        if draw_part:\n",
    "            imgs.ptden2d.plot_2d_den(save= base + cluster_name + snout +'star.png', dpi=400, show=False)\n",
    "        if draw_hydro:    \n",
    "            imgs.hydro.plot_2d_den(save= base + cluster_name +snout + 'hydro.png',vmax=15,vmin=10, show=False,\n",
    "                                   dpi=400)"
   ]
  },
  {
   "cell_type": "code",
   "execution_count": 20,
   "metadata": {
    "collapsed": false
   },
   "outputs": [
    {
     "name": "stdout",
     "output_type": "stream",
     "text": [
      "Are these parameters right?\n",
      "Are these parameters right?\n"
     ]
    }
   ],
   "source": [
    "import matplotlib.pyplot as plt\n",
    "fig = plt.figure()\n",
    "ax1 = fig.add_subplot(111)\n",
    "snout = str(nout).zfill(3)\n",
    "\n",
    "fin = base + snout + 'map.pickle'\n",
    "with open(fin, 'rb') as f:\n",
    "    img = pickle.load(f)\n",
    "\n",
    "ptimg = img.ptden2d\n",
    "fout = base + snout + \"dmmap_\" + ptimg.proj + \".png\"\n",
    "img.ptden2d.plot_2d_den(save=False, show=False, vmin=1e13, vmax=1e20, dpi=400, axes=ax1)\n",
    "\n",
    "import tree\n",
    "import numpy as  np\n",
    "\n",
    "#s = load.sim.Sim(nout, base_dir)\n",
    "info = load.info.Info(nout=nout, base=base, load=True)\n",
    "hall = tree.halomodule.Halo(nout=nout, base=base, halofinder=\"HM\", info=info, load=True)\n",
    "\n",
    "i_center = np.where(hall.data['np'] == max(hall.data['np']))\n",
    "h = tree.halomodule.Halo()\n",
    "h.derive_from(hall, [i_center]) \n",
    "\n",
    "#region = smp.set_region(xc=h.data.x, yc=h.data.y, zc=h.data.z, radius = h.data.rvir * 2)      \n",
    "\n",
    "#%%\n",
    "from draw import pp\n",
    "\n",
    "ind = np.where(hall.data.mvir > 5e10)\n",
    "h_sub = tree.halomodule.Halo()\n",
    "h_sub.derive_from(hall, ind) \n",
    "#x = hall.data.x#[ind]\n",
    "#y = hall.data.y#[ind]\n",
    "#r = hall.data.rvir#[ind]\n",
    "#pp.circle_scatter(ax1, x*npix, y*npix, r*30, facecolor='none', edgecolor='b', label='555')\n",
    "\n",
    "#ax1.set_xlim(right=npix).\n",
    "#ax1.set_ylim(top=npix)\n",
    "pp.pp_halo(h_sub, npix, region=img.ptden2d.region, axes=ax1, rscale=3, name=True)\n",
    "\n",
    "plt.show()"
   ]
  },
  {
   "cell_type": "markdown",
   "metadata": {},
   "source": [
    "##### Load halofinder result\n",
    "\n",
    "##### get position and virial radius \n",
    "\n",
    "##### load particles data (star or DM) and draw density map\n",
    "##### plot halos on top of particle density map"
   ]
  },
  {
   "cell_type": "code",
   "execution_count": 15,
   "metadata": {
    "collapsed": false
   },
   "outputs": [
    {
     "name": "stdout",
     "output_type": "stream",
     "text": [
      "Are these parameters right?\n",
      "Are these parameters right?\n"
     ]
    }
   ],
   "source": []
  },
  {
   "cell_type": "code",
   "execution_count": null,
   "metadata": {
    "collapsed": true
   },
   "outputs": [],
   "source": []
  }
 ],
 "metadata": {
  "kernelspec": {
   "display_name": "Python 3",
   "language": "python",
   "name": "python3"
  },
  "language_info": {
   "codemirror_mode": {
    "name": "ipython",
    "version": 3
   },
   "file_extension": ".py",
   "mimetype": "text/x-python",
   "name": "python",
   "nbconvert_exporter": "python",
   "pygments_lexer": "ipython3",
   "version": "3.4.3"
  }
 },
 "nbformat": 4,
 "nbformat_minor": 0
}
