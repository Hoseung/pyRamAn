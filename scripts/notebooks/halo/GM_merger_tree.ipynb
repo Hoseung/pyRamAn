{
 "cells": [
  {
   "cell_type": "raw",
   "metadata": {},
   "source": [
    "Draw merger tree using GalaxyMaker + ConsistenTree\n",
    "\n",
    "\n",
    "2015. 12. 01 \n",
    "    Functionally OK.\n",
    "    Looks ugly: displacement dx should be more adaptive. \n",
    "    "
   ]
  },
  {
   "cell_type": "code",
   "execution_count": 1,
   "metadata": {
    "collapsed": false
   },
   "outputs": [],
   "source": [
    "import tree.ctutils as ctu\n",
    "\n",
    "def link_circle_up(x, y, r, ax, finish=0):\n",
    "    \"\"\"\n",
    "    Given two points, draw circle at the first point and link it to the second point\n",
    "    without drawing the second point by default (so that it can repeat to build a long thread of bids).\n",
    "    for the last point, pass the radius of the last circle to the argument 'finish'\n",
    "    \n",
    "    For example,\n",
    "\n",
    "    fig = plt.figure()\n",
    "    ax = fig.add_subplot(111)\n",
    "    xpos = [1,1] &  ypos = [2,4]\n",
    "    link_circle(xpos, ypos, 10, ax)\n",
    "\n",
    "    xpos = [1,2] & ypos = [4,6]\n",
    "    link_circle(xpos, ypos, 30, ax, finish=30)\n",
    "    fig.show()\n",
    "    \"\"\"\n",
    "    ax.plot(x[0], y[0], 'o', ms=r, lw=2,  alpha=0.7, mfc='orange')\n",
    "    ax.plot(x, y, '-', c='black',alpha=0.7)\n",
    "    if finish > 0:\n",
    "        ax.plot(x[1], y[1], 'o', ms=20, lw=2, alpha=0.7, mfc='orange')    \n",
    "\n",
    "def get_xarr(n):\n",
    "    import numpy as np\n",
    "    arr=[]\n",
    "    a=0\n",
    "    for i in range(n):\n",
    "        a += (-1)**i * i\n",
    "        arr.append(a)\n",
    "    return np.asarray(arr)  \n",
    "        \n",
    "def recursive_tree(idx, tt, nstep, ax, x0, y0, dx, mass_unit=1e10):\n",
    "    import tree.draw_merger_tree as dmt\n",
    "    prgs = ctu.get_progenitors(tt, idx)\n",
    "    i_this_gal = np.where(tt['id'] == idx)\n",
    "    m = np.sqrt(tt[i_this_gal][\"mvir\"] / mass_unit)\n",
    "    #print(\"IDX:\", idx, \"prgs: \",prgs, \"mass:\", m, i_this_gal)\n",
    "    nprg = len(prgs)\n",
    "    if nstep == 0:\n",
    "        return \n",
    "    else:\n",
    "        if nprg == 0:\n",
    "            return\n",
    "        else:\n",
    "            if nprg > 1:\n",
    "                #dx *= 1.1\n",
    "                dx += 0.5\n",
    "#                print(\"Branch!\", nprg)\n",
    "\n",
    "            #xarr = get_xarr(nprg) * dx + x0\n",
    "            xarr = np.arange(nprg) * dx + x0\n",
    "            for i, x in zip(prgs, xarr):\n",
    "                link_circle_up([x0, x], [y0, y0 + 1], m, ax)\n",
    "                recursive_tree(i, tt, nstep - 1, ax, x, y0 + 1, dx, mass_unit=mass_unit)\n"
   ]
  },
  {
   "cell_type": "code",
   "execution_count": 2,
   "metadata": {
    "collapsed": false
   },
   "outputs": [
    {
     "name": "stdout",
     "output_type": "stream",
     "text": [
      "Loaded an extended tree\n"
     ]
    }
   ],
   "source": [
    "from tree import treemodule\n",
    "from tree import treeutils\n",
    "import pickle\n",
    "import numpy as np\n",
    "\n",
    "alltrees = treemodule.CTree()\n",
    "wdir = '/home/hoseung/Work/data/05427/'\n",
    "is_gal = True\n",
    "\n",
    "if is_gal:\n",
    "    # Galaxy tree\n",
    "    tree_path = 'GalaxyMaker/Trees/'\n",
    "else:\n",
    "    # halo tree\n",
    "    tree_path = 'halo/Trees/'\n",
    "    \n",
    "try:\n",
    "    alltrees = pickle.load(open(wdir + tree_path + \"extended_tree.pickle\", \"rb\" ))\n",
    "    print(\"Loaded an extended tree\")\n",
    "except:\n",
    "    alltrees = treemodule.CTree()\n",
    "    alltrees.load(filename= wdir + tree_path + 'tree_0_0_0.dat')\n",
    "    # Fix nout -----------------------------------------------------\n",
    "    nout_max = alltrees.data['nout'].max()\n",
    "    alltrees.data['nout'] += 187 - nout_max\n",
    "    print(\"------ NOUT fixed\")\n",
    "    alltrees.data = ctu.augment_tree(alltrees.data, wdir, is_gal=is_gal)\n",
    "    print(\"------ tree data extended\")\n",
    "\n"
   ]
  },
  {
   "cell_type": "code",
   "execution_count": 6,
   "metadata": {
    "collapsed": true
   },
   "outputs": [],
   "source": [
    "def extract_main_tree(treedata, idx=None):\n",
    "    \"\"\"\n",
    "        Returns a single branch/trunk of tree following only the main progenitors.\n",
    "        Works with both alltrees or atree.\n",
    "        Search until no progenitor is found. Doesn't matter how long the given tree is. \n",
    "        Only earlier snapshots are searched for.\n",
    "    \"\"\"\n",
    "    \n",
    "    if idx == None:\n",
    "        print(\"No idx is given\")\n",
    "        idx = treedata['id'][0]\n",
    "        print(\"idx = \", idx)\n",
    "\n",
    "    \n",
    "    nprg = 1\n",
    "    ind_list=[np.where(treedata['id'] == idx)[0][0]]\n",
    "      \n",
    "    while nprg > 0:\n",
    "        idx = ctu.get_progenitors(treedata, idx, main=True)\n",
    "        ind_list.append(np.where(treedata['id'] == idx[0])[0][0])\n",
    "        nprg = ctu.get_npr(treedata, idx[0])\n",
    "\n",
    "    return treedata[ind_list]"
   ]
  },
  {
   "cell_type": "code",
   "execution_count": 5,
   "metadata": {
    "collapsed": false
   },
   "outputs": [],
   "source": [
    "nout_fi = 187\n",
    "\n",
    "i_final = np.where(alltrees.data[\"nout\"] == nout_fi)\n",
    "ttt_sub = alltrees.data[i_final]\n",
    "import matplotlib.pyplot as plt\n",
    "\n",
    "nout_fi = 187\n",
    "nout_ini = 30\n",
    "\n",
    "nouts = np.arange(nout_fi - nout_ini + 1)\n",
    "\n",
    "final_gals = ttt_sub['id']\n",
    "final_gals_org = ttt_sub['Orig_halo_id']\n",
    "\n",
    "plt.ioff()\n",
    "fig = plt.figure(figsize=[6,6])\n",
    "ax = fig.add_subplot(111)\n",
    "\n",
    "zreds = np.unique(alltrees.data[\"aexp\"])[:len(nouts)]\n",
    "zreds = [\"%.2f\" % (1/i -1) for i in np.unique(alltrees.data[\"aexp\"])[:-len(nouts):-1]]\n",
    "\n",
    "for galid in final_gals[11:50]:\n",
    "    plt.cla()\n",
    "    sidgal = str(galid).zfill(5)      \n",
    "    \n",
    "    #print(zreds)\n",
    "    atree = ctu.extract_a_tree(alltrees.data, galid)\n",
    "    recursive_tree(galid, atree, 150, ax, 0, 0, 0.8, mass_unit=2e8)\n",
    "    \n",
    "    # y axis label (redshift)\n",
    "    ax.set_ylabel(\"Redshift\")\n",
    "    #ax.set_xlim([-0.5,30])\n",
    "    ax.set_ylim([-5,155])\n",
    "    plt.yticks(range(0,151,10), zreds[0:151:10])\n",
    "    ax.set_title(sidgal + \", \" + str(atree[0]['Orig_halo_id']))\n",
    "    #fig.show()\n",
    "    plt.savefig(wdir + \"mergertrees/\" + sidgal + '.png')\n",
    "    #plt.close()"
   ]
  },
  {
   "cell_type": "code",
   "execution_count": 9,
   "metadata": {
    "collapsed": false
   },
   "outputs": [
    {
     "data": {
      "text/plain": [
       "'3.00'"
      ]
     },
     "execution_count": 9,
     "metadata": {},
     "output_type": "execute_result"
    }
   ],
   "source": [
    "zreds[150]"
   ]
  },
  {
   "cell_type": "raw",
   "metadata": {},
   "source": [
    "It's working well. \n",
    "Now search the tree to calculate construct catalog, and search for mergers."
   ]
  }
 ],
 "metadata": {
  "kernelspec": {
   "display_name": "Python 3",
   "language": "python",
   "name": "python3"
  },
  "language_info": {
   "codemirror_mode": {
    "name": "ipython",
    "version": 3
   },
   "file_extension": ".py",
   "mimetype": "text/x-python",
   "name": "python",
   "nbconvert_exporter": "python",
   "pygments_lexer": "ipython3",
   "version": "3.4.3"
  }
 },
 "nbformat": 4,
 "nbformat_minor": 0
}
