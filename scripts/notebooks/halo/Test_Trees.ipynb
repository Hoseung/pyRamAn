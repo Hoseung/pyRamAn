{
 "cells": [
  {
   "cell_type": "raw",
   "metadata": {},
   "source": [
    "Now it's time to test new tree. \n",
    "There must be already some scripts for the testing."
   ]
  },
  {
   "cell_type": "code",
   "execution_count": 1,
   "metadata": {
    "collapsed": false
   },
   "outputs": [
    {
     "name": "stdout",
     "output_type": "stream",
     "text": [
      "Loading Consistent Tree data from ASCII is done\n"
     ]
    }
   ],
   "source": [
    "from tree import treemodule\n",
    "from tree import treeutils\n",
    "import numpy as np\n",
    "\n",
    "alltrees = treemodule.CTree()\n",
    "wdir = '/home/hoseung/Work/data/05427/'\n",
    "alltrees.load(filename= wdir + 'rhalo/Trees/tree_0_0_0.dat')\n"
   ]
  },
  {
   "cell_type": "raw",
   "metadata": {},
   "source": [
    "How to extract a full tree and plot it? \n",
    "\n",
    "Unlike TMtree, A full tree is given in continuous lines. \n",
    "\n",
    "1) extract one tree \n",
    "2) from the last snapshots, find progenitors\n",
    "3) link progenitors with the descendant."
   ]
  },
  {
   "cell_type": "code",
   "execution_count": 2,
   "metadata": {
    "collapsed": true
   },
   "outputs": [],
   "source": [
    "def extract_a_tree(alltrees, idx_last):\n",
    "    i_last = np.where(alltrees['id'] == idx_last)\n",
    "    return alltrees[np.where(alltrees['tree_root_id'] == idx_last)]\n",
    "    \n",
    "def get_progenitors(treedata, idx):\n",
    "    iprgs = np.where(treedata['desc_id'] == idx)\n",
    "    idx_prgs = treedata['id'][iprgs]\n",
    "    return idx_prgs"
   ]
  },
  {
   "cell_type": "code",
   "execution_count": 3,
   "metadata": {
    "collapsed": false
   },
   "outputs": [],
   "source": [
    "atree = extract_a_tree(alltrees.data, 110226)"
   ]
  },
  {
   "cell_type": "code",
   "execution_count": 4,
   "metadata": {
    "collapsed": false
   },
   "outputs": [
    {
     "data": {
      "text/plain": [
       "array([], dtype=int64)"
      ]
     },
     "execution_count": 4,
     "metadata": {},
     "output_type": "execute_result"
    }
   ],
   "source": [
    "get_progenitors(atree, 107277)"
   ]
  },
  {
   "cell_type": "code",
   "execution_count": 5,
   "metadata": {
    "collapsed": false
   },
   "outputs": [],
   "source": [
    "nout_max = alltrees.data['nout'].max()\n",
    "nout_fi = 187\n",
    "alltrees.data['nout'] += nout_fi - nout_max\n",
    "\n",
    "#max_nout = nout_fi\n",
    "i_final = np.where(alltrees.data[\"nout\"] == nout_fi)\n",
    "ttt_sub = alltrees.data[i_final]\n",
    "#ttt.data[0]"
   ]
  },
  {
   "cell_type": "code",
   "execution_count": 8,
   "metadata": {
    "collapsed": false
   },
   "outputs": [],
   "source": [
    "def link_circle_up(x, y, r, ax, finish=0):\n",
    "    \"\"\"\n",
    "    Given two points, draw circle at the first point and link it to the second point\n",
    "    without drawing the second point by default (so that it can repeat to build a long thread of bids).\n",
    "    for the last point, pass the radius of the last circle to the argument 'finish'\n",
    "    \n",
    "    For example,\n",
    "\n",
    "    fig = plt.figure()\n",
    "    ax = fig.add_subplot(111)\n",
    "    xpos = [1,1] &  ypos = [2,4]\n",
    "    link_circle(xpos, ypos, 10, ax)\n",
    "\n",
    "    xpos = [1,2] & ypos = [4,6]\n",
    "    link_circle(xpos, ypos, 30, ax, finish=30)\n",
    "    fig.show()\n",
    "    \"\"\"\n",
    "    ax.plot(x[0], y[0], 'o', ms=r, lw=2,  alpha=0.7, mfc='orange')\n",
    "    ax.plot(x, y, '-', c='black',alpha=0.7)\n",
    "    if finish > 0:\n",
    "        ax.plot(x[1], y[1], 'o', ms=20, lw=2, alpha=0.7, mfc='orange')    \n",
    "\n",
    "def recursive_tree(idx, tt, nstep, ax, x0, y0, dx, mass_unit=1e10):\n",
    "    import tree.draw_merger_tree as dmt\n",
    "    prgs = get_progenitors(tt, idx)\n",
    "    i_this_gal = np.where(tt['id'] == idx)\n",
    "    m = np.sqrt(tt[i_this_gal][\"mvir\"] / mass_unit)\n",
    "    #print(\"IDX:\", idx, \"prgs: \",prgs, \"mass:\", m, i_this_gal)\n",
    "    nprg = len(prgs)\n",
    "    if nstep == 0:\n",
    "        return \n",
    "    else:\n",
    "        if nprg == 0:\n",
    "            return\n",
    "        else:\n",
    "            if nprg > 1:\n",
    "                dx *= 0.9\n",
    "#                print(\"Branch!\", nprg)\n",
    "\n",
    "            xarr = dmt.get_xarr(nprg) * dx + x0\n",
    "            for i, x in zip(prgs, xarr):\n",
    "                link_circle_up([x0, x], [y0, y0 + 1], m, ax)\n",
    "                recursive_tree(i, tt, nstep - 1, ax, x, y0 + 1, dx, mass_unit=mass_unit)\n"
   ]
  },
  {
   "cell_type": "raw",
   "metadata": {},
   "source": [
    "It's working well. \n",
    "Now search use the tree to calculate construct catalog, and search for mergers."
   ]
  },
  {
   "cell_type": "code",
   "execution_count": 18,
   "metadata": {
    "collapsed": true
   },
   "outputs": [],
   "source": [
    "#iii = np.where(ttt_sub['Orig_halo_id'] == 7)[0]\n",
    "iii = np.where(ttt_sub['id'] == 110226)[0]"
   ]
  },
  {
   "cell_type": "code",
   "execution_count": 19,
   "metadata": {
    "collapsed": false
   },
   "outputs": [
    {
     "data": {
      "text/plain": [
       "array([], \n",
       "      dtype=[('aexp', '<f8'), ('id', '<i8'), ('desc_aexp', '<i8'), ('desc_id', '<i8'), ('nprog', '<i8'), ('pid', '<i8'), ('upid', '<i8'), ('desc_pid', '<i8'), ('phantom', '<i8'), ('sam_mvir', '<f8'), ('mvir', '<f8'), ('rvir', '<f8'), ('rs', '<i8'), ('vrms', '<f8'), ('mmp', '<f8'), ('aexp_last_MM', '<f8'), ('vmax', '<i8'), ('x', '<f8'), ('y', '<f8'), ('z', '<f8'), ('vx', '<f8'), ('vy', '<f8'), ('vz', '<i8'), ('jx', '<i8'), ('jy', '<i8'), ('jz', '<f8'), ('spin', '<i8'), ('b_id', '<i8'), ('d_id', '<i8'), ('tree_root_id', '<i8'), ('Orig_halo_id', '<i8'), ('nout', '<i8'), ('next_coprogenitor_d_id', '<i8'), ('last_progenitor_d_id', '<f8')])"
      ]
     },
     "execution_count": 19,
     "metadata": {},
     "output_type": "execute_result"
    }
   ],
   "source": [
    "ttt_sub[iii]"
   ]
  },
  {
   "cell_type": "code",
   "execution_count": 17,
   "metadata": {
    "collapsed": false
   },
   "outputs": [
    {
     "name": "stdout",
     "output_type": "stream",
     "text": [
      "110478\n"
     ]
    }
   ],
   "source": [
    "import matplotlib.pyplot as plt\n",
    "\n",
    "\n",
    "galid = 110478\n",
    "\n",
    "nout_fi = 187\n",
    "nout_ini = 30\n",
    "\n",
    "final_gals = ttt_sub['id']\n",
    "final_gals_org = ttt_sub['Orig_halo_id']\n",
    "\n",
    "#for galid in final_gals[2:3]:\n",
    "for galid in [110478]:\n",
    "    print(galid)\n",
    "        \n",
    "    fig = plt.figure(figsize=[6,6])\n",
    "    plt.ioff()\n",
    "    ax = fig.add_subplot(111)\n",
    "    #galid = 6033\n",
    "    sidgal = str(galid).zfill(5)\n",
    "    \n",
    "    nouts = np.unique(range(nout_fi - nout_ini + 2))\n",
    "    zreds = np.unique(alltrees.data[\"aexp\"])[:len(nouts)]\n",
    "    zreds = [\"%.2f\" % i for i in zreds]\n",
    "    #print(zreds)\n",
    "    atree = extract_a_tree(alltrees.data, galid)\n",
    "    recursive_tree(galid, atree, 120, ax, 0, 0, 1, mass_unit=1e8)\n",
    "    \n",
    "    # y axis label (redshift)\n",
    "    ax.set_ylabel(\"Redshift\")\n",
    "    ax.set_xlim([-3,1])\n",
    "    ax.set_ylim([0,151])\n",
    "    plt.yticks(nouts[1:151:10], zreds[1:151:10])\n",
    "    ax.set_title(sidgal)\n",
    "    #fig.show()\n",
    "    plt.savefig(wdir + \"mergertrees/\" + sidgal + '.png')\n",
    "    plt.close()"
   ]
  },
  {
   "cell_type": "code",
   "execution_count": 57,
   "metadata": {
    "collapsed": false
   },
   "outputs": [
    {
     "data": {
      "text/plain": [
       "dtype([('aexp', '<f8'), ('id', '<i8'), ('desc_aexp', '<i8'), ('desc_id', '<i8'), ('nprog', '<i8'), ('pid', '<i8'), ('upid', '<i8'), ('desc_pid', '<i8'), ('phantom', '<i8'), ('sam_mvir', '<f8'), ('mvir', '<f8'), ('rvir', '<f8'), ('rs', '<i8'), ('vrms', '<f8'), ('mmp', '<f8'), ('aexp_last_MM', '<f8'), ('vmax', '<i8'), ('x', '<f8'), ('y', '<f8'), ('z', '<f8'), ('vx', '<f8'), ('vy', '<f8'), ('vz', '<i8'), ('jx', '<i8'), ('jy', '<i8'), ('jz', '<f8'), ('spin', '<i8'), ('b_id', '<i8'), ('d_id', '<i8'), ('tree_root_id', '<i8'), ('Orig_halo_id', '<i8'), ('nout', '<i8'), ('next_coprogenitor_d_id', '<i8'), ('last_progenitor_d_id', '<f8')])"
      ]
     },
     "execution_count": 57,
     "metadata": {},
     "output_type": "execute_result"
    }
   ],
   "source": [
    "ttt.data.dtype"
   ]
  },
  {
   "cell_type": "code",
   "execution_count": 2,
   "metadata": {
    "collapsed": false
   },
   "outputs": [
    {
     "data": {
      "text/plain": [
       "342"
      ]
     },
     "execution_count": 2,
     "metadata": {},
     "output_type": "execute_result"
    }
   ],
   "source": [
    "sum(trees.data['nprog'] > 1)"
   ]
  },
  {
   "cell_type": "code",
   "execution_count": 14,
   "metadata": {
    "collapsed": false
   },
   "outputs": [],
   "source": [
    "import matplotlib.pyplot as plt\n",
    "plt.hist(trees.data['nprog'])\n",
    "plt.show()"
   ]
  },
  {
   "cell_type": "code",
   "execution_count": 9,
   "metadata": {
    "collapsed": false
   },
   "outputs": [
    {
     "ename": "TypeError",
     "evalue": "object of type 'NoneType' has no len()",
     "output_type": "error",
     "traceback": [
      "\u001b[1;31m---------------------------------------------------------------------------\u001b[0m",
      "\u001b[1;31mTypeError\u001b[0m                                 Traceback (most recent call last)",
      "\u001b[1;32m<ipython-input-9-689184301e9e>\u001b[0m in \u001b[0;36m<module>\u001b[1;34m()\u001b[0m\n\u001b[1;32m----> 1\u001b[1;33m \u001b[0mprgs\u001b[0m\u001b[1;33m,\u001b[0m \u001b[0minds\u001b[0m \u001b[1;33m=\u001b[0m \u001b[0mtreeutils\u001b[0m\u001b[1;33m.\u001b[0m\u001b[0mget_main_prg\u001b[0m\u001b[1;33m(\u001b[0m\u001b[0mtrees\u001b[0m\u001b[1;33m,\u001b[0m \u001b[0mhaloinds\u001b[0m\u001b[1;33m=\u001b[0m\u001b[1;33m[\u001b[0m\u001b[1;36m11\u001b[0m\u001b[1;33m]\u001b[0m\u001b[1;33m)\u001b[0m\u001b[1;33m\u001b[0m\u001b[0m\n\u001b[0m\u001b[0;32m      2\u001b[0m \u001b[1;32mimport\u001b[0m \u001b[0mmatplotlib\u001b[0m\u001b[1;33m.\u001b[0m\u001b[0mpyplot\u001b[0m \u001b[1;32mas\u001b[0m \u001b[0mplt\u001b[0m\u001b[1;33m\u001b[0m\u001b[0m\n\u001b[0;32m      3\u001b[0m \u001b[1;31m#%%\u001b[0m\u001b[1;33m\u001b[0m\u001b[1;33m\u001b[0m\u001b[0m\n\u001b[0;32m      4\u001b[0m \u001b[1;32mimport\u001b[0m \u001b[0mtree\u001b[0m\u001b[1;33m.\u001b[0m\u001b[0mtreeplots\u001b[0m \u001b[1;32mas\u001b[0m \u001b[0mtrp\u001b[0m\u001b[1;33m\u001b[0m\u001b[0m\n\u001b[0;32m      5\u001b[0m \u001b[0ma\u001b[0m \u001b[1;33m=\u001b[0m \u001b[0mtrees\u001b[0m\u001b[1;33m.\u001b[0m\u001b[0mdata\u001b[0m\u001b[1;33m[\u001b[0m\u001b[0minds\u001b[0m\u001b[1;33m]\u001b[0m\u001b[1;33m\u001b[0m\u001b[0m\n",
      "\u001b[1;32m/home/hoseung/Copy/pyclusterevol/tree/treeutils.py\u001b[0m in \u001b[0;36mget_main_prg\u001b[1;34m(trees, haloids, haloinds, unique_id, nout_ini, nout_fi)\u001b[0m\n\u001b[0;32m    230\u001b[0m         \u001b[0mnout_ini\u001b[0m \u001b[1;33m=\u001b[0m \u001b[0mmin\u001b[0m\u001b[1;33m(\u001b[0m\u001b[0mtrees\u001b[0m\u001b[1;33m.\u001b[0m\u001b[0mdata\u001b[0m\u001b[1;33m[\u001b[0m\u001b[1;34m'nout'\u001b[0m\u001b[1;33m]\u001b[0m\u001b[1;33m)\u001b[0m\u001b[1;33m\u001b[0m\u001b[0m\n\u001b[0;32m    231\u001b[0m \u001b[1;33m\u001b[0m\u001b[0m\n\u001b[1;32m--> 232\u001b[1;33m     \u001b[0mprg_arr\u001b[0m \u001b[1;33m=\u001b[0m \u001b[0mnp\u001b[0m\u001b[1;33m.\u001b[0m\u001b[0mzeros\u001b[0m\u001b[1;33m(\u001b[0m\u001b[1;33m[\u001b[0m\u001b[0mlen\u001b[0m\u001b[1;33m(\u001b[0m\u001b[0mhaloids\u001b[0m\u001b[1;33m)\u001b[0m\u001b[1;33m,\u001b[0m \u001b[0mabs\u001b[0m\u001b[1;33m(\u001b[0m\u001b[0mnout_ini\u001b[0m \u001b[1;33m-\u001b[0m \u001b[0mnout_fi\u001b[0m\u001b[1;33m)\u001b[0m \u001b[1;33m+\u001b[0m \u001b[1;36m1\u001b[0m\u001b[1;33m]\u001b[0m\u001b[1;33m,\u001b[0m \u001b[0mdtype\u001b[0m\u001b[1;33m=\u001b[0m\u001b[0mint\u001b[0m\u001b[1;33m)\u001b[0m\u001b[1;33m\u001b[0m\u001b[0m\n\u001b[0m\u001b[0;32m    233\u001b[0m     \u001b[0mind_arr\u001b[0m \u001b[1;33m=\u001b[0m \u001b[0mnp\u001b[0m\u001b[1;33m.\u001b[0m\u001b[0mzeros\u001b[0m\u001b[1;33m(\u001b[0m\u001b[1;33m[\u001b[0m\u001b[0mlen\u001b[0m\u001b[1;33m(\u001b[0m\u001b[0mhaloids\u001b[0m\u001b[1;33m)\u001b[0m\u001b[1;33m,\u001b[0m \u001b[0mabs\u001b[0m\u001b[1;33m(\u001b[0m\u001b[0mnout_ini\u001b[0m \u001b[1;33m-\u001b[0m \u001b[0mnout_fi\u001b[0m\u001b[1;33m)\u001b[0m \u001b[1;33m+\u001b[0m \u001b[1;36m1\u001b[0m\u001b[1;33m]\u001b[0m\u001b[1;33m,\u001b[0m \u001b[0mdtype\u001b[0m\u001b[1;33m=\u001b[0m\u001b[0mint\u001b[0m\u001b[1;33m)\u001b[0m\u001b[1;33m\u001b[0m\u001b[0m\n\u001b[0;32m    234\u001b[0m \u001b[1;33m\u001b[0m\u001b[0m\n",
      "\u001b[1;31mTypeError\u001b[0m: object of type 'NoneType' has no len()"
     ]
    }
   ],
   "source": [
    "prgs, inds = treeutils.get_main_prg(trees, haloinds=[11])\n",
    "import matplotlib.pyplot as plt\n",
    "#%%\n",
    "import tree.treeplots as trp\n",
    "a = trees.data[inds]\n",
    "trp.plot_all(a, a['id'][0], save=True, out_dir=wdir)"
   ]
  },
  {
   "cell_type": "code",
   "execution_count": null,
   "metadata": {
    "collapsed": true
   },
   "outputs": [],
   "source": []
  }
 ],
 "metadata": {
  "kernelspec": {
   "display_name": "Python 3",
   "language": "python",
   "name": "python3"
  },
  "language_info": {
   "codemirror_mode": {
    "name": "ipython",
    "version": 3
   },
   "file_extension": ".py",
   "mimetype": "text/x-python",
   "name": "python",
   "nbconvert_exporter": "python",
   "pygments_lexer": "ipython3",
   "version": "3.4.3"
  }
 },
 "nbformat": 4,
 "nbformat_minor": 0
}
