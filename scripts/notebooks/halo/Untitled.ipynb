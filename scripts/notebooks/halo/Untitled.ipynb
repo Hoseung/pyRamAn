{
 "cells": [
  {
   "cell_type": "markdown",
   "metadata": {},
   "source": [
    "## Rotation parameter Vs ellipticity"
   ]
  },
  {
   "cell_type": "markdown",
   "metadata": {},
   "source": [
    "Refer to Emsellem 2011 \n",
    "(By the way, rotation parameter has been used to measure halo spin parameter. It's nothing new.) \n",
    "\n",
    "The title is: \n",
    "A census of the stellar angular momentum within the effective radius of early-type galaxies: unveiling the distribution of fast and slow rotators.\n",
    "Note that it's within the effective radius. I can test the effect of Effective radius\n"
   ]
  },
  {
   "cell_type": "markdown",
   "metadata": {},
   "source": [
    "### Ellipse fitting"
   ]
  },
  {
   "cell_type": "markdown",
   "metadata": {},
   "source": [
    "First of all, derive ellipticity of galaxies.\n",
    "As Sree stressed, ellipticity of a galaxy somtimes changes along with radius. Especially when internal structure is complicated (for example, bar). \n",
    "But I'm going to plot rotation parameter versus ellipticity, so it is natural to measure ellipticity at points where rotation parameter is measured.\n",
    "\n",
    "One thing is, how to define "
   ]
  }
 ],
 "metadata": {
  "kernelspec": {
   "display_name": "Python 3",
   "language": "python",
   "name": "python3"
  },
  "language_info": {
   "codemirror_mode": {
    "name": "ipython",
    "version": 3
   },
   "file_extension": ".py",
   "mimetype": "text/x-python",
   "name": "python",
   "nbconvert_exporter": "python",
   "pygments_lexer": "ipython3",
   "version": "3.4.3"
  }
 },
 "nbformat": 4,
 "nbformat_minor": 0
}
