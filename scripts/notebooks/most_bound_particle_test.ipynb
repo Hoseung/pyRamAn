{
 "cells": [
  {
   "cell_type": "code",
   "execution_count": 54,
   "metadata": {
    "collapsed": false
   },
   "outputs": [
    {
     "name": "stdout",
     "output_type": "stream",
     "text": [
      "13.681712286550637\n",
      "13.613061656496194\n",
      "13.556791131055624\n",
      "13.478121881730736\n",
      "13.416971734869152\n",
      "13.329089208282788\n",
      "13.194865848327336\n",
      "13.152362296253386\n",
      "13.108839406157436\n"
     ]
    }
   ],
   "source": [
    "import load\n",
    "from tree import tmtree\n",
    "import numpy as np\n",
    "import utils.sampling as smp\n",
    "import tree.halomodule as hmo \n",
    "\n",
    "\n",
    "from astropy.cosmology import WMAP7 as cosmo\n",
    "\n",
    "wdir = '/home/hoseung/Work/data/05427/'\n",
    "nout = 186\n",
    "for nout in range(1,10):\n",
    "    info = load.info.Info(nout=nout, base=wdir, load=True)    \n",
    "    print(cosmo.lookback_time(info.zred).value)\n",
    "    \n",
    "    #print(info.tGyr)\n",
    "#hh = hmo.Halo(base=wdir, nout=nout, halofinder='HM', info=info, load=True)"
   ]
  },
  {
   "cell_type": "code",
   "execution_count": 27,
   "metadata": {
    "collapsed": false
   },
   "outputs": [],
   "source": [
    "import matplotlib.pyplot as plt\n",
    "plt.hist(hh.data['x'])\n",
    "plt.show()\n"
   ]
  },
  {
   "cell_type": "code",
   "execution_count": 44,
   "metadata": {
    "collapsed": true
   },
   "outputs": [],
   "source": [
    "def mk_gal(region, out_q, info, i, final_gal, galid = None,\n",
    "            save=False, rscale=0.3, verbose=False, galaxy_plot_dir='./',\n",
    "            rscale_lambda=2.0, npix_lambda=50, npix=400, galaxy_plot=False,\n",
    "            method_com=2, follow_most_bound=None):\n",
    "    \"\"\"\n",
    "    Direct plot,\n",
    "    Create galaxy, \n",
    "    Calculate lambda_r (using Cappellari 2003)\n",
    "    Draw ed map of galaxy.\n",
    "    \n",
    "    \n",
    "    NOTE\n",
    "        x,y,z, radius  = region\n",
    "        + id from halodata. \n",
    "    \n",
    "    \"\"\"\n",
    "    from galaxymodule import galaxy\n",
    "    import utils.sampling as smp\n",
    "\n",
    "#    print(\"IDs:\", id(star), id(dm), id(cell))\n",
    "\n",
    "    gal_out = {\"id\":0, \"xc\":0.0, \"yc\":0.0, \"zc\":0.0,\n",
    "               \"vx\":0.0, \"vy\":0.0, \"vz\":0.0,\n",
    "               \"mstar\":0.0, \"nstar\":0.0, \"mgas\":0.0,\n",
    "               \"lambda_arr\":[], \"lambda_r\":0, \"rgal\":0, \"final\":final_gal,\n",
    "               \"rhalo\":region['radius'], \"boxtokpc\":info.pboxsize*1000}\n",
    "\n",
    "    #                \"rhalo\":halodata['rvir'], \"boxtokpc\":info.pboxsize*1000}\n",
    "    # Direct plot ---------------------------------------------------------\n",
    "    #region = smp.set_region(xc=halodata['x'],\n",
    "    #                        yc=halodata['y'],\n",
    "    #                        zc=halodata['z'],\n",
    "    #                        radius = halodata['rvir'])\n",
    "\n",
    "    if galid == None:\n",
    "        galid = 1\n",
    "\n",
    "    if galaxy_plot:\n",
    "        if follow_most_bound is None:\n",
    "            plot_region(star, region, galid, s.info.pboxsize, npix=300, ids=[], color=None)\n",
    "        else:\n",
    "            import utils.match as mtc\n",
    "            f = plt.figure()\n",
    "            ax = f.add_subplot(111)\n",
    "            ax.scatter(star['x'], star['y'])\n",
    "            ind = mtc.match_list_ind(star['id'], follow_most_bound)\n",
    "            \n",
    "            ax.scatter(star['x'][ind], star['y'][ind], c='red')\n",
    "            plt.show()\n",
    "\n",
    "        \n",
    "\n",
    "    #Create galaxy ---------------------------------------------------------\n",
    "    gal = galaxy.Galaxy(halodata, radius_method='eff', info=info)\n",
    "    is_gal = gal.mk_gal(star=star, dm=dm, cell=cell,\n",
    "               rscale=rscale, verbose=verbose, method_com=method_com,\n",
    "               follow_bp=follow_most_bound)\n",
    "    #-----------------------------------------------------------------------    \n",
    "    print(gal.id, \"IS_GAL\",is_gal)\n",
    "    if not is_gal:\n",
    "        print(gal.id, \" Not a good galaxy\")\n",
    "        out_q.put(gal_out)\n",
    "    else:\n",
    "        # Save to catalog -------------------------------------------------------\n",
    "#        print(\"Good galaxy, R eff:\", gal.reff)\n",
    "        gal.cal_lambda_r(npix=npix_lambda, method=1, rscale=rscale_lambda) # calculate within 1.0 * reff    \n",
    "        # Calculate lambda_r ---------------------------------------------------\n",
    "\n",
    "        gal.plot_gal(fn_save = galaxy_plot_dir + str(nout).zfill(3) \\\n",
    "                             + \"_\" + str(final_gal).zfill(5) + \"_\"  \\\n",
    "                             + str(gal.id) + \".png\", ioff=True)\n",
    "#       gal.save_gal(base=wdir)\n",
    "\n",
    "        # save in a dict.\n",
    "        gal_out['mstar'] = gal.mstar\n",
    "        gal_out['mgas'] = gal.mgas\n",
    "        gal_out['nstar'] = gal.nstar\n",
    "        gal_out['id'] = gal.id\n",
    "        gal_out['xc'] = gal.xc * info.pboxsize\n",
    "        gal_out['yc'] = gal.yc * info.pboxsize\n",
    "        gal_out['zc'] = gal.zc * info.pboxsize\n",
    "        gal_out['vx'] = gal.vxc * info.kms\n",
    "        gal_out['vy'] = gal.vyc * info.kms\n",
    "        gal_out['vz'] = gal.vzc * info.kms        \n",
    "        gal_out['lambda_arr'] = gal.lambda_arr\n",
    "        gal_out['lambda_r'] = gal.lambda_r\n",
    "        gal_out['rgal'] = gal.reff# * info.pboxsize * 1000.0 # in kpc\n",
    "        out_q.put(gal_out)\n",
    "    print(\"mk_gal done\")\n",
    "    return gal"
   ]
  },
  {
   "cell_type": "code",
   "execution_count": 50,
   "metadata": {
    "collapsed": false
   },
   "outputs": [
    {
     "data": {
      "text/plain": [
       "5.92901803531337e-10"
      ]
     },
     "execution_count": 50,
     "metadata": {},
     "output_type": "execute_result"
    }
   ],
   "source": []
  },
  {
   "cell_type": "code",
   "execution_count": 32,
   "metadata": {
    "collapsed": false
   },
   "outputs": [
    {
     "name": "stdout",
     "output_type": "stream",
     "text": [
      "(array([790]),)\n",
      "[  9.74321854e+12]\n"
     ]
    }
   ],
   "source": [
    "def find_halo(allhalo, xc, yc, zc, search_radius, mvir):\n",
    "    \"\"\"\n",
    "        Returns index of the most probable progenitor.\n",
    "    \"\"\"\n",
    "\n",
    "    ind_near = np.where( (allhalo.data['x'] - allhalo.data['rvir'] < xc + search_radius) & \n",
    "                         (allhalo.data['x'] + allhalo.data['rvir'] > xc - search_radius) &\n",
    "                         (allhalo.data['y'] - allhalo.data['rvir'] < yc + search_radius) & \n",
    "                         (allhalo.data['y'] + allhalo.data['rvir'] > yc - search_radius) &\n",
    "                         (allhalo.data['z'] - allhalo.data['rvir'] < zc + search_radius) & \n",
    "                         (allhalo.data['z'] + allhalo.data['rvir'] > zc - search_radius) )\n",
    "\n",
    "    print(ind_near)\n",
    "    mvir_dist = np.abs(allhalo.data['mvir'][ind_near] - mvir)   \n",
    "    print(mvir_dist)\n",
    "    return ind_near[np.argsort(mvir_dist)[0]]\n",
    "\n",
    "\n",
    "xc,yc,zc = 0.55, 0.35, 0.35\n",
    "search_radius = 0.01\n",
    "mvir = 1e13\n",
    "\n",
    "h = hmo.Halo(base=wdir, nout=nout, halofinder='HM', info=info)\n",
    "h.derive_from(hh, hh.data['id'][find_halo(hh, xc, yc, zc, search_radius, mvir)])"
   ]
  },
  {
   "cell_type": "markdown",
   "metadata": {},
   "source": [
    "#### Bound particle Vs TMtree"
   ]
  },
  {
   "cell_type": "code",
   "execution_count": 45,
   "metadata": {
    "collapsed": false
   },
   "outputs": [
    {
     "name": "stdout",
     "output_type": "stream",
     "text": [
      "Total 1959 halos \n",
      "649 halos are selected\n",
      "295 halos left\n"
     ]
    }
   ],
   "source": [
    "nout_fi = 187\n",
    "nout_ini = 100\n",
    "nout_ini0 = 100\n",
    "\n",
    "r_cluster_scale = 2.0 # maximum radius inside which galaxies are searched for\n",
    "\n",
    "## halo -----------------------------------------------------------\n",
    "m_halo_min = 1e10 # minimum halo mass above which galaxies are searched for. \n",
    "dir_out = wdir + 'catalog/'\n",
    "\n",
    "# nout_halo = 122 == nout 10, nout_halo = 0   == nout 132\n",
    "tt = tmtree.load(work_dir=wdir, filename=\"halo/TMtree.fits\")\n",
    "tfin = tt[np.where(tt['NOUT'] == 0)]\n",
    "tini = tt[np.where(tt['NOUT'] == nout_fi - nout_ini)]\n",
    "\n",
    "\n",
    "hh = hmo.Halo(base=wdir, nout=nout_fi, halofinder='HM', info=info, load=True)\n",
    "i_center = np.where(hh.data['np'] == max(hh.data['np']))\n",
    "i_satellites = smp.extract_halos_within(hh.data, i_center, scale=r_cluster_scale)\n",
    "print(\"Total {0} halos \\n{1} halos are selected\".format(\n",
    "      len(i_satellites),sum(i_satellites)))\n",
    "\n",
    "# halos found inside the cluster and has tree back to nout_ini\n",
    "large_enugh = hh.data['mvir'] > m_halo_min\n",
    "halo_list = hh.data['id'][i_satellites * large_enugh]\n",
    "h_ind_ok, halo_ok = tmtree.check_tree_complete(tt, 0, nout_fi - nout_ini0, halo_list)\n",
    "print(len(halo_ok), \"halos left\")\n",
    "final_gal = halo_ok[:,0]\n",
    "ngals = len(final_gal)\n"
   ]
  },
  {
   "cell_type": "code",
   "execution_count": 43,
   "metadata": {
    "collapsed": false
   },
   "outputs": [
    {
     "data": {
      "text/plain": [
       "array([736, 725, 726, 717, 707, 694, 708, 708, 706, 704, 722, 717, 726,\n",
       "       728, 730, 741, 733, 724, 285, 291, 291, 289, 281, 286, 283, 287,\n",
       "       280, 292, 288, 292, 282, 280, 288, 302, 295, 295, 300, 296, 730,\n",
       "       723, 307, 304, 317, 314, 319, 321, 332, 346, 351, 344, 365, 363,\n",
       "       363, 364, 375, 363, 380, 375, 371, 386, 729, 371, 383, 377, 381,\n",
       "       380, 705, 696, 696, 698, 701, 689, 709, 697, 695, 691, 695, 681,\n",
       "       686, 676, 678, 670, 680, 676, 663, 686, 682, 675])"
      ]
     },
     "execution_count": 43,
     "metadata": {},
     "output_type": "execute_result"
    }
   ],
   "source": [
    "halo_ok[20]"
   ]
  },
  {
   "cell_type": "code",
   "execution_count": null,
   "metadata": {
    "collapsed": true
   },
   "outputs": [],
   "source": [
    "# load particle\n",
    "\n",
    "# find most bound \n",
    "\n",
    "# \n",
    "\n"
   ]
  }
 ],
 "metadata": {
  "kernelspec": {
   "display_name": "Python 3",
   "language": "python",
   "name": "python3"
  },
  "language_info": {
   "codemirror_mode": {
    "name": "ipython",
    "version": 3
   },
   "file_extension": ".py",
   "mimetype": "text/x-python",
   "name": "python",
   "nbconvert_exporter": "python",
   "pygments_lexer": "ipython3",
   "version": "3.4.3"
  }
 },
 "nbformat": 4,
 "nbformat_minor": 0
}
