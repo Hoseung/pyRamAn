{
 "cells": [
  {
   "cell_type": "code",
   "execution_count": 1,
   "metadata": {
    "collapsed": true
   },
   "outputs": [],
   "source": [
    "import cProfile"
   ]
  },
  {
   "cell_type": "code",
   "execution_count": 14,
   "metadata": {
    "collapsed": false
   },
   "outputs": [],
   "source": [
    "def do_cprofile(func):\n",
    "    def profiled_func(*args, **kwargs):\n",
    "        profile = cProfile.Profile()\n",
    "        try:\n",
    "            profile.enable()\n",
    "            result = func(*args, **kwargs)\n",
    "            profile.disable()\n",
    "            return result\n",
    "        finally:\n",
    "            profile.print_stats()\n",
    "    return profiled_func\n",
    "\n",
    "def otherfunc():\n",
    "    import load\n",
    "    import utils.sampling as smp\n",
    "    \n",
    "\n"
   ]
  },
  {
   "cell_type": "code",
   "execution_count": 55,
   "metadata": {
    "collapsed": true
   },
   "outputs": [],
   "source": [
    "@do_cprofile\n",
    "def afunc(arr):\n",
    "    for x in range(1000):\n",
    "        arr = copy_test_2(arr)\n",
    "\n",
    "@do_cprofile\n",
    "def afunc2(arr):\n",
    "    for x in range(1000):\n",
    "        copy_test_1(arr)\n",
    "\n",
    "def copy_test_1(arr):\n",
    "    arr = arr / 100\n",
    "\n",
    "def copy_test_2(arr):\n",
    "    arr /= 100\n",
    "    return arr\n",
    "\n",
    "def func_print1(arr):\n",
    "    for x in range(100):\n",
    "        arr = copy_test_2(arr)\n",
    "        print(arr[0])\n",
    "\n",
    "def func_print2(arr):\n",
    "    for x in range(100):\n",
    "        copy_test_2(arr)\n",
    "        print(arr[0])\n"
   ]
  },
  {
   "cell_type": "code",
   "execution_count": 78,
   "metadata": {
    "collapsed": false
   },
   "outputs": [],
   "source": [
    "@do_cprofile\n",
    "def load_info():\n",
    "    from load.info import Info\n",
    "    return Info(nout = 187, base='/home/hoseung/Work/data/29176/')"
   ]
  },
  {
   "cell_type": "code",
   "execution_count": 79,
   "metadata": {
    "collapsed": false
   },
   "outputs": [
    {
     "name": "stdout",
     "output_type": "stream",
     "text": [
      "         14808 function calls (14158 primitive calls) in 0.064 seconds\n",
      "\n",
      "   Ordered by: standard name\n",
      "\n",
      "   ncalls  tottime  percall  cumtime  percall filename:lineno(function)\n",
      "       18    0.000    0.000    0.000    0.000 <frozen importlib._bootstrap>:996(_handle_fromlist)\n",
      "        1    0.000    0.000    0.064    0.064 <ipython-input-78-22f1cd54b8fe>:1(load_info)\n",
      "        1    0.000    0.000    0.000    0.000 <string>:1(<module>)\n",
      "        4    0.000    0.000    0.000    0.000 <string>:12(__new__)\n",
      "        2    0.000    0.000    0.000    0.000 _bootlocale.py:23(getpreferredencoding)\n",
      "       16    0.000    0.000    0.001    0.000 _internal.py:153(_commastring)\n",
      "       16    0.000    0.000    0.000    0.000 _internal.py:309(_getfield_is_safe)\n",
      "        4    0.000    0.000    0.000    0.000 _internal.py:341(_view_is_safe)\n",
      "        8    0.000    0.000    0.000    0.000 _methods.py:34(_prod)\n",
      "        2    0.000    0.000    0.000    0.000 _numpy_hacks.py:11(realign_dtype)\n",
      "        2    0.000    0.000    0.000    0.000 _weakrefset.py:16(__init__)\n",
      "        2    0.000    0.000    0.000    0.000 _weakrefset.py:20(__enter__)\n",
      "        2    0.000    0.000    0.000    0.000 _weakrefset.py:26(__exit__)\n",
      "        2    0.000    0.000    0.000    0.000 _weakrefset.py:36(__init__)\n",
      "       16    0.000    0.000    0.000    0.000 _weakrefset.py:38(_remove)\n",
      "        2    0.000    0.000    0.000    0.000 _weakrefset.py:52(_commit_removals)\n",
      "        2    0.000    0.000    0.000    0.000 _weakrefset.py:58(__iter__)\n",
      "       32    0.000    0.000    0.000    0.000 _weakrefset.py:70(__contains__)\n",
      "       16    0.000    0.000    0.000    0.000 _weakrefset.py:81(add)\n",
      "       16    0.000    0.000    0.000    0.000 abc.py:178(__instancecheck__)\n",
      "        8    0.000    0.000    0.000    0.000 arrayprint.py:340(array2string)\n",
      "        4    0.000    0.000    0.000    0.000 base.py:129(__new__)\n",
      "        4    0.000    0.000    0.000    0.000 base.py:146(__init__)\n",
      "        4    0.000    0.000    0.000    0.000 base.py:230(_data_loaded)\n",
      "        2    0.000    0.000    0.000    0.000 base.py:234(_has_data)\n",
      "        6    0.000    0.000    0.011    0.002 base.py:338(readfrom)\n",
      "        6    0.000    0.000    0.010    0.002 base.py:411(_readfrom_internal)\n",
      "        2    0.000    0.000    0.001    0.000 base.py:502(_get_raw_data)\n",
      "        8    0.000    0.000    0.003    0.000 base.py:51(_hdu_class_from_header)\n",
      "        4    0.000    0.000    0.000    0.000 base.py:909(__init__)\n",
      "        4    0.000    0.000    0.002    0.000 base.py:927(size)\n",
      "       16    0.000    0.000    0.000    0.000 card.py:1173(_format_value)\n",
      "       58    0.000    0.000    0.000    0.000 card.py:1242(_pad)\n",
      "       74    0.000    0.000    0.001    0.000 card.py:151(__init__)\n",
      "       16    0.000    0.000    0.001    0.000 card.py:200(__str__)\n",
      "      562    0.000    0.000    0.001    0.000 card.py:209(keyword)\n",
      "       16    0.000    0.000    0.000    0.000 card.py:221(keyword)\n",
      "      114    0.000    0.000    0.003    0.000 card.py:269(value)\n",
      "       16    0.000    0.000    0.000    0.000 card.py:289(value)\n",
      "       16    0.000    0.000    0.000    0.000 card.py:409(comment)\n",
      "       16    0.000    0.000    0.000    0.000 card.py:422(comment)\n",
      "      274    0.000    0.000    0.000    0.000 card.py:457(field_specifier)\n",
      "       16    0.000    0.000    0.001    0.000 card.py:492(image)\n",
      "       58    0.000    0.000    0.000    0.000 card.py:526(fromstring)\n",
      "      124    0.000    0.000    0.001    0.000 card.py:540(normalize_keyword)\n",
      "       56    0.000    0.000    0.001    0.000 card.py:574(_check_if_rvkc)\n",
      "       80    0.000    0.000    0.001    0.000 card.py:622(_check_if_rvkc_image)\n",
      "       58    0.000    0.000    0.001    0.000 card.py:668(_parse_keyword)\n",
      "       58    0.001    0.000    0.003    0.000 card.py:708(_parse_value)\n",
      "       40    0.000    0.000    0.001    0.000 card.py:799(_split)\n",
      "       16    0.000    0.000    0.000    0.000 card.py:879(_format_keyword)\n",
      "       16    0.000    0.000    0.000    0.000 card.py:890(_format_value)\n",
      "       16    0.000    0.000    0.000    0.000 card.py:920(_format_comment)\n",
      "       16    0.000    0.000    0.001    0.000 card.py:926(_format_image)\n",
      "        2    0.000    0.000    0.000    0.000 codecs.py:259(__init__)\n",
      "        2    0.000    0.000    0.000    0.000 codecs.py:308(__init__)\n",
      "       10    0.000    0.000    0.000    0.000 codecs.py:318(decode)\n",
      "       10    0.000    0.000    0.000    0.000 codecs.py:330(getstate)\n",
      "       24    0.000    0.000    0.000    0.000 column.py:1003(_determine_formats)\n",
      "       16    0.000    0.000    0.001    0.000 column.py:1083(_convert_to_valid_data_type)\n",
      "        4    0.000    0.000    0.000    0.000 column.py:1162(__new__)\n",
      "        4    0.000    0.000    0.010    0.003 column.py:1197(__init__)\n",
      "        2    0.000    0.000    0.005    0.003 column.py:1259(_init_from_array)\n",
      "        2    0.000    0.000    0.005    0.002 column.py:1292(_init_from_table)\n",
      "        2    0.000    0.000    0.000    0.000 column.py:1298(<listcomp>)\n",
      "        2    0.000    0.000    0.002    0.001 column.py:1335(<listcomp>)\n",
      "        8    0.000    0.000    0.000    0.000 column.py:134(__init__)\n",
      "       30    0.000    0.000    0.002    0.000 column.py:1396(__getattr__)\n",
      "        2    0.000    0.000    0.002    0.001 column.py:1416(dtype)\n",
      "        2    0.000    0.000    0.000    0.000 column.py:1451(_recformats)\n",
      "        2    0.000    0.000    0.000    0.000 column.py:1453(<listcomp>)\n",
      "        2    0.000    0.000    0.000    0.000 column.py:1455(_dims)\n",
      "        2    0.000    0.000    0.000    0.000 column.py:1459(<listcomp>)\n",
      "  178/138    0.001    0.000    0.001    0.000 column.py:1461(__getitem__)\n",
      "       16    0.000    0.000    0.000    0.000 column.py:167(__hash__)\n",
      "        8    0.000    0.000    0.001    0.000 column.py:170(dtype)\n",
      "        8    0.000    0.000    0.000    0.000 column.py:1825(_get_index)\n",
      "        8    0.000    0.000    0.000    0.000 column.py:1857(<listcomp>)\n",
      "       16    0.000    0.000    0.000    0.000 column.py:199(__new__)\n",
      "       32    0.000    0.000    0.000    0.000 column.py:1990(_parse_tformat)\n",
      "       16    0.000    0.000    0.000    0.000 column.py:2143(_convert_fits2record)\n",
      "        8    0.000    0.000    0.001    0.000 column.py:216(from_recformat)\n",
      "        8    0.000    0.000    0.001    0.000 column.py:2181(_convert_record2fits)\n",
      "       16    0.000    0.000    0.000    0.000 column.py:222(recformat)\n",
      "        8    0.000    0.000    0.000    0.000 column.py:2225(_dtype_to_recformat)\n",
      "       24    0.000    0.000    0.001    0.000 column.py:2250(_convert_format)\n",
      "       16    0.000    0.000    0.000    0.000 column.py:228(canonical)\n",
      "      256    0.000    0.000    0.000    0.000 column.py:424(__get__)\n",
      "      160    0.001    0.000    0.003    0.000 column.py:430(__set__)\n",
      "       16    0.001    0.000    0.006    0.000 column.py:461(__init__)\n",
      "       16    0.000    0.000    0.000    0.000 column.py:611(__hash__)\n",
      "       24    0.000    0.000    0.001    0.000 column.py:697(array)\n",
      "        8    0.000    0.000    0.000    0.000 column.py:728(array)\n",
      "       16    0.000    0.000    0.002    0.000 column.py:737(name)\n",
      "        8    0.000    0.000    0.000    0.000 column.py:771(ascii)\n",
      "       24    0.000    0.000    0.001    0.000 column.py:840(_verify_keywords)\n",
      "        4    0.000    0.000    0.000    0.000 compressed.py:661(match_header)\n",
      "        2    0.000    0.000    0.035    0.018 cosmology.py:24(time2gyr)\n",
      "        1    0.000    0.000    0.001    0.001 defaults.py:10(__init__)\n",
      "        6    0.000    0.000    0.000    0.000 file.py:190(read)\n",
      "        2    0.000    0.000    0.001    0.000 file.py:203(readarray)\n",
      "        4    0.000    0.000    0.000    0.000 file.py:299(seek)\n",
      "       10    0.000    0.000    0.000    0.000 file.py:321(tell)\n",
      "        2    0.000    0.000    0.000    0.000 file.py:457(_open_filename)\n",
      "        2    0.000    0.000    0.000    0.000 file.py:563(_is_random_access_file_backed)\n",
      "        2    0.000    0.000    0.001    0.000 file.py:74(__init__)\n",
      "        8    0.000    0.000    0.000    0.000 fitsrec.py:1022(_get_scale_factors)\n",
      "        8    0.000    0.000    0.000    0.000 fitsrec.py:1270(_get_recarray_field)\n",
      "        2    0.000    0.000    0.006    0.003 fitsrec.py:219(__array_finalize__)\n",
      "        8    0.000    0.000    0.003    0.000 fitsrec.py:480(__getitem__)\n",
      "        8    0.000    0.000    0.000    0.000 fitsrec.py:580(columns)\n",
      "       54    0.000    0.000    0.000    0.000 fitsrec.py:590(_coldefs)\n",
      "        4    0.000    0.000    0.001    0.000 fitsrec.py:610(_coldefs)\n",
      "        2    0.000    0.000    0.000    0.000 fitsrec.py:617(_coldefs)\n",
      "        2    0.000    0.000    0.000    0.000 fitsrec.py:624(__del__)\n",
      "        8    0.000    0.000    0.003    0.000 fitsrec.py:677(field)\n",
      "        8    0.000    0.000    0.000    0.000 fitsrec.py:727(_cache_field)\n",
      "        8    0.000    0.000    0.001    0.000 fitsrec.py:858(_convert_other)\n",
      "        4    0.000    0.000    0.000    0.000 function_base.py:1581(interp)\n",
      "        2    0.000    0.000    0.000    0.000 genericpath.py:111(_splitext)\n",
      "        2    0.000    0.000    0.000    0.000 genericpath.py:16(exists)\n",
      "       15    0.000    0.000    0.001    0.000 genericpath.py:27(isfile)\n",
      "        6    0.000    0.000    0.000    0.000 groups.py:274(match_header)\n",
      "        2    0.000    0.000    0.000    0.000 hdulist.py:133(__init__)\n",
      "       10    0.000    0.000    0.000    0.000 hdulist.py:172(__getitem__)\n",
      "        2    0.000    0.000    0.012    0.006 hdulist.py:19(fitsopen)\n",
      "        2    0.000    0.000    0.012    0.006 hdulist.py:254(fromfile)\n",
      "        4    0.000    0.000    0.000    0.000 hdulist.py:430(append)\n",
      "       10    0.000    0.000    0.000    0.000 hdulist.py:477(index_of)\n",
      "        6    0.000    0.000    0.000    0.000 hdulist.py:600(update_extend)\n",
      "        2    0.000    0.000    0.012    0.006 hdulist.py:774(_readfrom)\n",
      "       58    0.001    0.000    0.002    0.000 header.py:1026(append)\n",
      "       52    0.000    0.000    0.003    0.000 header.py:112(__getitem__)\n",
      "       88    0.000    0.000    0.001    0.000 header.py:1518(_cardindex)\n",
      "       70    0.000    0.000    0.000    0.000 header.py:1679(_haswildcard)\n",
      "       18    0.000    0.000    0.000    0.000 header.py:1836(__init__)\n",
      "       18    0.000    0.000    0.000    0.000 header.py:1866(__getitem__)\n",
      "        6    0.000    0.000    0.000    0.000 header.py:1977(_block_size)\n",
      "       18    0.000    0.000    0.000    0.000 header.py:251(cards)\n",
      "       62    0.000    0.000    0.000    0.000 header.py:294(_modified)\n",
      "        4    0.000    0.000    0.003    0.001 header.py:298(fromstring)\n",
      "        6    0.000    0.000    0.004    0.001 header.py:368(fromfile)\n",
      "       10    0.000    0.000    0.000    0.000 header.py:413(block_iter)\n",
      "        6    0.000    0.000    0.004    0.001 header.py:428(_from_blocks)\n",
      "        4    0.000    0.000    0.000    0.000 header.py:524(_find_end_card)\n",
      "        4    0.000    0.000    0.000    0.000 header.py:694(clear)\n",
      "        4    0.000    0.000    0.002    0.000 header.py:72(__init__)\n",
      "       28    0.000    0.000    0.002    0.000 header.py:756(get)\n",
      "       52    0.000    0.000    0.001    0.000 header.py:884(iteritems)\n",
      "        8    0.000    0.000    0.000    0.000 header.py:92(__len__)\n",
      "       22    0.000    0.000    0.000    0.000 header.py:99(__contains__)\n",
      "        2    0.000    0.000    0.000    0.000 image.py:106(<listcomp>)\n",
      "        2    0.000    0.000    0.000    0.000 image.py:140(match_header)\n",
      "        4    0.000    0.000    0.000    0.000 image.py:179(header)\n",
      "        2    0.000    0.000    0.001    0.001 image.py:38(__init__)\n",
      "        2    0.000    0.000    0.000    0.000 image.py:491(_verify_blank)\n",
      "        2    0.000    0.000    0.001    0.001 image.py:870(__init__)\n",
      "        4    0.000    0.000    0.000    0.000 image.py:924(match_header)\n",
      "        2    0.000    0.000    0.000    0.000 imp.py:105(get_suffixes)\n",
      "        2    0.000    0.000    0.000    0.000 imp.py:107(<listcomp>)\n",
      "        2    0.000    0.000    0.000    0.000 imp.py:108(<listcomp>)\n",
      "        2    0.000    0.000    0.000    0.000 imp.py:109(<listcomp>)\n",
      "        1    0.000    0.000    0.001    0.001 imp.py:254(find_module)\n",
      "        1    0.000    0.000    0.064    0.064 info.py:10(__init__)\n",
      "        2    0.000    0.000    0.063    0.031 info.py:153(read_info)\n",
      "        2    0.025    0.012    0.063    0.031 info.py:157(load)\n",
      "        1    0.000    0.000    0.032    0.032 info.py:23(setup)\n",
      "        1    0.000    0.000    0.000    0.000 info.py:51(all_set)\n",
      "        3    0.000    0.000    0.000    0.000 info.py:54(update_fn)\n",
      "        1    0.000    0.000    0.000    0.000 info.py:73(_set_base)\n",
      "        1    0.000    0.000    0.000    0.000 info.py:76(_set_nout)\n",
      "        2    0.000    0.000    0.036    0.018 info.py:94(_cal_units)\n",
      "        4    0.000    0.000    0.001    0.000 inspect.py:1052(getfullargspec)\n",
      "        8    0.000    0.000    0.000    0.000 inspect.py:158(isfunction)\n",
      "        4    0.000    0.000    0.000    0.000 inspect.py:2065(_signature_from_function)\n",
      "        4    0.000    0.000    0.001    0.000 inspect.py:2146(_signature_from_callable)\n",
      "       24    0.000    0.000    0.000    0.000 inspect.py:2399(__init__)\n",
      "       48    0.000    0.000    0.000    0.000 inspect.py:2434(name)\n",
      "       44    0.000    0.000    0.000    0.000 inspect.py:2438(default)\n",
      "       24    0.000    0.000    0.000    0.000 inspect.py:2442(annotation)\n",
      "       24    0.000    0.000    0.000    0.000 inspect.py:2446(kind)\n",
      "        4    0.000    0.000    0.000    0.000 inspect.py:2664(__init__)\n",
      "       28    0.000    0.000    0.000    0.000 inspect.py:2709(<genexpr>)\n",
      "        4    0.000    0.000    0.000    0.000 inspect.py:2739(parameters)\n",
      "        4    0.000    0.000    0.000    0.000 inspect.py:2743(return_annotation)\n",
      "        2    0.000    0.000    0.000    0.000 inspect.py:602(getfile)\n",
      "        2    0.000    0.000    0.000    0.000 inspect.py:63(ismodule)\n",
      "        2    0.000    0.000    0.001    0.000 memmap.py:201(__new__)\n",
      "        2    0.000    0.000    0.000    0.000 memmap.py:283(__array_finalize__)\n",
      "        8    0.000    0.000    0.000    0.000 numeric.py:1835(array_str)\n",
      "        4    0.000    0.000    0.000    0.000 parse.py:100(_coerce_args)\n",
      "        2    0.000    0.000    0.000    0.000 parse.py:288(urlparse)\n",
      "        2    0.000    0.000    0.000    0.000 parse.py:321(urlsplit)\n",
      "        4    0.000    0.000    0.000    0.000 parse.py:89(_noop)\n",
      "        2    0.000    0.000    0.000    0.000 posixpath.py:115(splitext)\n",
      "        2    0.000    0.000    0.000    0.000 posixpath.py:145(dirname)\n",
      "        2    0.000    0.000    0.000    0.000 posixpath.py:318(normpath)\n",
      "        2    0.000    0.000    0.000    0.000 posixpath.py:355(abspath)\n",
      "       25    0.000    0.000    0.000    0.000 posixpath.py:39(_get_sep)\n",
      "        2    0.000    0.000    0.000    0.000 posixpath.py:61(isabs)\n",
      "       21    0.000    0.000    0.000    0.000 posixpath.py:71(join)\n",
      "        4    0.000    0.000    0.000    0.000 py3compat.py:108(isfile)\n",
      "       18    0.000    0.000    0.000    0.000 py3compat.py:122(translate)\n",
      "        4    0.000    0.000    0.001    0.000 py3compat.py:131(getargspec)\n",
      "        4    0.000    0.000    0.000    0.000 py3compat.py:29(decode_ascii)\n",
      "        4    0.000    0.000    0.000    0.000 py3compat.py:86(fileobj_open)\n",
      "       64    0.000    0.000    0.000    0.000 py3k.py:28(asbytes)\n",
      "       18    0.000    0.000    0.000    0.000 re.py:175(sub)\n",
      "       18    0.000    0.000    0.000    0.000 re.py:278(_compile)\n",
      "       18    0.000    0.000    0.000    0.000 records.py:426(__array_finalize__)\n",
      "  576/514    0.001    0.000    0.001    0.000 records.py:432(__getattribute__)\n",
      "       46    0.000    0.000    0.001    0.000 records.py:466(__setattr__)\n",
      "       16    0.000    0.000    0.001    0.000 records.py:544(field)\n",
      "        2    0.000    0.000    0.000    0.000 six.py:482(iteritems)\n",
      "        2    0.000    0.000    0.016    0.008 table.py:147(_get_tbdata)\n",
      "       10    0.000    0.000    0.000    0.000 table.py:155(<genexpr>)\n",
      "        2    0.000    0.000    0.002    0.001 table.py:180(_init_tbdata)\n",
      "        2    0.000    0.000    0.000    0.000 table.py:245(__init__)\n",
      "        2    0.000    0.000    0.005    0.003 table.py:387(columns)\n",
      "        2    0.000    0.000    0.016    0.008 table.py:397(data)\n",
      "        2    0.000    0.000    0.000    0.000 table.py:461(_nrows)\n",
      "        2    0.000    0.000    0.000    0.000 table.py:468(_theap)\n",
      "        4    0.000    0.000    0.000    0.000 table.py:59(match_header)\n",
      "        2    0.000    0.000    0.000    0.000 table.py:701(match_header)\n",
      "        2    0.000    0.000    0.000    0.000 table.py:788(match_header)\n",
      "      160    0.000    0.000    0.000    0.000 util.py:118(_notify)\n",
      "        8    0.000    0.000    0.000    0.000 util.py:1181(_convert_array)\n",
      "      162    0.000    0.000    0.000    0.000 util.py:1214(_is_int)\n",
      "       18    0.000    0.000    0.000    0.000 util.py:1218(_str_to_num)\n",
      "        4    0.000    0.000    0.000    0.000 util.py:1229(_pad_length)\n",
      "   244/72    0.001    0.000    0.001    0.000 util.py:177(itersubclasses)\n",
      "       76    0.000    0.000    0.000    0.000 util.py:213(<lambda>)\n",
      "   114/26    0.000    0.000    0.016    0.001 util.py:239(__get__)\n",
      "        4    0.000    0.000    0.000    0.000 util.py:260(__delete__)\n",
      "        2    0.000    0.000    0.000    0.000 util.py:650(isiterable)\n",
      "        2    0.000    0.000    0.000    0.000 util.py:757(fileobj_name)\n",
      "        2    0.000    0.000    0.000    0.000 util.py:801(fileobj_mode)\n",
      "        2    0.000    0.000    0.000    0.000 util.py:821(_fileobj_normalize_mode)\n",
      "        2    0.000    0.000    0.000    0.000 util.py:851(_fileobj_is_append_mode)\n",
      "       20    0.000    0.000    0.001    0.000 util.py:91(_add_listener)\n",
      "        2    0.000    0.000    0.000    0.000 util.py:967(_is_append_mode_platform)\n",
      "        6    0.000    0.000    0.000    0.000 util.py:971(fileobj_is_binary)\n",
      "       18    0.000    0.000    0.000    0.000 weakref.py:101(__init__)\n",
      "       18    0.000    0.000    0.000    0.000 weakref.py:108(remove)\n",
      "       20    0.000    0.000    0.000    0.000 weakref.py:155(__setitem__)\n",
      "       18    0.000    0.000    0.000    0.000 weakref.py:261(update)\n",
      "       20    0.000    0.000    0.000    0.000 weakref.py:305(__new__)\n",
      "       20    0.000    0.000    0.000    0.000 weakref.py:310(__init__)\n",
      "       52    0.000    0.000    0.000    0.000 {built-in method __new__ of type object at 0xa38b60}\n",
      "       10    0.000    0.000    0.000    0.000 {built-in method _codecs.utf_8_decode}\n",
      "        1    0.000    0.000    0.000    0.000 {built-in method _imp.is_builtin}\n",
      "        1    0.000    0.000    0.000    0.000 {built-in method _imp.is_frozen}\n",
      "        2    0.000    0.000    0.000    0.000 {built-in method _locale.nl_langinfo}\n",
      "        1    0.000    0.000    0.000    0.000 {built-in method _stat.S_ISREG}\n",
      "        8    0.000    0.000    0.000    0.000 {built-in method _weakref.proxy}\n",
      "        2    0.000    0.000    0.000    0.000 {built-in method builtins.abs}\n",
      "        2    0.000    0.000    0.000    0.000 {built-in method builtins.any}\n",
      "        4    0.000    0.000    0.000    0.000 {built-in method builtins.callable}\n",
      "       16    0.001    0.000    0.001    0.000 {built-in method builtins.eval}\n",
      "  706/586    0.001    0.000    0.001    0.000 {built-in method builtins.getattr}\n",
      "      155    0.000    0.000    0.000    0.000 {built-in method builtins.hasattr}\n",
      "    32/16    0.000    0.000    0.000    0.000 {built-in method builtins.hash}\n",
      "       20    0.000    0.000    0.000    0.000 {built-in method builtins.id}\n",
      "     1891    0.001    0.000    0.001    0.000 {built-in method builtins.isinstance}\n",
      "       22    0.000    0.000    0.000    0.000 {built-in method builtins.issubclass}\n",
      "        4    0.000    0.000    0.000    0.000 {built-in method builtins.iter}\n",
      "      994    0.000    0.000    0.000    0.000 {built-in method builtins.len}\n",
      "      144    0.000    0.000    0.000    0.000 {built-in method builtins.locals}\n",
      "        2    0.000    0.000    0.000    0.000 {built-in method builtins.max}\n",
      "        2    0.004    0.002    0.004    0.002 {built-in method builtins.min}\n",
      "        6    0.000    0.000    0.000    0.000 {built-in method builtins.next}\n",
      "       18    0.000    0.000    0.000    0.000 {built-in method builtins.ord}\n",
      "        6    0.000    0.000    0.000    0.000 {built-in method builtins.round}\n",
      "  304/160    0.000    0.000    0.003    0.000 {built-in method builtins.setattr}\n",
      "       72    0.000    0.000    0.000    0.000 {built-in method builtins.sorted}\n",
      "        2    0.000    0.000    0.000    0.000 {built-in method fcntl.fcntl}\n",
      "        6    0.000    0.000    0.000    0.000 {built-in method io.open}\n",
      "        8    0.000    0.000    0.000    0.000 {built-in method numpy.core.multiarray.array}\n",
      "        4    0.000    0.000    0.000    0.000 {built-in method numpy.core.multiarray.interp}\n",
      "        2    0.000    0.000    0.000    0.000 {built-in method numpy.core.multiarray.where}\n",
      "        2    0.000    0.000    0.000    0.000 {built-in method numpy.core.multiarray.zeros}\n",
      "       17    0.001    0.000    0.001    0.000 {built-in method posix.stat}\n",
      "       10    0.000    0.000    0.000    0.000 {function HDUList.__getitem__ at 0x7f08ee283c80}\n",
      "        2    0.000    0.000    0.000    0.000 {method '__reduce__' of 'numpy.dtype' objects}\n",
      "        2    0.000    0.000    0.000    0.000 {method '__setstate__' of 'numpy.dtype' objects}\n",
      "       72    0.000    0.000    0.000    0.000 {method '__subclasses__' of 'type' objects}\n",
      "       82    0.000    0.000    0.000    0.000 {method 'add' of 'set' objects}\n",
      "      432    0.000    0.000    0.000    0.000 {method 'append' of 'list' objects}\n",
      "       24    0.000    0.000    0.000    0.000 {method 'copy' of 'dict' objects}\n",
      "        8    0.000    0.000    0.000    0.000 {method 'count' of 'list' objects}\n",
      "        4    0.000    0.000    0.000    0.000 {method 'decode' of 'bytes' objects}\n",
      "        1    0.000    0.000    0.000    0.000 {method 'disable' of '_lsprof.Profiler' objects}\n",
      "       16    0.000    0.000    0.000    0.000 {method 'discard' of 'set' objects}\n",
      "       64    0.000    0.000    0.000    0.000 {method 'encode' of 'str' objects}\n",
      "       16    0.000    0.000    0.000    0.000 {method 'end' of '_sre.SRE_Match' objects}\n",
      "       63    0.000    0.000    0.000    0.000 {method 'endswith' of 'str' objects}\n",
      "        4    0.000    0.000    0.000    0.000 {method 'fileno' of '_io.FileIO' objects}\n",
      "      150    0.000    0.000    0.000    0.000 {method 'find' of 'str' objects}\n",
      "        4    0.000    0.000    0.000    0.000 {method 'finditer' of '_sre.SRE_Pattern' objects}\n",
      "        2    0.000    0.000    0.000    0.000 {method 'format' of 'str' objects}\n",
      "      326    0.000    0.000    0.000    0.000 {method 'get' of 'dict' objects}\n",
      "       16    0.000    0.000    0.000    0.000 {method 'getfield' of 'numpy.ndarray' objects}\n",
      "      246    0.000    0.000    0.000    0.000 {method 'group' of '_sre.SRE_Match' objects}\n",
      "       48    0.000    0.000    0.000    0.000 {method 'groups' of '_sre.SRE_Match' objects}\n",
      "       24    0.000    0.000    0.000    0.000 {method 'index' of 'list' objects}\n",
      "       40    0.000    0.000    0.000    0.000 {method 'index' of 'str' objects}\n",
      "       24    0.000    0.000    0.000    0.000 {method 'isidentifier' of 'str' objects}\n",
      "        4    0.000    0.000    0.000    0.000 {method 'issubset' of 'set' objects}\n",
      "       12    0.000    0.000    0.000    0.000 {method 'item' of 'numpy.ndarray' objects}\n",
      "       80    0.000    0.000    0.000    0.000 {method 'join' of 'str' objects}\n",
      "       56    0.000    0.000    0.000    0.000 {method 'lower' of 'str' objects}\n",
      "       80    0.000    0.000    0.000    0.000 {method 'lstrip' of 'str' objects}\n",
      "      360    0.001    0.000    0.001    0.000 {method 'match' of '_sre.SRE_Pattern' objects}\n",
      "        2    0.000    0.000    0.000    0.000 {method 'newbyteorder' of 'numpy.dtype' objects}\n",
      "        8    0.000    0.000    0.000    0.000 {method 'prod' of 'numpy.ndarray' objects}\n",
      "        8    0.000    0.000    0.000    0.000 {method 'read' of '_io.FileIO' objects}\n",
      "     1242    0.002    0.000    0.002    0.000 {method 'readline' of '_io.TextIOWrapper' objects}\n",
      "        8    0.000    0.000    0.000    0.000 {method 'reduce' of 'numpy.ufunc' objects}\n",
      "        2    0.000    0.000    0.000    0.000 {method 'remove' of 'set' objects}\n",
      "       16    0.000    0.000    0.000    0.000 {method 'replace' of 'str' objects}\n",
      "        6    0.000    0.000    0.000    0.000 {method 'rfind' of 'str' objects}\n",
      "      190    0.000    0.000    0.000    0.000 {method 'rstrip' of 'str' objects}\n",
      "       12    0.000    0.000    0.000    0.000 {method 'seek' of '_io.FileIO' objects}\n",
      "       45    0.000    0.000    0.000    0.000 {method 'split' of 'str' objects}\n",
      "        6    0.000    0.000    0.000    0.000 {method 'start' of '_sre.SRE_Match' objects}\n",
      "        6    0.000    0.000    0.000    0.000 {method 'startswith' of 'bytes' objects}\n",
      "       51    0.000    0.000    0.000    0.000 {method 'startswith' of 'str' objects}\n",
      "      186    0.000    0.000    0.000    0.000 {method 'strip' of 'str' objects}\n",
      "       18    0.000    0.000    0.000    0.000 {method 'sub' of '_sre.SRE_Pattern' objects}\n",
      "       20    0.000    0.000    0.000    0.000 {method 'tell' of '_io.FileIO' objects}\n",
      "       18    0.000    0.000    0.000    0.000 {method 'translate' of 'str' objects}\n",
      "       40    0.000    0.000    0.000    0.000 {method 'union' of 'set' objects}\n",
      "       24    0.000    0.000    0.000    0.000 {method 'update' of 'dict' objects}\n",
      "      228    0.000    0.000    0.000    0.000 {method 'upper' of 'str' objects}\n",
      "        8    0.000    0.000    0.000    0.000 {method 'values' of 'dict' objects}\n",
      "        4    0.000    0.000    0.000    0.000 {method 'values' of 'mappingproxy' objects}\n",
      "    28/20    0.000    0.000    0.006    0.000 {method 'view' of 'numpy.ndarray' objects}\n",
      "        1    0.000    0.000    0.000    0.000 {method 'zfill' of 'str' objects}\n",
      "\n",
      "\n"
     ]
    }
   ],
   "source": [
    "info = load_info()"
   ]
  },
  {
   "cell_type": "code",
   "execution_count": 80,
   "metadata": {
    "collapsed": false
   },
   "outputs": [
    {
     "data": {
      "text/plain": [
       "1.00000008086915"
      ]
     },
     "execution_count": 80,
     "metadata": {},
     "output_type": "execute_result"
    }
   ],
   "source": [
    "info.aexp"
   ]
  },
  {
   "cell_type": "code",
   "execution_count": 72,
   "metadata": {
    "collapsed": true
   },
   "outputs": [],
   "source": [
    "load.info.Info?"
   ]
  },
  {
   "cell_type": "code",
   "execution_count": 57,
   "metadata": {
    "collapsed": false
   },
   "outputs": [
    {
     "name": "stdout",
     "output_type": "stream",
     "text": [
      "         1002 function calls in 2.010 seconds\n",
      "\n",
      "   Ordered by: standard name\n",
      "\n",
      "   ncalls  tottime  percall  cumtime  percall filename:lineno(function)\n",
      "        1    0.005    0.005    2.010    2.010 <ipython-input-55-a918561ea4f2>:1(afunc)\n",
      "     1000    2.005    0.002    2.005    0.002 <ipython-input-55-a918561ea4f2>:14(copy_test_2)\n",
      "        1    0.000    0.000    0.000    0.000 {method 'disable' of '_lsprof.Profiler' objects}\n",
      "\n",
      "\n"
     ]
    }
   ],
   "source": [
    "import numpy as np\n",
    "afunc(np.random.random(1000000))"
   ]
  },
  {
   "cell_type": "code",
   "execution_count": 58,
   "metadata": {
    "collapsed": false
   },
   "outputs": [
    {
     "name": "stdout",
     "output_type": "stream",
     "text": [
      "         1002 function calls in 2.520 seconds\n",
      "\n",
      "   Ordered by: standard name\n",
      "\n",
      "   ncalls  tottime  percall  cumtime  percall filename:lineno(function)\n",
      "     1000    2.514    0.003    2.514    0.003 <ipython-input-55-a918561ea4f2>:11(copy_test_1)\n",
      "        1    0.006    0.006    2.520    2.520 <ipython-input-55-a918561ea4f2>:6(afunc2)\n",
      "        1    0.000    0.000    0.000    0.000 {method 'disable' of '_lsprof.Profiler' objects}\n",
      "\n",
      "\n"
     ]
    }
   ],
   "source": [
    "afunc2(np.random.random(1000000))"
   ]
  },
  {
   "cell_type": "code",
   "execution_count": null,
   "metadata": {
    "collapsed": true
   },
   "outputs": [],
   "source": []
  },
  {
   "cell_type": "code",
   "execution_count": 62,
   "metadata": {
    "collapsed": true
   },
   "outputs": [],
   "source": [
    "class Abc():\n",
    "    def __init__(self):\n",
    "        ccc = 12312312\n",
    "\n",
    "class Dummy():\n",
    "    def __init__(self):\n",
    "        self.a =123\n",
    "        self.b = Abc()\n",
    "    def afun(self):\n",
    "        print(self.a)"
   ]
  },
  {
   "cell_type": "code",
   "execution_count": 64,
   "metadata": {
    "collapsed": true
   },
   "outputs": [],
   "source": [
    "dd = Dummy()"
   ]
  },
  {
   "cell_type": "code",
   "execution_count": 69,
   "metadata": {
    "collapsed": false
   },
   "outputs": [
    {
     "name": "stdout",
     "output_type": "stream",
     "text": [
      "('a', 123)\n",
      "('b', <__main__.Abc object at 0x7f09040617f0>)\n"
     ]
    }
   ],
   "source": [
    "for i in dd.__dict__.items():\n",
    "    print(i)"
   ]
  },
  {
   "cell_type": "markdown",
   "metadata": {},
   "source": [
    "## Function decorator"
   ]
  },
  {
   "cell_type": "code",
   "execution_count": 4,
   "metadata": {
    "collapsed": true
   },
   "outputs": [],
   "source": [
    "def get_text(name):\n",
    "    return(\"blha blha {} and blha\".format(name))\n",
    "\n",
    "def a_decorate(func):\n",
    "    def func_wrapper(name):\n",
    "        return \" >>> {}\".format(func(name))\n",
    "    return func_wrapper\n",
    "\n",
    "my_print_txt = a_decorate(get_text)"
   ]
  },
  {
   "cell_type": "code",
   "execution_count": 5,
   "metadata": {
    "collapsed": false
   },
   "outputs": [
    {
     "name": "stdout",
     "output_type": "stream",
     "text": [
      " >>> blha blha sss and blha\n"
     ]
    }
   ],
   "source": [
    "print(my_print_txt(\"sss\"))"
   ]
  },
  {
   "cell_type": "markdown",
   "metadata": {},
   "source": [
    "The above function wrapper in a more neat form:"
   ]
  },
  {
   "cell_type": "code",
   "execution_count": 6,
   "metadata": {
    "collapsed": true
   },
   "outputs": [],
   "source": [
    "@a_decorate\n",
    "def get_txt(name):\n",
    "    return(\"blha blha {} and blha\".format(name))"
   ]
  },
  {
   "cell_type": "code",
   "execution_count": 8,
   "metadata": {
    "collapsed": false
   },
   "outputs": [
    {
     "name": "stdout",
     "output_type": "stream",
     "text": [
      " >>> blha blha bbb and blha\n"
     ]
    }
   ],
   "source": [
    "print(get_txt(\"bbb\"))"
   ]
  },
  {
   "cell_type": "markdown",
   "metadata": {},
   "source": [
    "Multiple decorators"
   ]
  },
  {
   "cell_type": "code",
   "execution_count": 11,
   "metadata": {
    "collapsed": true
   },
   "outputs": [],
   "source": [
    "def outer(func):\n",
    "    def function_wrapper(arg1):\n",
    "        return \"[[ {} ]]\".format(func(arg1))\n",
    "    return function_wrapper\n",
    "\n",
    "def inner(func):\n",
    "    def function_wrapper(name):\n",
    "        return \"(( {} ))\".format(func(name))\n",
    "    return function_wrapper\n",
    "\n",
    "@outer\n",
    "@a_decorate\n",
    "@inner\n",
    "def mytxt(name):\n",
    "    return \"original name {}\".format(name)"
   ]
  },
  {
   "cell_type": "code",
   "execution_count": 12,
   "metadata": {
    "collapsed": false
   },
   "outputs": [
    {
     "data": {
      "text/plain": [
       "'[[  >>> (( original name 12123 )) ]]'"
      ]
     },
     "execution_count": 12,
     "metadata": {},
     "output_type": "execute_result"
    }
   ],
   "source": [
    "mytxt(\"12123\")"
   ]
  },
  {
   "cell_type": "markdown",
   "metadata": {},
   "source": [
    "when multiple decorators are added, the order matters."
   ]
  }
 ],
 "metadata": {
  "kernelspec": {
   "display_name": "Python 3",
   "language": "python",
   "name": "python3"
  },
  "language_info": {
   "codemirror_mode": {
    "name": "ipython",
    "version": 3
   },
   "file_extension": ".py",
   "mimetype": "text/x-python",
   "name": "python",
   "nbconvert_exporter": "python",
   "pygments_lexer": "ipython3",
   "version": "3.5.1+"
  }
 },
 "nbformat": 4,
 "nbformat_minor": 0
}
