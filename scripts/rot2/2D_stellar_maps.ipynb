{
 "cells": [
  {
   "cell_type": "code",
   "execution_count": null,
   "metadata": {
    "collapsed": true
   },
   "outputs": [],
   "source": [
    "import load\n",
    "import numpy as np\n",
    "import matplotlib\n",
    "matplotlib.use(\"Qt5Agg\")\n",
    "import matplotlib.pyplot as plt\n",
    "import tree\n",
    "import makegal"
   ]
  },
  {
   "cell_type": "code",
   "execution_count": null,
   "metadata": {
    "collapsed": true
   },
   "outputs": [],
   "source": [
    "nout = 312#782 # 312\n",
    "s = load.sim.Sim(nout=nout)\n",
    "gcat = tree.halomodule.Halo(nout=nout, is_gal=True)"
   ]
  },
  {
   "cell_type": "code",
   "execution_count": null,
   "metadata": {
    "collapsed": true
   },
   "outputs": [],
   "source": [
    "from matplotlib.colors import LogNorm\n",
    "\n",
    "fig, axs = plt.subplots(1,2)\n",
    "fig.set_size_inches(8,4)\n",
    "for gdata in gcat.data[range(1004,2004,10)]:\n",
    "    gg = load.rd_GM.Gal(nout, catalog=gdata.copy(), info=s.info)\n",
    "    gg.debug=False\n",
    "    #print(len(gg.star))\n",
    "    is_good = makegal.mk_gal(gg, mstar_min=1e10, den_lim=1e7, verbose=False)\n",
    "    #print(len(gg.star))\n",
    "    #print(\"vz mean\", gg.star[\"vz\"].mean())\n",
    "    gg.star[\"vx\"] -= gg.star[\"vx\"].mean()\n",
    "    gg.star[\"vy\"] -= gg.star[\"vy\"].mean()\n",
    "    gg.star[\"vz\"] -= gg.star[\"vz\"].mean()\n",
    "    #print(\"vx mean\", gg.star[\"vx\"].mean())\n",
    "    #print(\"vy mean\", gg.star[\"vy\"].mean())\n",
    "    #print(\"vz mean\", gg.star[\"vz\"].mean())\n",
    "    gg.reorient(pops=[\"star\"])\n",
    "    axs[0].hist2d(gg.star[\"y\"], gg.star[\"x\"], bins=200, norm=LogNorm())\n",
    "    axs[1].hist2d(gg.star[\"z\"], gg.star[\"y\"], bins=200, norm=LogNorm())\n",
    "    axs[0].set_aspect(\"equal\")\n",
    "    axs[0].set_aspect(\"equal\")\n",
    "    \n",
    "    plt.savefig(str(gdata[\"id\"]).zfill(5) + \".png\")\n",
    "    axs[0].cla()\n",
    "    axs[1].cla()\n",
    "\n",
    "plt.close()"
   ]
  }
 ],
 "metadata": {
  "kernelspec": {
   "display_name": "Python 3",
   "language": "python",
   "name": "python3"
  },
  "language_info": {
   "codemirror_mode": {
    "name": "ipython",
    "version": 3
   },
   "file_extension": ".py",
   "mimetype": "text/x-python",
   "name": "python",
   "nbconvert_exporter": "python",
   "pygments_lexer": "ipython3",
   "version": "3.5.3"
  }
 },
 "nbformat": 4,
 "nbformat_minor": 2
}
