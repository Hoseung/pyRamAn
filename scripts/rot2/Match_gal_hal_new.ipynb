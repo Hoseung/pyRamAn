{
 "cells": [
  {
   "cell_type": "code",
   "execution_count": 1,
   "metadata": {
    "collapsed": true
   },
   "outputs": [],
   "source": [
    "def distv3d(halo, center):\n",
    "    norm = np.sqrt(np.square(center['vx'] - halo['vx']) + \n",
    "                   np.square(center['vy'] - halo['vy']) + \n",
    "                   np.square(center['vz'] - halo['vz']))\n",
    "    return norm\n",
    "\n",
    "def distv(halo, center):\n",
    "    norm = center['vx'] - halo['vx'] + \\\n",
    "           center['vy'] - halo['vy'] + \\\n",
    "           center['vz'] - halo['vz']\n",
    "    return norm\n",
    "\n",
    "\n",
    "def dist(halo, center):\n",
    "    norm = np.sqrt(np.square(center['x'] - halo['x']) + \n",
    "                   np.square(center['y'] - halo['y']) + \n",
    "                   np.square(center['z'] - halo['z']))\n",
    "    return norm \n",
    "\n",
    "def match_gal_hal_tree(gt, ht):\n",
    "    nout = 187\n",
    "    dt = 3 # compare progenitor at dt ago.\n",
    "    \n",
    "    gal_now = gt[gt[\"nout\"]==nout]\n",
    "    hal_now = ht[ht[\"nout\"]==nout]\n",
    "    \n",
    "    gal_before = gt[gt[\"nout\"]==nout-dt]\n",
    "    hal_before = ht[ht[\"nout\"]==nout-dt]    \n",
    "    \n",
    "    dominant = 0.1 # matched one should have less error by this amount or smaller \n",
    "                    # compared to the second best matched one.\n",
    "    \n",
    "    abs_tol_pos = 5e-5 # Position absolute tolerance [in code unit?]\n",
    "    abs_tol_vel = 10   # velocity absolute tolerance [in kms?]\n",
    "    \n",
    "    for gal in gal_now:\n",
    "        dd = dist(hal_now, gal)\n",
    "        vv = distv(hal_now, gal)\n",
    "        d_sort = np.argsort(dd)\n",
    "        v_sort = np.argsort(vv)\n",
    "        if (dd[d_sort[0]] < dominant * dd[d_sort[1]]) and (dd[d_sort[0]] < abs_tol_pos) and \\\n",
    "        (vv[v_sort[0]] < dominant * vv[v_sort[1]]) and (vv[v_sort[0]] < abs_tol_vel):\n",
    "            gal['hosthalo'] = allhal.data['id'][d_sort[0]]\n",
    "            i0.append(i)\n",
    "            newhals[i] = allhal.data[d_sort[0]]\n",
    "        else:\n",
    "            atree = tree.atree(gt)\n",
    "            prg = atree[dt]\n",
    "            for gal2 in gal_before:\n",
    "                dd = dist(hal_now, gal2)\n",
    "                vv = distv(hal_now, gal2)\n",
    "                d_sort = np.argsort(dd)\n",
    "                v_sort = np.argsort(vv)\n",
    "            \n",
    "                \n",
    "\n",
    "def get_comp_dist(hal_now, gal, nreturn=5):\n",
    "    \"\"\"Measure 6D distance and return N closest entries\"\"\"\n",
    "    dd = dist(hal_now, gal)\n",
    "    vv = distv(hal_now, gal)\n",
    "    dd_q1 = np.percentile(dd,10)\n",
    "    vv_q1 = np.percentile(vv,10)\n",
    "    comp_dist = np.sqrt(np.square(dd/dd_q1) + np.square(vv/vv_q1))\n",
    "    ind_sort = np.argsort(comp_dist)\n",
    "    return comp_dist[ind_sort[:nreturn]], hal_now[ind_sort[:nreturn]]\n",
    "\n",
    "def before_to_now(htdata, hals, dt):\n",
    "    out = []\n",
    "    for hal in hals:\n",
    "        atree_hal = ctu.extract_main_tree_full(htdata, idx=hal['id'])\n",
    "        out.append(atree_hal[hal['nout'] + dt])\n",
    "    return out\n",
    "\n",
    "def now_to_before(htdata, hals, dt):\n",
    "    \"\"\"\n",
    "    progenitor of current halos.\n",
    "    If does not exist, give -1\n",
    "    \"\"\"\n",
    "    out =[]\n",
    "    for hal in hals:\n",
    "        idx = hal['id']\n",
    "        try:\n",
    "            #smalldata = htdata[htdata['tree_root_id'] == idx]\n",
    "            #print(smalldata)\n",
    "            atree_hal = ctu.extract_main_tree(htdata, idx=idx)\n",
    "            out.append(atree_hal[dt])\n",
    "        except:\n",
    "            print(\"broken tree\")\n",
    "            out.append(-1)        \n",
    "            \n",
    "    return np.array(out)"
   ]
  },
  {
   "cell_type": "code",
   "execution_count": 145,
   "metadata": {
    "collapsed": false
   },
   "outputs": [
    {
     "ename": "FileNotFoundError",
     "evalue": "[Errno 2] No such file or directory: './29176/GalaxyMaker/Trees/tree_0_0_0.dat'",
     "output_type": "error",
     "traceback": [
      "\u001b[0;31m---------------------------------------------------------------------------\u001b[0m",
      "\u001b[0;31mFileNotFoundError\u001b[0m                         Traceback (most recent call last)",
      "\u001b[0;32m/home/hoseung/Work/pyclusterevol/tree/treemodule.py\u001b[0m in \u001b[0;36mload_tree\u001b[0;34m(wdir, is_gal, no_dump, load_ascii)\u001b[0m\n\u001b[1;32m    153\u001b[0m         \u001b[0;32mtry\u001b[0m\u001b[0;34m:\u001b[0m\u001b[0;34m\u001b[0m\u001b[0m\n\u001b[0;32m--> 154\u001b[0;31m             \u001b[0malltrees\u001b[0m \u001b[0;34m=\u001b[0m \u001b[0mpickle\u001b[0m\u001b[0;34m.\u001b[0m\u001b[0mload\u001b[0m\u001b[0;34m(\u001b[0m\u001b[0mopen\u001b[0m\u001b[0;34m(\u001b[0m\u001b[0mwdir\u001b[0m \u001b[0;34m+\u001b[0m \u001b[0mdf\u001b[0m\u001b[0;34m.\u001b[0m\u001b[0mext_tree_pickle\u001b[0m\u001b[0;34m(\u001b[0m\u001b[0mis_gal\u001b[0m\u001b[0;34m=\u001b[0m\u001b[0mis_gal\u001b[0m\u001b[0;34m)\u001b[0m\u001b[0;34m,\u001b[0m \u001b[0;34m\"rb\"\u001b[0m \u001b[0;34m)\u001b[0m\u001b[0;34m)\u001b[0m\u001b[0;34m\u001b[0m\u001b[0m\n\u001b[0m\u001b[1;32m    155\u001b[0m             \u001b[0mprint\u001b[0m\u001b[0;34m(\u001b[0m\u001b[0;34m\"Loaded an extended tree\"\u001b[0m\u001b[0;34m)\u001b[0m\u001b[0;34m\u001b[0m\u001b[0m\n",
      "\u001b[0;31mFileNotFoundError\u001b[0m: [Errno 2] No such file or directory: './29176/GalaxyMaker/Trees/extended_tree.pickle'",
      "\nDuring handling of the above exception, another exception occurred:\n",
      "\u001b[0;31mFileNotFoundError\u001b[0m                         Traceback (most recent call last)",
      "\u001b[0;32m<ipython-input-145-8c3cf52c8415>\u001b[0m in \u001b[0;36m<module>\u001b[0;34m()\u001b[0m\n\u001b[1;32m     32\u001b[0m \u001b[0mcluster\u001b[0m \u001b[0;34m=\u001b[0m \u001b[0mclusters\u001b[0m\u001b[0;34m[\u001b[0m\u001b[0;36m0\u001b[0m\u001b[0;34m]\u001b[0m\u001b[0;34m\u001b[0m\u001b[0m\n\u001b[1;32m     33\u001b[0m \u001b[0mwdir\u001b[0m \u001b[0;34m=\u001b[0m \u001b[0;34m'./'\u001b[0m \u001b[0;34m+\u001b[0m \u001b[0mcluster\u001b[0m \u001b[0;34m+\u001b[0m \u001b[0;34m'/'\u001b[0m\u001b[0;34m\u001b[0m\u001b[0m\n\u001b[0;32m---> 34\u001b[0;31m \u001b[0mgt\u001b[0m \u001b[0;34m=\u001b[0m \u001b[0mtmo\u001b[0m\u001b[0;34m.\u001b[0m\u001b[0mload_tree\u001b[0m\u001b[0;34m(\u001b[0m\u001b[0mwdir\u001b[0m\u001b[0;34m,\u001b[0m \u001b[0mis_gal\u001b[0m\u001b[0;34m=\u001b[0m\u001b[0;32mTrue\u001b[0m\u001b[0;34m)\u001b[0m\u001b[0;34m\u001b[0m\u001b[0m\n\u001b[0m\u001b[1;32m     35\u001b[0m \u001b[0mht\u001b[0m \u001b[0;34m=\u001b[0m \u001b[0mtmo\u001b[0m\u001b[0;34m.\u001b[0m\u001b[0mload_tree\u001b[0m\u001b[0;34m(\u001b[0m\u001b[0mwdir\u001b[0m\u001b[0;34m,\u001b[0m \u001b[0mis_gal\u001b[0m\u001b[0;34m=\u001b[0m\u001b[0;32mFalse\u001b[0m\u001b[0;34m)\u001b[0m\u001b[0;34m\u001b[0m\u001b[0m\n\u001b[1;32m     36\u001b[0m \u001b[0;34m\u001b[0m\u001b[0m\n",
      "\u001b[0;32m/home/hoseung/Work/pyclusterevol/tree/treemodule.py\u001b[0m in \u001b[0;36mload_tree\u001b[0;34m(wdir, is_gal, no_dump, load_ascii)\u001b[0m\n\u001b[1;32m    156\u001b[0m         \u001b[0;32mexcept\u001b[0m\u001b[0;34m:\u001b[0m\u001b[0;34m\u001b[0m\u001b[0m\n\u001b[1;32m    157\u001b[0m             \u001b[0malltrees\u001b[0m \u001b[0;34m=\u001b[0m \u001b[0mCTree\u001b[0m\u001b[0;34m(\u001b[0m\u001b[0;34m)\u001b[0m\u001b[0;34m\u001b[0m\u001b[0m\n\u001b[0;32m--> 158\u001b[0;31m             \u001b[0malltrees\u001b[0m\u001b[0;34m.\u001b[0m\u001b[0mload\u001b[0m\u001b[0;34m(\u001b[0m\u001b[0mfilename\u001b[0m\u001b[0;34m=\u001b[0m \u001b[0mwdir\u001b[0m \u001b[0;34m+\u001b[0m \u001b[0mtree_path\u001b[0m \u001b[0;34m+\u001b[0m \u001b[0;34m'tree_0_0_0.dat'\u001b[0m\u001b[0;34m)\u001b[0m\u001b[0;34m\u001b[0m\u001b[0m\n\u001b[0m\u001b[1;32m    159\u001b[0m             \u001b[0;31m# Fix nout -----------------------------------------------------\u001b[0m\u001b[0;34m\u001b[0m\u001b[0;34m\u001b[0m\u001b[0m\n\u001b[1;32m    160\u001b[0m             \u001b[0mnout_max\u001b[0m \u001b[0;34m=\u001b[0m \u001b[0malltrees\u001b[0m\u001b[0;34m.\u001b[0m\u001b[0mdata\u001b[0m\u001b[0;34m[\u001b[0m\u001b[0;34m'nout'\u001b[0m\u001b[0;34m]\u001b[0m\u001b[0;34m.\u001b[0m\u001b[0mmax\u001b[0m\u001b[0;34m(\u001b[0m\u001b[0;34m)\u001b[0m\u001b[0;34m\u001b[0m\u001b[0m\n",
      "\u001b[0;32m/home/hoseung/Work/pyclusterevol/tree/treemodule.py\u001b[0m in \u001b[0;36mload\u001b[0;34m(self, filename)\u001b[0m\n\u001b[1;32m     71\u001b[0m \u001b[0;34m\u001b[0m\u001b[0m\n\u001b[1;32m     72\u001b[0m         \u001b[0;32mif\u001b[0m \u001b[0m_is_ascii\u001b[0m\u001b[0;34m(\u001b[0m\u001b[0mfilename\u001b[0m\u001b[0;34m)\u001b[0m\u001b[0;34m:\u001b[0m\u001b[0;34m\u001b[0m\u001b[0m\n\u001b[0;32m---> 73\u001b[0;31m             \u001b[0mself\u001b[0m\u001b[0;34m.\u001b[0m\u001b[0m_load_ascii\u001b[0m\u001b[0;34m(\u001b[0m\u001b[0mfilename\u001b[0m\u001b[0;34m)\u001b[0m\u001b[0;34m\u001b[0m\u001b[0m\n\u001b[0m\u001b[1;32m     74\u001b[0m         \u001b[0;32melse\u001b[0m\u001b[0;34m:\u001b[0m\u001b[0;34m\u001b[0m\u001b[0m\n\u001b[1;32m     75\u001b[0m             \u001b[0mself\u001b[0m\u001b[0;34m.\u001b[0m\u001b[0m_load_pickle\u001b[0m\u001b[0;34m(\u001b[0m\u001b[0mfilename\u001b[0m\u001b[0;34m)\u001b[0m\u001b[0;34m\u001b[0m\u001b[0m\n",
      "\u001b[0;32m/home/hoseung/Work/pyclusterevol/tree/treemodule.py\u001b[0m in \u001b[0;36m_load_ascii\u001b[0;34m(self, filename)\u001b[0m\n\u001b[1;32m     34\u001b[0m \u001b[0;34m\u001b[0m\u001b[0m\n\u001b[1;32m     35\u001b[0m \u001b[0;34m\u001b[0m\u001b[0m\n\u001b[0;32m---> 36\u001b[0;31m         \u001b[0;32mwith\u001b[0m \u001b[0mopen\u001b[0m\u001b[0;34m(\u001b[0m\u001b[0mfilename\u001b[0m\u001b[0;34m,\u001b[0m \u001b[0;34m'rb'\u001b[0m\u001b[0;34m)\u001b[0m \u001b[0;32mas\u001b[0m \u001b[0mf\u001b[0m\u001b[0;34m:\u001b[0m\u001b[0;34m\u001b[0m\u001b[0m\n\u001b[0m\u001b[1;32m     37\u001b[0m             \u001b[0;32mfor\u001b[0m \u001b[0mi\u001b[0m \u001b[0;32min\u001b[0m \u001b[0mrange\u001b[0m\u001b[0;34m(\u001b[0m\u001b[0;36m180\u001b[0m\u001b[0;34m)\u001b[0m\u001b[0;34m:\u001b[0m\u001b[0;34m\u001b[0m\u001b[0m\n\u001b[1;32m     38\u001b[0m                 \u001b[0mline\u001b[0m \u001b[0;34m=\u001b[0m \u001b[0mf\u001b[0m\u001b[0;34m.\u001b[0m\u001b[0mreadline\u001b[0m\u001b[0;34m(\u001b[0m\u001b[0;34m)\u001b[0m\u001b[0;34m\u001b[0m\u001b[0m\n",
      "\u001b[0;31mFileNotFoundError\u001b[0m: [Errno 2] No such file or directory: './29176/GalaxyMaker/Trees/tree_0_0_0.dat'"
     ]
    }
   ],
   "source": [
    "import load\n",
    "import draw\n",
    "from tree import ctutils as ctu\n",
    "from tree import halomodule as hmo\n",
    "from load.info import Info\n",
    "import pandas as pd\n",
    "import pickle\n",
    "import numpy as np\n",
    "import matplotlib\n",
    "matplotlib.use(\"Qt5Agg\")\n",
    "import matplotlib.pyplot as plt\n",
    "import tree.treemodule as tmo\n",
    "from load.rd_GM import Gal\n",
    "\n",
    "# Load galaxy catalog\n",
    "# and halo catalog\n",
    "clusters = [\"29176\"]\n",
    "nout_fi = 187\n",
    "\n",
    "#dominant = 0.4 # matched one should have less error by this amount or smaller \n",
    "                # compared to the second best matched one.\n",
    "\n",
    "#abs_tol_pos = 1e-2 # Position absolute tolerance [in Mpc]\n",
    "#abs_tol_vel = 100   # velocity absolute tolerance [in kms?]\n",
    "\n",
    "dts = [3,5]\n",
    "\n",
    "mstar_all = []\n",
    "mhal_all = []\n",
    "\n",
    "#for cluster in clusters:\n",
    "cluster = clusters[0]\n",
    "wdir = './' + cluster + '/'\n",
    "gt = tmo.load_tree(wdir, is_gal=True)\n",
    "ht = tmo.load_tree(wdir, is_gal=False)\n",
    "\n",
    "gt.data[\"rvir\"] *=1e-3\n",
    "ht.data[\"rvir\"] *=1e-3"
   ]
  },
  {
   "cell_type": "code",
   "execution_count": 3,
   "metadata": {
    "collapsed": false,
    "scrolled": true
   },
   "outputs": [
    {
     "name": "stdout",
     "output_type": "stream",
     "text": [
      "[sim._hilbert_cpulist] No AMR instance,\n",
      "[sim._hilbert_cpulist] Loading one...\n",
      "An AMR instance is created\n",
      " Sim\n",
      "An AMR instance is created\n",
      " Sim\n",
      "Simulation set up.\n"
     ]
    }
   ],
   "source": [
    "s = load.sim.Sim(base=wdir,nout=187)"
   ]
  },
  {
   "cell_type": "code",
   "execution_count": 4,
   "metadata": {
    "collapsed": false
   },
   "outputs": [
    {
     "name": "stdout",
     "output_type": "stream",
     "text": [
      "Types of particles you want to load are:  ['star id pos mass', 'dm id pos mass']\n",
      "[sim._hilbert_cpulist] No AMR instance,\n",
      "[sim._hilbert_cpulist] Loading one...\n",
      "An AMR instance is created\n",
      " Part\n",
      "A particle instance is created\n",
      "\n",
      "Loading by fortran module\n",
      "Fortran-reading done\n"
     ]
    }
   ],
   "source": [
    "s.add_part(ptypes=[\"star id pos mass\", \"dm id pos mass\"])"
   ]
  },
  {
   "cell_type": "code",
   "execution_count": null,
   "metadata": {
    "collapsed": true
   },
   "outputs": [],
   "source": []
  },
  {
   "cell_type": "code",
   "execution_count": null,
   "metadata": {
    "collapsed": true
   },
   "outputs": [],
   "source": []
  },
  {
   "cell_type": "code",
   "execution_count": 5,
   "metadata": {
    "collapsed": true
   },
   "outputs": [],
   "source": [
    "nout_fi = 187\n",
    "info = Info(nout_fi, base=wdir)\n",
    "\n",
    "gal_now = gt.data[gt.data[\"nout\"]==nout_fi]\n",
    "hal_now = ht.data[ht.data[\"nout\"]==nout_fi]\n"
   ]
  },
  {
   "cell_type": "code",
   "execution_count": 6,
   "metadata": {
    "collapsed": false
   },
   "outputs": [
    {
     "data": {
      "text/plain": [
       "125"
      ]
     },
     "execution_count": 6,
     "metadata": {},
     "output_type": "execute_result"
    }
   ],
   "source": [
    "len(gal_now)"
   ]
  },
  {
   "cell_type": "code",
   "execution_count": 7,
   "metadata": {
    "collapsed": true
   },
   "outputs": [],
   "source": [
    "# Only long enough trees\n",
    "gal_ok = ctu.check_tree_complete(gt.data,\n",
    "                                 nout_fi - max(dts),\n",
    "                                 nout_fi, gal_now[\"id\"],\n",
    "                                 idx=True)"
   ]
  },
  {
   "cell_type": "code",
   "execution_count": 8,
   "metadata": {
    "collapsed": false
   },
   "outputs": [
    {
     "name": "stdout",
     "output_type": "stream",
     "text": [
      "125 (100.0%) out of 125 galaxies are long enough.\n"
     ]
    }
   ],
   "source": [
    "print(\"{} ({}%) out of {} galaxies are long enough.\".format(\n",
    "    len(gal_ok), 100*len(gal_ok)/len(gal_now), len(gal_now)))"
   ]
  },
  {
   "cell_type": "code",
   "execution_count": 9,
   "metadata": {
    "collapsed": true
   },
   "outputs": [],
   "source": [
    "# Test -3, -5 snapshot halos\n",
    "\n",
    "hal_3 = ht.data[ht.data[\"nout\"]==nout_fi - 3]\n",
    "hal_5 = ht.data[ht.data[\"nout\"]==nout_fi - 5]\n",
    "hal_this_list = [hal_3, hal_5]"
   ]
  },
  {
   "cell_type": "code",
   "execution_count": 10,
   "metadata": {
    "collapsed": true
   },
   "outputs": [],
   "source": [
    "    comp_dists=[]\n",
    "    result = []\n",
    "    mhal_result = []\n",
    "    dist_error = []"
   ]
  },
  {
   "cell_type": "code",
   "execution_count": 11,
   "metadata": {
    "collapsed": true
   },
   "outputs": [],
   "source": [
    "gal = gal_now[0]"
   ]
  },
  {
   "cell_type": "code",
   "execution_count": 12,
   "metadata": {
    "collapsed": false
   },
   "outputs": [],
   "source": [
    "from scipy.spatial import cKDTree\n",
    "\n",
    "def get_kd_matched_hals(kdtree, gal, n_match=5, rscale = 2.0):\n",
    "    #len_tree = kdtree.length\n",
    "    dd, ind = kdtree.query((gal[\"x\"],\n",
    "                            gal[\"y\"],\n",
    "                            gal[\"z\"]),\n",
    "                            distance_upper_bound=gal[\"rvir\"] * rscale,\n",
    "                            k=n_match)\n",
    "    \n",
    "    return dd[np.isfinite(dd)], ind[np.isfinite(dd)]\n",
    "\n",
    "# KDTree\n",
    "kdtree = cKDTree(np.stack((hal_now[\"x\"],\n",
    "                           hal_now[\"y\"],\n",
    "                           hal_now[\"z\"]),\n",
    "                          axis=1))"
   ]
  },
  {
   "cell_type": "code",
   "execution_count": 110,
   "metadata": {
    "collapsed": false
   },
   "outputs": [],
   "source": [
    "dd, inds = get_kd_matched_hals(kdtree, gal, n_match=20, rscale = 1.0)"
   ]
  },
  {
   "cell_type": "code",
   "execution_count": 111,
   "metadata": {
    "collapsed": false
   },
   "outputs": [],
   "source": [
    "fig, ax = plt.subplots()\n",
    "\n",
    "draw.pp.pp_halo(hal_now[inds], npix=800, ax=ax, radius=\"rvir\", edgecolor=\"red\")\n",
    "draw.pp.pp_halo(gal_now, npix=800, ax=ax, radius=\"rvir\",\n",
    "                edgecolor=\"blue\")\n",
    "draw.pp.update_tick_labels(ax)\n",
    "new_region = region_gm2code(ax.pp_hal_meta.region, s.info)\n",
    "\n",
    "plt.show()"
   ]
  },
  {
   "cell_type": "code",
   "execution_count": 81,
   "metadata": {
    "collapsed": true
   },
   "outputs": [],
   "source": [
    "from matplotlib.colors import LogNorm"
   ]
  },
  {
   "cell_type": "code",
   "execution_count": 95,
   "metadata": {
    "collapsed": true
   },
   "outputs": [],
   "source": [
    "nxc = new_region[\"xc\"]\n",
    "nyc = new_region[\"yc\"]\n",
    "nrad = new_region[\"radius\"]"
   ]
  },
  {
   "cell_type": "code",
   "execution_count": 133,
   "metadata": {
    "collapsed": false
   },
   "outputs": [
    {
     "name": "stdout",
     "output_type": "stream",
     "text": [
      "[Halo.load_info] loading info\n",
      "[Halo.load_info] nout = 187, base =./29172/\n"
     ]
    }
   ],
   "source": [
    "gcat = hmo.Halo(base=wdir, nout=187, is_gal=True)"
   ]
  },
  {
   "cell_type": "code",
   "execution_count": 104,
   "metadata": {
    "collapsed": false
   },
   "outputs": [
    {
     "name": "stderr",
     "output_type": "stream",
     "text": [
      "/home/hoseung/anaconda3/envs/hspy/lib/python3.6/site-packages/matplotlib/colors.py:930: RuntimeWarning: divide by zero encountered in log\n",
      "  resdat -= np.log(vmin)\n",
      "/home/hoseung/anaconda3/envs/hspy/lib/python3.6/site-packages/matplotlib/colors.py:931: RuntimeWarning: divide by zero encountered in log\n",
      "  resdat /= (np.log(vmax) - np.log(vmin))\n",
      "/home/hoseung/anaconda3/envs/hspy/lib/python3.6/site-packages/matplotlib/colors.py:931: RuntimeWarning: invalid value encountered in true_divide\n",
      "  resdat /= (np.log(vmax) - np.log(vmin))\n"
     ]
    }
   ],
   "source": [
    "fig, ax = plt.subplots()\n",
    "ax.hist2d(s.part.star[\"x\"]*s.info.cboxsize,\n",
    "           s.part.star[\"y\"]*s.info.cboxsize,\n",
    "           range = [hal_region[\"xr\"], hal_region[\"yr\"]],\n",
    "           #range=[[nxc - 0.2*nrad, nxc+0.2*nrad],\n",
    "           #       [nyc - 0.2*nrad, nyc+0.2*nrad]],\n",
    "           bins=800, norm=LogNorm())\n",
    "plt.show()"
   ]
  },
  {
   "cell_type": "code",
   "execution_count": 61,
   "metadata": {
    "collapsed": true
   },
   "outputs": [],
   "source": [
    "def region_gm2code(hal_region, info):\n",
    "    \"\"\"\n",
    "    Most of the time it is more convenient to work in GM Kpc unit, \n",
    "    but I don't want to convert all stellar/DM particle units. \n",
    "    \"\"\"\n",
    "    import utils.sampling as smp\n",
    "    \n",
    "    New_region = hal_region.copy()\n",
    "    return smp.set_region(radius=hal_region[\"radius\"]/info.cboxsize,\n",
    "                          centers=np.array(hal_region[\"centers\"])/info.cboxsize)"
   ]
  },
  {
   "cell_type": "code",
   "execution_count": 66,
   "metadata": {
    "collapsed": false
   },
   "outputs": [
    {
     "name": "stdout",
     "output_type": "stream",
     "text": [
      "x.ptp() 800.0 npix 800\n",
      "Resampling 1903768 values to a 800 by 800 by 1 grid\n"
     ]
    }
   ],
   "source": [
    "# stellar map + halo\n",
    "smap= draw.pp.part2den(s.part.star, s.info, region=new_region)\n"
   ]
  },
  {
   "cell_type": "code",
   "execution_count": 143,
   "metadata": {
    "collapsed": false
   },
   "outputs": [],
   "source": [
    "gcat.data[\"x\"] *= s.info.cboxsize\n",
    "gcat.data[\"y\"] *= s.info.cboxsize\n",
    "gcat.data[\"z\"] *= s.info.cboxsize\n",
    "gcat.data[\"rvir\"] *= s.info.cboxsize"
   ]
  },
  {
   "cell_type": "code",
   "execution_count": 144,
   "metadata": {
    "collapsed": false
   },
   "outputs": [
    {
     "name": "stderr",
     "output_type": "stream",
     "text": [
      "/home/hoseung/anaconda3/envs/hspy/lib/python3.6/site-packages/ipykernel/__main__.py:11: RuntimeWarning: divide by zero encountered in log10\n"
     ]
    }
   ],
   "source": [
    "fig, ax = plt.subplots()\n",
    "\n",
    "#ax.hist2d\n",
    "draw.pp.pp_halo(hal_now,region=hal_region, npix=800, ax=ax, radius=\"rvir\", edgecolor=\"red\")\n",
    "histmap = np.histogram2d(s.part.star[\"x\"]*s.info.cboxsize,\n",
    "           s.part.star[\"y\"]*s.info.cboxsize,\n",
    "           range = [hal_region[\"xr\"], hal_region[\"yr\"]],\n",
    "           #range=[[nxc - 0.2*nrad, nxc+0.2*nrad],\n",
    "           #       [nyc - 0.2*nrad, nyc+0.2*nrad]],\n",
    "           bins=800)#, norm=LogNorm())\n",
    "ax.imshow(np.log10(histmap[0]).T, origin=\"lower\")\n",
    "#ax.pp_hal_meta.region=hal_region\n",
    "#draw.pp.pp_halo(hal_now, npix=800, ax=ax, radius=\"rvir\", edgecolor=\"red\")\n",
    "draw.pp.pp_halo(hal_now, npix=800, ax=ax, radius=\"rvir\", edgecolor=\"red\")\n",
    "#draw.pp.pp_halo(gal_now, npix=800, ax=ax, radius=\"rvir\",edgecolor=\"blue\")\n",
    "draw.pp.pp_halo(gcat, npix=800, ax=ax, radius=\"rvir\",edgecolor=\"blue\")\n",
    "#new_region = region_gm2code(axs[0].pp_hal_meta.region, s.info)\n",
    "\n",
    "plt.show()"
   ]
  },
  {
   "cell_type": "code",
   "execution_count": 117,
   "metadata": {
    "collapsed": true
   },
   "outputs": [],
   "source": [
    "plt.close()"
   ]
  },
  {
   "cell_type": "code",
   "execution_count": 58,
   "metadata": {
    "collapsed": true
   },
   "outputs": [],
   "source": [
    "plt.hist(s.part.star[\"x\"])\n",
    "plt.show()"
   ]
  },
  {
   "cell_type": "code",
   "execution_count": 37,
   "metadata": {
    "collapsed": false
   },
   "outputs": [
    {
     "ename": "NameError",
     "evalue": "name 'good_gals' is not defined",
     "output_type": "error",
     "traceback": [
      "\u001b[0;31m---------------------------------------------------------------------------\u001b[0m",
      "\u001b[0;31mNameError\u001b[0m                                 Traceback (most recent call last)",
      "\u001b[0;32m<ipython-input-37-589dff69da5a>\u001b[0m in \u001b[0;36m<module>\u001b[0;34m()\u001b[0m\n\u001b[1;32m      1\u001b[0m draw.pp.pp_halo(gt.data[gt.data[\"nout\"]==187], npix=400, ax=axs[0], radius=\"rvir\",\n\u001b[1;32m      2\u001b[0m                 edgecolor=\"green\")\n\u001b[0;32m----> 3\u001b[0;31m \u001b[0mdraw\u001b[0m\u001b[0;34m.\u001b[0m\u001b[0mpp\u001b[0m\u001b[0;34m.\u001b[0m\u001b[0mpp_halo\u001b[0m\u001b[0;34m(\u001b[0m\u001b[0mgood_gals\u001b[0m\u001b[0;34m,\u001b[0m \u001b[0mnpix\u001b[0m\u001b[0;34m=\u001b[0m\u001b[0;36m400\u001b[0m\u001b[0;34m,\u001b[0m \u001b[0max\u001b[0m\u001b[0;34m=\u001b[0m\u001b[0maxs\u001b[0m\u001b[0;34m[\u001b[0m\u001b[0;36m0\u001b[0m\u001b[0;34m]\u001b[0m\u001b[0;34m,\u001b[0m \u001b[0mradius\u001b[0m\u001b[0;34m=\u001b[0m\u001b[0;34m\"rvir\"\u001b[0m\u001b[0;34m,\u001b[0m \u001b[0medgecolor\u001b[0m\u001b[0;34m=\u001b[0m\u001b[0;34m\"red\"\u001b[0m\u001b[0;34m)\u001b[0m\u001b[0;34m\u001b[0m\u001b[0m\n\u001b[0m\u001b[1;32m      4\u001b[0m \u001b[0mdraw\u001b[0m\u001b[0;34m.\u001b[0m\u001b[0mpp\u001b[0m\u001b[0;34m.\u001b[0m\u001b[0mupdate_tick_labels\u001b[0m\u001b[0;34m(\u001b[0m\u001b[0maxs\u001b[0m\u001b[0;34m[\u001b[0m\u001b[0;36m0\u001b[0m\u001b[0;34m]\u001b[0m\u001b[0;34m)\u001b[0m\u001b[0;34m\u001b[0m\u001b[0m\n\u001b[1;32m      5\u001b[0m \u001b[0;34m\u001b[0m\u001b[0m\n",
      "\u001b[0;31mNameError\u001b[0m: name 'good_gals' is not defined"
     ]
    }
   ],
   "source": [
    "draw.pp.pp_halo(gt.data[gt.data[\"nout\"]==187], npix=400, ax=axs[0], radius=\"rvir\",\n",
    "                edgecolor=\"green\")\n",
    "draw.pp.pp_halo(good_gals, npix=400, ax=axs[0], radius=\"rvir\", edgecolor=\"red\")\n",
    "draw.pp.update_tick_labels(axs[0])\n",
    "\n",
    "\n",
    "# First, fix the region\n",
    "draw.pp.pp_halo(good_gals, npix=400, ax=axs[1], radius=\"rvir\", edgecolor=\"red\", proj=\"x\",\n",
    "                name=True)\n",
    "draw.pp.pp_halo(ht.data[ht.data[\"nout\"]==187], npix=400, ax=axs[1], radius=\"rvir\",\n",
    "                edgecolor=\"blue\", proj=\"x\", verbose=True)\n",
    "draw.pp.pp_halo(gt.data[gt.data[\"nout\"]==187], npix=400, ax=axs[1], radius=\"rvir\",\n",
    "                edgecolor=\"green\", proj=\"x\")\n",
    "# Second, overplot.\n",
    "draw.pp.pp_halo(good_gals, npix=400, ax=axs[1], radius=\"rvir\", edgecolor=\"red\", proj=\"x\",\n",
    "                name=True)\n",
    "\n",
    "\n",
    "draw.pp.update_tick_labels(axs[1])\n",
    "\n",
    "plt.show()"
   ]
  },
  {
   "cell_type": "code",
   "execution_count": 36,
   "metadata": {
    "collapsed": false
   },
   "outputs": [
    {
     "data": {
      "text/plain": [
       "array([ 0.04082196,  0.09922437,  0.10525189,  0.12127102,  0.15133261])"
      ]
     },
     "execution_count": 36,
     "metadata": {},
     "output_type": "execute_result"
    }
   ],
   "source": [
    "dd"
   ]
  },
  {
   "cell_type": "code",
   "execution_count": 18,
   "metadata": {
    "collapsed": false
   },
   "outputs": [],
   "source": [
    "# Halo descendant - galaxy descendant\n",
    "comp_dist, good_hals_now = get_comp_dist(hal_now, gal, nreturn=5)\n",
    "# halo must be more massive than the galaxy\n",
    "matches=[]\n",
    "good_hals_now = good_hals_now[good_hals_now[\"m\"] > gal[\"m\"]]\n",
    "#print(\"M_g\",gal[\"m\"], \"ratio\", gal[\"m\"]/good_hals_now[\"mvir\"])\n",
    "atree = ctu.extract_main_tree(gt.data, idx=gal['id'])\n",
    "\n",
    "matches.append(good_hals_now[\"Orig_halo_id\"])"
   ]
  },
  {
   "cell_type": "code",
   "execution_count": 23,
   "metadata": {
    "collapsed": true
   },
   "outputs": [],
   "source": [
    "dd = dist(hal_now, gal)"
   ]
  },
  {
   "cell_type": "code",
   "execution_count": 25,
   "metadata": {
    "collapsed": false
   },
   "outputs": [],
   "source": [
    "plt.hist(np.log10(dd))\n",
    "plt.show()"
   ]
  },
  {
   "cell_type": "code",
   "execution_count": 19,
   "metadata": {
    "collapsed": false
   },
   "outputs": [
    {
     "data": {
      "text/plain": [
       "array([ 0.22061806,  0.31734417,  0.32389218,  0.33239106,  0.39408722])"
      ]
     },
     "execution_count": 19,
     "metadata": {},
     "output_type": "execute_result"
    }
   ],
   "source": [
    "comp_dist"
   ]
  },
  {
   "cell_type": "code",
   "execution_count": null,
   "metadata": {
    "collapsed": true
   },
   "outputs": [],
   "source": []
  }
 ],
 "metadata": {
  "kernelspec": {
   "display_name": "Python 3",
   "language": "python",
   "name": "python3"
  },
  "language_info": {
   "codemirror_mode": {
    "name": "ipython",
    "version": 3
   },
   "file_extension": ".py",
   "mimetype": "text/x-python",
   "name": "python",
   "nbconvert_exporter": "python",
   "pygments_lexer": "ipython3",
   "version": "3.6.0"
  }
 },
 "nbformat": 4,
 "nbformat_minor": 2
}
