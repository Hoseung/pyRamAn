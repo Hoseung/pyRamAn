{
 "cells": [
  {
   "cell_type": "code",
   "execution_count": 152,
   "metadata": {
    "collapsed": true
   },
   "outputs": [],
   "source": [
    "import load\n",
    "import numpy as np\n",
    "import matplotlib\n",
    "matplotlib.use(\"Qt5Agg\")\n",
    "import matplotlib.pyplot as plt\n",
    "import tree\n",
    "import make_gal"
   ]
  },
  {
   "cell_type": "code",
   "execution_count": 153,
   "metadata": {
    "collapsed": false
   },
   "outputs": [],
   "source": [
    "class Simplemock():\n",
    "    def __init__(self, repo=\"/home/hoseung/Work/pyclusterevol/repo/sed/\",\n",
    "                 filter_system=\"SDSS\",\n",
    "                 sed_model=\"bc03\",\n",
    "                 load=True):\n",
    "        self.filter_system = filter_system\n",
    "        self.repo = repo\n",
    "        self.sed_model = sed_model\n",
    "        if load is True:\n",
    "            self.load_filters()\n",
    "            self.load_SED_wavelength()\n",
    "            self.load_SED_all()\n",
    "\n",
    "    def load_filters(self):        \n",
    "        if self.filter_system == \"SDSS\":\n",
    "            filter_lambda, filter_u, filter_g, filter_r, filter_i, filter_z = \\\n",
    "                np.genfromtxt(self.repo + \"filter_sdss.dat\",\n",
    "                                skip_header=1, unpack=True)\n",
    "        \n",
    "            self.filters = {\"lambda\":filter_lambda,\n",
    "                            \"u\":filter_u,\n",
    "                            \"g\":filter_g,\n",
    "                            \"r\":filter_r,\n",
    "                            \"i\":filter_i,\n",
    "                            \"z\":filter_z}    \n",
    "\n",
    "    def load_SED_wavelength(self):\n",
    "        if self.sed_model == \"bc03\":\n",
    "            self.sed_wavelength = np.genfromtxt(self.repo + \"lambda.dat\")\n",
    "            \n",
    "    def load_SED_all(self):\n",
    "        \"\"\"\n",
    "        Full SEDs are just a few tens of MB.\n",
    "        \"\"\"\n",
    "        if self.sed_model == \"bc03\":\n",
    "            self.metal_points = np.array([0.0004, 0.001, 0.004, 0.01, 0.02, 0.04])\n",
    "            # age points in tables.\n",
    "            self.age_points = np.genfromtxt(self.repo+\"ages_yybc.dat\") # in Gry unit\n",
    "            self.SEDs = np.zeros((6, 221, 1221))\n",
    "            \n",
    "            for i, metal in enumerate(self.metal_points):\n",
    "                self.SEDs[i,:,:] = np.genfromtxt(self.repo +\n",
    "                                            \"bc03_yy_{:.4f}\".format(metal)).reshape(221, 1221)\n",
    "        else:\n",
    "            print(\"Sorry, Only bc03 is implemented.\")\n",
    "            \n",
    "    def get_flux(self, star,\n",
    "                 extinction = False,\n",
    "                 metal_lower_cut = True,\n",
    "                 filter_name='r'):\n",
    "        ### star data ########################################################\n",
    "        \n",
    "        starmetal = star[\"metal\"] # Is the original array modified?\n",
    "        if metal_lower_cut:\n",
    "            # No star with metallicity lower than the lowest table.\n",
    "            starmetal[starmetal < min(self.metal_points)] = min(self.metal_points) * 1.0001 \n",
    "\n",
    "        locate_metal = np.digitize(starmetal, self.metal_points)-1 # GOOD\n",
    "        relevant_metals = self.metal_points[:max(locate_metal)+2]\n",
    "        nmetals = len(relevant_metals)\n",
    "\n",
    "        # Star Age\n",
    "        t_univ = 13.7\n",
    "        starage = t_univ - gg1.star[\"time\"]\n",
    "\n",
    "        locate_age = np.digitize(starage, self.age_points)-1 # GOOD\n",
    "        relevant_ages = self.age_points[:max(locate_age)+2]\n",
    "        nages = len(relevant_ages)\n",
    "        \n",
    "        ### Filter optimization. #################################################\n",
    "\n",
    "        # Pick one\n",
    "        this_filter = self.filters[filter_name]\n",
    "\n",
    "        # band range\n",
    "        i_filter_pos = this_filter > 0\n",
    "\n",
    "        this_filter = this_filter[i_filter_pos]\n",
    "        filter_lambda_this_band = self.filters[\"lambda\"][i_filter_pos]\n",
    "\n",
    "        lambda_min_this_band = min(filter_lambda_this_band)\n",
    "        lambda_max_this_band = max(filter_lambda_this_band)\n",
    "\n",
    "        i_lambda_min = np.argmax(self.sed_wavelength > lambda_min_this_band) -1\n",
    "        #print(i_lambda_min, wavelength[i_lambda_min], lambda_min_this_band)\n",
    "        i_lambda_max = np.argmax(self.sed_wavelength > lambda_max_this_band)\n",
    "        #print(i_lambda_max, wavelength[i_lambda_max], lambda_max_this_band)\n",
    "\n",
    "        # Only a small part of SED is needed.\n",
    "        wavelength = self.sed_wavelength[i_lambda_min:i_lambda_max+1]\n",
    "        n_wavelength = i_lambda_max - i_lambda_min + 1\n",
    "\n",
    "        # Wavelengths at which filter function are defined are different from the SED wavelength points.\n",
    "        # Interpolate filter function on SED points.\n",
    "        filter_in_sed_wavelengths = np.interp(wavelength, filter_lambda_this_band, this_filter)\n",
    "        \n",
    "        ##### Caclulate band flux #################\n",
    "        # Load only necessary data\n",
    "        # Load all once, keep under the class and copy part of it when needed heere. \n",
    "        seds = np.zeros((nmetals, nages, n_wavelength)) # metal age lambda\n",
    "        if self.sed_model == \"bc03\":\n",
    "            for i, metal in enumerate(relevant_metals):\n",
    "                seds[i,:,:] = self.SEDs[i,:nages, i_lambda_min:i_lambda_max+1]\n",
    "\n",
    "        # All are array-wise calculations.\n",
    "        # interpolation weight\n",
    "        dl_m = (starmetal - relevant_metals[locate_metal] ) / \\\n",
    "                                              (relevant_metals[locate_metal+1] - relevant_metals[locate_metal])\n",
    "        dr_m = (relevant_metals[locate_metal+1] - starmetal) / \\\n",
    "                                              (relevant_metals[locate_metal+1] - relevant_metals[locate_metal])\n",
    "        dl_a = (starage - relevant_ages[locate_age] )   / \\\n",
    "                                              (relevant_ages[locate_age+1] - relevant_ages[locate_age])\n",
    "        dr_a = (relevant_ages[locate_age+1] - starage ) / \\\n",
    "                                              (relevant_ages[locate_age+1] - relevant_ages[locate_age])\n",
    "\n",
    "\n",
    "        # 2D linear interpolation\n",
    "        # weight * SED.\n",
    "        Flux =  np.multiply( (dr_m * dr_a), seds[locate_metal, locate_age,:].T).T +\\\n",
    "                np.multiply( (dl_m * dr_a), seds[locate_metal + 1, locate_age,:].T).T +\\\n",
    "                np.multiply( (dr_m * dl_a), seds[locate_metal, locate_age + 1, :].T).T +\\\n",
    "                np.multiply( (dl_m * dl_a), seds[locate_metal + 1, locate_age + 1,:].T).T\n",
    "\n",
    "        # Convolve filter\n",
    "        Flux = np.multiply(filter_in_sed_wavelengths, Flux)\n",
    "\n",
    "        if not extinction:\n",
    "            return np.sum(Flux, axis=1)\n",
    "        else:\n",
    "            print(\"Extinction - Not yet implemented\")\n",
    "            return"
   ]
  },
  {
   "cell_type": "code",
   "execution_count": 2,
   "metadata": {
    "collapsed": false
   },
   "outputs": [
    {
     "name": "stdout",
     "output_type": "stream",
     "text": [
      "/home/hoseung/Work/data/Horizon-AGN\n"
     ]
    }
   ],
   "source": [
    "cd ~/Work/data/Horizon-AGN/"
   ]
  },
  {
   "cell_type": "code",
   "execution_count": 173,
   "metadata": {
    "collapsed": false
   },
   "outputs": [
    {
     "name": "stdout",
     "output_type": "stream",
     "text": [
      "/home/hoseung/Work/data/NH\n"
     ]
    }
   ],
   "source": [
    "cd ~/Work/data/NH/"
   ]
  },
  {
   "cell_type": "code",
   "execution_count": null,
   "metadata": {
    "collapsed": true
   },
   "outputs": [],
   "source": [
    "nout = 312 # 782\n",
    "gcat = tree.halomodule.Halo(nout=nout, is_gal=True)"
   ]
  },
  {
   "cell_type": "code",
   "execution_count": 208,
   "metadata": {
    "collapsed": false
   },
   "outputs": [
    {
     "data": {
      "text/plain": [
       "dtype((numpy.record, [('np', '<i4'), ('id', '<i4'), ('level', '<i4'), ('host', '<i4'), ('sub', '<i4'), ('nsub', '<i4'), ('nextsub', '<i4'), ('m', '<f4'), ('mvir', '<f4'), ('r', '<f4'), ('rvir', '<f4'), ('tvir', '<f4'), ('cvel', '<f4'), ('x', '<f4'), ('y', '<f4'), ('z', '<f4'), ('vx', '<f4'), ('vy', '<f4'), ('vz', '<f4'), ('ax', '<f4'), ('ay', '<f4'), ('az', '<f4'), ('sp', '<f4'), ('idx', '<i4'), ('p_rho', '<f4'), ('p_c', '<f4'), ('energy', '<f8', (3,)), ('radius', '<f8', (4,)), ('sig', '<f4'), ('sigbulge', '<f4'), ('mbulge', '<f4'), ('hosthalo', '<i4'), ('g_nbin', '<i4'), ('g_rr', '<f4', (100,)), ('g_rho', '<f4', (100,))]))"
      ]
     },
     "execution_count": 208,
     "metadata": {},
     "output_type": "execute_result"
    }
   ],
   "source": [
    "gcat.data.dtype"
   ]
  },
  {
   "cell_type": "code",
   "execution_count": 220,
   "metadata": {
    "collapsed": false
   },
   "outputs": [
    {
     "name": "stdout",
     "output_type": "stream",
     "text": [
      "info <load.info.Info object at 0x7fe14d15b1d0>\n",
      "File Not Found: ./halo/HAL_00312/hal_dms_0000006\n",
      "No DM data loaded\n",
      "File Not Found: ./GalaxyMaker/CELL_00312/gal_cells_0000006\n",
      "No CELL data loaded\n",
      "gal.debug False\n",
      "True\n",
      "info <load.info.Info object at 0x7fe14d15b1d0>\n",
      "File Not Found: ./halo/HAL_00312/hal_dms_0000007\n",
      "No DM data loaded\n",
      "File Not Found: ./GalaxyMaker/CELL_00312/gal_cells_0000007\n",
      "No CELL data loaded\n",
      "gal.debug False\n",
      "True\n",
      "info <load.info.Info object at 0x7fe14d15b1d0>\n",
      "File Not Found: ./halo/HAL_00312/hal_dms_0000008\n",
      "No DM data loaded\n",
      "File Not Found: ./GalaxyMaker/CELL_00312/gal_cells_0000008\n",
      "No CELL data loaded\n",
      "gal.debug False\n",
      "True\n",
      "info <load.info.Info object at 0x7fe14d15b1d0>\n",
      "File Not Found: ./halo/HAL_00312/hal_dms_0000009\n",
      "No DM data loaded\n",
      "File Not Found: ./GalaxyMaker/CELL_00312/gal_cells_0000009\n",
      "No CELL data loaded\n",
      "gal.debug False\n",
      "True\n",
      "info <load.info.Info object at 0x7fe14d15b1d0>\n",
      "File Not Found: ./halo/HAL_00312/hal_dms_0000010\n",
      "No DM data loaded\n",
      "File Not Found: ./GalaxyMaker/CELL_00312/gal_cells_0000010\n",
      "No CELL data loaded\n",
      "gal.debug False\n",
      "True\n",
      "info <load.info.Info object at 0x7fe14d15b1d0>\n",
      "File Not Found: ./halo/HAL_00312/hal_dms_0000011\n",
      "No DM data loaded\n",
      "File Not Found: ./GalaxyMaker/CELL_00312/gal_cells_0000011\n",
      "No CELL data loaded\n",
      "gal.debug False\n",
      "True\n",
      "info <load.info.Info object at 0x7fe14d15b1d0>\n",
      "File Not Found: ./halo/HAL_00312/hal_dms_0000012\n",
      "No DM data loaded\n",
      "File Not Found: ./GalaxyMaker/CELL_00312/gal_cells_0000012\n",
      "No CELL data loaded\n",
      "gal.debug False\n",
      "True\n",
      "info <load.info.Info object at 0x7fe14d15b1d0>\n",
      "File Not Found: ./halo/HAL_00312/hal_dms_0000013\n",
      "No DM data loaded\n",
      "File Not Found: ./GalaxyMaker/CELL_00312/gal_cells_0000013\n",
      "No CELL data loaded\n",
      "gal.debug False\n",
      "True\n",
      "info <load.info.Info object at 0x7fe14d15b1d0>\n",
      "File Not Found: ./halo/HAL_00312/hal_dms_0000014\n",
      "No DM data loaded\n",
      "File Not Found: ./GalaxyMaker/CELL_00312/gal_cells_0000014\n",
      "No CELL data loaded\n",
      "gal.debug False\n",
      "radial density : [       0.           0.           0.           0.           0.           0.\n",
      "   672750.03   1228143.536  1545312.332  1965314.038  2765559.995\n",
      "  3634485.213  4220366.106  5480760.269  6461896.357]\n",
      "Not dense enough\n",
      "False\n",
      "info <load.info.Info object at 0x7fe14d15b1d0>\n",
      "File Not Found: ./halo/HAL_00312/hal_dms_0000015\n",
      "No DM data loaded\n",
      "File Not Found: ./GalaxyMaker/CELL_00312/gal_cells_0000015\n",
      "No CELL data loaded\n",
      "gal.debug False\n",
      "True\n",
      "info <load.info.Info object at 0x7fe14d15b1d0>\n",
      "File Not Found: ./halo/HAL_00312/hal_dms_0000016\n",
      "No DM data loaded\n",
      "File Not Found: ./GalaxyMaker/CELL_00312/gal_cells_0000016\n",
      "No CELL data loaded\n",
      "gal.debug False\n",
      "True\n",
      "info <load.info.Info object at 0x7fe14d15b1d0>\n",
      "File Not Found: ./halo/HAL_00312/hal_dms_0000017\n",
      "No DM data loaded\n",
      "File Not Found: ./GalaxyMaker/CELL_00312/gal_cells_0000017\n",
      "No CELL data loaded\n",
      "gal.debug False\n",
      "True\n",
      "info <load.info.Info object at 0x7fe14d15b1d0>\n",
      "File Not Found: ./halo/HAL_00312/hal_dms_0000018\n",
      "No DM data loaded\n",
      "File Not Found: ./GalaxyMaker/CELL_00312/gal_cells_0000018\n",
      "No CELL data loaded\n",
      "gal.debug False\n",
      "True\n",
      "info <load.info.Info object at 0x7fe14d15b1d0>\n",
      "File Not Found: ./halo/HAL_00312/hal_dms_0000019\n",
      "No DM data loaded\n",
      "File Not Found: ./GalaxyMaker/CELL_00312/gal_cells_0000019\n",
      "No CELL data loaded\n",
      "gal.debug False\n",
      "radial density : [       0.           0.           0.           0.           0.           0.\n",
      "        0.           0.           0.           0.           0.           0.\n",
      "        0.           0.           0.           0.           0.           0.\n",
      "        0.           0.           0.           0.           0.      878215.73\n",
      "  1069332.988  1211916.064  1539544.669  1917752.424  2257581.009\n",
      "  2540275.51   3010278.717  3467331.164  3841496.843  4021953.298\n",
      "  4723322.649  5060550.822  5121670.812  5304241.61   5626830.999\n",
      "  6031024.41   6255734.064  6341455.609  6726318.842  6430503.128\n",
      "  5957341.322  5646157.396  5078753.349  5108477.039  5184555.853\n",
      "  5120865.167  4915711.017  5489331.499  6355921.848  6725992.744\n",
      "  9855630.106]\n",
      "Not dense enough\n",
      "False\n",
      "info <load.info.Info object at 0x7fe14d15b1d0>\n",
      "File Not Found: ./halo/HAL_00312/hal_dms_0000020\n",
      "No DM data loaded\n",
      "File Not Found: ./GalaxyMaker/CELL_00312/gal_cells_0000020\n",
      "No CELL data loaded\n",
      "gal.debug False\n",
      "True\n",
      "info <load.info.Info object at 0x7fe14d15b1d0>\n",
      "File Not Found: ./halo/HAL_00312/hal_dms_0000021\n",
      "No DM data loaded\n",
      "File Not Found: ./GalaxyMaker/CELL_00312/gal_cells_0000021\n",
      "No CELL data loaded\n",
      "gal.debug False\n",
      "True\n",
      "info <load.info.Info object at 0x7fe14d15b1d0>\n",
      "File Not Found: ./halo/HAL_00312/hal_dms_0000022\n",
      "No DM data loaded\n",
      "File Not Found: ./GalaxyMaker/CELL_00312/gal_cells_0000022\n",
      "No CELL data loaded\n",
      "gal.debug False\n",
      "True\n",
      "info <load.info.Info object at 0x7fe14d15b1d0>\n",
      "File Not Found: ./halo/HAL_00312/hal_dms_0000023\n",
      "No DM data loaded\n",
      "File Not Found: ./GalaxyMaker/CELL_00312/gal_cells_0000023\n",
      "No CELL data loaded\n",
      "gal.debug False\n",
      "True\n",
      "info <load.info.Info object at 0x7fe14d15b1d0>\n",
      "File Not Found: ./halo/HAL_00312/hal_dms_0000024\n",
      "No DM data loaded\n",
      "File Not Found: ./GalaxyMaker/CELL_00312/gal_cells_0000024\n",
      "No CELL data loaded\n",
      "gal.debug False\n",
      "True\n",
      "info <load.info.Info object at 0x7fe14d15b1d0>\n",
      "File Not Found: ./halo/HAL_00312/hal_dms_0000025\n",
      "No DM data loaded\n",
      "File Not Found: ./GalaxyMaker/CELL_00312/gal_cells_0000025\n",
      "No CELL data loaded\n",
      "gal.debug False\n",
      "True\n",
      "info <load.info.Info object at 0x7fe14d15b1d0>\n",
      "File Not Found: ./halo/HAL_00312/hal_dms_0000026\n",
      "No DM data loaded\n",
      "File Not Found: ./GalaxyMaker/CELL_00312/gal_cells_0000026\n",
      "No CELL data loaded\n",
      "gal.debug False\n",
      "True\n",
      "info <load.info.Info object at 0x7fe14d15b1d0>\n",
      "File Not Found: ./halo/HAL_00312/hal_dms_0000027\n",
      "No DM data loaded\n",
      "File Not Found: ./GalaxyMaker/CELL_00312/gal_cells_0000027\n",
      "No CELL data loaded\n",
      "gal.debug False\n",
      "True\n",
      "info <load.info.Info object at 0x7fe14d15b1d0>\n",
      "File Not Found: ./halo/HAL_00312/hal_dms_0000028\n",
      "No DM data loaded\n",
      "File Not Found: ./GalaxyMaker/CELL_00312/gal_cells_0000028\n",
      "No CELL data loaded\n",
      "gal.debug False\n",
      "True\n",
      "info <load.info.Info object at 0x7fe14d15b1d0>\n",
      "File Not Found: ./halo/HAL_00312/hal_dms_0000029\n",
      "No DM data loaded\n",
      "File Not Found: ./GalaxyMaker/CELL_00312/gal_cells_0000029\n",
      "No CELL data loaded\n",
      "gal.debug False\n",
      "True\n",
      "info <load.info.Info object at 0x7fe14d15b1d0>\n",
      "File Not Found: ./halo/HAL_00312/hal_dms_0000030\n",
      "No DM data loaded\n",
      "File Not Found: ./GalaxyMaker/CELL_00312/gal_cells_0000030\n",
      "No CELL data loaded\n",
      "gal.debug False\n",
      "True\n",
      "info <load.info.Info object at 0x7fe14d15b1d0>\n",
      "File Not Found: ./halo/HAL_00312/hal_dms_0000031\n",
      "No DM data loaded\n",
      "File Not Found: ./GalaxyMaker/CELL_00312/gal_cells_0000031\n",
      "No CELL data loaded\n",
      "gal.debug False\n",
      "True\n",
      "info <load.info.Info object at 0x7fe14d15b1d0>\n",
      "File Not Found: ./halo/HAL_00312/hal_dms_0000032\n",
      "No DM data loaded\n",
      "File Not Found: ./GalaxyMaker/CELL_00312/gal_cells_0000032\n",
      "No CELL data loaded\n",
      "gal.debug False\n",
      "True\n",
      "info <load.info.Info object at 0x7fe14d15b1d0>\n",
      "File Not Found: ./halo/HAL_00312/hal_dms_0000033\n",
      "No DM data loaded\n",
      "File Not Found: ./GalaxyMaker/CELL_00312/gal_cells_0000033\n",
      "No CELL data loaded\n",
      "gal.debug False\n",
      "True\n",
      "info <load.info.Info object at 0x7fe14d15b1d0>\n",
      "File Not Found: ./halo/HAL_00312/hal_dms_0000034\n",
      "No DM data loaded\n",
      "File Not Found: ./GalaxyMaker/CELL_00312/gal_cells_0000034\n",
      "No CELL data loaded\n",
      "gal.debug False\n",
      "True\n",
      "info <load.info.Info object at 0x7fe14d15b1d0>\n",
      "File Not Found: ./halo/HAL_00312/hal_dms_0000035\n",
      "No DM data loaded\n",
      "File Not Found: ./GalaxyMaker/CELL_00312/gal_cells_0000035\n",
      "No CELL data loaded\n",
      "gal.debug False\n",
      "True\n",
      "info <load.info.Info object at 0x7fe14d15b1d0>\n",
      "File Not Found: ./halo/HAL_00312/hal_dms_0000036\n",
      "No DM data loaded\n",
      "File Not Found: ./GalaxyMaker/CELL_00312/gal_cells_0000036\n",
      "No CELL data loaded\n",
      "gal.debug False\n",
      "True\n",
      "info <load.info.Info object at 0x7fe14d15b1d0>\n",
      "File Not Found: ./halo/HAL_00312/hal_dms_0000037\n",
      "No DM data loaded\n",
      "File Not Found: ./GalaxyMaker/CELL_00312/gal_cells_0000037\n",
      "No CELL data loaded\n",
      "gal.debug False\n",
      "True\n",
      "info <load.info.Info object at 0x7fe14d15b1d0>\n",
      "File Not Found: ./halo/HAL_00312/hal_dms_0000038\n",
      "No DM data loaded\n",
      "File Not Found: ./GalaxyMaker/CELL_00312/gal_cells_0000038\n",
      "No CELL data loaded\n",
      "gal.debug False\n",
      "True\n",
      "info <load.info.Info object at 0x7fe14d15b1d0>\n",
      "File Not Found: ./halo/HAL_00312/hal_dms_0000039\n",
      "No DM data loaded\n",
      "File Not Found: ./GalaxyMaker/CELL_00312/gal_cells_0000039\n",
      "No CELL data loaded\n",
      "gal.debug False\n",
      "True\n",
      "info <load.info.Info object at 0x7fe14d15b1d0>\n",
      "File Not Found: ./halo/HAL_00312/hal_dms_0000040\n",
      "No DM data loaded\n",
      "File Not Found: ./GalaxyMaker/CELL_00312/gal_cells_0000040\n",
      "No CELL data loaded\n",
      "gal.debug False\n",
      "True\n",
      "info <load.info.Info object at 0x7fe14d15b1d0>\n",
      "File Not Found: ./halo/HAL_00312/hal_dms_0000041\n",
      "No DM data loaded\n",
      "File Not Found: ./GalaxyMaker/CELL_00312/gal_cells_0000041\n",
      "No CELL data loaded\n",
      "gal.debug False\n",
      "True\n",
      "info <load.info.Info object at 0x7fe14d15b1d0>\n",
      "File Not Found: ./halo/HAL_00312/hal_dms_0000042\n",
      "No DM data loaded\n",
      "File Not Found: ./GalaxyMaker/CELL_00312/gal_cells_0000042\n",
      "No CELL data loaded\n",
      "gal.debug False\n",
      "True\n",
      "info <load.info.Info object at 0x7fe14d15b1d0>\n",
      "File Not Found: ./halo/HAL_00312/hal_dms_0000043\n",
      "No DM data loaded\n",
      "File Not Found: ./GalaxyMaker/CELL_00312/gal_cells_0000043\n",
      "No CELL data loaded\n",
      "gal.debug False\n",
      "True\n",
      "info <load.info.Info object at 0x7fe14d15b1d0>\n",
      "File Not Found: ./halo/HAL_00312/hal_dms_0000044\n",
      "No DM data loaded\n",
      "File Not Found: ./GalaxyMaker/CELL_00312/gal_cells_0000044\n",
      "No CELL data loaded\n",
      "gal.debug False\n",
      "True\n",
      "info <load.info.Info object at 0x7fe14d15b1d0>\n",
      "File Not Found: ./halo/HAL_00312/hal_dms_0000045\n",
      "No DM data loaded\n",
      "File Not Found: ./GalaxyMaker/CELL_00312/gal_cells_0000045\n",
      "No CELL data loaded\n",
      "gal.debug False\n",
      "True\n",
      "info <load.info.Info object at 0x7fe14d15b1d0>\n",
      "File Not Found: ./halo/HAL_00312/hal_dms_0000046\n",
      "No DM data loaded\n",
      "File Not Found: ./GalaxyMaker/CELL_00312/gal_cells_0000046\n",
      "No CELL data loaded\n",
      "gal.debug False\n",
      "True\n",
      "info <load.info.Info object at 0x7fe14d15b1d0>\n",
      "File Not Found: ./halo/HAL_00312/hal_dms_0000047\n",
      "No DM data loaded\n",
      "File Not Found: ./GalaxyMaker/CELL_00312/gal_cells_0000047\n",
      "No CELL data loaded\n",
      "gal.debug False\n",
      "radial density : [       0.           0.           0.           0.           0.           0.\n",
      "        0.           0.           0.      950585.5    1227329.886\n",
      "  1446517.786  2467077.324  2559056.93   7602231.008]\n",
      "Not dense enough\n",
      "False\n",
      "info <load.info.Info object at 0x7fe14d15b1d0>\n",
      "File Not Found: ./halo/HAL_00312/hal_dms_0000048\n",
      "No DM data loaded\n",
      "File Not Found: ./GalaxyMaker/CELL_00312/gal_cells_0000048\n",
      "No CELL data loaded\n",
      "gal.debug False\n",
      "True\n",
      "info <load.info.Info object at 0x7fe14d15b1d0>\n",
      "File Not Found: ./halo/HAL_00312/hal_dms_0000049\n",
      "No DM data loaded\n",
      "File Not Found: ./GalaxyMaker/CELL_00312/gal_cells_0000049\n",
      "No CELL data loaded\n",
      "gal.debug False\n",
      "True\n",
      "info <load.info.Info object at 0x7fe14d15b1d0>\n",
      "File Not Found: ./halo/HAL_00312/hal_dms_0000050\n",
      "No DM data loaded\n",
      "File Not Found: ./GalaxyMaker/CELL_00312/gal_cells_0000050\n",
      "No CELL data loaded\n",
      "gal.debug False\n",
      "True\n"
     ]
    }
   ],
   "source": [
    "from matplotlib.colors import LogNorm\n",
    "\n",
    "fig, axs = plt.subplots(1,2)\n",
    "for gdata in gcat.data[5:50]:\n",
    "    gg = load.rd_GM.Gal(nout, catalog=gdata.copy(), info=s.info)\n",
    "    gg.debug=False\n",
    "    is_good = make_gal.mk_gal(gg, mstar_min=1e8)\n",
    "    print(is_good)\n",
    "    gg.reorient(pops=[\"star\"])\n",
    "    axs[0].hist2d(gg.star[\"x\"], gg.star[\"y\"], bins=200, norm=LogNorm())\n",
    "    axs[1].hist2d(gg.star[\"x\"], gg.star[\"z\"], bins=200, norm=LogNorm())\n",
    "    plt.savefig(str(gdata[\"id\"]).zfill(5) + \".png\")\n",
    "    "
   ]
  },
  {
   "cell_type": "code",
   "execution_count": 221,
   "metadata": {
    "collapsed": false
   },
   "outputs": [
    {
     "name": "stdout",
     "output_type": "stream",
     "text": [
      "[sim._hilbert_cpulist] No AMR instance,\n",
      "[sim._hilbert_cpulist] Loading one...\n",
      "An AMR instance is created\n",
      " Sim\n",
      "An AMR instance is created\n",
      " Sim\n",
      "Simulation set up.\n",
      "info <load.info.Info object at 0x7fe14cd584a8>\n",
      "File Not Found: ./halo/HAL_00312/hal_dms_0000022\n",
      "No DM data loaded\n",
      "File Not Found: ./GalaxyMaker/CELL_00312/gal_cells_0000022\n",
      "No CELL data loaded\n",
      "gal.debug False\n"
     ]
    },
    {
     "data": {
      "text/plain": [
       "array([ 0.64 , -0.168,  0.749])"
      ]
     },
     "execution_count": 221,
     "metadata": {},
     "output_type": "execute_result"
    }
   ],
   "source": [
    "s = load.sim.Sim(nout=nout)\n",
    "\n",
    "gg1 = load.rd_GM.Gal(nout, catalog=gcat.data[21].copy(), info=s.info)\n",
    "gg1.debug=False\n",
    "make_gal.mk_gal(gg1)\n",
    "gg1.cal_norm_vec()\n",
    "#gg1.meta.nvec"
   ]
  },
  {
   "cell_type": "code",
   "execution_count": 13,
   "metadata": {
    "collapsed": false
   },
   "outputs": [],
   "source": [
    "MockSED = Simplemock()"
   ]
  },
  {
   "cell_type": "code",
   "execution_count": 222,
   "metadata": {
    "collapsed": true
   },
   "outputs": [],
   "source": [
    "gg1.star[\"metal\"][gg1.star[\"metal\"] >= 0.04] = 0.04 - 1e-9\n",
    "## Improve Boundary cases. !!\n",
    "\n"
   ]
  },
  {
   "cell_type": "code",
   "execution_count": 179,
   "metadata": {
    "collapsed": false
   },
   "outputs": [],
   "source": [
    "plt.hist(gg1.star[\"metal\"])\n",
    "plt.show()"
   ]
  },
  {
   "cell_type": "code",
   "execution_count": 223,
   "metadata": {
    "collapsed": false
   },
   "outputs": [
    {
     "data": {
      "text/plain": [
       "0"
      ]
     },
     "execution_count": 223,
     "metadata": {},
     "output_type": "execute_result"
    }
   ],
   "source": [
    "sum(gg1.star[\"metal\"] > 0.04)"
   ]
  },
  {
   "cell_type": "code",
   "execution_count": 224,
   "metadata": {
    "collapsed": false
   },
   "outputs": [
    {
     "data": {
      "text/plain": [
       "(2696173,)"
      ]
     },
     "execution_count": 224,
     "metadata": {},
     "output_type": "execute_result"
    }
   ],
   "source": [
    "gg1.star.shape"
   ]
  },
  {
   "cell_type": "code",
   "execution_count": 225,
   "metadata": {
    "collapsed": false
   },
   "outputs": [
    {
     "ename": "MemoryError",
     "evalue": "",
     "output_type": "error",
     "traceback": [
      "\u001b[0;31m---------------------------------------------------------------------------\u001b[0m",
      "\u001b[0;31mMemoryError\u001b[0m                               Traceback (most recent call last)",
      "\u001b[0;32m<ipython-input-225-f788bdd1626a>\u001b[0m in \u001b[0;36m<module>\u001b[0;34m()\u001b[0m\n\u001b[1;32m      1\u001b[0m \u001b[0mFlux_u\u001b[0m \u001b[0;34m=\u001b[0m \u001b[0mMockSED\u001b[0m\u001b[0;34m.\u001b[0m\u001b[0mget_flux\u001b[0m\u001b[0;34m(\u001b[0m\u001b[0mstar\u001b[0m\u001b[0;34m=\u001b[0m\u001b[0mgg1\u001b[0m\u001b[0;34m.\u001b[0m\u001b[0mstar\u001b[0m\u001b[0;34m,\u001b[0m \u001b[0mfilter_name\u001b[0m\u001b[0;34m=\u001b[0m\u001b[0;34m'u'\u001b[0m\u001b[0;34m)\u001b[0m\u001b[0;34m\u001b[0m\u001b[0m\n\u001b[0;32m----> 2\u001b[0;31m \u001b[0mFlux_g\u001b[0m \u001b[0;34m=\u001b[0m \u001b[0mMockSED\u001b[0m\u001b[0;34m.\u001b[0m\u001b[0mget_flux\u001b[0m\u001b[0;34m(\u001b[0m\u001b[0mstar\u001b[0m\u001b[0;34m=\u001b[0m\u001b[0mgg1\u001b[0m\u001b[0;34m.\u001b[0m\u001b[0mstar\u001b[0m\u001b[0;34m,\u001b[0m \u001b[0mfilter_name\u001b[0m\u001b[0;34m=\u001b[0m\u001b[0;34m'g'\u001b[0m\u001b[0;34m)\u001b[0m\u001b[0;34m\u001b[0m\u001b[0m\n\u001b[0m\u001b[1;32m      3\u001b[0m \u001b[0mFlux_r\u001b[0m \u001b[0;34m=\u001b[0m \u001b[0mMockSED\u001b[0m\u001b[0;34m.\u001b[0m\u001b[0mget_flux\u001b[0m\u001b[0;34m(\u001b[0m\u001b[0mstar\u001b[0m\u001b[0;34m=\u001b[0m\u001b[0mgg1\u001b[0m\u001b[0;34m.\u001b[0m\u001b[0mstar\u001b[0m\u001b[0;34m,\u001b[0m \u001b[0mfilter_name\u001b[0m\u001b[0;34m=\u001b[0m\u001b[0;34m'r'\u001b[0m\u001b[0;34m)\u001b[0m\u001b[0;34m\u001b[0m\u001b[0m\n\u001b[1;32m      4\u001b[0m \u001b[0mFlux_i\u001b[0m \u001b[0;34m=\u001b[0m \u001b[0mMockSED\u001b[0m\u001b[0;34m.\u001b[0m\u001b[0mget_flux\u001b[0m\u001b[0;34m(\u001b[0m\u001b[0mstar\u001b[0m\u001b[0;34m=\u001b[0m\u001b[0mgg1\u001b[0m\u001b[0;34m.\u001b[0m\u001b[0mstar\u001b[0m\u001b[0;34m,\u001b[0m \u001b[0mfilter_name\u001b[0m\u001b[0;34m=\u001b[0m\u001b[0;34m'i'\u001b[0m\u001b[0;34m)\u001b[0m\u001b[0;34m\u001b[0m\u001b[0m\n\u001b[1;32m      5\u001b[0m \u001b[0mFlux_z\u001b[0m \u001b[0;34m=\u001b[0m \u001b[0mMockSED\u001b[0m\u001b[0;34m.\u001b[0m\u001b[0mget_flux\u001b[0m\u001b[0;34m(\u001b[0m\u001b[0mstar\u001b[0m\u001b[0;34m=\u001b[0m\u001b[0mgg1\u001b[0m\u001b[0;34m.\u001b[0m\u001b[0mstar\u001b[0m\u001b[0;34m,\u001b[0m \u001b[0mfilter_name\u001b[0m\u001b[0;34m=\u001b[0m\u001b[0;34m'z'\u001b[0m\u001b[0;34m)\u001b[0m\u001b[0;34m\u001b[0m\u001b[0m\n",
      "\u001b[0;32m<ipython-input-12-c1c1acbb5a03>\u001b[0m in \u001b[0;36mget_flux\u001b[0;34m(self, star, extinction, metal_lower_cut, filter_name)\u001b[0m\n\u001b[1;32m    112\u001b[0m         \u001b[0;31m# 2D linear interpolation\u001b[0m\u001b[0;34m\u001b[0m\u001b[0;34m\u001b[0m\u001b[0m\n\u001b[1;32m    113\u001b[0m         \u001b[0;31m# weight * SED.\u001b[0m\u001b[0;34m\u001b[0m\u001b[0;34m\u001b[0m\u001b[0m\n\u001b[0;32m--> 114\u001b[0;31m         \u001b[0mFlux\u001b[0m \u001b[0;34m=\u001b[0m  \u001b[0mnp\u001b[0m\u001b[0;34m.\u001b[0m\u001b[0mmultiply\u001b[0m\u001b[0;34m(\u001b[0m \u001b[0;34m(\u001b[0m\u001b[0mdr_m\u001b[0m \u001b[0;34m*\u001b[0m \u001b[0mdr_a\u001b[0m\u001b[0;34m)\u001b[0m\u001b[0;34m,\u001b[0m \u001b[0mseds\u001b[0m\u001b[0;34m[\u001b[0m\u001b[0mlocate_metal\u001b[0m\u001b[0;34m,\u001b[0m \u001b[0mlocate_age\u001b[0m\u001b[0;34m,\u001b[0m\u001b[0;34m:\u001b[0m\u001b[0;34m]\u001b[0m\u001b[0;34m.\u001b[0m\u001b[0mT\u001b[0m\u001b[0;34m)\u001b[0m\u001b[0;34m.\u001b[0m\u001b[0mT\u001b[0m \u001b[0;34m+\u001b[0m                \u001b[0mnp\u001b[0m\u001b[0;34m.\u001b[0m\u001b[0mmultiply\u001b[0m\u001b[0;34m(\u001b[0m \u001b[0;34m(\u001b[0m\u001b[0mdl_m\u001b[0m \u001b[0;34m*\u001b[0m \u001b[0mdr_a\u001b[0m\u001b[0;34m)\u001b[0m\u001b[0;34m,\u001b[0m \u001b[0mseds\u001b[0m\u001b[0;34m[\u001b[0m\u001b[0mlocate_metal\u001b[0m \u001b[0;34m+\u001b[0m \u001b[0;36m1\u001b[0m\u001b[0;34m,\u001b[0m \u001b[0mlocate_age\u001b[0m\u001b[0;34m,\u001b[0m\u001b[0;34m:\u001b[0m\u001b[0;34m]\u001b[0m\u001b[0;34m.\u001b[0m\u001b[0mT\u001b[0m\u001b[0;34m)\u001b[0m\u001b[0;34m.\u001b[0m\u001b[0mT\u001b[0m \u001b[0;34m+\u001b[0m                \u001b[0mnp\u001b[0m\u001b[0;34m.\u001b[0m\u001b[0mmultiply\u001b[0m\u001b[0;34m(\u001b[0m \u001b[0;34m(\u001b[0m\u001b[0mdr_m\u001b[0m \u001b[0;34m*\u001b[0m \u001b[0mdl_a\u001b[0m\u001b[0;34m)\u001b[0m\u001b[0;34m,\u001b[0m \u001b[0mseds\u001b[0m\u001b[0;34m[\u001b[0m\u001b[0mlocate_metal\u001b[0m\u001b[0;34m,\u001b[0m \u001b[0mlocate_age\u001b[0m \u001b[0;34m+\u001b[0m \u001b[0;36m1\u001b[0m\u001b[0;34m,\u001b[0m \u001b[0;34m:\u001b[0m\u001b[0;34m]\u001b[0m\u001b[0;34m.\u001b[0m\u001b[0mT\u001b[0m\u001b[0;34m)\u001b[0m\u001b[0;34m.\u001b[0m\u001b[0mT\u001b[0m \u001b[0;34m+\u001b[0m                \u001b[0mnp\u001b[0m\u001b[0;34m.\u001b[0m\u001b[0mmultiply\u001b[0m\u001b[0;34m(\u001b[0m \u001b[0;34m(\u001b[0m\u001b[0mdl_m\u001b[0m \u001b[0;34m*\u001b[0m \u001b[0mdl_a\u001b[0m\u001b[0;34m)\u001b[0m\u001b[0;34m,\u001b[0m \u001b[0mseds\u001b[0m\u001b[0;34m[\u001b[0m\u001b[0mlocate_metal\u001b[0m \u001b[0;34m+\u001b[0m \u001b[0;36m1\u001b[0m\u001b[0;34m,\u001b[0m \u001b[0mlocate_age\u001b[0m \u001b[0;34m+\u001b[0m \u001b[0;36m1\u001b[0m\u001b[0;34m,\u001b[0m\u001b[0;34m:\u001b[0m\u001b[0;34m]\u001b[0m\u001b[0;34m.\u001b[0m\u001b[0mT\u001b[0m\u001b[0;34m)\u001b[0m\u001b[0;34m.\u001b[0m\u001b[0mT\u001b[0m\u001b[0;34m\u001b[0m\u001b[0m\n\u001b[0m\u001b[1;32m    115\u001b[0m \u001b[0;34m\u001b[0m\u001b[0m\n\u001b[1;32m    116\u001b[0m         \u001b[0;31m# Convolve filter\u001b[0m\u001b[0;34m\u001b[0m\u001b[0;34m\u001b[0m\u001b[0m\n",
      "\u001b[0;31mMemoryError\u001b[0m: "
     ]
    }
   ],
   "source": [
    "Flux_u = MockSED.get_flux(star=gg1.star, filter_name='u')\n",
    "Flux_g = MockSED.get_flux(star=gg1.star, filter_name='g')\n",
    "Flux_r = MockSED.get_flux(star=gg1.star, filter_name='r')\n",
    "Flux_i = MockSED.get_flux(star=gg1.star, filter_name='i')\n",
    "Flux_z = MockSED.get_flux(star=gg1.star, filter_name='z')"
   ]
  },
  {
   "cell_type": "code",
   "execution_count": null,
   "metadata": {
    "collapsed": false
   },
   "outputs": [],
   "source": [
    "# Can rotate galaxy. \n",
    "gg1.reorient(pops=[\"star\"])"
   ]
  },
  {
   "cell_type": "code",
   "execution_count": 188,
   "metadata": {
    "collapsed": false
   },
   "outputs": [],
   "source": [
    "plt.hist(Flux_g)\n",
    "plt.show()"
   ]
  },
  {
   "cell_type": "code",
   "execution_count": 199,
   "metadata": {
    "collapsed": false
   },
   "outputs": [
    {
     "data": {
      "text/plain": [
       "1.5197070352413073"
      ]
     },
     "execution_count": 199,
     "metadata": {},
     "output_type": "execute_result"
    }
   ],
   "source": [
    "max(Flux_i)"
   ]
  },
  {
   "cell_type": "code",
   "execution_count": 200,
   "metadata": {
    "collapsed": false
   },
   "outputs": [
    {
     "data": {
      "text/plain": [
       "0.13735842219218877"
      ]
     },
     "execution_count": 200,
     "metadata": {},
     "output_type": "execute_result"
    }
   ],
   "source": [
    "min(Flux_i)"
   ]
  },
  {
   "cell_type": "code",
   "execution_count": 207,
   "metadata": {
    "collapsed": false
   },
   "outputs": [],
   "source": [
    "fig, axs = plt.subplots(2,3)\n",
    "\n",
    "x1 = gg1.star[\"x\"]\n",
    "x2 = gg1.star[\"y\"]\n",
    "\n",
    "npix = 200\n",
    "from matplotlib.colors import LogNorm\n",
    "\n",
    "for ax, flux in zip(axs.ravel()[:5], [Flux_u, Flux_g, Flux_r, Flux_i, Flux_z]):\n",
    "    ax.hist2d(x1,x2,\n",
    "           weights=np.log10(flux+1),\n",
    "           bins=npix,\n",
    "           cmap=plt.cm.binary_r,\n",
    "           norm=LogNorm())\n",
    "    ax.set_aspect(\"equal\")\n",
    "\n",
    "\n",
    "# Try scaling Flux_x arrays to make a better composite image   \n",
    "comp_img = composite_rgb(x1,x2,\n",
    "                         Flux_i,\n",
    "                         Flux_r,\n",
    "                         Flux_g,\n",
    "                         npix=npix,\n",
    "                         multiply_r = 1.5,\n",
    "                         multiply_g = 1.2,\n",
    "                         multiply_b = 1.0,\n",
    "                         log_scale=True)\n",
    "axs[-1][-1].imshow(comp_img)\n",
    "plt.show()"
   ]
  },
  {
   "cell_type": "code",
   "execution_count": 205,
   "metadata": {
    "collapsed": false
   },
   "outputs": [],
   "source": [
    "def composite_rgb(x,y, weight_r, weight_g, weight_b,\n",
    "                  npix=100,\n",
    "                  multiply_r=1.3,\n",
    "                  multiply_g=1.1,\n",
    "                  multiply_b=1.0,\n",
    "                  log_scale = True):\n",
    "    from PIL import Image\n",
    "\n",
    "    rgbArray = np.zeros((npix,npix,3))\n",
    "\n",
    "    rgbArray[..., 0] = np.histogram2d(x, y,\n",
    "               weights=weight_r, bins=npix)[0] * multiply_r\n",
    "    rgbArray[..., 1] = np.histogram2d(x,y,\n",
    "               weights=weight_g, bins=npix)[0] * multiply_g\n",
    "    rgbArray[..., 2] = np.histogram2d(x,y,\n",
    "               weights=weight_b, bins=npix)[0] * multiply_b\n",
    "    \n",
    "    if log_scale:\n",
    "        rgbArray = np.log10(rgbArray+1)\n",
    "    rgbArray = rgbArray/rgbArray.max() * 255\n",
    "    #return rgbArray\n",
    "    \n",
    "    img = Image.fromarray(rgbArray.astype('uint8'))\n",
    "    \n",
    "    return img.rotate(90)\n",
    "    #img.save('myimg.jpeg')"
   ]
  },
  {
   "cell_type": "code",
   "execution_count": null,
   "metadata": {
    "collapsed": true
   },
   "outputs": [],
   "source": []
  }
 ],
 "metadata": {
  "kernelspec": {
   "display_name": "Python 3",
   "language": "python",
   "name": "python3"
  },
  "language_info": {
   "codemirror_mode": {
    "name": "ipython",
    "version": 3
   },
   "file_extension": ".py",
   "mimetype": "text/x-python",
   "name": "python",
   "nbconvert_exporter": "python",
   "pygments_lexer": "ipython3",
   "version": "3.6.0"
  }
 },
 "nbformat": 4,
 "nbformat_minor": 2
}
