{
 "cells": [
  {
   "cell_type": "code",
   "execution_count": 17,
   "metadata": {
    "collapsed": true
   },
   "outputs": [],
   "source": [
    "import load\n",
    "import numpy as np\n",
    "import matplotlib\n",
    "matplotlib.use(\"Qt5Agg\")\n",
    "import matplotlib.pyplot as plt\n",
    "import tree\n",
    "#import makegal"
   ]
  },
  {
   "cell_type": "code",
   "execution_count": 18,
   "metadata": {
    "collapsed": false
   },
   "outputs": [
    {
     "data": {
      "text/plain": [
       "'/home/hoseung/Work/pyclusterevol/repo/'"
      ]
     },
     "execution_count": 18,
     "metadata": {},
     "output_type": "execute_result"
    }
   ],
   "source": [
    "from general import defaults\n",
    "#from galaxymodule import quick_mock\n",
    "dfl = defaults.Default()\n",
    "dfl.dir_repo"
   ]
  },
  {
   "cell_type": "code",
   "execution_count": 3,
   "metadata": {
    "collapsed": true
   },
   "outputs": [],
   "source": [
    "from galaxymodule import make_gal"
   ]
  },
  {
   "cell_type": "code",
   "execution_count": 19,
   "metadata": {
    "collapsed": false
   },
   "outputs": [
    {
     "name": "stdout",
     "output_type": "stream",
     "text": [
      "/home/hoseung/Work/data/Horizon-AGN\n"
     ]
    }
   ],
   "source": [
    "cd ~/Work/data/Horizon-AGN/"
   ]
  },
  {
   "cell_type": "code",
   "execution_count": 21,
   "metadata": {
    "collapsed": false
   },
   "outputs": [
    {
     "name": "stdout",
     "output_type": "stream",
     "text": [
      "/home/hoseung/Work/data/NH\n"
     ]
    }
   ],
   "source": [
    "cd ~/Work/data/NH/"
   ]
  },
  {
   "cell_type": "code",
   "execution_count": 22,
   "metadata": {
    "collapsed": false
   },
   "outputs": [
    {
     "name": "stdout",
     "output_type": "stream",
     "text": [
      "[sim._hilbert_cpulist] No AMR instance,\n",
      "[sim._hilbert_cpulist] Loading one...\n",
      "An AMR instance is created\n",
      " Sim\n",
      "An AMR instance is created\n",
      " Sim\n",
      "Simulation set up.\n",
      "[Halo.load_info] loading info\n",
      "[Halo.load_info] nout = 312, base =./\n"
     ]
    }
   ],
   "source": [
    "nout = 312#782 # 312\n",
    "s = load.sim.Sim(nout=nout)\n",
    "gcat = tree.halomodule.Halo(nout=nout, is_gal=True)"
   ]
  },
  {
   "cell_type": "code",
   "execution_count": 28,
   "metadata": {
    "collapsed": false
   },
   "outputs": [
    {
     "name": "stdout",
     "output_type": "stream",
     "text": [
      "info <load.info.Info object at 0x7fa7fcc859e8>\n",
      "File Not Found: ./halo/HAL_00312/hal_dms_0000041\n",
      "No DM data loaded\n",
      "File Not Found: ./GalaxyMaker/CELL_00312/gal_cells_0000041\n",
      "No CELL data loaded\n",
      "catalog center -0.7064976692199707 1.6153959035873413 0.759282648563385\n",
      "star x [-0.70816618 -0.71355885 -0.706716   ..., -0.70647836 -0.70663089\n",
      " -0.70647675]\n",
      "star x [-1.66851282 -7.06118345 -0.21833181 ...,  0.0193119  -0.13321638\n",
      "  0.02092123]\n",
      "gal.debug False\n",
      "9.65161492897\n"
     ]
    }
   ],
   "source": [
    "gg = load.rd_GM.Gal(nout, catalog=gcat.data[40].copy(), info=s.info)\n",
    "#gg = load.rd_GM.Gal(nout, catalog=gcat.data[104].copy(), info=s.info)\n",
    "gg.debug=False\n",
    "make_gal.mk_gal(gg, mstar_min=1e8)\n",
    "print(np.log10(gg.meta.mstar))\n",
    "#gg1.cal_norm_vec()\n",
    "#gg1.meta.nvec"
   ]
  },
  {
   "cell_type": "code",
   "execution_count": 30,
   "metadata": {
    "collapsed": true
   },
   "outputs": [],
   "source": [
    "plt.hist(gg.star[\"time\"])\n",
    "plt.show()"
   ]
  },
  {
   "cell_type": "code",
   "execution_count": 29,
   "metadata": {
    "collapsed": true
   },
   "outputs": [],
   "source": [
    "plt.hist2d(gg.star[\"x\"], gg.star[\"y\"], weights=13.7-gg.star[\"time\"], bins=200)\n",
    "plt.show()"
   ]
  },
  {
   "cell_type": "code",
   "execution_count": 13,
   "metadata": {
    "collapsed": true
   },
   "outputs": [],
   "source": [
    "from matplotlib.colors import LogNorm"
   ]
  },
  {
   "cell_type": "code",
   "execution_count": 14,
   "metadata": {
    "collapsed": false
   },
   "outputs": [],
   "source": [
    "plt.hist2d(gg.star[\"x\"], gg.star[\"y\"], weights=13.7-gg.star[\"time\"],\n",
    "           bins=200, norm=LogNorm())\n",
    "plt.show()"
   ]
  },
  {
   "cell_type": "code",
   "execution_count": 34,
   "metadata": {
    "collapsed": true
   },
   "outputs": [],
   "source": [
    "import time"
   ]
  },
  {
   "cell_type": "code",
   "execution_count": 54,
   "metadata": {
    "collapsed": true
   },
   "outputs": [],
   "source": [
    "arr = np.arange(4)\n",
    "mat = np.random.rand(4,3)\n"
   ]
  },
  {
   "cell_type": "code",
   "execution_count": 93,
   "metadata": {
    "collapsed": false
   },
   "outputs": [
    {
     "data": {
      "text/plain": [
       "array([[ 0.83086452,  0.23718903,  0.32862803],\n",
       "       [ 0.2366768 ,  0.33746605,  0.75426078],\n",
       "       [ 0.1154754 ,  0.3073384 ,  0.19447749],\n",
       "       [ 0.74724667,  0.62018871,  0.83527797]])"
      ]
     },
     "execution_count": 93,
     "metadata": {},
     "output_type": "execute_result"
    }
   ],
   "source": [
    "mat"
   ]
  },
  {
   "cell_type": "code",
   "execution_count": 105,
   "metadata": {
    "collapsed": false
   },
   "outputs": [
    {
     "data": {
      "text/plain": [
       "array([ 2.70936759,  2.81270899,  3.64904966])"
      ]
     },
     "execution_count": 105,
     "metadata": {},
     "output_type": "execute_result"
    }
   ],
   "source": [
    "np.tensordot(mat.T, arr, axes=1)"
   ]
  },
  {
   "cell_type": "code",
   "execution_count": 92,
   "metadata": {
    "collapsed": false
   },
   "outputs": [
    {
     "data": {
      "text/plain": [
       "array([[ 0.        ,  0.2366768 ,  0.23095079,  2.24174   ],\n",
       "       [ 0.        ,  0.33746605,  0.6146768 ,  1.86056613],\n",
       "       [ 0.        ,  0.75426078,  0.38895498,  2.5058339 ]])"
      ]
     },
     "execution_count": 92,
     "metadata": {},
     "output_type": "execute_result"
    }
   ],
   "source": [
    "np.multiply(mat.T, arr)"
   ]
  },
  {
   "cell_type": "code",
   "execution_count": 62,
   "metadata": {
    "collapsed": true
   },
   "outputs": [],
   "source": [
    "def tonumpyarray(mp_arr):\n",
    "    return np.frombuffer(mp_arr.get_obj())\n",
    "\n",
    "from multiprocessing import Process, Value, Array\n",
    "import numpy as np\n",
    "class Simplemock():\n",
    "    def __init__(self, repo=\"/home/hoseung/Work/pyclusterevol/repo/sed/\",\n",
    "                 filter_system=\"SDSS\",\n",
    "                 sed_model=\"bc03\",\n",
    "                 load=True, \n",
    "                 parallel=True):\n",
    "        self.filter_system = filter_system\n",
    "        self.repo = repo\n",
    "        self.sed_model = sed_model\n",
    "        self.parallel = parallel\n",
    "        if load:\n",
    "            self.load_all()\n",
    "            \n",
    "    def load_all(self):\n",
    "        self.load_filters()\n",
    "        self.load_SED_wavelength()\n",
    "        return self.load_SED_all()\n",
    "\n",
    "    def load_filters(self):\n",
    "        if self.filter_system == \"SDSS\":\n",
    "            filter_lambda, filter_u, filter_g, filter_r, filter_i, filter_z = \\\n",
    "                np.genfromtxt(self.repo + \"filter_sdss.dat\",\n",
    "                                skip_header=1, unpack=True)\n",
    "\n",
    "            self.filters = {\"lambda\":filter_lambda,\n",
    "                            \"u\":filter_u,\n",
    "                            \"g\":filter_g,\n",
    "                            \"r\":filter_r,\n",
    "                            \"i\":filter_i,\n",
    "                            \"z\":filter_z}\n",
    "\n",
    "    def load_SED_wavelength(self):\n",
    "        if self.sed_model == \"bc03\":\n",
    "            self.sed_wavelength = np.genfromtxt(self.repo + \"lambda.dat\")\n",
    "\n",
    "    def load_SED_all(self):\n",
    "        \"\"\"\n",
    "        Full SEDs are just a few tens of MB.\n",
    "        \"\"\"\n",
    "        if self.sed_model == \"bc03\":\n",
    "            self.metal_points = np.array([0.0004, 0.001, 0.004, 0.01, 0.02, 0.04])\n",
    "            # age points in tables.\n",
    "            self.age_points = np.genfromtxt(self.repo+\"ages_yybc.dat\") # in Gry unit\n",
    "            \n",
    "            \n",
    "            if self.parallel:\n",
    "                SED_shared=Array('d', np.zeros(6*221*1221))\n",
    "                self.SEDs = tonumpyarray(SED_shared).reshape(6,221,1221)\n",
    "                print(self.SEDs.shape)\n",
    "            else:\n",
    "                self.SEDs = np.zeros((6, 221, 1221))\n",
    "                \n",
    "            \n",
    "            for i, metal in enumerate(self.metal_points):\n",
    "                #self.SEDs[i,:,:] = np.genfromtxt(self.repo +\n",
    "                self.SEDs[i,:,:] = np.genfromtxt(self.repo +\n",
    "                                            \"bc03_yy_{:.4f}\".format(metal)).reshape(221, 1221)\n",
    "\n",
    "            if self.parallel:\n",
    "                return SED_shared\n",
    "            #else:\n",
    "            #    return SEDs\n",
    "        else:\n",
    "            print(\"Sorry, Only bc03 is implemented.\")\n",
    "\n",
    "            \n",
    "def memory():\n",
    "    \"\"\"\n",
    "    Get node total memory and memory usage\n",
    "    \"\"\"\n",
    "    with open('/proc/meminfo', 'r') as mem:\n",
    "        ret = {}\n",
    "        tmp = 0\n",
    "        for i in mem:\n",
    "            sline = i.split()\n",
    "            if str(sline[0]) == 'MemTotal:':\n",
    "                ret['total'] = int(sline[1])\n",
    "            elif str(sline[0]) in ('MemFree:', 'Buffers:', 'Cached:'):\n",
    "                tmp += int(sline[1])\n",
    "        ret['free'] = tmp\n",
    "        ret['used'] = int(ret['total']) - int(ret['free'])\n",
    "    return ret            \n",
    "\n",
    "\n",
    "def get_flux(extinction = False,\n",
    "             metal_lower_cut = False,\n",
    "             filter_name='r'):\n",
    "    #import gc\n",
    "    #import os\n",
    "    ### star data ########################################################\n",
    "    global star\n",
    "    global SEDs\n",
    "    global MockSED\n",
    "    \n",
    "    #print(\"PID \",os.getpid(), \"reference counter\", len(gc.get_referrers(star)))\n",
    "    \n",
    "    starmetal = star[\"metal\"] # Is the original array modified?\n",
    "    if metal_lower_cut:\n",
    "        # No star with metallicity lower than the lowest table.\n",
    "        # Modifying array will result in meory copy!!\n",
    "        starmetal[starmetal < min(MockSED.metal_points)] = min(MockSED.metal_points) * 1.0001\n",
    "\n",
    "    locate_metal = np.digitize(starmetal, MockSED.metal_points)-1 # GOOD\n",
    "    relevant_metals = MockSED.metal_points[:max(locate_metal)+2]\n",
    "    nmetals = len(relevant_metals)\n",
    "\n",
    "    # Star Age\n",
    "    t_univ = 13.7\n",
    "    starage = t_univ - star[\"time\"]\n",
    "\n",
    "    locate_age = np.digitize(starage, MockSED.age_points)-1 # GOOD\n",
    "    relevant_ages = MockSED.age_points[:max(locate_age)+2]\n",
    "    nages = len(relevant_ages)\n",
    "\n",
    "    ### Filter optimization. #################################################\n",
    "\n",
    "    # Pick one\n",
    "    this_filter = MockSED.filters[filter_name]\n",
    "\n",
    "    # band range\n",
    "    i_filter_pos = this_filter > 0\n",
    "\n",
    "    this_filter = this_filter[i_filter_pos]\n",
    "    filter_lambda_this_band = MockSED.filters[\"lambda\"][i_filter_pos]\n",
    "\n",
    "    lambda_min_this_band = min(filter_lambda_this_band)\n",
    "    lambda_max_this_band = max(filter_lambda_this_band)\n",
    "\n",
    "    i_lambda_min = np.argmax(MockSED.sed_wavelength > lambda_min_this_band) -1\n",
    "    #print(i_lambda_min, wavelength[i_lambda_min], lambda_min_this_band)\n",
    "    i_lambda_max = np.argmax(MockSED.sed_wavelength > lambda_max_this_band)\n",
    "    #print(i_lambda_max, wavelength[i_lambda_max], lambda_max_this_band)\n",
    "\n",
    "    # Only a small part of SED is needed.\n",
    "    wavelength = MockSED.sed_wavelength[i_lambda_min:i_lambda_max+1]\n",
    "    n_wavelength = i_lambda_max - i_lambda_min + 1\n",
    "\n",
    "    ##### Caclulate band flux #################\n",
    "    # Load only necessary data\n",
    "    # Load all once, keep under the class and copy part of it when needed heere.\n",
    "    seds = np.zeros((nmetals, nages, n_wavelength)) # metal age lambda\n",
    "    nages_org =221\n",
    "    nmetal_org=6\n",
    "    n_wavs_org=1221\n",
    "    if MockSED.sed_model == \"bc03\":\n",
    "        for i, metal in enumerate(relevant_metals):\n",
    "            for j, age in enumerate(relevant_ages):\n",
    "                seds[i,j,:] = SEDs[ i * nages_org*n_wavs_org\n",
    "                                  + j * n_wavs_org + i_lambda_min:\n",
    "                                    i * nages_org*n_wavs_org\n",
    "                                  + j * n_wavs_org + i_lambda_max+1]\n",
    "\n",
    "    # All are array-wise calculations.\n",
    "    # interpolation weight\n",
    "    dmda = np.sqrt((relevant_metals[locate_metal+1] - relevant_metals[locate_metal]) * (relevant_ages[locate_age+1] - relevant_ages[locate_age]))\n",
    "    dl_m = (starmetal - relevant_metals[locate_metal] )/dmda# / \\\n",
    "           #(relevant_metals[locate_metal+1] - relevant_metals[locate_metal])\n",
    "    dr_m = (relevant_metals[locate_metal+1] - starmetal)/dmda# / \\\n",
    "           #(relevant_metals[locate_metal+1] - relevant_metals[locate_metal])\n",
    "    dl_a = (starage - relevant_ages[locate_age] )#   / \\\n",
    "           #(relevant_ages[locate_age+1] - relevant_ages[locate_age])\n",
    "    dr_a = (relevant_ages[locate_age+1] - starage )# / \\\n",
    "           #(relevant_ages[locate_age+1] - relevant_ages[locate_age])\n",
    "\n",
    "    dmda=0\n",
    "    # 2D linear interpolation\n",
    "    # weight * SED.\n",
    "\n",
    "    filter_in_sed_wavelengths = np.interp(wavelength, filter_lambda_this_band, this_filter)\n",
    "    \n",
    "    # This part consumes too much memory. \n",
    "    # Reduce memory usage by...\n",
    "    # Merging all calculation into one line?\n",
    "    # \n",
    "    ## from here\n",
    "    \n",
    "    #\n",
    "    # Querying the amount of avaiable memory is likely of no use.\n",
    "    # Reading the memory state from /proc/meminfo is not instantly reflected when\n",
    "    # multiple cores are competing for memory resource.\n",
    "    \n",
    "    Flux = \\\n",
    "    np.multiply(filter_in_sed_wavelengths,\n",
    "                np.multiply( (dr_m * dr_a), seds[locate_metal, locate_age,:].T).T +\\\n",
    "                np.multiply( (dl_m * dr_a), seds[locate_metal + 1, locate_age,:].T).T +\\\n",
    "                np.multiply( (dr_m * dl_a), seds[locate_metal, locate_age + 1, :].T).T +\\\n",
    "                np.multiply( (dl_m * dl_a), seds[locate_metal + 1, locate_age + 1,:].T).T)\n",
    "    print(memory())\n",
    "    #Flux = np.multiply(filter_in_sed_wavelengths, Flux)\n",
    "    ## to here\n",
    "    \n",
    "    # UNIT\n",
    "    \n",
    "    \n",
    "    \n",
    "    \n",
    "    if not extinction:\n",
    "        return np.sum(Flux, axis=1)\n",
    "    else:\n",
    "        print(\"Extinction - Not yet implemented\")\n",
    "        return\n",
    "\n",
    "    # Convolve filter\n",
    "    # Wavelengths at which filter function are defined are different from the SED wavelength points.\n",
    "    # Interpolate filter function on SED points.\n",
    "    "
   ]
  },
  {
   "cell_type": "code",
   "execution_count": 153,
   "metadata": {
    "collapsed": false
   },
   "outputs": [
    {
     "name": "stdout",
     "output_type": "stream",
     "text": [
      "(6, 221, 1221)\n"
     ]
    }
   ],
   "source": [
    "SED_shared=Array('d', np.zeros((6*221*1221)))#, lock=False)\n",
    "SEDs = tonumpyarray(SED_shared).reshape(6,221,1221)\n",
    "print(SEDs.shape)"
   ]
  },
  {
   "cell_type": "code",
   "execution_count": 47,
   "metadata": {
    "collapsed": false
   },
   "outputs": [
    {
     "name": "stdout",
     "output_type": "stream",
     "text": [
      "(6, 221, 1221)\n"
     ]
    }
   ],
   "source": [
    "global MockSED\n",
    "global SEDs\n",
    "MockSED = Simplemock(repo=dfl.dir_repo+'sed/', load=False)\n",
    "SEDs = MockSED.load_all()\n",
    "MockSED.SEDs=0\n",
    "#self = MockSED#.SEDs\n",
    "global star\n",
    "star = gg.star\n",
    "#gg.star[\"metal\"][gg.star[\"metal\"] >= 0.04] = 0.04 - 1e-9\n",
    "## Improve Boundary cases. !"
   ]
  },
  {
   "cell_type": "markdown",
   "metadata": {},
   "source": [
    "Even everything to be shared are global, \n",
    "having a subprocess referencing to the original memory modifies the original memory.\n",
    "That's because Python needs to count references to a memory so that it can clean up the memory when no other objects are referencing the memory. \n",
    "That means, just having one more subprocess means another copy of memory. \n",
    "\n",
    "A great article on this problem. \n",
    "https://llvllatrix.wordpress.com/2016/02/19/python-vs-copy-on-write/\n",
    "\n",
    "\n",
    "#### The core of our solution is to tell the operating system that it should be using shared memory that isn’t reference counted. "
   ]
  },
  {
   "cell_type": "code",
   "execution_count": 58,
   "metadata": {
    "collapsed": false
   },
   "outputs": [
    {
     "name": "stdout",
     "output_type": "stream",
     "text": [
      "1\n"
     ]
    }
   ],
   "source": [
    "print(len(gc.get_referrers(SEDs)))"
   ]
  },
  {
   "cell_type": "code",
   "execution_count": 63,
   "metadata": {
    "collapsed": false
   },
   "outputs": [
    {
     "name": "stderr",
     "output_type": "stream",
     "text": [
      "/home/hoseung/anaconda3/envs/hspy/lib/python3.6/site-packages/ipykernel/__main__.py:159: RuntimeWarning: invalid value encountered in sqrt\n",
      "/home/hoseung/anaconda3/envs/hspy/lib/python3.6/site-packages/ipykernel/__main__.py:159: RuntimeWarning: invalid value encountered in sqrt\n",
      "/home/hoseung/anaconda3/envs/hspy/lib/python3.6/site-packages/ipykernel/__main__.py:159: RuntimeWarning: invalid value encountered in sqrt\n",
      "/home/hoseung/anaconda3/envs/hspy/lib/python3.6/site-packages/ipykernel/__main__.py:159: RuntimeWarning: invalid value encountered in sqrt\n",
      "/home/hoseung/anaconda3/envs/hspy/lib/python3.6/site-packages/ipykernel/__main__.py:159: RuntimeWarning: invalid value encountered in sqrt\n"
     ]
    },
    {
     "name": "stdout",
     "output_type": "stream",
     "text": [
      "{'total': 7896756, 'free': 2515100, 'used': 5381656}\n",
      "{'total': 7896756, 'free': 3225636, 'used': 4671120}\n",
      "{'total': 7896756, 'free': 4129060, 'used': 3767696}\n",
      "{'total': 7896756, 'free': 4275596, 'used': 3621160}\n",
      "{'total': 7896756, 'free': 5668024, 'used': 2228732}\n",
      "5.037376642227173\n"
     ]
    }
   ],
   "source": [
    "import multiprocessing as mp\n",
    "import gc\n",
    "\n",
    "mp.set_start_method('fork', force=True)\n",
    "\n",
    "Ps = []\n",
    "# args must be a tuple. (something,) note the trailing comma.\n",
    "t0 = time.time()\n",
    "\n",
    "for filtername in ['u','g','r','i','z']:\n",
    "    p=mp.Process(target = get_flux, kwargs={\"filter_name\":filtername})\n",
    "    p.start()\n",
    "    #print(len(gc.get_referrers(MockSED)))\n",
    "    Ps.append(p)\n",
    "    \n",
    "for p in Ps:\n",
    "    p.join()\n",
    "\n",
    "print(time.time()-t0)"
   ]
  },
  {
   "cell_type": "code",
   "execution_count": 51,
   "metadata": {
    "collapsed": false
   },
   "outputs": [
    {
     "name": "stderr",
     "output_type": "stream",
     "text": [
      "/home/hoseung/anaconda3/envs/hspy/lib/python3.6/site-packages/ipykernel/__main__.py:140: RuntimeWarning: invalid value encountered in sqrt\n"
     ]
    },
    {
     "name": "stdout",
     "output_type": "stream",
     "text": [
      "(486883,)\n",
      "(486883,)\n",
      "(486883,)\n",
      "(486883,)\n",
      "(486883,)\n",
      "0.5114421844482422\n"
     ]
    }
   ],
   "source": [
    "t0 = time.time()\n",
    "Flux_u = get_flux(filter_name='u')\n",
    "Flux_g = get_flux(filter_name='g')\n",
    "Flux_r = get_flux(filter_name='r')\n",
    "Flux_i = get_flux(filter_name='i')\n",
    "Flux_z = get_flux(filter_name='z')\n",
    "print(time.time()-t0)"
   ]
  }
 ],
 "metadata": {
  "kernelspec": {
   "display_name": "Python 3",
   "language": "python",
   "name": "python3"
  },
  "language_info": {
   "codemirror_mode": {
    "name": "ipython",
    "version": 3
   },
   "file_extension": ".py",
   "mimetype": "text/x-python",
   "name": "python",
   "nbconvert_exporter": "python",
   "pygments_lexer": "ipython3",
   "version": "3.6.0"
  }
 },
 "nbformat": 4,
 "nbformat_minor": 2
}
