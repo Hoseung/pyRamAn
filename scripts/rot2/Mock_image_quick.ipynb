{
 "cells": [
  {
   "cell_type": "code",
   "execution_count": 1,
   "metadata": {
    "collapsed": false
   },
   "outputs": [],
   "source": [
    "import load\n",
    "import numpy as np\n",
    "import matplotlib\n",
    "matplotlib.use(\"Qt5Agg\")\n",
    "import matplotlib.pyplot as plt\n",
    "import tree\n",
    "#import makegal\n",
    "from galaxymodule import make_gal, rd_GM"
   ]
  },
  {
   "cell_type": "code",
   "execution_count": 2,
   "metadata": {
    "collapsed": false
   },
   "outputs": [
    {
     "name": "stdout",
     "output_type": "stream",
     "text": [
      "/home/hoseung/Work/data/HAGN\n"
     ]
    }
   ],
   "source": [
    "cd ~/Work/data/HAGN/"
   ]
  },
  {
   "cell_type": "code",
   "execution_count": 3,
   "metadata": {
    "collapsed": false
   },
   "outputs": [
    {
     "name": "stdout",
     "output_type": "stream",
     "text": [
      "[sim._hilbert_cpulist] No AMR instance,\n",
      "[sim._hilbert_cpulist] Loading one...\n",
      "An AMR instance is created\n",
      " Sim\n",
      "An AMR instance is created\n",
      " Sim\n",
      "Simulation set up.\n",
      "[Halo.load_info] loading info\n",
      "[Halo.load_info] nout = 782, base =./\n",
      "info <load.info.Info object at 0x7f21d3ec7390>\n",
      "File Not Found: ./halo/HAL_00782/hal_dms_0000005\n",
      "No DM data loaded\n",
      "File Not Found: ./GalaxyMaker/CELL_00782/gal_cells_0000005\n",
      "No CELL data loaded\n"
     ]
    },
    {
     "data": {
      "text/plain": [
       "True"
      ]
     },
     "execution_count": 3,
     "metadata": {},
     "output_type": "execute_result"
    }
   ],
   "source": [
    "from general import defaults\n",
    "dfl = defaults.Default()\n",
    "nout = 782#782 # 312\n",
    "s = load.sim.Sim(nout=nout)\n",
    "gcat = tree.halomodule.Halo(nout=nout, is_gal=True)\n",
    "gg = rd_GM.Gal(nout, catalog=gcat.data[4].copy(), info=s.info)\n",
    "gg.debug=False\n",
    "make_gal.mk_gal(gg, convert_time=True)\n"
   ]
  },
  {
   "cell_type": "code",
   "execution_count": 11,
   "metadata": {
    "collapsed": true
   },
   "outputs": [],
   "source": [
    "import importlib"
   ]
  },
  {
   "cell_type": "code",
   "execution_count": 14,
   "metadata": {
    "collapsed": false
   },
   "outputs": [
    {
     "data": {
      "text/plain": [
       "<module 'galaxymodule.quick_mock' from '/home/hoseung/Work/pyclusterevol/galaxymodule/quick_mock.py'>"
      ]
     },
     "execution_count": 14,
     "metadata": {},
     "output_type": "execute_result"
    }
   ],
   "source": [
    "importlib.reload(qmc)"
   ]
  },
  {
   "cell_type": "code",
   "execution_count": 15,
   "metadata": {
    "collapsed": true
   },
   "outputs": [],
   "source": [
    "from galaxymodule import quick_mock as qmc\n",
    "MockSED = qmc.Simplemock(repo=dfl.dir_repo+'sed/')"
   ]
  },
  {
   "cell_type": "code",
   "execution_count": 16,
   "metadata": {
    "collapsed": false
   },
   "outputs": [],
   "source": [
    "#gg.star.Flux_u= MockSED.get_flux(star=gg.star, filter_name='u')\n",
    "#gg.star.Flux_g= MockSED.get_flux(star=gg.star, filter_name='g')\n",
    "gg.star.Flux_r= MockSED.get_flux(star=gg.star, filter_name='r')\n",
    "#gg.star.Flux_i= MockSED.get_flux(star=gg.star, filter_name='i')\n",
    "#gg.star.Flux_z= MockSED.get_flux(star=gg.star, filter_name='z')\n",
    "\n",
    "# unit: erg/cm^2/Hz ....?"
   ]
  },
  {
   "cell_type": "code",
   "execution_count": 7,
   "metadata": {
    "collapsed": false
   },
   "outputs": [
    {
     "name": "stdout",
     "output_type": "stream",
     "text": [
      "11.5624991756\n"
     ]
    }
   ],
   "source": [
    "print(np.log10(gg.meta.mstar))"
   ]
  },
  {
   "cell_type": "code",
   "execution_count": 17,
   "metadata": {
    "collapsed": false
   },
   "outputs": [
    {
     "data": {
      "text/plain": [
       "6.6083688602822799e+35"
      ]
     },
     "execution_count": 17,
     "metadata": {},
     "output_type": "execute_result"
    }
   ],
   "source": [
    "np.mean(gg.star.Flux_r)"
   ]
  },
  {
   "cell_type": "code",
   "execution_count": 10,
   "metadata": {
    "collapsed": false
   },
   "outputs": [
    {
     "data": {
      "text/plain": [
       "6.5436572630898517"
      ]
     },
     "execution_count": 10,
     "metadata": {},
     "output_type": "execute_result"
    }
   ],
   "source": [
    "np.log10(np.mean(gg.star[\"m\"]))"
   ]
  },
  {
   "cell_type": "code",
   "execution_count": 18,
   "metadata": {
    "collapsed": false
   },
   "outputs": [
    {
     "name": "stdout",
     "output_type": "stream",
     "text": [
      "6.90138393555e+40\n"
     ]
    }
   ],
   "source": [
    "total_flux = sum(gg.star.Flux_r)\n",
    "print(total_flux)"
   ]
  },
  {
   "cell_type": "code",
   "execution_count": 56,
   "metadata": {
    "collapsed": true
   },
   "outputs": [],
   "source": [
    "Lum_sun = 3.826e33 # ergs/s\n",
    "\n",
    "mgal = 1e11\n",
    "\n",
    "pivot_lambda = 6175 # A\n",
    "\n",
    "Lum_dist = 400 #400 # Mpc\n",
    "d_lum_10p = 3.0857e19 # lumminonsity distance of 10pc in cm\n",
    "speed_of_light = 3e18 # angstrom / sec\n",
    "kpc_to_cm = 3.0857e21\n",
    "ldcm = Lum_dist * kpc_to_cm * 1e3\n",
    "s_inv = 1./(4*np.pi * ldcm*ldcm)"
   ]
  },
  {
   "cell_type": "code",
   "execution_count": 74,
   "metadata": {
    "collapsed": false
   },
   "outputs": [],
   "source": [
    "SED_r = MockSED.SEDs[3][190][500]\n",
    "tot_flux = Lum_sun * mgal * SED_r * s_inv / 1e-17 #(5*kpc_to_cm)**2\n",
    "# erg/s/cm2 / Angstrom\n",
    "\n",
    "# The only difference from Ji is the missing 1e-2. "
   ]
  },
  {
   "cell_type": "markdown",
   "metadata": {},
   "source": [
    "# Now pass through filter and calculate mag"
   ]
  },
  {
   "cell_type": "code",
   "execution_count": 71,
   "metadata": {
    "collapsed": false
   },
   "outputs": [
    {
     "data": {
      "text/plain": [
       "6230.0"
      ]
     },
     "execution_count": 71,
     "metadata": {},
     "output_type": "execute_result"
    }
   ],
   "source": [
    "MockSED.filters[\"lambda\"][130]"
   ]
  },
  {
   "cell_type": "code",
   "execution_count": 94,
   "metadata": {
    "collapsed": false
   },
   "outputs": [
    {
     "name": "stdout",
     "output_type": "stream",
     "text": [
      "1100\n"
     ]
    }
   ],
   "source": [
    "d_l_filter = 1100 # rough width of r band.\n",
    "print(d_l_filter)"
   ]
  },
  {
   "cell_type": "code",
   "execution_count": 72,
   "metadata": {
    "collapsed": false
   },
   "outputs": [
    {
     "data": {
      "text/plain": [
       "0.98046800000000001"
      ]
     },
     "execution_count": 72,
     "metadata": {},
     "output_type": "execute_result"
    }
   ],
   "source": [
    "# Almost perfect tarnsperancy.\n",
    "MockSED.filters[\"r\"][130]"
   ]
  },
  {
   "cell_type": "code",
   "execution_count": 102,
   "metadata": {
    "collapsed": true
   },
   "outputs": [],
   "source": [
    "filtered_flux = tot_flux / (0.98 * d_l_filter)# * pivot_lambda\n",
    "# Don't understand why it's a division, not multiplication. "
   ]
  },
  {
   "cell_type": "code",
   "execution_count": 110,
   "metadata": {
    "collapsed": false
   },
   "outputs": [
    {
     "name": "stdout",
     "output_type": "stream",
     "text": [
      "around -20? :  15.4927164966\n"
     ]
    }
   ],
   "source": [
    "# flux to integrated magnitude. \n",
    "# pivot lambda come in here, not before. \n",
    "Mag_abs = -2.5 * np.log10(filtered_flux) \\\n",
    "        - 5* np.log10(pivot_lambda) \\\n",
    "        + 2.5*np.log10(speed_of_light) \\\n",
    "        - 48.60 #\\\n",
    "\n",
    "apparent_mag = Mag_abs + 5*np.log10(Lum_dist * 1e6/1e1)\n",
    "print(\"around -20? : \", apparent_mag)"
   ]
  },
  {
   "cell_type": "markdown",
   "metadata": {},
   "source": [
    "Why does it work..???\n",
    "\n",
    "anyways,, let's make 2d mock image to see if it has a realistic surface brightness for a given observation condition. \n",
    "\n",
    "** smaller pixel scale = less photon = worse magnitude limit -> lower signal to noise.. \n",
    "But the observed objects apparent magnitude shouldn't change. "
   ]
  },
  {
   "cell_type": "code",
   "execution_count": 126,
   "metadata": {
    "collapsed": false
   },
   "outputs": [],
   "source": [
    "plate_scale = 0.12 # second per pixel on a side.\n",
    "gal_size = 10\n",
    "npix = gal_size/plate_scale\n",
    "Surface_Brightness = apparent_mag + 2.5*np.log10(npix**2) + 2.5*np.log10(plate_scale * plate_scale)\n",
    "# If I assume all flux uniformly distributes over 50 x 50 pixels. \n",
    "# Surface brightness is brighter with larger (npix * plate_scale)\n",
    "# If the galaxy is larger and more diffuse, for a fixed plate scale npix is higher. \n",
    "# If the galaxy size if fixed, varying plate_scale has no effect on the SB. "
   ]
  },
  {
   "cell_type": "code",
   "execution_count": 127,
   "metadata": {
    "collapsed": false
   },
   "outputs": [
    {
     "data": {
      "text/plain": [
       "20.492716496616396"
      ]
     },
     "execution_count": 127,
     "metadata": {},
     "output_type": "execute_result"
    }
   ],
   "source": [
    "Surface_Brightness"
   ]
  },
  {
   "cell_type": "markdown",
   "metadata": {
    "collapsed": true
   },
   "source": [
    "# idl\n",
    "\n",
    "per pixel. \n",
    "\n",
    "SED * mass of each star * Lum_sun * 1e-2 * inv_s , where inv_s \n",
    "\n",
    "\n",
    "Still don't know what 1e-2 is for. \n",
    "\n",
    "\n",
    "Then, convolve with "
   ]
  },
  {
   "cell_type": "code",
   "execution_count": 25,
   "metadata": {
    "collapsed": false
   },
   "outputs": [
    {
     "data": {
      "text/plain": [
       "9.0991402698501389"
      ]
     },
     "execution_count": 25,
     "metadata": {},
     "output_type": "execute_result"
    }
   ],
   "source": [
    "- 2.5 * np.log10(total_flux/Lum_sun) \\\n",
    "           - 5. * np.log10(6175) \\\n",
    "           + 2.5 * np.log10(speed_of_light)# -48.6"
   ]
  },
  {
   "cell_type": "code",
   "execution_count": 19,
   "metadata": {
    "collapsed": false
   },
   "outputs": [
    {
     "data": {
      "text/plain": [
       "18.47684"
      ]
     },
     "execution_count": 19,
     "metadata": {},
     "output_type": "execute_result"
    }
   ],
   "source": [
    "(-21.1 + 18.6921 + 48.6)/2.5# = np.log10(c)"
   ]
  },
  {
   "cell_type": "code",
   "execution_count": 26,
   "metadata": {
    "collapsed": false
   },
   "outputs": [
    {
     "data": {
      "text/plain": [
       "18.477121254719663"
      ]
     },
     "execution_count": 26,
     "metadata": {},
     "output_type": "execute_result"
    }
   ],
   "source": [
    "np.log10(speed_of_light)"
   ]
  },
  {
   "cell_type": "code",
   "execution_count": 27,
   "metadata": {
    "collapsed": false
   },
   "outputs": [],
   "source": [
    "plt.plot(MockSED.sed_wavelength[:400], np.log10(MockSED.SEDs[0][40][:400]+0.1))\n",
    "plt.show()"
   ]
  },
  {
   "cell_type": "code",
   "execution_count": 21,
   "metadata": {
    "collapsed": true
   },
   "outputs": [],
   "source": [
    "speed_of_light = 3e18 # angstrom / sec"
   ]
  },
  {
   "cell_type": "code",
   "execution_count": 39,
   "metadata": {
    "collapsed": false
   },
   "outputs": [],
   "source": [
    "Mag_ab = -2.5*np.log10(total_flux) -5 * np.log10(pivot_lambda) +2.5*np.log10(speed_of_light) - 48.60"
   ]
  },
  {
   "cell_type": "code",
   "execution_count": 28,
   "metadata": {
    "collapsed": false
   },
   "outputs": [],
   "source": [
    "plt.hist(np.log10(MockSED.sed_wavelength[1:] - MockSED.sed_wavelength[:-1]))\n",
    "#plt.hist((MockSED.sed_wavelength[1:] - MockSED.sed_wavelength[:-1])/MockSED.sed_wavelength[:-1])\n",
    "plt.show()"
   ]
  },
  {
   "cell_type": "code",
   "execution_count": 40,
   "metadata": {
    "collapsed": false
   },
   "outputs": [
    {
     "data": {
      "text/plain": [
       "-34.558346188750768"
      ]
     },
     "execution_count": 40,
     "metadata": {},
     "output_type": "execute_result"
    }
   ],
   "source": [
    "Mag_ab"
   ]
  },
  {
   "cell_type": "code",
   "execution_count": 53,
   "metadata": {
    "collapsed": false
   },
   "outputs": [
    {
     "data": {
      "text/plain": [
       "array([ 0.29036335,  0.29036335,  0.29036335, ...,  0.20791595,\n",
       "        0.20735446,  0.20946372])"
      ]
     },
     "execution_count": 53,
     "metadata": {},
     "output_type": "execute_result"
    }
   ],
   "source": [
    "gg.star.Flux_r # "
   ]
  },
  {
   "cell_type": "code",
   "execution_count": 51,
   "metadata": {
    "collapsed": false
   },
   "outputs": [
    {
     "name": "stdout",
     "output_type": "stream",
     "text": [
      "78 78\n"
     ]
    },
    {
     "name": "stderr",
     "output_type": "stream",
     "text": [
      "/home/hoseung/Work/pyclusterevol/galaxymodule/quick_mock.py:205: RuntimeWarning: divide by zero encountered in log10\n",
      "  \n"
     ]
    }
   ],
   "source": [
    "fmap = qmc.flux2mag(gg.star.Flux_r, gg, plate_scale=0.1)"
   ]
  },
  {
   "cell_type": "code",
   "execution_count": 52,
   "metadata": {
    "collapsed": true
   },
   "outputs": [],
   "source": [
    "plt.imshow(fmap)\n",
    "plt.show()"
   ]
  },
  {
   "cell_type": "markdown",
   "metadata": {},
   "source": [
    "1. Shouldn't depend on plate_scale change. \n",
    "2. total flux and magnutude must be constatnt"
   ]
  },
  {
   "cell_type": "code",
   "execution_count": 44,
   "metadata": {
    "collapsed": false
   },
   "outputs": [
    {
     "data": {
      "text/plain": [
       "25.634454517914968"
      ]
     },
     "execution_count": 44,
     "metadata": {},
     "output_type": "execute_result"
    }
   ],
   "source": [
    "fmap[fmap < 100].max()"
   ]
  },
  {
   "cell_type": "code",
   "execution_count": 42,
   "metadata": {
    "collapsed": false
   },
   "outputs": [
    {
     "data": {
      "text/plain": [
       "1.7976931348623157e+308"
      ]
     },
     "execution_count": 42,
     "metadata": {},
     "output_type": "execute_result"
    }
   ],
   "source": [
    "np.nan_to_num()"
   ]
  },
  {
   "cell_type": "code",
   "execution_count": 29,
   "metadata": {
    "collapsed": false
   },
   "outputs": [],
   "source": [
    "qmc.draw(gg, x1=\"x\", x2=\"y\", suffix=\"face\")\n",
    "qmc.draw(gg, x1=\"x\", x2=\"z\", suffix=\"edge\")"
   ]
  },
  {
   "cell_type": "code",
   "execution_count": null,
   "metadata": {
    "collapsed": true
   },
   "outputs": [],
   "source": []
  }
 ],
 "metadata": {
  "kernelspec": {
   "display_name": "Python 3",
   "language": "python",
   "name": "python3"
  },
  "language_info": {
   "codemirror_mode": {
    "name": "ipython",
    "version": 3
   },
   "file_extension": ".py",
   "mimetype": "text/x-python",
   "name": "python",
   "nbconvert_exporter": "python",
   "pygments_lexer": "ipython3",
   "version": "3.6.0"
  }
 },
 "nbformat": 4,
 "nbformat_minor": 2
}
