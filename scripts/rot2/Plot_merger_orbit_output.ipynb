{
 "cells": [
  {
   "cell_type": "code",
   "execution_count": 2,
   "metadata": {},
   "outputs": [],
   "source": [
    "import numpy as np\n",
    "import pickle\n",
    "import matplotlib\n",
    "matplotlib.use(\"Qt5Agg\")\n",
    "import matplotlib.pyplot as plt\n",
    "from galaxymodule.galaxy import Galaxy"
   ]
  },
  {
   "cell_type": "code",
   "execution_count": 3,
   "metadata": {
    "collapsed": true
   },
   "outputs": [],
   "source": [
    "#draw a vector\n",
    "from matplotlib.patches import FancyArrowPatch\n",
    "from mpl_toolkits.mplot3d import proj3d\n",
    "\n",
    "class Arrow3D(FancyArrowPatch):\n",
    "    def __init__(self, xs, ys, zs, *args, **kwargs):\n",
    "        FancyArrowPatch.__init__(self, (0,0), (0,0), *args, **kwargs)\n",
    "        self._verts3d = xs, ys, zs\n",
    "\n",
    "    def draw(self, renderer):\n",
    "        xs3d, ys3d, zs3d = self._verts3d\n",
    "        xs, ys, zs = proj3d.proj_transform(xs3d, ys3d, zs3d, renderer.M)\n",
    "        self.set_positions((xs[0],ys[0]),(xs[1],ys[1]))\n",
    "        FancyArrowPatch.draw(self, renderer)"
   ]
  },
  {
   "cell_type": "code",
   "execution_count": 209,
   "metadata": {
    "collapsed": true
   },
   "outputs": [],
   "source": [
    "prgs_org = pickle.load(open(\"all_direct_prgs/all_direct_prgs_7232190.pickle\", \"rb\"))"
   ]
  },
  {
   "cell_type": "code",
   "execution_count": 92,
   "metadata": {
    "collapsed": true
   },
   "outputs": [],
   "source": [
    "adp = pickle.load(open(\"all_direct_prgs/all_direct_prgs_7232190.pickle\", \"rb\"))"
   ]
  },
  {
   "cell_type": "code",
   "execution_count": 49,
   "metadata": {
    "collapsed": true
   },
   "outputs": [],
   "source": [
    "from glob import glob"
   ]
  },
  {
   "cell_type": "code",
   "execution_count": 50,
   "metadata": {
    "collapsed": true
   },
   "outputs": [],
   "source": [
    "files = glob(\"./orbit_out/all_meta_data*.pickle\")"
   ]
  },
  {
   "cell_type": "code",
   "execution_count": null,
   "metadata": {
    "collapsed": true
   },
   "outputs": [],
   "source": [
    "for gal in orbits:"
   ]
  },
  {
   "cell_type": "code",
   "execution_count": 115,
   "metadata": {},
   "outputs": [
    {
     "data": {
      "text/plain": [
       "54"
      ]
     },
     "execution_count": 115,
     "metadata": {},
     "output_type": "execute_result"
    }
   ],
   "source": [
    "orbits[10].nstep_sat_merge"
   ]
  },
  {
   "cell_type": "code",
   "execution_count": 160,
   "metadata": {
    "collapsed": true
   },
   "outputs": [],
   "source": [
    "nnza = np.genfromtxt(\"./nout_nstep_zred_aexp.txt\",\n",
    "                     dtype=[(\"nout\", int),\n",
    "                            (\"nstep\", int),\n",
    "                            (\"zred\", float),\n",
    "                            (\"aexp\", float)])\n",
    "\n",
    "nnza[\"nstep\"] = 62 - nnza[\"nstep\"]\n"
   ]
  },
  {
   "cell_type": "code",
   "execution_count": 148,
   "metadata": {},
   "outputs": [
    {
     "name": "stderr",
     "output_type": "stream",
     "text": [
      "/home/hoseung/Work/hspy/lib/python3.5/site-packages/ipykernel_launcher.py:17: RuntimeWarning: invalid value encountered in greater\n"
     ]
    }
   ],
   "source": [
    "relang=[]\n",
    "spinangls=[]\n",
    "nsteps = []\n",
    "for f in files:\n",
    "    orbits = pickle.load(open(f, \"rb\"))\n",
    "    for gal in orbits:\n",
    "        #if hasattr(gal,\"j_orbit\"):            \n",
    "        if hasattr(gal,\"spinang\") and hasattr(gal,\"relang\"):\n",
    "            relang.append(gal.relang)\n",
    "            spinangls.append(gal.spinang)\n",
    "            nsteps.append(gal.nstep_sat_merge)\n",
    "\n",
    "spinangls = np.array(spinangls)            \n",
    "relang = np.array(relang)\n",
    "nsteps = np.array(nsteps)\n",
    "\n",
    "i_good = (spinangls > 0) * np.isfinite(relang)\n",
    "\n",
    "spinangls = spinangls[i_good]\n",
    "relang = relang[i_good]\n",
    "nsteps = nsteps[i_good]"
   ]
  },
  {
   "cell_type": "code",
   "execution_count": 152,
   "metadata": {},
   "outputs": [
    {
     "data": {
      "text/plain": [
       "array([50, 51, 52, 53, 54, 55, 56])"
      ]
     },
     "execution_count": 152,
     "metadata": {},
     "output_type": "execute_result"
    }
   ],
   "source": [
    "np.unique(nsteps)"
   ]
  },
  {
   "cell_type": "code",
   "execution_count": null,
   "metadata": {
    "collapsed": true
   },
   "outputs": [],
   "source": [
    "nnza"
   ]
  },
  {
   "cell_type": "code",
   "execution_count": 161,
   "metadata": {},
   "outputs": [
    {
     "data": {
      "text/plain": [
       "dtype([('nout', '<i8'), ('nstep', '<i8'), ('zred', '<f8'), ('aexp', '<f8')])"
      ]
     },
     "execution_count": 161,
     "metadata": {},
     "output_type": "execute_result"
    }
   ],
   "source": [
    "nnza.dtype"
   ]
  },
  {
   "cell_type": "code",
   "execution_count": 166,
   "metadata": {},
   "outputs": [],
   "source": [
    "nstep = 56\n",
    "ind = np.where(nsteps == nstep)[0]\n",
    "#plt.scatter(spinangls[ind], relang[ind])\n",
    "\n",
    "fig, ax = plt.subplots(2)\n",
    "fig.suptitle(\"z = {:.1f}\".format(float(nnza[\"zred\"][nnza[\"nstep\"] == nstep])))\n",
    "ax[0].hist(spinangls[ind])\n",
    "ax[1].hist(relang[ind])\n",
    "ax[0].set_xlim([0,180])\n",
    "ax[1].set_xlim([0,180])\n",
    "ax[1].set_xlabel(\"degree\")\n",
    "ax[0].set_title('spin alignment')\n",
    "ax[1].set_title('orbit direction')\n",
    "plt.tight_layout()\n",
    "plt.show()"
   ]
  },
  {
   "cell_type": "code",
   "execution_count": 128,
   "metadata": {},
   "outputs": [],
   "source": [
    "jorbits = np.reshape(np.ravel(jorbits), (len(jorbits),3))"
   ]
  },
  {
   "cell_type": "code",
   "execution_count": 181,
   "metadata": {},
   "outputs": [],
   "source": [
    "all_orbits = pickle.load(open(\"orbit_out/all_meta_data7227920.pickle\", \"rb\"))\n",
    "root_id_set = np.unique([gal.root_sat_id for gal in all_orbits])"
   ]
  },
  {
   "cell_type": "code",
   "execution_count": 182,
   "metadata": {
    "collapsed": true
   },
   "outputs": [
    {
     "data": {
      "text/plain": [
       "array([    -1,    139,    174,    191,    204,    246,    268,    281,\n",
       "          309,    506,    650,    655,    700,    713,    916,   1215,\n",
       "         1441,   1556,   1950,   2861,   3712,   4844,   6963,   7664,\n",
       "         7896,  11369,  22210,  32182,  37444,  37846,  47046,  58723,\n",
       "        61674,  70759,  74352,  75379,  76618,  82059,  87940,  98137,\n",
       "       102350, 103632, 106536, 115562, 124156, 124157, 124158, 124432,\n",
       "       124433, 124434, 124435, 124817, 124818, 124819, 124820, 124821,\n",
       "       124869, 124870, 124871, 124872, 125346, 125347, 125348, 125349,\n",
       "       125350, 125351, 126322, 126323, 126324, 126325, 126326, 128752,\n",
       "       128753, 128754, 128755, 129626, 129627, 129628, 130533, 131902,\n",
       "       131903, 131904, 131905, 131906, 133361, 133362, 133363, 133674,\n",
       "       133675, 133676, 133677, 133678, 134259, 134260, 134261, 135676,\n",
       "       135677, 135678, 135679, 137179, 137180, 137181, 137182, 137346,\n",
       "       137347, 137348, 140851, 140852, 140853, 140854, 141321, 142591,\n",
       "       142592, 142827, 142828, 143244, 143245, 146125, 147195])"
      ]
     },
     "execution_count": 182,
     "metadata": {},
     "output_type": "execute_result"
    }
   ],
   "source": [
    "root_id_set"
   ]
  },
  {
   "cell_type": "code",
   "execution_count": 225,
   "metadata": {},
   "outputs": [
    {
     "name": "stdout",
     "output_type": "stream",
     "text": [
      "-1 23\n",
      "139 17\n",
      "174 14\n",
      "191 18\n",
      "204 8\n",
      "246 4\n",
      "268 15\n",
      "281 11\n",
      "309 19\n",
      "506 20\n",
      "650 10\n",
      "655 6\n",
      "700 9\n",
      "713 12\n",
      "916 5\n",
      "1215 2\n",
      "1441 21\n",
      "1556 3\n",
      "1950 22\n",
      "2861 13\n",
      "3712 1\n",
      "4844 16\n",
      "6963 7\n",
      "7664 5\n",
      "7896 5\n",
      "11369 4\n",
      "22210 20\n",
      "32182 3\n",
      "37444 2\n",
      "37846 7\n",
      "47046 7\n",
      "58723 7\n",
      "61674 8\n",
      "70759 20\n",
      "74352 17\n",
      "75379 1\n",
      "76618 15\n",
      "82059 5\n",
      "87940 8\n",
      "98137 21\n",
      "102350 19\n",
      "103632 10\n",
      "106536 3\n",
      "115562 14\n",
      "124156 20\n",
      "124157 20\n",
      "124158 20\n",
      "124432 22\n",
      "124433 22\n",
      "124434 22\n",
      "124435 22\n",
      "124817 19\n",
      "124818 19\n",
      "124819 19\n",
      "124820 19\n",
      "124821 19\n",
      "124869 21\n",
      "124870 21\n",
      "124871 21\n",
      "124872 21\n",
      "125346 18\n",
      "125347 18\n",
      "125348 18\n",
      "125349 18\n",
      "125350 18\n",
      "125351 18\n",
      "126322 17\n",
      "126323 17\n",
      "126324 17\n",
      "126325 17\n",
      "126326 17\n",
      "128752 15\n",
      "128753 15\n",
      "128754 15\n",
      "128755 15\n",
      "129626 14\n",
      "129627 14\n",
      "129628 14\n",
      "130533 20\n",
      "131902 16\n",
      "131903 16\n",
      "131904 16\n",
      "131905 16\n",
      "131906 16\n",
      "133361 12\n",
      "133362 12\n",
      "133363 12\n",
      "133674 11\n",
      "133675 11\n",
      "133676 11\n",
      "133677 11\n",
      "133678 11\n",
      "134259 13\n",
      "134260 13\n",
      "134261 13\n",
      "135676 10\n",
      "135677 10\n",
      "135678 10\n",
      "135679 10\n",
      "137179 9\n",
      "137180 9\n",
      "137181 9\n",
      "137182 9\n",
      "137346 8\n",
      "137347 8\n",
      "137348 8\n",
      "140851 6\n",
      "140852 6\n",
      "140853 6\n",
      "140854 6\n",
      "141321 4\n",
      "142591 5\n",
      "142592 5\n",
      "142827 4\n",
      "142828 4\n",
      "143244 7\n",
      "143245 7\n",
      "146125 3\n",
      "147195 2\n"
     ]
    }
   ],
   "source": [
    "for root in root_id_set:\n",
    "    orbits = [gal for gal in all_orbits if gal.root_sat_id == root]\n",
    "    print(root, len(orbits))"
   ]
  },
  {
   "cell_type": "code",
   "execution_count": 296,
   "metadata": {
    "collapsed": true
   },
   "outputs": [],
   "source": [
    "orbits = [gal for gal in all_orbits if gal.root_sat_id == [22210,70759,1950][2]]\n",
    "#orbits = [gal for gal in all_orbits if gal.root_sat_id == 70759]"
   ]
  },
  {
   "cell_type": "code",
   "execution_count": 297,
   "metadata": {
    "collapsed": true
   },
   "outputs": [],
   "source": [
    "import matplotlib.cm as cm\n",
    "from matplotlib.colors import Normalize\n",
    "from mpl_toolkits.mplot3d import Axes3D\n",
    "fig = plt.figure()\n",
    "ax = fig.add_subplot(111, projection='3d')"
   ]
  },
  {
   "cell_type": "code",
   "execution_count": 298,
   "metadata": {},
   "outputs": [
    {
     "name": "stdout",
     "output_type": "stream",
     "text": [
      "<matplotlib.colors.ListedColormap object at 0x7fce50d1eef0>\n",
      "<matplotlib.colors.LinearSegmentedColormap object at 0x7fce50cf8518>\n"
     ]
    },
    {
     "name": "stderr",
     "output_type": "stream",
     "text": [
      "/home/hoseung/Work/hspy/lib/python3.5/site-packages/ipykernel_launcher.py:42: RuntimeWarning: invalid value encountered in double_scalars\n",
      "/home/hoseung/Work/hspy/lib/python3.5/site-packages/ipykernel_launcher.py:43: RuntimeWarning: invalid value encountered in double_scalars\n",
      "/home/hoseung/Work/hspy/lib/python3.5/site-packages/ipykernel_launcher.py:44: RuntimeWarning: invalid value encountered in double_scalars\n"
     ]
    },
    {
     "data": {
      "text/plain": [
       "(-7.2212744571945882, 11.015984453938223)"
      ]
     },
     "execution_count": 298,
     "metadata": {},
     "output_type": "execute_result"
    }
   ],
   "source": [
    "for quantity in [\"spin\",\"jorbit\"]:\n",
    "    if quantity == \"spin\":\n",
    "        colormap = cm.inferno\n",
    "        norm = Normalize()\n",
    "    if quantity == \"jorbit\":\n",
    "        colormap = cm.BuPu\n",
    "        norm = Normalize()\n",
    "    \n",
    "    norm_type = [\"nstep\", \"root\", \"fixed\"][0]\n",
    "\n",
    "    if norm_type == \"nstep\":\n",
    "        norm.autoscale(np.arange(62))\n",
    "    if norm_type == \"root\":\n",
    "        norm.autoscale(np.arange(len(root_id_set)))\n",
    "\n",
    "    arrow_scale = 5\n",
    "\n",
    "    xcs = [gal.xc for gal in orbits]\n",
    "    ycs = [gal.yc for gal in orbits]\n",
    "    zcs = [gal.zc for gal in orbits]\n",
    "    print(colormap)\n",
    "    for gal in orbits:\n",
    "        #print(gal.spinang, gal.relang)\n",
    "\n",
    "        if not hasattr(gal, \"j_orbit\"):\n",
    "            continue\n",
    "        if norm_type == \"nstep\":\n",
    "            color = colormap(norm(gal.nstep_sat_merge))\n",
    "        if norm_type == \"root\":\n",
    "            color = colormap(norm(int(np.where(gal.root_sat_id == root_id_set)[0])))\n",
    "        if norm_type == \"fixed\":\n",
    "            color = colormap(100)\n",
    "\n",
    "        if quantity == \"jorbit\":\n",
    "            jor = gal.j_orbit\n",
    "            jsize=np.sqrt(jor[0]**2 + jor[1]**2 + jor[2]**2)\n",
    "        if quantity == \"spin\":\n",
    "            jor = gal.nvec\n",
    "            jsize=np.sqrt(jor[0]**2 + jor[1]**2 + jor[2]**2)\n",
    "        \n",
    "        a = Arrow3D(\n",
    "                [gal.xc,gal.xc+jor[0]/jsize * arrow_scale],\n",
    "                [gal.yc,gal.yc+jor[1]/jsize * arrow_scale],\n",
    "                [gal.zc,gal.zc+jor[2]/jsize * arrow_scale],\n",
    "                mutation_scale=20,\n",
    "                lw=3,\n",
    "                arrowstyle=\"-|>\",\n",
    "                color=color)\n",
    "        ax.add_artist(a)\n",
    "\n",
    "maxdx = 0.6 * max([np.array(xcs).ptp(),\n",
    "                   np.array(ycs).ptp(),\n",
    "                   np.array(zcs).ptp()])\n",
    "ax.set_xlim(np.mean(xcs)-maxdx, np.mean(xcs)+maxdx)\n",
    "ax.set_ylim(np.mean(ycs)-maxdx, np.mean(ycs)+maxdx)\n",
    "ax.set_zlim(np.mean(zcs)-maxdx, np.mean(zcs)+maxdx)"
   ]
  },
  {
   "cell_type": "code",
   "execution_count": 299,
   "metadata": {},
   "outputs": [
    {
     "name": "stderr",
     "output_type": "stream",
     "text": [
      "/home/hoseung/Work/hspy/lib/python3.5/site-packages/matplotlib/axes/_axes.py:545: UserWarning: No labelled objects found. Use label='...' kwarg on individual plots.\n",
      "  warnings.warn(\"No labelled objects found. \"\n"
     ]
    }
   ],
   "source": [
    "plt.legend()\n",
    "plt.show()"
   ]
  },
  {
   "cell_type": "code",
   "execution_count": 287,
   "metadata": {},
   "outputs": [],
   "source": [
    "fig, ax = plt.subplots()\n",
    "ax.scatter(np.arange(10),np.arange(10), c=np.arange(10), cmap=cm.inferno)\n",
    "plt.show()"
   ]
  },
  {
   "cell_type": "code",
   "execution_count": 300,
   "metadata": {},
   "outputs": [
    {
     "data": {
      "text/plain": [
       "1.4213075060532687"
      ]
     },
     "execution_count": 300,
     "metadata": {},
     "output_type": "execute_result"
    }
   ],
   "source": [
    "1/0.413 -1"
   ]
  },
  {
   "cell_type": "code",
   "execution_count": null,
   "metadata": {
    "collapsed": true
   },
   "outputs": [],
   "source": []
  }
 ],
 "metadata": {
  "kernelspec": {
   "display_name": "Python 3",
   "language": "python",
   "name": "python3"
  },
  "language_info": {
   "codemirror_mode": {
    "name": "ipython",
    "version": 3
   },
   "file_extension": ".py",
   "mimetype": "text/x-python",
   "name": "python",
   "nbconvert_exporter": "python",
   "pygments_lexer": "ipython3",
   "version": "3.5.3"
  }
 },
 "nbformat": 4,
 "nbformat_minor": 2
}
