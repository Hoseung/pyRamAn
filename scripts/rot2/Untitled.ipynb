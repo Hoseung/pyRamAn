{
 "cells": [
  {
   "cell_type": "code",
   "execution_count": 1,
   "metadata": {
    "collapsed": false
   },
   "outputs": [
    {
     "name": "stdout",
     "output_type": "stream",
     "text": [
      "Start\n"
     ]
    }
   ],
   "source": [
    "import pickle\n",
    "import numpy as np\n",
    "import matplotlib.pyplot as plt\n",
    "#from galaxymodule.galaxy import Galaxy\n",
    "import tree\n",
    "import collections\n",
    "#from galaxymodule import galaxy\n",
    "import load\n",
    "from galaxymodule import mk_gal_params as mgp\n",
    "from analysis.cal_lambda import *\n",
    "from make_gal import *   # makegal ? \n",
    "\n",
    "nout=782\n",
    "\n",
    "nout_first = 600\n",
    "Mcut = 1e10\n",
    "\n",
    "# Load data\n",
    "\n",
    "#s = load.sim.Sim(nout=nout)\n",
    "#gcat = tree.halomodule.Halo(nout=nout, is_gal=True)\n",
    "print(\"Start\")"
   ]
  },
  {
   "cell_type": "code",
   "execution_count": 4,
   "metadata": {
    "collapsed": true
   },
   "outputs": [],
   "source": [
    "load_prg = True\n",
    "dump_prg = False\n",
    " \n",
    "if not load_prg:\n",
    "    tt = tree.tmtree.Tree(is_gal=True)\n",
    "    print(\"Loading tree done\")\n",
    "\n",
    "    tnow = tt.tree[tt.tree[\"nstep\"]==max(tt.tree[\"nstep\"])]\n",
    "    large_last = tnow[(tnow[\"m\"] > 1) * (tnow[\"m\"] < 2)]\n",
    "\n",
    "    final_idxs = large_last[\"idx\"][large_last[\"id\"] % 10 == 5]\n",
    "    final_ids = large_last[\"id\"][large_last[\"id\"] % 10 == 5]\n",
    "\n",
    "    np.savetxt(\"final_idxs.txt\", final_idxs, fmt='%d')\n",
    "    np.savetxt(\"final_ids.txt\", final_ids, fmt='%d')\n",
    "else: \n",
    "    final_idxs = np.genfromtxt(\"final_idxs.txt\", dtype=\"<i4\")\n",
    "    final_ids = np.genfromtxt(\"final_ids.txt\", dtype=\"<i4\")\n",
    "\n",
    "nnza = np.genfromtxt(\"./nout_nstep_zred_aexp.txt\",\n",
    "                     dtype=[(\"nout\", int),\n",
    "                            (\"nstep\", int),\n",
    "                            (\"zred\", float),\n",
    "                            (\"aexp\", float)])\n",
    "\n",
    "nnza[\"nstep\"] = 62 - nnza[\"nstep\"]\n",
    "#nnza[\"nout\"][:-1] = nnza[\"nout\"][1:] # skip last snapshot\n",
    "\n",
    "# Only for the later time\n",
    "\n",
    "i_good = np.where(final_idxs == 7232190)[0]\n",
    "\n",
    "#"
   ]
  },
  {
   "cell_type": "code",
   "execution_count": 5,
   "metadata": {
    "collapsed": false,
    "scrolled": true
   },
   "outputs": [
    {
     "name": "stdout",
     "output_type": "stream",
     "text": [
      "[Halo.load_info] loading info\n",
      "[Halo.load_info] nout = 733, base =./\n",
      "[Halo.set_info] Couldn't load info file.\n"
     ]
    },
    {
     "ename": "FileNotFoundError",
     "evalue": "[Errno 2] No such file or directory: './snapshots/output_00733/info_00733.txt'",
     "output_type": "error",
     "traceback": [
      "\u001b[0;31m---------------------------------------------------------------------------\u001b[0m",
      "\u001b[0;31mFileNotFoundError\u001b[0m                         Traceback (most recent call last)",
      "\u001b[0;32m<ipython-input-5-2374cfec7134>\u001b[0m in \u001b[0;36m<module>\u001b[0;34m()\u001b[0m\n\u001b[1;32m      4\u001b[0m \u001b[0;32mfor\u001b[0m \u001b[0mnout\u001b[0m \u001b[0;32min\u001b[0m \u001b[0mnnza\u001b[0m\u001b[0;34m[\u001b[0m\u001b[0;34m\"nout\"\u001b[0m\u001b[0;34m]\u001b[0m\u001b[0;34m:\u001b[0m\u001b[0;34m\u001b[0m\u001b[0m\n\u001b[1;32m      5\u001b[0m     \u001b[0;32mif\u001b[0m \u001b[0mnout\u001b[0m \u001b[0;34m>\u001b[0m \u001b[0mnout_first\u001b[0m \u001b[0;32mand\u001b[0m \u001b[0mnout\u001b[0m \u001b[0;34m<=\u001b[0m \u001b[0mnout_end\u001b[0m\u001b[0;34m:\u001b[0m\u001b[0;34m\u001b[0m\u001b[0m\n\u001b[0;32m----> 6\u001b[0;31m         \u001b[0mall_gcats\u001b[0m\u001b[0;34m.\u001b[0m\u001b[0mappend\u001b[0m\u001b[0;34m(\u001b[0m\u001b[0mtree\u001b[0m\u001b[0;34m.\u001b[0m\u001b[0mhalomodule\u001b[0m\u001b[0;34m.\u001b[0m\u001b[0mHalo\u001b[0m\u001b[0;34m(\u001b[0m\u001b[0mnout\u001b[0m\u001b[0;34m=\u001b[0m\u001b[0mnout\u001b[0m\u001b[0;34m,\u001b[0m \u001b[0mis_gal\u001b[0m\u001b[0;34m=\u001b[0m\u001b[0;32mTrue\u001b[0m\u001b[0;34m)\u001b[0m\u001b[0;34m)\u001b[0m\u001b[0;34m\u001b[0m\u001b[0m\n\u001b[0m\u001b[1;32m      7\u001b[0m         \u001b[0mall_infos\u001b[0m\u001b[0;34m.\u001b[0m\u001b[0mappend\u001b[0m\u001b[0;34m(\u001b[0m\u001b[0mload\u001b[0m\u001b[0;34m.\u001b[0m\u001b[0minfo\u001b[0m\u001b[0;34m.\u001b[0m\u001b[0mInfo\u001b[0m\u001b[0;34m(\u001b[0m\u001b[0mnout\u001b[0m\u001b[0;34m=\u001b[0m\u001b[0mnout\u001b[0m\u001b[0;34m)\u001b[0m\u001b[0;34m)\u001b[0m\u001b[0;34m\u001b[0m\u001b[0m\n",
      "\u001b[0;32m/home/hoseung/Work/pyclusterevol/tree/halomodule.py\u001b[0m in \u001b[0;36m__init__\u001b[0;34m(self, convert, **kwargs)\u001b[0m\n\u001b[1;32m    187\u001b[0m     \u001b[0;32mdef\u001b[0m \u001b[0m__init__\u001b[0m\u001b[0;34m(\u001b[0m\u001b[0mself\u001b[0m\u001b[0;34m,\u001b[0m \u001b[0mconvert\u001b[0m\u001b[0;34m=\u001b[0m\u001b[0;32mTrue\u001b[0m\u001b[0;34m,\u001b[0m \u001b[0;34m**\u001b[0m\u001b[0mkwargs\u001b[0m\u001b[0;34m)\u001b[0m\u001b[0;34m:\u001b[0m\u001b[0;34m\u001b[0m\u001b[0m\n\u001b[1;32m    188\u001b[0m         \u001b[0mself\u001b[0m\u001b[0;34m.\u001b[0m\u001b[0mconvert\u001b[0m \u001b[0;34m=\u001b[0m \u001b[0mconvert\u001b[0m\u001b[0;34m\u001b[0m\u001b[0m\n\u001b[0;32m--> 189\u001b[0;31m         \u001b[0msuper\u001b[0m\u001b[0;34m(\u001b[0m\u001b[0mHalo\u001b[0m\u001b[0;34m,\u001b[0m \u001b[0mself\u001b[0m\u001b[0;34m)\u001b[0m\u001b[0;34m.\u001b[0m\u001b[0m__init__\u001b[0m\u001b[0;34m(\u001b[0m\u001b[0;34m**\u001b[0m\u001b[0mkwargs\u001b[0m\u001b[0;34m)\u001b[0m\u001b[0;34m\u001b[0m\u001b[0m\n\u001b[0m\u001b[1;32m    190\u001b[0m \u001b[0;34m\u001b[0m\u001b[0m\n\u001b[1;32m    191\u001b[0m \u001b[0;34m\u001b[0m\u001b[0m\n",
      "\u001b[0;32m/home/hoseung/Work/pyclusterevol/tree/halomodule.py\u001b[0m in \u001b[0;36m__init__\u001b[0;34m(self, nout, base, info, halofinder, load, is_gal, return_id, outdir, verbose)\u001b[0m\n\u001b[1;32m     86\u001b[0m         \u001b[0mself\u001b[0m\u001b[0;34m.\u001b[0m\u001b[0mbase\u001b[0m \u001b[0;34m=\u001b[0m \u001b[0mbase\u001b[0m\u001b[0;34m\u001b[0m\u001b[0m\n\u001b[1;32m     87\u001b[0m         \u001b[0mself\u001b[0m\u001b[0;34m.\u001b[0m\u001b[0minfo\u001b[0m \u001b[0;34m=\u001b[0m \u001b[0;32mNone\u001b[0m\u001b[0;34m\u001b[0m\u001b[0m\n\u001b[0;32m---> 88\u001b[0;31m         \u001b[0mself\u001b[0m\u001b[0;34m.\u001b[0m\u001b[0mset_info\u001b[0m\u001b[0;34m(\u001b[0m\u001b[0minfo\u001b[0m\u001b[0;34m=\u001b[0m\u001b[0minfo\u001b[0m\u001b[0;34m)\u001b[0m\u001b[0;34m\u001b[0m\u001b[0m\n\u001b[0m\u001b[1;32m     89\u001b[0m         \u001b[0mself\u001b[0m\u001b[0;34m.\u001b[0m\u001b[0mrun_params\u001b[0m \u001b[0;34m=\u001b[0m \u001b[0;34m{\u001b[0m\u001b[0;34m\"none\"\u001b[0m\u001b[0;34m:\u001b[0m\u001b[0;32mNone\u001b[0m\u001b[0;34m}\u001b[0m\u001b[0;34m\u001b[0m\u001b[0m\n\u001b[1;32m     90\u001b[0m         \u001b[0;32mif\u001b[0m \u001b[0misinstance\u001b[0m\u001b[0;34m(\u001b[0m\u001b[0mhalofinder\u001b[0m\u001b[0;34m,\u001b[0m \u001b[0mstr\u001b[0m\u001b[0;34m)\u001b[0m\u001b[0;34m:\u001b[0m\u001b[0;34m\u001b[0m\u001b[0m\n",
      "\u001b[0;32m/home/hoseung/Work/pyclusterevol/tree/halomodule.py\u001b[0m in \u001b[0;36mset_info\u001b[0;34m(self, info)\u001b[0m\n\u001b[1;32m    133\u001b[0m         \u001b[0;32mif\u001b[0m \u001b[0minfo\u001b[0m \u001b[0;32mis\u001b[0m \u001b[0;32mNone\u001b[0m\u001b[0;34m:\u001b[0m\u001b[0;34m\u001b[0m\u001b[0m\n\u001b[1;32m    134\u001b[0m             \u001b[0;32mtry\u001b[0m\u001b[0;34m:\u001b[0m\u001b[0;34m\u001b[0m\u001b[0m\n\u001b[0;32m--> 135\u001b[0;31m                 \u001b[0mself\u001b[0m\u001b[0;34m.\u001b[0m\u001b[0m_load_info\u001b[0m\u001b[0;34m(\u001b[0m\u001b[0;34m)\u001b[0m\u001b[0;34m\u001b[0m\u001b[0m\n\u001b[0m\u001b[1;32m    136\u001b[0m             \u001b[0;32mexcept\u001b[0m\u001b[0;34m:\u001b[0m\u001b[0;34m\u001b[0m\u001b[0m\n\u001b[1;32m    137\u001b[0m                 \u001b[0mprint\u001b[0m\u001b[0;34m(\u001b[0m\u001b[0;34m\"[Halo.set_info] Couldn't load info file.\"\u001b[0m\u001b[0;34m)\u001b[0m\u001b[0;34m\u001b[0m\u001b[0m\n",
      "\u001b[0;32m/home/hoseung/Work/pyclusterevol/tree/halomodule.py\u001b[0m in \u001b[0;36m_load_info\u001b[0;34m(self)\u001b[0m\n\u001b[1;32m    147\u001b[0m             \u001b[0mprint\u001b[0m\u001b[0;34m(\u001b[0m\u001b[0;34m\"[Halo.load_info] loading info\"\u001b[0m\u001b[0;34m)\u001b[0m\u001b[0;34m\u001b[0m\u001b[0m\n\u001b[1;32m    148\u001b[0m             \u001b[0mprint\u001b[0m\u001b[0;34m(\u001b[0m\u001b[0;34m\"[Halo.load_info] nout = {}, base ={}\"\u001b[0m\u001b[0;34m.\u001b[0m\u001b[0mformat\u001b[0m\u001b[0;34m(\u001b[0m\u001b[0mself\u001b[0m\u001b[0;34m.\u001b[0m\u001b[0mnout\u001b[0m\u001b[0;34m,\u001b[0m \u001b[0mself\u001b[0m\u001b[0;34m.\u001b[0m\u001b[0mbase\u001b[0m\u001b[0;34m)\u001b[0m\u001b[0;34m)\u001b[0m\u001b[0;34m\u001b[0m\u001b[0m\n\u001b[0;32m--> 149\u001b[0;31m         \u001b[0mself\u001b[0m\u001b[0;34m.\u001b[0m\u001b[0minfo\u001b[0m \u001b[0;34m=\u001b[0m \u001b[0mload\u001b[0m\u001b[0;34m.\u001b[0m\u001b[0minfo\u001b[0m\u001b[0;34m.\u001b[0m\u001b[0mInfo\u001b[0m\u001b[0;34m(\u001b[0m\u001b[0mnout\u001b[0m\u001b[0;34m=\u001b[0m\u001b[0mself\u001b[0m\u001b[0;34m.\u001b[0m\u001b[0mnout\u001b[0m\u001b[0;34m,\u001b[0m \u001b[0mbase\u001b[0m\u001b[0;34m=\u001b[0m\u001b[0mself\u001b[0m\u001b[0;34m.\u001b[0m\u001b[0mbase\u001b[0m\u001b[0;34m,\u001b[0m \u001b[0mload\u001b[0m\u001b[0;34m=\u001b[0m\u001b[0;32mTrue\u001b[0m\u001b[0;34m)\u001b[0m\u001b[0;34m\u001b[0m\u001b[0m\n\u001b[0m\u001b[1;32m    150\u001b[0m         \u001b[0;32mif\u001b[0m \u001b[0mself\u001b[0m\u001b[0;34m.\u001b[0m\u001b[0mverbose\u001b[0m \u001b[0;34m:\u001b[0m \u001b[0mprint\u001b[0m\u001b[0;34m(\u001b[0m\u001b[0;34m\"[Halo.load_info] info is loaded\"\u001b[0m\u001b[0;34m)\u001b[0m\u001b[0;34m\u001b[0m\u001b[0m\n\u001b[1;32m    151\u001b[0m \u001b[0;34m\u001b[0m\u001b[0m\n",
      "\u001b[0;32m/home/hoseung/Work/pyclusterevol/load/info.py\u001b[0m in \u001b[0;36m__init__\u001b[0;34m(self, nout, base, fn, load, data_dir, cosmo)\u001b[0m\n\u001b[1;32m     43\u001b[0m \u001b[0;34m\u001b[0m\u001b[0m\n\u001b[1;32m     44\u001b[0m         \u001b[0;32mif\u001b[0m \u001b[0mnout\u001b[0m \u001b[0;32mis\u001b[0m \u001b[0;32mnot\u001b[0m \u001b[0;32mNone\u001b[0m \u001b[0;32mor\u001b[0m \u001b[0mbase\u001b[0m \u001b[0;32mis\u001b[0m \u001b[0;32mnot\u001b[0m \u001b[0;32mNone\u001b[0m \u001b[0;32mor\u001b[0m \u001b[0mfn\u001b[0m \u001b[0;32mis\u001b[0m \u001b[0;32mnot\u001b[0m \u001b[0;32mNone\u001b[0m\u001b[0;34m:\u001b[0m\u001b[0;34m\u001b[0m\u001b[0m\n\u001b[0;32m---> 45\u001b[0;31m             \u001b[0mself\u001b[0m\u001b[0;34m.\u001b[0m\u001b[0msetup\u001b[0m\u001b[0;34m(\u001b[0m\u001b[0mnout\u001b[0m\u001b[0;34m=\u001b[0m\u001b[0mnout\u001b[0m\u001b[0;34m,\u001b[0m \u001b[0mbase\u001b[0m\u001b[0;34m=\u001b[0m\u001b[0mbase\u001b[0m\u001b[0;34m,\u001b[0m \u001b[0mfn\u001b[0m\u001b[0;34m=\u001b[0m\u001b[0mfn\u001b[0m\u001b[0;34m)\u001b[0m\u001b[0;34m\u001b[0m\u001b[0m\n\u001b[0m\u001b[1;32m     46\u001b[0m         \u001b[0;32mif\u001b[0m \u001b[0mload\u001b[0m\u001b[0;34m:\u001b[0m\u001b[0;34m\u001b[0m\u001b[0m\n\u001b[1;32m     47\u001b[0m             \u001b[0mself\u001b[0m\u001b[0;34m.\u001b[0m\u001b[0mread_info\u001b[0m\u001b[0;34m(\u001b[0m\u001b[0;34m)\u001b[0m\u001b[0;34m\u001b[0m\u001b[0m\n",
      "\u001b[0;32m/home/hoseung/Work/pyclusterevol/load/info.py\u001b[0m in \u001b[0;36msetup\u001b[0;34m(self, nout, base, fn)\u001b[0m\n\u001b[1;32m     61\u001b[0m \u001b[0;34m\u001b[0m\u001b[0m\n\u001b[1;32m     62\u001b[0m         \u001b[0;32mif\u001b[0m \u001b[0mself\u001b[0m\u001b[0;34m.\u001b[0m\u001b[0mall_set\u001b[0m\u001b[0;34m(\u001b[0m\u001b[0;34m)\u001b[0m\u001b[0;34m:\u001b[0m\u001b[0;34m\u001b[0m\u001b[0m\n\u001b[0;32m---> 63\u001b[0;31m             \u001b[0mself\u001b[0m\u001b[0;34m.\u001b[0m\u001b[0mread_info\u001b[0m\u001b[0;34m(\u001b[0m\u001b[0;34m)\u001b[0m  \u001b[0;31m# sets ncpu_tot,\u001b[0m\u001b[0;34m\u001b[0m\u001b[0m\n\u001b[0m\u001b[1;32m     64\u001b[0m \u001b[0;34m\u001b[0m\u001b[0m\n\u001b[1;32m     65\u001b[0m \u001b[0;34m\u001b[0m\u001b[0m\n",
      "\u001b[0;32m/home/hoseung/Work/pyclusterevol/load/info.py\u001b[0m in \u001b[0;36mread_info\u001b[0;34m(self, base, nout, verbose)\u001b[0m\n\u001b[1;32m    167\u001b[0m     \u001b[0;32mdef\u001b[0m \u001b[0mread_info\u001b[0m\u001b[0;34m(\u001b[0m\u001b[0mself\u001b[0m\u001b[0;34m,\u001b[0m \u001b[0mbase\u001b[0m\u001b[0;34m=\u001b[0m\u001b[0;32mNone\u001b[0m\u001b[0;34m,\u001b[0m \u001b[0mnout\u001b[0m\u001b[0;34m=\u001b[0m\u001b[0;32mNone\u001b[0m\u001b[0;34m,\u001b[0m \u001b[0mverbose\u001b[0m\u001b[0;34m=\u001b[0m\u001b[0;32mFalse\u001b[0m\u001b[0;34m)\u001b[0m\u001b[0;34m:\u001b[0m\u001b[0;34m\u001b[0m\u001b[0m\n\u001b[1;32m    168\u001b[0m         \u001b[0;34m\"\"\" backward compatibility. but use .load instead\"\"\"\u001b[0m\u001b[0;34m\u001b[0m\u001b[0m\n\u001b[0;32m--> 169\u001b[0;31m         \u001b[0mself\u001b[0m\u001b[0;34m.\u001b[0m\u001b[0mload\u001b[0m\u001b[0;34m(\u001b[0m\u001b[0mbase\u001b[0m\u001b[0;34m=\u001b[0m\u001b[0mbase\u001b[0m\u001b[0;34m,\u001b[0m \u001b[0mnout\u001b[0m\u001b[0;34m=\u001b[0m\u001b[0mnout\u001b[0m\u001b[0;34m,\u001b[0m \u001b[0mverbose\u001b[0m\u001b[0;34m=\u001b[0m\u001b[0mverbose\u001b[0m\u001b[0;34m)\u001b[0m\u001b[0;34m\u001b[0m\u001b[0m\n\u001b[0m\u001b[1;32m    170\u001b[0m \u001b[0;34m\u001b[0m\u001b[0m\n\u001b[1;32m    171\u001b[0m     \u001b[0;32mdef\u001b[0m \u001b[0mload\u001b[0m\u001b[0;34m(\u001b[0m\u001b[0mself\u001b[0m\u001b[0;34m,\u001b[0m \u001b[0mbase\u001b[0m\u001b[0;34m=\u001b[0m\u001b[0;32mNone\u001b[0m\u001b[0;34m,\u001b[0m \u001b[0mnout\u001b[0m\u001b[0;34m=\u001b[0m\u001b[0;32mNone\u001b[0m\u001b[0;34m,\u001b[0m \u001b[0mverbose\u001b[0m\u001b[0;34m=\u001b[0m\u001b[0;32mFalse\u001b[0m\u001b[0;34m)\u001b[0m\u001b[0;34m:\u001b[0m\u001b[0;34m\u001b[0m\u001b[0m\n",
      "\u001b[0;32m/home/hoseung/Work/pyclusterevol/load/info.py\u001b[0m in \u001b[0;36mload\u001b[0;34m(self, base, nout, verbose)\u001b[0m\n\u001b[1;32m    191\u001b[0m             \u001b[0mprint\u001b[0m\u001b[0;34m(\u001b[0m\u001b[0mself\u001b[0m\u001b[0;34m.\u001b[0m\u001b[0mfn\u001b[0m\u001b[0;34m)\u001b[0m\u001b[0;34m\u001b[0m\u001b[0m\n\u001b[1;32m    192\u001b[0m \u001b[0;34m\u001b[0m\u001b[0m\n\u001b[0;32m--> 193\u001b[0;31m         \u001b[0;32mwith\u001b[0m \u001b[0mopen\u001b[0m\u001b[0;34m(\u001b[0m\u001b[0mself\u001b[0m\u001b[0;34m.\u001b[0m\u001b[0mfn\u001b[0m\u001b[0;34m)\u001b[0m \u001b[0;32mas\u001b[0m \u001b[0mf\u001b[0m\u001b[0;34m:\u001b[0m\u001b[0;34m\u001b[0m\u001b[0m\n\u001b[0m\u001b[1;32m    194\u001b[0m             \u001b[0marr1\u001b[0m \u001b[0;34m=\u001b[0m \u001b[0;34m[\u001b[0m\u001b[0;34m]\u001b[0m\u001b[0;34m\u001b[0m\u001b[0m\n\u001b[1;32m    195\u001b[0m             \u001b[0marr2\u001b[0m \u001b[0;34m=\u001b[0m \u001b[0;34m[\u001b[0m\u001b[0;34m]\u001b[0m\u001b[0;34m\u001b[0m\u001b[0m\n",
      "\u001b[0;31mFileNotFoundError\u001b[0m: [Errno 2] No such file or directory: './snapshots/output_00733/info_00733.txt'"
     ]
    }
   ],
   "source": [
    "all_gcats=[]\n",
    "all_infos=[]\n",
    "nout_end = 733\n",
    "for nout in nnza[\"nout\"]:\n",
    "    if nout > nout_first and nout <= nout_end:\n",
    "        all_gcats.append(tree.halomodule.Halo(nout=nout, is_gal=True))\n",
    "        all_infos.append(load.info.Info(nout=nout))"
   ]
  },
  {
   "cell_type": "code",
   "execution_count": 7,
   "metadata": {
    "collapsed": true
   },
   "outputs": [],
   "source": [
    "for fid,fidx in zip(final_ids[i_good], final_idxs[i_good]):\n",
    "    if load_prg:\n",
    "        adp = pickle.load(open(\"./all_direct_prgs/all_direct_prgs_\"+str(fidx)+\".pickle\", \"rb\"))\n",
    "    else:\n",
    "        maintree, idx_prgs_alltime = tt.extract_direct_full_tree(fidx)\n",
    "        adp = tt.get_all_trees(idx_prgs_alltime)\n",
    "        if dump_prg: \n",
    "            pickle.dump(adp, open(\"./all_direct_prgs/all_direct_prgs_\"+str(fidx)+\".pickle\", \"wb\"))"
   ]
  },
  {
   "cell_type": "code",
   "execution_count": 12,
   "metadata": {
    "collapsed": true
   },
   "outputs": [
    {
     "name": "stdout",
     "output_type": "stream",
     "text": [
      "1\n",
      "11\n",
      "10\n",
      "10\n",
      "8\n",
      "5\n",
      "8\n",
      "10\n",
      "7\n",
      "7\n",
      "7\n",
      "6\n",
      "5\n",
      "6\n",
      "5\n",
      "8\n",
      "5\n",
      "6\n",
      "6\n",
      "6\n",
      "5\n",
      "4\n",
      "4\n",
      "2\n",
      "4\n",
      "3\n",
      "2\n",
      "2\n",
      "5\n",
      "1\n",
      "2\n",
      "3\n",
      "4\n",
      "1\n",
      "2\n",
      "3\n",
      "3\n",
      "4\n",
      "3\n",
      "3\n",
      "2\n",
      "2\n",
      "1\n",
      "1\n",
      "1\n",
      "1\n",
      "1\n",
      "1\n",
      "1\n",
      "2\n",
      "2\n",
      "1\n",
      "1\n",
      "1\n",
      "1\n",
      "0\n"
     ]
    }
   ],
   "source": [
    "for step in adp:\n",
    "    print(len(step))"
   ]
  },
  {
   "cell_type": "code",
   "execution_count": 17,
   "metadata": {
    "collapsed": true
   },
   "outputs": [
    {
     "name": "stdout",
     "output_type": "stream",
     "text": [
      "1\n",
      "11\n",
      "10\n",
      "10\n",
      "8\n",
      "5\n",
      "8\n",
      "10\n",
      "7\n",
      "7\n",
      "7\n",
      "6\n",
      "5\n",
      "6\n",
      "5\n",
      "8\n",
      "5\n",
      "6\n",
      "6\n",
      "6\n",
      "5\n",
      "4\n",
      "4\n",
      "2\n",
      "4\n",
      "3\n",
      "2\n",
      "2\n",
      "5\n",
      "1\n",
      "2\n",
      "3\n",
      "4\n",
      "1\n",
      "2\n",
      "3\n",
      "3\n",
      "4\n",
      "3\n",
      "3\n",
      "2\n",
      "2\n",
      "1\n",
      "1\n",
      "1\n",
      "1\n",
      "1\n",
      "1\n",
      "1\n",
      "2\n",
      "2\n",
      "1\n",
      "1\n",
      "1\n",
      "1\n",
      "0\n"
     ]
    }
   ],
   "source": [
    "for sats_in_this_step in adp:\n",
    "    print(len(sats_in_this_step))"
   ]
  },
  {
   "cell_type": "code",
   "execution_count": 18,
   "metadata": {
    "collapsed": false
   },
   "outputs": [
    {
     "name": "stdout",
     "output_type": "stream",
     "text": [
      "11\n"
     ]
    }
   ],
   "source": [
    "all_data=[]\n",
    "for sats_in_this_step in adp[1:2]:\n",
    "    # only for the mergers at last nout.\n",
    "    # nout_now = nnza[\"nout\"][np.abs(aexp - nnza[\"aexp\"]).argmin()]\n",
    "\n",
    "    nstep_this_merge = sats_in_this_step[0][0][\"nstep\"]\n",
    "    id_host_this_step = sats_in_this_step[0][0][\"id\"]\n",
    "    inout = np.where(nnza[\"nstep\"] == nstep_this_merge)[0][0]\n",
    "    nout_now=nnza[\"nout\"][inout]\n",
    "    if nout_now < nout_first:\n",
    "        continue\n",
    "    #gcat = all_gcats[inout]\n",
    "    #gg = load.rd_GM.Gal(nout=nout_now,\n",
    "    #                    catalog=np.copy(gcat.data[id_host_this_step-1]),\n",
    "    #                    info=all_infos[inout])\n",
    "    #gg.debug=False\n",
    "    #mk_gal(gg,**mgp.HAGN)\n",
    "    #gg.cal_norm_vec()\n",
    "    # Make sure that the catalog is not modified.\n",
    "    print(len(sats_in_this_step))"
   ]
  },
  {
   "cell_type": "code",
   "execution_count": 6,
   "metadata": {
    "collapsed": false
   },
   "outputs": [
    {
     "ename": "IndexError",
     "evalue": "list index out of range",
     "output_type": "error",
     "traceback": [
      "\u001b[0;31m---------------------------------------------------------------------------\u001b[0m",
      "\u001b[0;31mIndexError\u001b[0m                                Traceback (most recent call last)",
      "\u001b[0;32m<ipython-input-6-3df6581b0243>\u001b[0m in \u001b[0;36m<module>\u001b[0;34m()\u001b[0m\n\u001b[1;32m     19\u001b[0m         \u001b[0;32mif\u001b[0m \u001b[0mnout_now\u001b[0m \u001b[0;34m<\u001b[0m \u001b[0mnout_first\u001b[0m\u001b[0;34m:\u001b[0m\u001b[0;34m\u001b[0m\u001b[0m\n\u001b[1;32m     20\u001b[0m             \u001b[0;32mcontinue\u001b[0m\u001b[0;34m\u001b[0m\u001b[0m\n\u001b[0;32m---> 21\u001b[0;31m         \u001b[0mgcat\u001b[0m \u001b[0;34m=\u001b[0m \u001b[0mall_gcats\u001b[0m\u001b[0;34m[\u001b[0m\u001b[0minout\u001b[0m\u001b[0;34m]\u001b[0m\u001b[0;34m\u001b[0m\u001b[0m\n\u001b[0m\u001b[1;32m     22\u001b[0m         gg = load.rd_GM.Gal(nout=nout_now,\n\u001b[1;32m     23\u001b[0m                             \u001b[0mcatalog\u001b[0m\u001b[0;34m=\u001b[0m\u001b[0mnp\u001b[0m\u001b[0;34m.\u001b[0m\u001b[0mcopy\u001b[0m\u001b[0;34m(\u001b[0m\u001b[0mgcat\u001b[0m\u001b[0;34m.\u001b[0m\u001b[0mdata\u001b[0m\u001b[0;34m[\u001b[0m\u001b[0mid_host_this_step\u001b[0m\u001b[0;34m-\u001b[0m\u001b[0;36m1\u001b[0m\u001b[0;34m]\u001b[0m\u001b[0;34m)\u001b[0m\u001b[0;34m,\u001b[0m\u001b[0;34m\u001b[0m\u001b[0m\n",
      "\u001b[0;31mIndexError\u001b[0m: list index out of range"
     ]
    }
   ],
   "source": [
    "if len(sats_in_this_step) > 1:\n",
    "     # Has merger (0 = self)\n",
    "    for this_sat in sats_in_this_step:\n",
    "        if this_sat is None:\n",
    "            continue\n",
    "        print(\"Going through a satellite, # steps = \", len(this_sat))\n",
    "        # progenitor of each satellite\n",
    "        for istep, sat in enumerate(this_sat): \n",
    "            nstep_sat = sat[\"nstep\"]\n",
    "            inout_sat =np.where(nnza[\"nstep\"] == nstep_sat)[0]\n",
    "            nout_sat = nnza[\"nout\"][inout_sat]\n",
    "\n",
    "            print(\"SAT -progenitor \\n\", nstep_sat, nout_sat)\n",
    "            if nout_sat < nout_first:\n",
    "                continue\n",
    "            print(istep, inout)\n",
    "\n",
    "            #nout_sat = all_nouts[istep + inout] # from 782 to 43\n",
    "            #only at the last moment\n",
    "            rel_pos = (gg.header[\"xg\"] - sat[\"xp\"])*1e3 # in kpc\n",
    "            rel_vel = gg.header[\"vg\"] - sat[\"vp\"] \n",
    "            jx,jy,jz = np.cross(rel_pos, rel_vel)\n",
    "            j_orbital=(jx,jy,jz)/np.sqrt(jx**2 + jy**2 + jz**2)\n",
    "\n",
    "            # spin alignment\n",
    "            gcat_now = all_gcats[inout_sat]\n",
    "            info_now = all_infos[inout_sat]\n",
    "            try:\n",
    "                print(sat[\"xp\"])\n",
    "                gsat = load.rd_GM.Gal(nout=nout_sat,\n",
    "                       catalog=np.copy(gcat_now.data[sat[\"id\"]-1]),\n",
    "                       info=info_now)    \n",
    "                gsat.debug = False\n",
    "                mk_gal(gsat, **mgp.HAGN)\n",
    "\n",
    "                gsat.cal_norm_vec()\n",
    "                print(gsat.meta.xc)\n",
    "                # orbit\n",
    "                gsat.meta.j_orbit = (jx,jy,jz)\n",
    "                gsat.meta.relang = 180 / np.pi * np.arccos(np.dot(gg.meta.nvec, j_orbital))\n",
    "                # spin\n",
    "                gsat.meta.spinang = 180./np.pi*np.arccos(np.dot(gg.meta.nvec, gsat.meta.nvec))\n",
    "            except:\n",
    "                print(\"failed : \",sat[\"id\"])\n",
    "                #this_sat_spinang.append(-1)\n",
    "                gsat.meta.spinang = -1.\n",
    "            # tree information\n",
    "            gsat.meta.root_id = fid\n",
    "            gsat.meta.root_idx = fidx\n",
    "            gsat.meta.root_sat_id = this_sat[\"id\"]\n",
    "            gsat.meta.root_sat_idx = this_sat[\"idx\"]\n",
    "            gsat.meta.nstep_merge = nnza[\"nstep\"][inout]\n",
    "            gsat.meta.nout_merge = nout_now\n",
    "            gsat.meta.nstep_sat_merge = nnza[\"nstep\"][istep + inout]\n",
    "            gsat.meta.nout_sat_merge = nout_sat\n",
    "            all_data.append(gsat.meta) \n",
    "pickle.dump(all_data, open(\"all_meta_data\"+str(fidx)+\".pickle\", \"wb\"))"
   ]
  },
  {
   "cell_type": "code",
   "execution_count": null,
   "metadata": {
    "collapsed": true
   },
   "outputs": [],
   "source": []
  }
 ],
 "metadata": {
  "kernelspec": {
   "display_name": "Python 3",
   "language": "python",
   "name": "python3"
  },
  "language_info": {
   "codemirror_mode": {
    "name": "ipython",
    "version": 3
   },
   "file_extension": ".py",
   "mimetype": "text/x-python",
   "name": "python",
   "nbconvert_exporter": "python",
   "pygments_lexer": "ipython3",
   "version": "3.6.0"
  }
 },
 "nbformat": 4,
 "nbformat_minor": 2
}
