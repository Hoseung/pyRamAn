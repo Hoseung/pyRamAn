{
 "cells": [
  {
   "cell_type": "code",
   "execution_count": 1,
   "metadata": {
    "collapsed": true
   },
   "outputs": [],
   "source": [
    "import load\n",
    "import numpy as np\n",
    "import matplotlib\n",
    "matplotlib.use(\"Qt5Agg\")\n",
    "import matplotlib.pyplot as plt"
   ]
  },
  {
   "cell_type": "code",
   "execution_count": 69,
   "metadata": {},
   "outputs": [
    {
     "name": "stdout",
     "output_type": "stream",
     "text": [
      "[Halo.load_info] loading info\n",
      "[Halo.load_info] nout = 782, base =./\n"
     ]
    }
   ],
   "source": [
    "import tree\n",
    "gcat = tree.halomodule.Halo(nout=782, is_gal=True)"
   ]
  },
  {
   "cell_type": "code",
   "execution_count": 5,
   "metadata": {},
   "outputs": [
    {
     "name": "stdout",
     "output_type": "stream",
     "text": [
      "[sim._hilbert_cpulist] No AMR instance,\n",
      "[sim._hilbert_cpulist] Loading one...\n",
      "An AMR instance is created\n",
      " Sim\n",
      "An AMR instance is created\n",
      " Sim\n",
      "Simulation set up.\n"
     ]
    }
   ],
   "source": [
    "s = load.sim.Sim(nout=782)"
   ]
  },
  {
   "cell_type": "code",
   "execution_count": 70,
   "metadata": {},
   "outputs": [
    {
     "name": "stdout",
     "output_type": "stream",
     "text": [
      "info <load.info.Info object at 0x7ff23d3233c8>\n",
      "File Not Found: ./halo/HAL_00782/hal_dms_0000005\n",
      "No DM data loaded\n",
      "File Not Found: ./GalaxyMaker/CELL_00782/gal_cells_0000005\n",
      "No CELL data loaded\n",
      "catalog center 45.4466552734375 -50.32125473022461 -16.45562744140625\n",
      "star x [ 45.449  45.443  45.494 ...,  45.45   45.45   45.448]\n",
      "star x [  2.796  -3.525  47.333 ...,   3.521   3.613   1.667]\n",
      "gal.debug False\n"
     ]
    },
    {
     "data": {
      "text/plain": [
       "array([ 0.728,  0.681, -0.081])"
      ]
     },
     "execution_count": 70,
     "metadata": {},
     "output_type": "execute_result"
    }
   ],
   "source": [
    "gg1 = load.rd_GM.Gal(782, catalog=gcat.data[4], info=s.info)\n",
    "gg1.debug=False\n",
    "mk_gal(gg1)\n",
    "gg1.cal_norm_vec()\n",
    "#gg1.meta.nvec"
   ]
  },
  {
   "cell_type": "code",
   "execution_count": 71,
   "metadata": {},
   "outputs": [
    {
     "name": "stdout",
     "output_type": "stream",
     "text": [
      "info <load.info.Info object at 0x7ff23d3233c8>\n",
      "File Not Found: ./halo/HAL_00782/hal_dms_0000155\n",
      "No DM data loaded\n",
      "File Not Found: ./GalaxyMaker/CELL_00782/gal_cells_0000155\n",
      "No CELL data loaded\n",
      "catalog center -19.426969528198242 -27.764034271240234 55.44676971435547\n",
      "star x [-19.433 -19.427 -19.436 ..., -19.424 -19.426 -19.428]\n",
      "star x [-6.231 -0.326 -8.995 ...,  3.101  0.526 -0.834]\n",
      "gal.debug False\n"
     ]
    },
    {
     "data": {
      "text/plain": [
       "array([ 0.726,  0.325, -0.606])"
      ]
     },
     "execution_count": 71,
     "metadata": {},
     "output_type": "execute_result"
    }
   ],
   "source": [
    "gg2 = load.rd_GM.Gal(782, catalog=gcat.data[154], info=s.info)\n",
    "gg2.debug=False\n",
    "mk_gal(gg2)\n",
    "gg2.cal_norm_vec()\n",
    "#gg2.meta.nvec"
   ]
  },
  {
   "cell_type": "code",
   "execution_count": 79,
   "metadata": {},
   "outputs": [],
   "source": [
    "fig, ax = plt.subplots()\n",
    "ax.hist2d(np.concatenate((gg1.star[\"x\"]-65, gg2.star[\"x\"])),\n",
    "           np.concatenate((gg1.star[\"y\"]+22.5, gg2.star[\"y\"])),\n",
    "           weights=np.concatenate((gg1.star[\"m\"], gg2.star[\"m\"])),\n",
    "           bins=100)\n",
    "patch =Arrow(0, 0,\n",
    "             gg2.meta.nvec[0]*30,\n",
    "             gg2.meta.nvec[1]*30, width=4.0)\n",
    "ax.add_patch(patch)\n",
    "#plt.show()"
   ]
  },
  {
   "cell_type": "code",
   "execution_count": 65,
   "metadata": {
    "collapsed": true
   },
   "outputs": [],
   "source": [
    "from makegal import *"
   ]
  },
  {
   "cell_type": "code",
   "execution_count": 48,
   "metadata": {
    "collapsed": true
   },
   "outputs": [],
   "source": [
    "from matplotlib.pyplot import Arrow"
   ]
  },
  {
   "cell_type": "code",
   "execution_count": 74,
   "metadata": {},
   "outputs": [
    {
     "data": {
      "text/plain": [
       "array([ 0.726,  0.325, -0.606])"
      ]
     },
     "execution_count": 74,
     "metadata": {},
     "output_type": "execute_result"
    }
   ],
   "source": [
    "gg2.meta.nvec"
   ]
  },
  {
   "cell_type": "code",
   "execution_count": 80,
   "metadata": {},
   "outputs": [
    {
     "data": {
      "text/plain": [
       "<matplotlib.patches.Arrow at 0x7ff22cb6c780>"
      ]
     },
     "execution_count": 80,
     "metadata": {},
     "output_type": "execute_result"
    }
   ],
   "source": [
    "fig, ax = plt.subplots()\n",
    "ax.add_patch(Arrow(-11971.5690613, 21085.0448608,\n",
    "                   -11996.4625223, 21070.5452283))\n"
   ]
  },
  {
   "cell_type": "code",
   "execution_count": 83,
   "metadata": {
    "collapsed": true
   },
   "outputs": [],
   "source": [
    "plt.show()"
   ]
  },
  {
   "cell_type": "code",
   "execution_count": 82,
   "metadata": {},
   "outputs": [
    {
     "data": {
      "text/plain": [
       "<matplotlib.patches.Arrow at 0x7ff22020c630>"
      ]
     },
     "execution_count": 82,
     "metadata": {},
     "output_type": "execute_result"
    }
   ],
   "source": [
    "fig, ax = plt.subplots()\n",
    "ax.add_patch(Arrow(-1., 2,\n",
    "                   4., 4))\n"
   ]
  },
  {
   "cell_type": "code",
   "execution_count": null,
   "metadata": {
    "collapsed": true
   },
   "outputs": [],
   "source": []
  }
 ],
 "metadata": {
  "kernelspec": {
   "display_name": "Python 3",
   "language": "python",
   "name": "python3"
  },
  "language_info": {
   "codemirror_mode": {
    "name": "ipython",
    "version": 3
   },
   "file_extension": ".py",
   "mimetype": "text/x-python",
   "name": "python",
   "nbconvert_exporter": "python",
   "pygments_lexer": "ipython3",
   "version": "3.5.3"
  }
 },
 "nbformat": 4,
 "nbformat_minor": 2
}
