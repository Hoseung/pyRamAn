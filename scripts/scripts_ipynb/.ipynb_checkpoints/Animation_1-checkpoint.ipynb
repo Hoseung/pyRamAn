{
 "cells": [
  {
   "cell_type": "code",
   "execution_count": 4,
   "metadata": {
    "collapsed": true
   },
   "outputs": [],
   "source": [
    "from mpl_toolkits.mplot3d import art3d\n",
    "\n",
    "def rotation_matrix(d):\n",
    "    \"\"\"\n",
    "    Calculates a rotation matrix given a vector d. The direction of d\n",
    "    corresponds to the rotation axis. The length of d corresponds to \n",
    "    the sin of the angle of rotation.\n",
    "\n",
    "    Variant of: http://mail.scipy.org/pipermail/numpy-discussion/2009-March/040806.html\n",
    "    \"\"\"\n",
    "    sin_angle = np.linalg.norm(d)\n",
    "\n",
    "    if sin_angle == 0:\n",
    "        return np.identity(3)\n",
    "\n",
    "    d /= sin_angle\n",
    "\n",
    "    eye = np.eye(3)\n",
    "    ddt = np.outer(d, d)\n",
    "    skew = np.array([[    0,  d[2],  -d[1]],\n",
    "                  [-d[2],     0,  d[0]],\n",
    "                  [d[1], -d[0],    0]], dtype=np.float64)\n",
    "\n",
    "    M = ddt + np.sqrt(1 - sin_angle**2) * (eye - ddt) + sin_angle * skew\n",
    "    return M\n",
    "\n",
    "def pathpatch_2d_to_3d(pathpatch, z = 0, normal = 'z'):\n",
    "    \"\"\"\n",
    "    Transforms a 2D Patch to a 3D patch using the given normal vector.\n",
    "\n",
    "    The patch is projected into they XY plane, rotated about the origin\n",
    "    and finally translated by z.\n",
    "    \"\"\"\n",
    "    if type(normal) is str: #Translate strings to normal vectors\n",
    "        index = \"xyz\".index(normal)\n",
    "        normal = np.roll((1.0,0,0), index)\n",
    "\n",
    "    normal /= np.linalg.norm(normal) #Make sure the vector is normalised\n",
    "\n",
    "    path = pathpatch.get_path() #Get the path and the associated transform\n",
    "    trans = pathpatch.get_patch_transform()\n",
    "\n",
    "    path = trans.transform_path(path) #Apply the transform\n",
    "\n",
    "    pathpatch.__class__ = art3d.PathPatch3D #Change the class\n",
    "    pathpatch._code3d = path.codes #Copy the codes\n",
    "    pathpatch._facecolor3d = pathpatch.get_facecolor #Get the face color    \n",
    "\n",
    "    verts = path.vertices #Get the vertices in 2D\n",
    "\n",
    "    d = np.cross(normal, (0, 0, 1)) #Obtain the rotation vector    \n",
    "    M = rotation_matrix(d) #Get the rotation matrix\n",
    "\n",
    "    pathpatch._segment3d = np.array([np.dot(M, (x, y, 0)) + (0, 0, z) for x, y in verts])\n",
    "\n",
    "def pathpatch_translate(pathpatch, delta):\n",
    "    \"\"\"\n",
    "    Translates the 3D pathpatch by the amount delta.\n",
    "    \"\"\"\n",
    "    pathpatch._segment3d += delta"
   ]
  },
  {
   "cell_type": "code",
   "execution_count": 8,
   "metadata": {
    "collapsed": false
   },
   "outputs": [],
   "source": [
    "from mpl_toolkits.mplot3d import proj3d\n",
    "from matplotlib.patches import Circle\n",
    "from itertools import product\n",
    "\n",
    "#ax = axes(projection = '3d') #Create axes\n",
    "fig = plt.figure()\n",
    "ax = fig.add_subplot(111, projection='3d')\n",
    "\n",
    "p = Circle((0,0), .2) #Add a circle in the yz plane\n",
    "ax.add_patch(p)\n",
    "pathpatch_2d_to_3d(p, z = 0.5, normal = 'x')\n",
    "pathpatch_translate(p, (0, 0.5, 0))\n",
    "\n",
    "p = Circle((0,0), .2, facecolor = 'r') #Add a circle in the xz plane\n",
    "ax.add_patch(p)\n",
    "pathpatch_2d_to_3d(p, z = 0.5, normal = 'y')\n",
    "pathpatch_translate(p, (0.5, 1, 0))\n",
    "\n",
    "p = Circle((0,0), .2, facecolor = 'g') #Add a circle in the xy plane\n",
    "ax.add_patch(p)\n",
    "pathpatch_2d_to_3d(p, z = 0, normal = 'z')\n",
    "pathpatch_translate(p, (0.5, 0.5, 0))\n",
    "\n",
    "for normal in product((-1, 1), repeat = 3):\n",
    "    p = Circle((0,0), .2, facecolor = 'y', alpha = .2)\n",
    "    ax.add_patch(p)\n",
    "    pathpatch_2d_to_3d(p, z = 0, normal = normal)\n",
    "    pathpatch_translate(p, 0.5)"
   ]
  },
  {
   "cell_type": "code",
   "execution_count": 9,
   "metadata": {
    "collapsed": true
   },
   "outputs": [],
   "source": [
    "plt.show()"
   ]
  },
  {
   "cell_type": "code",
   "execution_count": 12,
   "metadata": {
    "collapsed": false
   },
   "outputs": [],
   "source": [
    "fig = plt.figure()\n",
    "ax = fig.add_subplot(111, projection='3d')\n",
    "\n",
    "p = Circle((0,0), .2, facecolor = 'y', alpha = .2)\n",
    "ax.add_patch(p)\n",
    "pathpatch_2d_to_3d(p, z = 0, normal = normal)\n",
    "pathpatch_translate(p, 0.5)\n",
    "plt.show()"
   ]
  },
  {
   "cell_type": "code",
   "execution_count": null,
   "metadata": {
    "collapsed": true
   },
   "outputs": [],
   "source": []
  },
  {
   "cell_type": "code",
   "execution_count": null,
   "metadata": {
    "collapsed": true
   },
   "outputs": [],
   "source": []
  },
  {
   "cell_type": "code",
   "execution_count": null,
   "metadata": {
    "collapsed": true
   },
   "outputs": [],
   "source": []
  },
  {
   "cell_type": "code",
   "execution_count": 1,
   "metadata": {
    "collapsed": false
   },
   "outputs": [],
   "source": [
    "# update a distribution based on new data.\n",
    "import numpy as np\n",
    "import matplotlib\n",
    "matplotlib.use(\"Qt4Agg\")\n",
    "import matplotlib.pyplot as plt\n",
    "import scipy.stats as ss\n",
    "from matplotlib.animation import FuncAnimation\n",
    "\n",
    "\n",
    "class UpdateDist(object):\n",
    "    def __init__(self, ax, prob=0.5):\n",
    "        self.success = 0\n",
    "        self.prob = prob\n",
    "        self.line, = ax.plot([], [], 'k-')\n",
    "        self.x = np.linspace(0, 1, 200)\n",
    "        self.ax = ax\n",
    "\n",
    "        # Set up plot parameters\n",
    "        self.ax.set_xlim(0, 1)\n",
    "        self.ax.set_ylim(0, 15)\n",
    "        self.ax.grid(True)\n",
    "\n",
    "        # This vertical line represents the theoretical value, to\n",
    "        # which the plotted distribution should converge.\n",
    "        self.ax.axvline(prob, linestyle='--', color='black')\n",
    "\n",
    "    def init(self):\n",
    "        self.success = 0\n",
    "        self.line.set_data([], [])\n",
    "        return self.line,\n",
    "\n",
    "    def __call__(self, i):\n",
    "        # This way the plot can continuously run and we just keep\n",
    "        # watching new realizations of the process\n",
    "        if i == 0:\n",
    "            return self.init()\n",
    "\n",
    "        # Choose success based on exceed a threshold with a uniform pick\n",
    "        if np.random.rand(1,) < self.prob:\n",
    "            self.success += 1\n",
    "        y = ss.beta.pdf(self.x, self.success + 1, (i - self.success) + 1)\n",
    "        self.line.set_data(self.x, y)\n",
    "        return self.line,\n",
    "\n",
    "fig, ax = plt.subplots()\n",
    "ud = UpdateDist(ax, prob=0.7)\n",
    "anim = FuncAnimation(fig, ud, frames=np.arange(100), init_func=ud.init,\n",
    "                     interval=100, blit=True)\n",
    "plt.show()"
   ]
  },
  {
   "cell_type": "code",
   "execution_count": null,
   "metadata": {
    "collapsed": true
   },
   "outputs": [],
   "source": []
  }
 ],
 "metadata": {
  "kernelspec": {
   "display_name": "Python 3",
   "language": "python",
   "name": "python3"
  },
  "language_info": {
   "codemirror_mode": {
    "name": "ipython",
    "version": 3
   },
   "file_extension": ".py",
   "mimetype": "text/x-python",
   "name": "python",
   "nbconvert_exporter": "python",
   "pygments_lexer": "ipython3",
   "version": "3.5.2+"
  }
 },
 "nbformat": 4,
 "nbformat_minor": 2
}
