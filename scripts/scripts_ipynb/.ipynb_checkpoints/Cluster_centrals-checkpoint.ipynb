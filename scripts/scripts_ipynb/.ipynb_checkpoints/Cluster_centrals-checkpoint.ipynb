{
 "cells": [
  {
   "cell_type": "code",
   "execution_count": 5,
   "metadata": {
    "collapsed": true
   },
   "outputs": [],
   "source": [
    "import numpy as np\n",
    "import matplotlib.pyplot as plt\n",
    "import tree.halomodule as hmo\n",
    "import pickle\n",
    "from analysis.MajorMinorAccretion_module import *\n",
    "wdir = '/home/hoseung/Work/data/'"
   ]
  },
  {
   "cell_type": "code",
   "execution_count": 3,
   "metadata": {
    "collapsed": false
   },
   "outputs": [
    {
     "name": "stdout",
     "output_type": "stream",
     "text": [
      "/home/hoseung/Work/data\n"
     ]
    }
   ],
   "source": [
    "cd '/home/hoseung/Work/data/'"
   ]
  },
  {
   "cell_type": "code",
   "execution_count": 9,
   "metadata": {
    "collapsed": false
   },
   "outputs": [],
   "source": [
    "mprg_all = pickle.load(open(wdir + \"./fromlaptop/main_prgs_ALL.pickle\", \"rb\"))"
   ]
  },
  {
   "cell_type": "code",
   "execution_count": 11,
   "metadata": {
    "collapsed": false
   },
   "outputs": [],
   "source": [
    "prg_final = pickle.load(open(wdir + \"./fromlaptop/main_prgs_final_augmented_5_10_0.5_0.5_0.5_37_0.01_filtered.pickle\", \"rb\"))"
   ]
  },
  {
   "cell_type": "markdown",
   "metadata": {},
   "source": [
    "How do I define centrals and satellites? "
   ]
  },
  {
   "cell_type": "code",
   "execution_count": 13,
   "metadata": {
    "collapsed": false
   },
   "outputs": [
    {
     "name": "stdout",
     "output_type": "stream",
     "text": [
      "[Halo.load_info] loading info\n",
      "[Halo.load_info] nout = 187, base =/home/hoseung/Work/data/29176/\n"
     ]
    }
   ],
   "source": [
    "cluster = 29176\n",
    "sclu = str(cluster).zfill(5)\n",
    "hcat = hmo.Halo(base=wdir + sclu +'/', nout=187)"
   ]
  },
  {
   "cell_type": "code",
   "execution_count": 16,
   "metadata": {
    "collapsed": true
   },
   "outputs": [],
   "source": [
    "gal = mprg_all[0]"
   ]
  },
  {
   "cell_type": "code",
   "execution_count": 23,
   "metadata": {
    "collapsed": false
   },
   "outputs": [
    {
     "data": {
      "text/plain": [
       "(169, 4.0, 0.0, 0.007644315201792207, 0.03622763052049671, 0.04503160050227084, 753, 262809.0, array([ 0.05881387,  0.05046635,  0.0858967 ,  0.13816302,  0.16420189,\n",
       "        0.17086217,  0.22490628,  0.21328957,  0.2810742 ,  0.30605305,\n",
       "        0.30840664,  0.33322398,  0.3755027 ,  0.44891468,  0.48378071]), array([ 0.05903972,  0.05067362,  0.08593583,  0.13552454,  0.17096972,\n",
       "        0.17138237,  0.22512822,  0.20189574,  0.29369481,  0.30802609,\n",
       "        0.32854939,  0.32481498,  0.37996896,  0.46891203,  0.48494202]), None, array([ 0.05883893,  0.05047171,  0.08590694,  0.13410781,  0.16930989,\n",
       "        0.17100527,  0.22733614,  0.21011032,  0.28025472,  0.30668819,\n",
       "        0.31328428,  0.32973073,  0.38187809,  0.45242182,  0.47510987]), 0.17138236819481314, 0.17086217496242195, 0.0, 0.17100526872692964, 0.0, 0.0, 8144515313.686419, 17539, 40.00798258733154, 73.61649758754312, 75.07229713013025, [], [], 3.44519522174348, 3.085836521016733, 13.78078088697392, 12.343346084066932, 8.031279139686376e-05, 3.0, 0.0, 5.0, 5.0, 5.0, 4.9617784239910385, 4.818861847397517, 4.774841997488646, 0.0, nan, None, 11.77858513340354, 544.2050178435354, 1338.250029666785, 151.63257060428, 19.965674535294788, 20.01310541310541, 20.03659935750344, 225.04252135316867, 19.426844566085077, 19.456410256410255, 19.459843965121614, 109.95875177998403)"
      ]
     },
     "execution_count": 23,
     "metadata": {},
     "output_type": "execute_result"
    }
   ],
   "source": [
    "gal.data[0]"
   ]
  },
  {
   "cell_type": "code",
   "execution_count": 44,
   "metadata": {
    "collapsed": false
   },
   "outputs": [],
   "source": [
    "cluster = hcat.data[np.argmax(hcat.data[\"np\"])]\n",
    "rscale = 3.0\n",
    "\n",
    "cx,cy,cz = cluster[\"x\"], cluster[\"y\"], cluster[\"z\"]\n",
    "x,y,z = hcat.data[\"x\"], hcat.data[\"y\"], hcat.data[\"z\"]\n",
    "dd = np.sqrt(np.square(cx - x) + np.square(cy - y) + np.square(cz - z))\n",
    "\n",
    "i_cluster = np.where((dd < (cluster[\"rvir\"]*rscale)) * (hcat.data[\"mvir\"] > 5e9))[0]"
   ]
  },
  {
   "cell_type": "code",
   "execution_count": 51,
   "metadata": {
    "collapsed": true
   },
   "outputs": [],
   "source": [
    "hals_in_cluster = hcat.data[i_cluster]"
   ]
  },
  {
   "cell_type": "code",
   "execution_count": 40,
   "metadata": {
    "collapsed": true
   },
   "outputs": [],
   "source": [
    "import draw"
   ]
  },
  {
   "cell_type": "code",
   "execution_count": 52,
   "metadata": {
    "collapsed": true
   },
   "outputs": [],
   "source": [
    "plt.hist(hals_in_cluster[\"level\"])\n",
    "plt.show()"
   ]
  },
  {
   "cell_type": "code",
   "execution_count": 48,
   "metadata": {
    "collapsed": false
   },
   "outputs": [
    {
     "data": {
      "text/plain": [
       "dtype((numpy.record, [('np', '<i4'), ('id', '<i4'), ('level', '<i4'), ('host', '<i4'), ('sub', '<i4'), ('nsub', '<i4'), ('nextsub', '<i4'), ('m', '<f4'), ('mvir', '<f4'), ('r', '<f4'), ('rvir', '<f4'), ('tvir', '<f4'), ('cvel', '<f4'), ('x', '<f4'), ('y', '<f4'), ('z', '<f4'), ('vx', '<f4'), ('vy', '<f4'), ('vz', '<f4'), ('ax', '<f4'), ('ay', '<f4'), ('az', '<f4'), ('sp', '<f4'), ('idx', '<i4'), ('p_rho', '<f4'), ('p_c', '<f4'), ('energy', '<f8', (3,)), ('radius', '<f8', (4,))]))"
      ]
     },
     "execution_count": 48,
     "metadata": {},
     "output_type": "execute_result"
    }
   ],
   "source": [
    "hcat.data.dtype"
   ]
  },
  {
   "cell_type": "code",
   "execution_count": 53,
   "metadata": {
    "collapsed": false
   },
   "outputs": [],
   "source": [
    "draw.pp.pp_halo(hcat, 400, ind=i_cluster, color_field=\"np\", color_log=False)\n",
    "plt.show()"
   ]
  },
  {
   "cell_type": "code",
   "execution_count": 39,
   "metadata": {
    "collapsed": true
   },
   "outputs": [],
   "source": [
    "plt.scatter(cluster[\"x\"], cluster[\"y\"], s=4000, facecolor=\"none\",)\n",
    "#plt.scatter(hals_in_cluster[\"x\"],hals_in_cluster[\"y\"])\n",
    "plt.show()"
   ]
  },
  {
   "cell_type": "code",
   "execution_count": 29,
   "metadata": {
    "collapsed": true
   },
   "outputs": [],
   "source": [
    "hal = hcat.data[100]\n",
    "dds=[]\n",
    "for gal in mprg_all[:10]:\n",
    "    hx,hy,hz = hal[\"x\"], hal[\"y\"], hal[\"z\"]\n",
    "    x,y,z = gal.data[\"xc\"][0], gal.data[\"yc\"][0], gal.data[\"zc\"][0]\n",
    "    dd = np.sqrt(np.square(hx - x) + np.square(hy - y) + np.square(hz - z))\n",
    "    dds.append(dd)\n",
    "    "
   ]
  },
  {
   "cell_type": "code",
   "execution_count": 30,
   "metadata": {
    "collapsed": false
   },
   "outputs": [
    {
     "data": {
      "text/plain": [
       "0.47265685"
      ]
     },
     "execution_count": 30,
     "metadata": {},
     "output_type": "execute_result"
    }
   ],
   "source": [
    "hx"
   ]
  },
  {
   "cell_type": "code",
   "execution_count": 31,
   "metadata": {
    "collapsed": false
   },
   "outputs": [
    {
     "data": {
      "text/plain": [
       "[292.10759445975162,\n",
       " 292.20116025631546,\n",
       " 295.24423218174962,\n",
       " 292.20261038867824,\n",
       " 292.48663572865803,\n",
       " 292.13528734707631,\n",
       " 292.28260478532428,\n",
       " 292.30028453798104,\n",
       " 292.38631627763294,\n",
       " 292.37196318827034]"
      ]
     },
     "execution_count": 31,
     "metadata": {},
     "output_type": "execute_result"
    }
   ],
   "source": [
    "dds"
   ]
  },
  {
   "cell_type": "code",
   "execution_count": null,
   "metadata": {
    "collapsed": true
   },
   "outputs": [],
   "source": [
    "    \n",
    "print(dd)\n",
    "ind = np.where(dd < )"
   ]
  },
  {
   "cell_type": "code",
   "execution_count": null,
   "metadata": {
    "collapsed": true
   },
   "outputs": [],
   "source": [
    "\n",
    "dd = np.sqrt(np.square())\n",
    "\n",
    "i_satellites="
   ]
  },
  {
   "cell_type": "code",
   "execution_count": 15,
   "metadata": {
    "collapsed": false
   },
   "outputs": [
    {
     "data": {
      "text/plain": [
       "array([ 0.06090081,  0.05262727,  0.12534708, ...,  0.62836462,\n",
       "        0.63636333,  0.57572126], dtype=float32)"
      ]
     },
     "execution_count": 15,
     "metadata": {},
     "output_type": "execute_result"
    }
   ],
   "source": [
    "hcat.data[\"x\"]"
   ]
  },
  {
   "cell_type": "code",
   "execution_count": 72,
   "metadata": {
    "collapsed": false
   },
   "outputs": [],
   "source": [
    "from matplotlib.collections import PatchCollection\n",
    "fig, ax = plt.subplots()\n",
    "cm = plt.get_cmap(\"RdYlBu_r\")\n",
    "mypatches = [plt.Circle((0.5,0.5), radius=0.3)]\n",
    "p = PatchCollection(mypatches)\n",
    "p.set_edgecolor(cm(1))\n",
    "ax.add_collection(p)\n",
    "plt.show()"
   ]
  },
  {
   "cell_type": "code",
   "execution_count": null,
   "metadata": {
    "collapsed": true
   },
   "outputs": [],
   "source": [
    "ax.c"
   ]
  },
  {
   "cell_type": "code",
   "execution_count": 69,
   "metadata": {
    "collapsed": false
   },
   "outputs": [],
   "source": [
    "plt.scatter(np.arange(1000),np.arange(1000),c=cm(np.arange(1000)), s=50, edgecolor=\"none\")\n",
    "plt.show()"
   ]
  },
  {
   "cell_type": "code",
   "execution_count": 71,
   "metadata": {
    "collapsed": false
   },
   "outputs": [
    {
     "ename": "AttributeError",
     "evalue": "'AxesSubplot' object has no attribute 'clim'",
     "output_type": "error",
     "traceback": [
      "\u001b[0;31m---------------------------------------------------------------------------\u001b[0m",
      "\u001b[0;31mAttributeError\u001b[0m                            Traceback (most recent call last)",
      "\u001b[0;32m<ipython-input-71-b5ff7d630106>\u001b[0m in \u001b[0;36m<module>\u001b[0;34m()\u001b[0m\n\u001b[0;32m----> 1\u001b[0;31m \u001b[0max\u001b[0m\u001b[0;34m.\u001b[0m\u001b[0mclim\u001b[0m\u001b[0;34m\u001b[0m\u001b[0m\n\u001b[0m",
      "\u001b[0;31mAttributeError\u001b[0m: 'AxesSubplot' object has no attribute 'clim'"
     ]
    }
   ],
   "source": []
  },
  {
   "cell_type": "code",
   "execution_count": null,
   "metadata": {
    "collapsed": true
   },
   "outputs": [],
   "source": []
  }
 ],
 "metadata": {
  "kernelspec": {
   "display_name": "Python 3",
   "language": "python",
   "name": "python3"
  },
  "language_info": {
   "codemirror_mode": {
    "name": "ipython",
    "version": 3
   },
   "file_extension": ".py",
   "mimetype": "text/x-python",
   "name": "python",
   "nbconvert_exporter": "python",
   "pygments_lexer": "ipython3",
   "version": "3.5.2+"
  }
 },
 "nbformat": 4,
 "nbformat_minor": 0
}
