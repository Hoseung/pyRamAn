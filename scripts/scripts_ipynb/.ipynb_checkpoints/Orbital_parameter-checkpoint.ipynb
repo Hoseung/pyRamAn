{
 "cells": [
  {
   "cell_type": "code",
   "execution_count": 1,
   "metadata": {
    "collapsed": false
   },
   "outputs": [
    {
     "name": "stdout",
     "output_type": "stream",
     "text": [
      "/media/hoseung/btrfs/29172\n"
     ]
    }
   ],
   "source": [
    "cd /home/hoseung/Work/data/29172"
   ]
  },
  {
   "cell_type": "code",
   "execution_count": 2,
   "metadata": {
    "collapsed": false
   },
   "outputs": [],
   "source": [
    "import pickle\n",
    "import matplotlib.pyplot as plt\n",
    "import numpy as np\n",
    "# Need a full tree. not only main progenitor tree. \n",
    "tt = pickle.load(open(\"./GalaxyMaker/Trees/extended_tree.pickle\", \"rb\"))\n",
    "from tree import ctutils as ctu\n",
    "from galaxy.galaxy import Galaxy\n",
    "import tree.halomodule as hmo\n",
    "#alltree = extract_a_tree(tt, idx=)"
   ]
  },
  {
   "cell_type": "code",
   "execution_count": 3,
   "metadata": {
    "collapsed": false
   },
   "outputs": [],
   "source": [
    "tt.data[\"nout\"]\n",
    "t_final = tt.data[tt.data[\"nout\"] == 187]"
   ]
  },
  {
   "cell_type": "code",
   "execution_count": 4,
   "metadata": {
    "collapsed": true
   },
   "outputs": [],
   "source": [
    "atree = ctu.extract_a_tree(tt.data, 43045)\n",
    "maintree = ctu.extract_main_tree(atree, 43045)\n",
    "\n",
    "allbranches=[]"
   ]
  },
  {
   "cell_type": "code",
   "execution_count": 9,
   "metadata": {
    "collapsed": true
   },
   "outputs": [],
   "source": [
    "while len(atree) > 10:\n",
    "    maintree = ctu.extract_main_tree(atree, atree[\"id\"][0], no_subset=True)\n",
    "    # Need no_subset=True.\n",
    "    # A subset of the whole tree is taken by default to reduce the search time. \n",
    "    # But the subset if extracted by checking the \"tree_root_id\".\n",
    "    # Because the root of each branch is not the root of the tree, \n",
    "    # subset shouldn't be taken. \n",
    "    allbranches.append(maintree)\n",
    "    \n",
    "    # mask extracted tree\n",
    "    for gal in atree:\n",
    "        if gal[\"id\"] in maintree[\"id\"]:\n",
    "            #print(gal[\"id\"])\n",
    "            gal[\"id\"] = 1 \n",
    "    \n",
    "    # keep the rest\n",
    "    atree = atree[atree[\"id\"] != 1]"
   ]
  },
  {
   "cell_type": "code",
   "execution_count": 10,
   "metadata": {
    "collapsed": false
   },
   "outputs": [],
   "source": [
    "mainbranch = allbranches[0]\n",
    "for branch in allbranches[1:]:\n",
    "    for gal in branch:\n",
    "        i = np.where(mainbranch[\"nout\"] == gal[\"nout\"])[0]\n",
    "        gal[\"x\"] = gal[\"x\"] - mainbranch[\"x\"][i]\n",
    "        gal[\"y\"] = gal[\"y\"] - mainbranch[\"y\"][i]\n",
    "        gal[\"z\"] = gal[\"z\"] - mainbranch[\"z\"][i]\n",
    "        gal[\"vx\"] = gal[\"vx\"] - mainbranch[\"vx\"][i]\n",
    "        gal[\"vy\"] = gal[\"vy\"] - mainbranch[\"vy\"][i]\n",
    "        gal[\"vz\"] = gal[\"vz\"] - mainbranch[\"vz\"][i]        "
   ]
  },
  {
   "cell_type": "code",
   "execution_count": 13,
   "metadata": {
    "collapsed": true
   },
   "outputs": [
    {
     "ename": "IndexError",
     "evalue": "index 1 is out of bounds for axis 0 with size 1",
     "output_type": "error",
     "traceback": [
      "\u001b[0;31m---------------------------------------------------------------------------\u001b[0m",
      "\u001b[0;31mIndexError\u001b[0m                                Traceback (most recent call last)",
      "\u001b[0;32m<ipython-input-13-76055764fea6>\u001b[0m in \u001b[0;36m<module>\u001b[0;34m()\u001b[0m\n\u001b[1;32m      8\u001b[0m \u001b[0max\u001b[0m\u001b[0;34m.\u001b[0m\u001b[0mscatter\u001b[0m\u001b[0;34m(\u001b[0m\u001b[0;36m0\u001b[0m\u001b[0;34m,\u001b[0m\u001b[0;36m0\u001b[0m\u001b[0;34m,\u001b[0m\u001b[0;36m0\u001b[0m\u001b[0;34m,\u001b[0m\u001b[0ms\u001b[0m\u001b[0;34m=\u001b[0m\u001b[0;36m200\u001b[0m\u001b[0;34m,\u001b[0m \u001b[0mc\u001b[0m\u001b[0;34m=\u001b[0m\u001b[0;34m'r'\u001b[0m\u001b[0;34m)\u001b[0m\u001b[0;34m\u001b[0m\u001b[0m\n\u001b[1;32m      9\u001b[0m \u001b[0mbranch\u001b[0m \u001b[0;34m=\u001b[0m \u001b[0mallbranches\u001b[0m\u001b[0;34m[\u001b[0m\u001b[0;36m1\u001b[0m\u001b[0;34m]\u001b[0m\u001b[0;34m\u001b[0m\u001b[0m\n\u001b[0;32m---> 10\u001b[0;31m \u001b[0max\u001b[0m\u001b[0;34m.\u001b[0m\u001b[0mquiver\u001b[0m\u001b[0;34m(\u001b[0m\u001b[0mbranch\u001b[0m\u001b[0;34m[\u001b[0m\u001b[0;34m\"x\"\u001b[0m\u001b[0;34m]\u001b[0m\u001b[0;34m,\u001b[0m \u001b[0mbranch\u001b[0m\u001b[0;34m[\u001b[0m\u001b[0;34m\"y\"\u001b[0m\u001b[0;34m]\u001b[0m\u001b[0;34m,\u001b[0m \u001b[0mbranch\u001b[0m\u001b[0;34m[\u001b[0m\u001b[0;34m\"vx\"\u001b[0m\u001b[0;34m]\u001b[0m\u001b[0;34m,\u001b[0m \u001b[0mbranch\u001b[0m\u001b[0;34m[\u001b[0m\u001b[0;34m'vy'\u001b[0m\u001b[0;34m]\u001b[0m\u001b[0;34m)\u001b[0m\u001b[0;34m\u001b[0m\u001b[0m\n\u001b[0m\u001b[1;32m     11\u001b[0m \u001b[0mplt\u001b[0m\u001b[0;34m.\u001b[0m\u001b[0mshow\u001b[0m\u001b[0;34m(\u001b[0m\u001b[0;34m)\u001b[0m\u001b[0;34m\u001b[0m\u001b[0m\n",
      "\u001b[0;32m/home/hoseung/.local/lib/python3.5/site-packages/mpl_toolkits/mplot3d/axes3d.py\u001b[0m in \u001b[0;36mquiver\u001b[0;34m(self, *args, **kwargs)\u001b[0m\n\u001b[1;32m   2606\u001b[0m             \u001b[0mshafts\u001b[0m \u001b[0;34m=\u001b[0m \u001b[0;34m(\u001b[0m\u001b[0mXYZ\u001b[0m \u001b[0;34m-\u001b[0m \u001b[0mnp\u001b[0m\u001b[0;34m.\u001b[0m\u001b[0mmultiply\u001b[0m\u001b[0;34m.\u001b[0m\u001b[0mouter\u001b[0m\u001b[0;34m(\u001b[0m\u001b[0mshaft_dt\u001b[0m\u001b[0;34m,\u001b[0m \u001b[0mUVW\u001b[0m\u001b[0;34m)\u001b[0m\u001b[0;34m)\u001b[0m\u001b[0;34m.\u001b[0m\u001b[0mswapaxes\u001b[0m\u001b[0;34m(\u001b[0m\u001b[0;36m0\u001b[0m\u001b[0;34m,\u001b[0m \u001b[0;36m1\u001b[0m\u001b[0;34m)\u001b[0m\u001b[0;34m\u001b[0m\u001b[0m\n\u001b[1;32m   2607\u001b[0m             \u001b[0;31m# compute head direction vectors, n heads by 2 sides by 3 dimensions\u001b[0m\u001b[0;34m\u001b[0m\u001b[0;34m\u001b[0m\u001b[0m\n\u001b[0;32m-> 2608\u001b[0;31m             \u001b[0mhead_dirs\u001b[0m \u001b[0;34m=\u001b[0m \u001b[0mnp\u001b[0m\u001b[0;34m.\u001b[0m\u001b[0marray\u001b[0m\u001b[0;34m(\u001b[0m\u001b[0;34m[\u001b[0m\u001b[0mcalc_arrow\u001b[0m\u001b[0;34m(\u001b[0m\u001b[0md\u001b[0m\u001b[0;34m)\u001b[0m \u001b[0;32mfor\u001b[0m \u001b[0md\u001b[0m \u001b[0;32min\u001b[0m \u001b[0mUVW\u001b[0m\u001b[0;34m]\u001b[0m\u001b[0;34m)\u001b[0m\u001b[0;34m\u001b[0m\u001b[0m\n\u001b[0m\u001b[1;32m   2609\u001b[0m             \u001b[0;31m# compute all head lines at once, starting from where the shaft ends\u001b[0m\u001b[0;34m\u001b[0m\u001b[0;34m\u001b[0m\u001b[0m\n\u001b[1;32m   2610\u001b[0m             \u001b[0mheads\u001b[0m \u001b[0;34m=\u001b[0m \u001b[0mshafts\u001b[0m\u001b[0;34m[\u001b[0m\u001b[0;34m:\u001b[0m\u001b[0;34m,\u001b[0m \u001b[0;34m:\u001b[0m\u001b[0;36m1\u001b[0m\u001b[0;34m]\u001b[0m \u001b[0;34m-\u001b[0m \u001b[0mnp\u001b[0m\u001b[0;34m.\u001b[0m\u001b[0mmultiply\u001b[0m\u001b[0;34m.\u001b[0m\u001b[0mouter\u001b[0m\u001b[0;34m(\u001b[0m\u001b[0marrow_dt\u001b[0m\u001b[0;34m,\u001b[0m \u001b[0mhead_dirs\u001b[0m\u001b[0;34m)\u001b[0m\u001b[0;34m\u001b[0m\u001b[0m\n",
      "\u001b[0;32m/home/hoseung/.local/lib/python3.5/site-packages/mpl_toolkits/mplot3d/axes3d.py\u001b[0m in \u001b[0;36m<listcomp>\u001b[0;34m(.0)\u001b[0m\n\u001b[1;32m   2606\u001b[0m             \u001b[0mshafts\u001b[0m \u001b[0;34m=\u001b[0m \u001b[0;34m(\u001b[0m\u001b[0mXYZ\u001b[0m \u001b[0;34m-\u001b[0m \u001b[0mnp\u001b[0m\u001b[0;34m.\u001b[0m\u001b[0mmultiply\u001b[0m\u001b[0;34m.\u001b[0m\u001b[0mouter\u001b[0m\u001b[0;34m(\u001b[0m\u001b[0mshaft_dt\u001b[0m\u001b[0;34m,\u001b[0m \u001b[0mUVW\u001b[0m\u001b[0;34m)\u001b[0m\u001b[0;34m)\u001b[0m\u001b[0;34m.\u001b[0m\u001b[0mswapaxes\u001b[0m\u001b[0;34m(\u001b[0m\u001b[0;36m0\u001b[0m\u001b[0;34m,\u001b[0m \u001b[0;36m1\u001b[0m\u001b[0;34m)\u001b[0m\u001b[0;34m\u001b[0m\u001b[0m\n\u001b[1;32m   2607\u001b[0m             \u001b[0;31m# compute head direction vectors, n heads by 2 sides by 3 dimensions\u001b[0m\u001b[0;34m\u001b[0m\u001b[0;34m\u001b[0m\u001b[0m\n\u001b[0;32m-> 2608\u001b[0;31m             \u001b[0mhead_dirs\u001b[0m \u001b[0;34m=\u001b[0m \u001b[0mnp\u001b[0m\u001b[0;34m.\u001b[0m\u001b[0marray\u001b[0m\u001b[0;34m(\u001b[0m\u001b[0;34m[\u001b[0m\u001b[0mcalc_arrow\u001b[0m\u001b[0;34m(\u001b[0m\u001b[0md\u001b[0m\u001b[0;34m)\u001b[0m \u001b[0;32mfor\u001b[0m \u001b[0md\u001b[0m \u001b[0;32min\u001b[0m \u001b[0mUVW\u001b[0m\u001b[0;34m]\u001b[0m\u001b[0;34m)\u001b[0m\u001b[0;34m\u001b[0m\u001b[0m\n\u001b[0m\u001b[1;32m   2609\u001b[0m             \u001b[0;31m# compute all head lines at once, starting from where the shaft ends\u001b[0m\u001b[0;34m\u001b[0m\u001b[0;34m\u001b[0m\u001b[0m\n\u001b[1;32m   2610\u001b[0m             \u001b[0mheads\u001b[0m \u001b[0;34m=\u001b[0m \u001b[0mshafts\u001b[0m\u001b[0;34m[\u001b[0m\u001b[0;34m:\u001b[0m\u001b[0;34m,\u001b[0m \u001b[0;34m:\u001b[0m\u001b[0;36m1\u001b[0m\u001b[0;34m]\u001b[0m \u001b[0;34m-\u001b[0m \u001b[0mnp\u001b[0m\u001b[0;34m.\u001b[0m\u001b[0mmultiply\u001b[0m\u001b[0;34m.\u001b[0m\u001b[0mouter\u001b[0m\u001b[0;34m(\u001b[0m\u001b[0marrow_dt\u001b[0m\u001b[0;34m,\u001b[0m \u001b[0mhead_dirs\u001b[0m\u001b[0;34m)\u001b[0m\u001b[0;34m\u001b[0m\u001b[0m\n",
      "\u001b[0;32m/home/hoseung/.local/lib/python3.5/site-packages/mpl_toolkits/mplot3d/axes3d.py\u001b[0m in \u001b[0;36mcalc_arrow\u001b[0;34m(uvw, angle)\u001b[0m\n\u001b[1;32m   2511\u001b[0m             \u001b[0mnorm\u001b[0m \u001b[0;34m=\u001b[0m \u001b[0mnp\u001b[0m\u001b[0;34m.\u001b[0m\u001b[0mlinalg\u001b[0m\u001b[0;34m.\u001b[0m\u001b[0mnorm\u001b[0m\u001b[0;34m(\u001b[0m\u001b[0muvw\u001b[0m\u001b[0;34m[\u001b[0m\u001b[0;34m:\u001b[0m\u001b[0;36m2\u001b[0m\u001b[0;34m]\u001b[0m\u001b[0;34m)\u001b[0m\u001b[0;34m\u001b[0m\u001b[0m\n\u001b[1;32m   2512\u001b[0m             \u001b[0;32mif\u001b[0m \u001b[0mnorm\u001b[0m \u001b[0;34m>\u001b[0m \u001b[0;36m0\u001b[0m\u001b[0;34m:\u001b[0m\u001b[0;34m\u001b[0m\u001b[0m\n\u001b[0;32m-> 2513\u001b[0;31m                 \u001b[0mx\u001b[0m \u001b[0;34m=\u001b[0m \u001b[0muvw\u001b[0m\u001b[0;34m[\u001b[0m\u001b[0;36m1\u001b[0m\u001b[0;34m]\u001b[0m \u001b[0;34m/\u001b[0m \u001b[0mnorm\u001b[0m\u001b[0;34m\u001b[0m\u001b[0m\n\u001b[0m\u001b[1;32m   2514\u001b[0m                 \u001b[0my\u001b[0m \u001b[0;34m=\u001b[0m \u001b[0;34m-\u001b[0m\u001b[0muvw\u001b[0m\u001b[0;34m[\u001b[0m\u001b[0;36m0\u001b[0m\u001b[0;34m]\u001b[0m \u001b[0;34m/\u001b[0m \u001b[0mnorm\u001b[0m\u001b[0;34m\u001b[0m\u001b[0m\n\u001b[1;32m   2515\u001b[0m             \u001b[0;32melse\u001b[0m\u001b[0;34m:\u001b[0m\u001b[0;34m\u001b[0m\u001b[0m\n",
      "\u001b[0;31mIndexError\u001b[0m: index 1 is out of bounds for axis 0 with size 1"
     ]
    }
   ],
   "source": [
    "from mpl_toolkits.mplot3d import Axes3D\n",
    "fig = plt.figure()\n",
    "ax = fig.add_subplot(111, projection='3d')\n",
    "\n",
    "for branch in allbranches[1:]:\n",
    "    ax.scatter(branch[\"x\"], branch[\"y\"], branch[\"z\"], s=branch[\"m\"]/1e8)\n",
    "\n",
    "ax.scatter(0,0,0,s=200, c='r')\n",
    "plt.show()"
   ]
  },
  {
   "cell_type": "code",
   "execution_count": 15,
   "metadata": {
    "collapsed": false
   },
   "outputs": [],
   "source": [
    "branch = allbranches[1]\n",
    "\n",
    "fig, ax = plt.subplots()\n",
    "\n",
    "ax.quiver(branch[\"x\"], branch[\"y\"], branch[\"vx\"], branch['vy'])\n",
    "ax.scatter(branch[\"x\"], branch[\"y\"])\n",
    "\n",
    "plt.show()"
   ]
  },
  {
   "cell_type": "markdown",
   "metadata": {},
   "source": [
    "branches are separated.\n",
    "So far, so good.\n",
    "\n",
    "Now, spin direction of each galaxy"
   ]
  },
  {
   "cell_type": "code",
   "execution_count": 19,
   "metadata": {
    "collapsed": true
   },
   "outputs": [],
   "source": [
    "import load"
   ]
  },
  {
   "cell_type": "code",
   "execution_count": 21,
   "metadata": {
    "collapsed": false
   },
   "outputs": [],
   "source": [
    "branch = allbranches[0]\n",
    "igal = 0\n",
    "idgal = branch[\"Orig_halo_id\"][igal]\n",
    "nout = branch[\"nout\"][igal]"
   ]
  },
  {
   "cell_type": "code",
   "execution_count": null,
   "metadata": {
    "collapsed": true
   },
   "outputs": [],
   "source": [
    "class test():\n",
    "    def __repr__():\n",
    "        \n",
    "        \n",
    "    def __str__():\n",
    "        "
   ]
  },
  {
   "cell_type": "code",
   "execution_count": 31,
   "metadata": {
    "collapsed": true
   },
   "outputs": [],
   "source": [
    "from galaxy import rd_gal"
   ]
  },
  {
   "cell_type": "code",
   "execution_count": 35,
   "metadata": {
    "collapsed": true
   },
   "outputs": [],
   "source": [
    "import importlib"
   ]
  },
  {
   "cell_type": "code",
   "execution_count": 36,
   "metadata": {
    "collapsed": false
   },
   "outputs": [
    {
     "data": {
      "text/plain": [
       "<module 'galaxy.rd_gal' from '/home/hoseung/Work/pyclusterevol/galaxy/rd_gal.py'>"
      ]
     },
     "execution_count": 36,
     "metadata": {},
     "output_type": "execute_result"
    }
   ],
   "source": [
    "importlib.reload(rd_gal)"
   ]
  },
  {
   "cell_type": "code",
   "execution_count": 37,
   "metadata": {
    "collapsed": true
   },
   "outputs": [],
   "source": [
    "gd = rd_gal.rd_gal(187, idgal)"
   ]
  },
  {
   "cell_type": "code",
   "execution_count": 174,
   "metadata": {
    "collapsed": false
   },
   "outputs": [
    {
     "data": {
      "text/plain": [
       "564.30495208025513"
      ]
     },
     "execution_count": 174,
     "metadata": {},
     "output_type": "execute_result"
    }
   ],
   "source": [
    "np.dot(nvec_pri, nvec_orbit) / np."
   ]
  },
  {
   "cell_type": "code",
   "execution_count": 173,
   "metadata": {
    "collapsed": false
   },
   "outputs": [
    {
     "data": {
      "text/plain": [
       "nan"
      ]
     },
     "execution_count": 173,
     "metadata": {},
     "output_type": "execute_result"
    }
   ],
   "source": [
    "ang_pri_orb"
   ]
  },
  {
   "cell_type": "code",
   "execution_count": null,
   "metadata": {
    "collapsed": true
   },
   "outputs": [],
   "source": [
    "def get_merging_system():\n",
    "    \n",
    "    \n",
    "    "
   ]
  },
  {
   "cell_type": "code",
   "execution_count": null,
   "metadata": {
    "collapsed": true
   },
   "outputs": [],
   "source": [
    "def find_merger_epochs(alltrees,\n",
    "                       idx_all,\n",
    "                       mpgs,\n",
    "                       nout_ini=37,\n",
    "                       dist_gal_scale_in=2.0,\n",
    "                       dist_gal_scale_out =3.0,\n",
    "                       min_mass_ratio = 0.05,\n",
    "                       mass_ratio=\"early\",\n",
    "                       verbose=False,\n",
    "                       do_plot = False,\n",
    "                       pdf_fname='./merger_ratio.pdf',\n",
    "                       max_rgal=40):\n",
    "    \"\"\"\n",
    "    Parameters\n",
    "    ----------\n",
    "    dist_gal_scale \n",
    "        if two galaxies are closer than dist_gal_scale * (sum of raidus of the two),\n",
    "        that epoch is the nout_init_merger.\n",
    "    nout_ini\n",
    "        blabla\n",
    "    \"\"\"\n",
    "    gal_list=[]\n",
    "    mr_list=[]\n",
    "    nout_list=[]\n",
    "    nout_ini_list=[] # initial time when two halos(Galaxy stellar components in this case) overlap. \n",
    "\n",
    "    #for idx in idx_all:\n",
    "    if do_plot:\n",
    "        from matplotlib.backends.backend_pdf import PdfPages\n",
    "        fig, ax = plt.subplots(1, sharex=True)\n",
    "        pdf = PdfPages(pdf_fname)\n",
    "    else:\n",
    "        ax = None\n",
    "\n",
    "    for gal in mpgs:\n",
    "        idx = gal.data['idx'][0]\n",
    "        # full tree of a galaxy\n",
    "        atree = ctu.extract_a_tree(alltrees.data, idx)\n",
    "\n",
    "        # main progenitor tree\n",
    "        main = ctu.extract_main_tree(atree, idx)\n",
    "        main_nout = main['nout'].flatten()\n",
    "        i_nout_ok = main_nout > nout_ini\n",
    "        main = main[i_nout_ok]\n",
    "        #x_nout = x_nout[i_nout_ok]\n",
    "        pos = np.zeros((3,len(main)))\n",
    "        pos[0,:] = main['x']\n",
    "        pos[1,:] = main['y']\n",
    "        pos[2,:] = main['z']\n",
    "\n",
    "\n",
    "        ## 왜 len(main)?\n",
    "        mass_ratios_single = np.zeros(len(main))\n",
    "        nout_inits = np.zeros(len(main))\n",
    "        #print(\"log M* ={}\".format(np.log10(gal.data[\"mstar\"][0])))\n",
    "\n",
    "        ## Substitute main[\"r\"] with gal.data[\"reff\"]\n",
    "        if len(main) < len(gal.smoothed_r):\n",
    "            main[\"r\"] = gal.smoothed_r[:len(main)]\n",
    "        elif len(main) > len(gal.smoothed_r):\n",
    "            main[\"r\"][:len(gal.smoothed_r)] = gal.smoothed_r\n",
    "        elif len(main) == len(gal.smoothed_r):\n",
    "            main[\"r\"] = gal.smoothed_r\n",
    "\n",
    "        for i, nout in enumerate(main['nout']):\n",
    "            # merger ratio\n",
    "            # First, check if there are multiple progenitors.\n",
    "            i_prgs = np.where(atree['desc_id'] == main['id'][i])[0]\n",
    "\n",
    "            # multiple prgs = merger\n",
    "            if len(i_prgs) > 1:\n",
    "                if verbose:\n",
    "                    print(\"idx:{}, {} Progenitors at nout = {}\".format(main[\"id\"][0], len(i_prgs), nout))\n",
    "\n",
    "                #print(\"i, inout_mpgs\", i, np.where(gal.nouts == nout)[0])\n",
    "                #print(gal.data[\"reff\"][i])\n",
    "\n",
    "                # Mass ratio must be calculated inside get_merger_info. \n",
    "\n",
    "                id_prgs = atree['id'][i_prgs]\n",
    "                mass_prgs = atree['m'][i_prgs]\n",
    "                #m_r = mass_prgs / max(mass_prgs)\n",
    "\n",
    "                # Progenitor with maximum mass at the FINAL COALESCENCE is the main progenitor.\n",
    "                # Others are satellites.\n",
    "                sats = id_prgs[mass_prgs < max(mass_prgs)]\n",
    "                \n",
    "                mass_ratios_now=[]\n",
    "                nout_inits_now=[]\n",
    "\n",
    "                # loop over satellites at a given nout.\n",
    "                for this_sat in sats:\n",
    "                    n_i_t, mass_this_sat = get_merger_info(main, atree, this_sat,\n",
    "                                                           dist_gal_scale_in=dist_gal_scale_in,\n",
    "                                                           dist_gal_scale_out = dist_gal_scale_out,\n",
    "                                                           do_plot=do_plot,\n",
    "                                                           ax=ax,\n",
    "                                                           max_rgal=max_rgal)\n",
    "\n",
    "                    mass_ratio = mass_this_sat / max(mass_prgs)\n",
    "                    if do_plot:\n",
    "                        ax.text(40, 600, \"{:.3f}\".format(mass_ratio))\n",
    "                        pdf.savefig()\n",
    "                        ax.clear()\n",
    "                    if mass_ratio > min_mass_ratio:\n",
    "                        nout_inits_now.append(n_i_t)\n",
    "                        mass_ratios_now.append(mass_ratio)\n",
    "                if len(nout_inits_now) > 0:\n",
    "                    i_main_merger = np.argmax(np.array(mass_ratios_now))\n",
    "                    mass_ratios_single[i] = mass_ratios_now[i_main_merger]\n",
    "                    nout_inits[i] = nout_inits_now[i_main_merger]\n",
    "                else:\n",
    "                    mass_ratios_single[i] = -1\n",
    "                    nout_inits[i] = -1\n",
    "\n",
    "                #if verbose:\n",
    "                #    print(\" Mass ratios {} at nout = {}: \".format(m_r, nout_inits[i]))\n",
    "                #if do_plot:\n",
    "                #    pdf.savefig()\n",
    "                    #ax.clear()\n",
    "\n",
    "            else:\n",
    "                mass_ratios_single[i] = 0\n",
    "            ##--------------------------------------------------\n",
    "\n",
    "        ind_ok = np.where(mass_ratios_single > 0.01)[0]\n",
    "        if len(ind_ok) > 0:\n",
    "            # if a satellite oscillates around the host, \n",
    "            # it could be identified as multiple mergers with short time interval. \n",
    "            # leave only the first passage / merger.\n",
    "            # No, it doesn't happen in ConsistentTrees.\n",
    "\n",
    "            #good =[]\n",
    "            #for i in range(len(ind_ok)-1):\n",
    "            #    if ind_ok[i+1] > ind_ok[i] + 2:\n",
    "            #        good.append(ind_ok[i])\n",
    "            #good.append(ind_ok[-1])\n",
    "            #ind_ok = good\n",
    "            mr = 1./mass_ratios_single[ind_ok]\n",
    "\n",
    "            gal_list.append(idx)\n",
    "            mr_list.append(mr)\n",
    "            nout_list.append(main_nout[ind_ok])\n",
    "            nout_ini_list.append(nout_inits[ind_ok])\n",
    "            print(idx)\n",
    "    if do_plot:\n",
    "        pdf.close()\n",
    "\n",
    "    inds=[]\n",
    "    for i, gal in enumerate(mpgs):\n",
    "        galid = gal.data['idx'][0]\n",
    "        ind = np.where(galid == gal_list)[0]\n",
    "        if len(ind) > 0:\n",
    "            inds.append(i)\n",
    "            merger = Merger()\n",
    "            merger.mr = mr_list[ind]\n",
    "            merger.nout = nout_list[ind]\n",
    "            merger.nout_ini = nout_ini_list[ind]\n",
    "            gal.merger = merger\n",
    "        else:\n",
    "            gal.merger = None\n",
    "\n"
   ]
  },
  {
   "cell_type": "code",
   "execution_count": null,
   "metadata": {
    "collapsed": true
   },
   "outputs": [],
   "source": [
    "def body(clusters,\n",
    "         dist_gal_scale_in=5,\n",
    "         dist_gal_scale_out=10,\n",
    "         dt_before=0.5,\n",
    "         dt_after=0.5,\n",
    "         dt_settle=0.5,\n",
    "         load=False,\n",
    "         nout_ini = 37,\n",
    "         filter_small=True,\n",
    "         min_mass_ratio = 0.05,\n",
    "         measure_delta_savefig=False,\n",
    "         find_merger_epoch_plot=False,\n",
    "         cdir=\"\"):\n",
    "\n",
    "    suffix = \"_{}_{}_{}_{}_{}_{}_{}\".format(dist_gal_scale_in,\n",
    "    dist_gal_scale_out,dt_before,dt_after,dt_settle,nout_ini,\n",
    "                                           min_mass_ratio)\n",
    "    if filter_small: \n",
    "        suffix = suffix + \"_filtered_\"\n",
    "\n",
    "    if load:\n",
    "        return pickle.load(open(\"main_prgs_final_augmented\" + suffix + \".pickle\", 'rb'))\n",
    "        \n",
    "    else:\n",
    "        mpgs = []\n",
    "        for cluster in clusters:\n",
    "            print(cluster)\n",
    "            wdir = base + cluster + '/'\n",
    "\n",
    "            # Serialize catalogs. -> Only main galaxies\n",
    "            # main galaxy list\n",
    "            alltrees = ctu.load_tree(wdir, is_gal=True)\n",
    "            ad = alltrees.data\n",
    "            tn = ad[ad['nout'] == nout_fi]\n",
    "\n",
    "            cat = load_cat(wdir + cdir + 'catalog' + str(nout_fi) + '.pickle')\n",
    "            #idx_all = [tn['id'][tn['Orig_halo_id'] == id_final][0] for id_final in cat['id']]\n",
    "            idx_all = cat['idx'][cat[\"idx\"] > 0].astype(int) # why idx are float???\n",
    "\n",
    "            mpg_tmp = []\n",
    "            for i, idx in enumerate(idx_all):\n",
    "                #print(i, idx)\n",
    "\n",
    "                mpg_tmp.append(MainPrg(ad, idx))\n",
    "            #    mpg_tmp =[MainPrg(ad, idx) for idx in idx_all]\n",
    "            for nout in range(nout_ini, nout_fi + 1):\n",
    "                cat = load_cat(wdir + cdir + 'catalog' + str(nout) + '.pickle')\n",
    "                for gal in mpg_tmp:\n",
    "                    gal.set_data(cat, nout)\n",
    "                    gal.cluster = int(cluster)\n",
    "        #        print(nout)\n",
    "            # get rid of galaxies with too short tree.\n",
    "            mpg_tmp = [gg for gg in mpg_tmp if sum(gg.data[\"reff\"] > 0) > minimum_good_snap]\n",
    "            for gal in mpg_tmp:\n",
    "                gal.fill_missing_data()\n",
    "                gal.clip_non_detection()\n",
    "                gal.smoothed_lambda_org = mma.smooth(gal.data[\"lambda_r\"], window_len=15)[:-1]\n",
    "                gal.smoothed_r = mma.smooth(gal.data[\"reff\"], window_len=15)[:-1]\n",
    "                gal.smoothed_lambda = mma.smooth(l_at_smoothed_r(gal, npix_per_reff=5), window_len=15)[:-1]\n",
    "\n",
    "            # save for each cluser\n",
    "            with open(wdir + \"main_prgs\" + suffix + \".pickle\", \"wb\") as f:\n",
    "                pickle.dump(mpg_tmp, f)    \n",
    "                \n",
    "            # Find_merger_epochs needs smoothed_r\n",
    "            find_merger_epochs(alltrees,\n",
    "                               idx_all,\n",
    "                               mpg_tmp,\n",
    "                               nout_ini=nout_ini,\n",
    "                               dist_gal_scale_in=dist_gal_scale_in,\n",
    "                               dist_gal_scale_out=dist_gal_scale_out,\n",
    "                               min_mass_ratio = min_mass_ratio,\n",
    "                               mass_ratio='early',\n",
    "                               verbose=False,\n",
    "                               do_plot=find_merger_epoch_plot,\n",
    "                               max_rgal=40,\n",
    "                               pdf_fname=str(cluster) + \"merger_ratio_epoch\" + suffix + \".pdf\")\n"
   ]
  }
 ],
 "metadata": {
  "kernelspec": {
   "display_name": "Python 3",
   "language": "python",
   "name": "python3"
  },
  "language_info": {
   "codemirror_mode": {
    "name": "ipython",
    "version": 3
   },
   "file_extension": ".py",
   "mimetype": "text/x-python",
   "name": "python",
   "nbconvert_exporter": "python",
   "pygments_lexer": "ipython3",
   "version": "3.5.2+"
  }
 },
 "nbformat": 4,
 "nbformat_minor": 0
}
