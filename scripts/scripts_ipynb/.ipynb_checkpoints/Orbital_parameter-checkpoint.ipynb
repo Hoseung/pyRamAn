{
 "cells": [
  {
   "cell_type": "markdown",
   "metadata": {},
   "source": [
    "## Orbital parameters of merging systems\n",
    "\n",
    "The effect of a merger (on galaxy spin) should depend on orbital parameter of the merger. \n",
    "\n",
    "+ Retro / Pro\n",
    "+ co-/counter rotating"
   ]
  },
  {
   "cell_type": "markdown",
   "metadata": {},
   "source": [
    "Trajectories of merging systems can be extracted from the merger tree (If you believe the Tree!). "
   ]
  },
  {
   "cell_type": "code",
   "execution_count": 1,
   "metadata": {
    "collapsed": false
   },
   "outputs": [
    {
     "name": "stdout",
     "output_type": "stream",
     "text": [
      "/media/hoseung/btrfs/29172\n"
     ]
    }
   ],
   "source": [
    "cd /home/hoseung/Work/data/29172"
   ]
  },
  {
   "cell_type": "code",
   "execution_count": 2,
   "metadata": {
    "collapsed": false
   },
   "outputs": [],
   "source": [
    "import pickle\n",
    "#%matplotlib notebook\n",
    "import matplotlib \n",
    "matplotlib.use(\"Qt4Agg\")\n",
    "import matplotlib.pyplot as plt\n",
    "import numpy as np\n",
    "# Need a full tree. not only main progenitor tree. \n",
    "tt = pickle.load(open(\"./GalaxyMaker/Trees/extended_tree.pickle\", \"rb\"))\n",
    "from tree import ctutils as ctu\n",
    "from galaxy.galaxy import Galaxy\n",
    "import tree.halomodule as hmo\n",
    "#alltree = extract_a_tree(tt, idx=)"
   ]
  },
  {
   "cell_type": "code",
   "execution_count": 3,
   "metadata": {
    "collapsed": false
   },
   "outputs": [
    {
     "name": "stdout",
     "output_type": "stream",
     "text": [
      "Chosen id_root =  43049\n"
     ]
    }
   ],
   "source": [
    "# Final root galaxies\n",
    "t_final = tt.data[tt.data[\"nout\"] == 187]\n",
    "\n",
    "# Choose a random galaxy tree\n",
    "id_root = t_final[\"id\"][40]\n",
    "print(\"Chosen id_root = \", id_root)\n",
    "atree = ctu.extract_a_tree(tt.data, id_root)\n",
    "trunk = ctu.extract_main_tree(atree, id_root)\n",
    "\n",
    "\n",
    "allbranches=[]\n",
    "# Iterate over a full tree to seprate out each branch.\n",
    "while len(atree) > 10:\n",
    "    abranch = ctu.extract_main_tree(atree, atree[\"id\"][0], no_subset=True)\n",
    "    # Need no_subset=True.\n",
    "    # A subset of the whole tree is taken by default to reduce the search time. \n",
    "    # But the subset is extracted by checking the \"tree_root_id\".\n",
    "    # Because the root of \"each\" branch is not the root of the tree, subset shouldn't be taken. \n",
    "    \n",
    "    allbranches.append(abranch)    \n",
    "    # I do not extract all branches because some of the branches are too short.\n",
    "    # I'll ignore them. \n",
    "    # Mask extracted tree, and leave the short branches there.\n",
    "    for gal in atree:\n",
    "        if gal[\"id\"] in abranch[\"id\"]:\n",
    "            #print(gal[\"id\"])\n",
    "            gal[\"id\"] = 1 \n",
    "    \n",
    "    # keep the rest(short branches)\n",
    "    atree = atree[atree[\"id\"] != 1]"
   ]
  },
  {
   "cell_type": "markdown",
   "metadata": {},
   "source": [
    "In the following loop, \n",
    "branch(2) = branch[i_nout_ok] is a copy of the original branch(1), which is an i-th element of the allbranches. \n",
    "Thus, modifying a copy of the branch does nothing to allbranches. \n",
    "To update allbranches, put the new branch(2) into the allbranches, and then modify the branch(2)."
   ]
  },
  {
   "cell_type": "code",
   "execution_count": 4,
   "metadata": {
    "collapsed": false
   },
   "outputs": [],
   "source": [
    "#trunk = allbranches[0]\n",
    "min_nout_trunk = min(trunk[\"nout\"])\n",
    "for i, branch in enumerate(allbranches):\n",
    "    i_nout_ok = np.where(branch[\"nout\"] >= min_nout_trunk)[0]\n",
    "    branch = branch[i_nout_ok] # this is a new branch.\n",
    "    allbranches[i] = branch\n",
    "    for gal in branch:\n",
    "        i = np.where(trunk[\"nout\"] == gal[\"nout\"])[0]\n",
    "        gal[\"x\"] -= trunk[\"x\"][i]\n",
    "        gal[\"y\"] -= trunk[\"y\"][i]\n",
    "        gal[\"z\"] -= trunk[\"z\"][i]\n",
    "        gal[\"vx\"] -= trunk[\"vx\"][i]\n",
    "        gal[\"vy\"] -= trunk[\"vy\"][i]\n",
    "        gal[\"vz\"] -= trunk[\"vz\"][i]"
   ]
  },
  {
   "cell_type": "markdown",
   "metadata": {},
   "source": [
    "Branches can start earlier than the trunk. For those points, X_brn - X_trn is impossible. \n",
    "Let me ignore then for the moment. "
   ]
  },
  {
   "cell_type": "code",
   "execution_count": 5,
   "metadata": {
    "collapsed": false
   },
   "outputs": [],
   "source": [
    "from mpl_toolkits.mplot3d import Axes3D\n",
    "fig = plt.figure()\n",
    "ax = fig.add_subplot(111, projection='3d')\n",
    "\n",
    "for branch in allbranches[1:]:\n",
    "    ax.scatter(branch[\"x\"], branch[\"y\"], branch[\"z\"], s=branch[\"m\"]/5e8, alpha=0.5)\n",
    "\n",
    "ax.scatter(0,0,0,s=10000, c='r', alpha=0.3)\n",
    "plt.show()"
   ]
  },
  {
   "cell_type": "code",
   "execution_count": 6,
   "metadata": {
    "collapsed": false
   },
   "outputs": [],
   "source": [
    "branch = allbranches[1]\n",
    "\n",
    "fig, ax = plt.subplots()\n",
    "\n",
    "ax.quiver(branch[\"x\"], branch[\"y\"], branch[\"vx\"], branch['vy'])\n",
    "ax.scatter(branch[\"x\"], branch[\"y\"])\n",
    "\n",
    "plt.show()"
   ]
  },
  {
   "cell_type": "markdown",
   "metadata": {},
   "source": [
    "branches are separated.\n",
    "So far, so good.\n",
    "\n",
    "### Now, calculate rotation vector of each galaxy\n",
    "\n",
    "1. load a single galaxy (rd_gal)\n",
    "\n",
    "2. cross product\n",
    "\n",
    "3. complete 1,2 steps for the trunk and a branch"
   ]
  },
  {
   "cell_type": "code",
   "execution_count": 7,
   "metadata": {
    "collapsed": true
   },
   "outputs": [],
   "source": [
    "import load\n",
    "import os\n",
    "from galaxy import rd_gal\n",
    "from utils import match as mtc"
   ]
  },
  {
   "cell_type": "code",
   "execution_count": 8,
   "metadata": {
    "collapsed": false
   },
   "outputs": [],
   "source": [
    "igal = 0\n",
    "idgal = trunk[\"Orig_halo_id\"][igal]\n",
    "nout = trunk[\"nout\"][igal]\n",
    "header, stars = rd_gal.rd_gal(187, idgal)"
   ]
  },
  {
   "cell_type": "markdown",
   "metadata": {},
   "source": [
    "Note that header is a numpy array of length 1, but not a recarray.\n",
    "Stars is a long recarray."
   ]
  },
  {
   "cell_type": "code",
   "execution_count": 9,
   "metadata": {
    "collapsed": false
   },
   "outputs": [
    {
     "name": "stdout",
     "output_type": "stream",
     "text": [
      "[('my_number', '<i4'), ('level', '<i4'), ('mgal', '<f8'), ('xg', '<f8', (3,)), ('vg', '<f8', (3,)), ('lg', '<f8', (3,)), ('npart', '<i4')]\n",
      "(numpy.record, [('pos', '<f8', (3,)), ('vel', '<f8', (3,)), ('id', '<i4'), ('m', '<f8'), ('time', '<f8'), ('metal', '<f8')])\n"
     ]
    }
   ],
   "source": [
    "print(header.dtype)\n",
    "print(stars.dtype)\n",
    "\n",
    "stars[\"pos\"] -= header[\"xg\"] # It's as simple as this!\n",
    "stars[\"vel\"] -= header[\"vg\"]\n",
    "stars[\"pos\"] *=1e3 # in kpc"
   ]
  },
  {
   "cell_type": "code",
   "execution_count": 10,
   "metadata": {
    "collapsed": true
   },
   "outputs": [],
   "source": [
    "import matplotlib.pyplot as plt\n",
    "from mpl_toolkits.mplot3d import Axes3D\n",
    "\n",
    "i_sub = range(1,len(stars),100) # 1 in every 100.\n",
    "\n",
    "X,Y,Z = stars[\"pos\"][i_sub,0],stars[\"pos\"][i_sub,1],stars[\"pos\"][i_sub,2]\n",
    "U,V,W = stars[\"vel\"][i_sub,0],stars[\"vel\"][i_sub,1],stars[\"vel\"][i_sub,2]\n",
    "# Rotation axis of the galaxy\n",
    "vec_rot = np.cross(stars[\"pos\"],stars[\"vel\"])\n",
    "Nx, Ny, Nz = vec_rot[i_sub,0], vec_rot[i_sub,1], vec_rot[i_sub,2]\n",
    "\n",
    "fig = plt.figure()\n",
    "ax = fig.add_subplot(111, projection='3d')\n",
    "# velocity\n",
    "scale_v = 3e-2\n",
    "ax.quiver(X,Y,Z,\n",
    "          U*scale_v,\n",
    "          V*scale_v,\n",
    "          W*scale_v,\n",
    "          color=\"blue\", pivot=\"tail\")\n",
    "\n",
    "# Normal vectors\n",
    "scale_n = 1 # No need to rescale, because it is normalized anyways.\n",
    "ax.quiver(X,Y,Z,\n",
    "          Nx*scale_n,\n",
    "          Ny*scale_n,\n",
    "          Nz*scale_n,\n",
    "          color=\"red\",\n",
    "          pivot=\"tail\", \n",
    "          normalize=True)\n",
    "\n",
    "\n",
    "Ln = vec_rot.sum(axis=0)\n",
    "Nn = Ln / np.linalg.norm(Ln)\n",
    "ax.quiver(0,0,0,Nn[0], Nn[1], Nn[2],\n",
    "          color=\"green\", pivot=\"tail\",\n",
    "          length = 30)\n",
    "\n",
    "plt.show()"
   ]
  },
  {
   "cell_type": "code",
   "execution_count": 12,
   "metadata": {
    "collapsed": false
   },
   "outputs": [],
   "source": [
    "def get_normal_vec(stars):\n",
    "    vec_rot = np.cross(stars[\"pos\"],stars[\"vel\"])\n",
    "    Ln = vec_rot.sum(axis=0) \n",
    "    return Ln / np.linalg.norm(Ln)\n",
    "\n",
    "def plot_n_arrows(ax, branch, trunk=None, color=\"blue\", cmap=None):\n",
    "    \"\"\"\n",
    "        Plots normal vectors of the branch over time. \n",
    "        If trunk is not None, galaxy positions relative to the host(trunk) are used. \n",
    "    \"\"\"\n",
    "    \n",
    "    import matplotlib.colors as colors\n",
    "    import matplotlib.cm as cmx\n",
    "    from collections import Iterable\n",
    "\n",
    "    if isinstance(color, Iterable) and not isinstance(color, (str)):\n",
    "        color_arr = True\n",
    "        cNorm  = colors.Normalize(vmin=np.min(color), vmax=np.max(color))\n",
    "        scalarMap = cmx.ScalarMappable(norm=cNorm,cmap=cmap)\n",
    "    else:\n",
    "        color_arr = False\n",
    "        colorVal = color\n",
    "    \n",
    "    for i, brick in enumerate(branch):\n",
    "        # load gal file\n",
    "        idgal = brick[\"Orig_halo_id\"]\n",
    "        nout = brick[\"nout\"]\n",
    "        try:\n",
    "            header, stars = rd_gal.rd_gal(nout, idgal)\n",
    "        except:\n",
    "            print(\"Failed to load galaxy file, skipping...\")\n",
    "            return False\n",
    "        info = load.info.Info(nout=nout)\n",
    "        \n",
    "        \n",
    "        # calculate Vec_rot\n",
    "        # Should I take all stellar particles?\n",
    "        nv = get_normal_vec(stars)\n",
    "\n",
    "        abs_pos_gal = (header[\"xg\"] + 100)#0.5*info.pboxsize)\n",
    "\n",
    "        if trunk is not None:\n",
    "            trunk_this = trunk[trunk[\"nout\"] == nout]        \n",
    "            abs_pos_trunk = (trunk_this[\"x\"][0],\n",
    "                             trunk_this[\"y\"][0],\n",
    "                             trunk_this[\"z\"][0])\n",
    "            rel_pos_gal = abs_pos_gal - abs_pos_trunk # pkpc\n",
    "        else:\n",
    "            rel_pos_gal = abs_pos_gal\n",
    "\n",
    "        if color_arr:\n",
    "            colorVal = scalarMap.to_rgba(color[i])\n",
    "        ax.quiver(rel_pos_gal[0],\n",
    "                  rel_pos_gal[1],\n",
    "                  rel_pos_gal[2],\n",
    "                  nv[0], nv[1], nv[2],\n",
    "                  color=colorVal, pivot=\"tail\")\n"
   ]
  },
  {
   "cell_type": "code",
   "execution_count": 13,
   "metadata": {
    "collapsed": true
   },
   "outputs": [],
   "source": [
    "def get_pericenter(trunk, branch, return_dist=False):\n",
    "    \"\"\"\n",
    "    returns the index at the pericenter,\n",
    "    or the distance if return_dist = True.\n",
    "    \"\"\"\n",
    "    dist = np.sqrt(np.square(trunk[\"x\"]-branch[\"x\"]) + \n",
    "                   np.square(trunk[\"y\"]-branch[\"y\"]) + \n",
    "                   np.square(trunk[\"z\"]-branch[\"z\"]))    \n",
    "    from scipy.signal import argrelextrema\n",
    "    search_window = 2 # number of neighboring points to test against.\n",
    "    if return_dist:\n",
    "        i_min = argrelextrema(dist, np.less, order=search_window)\n",
    "        return dist[i_min]\n",
    "    else:\n",
    "        return argrelextrema(dist, np.less, order=search_window)\n",
    "\n",
    "    \n",
    "def trunk_counter_part(trunk, branch):\n",
    "    \"\"\"\n",
    "    returns a part of trunk of overlaping nouts.\n",
    "    \"\"\"\n",
    "    i_counterpart = mtc.match_list_ind(trunk[\"nout\"], branch[\"nout\"])\n",
    "    return trunk[i_counterpart]\n",
    "    \n",
    "  "
   ]
  },
  {
   "cell_type": "code",
   "execution_count": 14,
   "metadata": {
    "collapsed": false
   },
   "outputs": [],
   "source": [
    "nv_trunk=[]\n",
    "for brick in trunk:\n",
    "    idgal_b = brick[\"Orig_halo_id\"]\n",
    "    nout = brick[\"nout\"]\n",
    "    info = load.info.Info(nout=nout)\n",
    "    header_b, stars_b = rd_gal.rd_gal(nout, idgal_b)\n",
    "\n",
    "    nv_b = get_normal_vec(stars_b)\n",
    "    nv_trunk.append(nv_b)\n",
    "\n",
    "# Make an augmented recarray\n",
    "dt = trunk.dtype.descr\n",
    "dt.append((\"nv\", \"f\", (3,)))\n",
    "new_arr = np.empty(len(trunk), dtype=dt)\n",
    "\n",
    "import numpy.lib.recfunctions as rf\n",
    "rf.recursive_fill_fields(trunk,new_arr) # copy original data\n",
    "new_arr[\"nv\"] = np.array(nv_trunk) # assign new data\n",
    "trunk = new_arr"
   ]
  },
  {
   "cell_type": "markdown",
   "metadata": {},
   "source": [
    "### Individual, animated version"
   ]
  },
  {
   "cell_type": "code",
   "execution_count": 19,
   "metadata": {
    "collapsed": false
   },
   "outputs": [
    {
     "ename": "KeyboardInterrupt",
     "evalue": "",
     "output_type": "error",
     "traceback": [
      "\u001b[0;31m---------------------------------------------------------------------------\u001b[0m",
      "\u001b[0;31mKeyboardInterrupt\u001b[0m                         Traceback (most recent call last)",
      "\u001b[0;32m<ipython-input-19-9d4027b5ede3>\u001b[0m in \u001b[0;36m<module>\u001b[0;34m()\u001b[0m\n\u001b[1;32m     90\u001b[0m \u001b[0;34m\u001b[0m\u001b[0m\n\u001b[1;32m     91\u001b[0m \u001b[0;34m\u001b[0m\u001b[0m\n\u001b[0;32m---> 92\u001b[0;31m         \u001b[0mplt\u001b[0m\u001b[0;34m.\u001b[0m\u001b[0msavefig\u001b[0m\u001b[0;34m(\u001b[0m\u001b[0ms_idx_branch\u001b[0m \u001b[0;34m+\u001b[0m \u001b[0;34m\"/\"\u001b[0m \u001b[0;34m+\u001b[0m \u001b[0ms_idx_branch\u001b[0m \u001b[0;34m+\u001b[0m \u001b[0;34m\"_\"\u001b[0m \u001b[0;34m+\u001b[0m \u001b[0mstr\u001b[0m\u001b[0;34m(\u001b[0m\u001b[0mnout\u001b[0m\u001b[0;34m)\u001b[0m\u001b[0;34m)\u001b[0m\u001b[0;34m\u001b[0m\u001b[0m\n\u001b[0m\u001b[1;32m     93\u001b[0m         \u001b[0max1\u001b[0m\u001b[0;34m.\u001b[0m\u001b[0mclear\u001b[0m\u001b[0;34m(\u001b[0m\u001b[0;34m)\u001b[0m\u001b[0;34m\u001b[0m\u001b[0m\n\u001b[1;32m     94\u001b[0m     \u001b[0max2\u001b[0m\u001b[0;34m.\u001b[0m\u001b[0mclear\u001b[0m\u001b[0;34m(\u001b[0m\u001b[0;34m)\u001b[0m\u001b[0;34m\u001b[0m\u001b[0m\n",
      "\u001b[0;32m/usr/local/lib/python3.5/dist-packages/matplotlib/pyplot.py\u001b[0m in \u001b[0;36msavefig\u001b[0;34m(*args, **kwargs)\u001b[0m\n\u001b[1;32m    695\u001b[0m \u001b[0;32mdef\u001b[0m \u001b[0msavefig\u001b[0m\u001b[0;34m(\u001b[0m\u001b[0;34m*\u001b[0m\u001b[0margs\u001b[0m\u001b[0;34m,\u001b[0m \u001b[0;34m**\u001b[0m\u001b[0mkwargs\u001b[0m\u001b[0;34m)\u001b[0m\u001b[0;34m:\u001b[0m\u001b[0;34m\u001b[0m\u001b[0m\n\u001b[1;32m    696\u001b[0m     \u001b[0mfig\u001b[0m \u001b[0;34m=\u001b[0m \u001b[0mgcf\u001b[0m\u001b[0;34m(\u001b[0m\u001b[0;34m)\u001b[0m\u001b[0;34m\u001b[0m\u001b[0m\n\u001b[0;32m--> 697\u001b[0;31m     \u001b[0mres\u001b[0m \u001b[0;34m=\u001b[0m \u001b[0mfig\u001b[0m\u001b[0;34m.\u001b[0m\u001b[0msavefig\u001b[0m\u001b[0;34m(\u001b[0m\u001b[0;34m*\u001b[0m\u001b[0margs\u001b[0m\u001b[0;34m,\u001b[0m \u001b[0;34m**\u001b[0m\u001b[0mkwargs\u001b[0m\u001b[0;34m)\u001b[0m\u001b[0;34m\u001b[0m\u001b[0m\n\u001b[0m\u001b[1;32m    698\u001b[0m     \u001b[0mfig\u001b[0m\u001b[0;34m.\u001b[0m\u001b[0mcanvas\u001b[0m\u001b[0;34m.\u001b[0m\u001b[0mdraw_idle\u001b[0m\u001b[0;34m(\u001b[0m\u001b[0;34m)\u001b[0m   \u001b[0;31m# need this if 'transparent=True' to reset colors\u001b[0m\u001b[0;34m\u001b[0m\u001b[0m\n\u001b[1;32m    699\u001b[0m     \u001b[0;32mreturn\u001b[0m \u001b[0mres\u001b[0m\u001b[0;34m\u001b[0m\u001b[0m\n",
      "\u001b[0;32m/usr/local/lib/python3.5/dist-packages/matplotlib/figure.py\u001b[0m in \u001b[0;36msavefig\u001b[0;34m(self, *args, **kwargs)\u001b[0m\n\u001b[1;32m   1569\u001b[0m             \u001b[0mself\u001b[0m\u001b[0;34m.\u001b[0m\u001b[0mset_frameon\u001b[0m\u001b[0;34m(\u001b[0m\u001b[0mframeon\u001b[0m\u001b[0;34m)\u001b[0m\u001b[0;34m\u001b[0m\u001b[0m\n\u001b[1;32m   1570\u001b[0m \u001b[0;34m\u001b[0m\u001b[0m\n\u001b[0;32m-> 1571\u001b[0;31m         \u001b[0mself\u001b[0m\u001b[0;34m.\u001b[0m\u001b[0mcanvas\u001b[0m\u001b[0;34m.\u001b[0m\u001b[0mprint_figure\u001b[0m\u001b[0;34m(\u001b[0m\u001b[0;34m*\u001b[0m\u001b[0margs\u001b[0m\u001b[0;34m,\u001b[0m \u001b[0;34m**\u001b[0m\u001b[0mkwargs\u001b[0m\u001b[0;34m)\u001b[0m\u001b[0;34m\u001b[0m\u001b[0m\n\u001b[0m\u001b[1;32m   1572\u001b[0m \u001b[0;34m\u001b[0m\u001b[0m\n\u001b[1;32m   1573\u001b[0m         \u001b[0;32mif\u001b[0m \u001b[0mframeon\u001b[0m\u001b[0;34m:\u001b[0m\u001b[0;34m\u001b[0m\u001b[0m\n",
      "\u001b[0;32m/usr/local/lib/python3.5/dist-packages/matplotlib/backends/backend_qt5agg.py\u001b[0m in \u001b[0;36mprint_figure\u001b[0;34m(self, *args, **kwargs)\u001b[0m\n\u001b[1;32m    205\u001b[0m     \u001b[0;32mdef\u001b[0m \u001b[0mprint_figure\u001b[0m\u001b[0;34m(\u001b[0m\u001b[0mself\u001b[0m\u001b[0;34m,\u001b[0m \u001b[0;34m*\u001b[0m\u001b[0margs\u001b[0m\u001b[0;34m,\u001b[0m \u001b[0;34m**\u001b[0m\u001b[0mkwargs\u001b[0m\u001b[0;34m)\u001b[0m\u001b[0;34m:\u001b[0m\u001b[0;34m\u001b[0m\u001b[0m\n\u001b[1;32m    206\u001b[0m         \u001b[0mFigureCanvasAgg\u001b[0m\u001b[0;34m.\u001b[0m\u001b[0mprint_figure\u001b[0m\u001b[0;34m(\u001b[0m\u001b[0mself\u001b[0m\u001b[0;34m,\u001b[0m \u001b[0;34m*\u001b[0m\u001b[0margs\u001b[0m\u001b[0;34m,\u001b[0m \u001b[0;34m**\u001b[0m\u001b[0mkwargs\u001b[0m\u001b[0;34m)\u001b[0m\u001b[0;34m\u001b[0m\u001b[0m\n\u001b[0;32m--> 207\u001b[0;31m         \u001b[0mself\u001b[0m\u001b[0;34m.\u001b[0m\u001b[0mdraw\u001b[0m\u001b[0;34m(\u001b[0m\u001b[0;34m)\u001b[0m\u001b[0;34m\u001b[0m\u001b[0m\n\u001b[0m\u001b[1;32m    208\u001b[0m \u001b[0;34m\u001b[0m\u001b[0m\n\u001b[1;32m    209\u001b[0m \u001b[0;34m\u001b[0m\u001b[0m\n",
      "\u001b[0;32m/usr/local/lib/python3.5/dist-packages/matplotlib/backends/backend_qt5agg.py\u001b[0m in \u001b[0;36mdraw\u001b[0;34m(self)\u001b[0m\n\u001b[1;32m    160\u001b[0m         \u001b[0;31m# The Agg draw is done here; delaying causes problems with code that\u001b[0m\u001b[0;34m\u001b[0m\u001b[0;34m\u001b[0m\u001b[0m\n\u001b[1;32m    161\u001b[0m         \u001b[0;31m# uses the result of the draw() to update plot elements.\u001b[0m\u001b[0;34m\u001b[0m\u001b[0;34m\u001b[0m\u001b[0m\n\u001b[0;32m--> 162\u001b[0;31m         \u001b[0mFigureCanvasAgg\u001b[0m\u001b[0;34m.\u001b[0m\u001b[0mdraw\u001b[0m\u001b[0;34m(\u001b[0m\u001b[0mself\u001b[0m\u001b[0;34m)\u001b[0m\u001b[0;34m\u001b[0m\u001b[0m\n\u001b[0m\u001b[1;32m    163\u001b[0m         \u001b[0mself\u001b[0m\u001b[0;34m.\u001b[0m\u001b[0mupdate\u001b[0m\u001b[0;34m(\u001b[0m\u001b[0;34m)\u001b[0m\u001b[0;34m\u001b[0m\u001b[0m\n\u001b[1;32m    164\u001b[0m \u001b[0;34m\u001b[0m\u001b[0m\n",
      "\u001b[0;32m/usr/local/lib/python3.5/dist-packages/matplotlib/backends/backend_agg.py\u001b[0m in \u001b[0;36mdraw\u001b[0;34m(self)\u001b[0m\n\u001b[1;32m    462\u001b[0m \u001b[0;34m\u001b[0m\u001b[0m\n\u001b[1;32m    463\u001b[0m         \u001b[0;32mtry\u001b[0m\u001b[0;34m:\u001b[0m\u001b[0;34m\u001b[0m\u001b[0m\n\u001b[0;32m--> 464\u001b[0;31m             \u001b[0mself\u001b[0m\u001b[0;34m.\u001b[0m\u001b[0mfigure\u001b[0m\u001b[0;34m.\u001b[0m\u001b[0mdraw\u001b[0m\u001b[0;34m(\u001b[0m\u001b[0mself\u001b[0m\u001b[0;34m.\u001b[0m\u001b[0mrenderer\u001b[0m\u001b[0;34m)\u001b[0m\u001b[0;34m\u001b[0m\u001b[0m\n\u001b[0m\u001b[1;32m    465\u001b[0m         \u001b[0;32mfinally\u001b[0m\u001b[0;34m:\u001b[0m\u001b[0;34m\u001b[0m\u001b[0m\n\u001b[1;32m    466\u001b[0m             \u001b[0mRendererAgg\u001b[0m\u001b[0;34m.\u001b[0m\u001b[0mlock\u001b[0m\u001b[0;34m.\u001b[0m\u001b[0mrelease\u001b[0m\u001b[0;34m(\u001b[0m\u001b[0;34m)\u001b[0m\u001b[0;34m\u001b[0m\u001b[0m\n",
      "\u001b[0;32m/usr/local/lib/python3.5/dist-packages/matplotlib/artist.py\u001b[0m in \u001b[0;36mdraw_wrapper\u001b[0;34m(artist, renderer, *args, **kwargs)\u001b[0m\n\u001b[1;32m     61\u001b[0m     \u001b[0;32mdef\u001b[0m \u001b[0mdraw_wrapper\u001b[0m\u001b[0;34m(\u001b[0m\u001b[0martist\u001b[0m\u001b[0;34m,\u001b[0m \u001b[0mrenderer\u001b[0m\u001b[0;34m,\u001b[0m \u001b[0;34m*\u001b[0m\u001b[0margs\u001b[0m\u001b[0;34m,\u001b[0m \u001b[0;34m**\u001b[0m\u001b[0mkwargs\u001b[0m\u001b[0;34m)\u001b[0m\u001b[0;34m:\u001b[0m\u001b[0;34m\u001b[0m\u001b[0m\n\u001b[1;32m     62\u001b[0m         \u001b[0mbefore\u001b[0m\u001b[0;34m(\u001b[0m\u001b[0martist\u001b[0m\u001b[0;34m,\u001b[0m \u001b[0mrenderer\u001b[0m\u001b[0;34m)\u001b[0m\u001b[0;34m\u001b[0m\u001b[0m\n\u001b[0;32m---> 63\u001b[0;31m         \u001b[0mdraw\u001b[0m\u001b[0;34m(\u001b[0m\u001b[0martist\u001b[0m\u001b[0;34m,\u001b[0m \u001b[0mrenderer\u001b[0m\u001b[0;34m,\u001b[0m \u001b[0;34m*\u001b[0m\u001b[0margs\u001b[0m\u001b[0;34m,\u001b[0m \u001b[0;34m**\u001b[0m\u001b[0mkwargs\u001b[0m\u001b[0;34m)\u001b[0m\u001b[0;34m\u001b[0m\u001b[0m\n\u001b[0m\u001b[1;32m     64\u001b[0m         \u001b[0mafter\u001b[0m\u001b[0;34m(\u001b[0m\u001b[0martist\u001b[0m\u001b[0;34m,\u001b[0m \u001b[0mrenderer\u001b[0m\u001b[0;34m)\u001b[0m\u001b[0;34m\u001b[0m\u001b[0m\n\u001b[1;32m     65\u001b[0m \u001b[0;34m\u001b[0m\u001b[0m\n",
      "\u001b[0;32m/usr/local/lib/python3.5/dist-packages/matplotlib/figure.py\u001b[0m in \u001b[0;36mdraw\u001b[0;34m(self, renderer)\u001b[0m\n\u001b[1;32m   1140\u001b[0m \u001b[0;34m\u001b[0m\u001b[0m\n\u001b[1;32m   1141\u001b[0m             mimage._draw_list_compositing_images(\n\u001b[0;32m-> 1142\u001b[0;31m                 renderer, self, dsu, self.suppressComposite)\n\u001b[0m\u001b[1;32m   1143\u001b[0m \u001b[0;34m\u001b[0m\u001b[0m\n\u001b[1;32m   1144\u001b[0m             \u001b[0mrenderer\u001b[0m\u001b[0;34m.\u001b[0m\u001b[0mclose_group\u001b[0m\u001b[0;34m(\u001b[0m\u001b[0;34m'figure'\u001b[0m\u001b[0;34m)\u001b[0m\u001b[0;34m\u001b[0m\u001b[0m\n",
      "\u001b[0;32m/usr/local/lib/python3.5/dist-packages/matplotlib/image.py\u001b[0m in \u001b[0;36m_draw_list_compositing_images\u001b[0;34m(renderer, parent, dsu, suppress_composite)\u001b[0m\n\u001b[1;32m    137\u001b[0m     \u001b[0;32mif\u001b[0m \u001b[0mnot_composite\u001b[0m \u001b[0;32mor\u001b[0m \u001b[0;32mnot\u001b[0m \u001b[0mhas_images\u001b[0m\u001b[0;34m:\u001b[0m\u001b[0;34m\u001b[0m\u001b[0m\n\u001b[1;32m    138\u001b[0m         \u001b[0;32mfor\u001b[0m \u001b[0mzorder\u001b[0m\u001b[0;34m,\u001b[0m \u001b[0ma\u001b[0m \u001b[0;32min\u001b[0m \u001b[0mdsu\u001b[0m\u001b[0;34m:\u001b[0m\u001b[0;34m\u001b[0m\u001b[0m\n\u001b[0;32m--> 139\u001b[0;31m             \u001b[0ma\u001b[0m\u001b[0;34m.\u001b[0m\u001b[0mdraw\u001b[0m\u001b[0;34m(\u001b[0m\u001b[0mrenderer\u001b[0m\u001b[0;34m)\u001b[0m\u001b[0;34m\u001b[0m\u001b[0m\n\u001b[0m\u001b[1;32m    140\u001b[0m     \u001b[0;32melse\u001b[0m\u001b[0;34m:\u001b[0m\u001b[0;34m\u001b[0m\u001b[0m\n\u001b[1;32m    141\u001b[0m         \u001b[0;31m# Composite any adjacent images together\u001b[0m\u001b[0;34m\u001b[0m\u001b[0;34m\u001b[0m\u001b[0m\n",
      "\u001b[0;32m/usr/local/lib/python3.5/dist-packages/mpl_toolkits/mplot3d/axes3d.py\u001b[0m in \u001b[0;36mdraw\u001b[0;34m(self, renderer)\u001b[0m\n\u001b[1;32m    288\u001b[0m             \u001b[0;31m# Then axes\u001b[0m\u001b[0;34m\u001b[0m\u001b[0;34m\u001b[0m\u001b[0m\n\u001b[1;32m    289\u001b[0m             \u001b[0;32mfor\u001b[0m \u001b[0max\u001b[0m \u001b[0;32min\u001b[0m \u001b[0maxes\u001b[0m\u001b[0;34m:\u001b[0m\u001b[0;34m\u001b[0m\u001b[0m\n\u001b[0;32m--> 290\u001b[0;31m                 \u001b[0max\u001b[0m\u001b[0;34m.\u001b[0m\u001b[0mdraw\u001b[0m\u001b[0;34m(\u001b[0m\u001b[0mrenderer\u001b[0m\u001b[0;34m)\u001b[0m\u001b[0;34m\u001b[0m\u001b[0m\n\u001b[0m\u001b[1;32m    291\u001b[0m \u001b[0;34m\u001b[0m\u001b[0m\n\u001b[1;32m    292\u001b[0m         \u001b[0;31m# Then rest\u001b[0m\u001b[0;34m\u001b[0m\u001b[0;34m\u001b[0m\u001b[0m\n",
      "\u001b[0;32m/usr/local/lib/python3.5/dist-packages/mpl_toolkits/mplot3d/axis3d.py\u001b[0m in \u001b[0;36mdraw\u001b[0;34m(self, renderer)\u001b[0m\n\u001b[1;32m    240\u001b[0m \u001b[0;34m\u001b[0m\u001b[0m\n\u001b[1;32m    241\u001b[0m         \u001b[0;31m# code from XAxis\u001b[0m\u001b[0;34m\u001b[0m\u001b[0;34m\u001b[0m\u001b[0m\n\u001b[0;32m--> 242\u001b[0;31m         \u001b[0mmajorTicks\u001b[0m \u001b[0;34m=\u001b[0m \u001b[0mself\u001b[0m\u001b[0;34m.\u001b[0m\u001b[0mget_major_ticks\u001b[0m\u001b[0;34m(\u001b[0m\u001b[0;34m)\u001b[0m\u001b[0;34m\u001b[0m\u001b[0m\n\u001b[0m\u001b[1;32m    243\u001b[0m         \u001b[0mmajorLocs\u001b[0m \u001b[0;34m=\u001b[0m \u001b[0mself\u001b[0m\u001b[0;34m.\u001b[0m\u001b[0mmajor\u001b[0m\u001b[0;34m.\u001b[0m\u001b[0mlocator\u001b[0m\u001b[0;34m(\u001b[0m\u001b[0;34m)\u001b[0m\u001b[0;34m\u001b[0m\u001b[0m\n\u001b[1;32m    244\u001b[0m \u001b[0;34m\u001b[0m\u001b[0m\n",
      "\u001b[0;32m/usr/local/lib/python3.5/dist-packages/mpl_toolkits/mplot3d/axis3d.py\u001b[0m in \u001b[0;36mget_major_ticks\u001b[0;34m(self, numticks)\u001b[0m\n\u001b[1;32m    158\u001b[0m \u001b[0;34m\u001b[0m\u001b[0m\n\u001b[1;32m    159\u001b[0m     \u001b[0;32mdef\u001b[0m \u001b[0mget_major_ticks\u001b[0m\u001b[0;34m(\u001b[0m\u001b[0mself\u001b[0m\u001b[0;34m,\u001b[0m \u001b[0mnumticks\u001b[0m\u001b[0;34m=\u001b[0m\u001b[0;32mNone\u001b[0m\u001b[0;34m)\u001b[0m\u001b[0;34m:\u001b[0m\u001b[0;34m\u001b[0m\u001b[0m\n\u001b[0;32m--> 160\u001b[0;31m         \u001b[0mticks\u001b[0m \u001b[0;34m=\u001b[0m \u001b[0mmaxis\u001b[0m\u001b[0;34m.\u001b[0m\u001b[0mXAxis\u001b[0m\u001b[0;34m.\u001b[0m\u001b[0mget_major_ticks\u001b[0m\u001b[0;34m(\u001b[0m\u001b[0mself\u001b[0m\u001b[0;34m,\u001b[0m \u001b[0mnumticks\u001b[0m\u001b[0;34m)\u001b[0m\u001b[0;34m\u001b[0m\u001b[0m\n\u001b[0m\u001b[1;32m    161\u001b[0m         \u001b[0;32mfor\u001b[0m \u001b[0mt\u001b[0m \u001b[0;32min\u001b[0m \u001b[0mticks\u001b[0m\u001b[0;34m:\u001b[0m\u001b[0;34m\u001b[0m\u001b[0m\n\u001b[1;32m    162\u001b[0m             \u001b[0mt\u001b[0m\u001b[0;34m.\u001b[0m\u001b[0mtick1line\u001b[0m\u001b[0;34m.\u001b[0m\u001b[0mset_transform\u001b[0m\u001b[0;34m(\u001b[0m\u001b[0mself\u001b[0m\u001b[0;34m.\u001b[0m\u001b[0maxes\u001b[0m\u001b[0;34m.\u001b[0m\u001b[0mtransData\u001b[0m\u001b[0;34m)\u001b[0m\u001b[0;34m\u001b[0m\u001b[0m\n",
      "\u001b[0;32m/usr/local/lib/python3.5/dist-packages/matplotlib/axis.py\u001b[0m in \u001b[0;36mget_major_ticks\u001b[0;34m(self, numticks)\u001b[0m\n\u001b[1;32m   1318\u001b[0m         \u001b[0;34m'get the tick instances; grow as necessary'\u001b[0m\u001b[0;34m\u001b[0m\u001b[0m\n\u001b[1;32m   1319\u001b[0m         \u001b[0;32mif\u001b[0m \u001b[0mnumticks\u001b[0m \u001b[0;32mis\u001b[0m \u001b[0;32mNone\u001b[0m\u001b[0;34m:\u001b[0m\u001b[0;34m\u001b[0m\u001b[0m\n\u001b[0;32m-> 1320\u001b[0;31m             \u001b[0mnumticks\u001b[0m \u001b[0;34m=\u001b[0m \u001b[0mlen\u001b[0m\u001b[0;34m(\u001b[0m\u001b[0mself\u001b[0m\u001b[0;34m.\u001b[0m\u001b[0mget_major_locator\u001b[0m\u001b[0;34m(\u001b[0m\u001b[0;34m)\u001b[0m\u001b[0;34m(\u001b[0m\u001b[0;34m)\u001b[0m\u001b[0;34m)\u001b[0m\u001b[0;34m\u001b[0m\u001b[0m\n\u001b[0m\u001b[1;32m   1321\u001b[0m         \u001b[0;32mif\u001b[0m \u001b[0mlen\u001b[0m\u001b[0;34m(\u001b[0m\u001b[0mself\u001b[0m\u001b[0;34m.\u001b[0m\u001b[0mmajorTicks\u001b[0m\u001b[0;34m)\u001b[0m \u001b[0;34m<\u001b[0m \u001b[0mnumticks\u001b[0m\u001b[0;34m:\u001b[0m\u001b[0;34m\u001b[0m\u001b[0m\n\u001b[1;32m   1322\u001b[0m             \u001b[0;31m# update the new tick label properties from the old\u001b[0m\u001b[0;34m\u001b[0m\u001b[0;34m\u001b[0m\u001b[0m\n",
      "\u001b[0;32m/usr/local/lib/python3.5/dist-packages/matplotlib/ticker.py\u001b[0m in \u001b[0;36m__call__\u001b[0;34m(self)\u001b[0m\n\u001b[1;32m   1791\u001b[0m     \u001b[0;32mdef\u001b[0m \u001b[0m__call__\u001b[0m\u001b[0;34m(\u001b[0m\u001b[0mself\u001b[0m\u001b[0;34m)\u001b[0m\u001b[0;34m:\u001b[0m\u001b[0;34m\u001b[0m\u001b[0m\n\u001b[1;32m   1792\u001b[0m         \u001b[0mvmin\u001b[0m\u001b[0;34m,\u001b[0m \u001b[0mvmax\u001b[0m \u001b[0;34m=\u001b[0m \u001b[0mself\u001b[0m\u001b[0;34m.\u001b[0m\u001b[0maxis\u001b[0m\u001b[0;34m.\u001b[0m\u001b[0mget_view_interval\u001b[0m\u001b[0;34m(\u001b[0m\u001b[0;34m)\u001b[0m\u001b[0;34m\u001b[0m\u001b[0m\n\u001b[0;32m-> 1793\u001b[0;31m         \u001b[0;32mreturn\u001b[0m \u001b[0mself\u001b[0m\u001b[0;34m.\u001b[0m\u001b[0mtick_values\u001b[0m\u001b[0;34m(\u001b[0m\u001b[0mvmin\u001b[0m\u001b[0;34m,\u001b[0m \u001b[0mvmax\u001b[0m\u001b[0;34m)\u001b[0m\u001b[0;34m\u001b[0m\u001b[0m\n\u001b[0m\u001b[1;32m   1794\u001b[0m \u001b[0;34m\u001b[0m\u001b[0m\n\u001b[1;32m   1795\u001b[0m     \u001b[0;32mdef\u001b[0m \u001b[0mtick_values\u001b[0m\u001b[0;34m(\u001b[0m\u001b[0mself\u001b[0m\u001b[0;34m,\u001b[0m \u001b[0mvmin\u001b[0m\u001b[0;34m,\u001b[0m \u001b[0mvmax\u001b[0m\u001b[0;34m)\u001b[0m\u001b[0;34m:\u001b[0m\u001b[0;34m\u001b[0m\u001b[0m\n",
      "\u001b[0;32m/usr/local/lib/python3.5/dist-packages/matplotlib/ticker.py\u001b[0m in \u001b[0;36mtick_values\u001b[0;34m(self, vmin, vmax)\u001b[0m\n\u001b[1;32m   1799\u001b[0m         vmin, vmax = mtransforms.nonsingular(\n\u001b[1;32m   1800\u001b[0m             vmin, vmax, expander=1e-13, tiny=1e-14)\n\u001b[0;32m-> 1801\u001b[0;31m         \u001b[0mlocs\u001b[0m \u001b[0;34m=\u001b[0m \u001b[0mself\u001b[0m\u001b[0;34m.\u001b[0m\u001b[0m_raw_ticks\u001b[0m\u001b[0;34m(\u001b[0m\u001b[0mvmin\u001b[0m\u001b[0;34m,\u001b[0m \u001b[0mvmax\u001b[0m\u001b[0;34m)\u001b[0m\u001b[0;34m\u001b[0m\u001b[0m\n\u001b[0m\u001b[1;32m   1802\u001b[0m \u001b[0;34m\u001b[0m\u001b[0m\n\u001b[1;32m   1803\u001b[0m         \u001b[0mprune\u001b[0m \u001b[0;34m=\u001b[0m \u001b[0mself\u001b[0m\u001b[0;34m.\u001b[0m\u001b[0m_prune\u001b[0m\u001b[0;34m\u001b[0m\u001b[0m\n",
      "\u001b[0;32m/usr/local/lib/python3.5/dist-packages/matplotlib/ticker.py\u001b[0m in \u001b[0;36m_raw_ticks\u001b[0;34m(self, vmin, vmax)\u001b[0m\n\u001b[1;32m   1746\u001b[0m         \u001b[0;32mif\u001b[0m \u001b[0mself\u001b[0m\u001b[0;34m.\u001b[0m\u001b[0m_nbins\u001b[0m \u001b[0;34m==\u001b[0m \u001b[0;34m'auto'\u001b[0m\u001b[0;34m:\u001b[0m\u001b[0;34m\u001b[0m\u001b[0m\n\u001b[1;32m   1747\u001b[0m             \u001b[0;32mif\u001b[0m \u001b[0mself\u001b[0m\u001b[0;34m.\u001b[0m\u001b[0maxis\u001b[0m \u001b[0;32mis\u001b[0m \u001b[0;32mnot\u001b[0m \u001b[0;32mNone\u001b[0m\u001b[0;34m:\u001b[0m\u001b[0;34m\u001b[0m\u001b[0m\n\u001b[0;32m-> 1748\u001b[0;31m                 nbins = max(min(self.axis.get_tick_space(), 9),\n\u001b[0m\u001b[1;32m   1749\u001b[0m                             max(1, self._min_n_ticks - 1))\n\u001b[1;32m   1750\u001b[0m             \u001b[0;32melse\u001b[0m\u001b[0;34m:\u001b[0m\u001b[0;34m\u001b[0m\u001b[0m\n",
      "\u001b[0;32m/usr/local/lib/python3.5/dist-packages/matplotlib/axis.py\u001b[0m in \u001b[0;36mget_tick_space\u001b[0;34m(self)\u001b[0m\n\u001b[1;32m   2018\u001b[0m         \u001b[0mends\u001b[0m \u001b[0;34m=\u001b[0m \u001b[0mself\u001b[0m\u001b[0;34m.\u001b[0m\u001b[0maxes\u001b[0m\u001b[0;34m.\u001b[0m\u001b[0mtransAxes\u001b[0m\u001b[0;34m.\u001b[0m\u001b[0mtransform\u001b[0m\u001b[0;34m(\u001b[0m\u001b[0;34m[\u001b[0m\u001b[0;34m[\u001b[0m\u001b[0;36m0\u001b[0m\u001b[0;34m,\u001b[0m \u001b[0;36m0\u001b[0m\u001b[0;34m]\u001b[0m\u001b[0;34m,\u001b[0m \u001b[0;34m[\u001b[0m\u001b[0;36m1\u001b[0m\u001b[0;34m,\u001b[0m \u001b[0;36m0\u001b[0m\u001b[0;34m]\u001b[0m\u001b[0;34m]\u001b[0m\u001b[0;34m)\u001b[0m\u001b[0;34m\u001b[0m\u001b[0m\n\u001b[1;32m   2019\u001b[0m         \u001b[0mlength\u001b[0m \u001b[0;34m=\u001b[0m \u001b[0;34m(\u001b[0m\u001b[0;34m(\u001b[0m\u001b[0mends\u001b[0m\u001b[0;34m[\u001b[0m\u001b[0;36m1\u001b[0m\u001b[0;34m]\u001b[0m\u001b[0;34m[\u001b[0m\u001b[0;36m0\u001b[0m\u001b[0;34m]\u001b[0m \u001b[0;34m-\u001b[0m \u001b[0mends\u001b[0m\u001b[0;34m[\u001b[0m\u001b[0;36m0\u001b[0m\u001b[0;34m]\u001b[0m\u001b[0;34m[\u001b[0m\u001b[0;36m0\u001b[0m\u001b[0;34m]\u001b[0m\u001b[0;34m)\u001b[0m \u001b[0;34m/\u001b[0m \u001b[0mself\u001b[0m\u001b[0;34m.\u001b[0m\u001b[0maxes\u001b[0m\u001b[0;34m.\u001b[0m\u001b[0mfigure\u001b[0m\u001b[0;34m.\u001b[0m\u001b[0mdpi\u001b[0m\u001b[0;34m)\u001b[0m \u001b[0;34m*\u001b[0m \u001b[0;36m72.0\u001b[0m\u001b[0;34m\u001b[0m\u001b[0m\n\u001b[0;32m-> 2020\u001b[0;31m         \u001b[0mtick\u001b[0m \u001b[0;34m=\u001b[0m \u001b[0mself\u001b[0m\u001b[0;34m.\u001b[0m\u001b[0m_get_tick\u001b[0m\u001b[0;34m(\u001b[0m\u001b[0;32mTrue\u001b[0m\u001b[0;34m)\u001b[0m\u001b[0;34m\u001b[0m\u001b[0m\n\u001b[0m\u001b[1;32m   2021\u001b[0m         \u001b[0;31m# There is a heuristic here that the aspect ratio of tick text\u001b[0m\u001b[0;34m\u001b[0m\u001b[0;34m\u001b[0m\u001b[0m\n\u001b[1;32m   2022\u001b[0m         \u001b[0;31m# is no more than 3:1\u001b[0m\u001b[0;34m\u001b[0m\u001b[0;34m\u001b[0m\u001b[0m\n",
      "\u001b[0;32m/usr/local/lib/python3.5/dist-packages/matplotlib/axis.py\u001b[0m in \u001b[0;36m_get_tick\u001b[0;34m(self, major)\u001b[0m\n\u001b[1;32m   1727\u001b[0m         \u001b[0;32melse\u001b[0m\u001b[0;34m:\u001b[0m\u001b[0;34m\u001b[0m\u001b[0m\n\u001b[1;32m   1728\u001b[0m             \u001b[0mtick_kw\u001b[0m \u001b[0;34m=\u001b[0m \u001b[0mself\u001b[0m\u001b[0;34m.\u001b[0m\u001b[0m_minor_tick_kw\u001b[0m\u001b[0;34m\u001b[0m\u001b[0m\n\u001b[0;32m-> 1729\u001b[0;31m         \u001b[0;32mreturn\u001b[0m \u001b[0mXTick\u001b[0m\u001b[0;34m(\u001b[0m\u001b[0mself\u001b[0m\u001b[0;34m.\u001b[0m\u001b[0maxes\u001b[0m\u001b[0;34m,\u001b[0m \u001b[0;36m0\u001b[0m\u001b[0;34m,\u001b[0m \u001b[0;34m''\u001b[0m\u001b[0;34m,\u001b[0m \u001b[0mmajor\u001b[0m\u001b[0;34m=\u001b[0m\u001b[0mmajor\u001b[0m\u001b[0;34m,\u001b[0m \u001b[0;34m**\u001b[0m\u001b[0mtick_kw\u001b[0m\u001b[0;34m)\u001b[0m\u001b[0;34m\u001b[0m\u001b[0m\n\u001b[0m\u001b[1;32m   1730\u001b[0m \u001b[0;34m\u001b[0m\u001b[0m\n\u001b[1;32m   1731\u001b[0m     \u001b[0;32mdef\u001b[0m \u001b[0m_get_label\u001b[0m\u001b[0;34m(\u001b[0m\u001b[0mself\u001b[0m\u001b[0;34m)\u001b[0m\u001b[0;34m:\u001b[0m\u001b[0;34m\u001b[0m\u001b[0m\n",
      "\u001b[0;32m/usr/local/lib/python3.5/dist-packages/matplotlib/axis.py\u001b[0m in \u001b[0;36m__init__\u001b[0;34m(self, axes, loc, label, size, width, color, tickdir, pad, labelsize, labelcolor, zorder, gridOn, tick1On, tick2On, label1On, label2On, major)\u001b[0m\n\u001b[1;32m    148\u001b[0m         \u001b[0mself\u001b[0m\u001b[0;34m.\u001b[0m\u001b[0mapply_tickdir\u001b[0m\u001b[0;34m(\u001b[0m\u001b[0mtickdir\u001b[0m\u001b[0;34m)\u001b[0m\u001b[0;34m\u001b[0m\u001b[0m\n\u001b[1;32m    149\u001b[0m \u001b[0;34m\u001b[0m\u001b[0m\n\u001b[0;32m--> 150\u001b[0;31m         \u001b[0mself\u001b[0m\u001b[0;34m.\u001b[0m\u001b[0mtick1line\u001b[0m \u001b[0;34m=\u001b[0m \u001b[0mself\u001b[0m\u001b[0;34m.\u001b[0m\u001b[0m_get_tick1line\u001b[0m\u001b[0;34m(\u001b[0m\u001b[0;34m)\u001b[0m\u001b[0;34m\u001b[0m\u001b[0m\n\u001b[0m\u001b[1;32m    151\u001b[0m         \u001b[0mself\u001b[0m\u001b[0;34m.\u001b[0m\u001b[0mtick2line\u001b[0m \u001b[0;34m=\u001b[0m \u001b[0mself\u001b[0m\u001b[0;34m.\u001b[0m\u001b[0m_get_tick2line\u001b[0m\u001b[0;34m(\u001b[0m\u001b[0;34m)\u001b[0m\u001b[0;34m\u001b[0m\u001b[0m\n\u001b[1;32m    152\u001b[0m         \u001b[0mself\u001b[0m\u001b[0;34m.\u001b[0m\u001b[0mgridline\u001b[0m \u001b[0;34m=\u001b[0m \u001b[0mself\u001b[0m\u001b[0;34m.\u001b[0m\u001b[0m_get_gridline\u001b[0m\u001b[0;34m(\u001b[0m\u001b[0;34m)\u001b[0m\u001b[0;34m\u001b[0m\u001b[0m\n",
      "\u001b[0;32m/usr/local/lib/python3.5/dist-packages/matplotlib/axis.py\u001b[0m in \u001b[0;36m_get_tick1line\u001b[0;34m(self)\u001b[0m\n\u001b[1;32m    418\u001b[0m                           \u001b[0mlinestyle\u001b[0m\u001b[0;34m=\u001b[0m\u001b[0;34m'None'\u001b[0m\u001b[0;34m,\u001b[0m \u001b[0mmarker\u001b[0m\u001b[0;34m=\u001b[0m\u001b[0mself\u001b[0m\u001b[0;34m.\u001b[0m\u001b[0m_tickmarkers\u001b[0m\u001b[0;34m[\u001b[0m\u001b[0;36m0\u001b[0m\u001b[0;34m]\u001b[0m\u001b[0;34m,\u001b[0m\u001b[0;34m\u001b[0m\u001b[0m\n\u001b[1;32m    419\u001b[0m                           \u001b[0mmarkersize\u001b[0m\u001b[0;34m=\u001b[0m\u001b[0mself\u001b[0m\u001b[0;34m.\u001b[0m\u001b[0m_size\u001b[0m\u001b[0;34m,\u001b[0m\u001b[0;34m\u001b[0m\u001b[0m\n\u001b[0;32m--> 420\u001b[0;31m                           markeredgewidth=self._width, zorder=self._zorder)\n\u001b[0m\u001b[1;32m    421\u001b[0m         \u001b[0ml\u001b[0m\u001b[0;34m.\u001b[0m\u001b[0mset_transform\u001b[0m\u001b[0;34m(\u001b[0m\u001b[0mself\u001b[0m\u001b[0;34m.\u001b[0m\u001b[0maxes\u001b[0m\u001b[0;34m.\u001b[0m\u001b[0mget_xaxis_transform\u001b[0m\u001b[0;34m(\u001b[0m\u001b[0mwhich\u001b[0m\u001b[0;34m=\u001b[0m\u001b[0;34m'tick1'\u001b[0m\u001b[0;34m)\u001b[0m\u001b[0;34m)\u001b[0m\u001b[0;34m\u001b[0m\u001b[0m\n\u001b[1;32m    422\u001b[0m         \u001b[0mself\u001b[0m\u001b[0;34m.\u001b[0m\u001b[0m_set_artist_props\u001b[0m\u001b[0;34m(\u001b[0m\u001b[0ml\u001b[0m\u001b[0;34m)\u001b[0m\u001b[0;34m\u001b[0m\u001b[0m\n",
      "\u001b[0;32m/usr/local/lib/python3.5/dist-packages/matplotlib/lines.py\u001b[0m in \u001b[0;36m__init__\u001b[0;34m(self, xdata, ydata, linewidth, linestyle, color, marker, markersize, markeredgewidth, markeredgecolor, markerfacecolor, markerfacecoloralt, fillstyle, antialiased, dash_capstyle, solid_capstyle, dash_joinstyle, solid_joinstyle, pickradius, drawstyle, markevery, **kwargs)\u001b[0m\n\u001b[1;32m    429\u001b[0m         \u001b[0;31m# update kwargs before updating data to give the caller a\u001b[0m\u001b[0;34m\u001b[0m\u001b[0;34m\u001b[0m\u001b[0m\n\u001b[1;32m    430\u001b[0m         \u001b[0;31m# chance to init axes (and hence unit support)\u001b[0m\u001b[0;34m\u001b[0m\u001b[0;34m\u001b[0m\u001b[0m\n\u001b[0;32m--> 431\u001b[0;31m         \u001b[0mself\u001b[0m\u001b[0;34m.\u001b[0m\u001b[0mupdate\u001b[0m\u001b[0;34m(\u001b[0m\u001b[0mkwargs\u001b[0m\u001b[0;34m)\u001b[0m\u001b[0;34m\u001b[0m\u001b[0m\n\u001b[0m\u001b[1;32m    432\u001b[0m         \u001b[0mself\u001b[0m\u001b[0;34m.\u001b[0m\u001b[0mpickradius\u001b[0m \u001b[0;34m=\u001b[0m \u001b[0mpickradius\u001b[0m\u001b[0;34m\u001b[0m\u001b[0m\n\u001b[1;32m    433\u001b[0m         \u001b[0mself\u001b[0m\u001b[0;34m.\u001b[0m\u001b[0mind_offset\u001b[0m \u001b[0;34m=\u001b[0m \u001b[0;36m0\u001b[0m\u001b[0;34m\u001b[0m\u001b[0m\n",
      "\u001b[0;32m/usr/local/lib/python3.5/dist-packages/matplotlib/artist.py\u001b[0m in \u001b[0;36mupdate\u001b[0;34m(self, props)\u001b[0m\n\u001b[1;32m    883\u001b[0m         \u001b[0;32mtry\u001b[0m\u001b[0;34m:\u001b[0m\u001b[0;34m\u001b[0m\u001b[0m\n\u001b[1;32m    884\u001b[0m             ret = [_update_property(self, k, v)\n\u001b[0;32m--> 885\u001b[0;31m                    for k, v in props.items()]\n\u001b[0m\u001b[1;32m    886\u001b[0m         \u001b[0;32mfinally\u001b[0m\u001b[0;34m:\u001b[0m\u001b[0;34m\u001b[0m\u001b[0m\n\u001b[1;32m    887\u001b[0m             \u001b[0mself\u001b[0m\u001b[0;34m.\u001b[0m\u001b[0meventson\u001b[0m \u001b[0;34m=\u001b[0m \u001b[0mstore\u001b[0m\u001b[0;34m\u001b[0m\u001b[0m\n",
      "\u001b[0;32m/usr/local/lib/python3.5/dist-packages/matplotlib/artist.py\u001b[0m in \u001b[0;36m<listcomp>\u001b[0;34m(.0)\u001b[0m\n\u001b[1;32m    883\u001b[0m         \u001b[0;32mtry\u001b[0m\u001b[0;34m:\u001b[0m\u001b[0;34m\u001b[0m\u001b[0m\n\u001b[1;32m    884\u001b[0m             ret = [_update_property(self, k, v)\n\u001b[0;32m--> 885\u001b[0;31m                    for k, v in props.items()]\n\u001b[0m\u001b[1;32m    886\u001b[0m         \u001b[0;32mfinally\u001b[0m\u001b[0;34m:\u001b[0m\u001b[0;34m\u001b[0m\u001b[0m\n\u001b[1;32m    887\u001b[0m             \u001b[0mself\u001b[0m\u001b[0;34m.\u001b[0m\u001b[0meventson\u001b[0m \u001b[0;34m=\u001b[0m \u001b[0mstore\u001b[0m\u001b[0;34m\u001b[0m\u001b[0m\n",
      "\u001b[0;32m/usr/local/lib/python3.5/dist-packages/matplotlib/artist.py\u001b[0m in \u001b[0;36m_update_property\u001b[0;34m(self, k, v)\u001b[0m\n\u001b[1;32m    875\u001b[0m             \u001b[0;32melse\u001b[0m\u001b[0;34m:\u001b[0m\u001b[0;34m\u001b[0m\u001b[0m\n\u001b[1;32m    876\u001b[0m                 \u001b[0mfunc\u001b[0m \u001b[0;34m=\u001b[0m \u001b[0mgetattr\u001b[0m\u001b[0;34m(\u001b[0m\u001b[0mself\u001b[0m\u001b[0;34m,\u001b[0m \u001b[0;34m'set_'\u001b[0m \u001b[0;34m+\u001b[0m \u001b[0mk\u001b[0m\u001b[0;34m,\u001b[0m \u001b[0;32mNone\u001b[0m\u001b[0;34m)\u001b[0m\u001b[0;34m\u001b[0m\u001b[0m\n\u001b[0;32m--> 877\u001b[0;31m                 \u001b[0;32mif\u001b[0m \u001b[0mfunc\u001b[0m \u001b[0;32mis\u001b[0m \u001b[0;32mNone\u001b[0m \u001b[0;32mor\u001b[0m \u001b[0;32mnot\u001b[0m \u001b[0msix\u001b[0m\u001b[0;34m.\u001b[0m\u001b[0mcallable\u001b[0m\u001b[0;34m(\u001b[0m\u001b[0mfunc\u001b[0m\u001b[0;34m)\u001b[0m\u001b[0;34m:\u001b[0m\u001b[0;34m\u001b[0m\u001b[0m\n\u001b[0m\u001b[1;32m    878\u001b[0m                     \u001b[0;32mraise\u001b[0m \u001b[0mAttributeError\u001b[0m\u001b[0;34m(\u001b[0m\u001b[0;34m'Unknown property %s'\u001b[0m \u001b[0;34m%\u001b[0m \u001b[0mk\u001b[0m\u001b[0;34m)\u001b[0m\u001b[0;34m\u001b[0m\u001b[0m\n\u001b[1;32m    879\u001b[0m                 \u001b[0;32mreturn\u001b[0m \u001b[0mfunc\u001b[0m\u001b[0;34m(\u001b[0m\u001b[0mv\u001b[0m\u001b[0;34m)\u001b[0m\u001b[0;34m\u001b[0m\u001b[0m\n",
      "\u001b[0;31mKeyboardInterrupt\u001b[0m: "
     ]
    }
   ],
   "source": [
    "import matplotlib.colors as colors\n",
    "import matplotlib.cm as cmx\n",
    "\n",
    "fig = plt.figure(figsize=(12,5))\n",
    "ax1 = fig.add_subplot(121, projection='3d')\n",
    "ax2 = fig.add_subplot(122)\n",
    "\n",
    "#colors=[\"black\", \"gray\", \"silver\", \"maroon\", \"red\", \"purple\", \"fuchisica\", \"lime\", \"olive\"]\n",
    "\n",
    "#plot_n_arrows(ax1, trunk_part, trunk=None, color=\"black\")\n",
    "\n",
    "ignore_position=True # put two n vectors at the origin. \n",
    "nout_min = 30\n",
    "\n",
    "cmap = None\n",
    "cNorm  = colors.Normalize(vmin=0, vmax=90) # 0 ~ 90 degree -> -90 ~ +90 or 0 ~ 180.\n",
    "scalarMap = cmx.ScalarMappable(norm=cNorm,cmap=cmap)\n",
    "\n",
    "for i,branch in enumerate(allbranches[1:]):\n",
    "    #plot_n_arrows(ax1, branch[branch[\"nout\"] > nout_min], trunk=None, color=colors[i])\n",
    "    nv_b = []\n",
    "    nv_t=[]\n",
    "    rel_ang =[]\n",
    "\n",
    "    trunk_part = trunk_counter_part(trunk, branch)\n",
    "    s_idx_branch = str(branch[\"id\"][0])\n",
    "\n",
    "    if not os.path.isdir(s_idx_branch):\n",
    "        os.mkdir(s_idx_branch)\n",
    "    # Earlier time earlier\n",
    "    for brick, brick_t in zip(branch[::-1], trunk_part[::-1]):\n",
    "        # load gal file\n",
    "        idgal_b = brick[\"Orig_halo_id\"]\n",
    "        nout = brick[\"nout\"]\n",
    "        if nout < nout_min:\n",
    "            continue\n",
    "        try:\n",
    "            header_b, stars_b = rd_gal.rd_gal(nout, idgal_b)\n",
    "        except:\n",
    "            print(\"Failed to load galaxy file, skipping...\")\n",
    "            rel_ang.append(np.nan)\n",
    "            continue\n",
    "        info = load.info.Info(nout=nout)\n",
    "\n",
    "        \n",
    "        # rotation axis\n",
    "        nvb = get_normal_vec(stars_b)\n",
    "        nv_b.append(nvb)\n",
    "\n",
    "        nvt = brick_t[\"nv\"]\n",
    "        nv_t.append(nvt)\n",
    "        relang = 180 / np.pi * np.arccos(np.dot(nvb, nvt))\n",
    "        rel_ang.append(relang) # Normal vectors are already normalized.\n",
    "\n",
    "        # Position\n",
    "        abs_pos_gal = (header[\"xg\"] + 100)#0.5*info.pboxsize)\n",
    "        abs_pos_trunk = (brick_t[\"x\"],\n",
    "                         brick_t[\"y\"],\n",
    "                         brick_t[\"z\"])\n",
    "        rel_pos_gal = abs_pos_gal - abs_pos_trunk\n",
    "        \n",
    "        # Orbital angle.\n",
    "        rel_vel_gal = header[\"vg\"] - (brick_t[\"vx\"],brick_t[\"vy\"],brick_t[\"vz\"]) # km/s\n",
    "        j_orbital = np.cross(rel_pos_gal, rel_vel_gal)\n",
    "\n",
    "        # sat normal vector\n",
    "        if ignore_position:\n",
    "            ax1.quiver(0,0,0, nvb[0], nvb[1], nvb[2],\n",
    "                color=scalarMap.to_rgba(relang), pivot=\"tail\")\n",
    "        else:\n",
    "            ax1.quiver(rel_pos_gal[0],\n",
    "                       rel_pos_gal[1],\n",
    "                       rel_pos_gal[2],\n",
    "                       color=scalarMap.to_rgba(relang), pivot=\"tail\")         \n",
    "        \n",
    "        # host normal vector\n",
    "        ax1.quiver(0,0,0, brick_t[\"nv\"][0],brick_t[\"nv\"][1],brick_t[\"nv\"][2],\n",
    "                  color=\"black\", pivot=\"tail\")\n",
    "        \n",
    "        ax2.plot(rel_ang, color = \"b\")\n",
    "        ax2.set_xlim([0,len(branch) + 5])\n",
    "        ax2.set_ylim([0,180])\n",
    "        ax1.auto_scale_xyz([-1.5,1.5],[-1.5,1.5],[-1.5,1.5])\n",
    "        ax1.set_xlabel(\"X\")\n",
    "        ax1.set_ylabel(\"Y\")\n",
    "        ax1.set_zlabel(\"Z\")\n",
    "        \n",
    "\n",
    "        plt.savefig(s_idx_branch + \"/\" + s_idx_branch + \"_\" + str(nout))\n",
    "        ax1.clear()\n",
    "    ax2.clear()"
   ]
  },
  {
   "cell_type": "markdown",
   "metadata": {},
   "source": [
    "From the figure, the relative angles are measured right, up to the magnitude. Add sign. \n",
    "\n",
    "BTW, the second branch tree seems imperfect. It's motion w.r.t the main galaxy makes no sense during ~ 20 snapshots."
   ]
  },
  {
   "cell_type": "markdown",
   "metadata": {},
   "source": [
    "The plot of arrays of normal vectors are informative, but an animation with a rough galaxy shape added would be better."
   ]
  },
  {
   "cell_type": "code",
   "execution_count": null,
   "metadata": {
    "collapsed": true
   },
   "outputs": [],
   "source": [
    "def plot_n_arrow_single(ax, brick, trunk=None, color=\"blue\", cmap=None):\n",
    "    \"\"\"\n",
    "        Plots normal vectors of the branch over time. \n",
    "        If trunk is not None, galaxy positions relative to the host(trunk) are used. \n",
    "    \"\"\"\n",
    "    \n",
    "    import matplotlib.colors as colors\n",
    "    import matplotlib.cm as cmx\n",
    "    from collections import Iterable\n",
    "\n",
    "    if isinstance(color, Iterable) and not isinstance(color, (str)):\n",
    "        color_arr = True\n",
    "        cNorm  = colors.Normalize(vmin=np.min(color), vmax=np.max(color))\n",
    "        scalarMap = cmx.ScalarMappable(norm=cNorm,cmap=cmap)\n",
    "    else:\n",
    "        color_arr = False\n",
    "        colorVal = color\n",
    "    \n",
    "    # load gal file\n",
    "    idgal = brick[\"Orig_halo_id\"]\n",
    "    nout = brick[\"nout\"]\n",
    "    info = load.info.Info(nout=nout)\n",
    "    header, stars = rd_gal.rd_gal(nout, idgal)\n",
    "\n",
    "    # calculate Vec_rot\n",
    "    # Should I take all stellar particles?\n",
    "    nv = get_normal_vec(stars)\n",
    "\n",
    "    abs_pos_gal = (header[\"xg\"] + 100)#0.5*info.pboxsize)\n",
    "\n",
    "    if trunk is not None:\n",
    "        abs_pos_trunk = (trunk[\"x\"],\n",
    "                         trunk[\"y\"],\n",
    "                         trunk[\"z\"])\n",
    "        rel_pos_gal = abs_pos_gal - abs_pos_trunk\n",
    "    else:\n",
    "        rel_pos_gal = abs_pos_gal\n",
    "\n",
    "    if color_arr:\n",
    "        colorVal = scalarMap.to_rgba(color[i])\n",
    "        \n",
    "    ax.quiver(rel_pos_gal[0],\n",
    "              rel_pos_gal[1],\n",
    "              rel_pos_gal[2],\n",
    "              nv[0], nv[1], nv[2],\n",
    "              color=colorVal, pivot=\"tail\")\n",
    "    \n",
    "    return nv\n"
   ]
  },
  {
   "cell_type": "code",
   "execution_count": null,
   "metadata": {
    "collapsed": true
   },
   "outputs": [],
   "source": []
  },
  {
   "cell_type": "code",
   "execution_count": null,
   "metadata": {
    "collapsed": true
   },
   "outputs": [],
   "source": []
  },
  {
   "cell_type": "code",
   "execution_count": 35,
   "metadata": {
    "collapsed": false
   },
   "outputs": [
    {
     "name": "stdout",
     "output_type": "stream",
     "text": [
      "Failed to load galaxy file, skipping...\n",
      "Failed to load galaxy file, skipping...\n",
      "Failed to load galaxy file, skipping...\n",
      "Failed to load galaxy file, skipping...\n",
      "Failed to load galaxy file, skipping...\n",
      "Failed to load galaxy file, skipping...\n",
      "Failed to load galaxy file, skipping...\n",
      "Failed to load galaxy file, skipping...\n"
     ]
    }
   ],
   "source": [
    "# Orbital parameter\n",
    "import matplotlib.colors as colors\n",
    "import matplotlib.cm as cmx\n",
    "\n",
    "fig = plt.figure(figsize=(12,10))\n",
    "ax1 = fig.add_subplot(221, projection='3d')\n",
    "ax2 = fig.add_subplot(222)\n",
    "ax3 = fig.add_subplot(223, projection='3d')\n",
    "\n",
    "#colors=[\"black\", \"gray\", \"silver\", \"maroon\", \"red\", \"purple\", \"fuchisica\", \"lime\", \"olive\"]\n",
    "\n",
    "#plot_n_arrows(ax1, trunk_part, trunk=None, color=\"black\")\n",
    "\n",
    "ignore_position=True # put two n vectors at the origin. \n",
    "nout_min = 30\n",
    "\n",
    "cmap = None\n",
    "cNorm  = colors.Normalize(vmin=0, vmax=90) # 0 ~ 90 degree -> -90 ~ +90 or 0 ~ 180.\n",
    "scalarMap = cmx.ScalarMappable(norm=cNorm,cmap=cmap)\n",
    "\n",
    "for i,branch in enumerate(allbranches[2:]):\n",
    "    #plot_n_arrows(ax1, branch[branch[\"nout\"] > nout_min], trunk=None, color=colors[i])\n",
    "    nv_b = []\n",
    "    nv_t=[]\n",
    "    rel_ang =[]\n",
    "    ang_orb=[]\n",
    "    pos_arr=[]\n",
    "\n",
    "    trunk_part = trunk_counter_part(trunk, branch)\n",
    "    s_idx_branch = str(branch[\"id\"][0])\n",
    "\n",
    "    if not os.path.isdir(s_idx_branch):\n",
    "        os.mkdir(s_idx_branch)\n",
    "    # Earlier time earlier\n",
    "    for brick, brick_t in zip(branch[::-1], trunk_part[::-1]):\n",
    "        # load gal file\n",
    "        idgal_b = brick[\"Orig_halo_id\"]\n",
    "        nout = brick[\"nout\"]\n",
    "        if nout < nout_min:\n",
    "            continue\n",
    "        try:\n",
    "            header_b, stars_b = rd_gal.rd_gal(nout, idgal_b)\n",
    "        except:\n",
    "            print(\"Failed to load galaxy file, skipping...\")\n",
    "            rel_ang.append(np.nan)\n",
    "            continue\n",
    "        info = load.info.Info(nout=nout)\n",
    "\n",
    "        \n",
    "        # rotation axis\n",
    "        nvb = get_normal_vec(stars_b)\n",
    "        nv_b.append(nvb)\n",
    "\n",
    "        nvt = brick_t[\"nv\"]\n",
    "        nv_t.append(nvt)\n",
    "        relang = 180 / np.pi * np.arccos(np.dot(nvb, nvt))\n",
    "        rel_ang.append(relang) # Normal vectors are already normalized.\n",
    "\n",
    "        # Position\n",
    "        abs_pos_gal = (header[\"xg\"] + 100)#0.5*info.pboxsize)\n",
    "        abs_pos_trunk = (brick_t[\"x\"],\n",
    "                         brick_t[\"y\"],\n",
    "                         brick_t[\"z\"])\n",
    "        rel_pos_gal = abs_pos_gal - abs_pos_trunk\n",
    "        \n",
    "        # Orbital angle.\n",
    "        rel_vel_gal = header[\"vg\"] - (brick_t[\"vx\"],brick_t[\"vy\"],brick_t[\"vz\"]) # km/s\n",
    "        v_orb = np.cross(rel_pos_gal, rel_vel_gal) \n",
    "        v_orb /= np.linalg.norm(v_orb)\n",
    "        ang_orbital = 180 / np.pi * np.arccos(np.dot(v_orb, nvt))\n",
    "        ang_orb.append(ang_orbital)\n",
    "\n",
    "        # sat normal vector\n",
    "        if ignore_position:\n",
    "            ax1.quiver(0,0,0, nvb[0], nvb[1], nvb[2],\n",
    "                color=scalarMap.to_rgba(relang), pivot=\"tail\")\n",
    "        else:\n",
    "            ax1.quiver(rel_pos_gal[0],\n",
    "                       rel_pos_gal[1],\n",
    "                       rel_pos_gal[2],\n",
    "                       nvb[0], nvb[1], nvb[2],\n",
    "                       color=scalarMap.to_rgba(relang), pivot=\"tail\")         \n",
    "        \n",
    "        # normal vectors of galaxies\n",
    "        ax1.quiver(0,0,0, brick_t[\"nv\"][0],brick_t[\"nv\"][1],brick_t[\"nv\"][2],\n",
    "                  color=\"black\", pivot=\"tail\")\n",
    "        \n",
    "        ax1.auto_scale_xyz([-1.5,1.5],[-1.5,1.5],[-1.5,1.5])\n",
    "        ax1.set_xlabel(\"X\")\n",
    "        ax1.set_ylabel(\"Y\")\n",
    "        ax1.set_zlabel(\"Z\")\n",
    "        \n",
    "        # angles b/w two gals, and orbit.\n",
    "        ax2.plot(rel_ang, color = \"b\", label=\"rel_ang\")\n",
    "        ax2.plot(ang_orb, color = \"r\", label=\"ang_orb\")\n",
    "        ax2.set_xlim([0,len(branch) + 5])\n",
    "        ax2.set_ylim([0,180])\n",
    "        ax2.legend()\n",
    "        \n",
    "        # Trajectories\n",
    "        pos_arr.append(rel_pos_gal)\n",
    "        ax3.scatter([pp[0] for pp in pos_arr],\n",
    "                    [pp[1] for pp in pos_arr],\n",
    "                    [pp[2] for pp in pos_arr])\n",
    "        \n",
    "        ax3.quiver(0,0,0, brick_t[\"nv\"][0],brick_t[\"nv\"][1],brick_t[\"nv\"][2],\n",
    "                    color=\"black\", pivot=\"tail\")\n",
    "        \n",
    "        nrvg = rel_vel_gal / np.linalg.norm(rel_vel_gal)\n",
    "        ax3.quiver(rel_pos_gal[0],\n",
    "                   rel_pos_gal[1],\n",
    "                   rel_pos_gal[2],\n",
    "                   nrvg[0], nrvg[1], nrvg[2],\n",
    "                   color=scalarMap.to_rgba(relang), pivot=\"tail\")\n",
    "        \n",
    "        plt.savefig(s_idx_branch + \"/\" + s_idx_branch + \"_\" + str(nout) + \".png\")\n",
    "        ax1.clear()\n",
    "        #print(ang_orb)\n",
    "        ax2.clear()\n",
    "        ax3.clear()\n"
   ]
  },
  {
   "cell_type": "markdown",
   "metadata": {},
   "source": [
    "I want gas mass. What is the gas mass? Neutral hydrogen? or any cold gases belong to the host? See Lagos +15"
   ]
  },
  {
   "cell_type": "code",
   "execution_count": 37,
   "metadata": {
    "collapsed": false
   },
   "outputs": [],
   "source": [
    "# figure is pickable, but pickle it before clearing the axes. \n",
    "pickle.dump(fig, open(\"fig_interactive.pickle\", \"wb\"))\n"
   ]
  },
  {
   "cell_type": "code",
   "execution_count": null,
   "metadata": {
    "collapsed": true
   },
   "outputs": [],
   "source": []
  },
  {
   "cell_type": "code",
   "execution_count": 30,
   "metadata": {
    "collapsed": false
   },
   "outputs": [
    {
     "data": {
      "text/plain": [
       "'28304/28304_30'"
      ]
     },
     "execution_count": 30,
     "metadata": {},
     "output_type": "execute_result"
    }
   ],
   "source": [
    "s_idx_branch + \"/\" + s_idx_branch + \"_\" + str(nout)"
   ]
  },
  {
   "cell_type": "code",
   "execution_count": null,
   "metadata": {
    "collapsed": true
   },
   "outputs": [],
   "source": []
  },
  {
   "cell_type": "markdown",
   "metadata": {},
   "source": [
    "determine pericenter."
   ]
  },
  {
   "cell_type": "code",
   "execution_count": null,
   "metadata": {
    "collapsed": false
   },
   "outputs": [],
   "source": [
    "# relative distance\n",
    "for branch in allbranches[1:2]:\n",
    "    i_peri = get_pericenter(trunk_counter_part(trunk, branch), branch)\n",
    "    "
   ]
  },
  {
   "cell_type": "code",
   "execution_count": null,
   "metadata": {
    "collapsed": true
   },
   "outputs": [],
   "source": [
    "# Measure galaxy ellipticity and size?  "
   ]
  },
  {
   "cell_type": "code",
   "execution_count": null,
   "metadata": {
    "collapsed": true
   },
   "outputs": [],
   "source": [
    "def get_orbit_ang(primary, secondary):\n",
    "    rel_pos = \n"
   ]
  },
  {
   "cell_type": "code",
   "execution_count": null,
   "metadata": {
    "collapsed": true
   },
   "outputs": [],
   "source": []
  },
  {
   "cell_type": "code",
   "execution_count": null,
   "metadata": {
    "collapsed": true
   },
   "outputs": [],
   "source": [
    "def get_merging_system():\n",
    "    \n",
    "    \n",
    "    "
   ]
  },
  {
   "cell_type": "code",
   "execution_count": null,
   "metadata": {
    "collapsed": true
   },
   "outputs": [],
   "source": [
    "def find_merger_epochs(alltrees,\n",
    "                       idx_all,\n",
    "                       mpgs,\n",
    "                       nout_ini=37,\n",
    "                       dist_gal_scale_in=2.0,\n",
    "                       dist_gal_scale_out =3.0,\n",
    "                       min_mass_ratio = 0.05,\n",
    "                       mass_ratio=\"early\",\n",
    "                       verbose=False,\n",
    "                       do_plot = False,\n",
    "                       pdf_fname='./merger_ratio.pdf',\n",
    "                       max_rgal=40):\n",
    "    \"\"\"\n",
    "    Parameters\n",
    "    ----------\n",
    "    dist_gal_scale \n",
    "        if two galaxies are closer than dist_gal_scale * (sum of raidus of the two),\n",
    "        that epoch is the nout_init_merger.\n",
    "    nout_ini\n",
    "        blabla\n",
    "    \"\"\"\n",
    "    gal_list=[]\n",
    "    mr_list=[]\n",
    "    nout_list=[]\n",
    "    nout_ini_list=[] # initial time when two halos(Galaxy stellar components in this case) overlap. \n",
    "\n",
    "    #for idx in idx_all:\n",
    "    if do_plot:\n",
    "        from matplotlib.backends.backend_pdf import PdfPages\n",
    "        fig, ax = plt.subplots(1, sharex=True)\n",
    "        pdf = PdfPages(pdf_fname)\n",
    "    else:\n",
    "        ax = None\n",
    "\n",
    "    for gal in mpgs:\n",
    "        idx = gal.data['idx'][0]\n",
    "        # full tree of a galaxy\n",
    "        atree = ctu.extract_a_tree(alltrees.data, idx)\n",
    "\n",
    "        # main progenitor tree\n",
    "        main = ctu.extract_main_tree(atree, idx)\n",
    "        main_nout = main['nout'].flatten()\n",
    "        i_nout_ok = main_nout > nout_ini\n",
    "        main = main[i_nout_ok]\n",
    "        #x_nout = x_nout[i_nout_ok]\n",
    "        pos = np.zeros((3,len(main)))\n",
    "        pos[0,:] = main['x']\n",
    "        pos[1,:] = main['y']\n",
    "        pos[2,:] = main['z']\n",
    "\n",
    "\n",
    "        ## 왜 len(main)?\n",
    "        mass_ratios_single = np.zeros(len(main))\n",
    "        nout_inits = np.zeros(len(main))\n",
    "        #print(\"log M* ={}\".format(np.log10(gal.data[\"mstar\"][0])))\n",
    "\n",
    "        ## Substitute main[\"r\"] with gal.data[\"reff\"]\n",
    "        if len(main) < len(gal.smoothed_r):\n",
    "            main[\"r\"] = gal.smoothed_r[:len(main)]\n",
    "        elif len(main) > len(gal.smoothed_r):\n",
    "            main[\"r\"][:len(gal.smoothed_r)] = gal.smoothed_r\n",
    "        elif len(main) == len(gal.smoothed_r):\n",
    "            main[\"r\"] = gal.smoothed_r\n",
    "\n",
    "        for i, nout in enumerate(main['nout']):\n",
    "            # merger ratio\n",
    "            # First, check if there are multiple progenitors.\n",
    "            i_prgs = np.where(atree['desc_id'] == main['id'][i])[0]\n",
    "\n",
    "            # multiple prgs = merger\n",
    "            if len(i_prgs) > 1:\n",
    "                if verbose:\n",
    "                    print(\"idx:{}, {} Progenitors at nout = {}\".format(main[\"id\"][0], len(i_prgs), nout))\n",
    "\n",
    "                #print(\"i, inout_mpgs\", i, np.where(gal.nouts == nout)[0])\n",
    "                #print(gal.data[\"reff\"][i])\n",
    "\n",
    "                # Mass ratio must be calculated inside get_merger_info. \n",
    "\n",
    "                id_prgs = atree['id'][i_prgs]\n",
    "                mass_prgs = atree['m'][i_prgs]\n",
    "                #m_r = mass_prgs / max(mass_prgs)\n",
    "\n",
    "                # Progenitor with maximum mass at the FINAL COALESCENCE is the main progenitor.\n",
    "                # Others are satellites.\n",
    "                sats = id_prgs[mass_prgs < max(mass_prgs)]\n",
    "                \n",
    "                mass_ratios_now=[]\n",
    "                nout_inits_now=[]\n",
    "\n",
    "                # loop over satellites at a given nout.\n",
    "                for this_sat in sats:\n",
    "                    n_i_t, mass_this_sat = get_merger_info(main, atree, this_sat,\n",
    "                                                           dist_gal_scale_in=dist_gal_scale_in,\n",
    "                                                           dist_gal_scale_out = dist_gal_scale_out,\n",
    "                                                           do_plot=do_plot,\n",
    "                                                           ax=ax,\n",
    "                                                           max_rgal=max_rgal)\n",
    "\n",
    "                    mass_ratio = mass_this_sat / max(mass_prgs)\n",
    "                    if do_plot:\n",
    "                        ax.text(40, 600, \"{:.3f}\".format(mass_ratio))\n",
    "                        pdf.savefig()\n",
    "                        ax.clear()\n",
    "                    if mass_ratio > min_mass_ratio:\n",
    "                        nout_inits_now.append(n_i_t)\n",
    "                        mass_ratios_now.append(mass_ratio)\n",
    "                if len(nout_inits_now) > 0:\n",
    "                    i_main_merger = np.argmax(np.array(mass_ratios_now))\n",
    "                    mass_ratios_single[i] = mass_ratios_now[i_main_merger]\n",
    "                    nout_inits[i] = nout_inits_now[i_main_merger]\n",
    "                else:\n",
    "                    mass_ratios_single[i] = -1\n",
    "                    nout_inits[i] = -1\n",
    "\n",
    "                #if verbose:\n",
    "                #    print(\" Mass ratios {} at nout = {}: \".format(m_r, nout_inits[i]))\n",
    "                #if do_plot:\n",
    "                #    pdf.savefig()\n",
    "                    #ax.clear()\n",
    "\n",
    "            else:\n",
    "                mass_ratios_single[i] = 0\n",
    "            ##--------------------------------------------------\n",
    "\n",
    "        ind_ok = np.where(mass_ratios_single > 0.01)[0]\n",
    "        if len(ind_ok) > 0:\n",
    "            # if a satellite oscillates around the host, \n",
    "            # it could be identified as multiple mergers with short time interval. \n",
    "            # leave only the first passage / merger.\n",
    "            # No, it doesn't happen in ConsistentTrees.\n",
    "\n",
    "            #good =[]\n",
    "            #for i in range(len(ind_ok)-1):\n",
    "            #    if ind_ok[i+1] > ind_ok[i] + 2:\n",
    "            #        good.append(ind_ok[i])\n",
    "            #good.append(ind_ok[-1])\n",
    "            #ind_ok = good\n",
    "            mr = 1./mass_ratios_single[ind_ok]\n",
    "\n",
    "            gal_list.append(idx)\n",
    "            mr_list.append(mr)\n",
    "            nout_list.append(main_nout[ind_ok])\n",
    "            nout_ini_list.append(nout_inits[ind_ok])\n",
    "            print(idx)\n",
    "    if do_plot:\n",
    "        pdf.close()\n",
    "\n",
    "    inds=[]\n",
    "    for i, gal in enumerate(mpgs):\n",
    "        galid = gal.data['idx'][0]\n",
    "        ind = np.where(galid == gal_list)[0]\n",
    "        if len(ind) > 0:\n",
    "            inds.append(i)\n",
    "            merger = Merger()\n",
    "            merger.mr = mr_list[ind]\n",
    "            merger.nout = nout_list[ind]\n",
    "            merger.nout_ini = nout_ini_list[ind]\n",
    "            gal.merger = merger\n",
    "        else:\n",
    "            gal.merger = None\n",
    "\n"
   ]
  },
  {
   "cell_type": "code",
   "execution_count": null,
   "metadata": {
    "collapsed": true
   },
   "outputs": [],
   "source": [
    "def body(clusters,\n",
    "         dist_gal_scale_in=5,\n",
    "         dist_gal_scale_out=10,\n",
    "         dt_before=0.5,\n",
    "         dt_after=0.5,\n",
    "         dt_settle=0.5,\n",
    "         load=False,\n",
    "         nout_ini = 37,\n",
    "         filter_small=True,\n",
    "         min_mass_ratio = 0.05,\n",
    "         measure_delta_savefig=False,\n",
    "         find_merger_epoch_plot=False,\n",
    "         cdir=\"\"):\n",
    "\n",
    "    suffix = \"_{}_{}_{}_{}_{}_{}_{}\".format(dist_gal_scale_in,\n",
    "    dist_gal_scale_out,dt_before,dt_after,dt_settle,nout_ini,\n",
    "                                           min_mass_ratio)\n",
    "    if filter_small: \n",
    "        suffix = suffix + \"_filtered_\"\n",
    "\n",
    "    if load:\n",
    "        return pickle.load(open(\"main_prgs_final_augmented\" + suffix + \".pickle\", 'rb'))\n",
    "        \n",
    "    else:\n",
    "        mpgs = []\n",
    "        for cluster in clusters:\n",
    "            print(cluster)\n",
    "            wdir = base + cluster + '/'\n",
    "\n",
    "            # Serialize catalogs. -> Only main galaxies\n",
    "            # main galaxy list\n",
    "            alltrees = ctu.load_tree(wdir, is_gal=True)\n",
    "            ad = alltrees.data\n",
    "            tn = ad[ad['nout'] == nout_fi]\n",
    "\n",
    "            cat = load_cat(wdir + cdir + 'catalog' + str(nout_fi) + '.pickle')\n",
    "            #idx_all = [tn['id'][tn['Orig_halo_id'] == id_final][0] for id_final in cat['id']]\n",
    "            idx_all = cat['idx'][cat[\"idx\"] > 0].astype(int) # why idx are float???\n",
    "\n",
    "            mpg_tmp = []\n",
    "            for i, idx in enumerate(idx_all):\n",
    "                #print(i, idx)\n",
    "\n",
    "                mpg_tmp.append(MainPrg(ad, idx))\n",
    "            #    mpg_tmp =[MainPrg(ad, idx) for idx in idx_all]\n",
    "            for nout in range(nout_ini, nout_fi + 1):\n",
    "                cat = load_cat(wdir + cdir + 'catalog' + str(nout) + '.pickle')\n",
    "                for gal in mpg_tmp:\n",
    "                    gal.set_data(cat, nout)\n",
    "                    gal.cluster = int(cluster)\n",
    "        #        print(nout)\n",
    "            # get rid of galaxies with too short tree.\n",
    "            mpg_tmp = [gg for gg in mpg_tmp if sum(gg.data[\"reff\"] > 0) > minimum_good_snap]\n",
    "            for gal in mpg_tmp:\n",
    "                gal.fill_missing_data()\n",
    "                gal.clip_non_detection()\n",
    "                gal.smoothed_lambda_org = mma.smooth(gal.data[\"lambda_r\"], window_len=15)[:-1]\n",
    "                gal.smoothed_r = mma.smooth(gal.data[\"reff\"], window_len=15)[:-1]\n",
    "                gal.smoothed_lambda = mma.smooth(l_at_smoothed_r(gal, npix_per_reff=5), window_len=15)[:-1]\n",
    "\n",
    "            # save for each cluser\n",
    "            with open(wdir + \"main_prgs\" + suffix + \".pickle\", \"wb\") as f:\n",
    "                pickle.dump(mpg_tmp, f)    \n",
    "                \n",
    "            # Find_merger_epochs needs smoothed_r\n",
    "            find_merger_epochs(alltrees,\n",
    "                               idx_all,\n",
    "                               mpg_tmp,\n",
    "                               nout_ini=nout_ini,\n",
    "                               dist_gal_scale_in=dist_gal_scale_in,\n",
    "                               dist_gal_scale_out=dist_gal_scale_out,\n",
    "                               min_mass_ratio = min_mass_ratio,\n",
    "                               mass_ratio='early',\n",
    "                               verbose=False,\n",
    "                               do_plot=find_merger_epoch_plot,\n",
    "                               max_rgal=40,\n",
    "                               pdf_fname=str(cluster) + \"merger_ratio_epoch\" + suffix + \".pdf\")\n"
   ]
  }
 ],
 "metadata": {
  "kernelspec": {
   "display_name": "Python 3",
   "language": "python",
   "name": "python3"
  },
  "language_info": {
   "codemirror_mode": {
    "name": "ipython",
    "version": 3
   },
   "file_extension": ".py",
   "mimetype": "text/x-python",
   "name": "python",
   "nbconvert_exporter": "python",
   "pygments_lexer": "ipython3",
   "version": "3.5.2+"
  }
 },
 "nbformat": 4,
 "nbformat_minor": 0
}
