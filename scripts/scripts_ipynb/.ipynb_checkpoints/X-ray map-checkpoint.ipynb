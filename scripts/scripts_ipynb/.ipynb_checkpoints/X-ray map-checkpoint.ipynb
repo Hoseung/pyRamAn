{
 "cells": [
  {
   "cell_type": "code",
   "execution_count": 1,
   "metadata": {
    "collapsed": false
   },
   "outputs": [
    {
     "name": "stdout",
     "output_type": "stream",
     "text": [
      "/media/hoseung/btrfs/29172\n"
     ]
    }
   ],
   "source": [
    "cd /home/hoseung/Work/data/29172/"
   ]
  },
  {
   "cell_type": "code",
   "execution_count": 2,
   "metadata": {
    "collapsed": true
   },
   "outputs": [],
   "source": [
    "import load\n",
    "import numpy as np\n",
    "import matplotlib.pyplot as plt"
   ]
  },
  {
   "cell_type": "code",
   "execution_count": 3,
   "metadata": {
    "collapsed": true
   },
   "outputs": [],
   "source": [
    "def sim_cluster_region(nout, wdir='./', region=\"halo\"):\n",
    "    \"\"\"\n",
    "        Make a sim instance and set region by halo or refineparams.\n",
    "    \"\"\"\n",
    "    import load\n",
    "    import numpy as np\n",
    "    import tree.halomodule as hmo\n",
    "    \n",
    "    s = load.sim.Sim(nout=187)\n",
    "    hcat = hmo.Halo(nout=187,is_gal=False)\n",
    "    \n",
    "    cluster = hcat.data[np.argmax(hcat.data[\"np\"])]\n",
    "    s.set_ranges(ranges=[[cluster[\"x\"]-cluster[\"rvir\"], cluster[\"x\"]+cluster[\"rvir\"]],\n",
    "                     [cluster[\"y\"]-cluster[\"rvir\"], cluster[\"y\"]+cluster[\"rvir\"]],\n",
    "                     [cluster[\"z\"]-cluster[\"rvir\"], cluster[\"z\"]+cluster[\"rvir\"]]])\n",
    "    \n",
    "    return s"
   ]
  },
  {
   "cell_type": "code",
   "execution_count": 4,
   "metadata": {
    "collapsed": false
   },
   "outputs": [
    {
     "name": "stdout",
     "output_type": "stream",
     "text": [
      "[sim._hilbert_cpulist] No AMR instance,\n",
      "[sim._hilbert_cpulist] Loading one...\n",
      "An AMR instance is created\n",
      " Sim\n",
      "Simulation set up.\n",
      "[Halo.load_info] loading info\n",
      "[Halo.load_info] nout = 187, base =./\n",
      "./halo/DM/tree_bricks187\n"
     ]
    }
   ],
   "source": [
    "s = sim_cluster_region(187)"
   ]
  },
  {
   "cell_type": "code",
   "execution_count": 5,
   "metadata": {
    "collapsed": false
   },
   "outputs": [
    {
     "name": "stdout",
     "output_type": "stream",
     "text": [
      "[sim._hilbert_cpulist] No AMR instance,\n",
      "[sim._hilbert_cpulist] Loading one...\n"
     ]
    }
   ],
   "source": [
    "s.add_hydro()"
   ]
  },
  {
   "cell_type": "code",
   "execution_count": 6,
   "metadata": {
    "collapsed": true
   },
   "outputs": [],
   "source": [
    "import draw"
   ]
  },
  {
   "cell_type": "code",
   "execution_count": 19,
   "metadata": {
    "collapsed": false
   },
   "outputs": [],
   "source": [
    "def resize(X,shape=None):\n",
    "    \"\"\" \n",
    "    resizes N-D array X into shape.\n",
    "    For example,\n",
    "    2D 100 * 100 array -> 200 * 200\n",
    "    new = resize(img, [200,200])\n",
    "    \"\"\"\n",
    "    import numpy as np\n",
    "    if shape==None:\n",
    "        return X\n",
    "    m,n = shape\n",
    "#    print(shape)\n",
    "#    print(m,n)\n",
    "    Y = np.zeros((m,n),dtype=type(X[0,0]))\n",
    "    k = len(X)\n",
    "    p,q = k/m,k/n\n",
    "    for i in range(m):\n",
    "        Y[i,:] = X[i*p,np.int_(np.arange(n)*q)]\n",
    "    return Y\n",
    "\n",
    "\n",
    "def pp_cell(cell, npix, info, proj=\"z\", verbose=False, autosize=False,\n",
    "            column=False,\n",
    "            region=None,\n",
    "            xmin=None, xmax=None, ymin=None, ymax=None,\n",
    "            hvar=\"rho\", field_var=None):\n",
    "    \"\"\"\n",
    "    Accepts cell data and returns 2D projected gas map.\n",
    "     *position and dx must be in the same unit.\n",
    "\n",
    "    example\n",
    "    -------\n",
    "    >>> gas_map = pp_cell(gal.cell, 200, info)\n",
    "    >>> plt.imshow(gas_map, origin=\"lower\")\n",
    "    >>> plt.show()\n",
    "    -> Without range or region, all cells are taken. \n",
    "\n",
    "    >>> region = smp.set_region(centers=[0.,0.,0.], radius=gal.region['radius'])\n",
    "    >>> gas_map = pp_cell(gal.cell, 200, info, region=region)\n",
    "    -> cells only inside the region are taken into account.\n",
    "       *It's a cubic region, not a sphere.\n",
    "\n",
    "\n",
    "    Note\n",
    "    ----\n",
    "    To do: Currently only column sum is supported. maximum value along the column, or column average option are needed.\n",
    "\n",
    "    \"\"\"\n",
    "    import numpy as np\n",
    "    from draw import ppc\n",
    "\n",
    "\n",
    "    sig = 1.0\n",
    "    sigrange = sig * 2# what is sigrange?\n",
    "\n",
    "    x = cell[\"x\"]\n",
    "    y = cell[\"y\"]\n",
    "#    z = cell.z\n",
    "#    di = [0, 1]  # What is this?\n",
    "#    zh = xh[2]  # what is this?\n",
    "    if (xmin is None) & (xmax is None) & (ymin is None) & (ymax is None):\n",
    "        if region is not None:\n",
    "            xmi0, xma0 = region['xr'][0], region['xr'][1]\n",
    "            ymi0, yma0 = region['yr'][0], region['yr'][1]\n",
    "        else:\n",
    "            xmi0, xma0, ymi0, yma0 = min(x), max(x), min(y), max(y)\n",
    "    if xmi0 is None:\n",
    "        xmi0 = min(x)\n",
    "    if xma0 is None:\n",
    "        xma0 = max(x)\n",
    "    if ymi0 is None:\n",
    "        ymi0 = min(y)\n",
    "    if yma0 is None:\n",
    "        yma0 = max(y)\n",
    "\n",
    "    xl = x - cell['dx']/2*sigrange # array as long as x\n",
    "    xr = x + cell['dx']/2*sigrange\n",
    "    yl = y - cell['dx']/2*sigrange\n",
    "    yr = y + cell['dx']/2*sigrange\n",
    "\n",
    "    maxdx = max(cell['dx'])\n",
    "\n",
    "    T_cut_in_code_unit = 10**(5.2) / info.unit_T2\n",
    "    Msun_in_g = 1.989*1e33\n",
    "    pc_in_cm = 3.26 * 3153600 * 1e10\n",
    "    rho_cut = 0.01 *Msun_in_g / pc_in_cm**3\n",
    "    rho_cut_in_code_unit = rho_cut / info.unit_d\n",
    "    \n",
    "# Assuming no slice.\n",
    "    tol = maxdx #\n",
    "    val = np.where((xr >= xmi0-tol) & (xl <= xma0+tol) &\n",
    "                   (yr >= ymi0-tol) & (yl <= yma0+tol) &\n",
    "                   (cell[\"var4\"]/cell[\"var0\"] > T_cut_in_code_unit) & \n",
    "                   (cell[\"var0\"] < rho_cut_in_code_unit))[0]\n",
    "\n",
    "    print(len(val) / len(cell), \"% of cells selected\")\n",
    "# Check for valid cell existing.\n",
    "    if len(val) == 0:\n",
    "        print(\"No cell is selected\")\n",
    "        return False\n",
    "\n",
    "    scale_d = info.unit_d\n",
    "    scale_l = info.unit_l\n",
    "    scale_nH = info.unit_nH\n",
    "    scale_T2 = info.unit_T2\n",
    "\n",
    "    dx = cell[\"dx\"][val]\n",
    "\n",
    "# No max, no column\n",
    "    # mass/L**2 = rho*L\n",
    "    # sden differs with hydro variable type.\n",
    "\n",
    "    sden = cell[\"var0\"][val]*dx*(scale_d*scale_l)*0.76/1.66e-24 \\\n",
    "           * cell[\"var0\"][val] * scale_d \\\n",
    "           * np.sqrt(cell[\"var4\"][val]*scale_T2)\n",
    "\n",
    "    mass = cell[\"var0\"][val]*dx\n",
    "    mass.transpose()\n",
    "\n",
    "    mindx = min(dx)\n",
    "\n",
    "    xmi = np.floor(xmi0/mindx)*mindx\n",
    "    xma = np.ceil(xma0/mindx)*mindx\n",
    "    nx = np.round((xma-xmi-mindx)/mindx).astype(np.int32)\n",
    "\n",
    "    ymi = np.floor(ymi0/mindx)*mindx\n",
    "    yma = ymi + mindx*nx + mindx\n",
    "    ny = np.round((yma-ymi-mindx)/mindx).astype(np.int32)\n",
    "\n",
    "    # Assum no smoothing.\n",
    "    ixmi = np.round(xmi/mindx).astype(np.int32) # int\n",
    "    iymi = np.round(ymi/mindx).astype(np.int32)\n",
    "\n",
    "    xl, xr, yl, yr   = xl[val], xr[val], yl[val], yr[val]\n",
    "\n",
    "    ixl = np.round(xl / mindx).astype(np.int32) - ixmi\n",
    "    ixr = np.round(xr / mindx).astype(np.int32) - ixmi -1\n",
    "    iyl = np.round(yl / mindx).astype(np.int32) - iymi\n",
    "    iyr = np.round(yr / mindx).astype(np.int32) - iymi -1\n",
    "    iin = np.where((ixr >= 0) & (ixl <= nx-1) & (iyr >= 0) & (iyl <= ny-1))[0].astype(np.int32)\n",
    "    # What does it mean?\n",
    "\n",
    "    fd = ixl < 0\n",
    "    if len(fd) > 0:\n",
    "        ixl[fd] = 0\n",
    "    fd = ixr > nx - 1\n",
    "    if len(fd) > 0:\n",
    "        ixr[fd] = nx -1\n",
    "        fd = ixl < 0\n",
    "    if len(fd) > 0:\n",
    "        ixl[fd] = 0\n",
    "    fd = ixl < 0\n",
    "    if len(fd) > 0:\n",
    "        ixl[fd] = 0\n",
    "\n",
    "    ixl[ixl < 0] = 0\n",
    "    ixr[ixr > nx -1] = nx -1\n",
    "    iyl[iyl < 0] = 0\n",
    "    iyr[iyr > ny - 1] = ny -1\n",
    "\n",
    "    fd = np.where((ixl >= 0) & (ixr >=0) & (ixl > ixr))[0]\n",
    "    if len(fd):\n",
    "        ixr[fd] = ixl[fd]\n",
    "    fd = np.where((iyl >= 0) & (iyr >=0) & (iyl > iyr))[0]\n",
    "    if len(fd):\n",
    "        iyr[fd] = iyl[fd]\n",
    "\n",
    "    if verbose:\n",
    "        print(\"dimensions of \\n mass = {}, \\n sden = {}, and nx, ny are {}, {}\".format(\\\n",
    "        mass.shape, sden.shape, nx, ny))\n",
    "        print(all(np.isfinite(mass)), all(np.isfinite(sden)))\n",
    "        print(mass[100:110])\n",
    "        print(sden[100:110])\n",
    "\n",
    "    return resize(ppc.col_over_denom(iin,\n",
    "            ixl, ixr, iyl, iyr,\n",
    "            mass, sden,\n",
    "            nx, ny, column), [npix,npix])\n"
   ]
  },
  {
   "cell_type": "code",
   "execution_count": 20,
   "metadata": {
    "collapsed": false
   },
   "outputs": [
    {
     "name": "stdout",
     "output_type": "stream",
     "text": [
      "1.0 % of cells selected\n"
     ]
    },
    {
     "name": "stderr",
     "output_type": "stream",
     "text": [
      "/home/hoseung/.local/lib/python3.5/site-packages/ipykernel/__main__.py:18: VisibleDeprecationWarning: using a non-integer number instead of an integer will result in an error in the future\n"
     ]
    }
   ],
   "source": [
    "xraymap = pp_cell(s.hydro.cell, 400, s.info, proj=\"z\", verbose=False, autosize=False,\n",
    "               column=True)"
   ]
  },
  {
   "cell_type": "code",
   "execution_count": 12,
   "metadata": {
    "collapsed": false
   },
   "outputs": [
    {
     "name": "stderr",
     "output_type": "stream",
     "text": [
      "/home/hoseung/Work/pyclusterevol/draw/pp.py:760: RuntimeWarning: invalid value encountered in true_divide\n",
      "  nx, ny, column), [npix,npix])\n",
      "/home/hoseung/Work/pyclusterevol/draw/pp.py:452: VisibleDeprecationWarning: using a non-integer number instead of an integer will result in an error in the future\n",
      "  Y[i,:] = X[i*p,np.int_(np.arange(n)*q)]\n"
     ]
    }
   ],
   "source": [
    "tmap = draw.pp.pp_cell(s.hydro.cell, 400, s.info, autosize=False, hvar=\"temp\")"
   ]
  },
  {
   "cell_type": "code",
   "execution_count": 16,
   "metadata": {
    "collapsed": false
   },
   "outputs": [
    {
     "name": "stderr",
     "output_type": "stream",
     "text": [
      "/home/hoseung/Work/pyclusterevol/draw/pp.py:760: RuntimeWarning: invalid value encountered in true_divide\n",
      "  nx, ny, column), [npix,npix])\n",
      "/home/hoseung/Work/pyclusterevol/draw/pp.py:452: VisibleDeprecationWarning: using a non-integer number instead of an integer will result in an error in the future\n",
      "  Y[i,:] = X[i*p,np.int_(np.arange(n)*q)]\n"
     ]
    }
   ],
   "source": [
    "denmap = draw.pp.pp_cell(s.hydro.cell, 400, s.info, autosize=False, hvar=\"rho\")"
   ]
  },
  {
   "cell_type": "code",
   "execution_count": 18,
   "metadata": {
    "collapsed": false
   },
   "outputs": [],
   "source": [
    "fig, axs = plt.subplots(2,2)\n",
    "axs[0,0].imshow(np.log10(denmap), cmap='Reds')\n",
    "axs[0,1].imshow(np.log10(xraymap), cmap='Reds')\n",
    "axs[1,0].imshow(np.log10(tmap), cmap='Reds')\n",
    "plt.show()"
   ]
  },
  {
   "cell_type": "code",
   "execution_count": 5,
   "metadata": {
    "collapsed": true
   },
   "outputs": [],
   "source": [
    "H = 70.4\n",
    "G = 6.67e-11"
   ]
  },
  {
   "cell_type": "code",
   "execution_count": 24,
   "metadata": {
    "collapsed": false
   },
   "outputs": [],
   "source": [
    "plt.hist(np.log10(s.hydro.cell[\"var4\"]/s.hydro.cell[\"var0\"] * s.info.unit_T2))\n",
    "plt.show()"
   ]
  },
  {
   "cell_type": "code",
   "execution_count": null,
   "metadata": {
    "collapsed": true
   },
   "outputs": [],
   "source": []
  }
 ],
 "metadata": {
  "kernelspec": {
   "display_name": "Python 3",
   "language": "python",
   "name": "python3"
  },
  "language_info": {
   "codemirror_mode": {
    "name": "ipython",
    "version": 3
   },
   "file_extension": ".py",
   "mimetype": "text/x-python",
   "name": "python",
   "nbconvert_exporter": "python",
   "pygments_lexer": "ipython3",
   "version": "3.5.2+"
  }
 },
 "nbformat": 4,
 "nbformat_minor": 0
}
