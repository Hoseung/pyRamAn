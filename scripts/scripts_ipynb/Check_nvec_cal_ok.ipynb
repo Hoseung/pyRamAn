{
 "cells": [
  {
   "cell_type": "code",
   "execution_count": 1,
   "metadata": {
    "collapsed": false
   },
   "outputs": [
    {
     "name": "stdout",
     "output_type": "stream",
     "text": [
      "/media/hoseung/DATA/29172\n"
     ]
    }
   ],
   "source": [
    "cd ./29172/"
   ]
  },
  {
   "cell_type": "code",
   "execution_count": 2,
   "metadata": {
    "collapsed": false
   },
   "outputs": [],
   "source": [
    "import load\n",
    "import numpy as np\n",
    "from galaxy.galaxy import Galaxy\n",
    "import tree.halomodule as hmo\n",
    "import matplotlib.pyplot as plt"
   ]
  },
  {
   "cell_type": "code",
   "execution_count": 25,
   "metadata": {
    "collapsed": false
   },
   "outputs": [
    {
     "name": "stdout",
     "output_type": "stream",
     "text": [
      "[rd_GM.rd_gal] fname= ./GalaxyMaker/GAL_00187/gal_stars_0000011\n"
     ]
    }
   ],
   "source": [
    "nout=187\n",
    "idgal=11 # Not all are good galaxies.\n",
    "#gal = load.rd_GM.rd_gal(nout, idgal)\n",
    "\n",
    "info = load.info.Info(nout)"
   ]
  },
  {
   "cell_type": "code",
   "execution_count": 26,
   "metadata": {
    "collapsed": false
   },
   "outputs": [
    {
     "name": "stdout",
     "output_type": "stream",
     "text": [
      "[rd_GM.rd_gal] fname= ./GalaxyMaker/GAL_00187/gal_stars_0000011\n"
     ]
    },
    {
     "name": "stderr",
     "output_type": "stream",
     "text": [
      "/home/hoseung/Work/pyclusterevol/galaxy/galaxy.py:135: VisibleDeprecationWarning: using a non-integer number instead of an integer will result in an error in the future\n",
      "  m_radial[i] = np.sum(m_sorted[ibins[i]:ibins[i+1]])\n"
     ]
    }
   ],
   "source": [
    "gals = hmo.Halo(nout=187, is_gal=True)\n",
    "gg = gals.data[gals.data[\"id\"] == idgal]\n",
    "gm = load.rd_GM.rd_gal(nout, idgal)\n",
    "gal = Galaxy(halo=gg, info=info)\n",
    "good_gal = gal.mk_gal(gm.star, gm.dm, gm.cell,\n",
    "                      unit_conversion=\"GM\",\n",
    "                      verbose=False, debug=False)"
   ]
  },
  {
   "cell_type": "code",
   "execution_count": 27,
   "metadata": {
    "collapsed": false
   },
   "outputs": [],
   "source": [
    "plt.hist2d(gm.star[\"x\"], gm.star[\"y\"], bins=100)\n",
    "plt.show()"
   ]
  },
  {
   "cell_type": "markdown",
   "metadata": {},
   "source": [
    "Lambda_separate.py "
   ]
  },
  {
   "cell_type": "code",
   "execution_count": 29,
   "metadata": {
    "collapsed": true
   },
   "outputs": [],
   "source": [
    "#draw a vector\n",
    "from matplotlib.patches import FancyArrowPatch\n",
    "from mpl_toolkits.mplot3d import proj3d\n",
    "\n",
    "class Arrow3D(FancyArrowPatch):\n",
    "    def __init__(self, xs, ys, zs, *args, **kwargs):\n",
    "        FancyArrowPatch.__init__(self, (0,0), (0,0), *args, **kwargs)\n",
    "        self._verts3d = xs, ys, zs\n",
    "\n",
    "    def draw(self, renderer):\n",
    "        xs3d, ys3d, zs3d = self._verts3d\n",
    "        xs, ys, zs = proj3d.proj_transform(xs3d, ys3d, zs3d, renderer.M)\n",
    "        self.set_positions((xs[0],ys[0]),(xs[1],ys[1]))\n",
    "        FancyArrowPatch.draw(self, renderer)\n"
   ]
  },
  {
   "cell_type": "code",
   "execution_count": 30,
   "metadata": {
    "collapsed": false
   },
   "outputs": [],
   "source": [
    "# plot 3d particle distribution and normal vector \n",
    "# subsample\n",
    "ind = np.arange(0,len(gal.star), 100)\n",
    "import matplotlib.pyplot as plt\n",
    "from mpl_toolkits.mplot3d import Axes3D\n",
    "fig = plt.figure()\n",
    "ax = fig.add_subplot(111, projection='3d')\n",
    "ax.scatter(gal.star[\"x\"][ind], \n",
    "           gal.star[\"y\"][ind],\n",
    "           gal.star[\"z\"][ind])\n",
    "gal.cal_norm_vec()\n",
    "xc,yc,zc = 0,0,0\n",
    "#xc, yc, zc = gal.meta.xc[0], gal.meta.yc[0], gal.meta.zc[0]\n",
    "a = Arrow3D([xc,gal.meta.nvec[0] * 20],\n",
    "            [yc,gal.meta.nvec[1] * 20],\n",
    "            [zc,gal.meta.nvec[2] * 20],\n",
    "            mutation_scale=20, lw=1, arrowstyle=\"-|>\", color=\"k\")\n",
    "ax.add_artist(a)\n",
    "\n",
    "plt.show()"
   ]
  },
  {
   "cell_type": "markdown",
   "metadata": {},
   "source": [
    "OK. \n",
    "Now velocity field."
   ]
  },
  {
   "cell_type": "code",
   "execution_count": 34,
   "metadata": {
    "collapsed": true
   },
   "outputs": [],
   "source": [
    "fig = plt.figure()\n",
    "ax = fig.add_subplot(111, projection='3d')\n",
    "ax.quiver(gal.star[\"x\"][ind], \n",
    "          gal.star[\"y\"][ind],\n",
    "          gal.star[\"z\"][ind],\n",
    "          gal.star[\"vx\"][ind], \n",
    "          gal.star[\"vy\"][ind],\n",
    "          gal.star[\"vz\"][ind], length=3)\n",
    "gal.cal_norm_vec()\n",
    "xc,yc,zc = 0,0,0\n",
    "#xc, yc, zc = gal.meta.xc[0], gal.meta.yc[0], gal.meta.zc[0]\n",
    "a = Arrow3D([xc,gal.meta.nvec[0] * 20],\n",
    "            [yc,gal.meta.nvec[1] * 20],\n",
    "            [zc,gal.meta.nvec[2] * 20],\n",
    "            mutation_scale=20, lw=10, arrowstyle=\"-|>\", color=\"k\")\n",
    "ax.add_artist(a)\n",
    "plt.show()"
   ]
  },
  {
   "cell_type": "markdown",
   "metadata": {},
   "source": [
    "Looks good. "
   ]
  },
  {
   "cell_type": "code",
   "execution_count": null,
   "metadata": {
    "collapsed": true
   },
   "outputs": [],
   "source": []
  }
 ],
 "metadata": {
  "kernelspec": {
   "display_name": "Python 3",
   "language": "python",
   "name": "python3"
  },
  "language_info": {
   "codemirror_mode": {
    "name": "ipython",
    "version": 3
   },
   "file_extension": ".py",
   "mimetype": "text/x-python",
   "name": "python",
   "nbconvert_exporter": "python",
   "pygments_lexer": "ipython3",
   "version": "3.5.1+"
  }
 },
 "nbformat": 4,
 "nbformat_minor": 0
}
