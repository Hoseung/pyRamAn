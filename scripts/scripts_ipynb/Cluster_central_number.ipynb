{
 "cells": [
  {
   "cell_type": "markdown",
   "metadata": {},
   "source": [
    "In response to the refree report. \n",
    "How many in the sample are central galaxies? "
   ]
  },
  {
   "cell_type": "code",
   "execution_count": 1,
   "metadata": {
    "collapsed": true
   },
   "outputs": [],
   "source": [
    "import pickle\n",
    "import numpy as np\n",
    "import matplotlib.pyplot as plt\n",
    "import tree.halomodule as hmo"
   ]
  },
  {
   "cell_type": "code",
   "execution_count": 2,
   "metadata": {
    "collapsed": false
   },
   "outputs": [],
   "source": [
    "from analysis.all_plot_modules import *\n",
    "from analysis.evol_lambda import MainPrg\n",
    "import analysis.Major_Minor_accretion as mma"
   ]
  },
  {
   "cell_type": "code",
   "execution_count": 3,
   "metadata": {
    "collapsed": false
   },
   "outputs": [],
   "source": [
    "wdir = \"/home/hoseung/Work/data/\"\n",
    "mpgs = pickle.load(open(wdir+\"main_prgs_final_augmented_5_10_0.5_0.5_0.5_37_0.01_filtered.pickle\", \"rb\"))"
   ]
  },
  {
   "cell_type": "code",
   "execution_count": 4,
   "metadata": {
    "collapsed": false
   },
   "outputs": [
    {
     "name": "stdout",
     "output_type": "stream",
     "text": [
      "[Halo.load_info] loading info\n",
      "[Halo.load_info] nout = 187, base =/home/hoseung/Work/data/29172/\n",
      "AAAAAA\n",
      "/home/hoseung/Work/data/29172/halo/DM/tree_bricks187\n"
     ]
    }
   ],
   "source": [
    "#wdir = \"/home/hoseung/Work/data/\"\n",
    "clu_this = 29172\n",
    "sclu = str(clu_this).zfill(5) + '/'\n",
    "\n",
    "import tree.halomodule as hmo\n",
    "hcat = hmo.Halo(base=wdir+sclu, nout=187, is_gal=False, verbose=False)"
   ]
  },
  {
   "cell_type": "code",
   "execution_count": 6,
   "metadata": {
    "collapsed": false
   },
   "outputs": [
    {
     "data": {
      "text/plain": [
       "array([1, 1, 1, ..., 2, 2, 2], dtype=int32)"
      ]
     },
     "execution_count": 6,
     "metadata": {},
     "output_type": "execute_result"
    }
   ],
   "source": [
    "hcat.data[\"level\"]"
   ]
  },
  {
   "cell_type": "code",
   "execution_count": 7,
   "metadata": {
    "collapsed": true
   },
   "outputs": [],
   "source": [
    "plt.scatter(hcat.data[\"x\"], hcat.data[\"y\"])\n",
    "plt.show()"
   ]
  },
  {
   "cell_type": "code",
   "execution_count": 8,
   "metadata": {
    "collapsed": true
   },
   "outputs": [],
   "source": [
    "center = hcat.data[np.argmax(hcat.data[\"np\"])]"
   ]
  },
  {
   "cell_type": "code",
   "execution_count": 18,
   "metadata": {
    "collapsed": true
   },
   "outputs": [],
   "source": [
    "gals = [agal for agal in mpgs if agal.cluster == clu_this]"
   ]
  },
  {
   "cell_type": "code",
   "execution_count": 42,
   "metadata": {
    "collapsed": false
   },
   "outputs": [],
   "source": [
    "pbx = hcat.info.pboxsize\n",
    "plt.scatter(hcat.data[\"x\"]*pbx, hcat.data[\"y\"]*pbx)\n",
    "dd=[]\n",
    "for gal in gals:\n",
    "    dd.append((gal.data[\"xc\"][0] - center[\"x\"]*pbx)**2 + \n",
    "              (gal.data[\"yc\"][0] - center[\"y\"]*pbx)**2 + \n",
    "              (gal.data[\"zc\"][0] - center[\"z\"]*pbx)**2)\n",
    "    plt.scatter(gal.data[\"xc\"][0], gal.data[\"yc\"][0], c='r')"
   ]
  },
  {
   "cell_type": "code",
   "execution_count": null,
   "metadata": {
    "collapsed": true
   },
   "outputs": [],
   "source": [
    "\n",
    "plt.show()"
   ]
  },
  {
   "cell_type": "code",
   "execution_count": 31,
   "metadata": {
    "collapsed": false
   },
   "outputs": [
    {
     "data": {
      "text/plain": [
       "[0.3538201814484781,\n",
       " 1.479430514243357,\n",
       " 0.15388937706216047,\n",
       " 0.7597778419964023,\n",
       " 0.42253707342303537,\n",
       " 0.78966954402047784,\n",
       " 9.2848853967396607,\n",
       " 1.1074806258249723,\n",
       " 0.38681065349975097,\n",
       " 6.8097495159442776,\n",
       " 1.2449293961365875,\n",
       " 0.38706844631766113,\n",
       " 7.4040440634727371,\n",
       " 0.79898156682627308,\n",
       " 1.1638260998929586,\n",
       " 0.19614564053390202,\n",
       " 0.61168202035323838,\n",
       " 0.12191045175678544,\n",
       " 0.31001609399924696,\n",
       " 1.7658002326730213,\n",
       " 0.59375943471222115,\n",
       " 5.5629812698672323,\n",
       " 0.34732068079495459,\n",
       " 0.45003609953955359,\n",
       " 0.22270465130054187,\n",
       " 5.3442586394175642,\n",
       " 0.27496516896301093]"
      ]
     },
     "execution_count": 31,
     "metadata": {},
     "output_type": "execute_result"
    }
   ],
   "source": [
    "dd"
   ]
  },
  {
   "cell_type": "code",
   "execution_count": 19,
   "metadata": {
    "collapsed": false
   },
   "outputs": [],
   "source": [
    "gal = gals[0]"
   ]
  },
  {
   "cell_type": "code",
   "execution_count": 23,
   "metadata": {
    "collapsed": false
   },
   "outputs": [
    {
     "data": {
      "text/plain": [
       "array([ 144.99073861,  144.20953305,  143.43050235,  142.65343036,\n",
       "        141.87920476,  141.10648935,  140.33514886,  139.56595139,\n",
       "        138.79801264,  138.03237549,  137.26914967,  136.50745599,\n",
       "        135.74861909,  134.99133109,  134.23631027,  133.48312567,\n",
       "        132.7326822 ,  131.98434955,  131.23760976,  130.49390125,\n",
       "        129.75145112,  129.01147934,  128.27390047,  127.53857438,\n",
       "        126.80514879,  126.07470293,  125.34534802,  124.61781493,\n",
       "        123.89273831,  123.16978992,  122.45037571,  121.73352183,\n",
       "        121.01992355,  120.31015992,  119.60419833,  118.90312835,\n",
       "        118.20843714,  117.51740903,  116.82948858,  116.14148264,\n",
       "        115.45135343,  114.75731387,  114.06170686,  113.36460103,\n",
       "        112.66583214,  111.96370727,  111.25938222,  110.55351944,\n",
       "        109.84639633,  109.13596086,  108.42511479,  107.71335048,\n",
       "        107.00010898,  106.28663305,  105.57050653,  104.85495375,\n",
       "        104.13825347,  103.41951839,  102.70174752,  101.98255928,\n",
       "        101.26210706,  100.54121553,   99.81928535,   99.09658404,\n",
       "         98.37531747,   97.65072946,   96.92714711,   96.2030448 ,\n",
       "         95.47757852,   94.7526524 ,   94.02661845,   93.30060634,\n",
       "         92.57344369,   91.84598421,   91.11806768,   90.39018532,\n",
       "         89.66285948,   88.93416902,   88.2055597 ,   87.47716486,\n",
       "         86.74936703,   86.01895921,   85.29029231,   84.56085749,\n",
       "         83.83197367,   83.10324649,   82.37500038,   81.64617558,\n",
       "         80.92067451,   80.19358327,   79.46219482,   78.73082697,\n",
       "         78.00071254,   77.2714259 ,   76.54404871,   75.81491467,\n",
       "         75.0913266 ])"
      ]
     },
     "execution_count": 23,
     "metadata": {},
     "output_type": "execute_result"
    }
   ],
   "source": [
    "gal.data[\"xc\"][0]"
   ]
  },
  {
   "cell_type": "code",
   "execution_count": 14,
   "metadata": {
    "collapsed": false
   },
   "outputs": [
    {
     "data": {
      "text/plain": [
       "1.0631229883236177"
      ]
     },
     "execution_count": 14,
     "metadata": {},
     "output_type": "execute_result"
    }
   ],
   "source": [
    "pbx = hcat.info.pboxsize\n",
    "dd = (hcat.data[\"x\"] - center[\"x\"])**2 + (hcat.data[\"y\"] - center[\"y\"])**2 + (hcat.data[\"z\"] - center[\"z\"])**2 \n",
    "i_in\n",
    "center[\"rvir\"] * hcat.info.pboxsize\n"
   ]
  }
 ],
 "metadata": {
  "kernelspec": {
   "display_name": "Python 3",
   "language": "python",
   "name": "python3"
  },
  "language_info": {
   "codemirror_mode": {
    "name": "ipython",
    "version": 3
   },
   "file_extension": ".py",
   "mimetype": "text/x-python",
   "name": "python",
   "nbconvert_exporter": "python",
   "pygments_lexer": "ipython3",
   "version": "3.5.1+"
  }
 },
 "nbformat": 4,
 "nbformat_minor": 0
}
