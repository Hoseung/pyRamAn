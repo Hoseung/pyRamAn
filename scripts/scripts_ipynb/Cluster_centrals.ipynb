{
 "cells": [
  {
   "cell_type": "code",
   "execution_count": 1,
   "metadata": {
    "collapsed": false
   },
   "outputs": [],
   "source": [
    "def distv3d(halo, center):\n",
    "    norm = np.sqrt(np.square(center['vx'] - halo['vx']) + \n",
    "                   np.square(center['vy'] - halo['vy']) + \n",
    "                   np.square(center['vz'] - halo['vz']))\n",
    "    return norm\n",
    "\n",
    "def distv(halo, center):\n",
    "    try:\n",
    "        vx, vy, vz = center['vx'], center['vy'], center['vz']\n",
    "    except:\n",
    "        vx, vy, vz = center['vxc'], center['vyc'], center['vzc']\n",
    "        \n",
    "    try:\n",
    "        vhx, vhy, vhz = halo['vx'], halo['vy'], halo['vz']\n",
    "    except:\n",
    "        vhx, vhy, vhz = halo['vxc'], halo['vyc'], halo['vzc']\n",
    "    \n",
    "    norm = np.sqrt(np.square(vx - vhx) + \n",
    "                   np.square(vy - vhy) + \n",
    "                   np.square(vz - vhz))\n",
    "    return norm\n",
    "\n",
    "\n",
    "def dist(halo, center):\n",
    "    try:\n",
    "        cx, cy, cz = center['x'], center['y'], center['z']\n",
    "    except:\n",
    "        cx, cy, cz = center['xc'], center['yc'], center['zc']\n",
    "        \n",
    "    try:\n",
    "        hx, hy, hz = halo['x'], halo['y'], halo['z']\n",
    "    except:\n",
    "        hx, hy, hz = halo['xc'], halo['yc'], halo['zc']\n",
    "    norm = np.sqrt(np.square(cx - hx) + \n",
    "                   np.square(cy - hy) + \n",
    "                   np.square(cz - hz))\n",
    "    return norm \n",
    "\n",
    "def match_gal_hal_tree(gt, ht):\n",
    "    nout = 187\n",
    "    dt = 3 # compare progenitor at dt ago.\n",
    "    \n",
    "    gal_now = gt[gt[\"nout\"]==nout]\n",
    "    hal_now = ht[ht[\"nout\"]==nout]\n",
    "    \n",
    "    gal_before = gt[gt[\"nout\"]==nout-dt]\n",
    "    hal_before = ht[ht[\"nout\"]==nout-dt]    \n",
    "    \n",
    "    dominant = 0.1 # matched one should have less error by this amount or smaller \n",
    "                    # compared to the second best matched one.\n",
    "    \n",
    "    abs_tol_pos = 5e-5 # Position absolute tolerance [in code unit?]\n",
    "    abs_tol_vel = 10   # velocity absolute tolerance [in kms?]\n",
    "    \n",
    "    for gal in gal_now:\n",
    "        dd = dist(hal_now, gal)\n",
    "        vv = distv(hal_now, gal)\n",
    "        d_sort = np.argsort(dd)\n",
    "        v_sort = np.argsort(vv)\n",
    "        if (dd[d_sort[0]] < dominant * dd[d_sort[1]]) and (dd[d_sort[0]] < abs_tol_pos) and \\\n",
    "        (vv[v_sort[0]] < dominant * vv[v_sort[1]]) and (vv[v_sort[0]] < abs_tol_vel):\n",
    "            gal['hosthalo'] = allhal.data['id'][d_sort[0]]\n",
    "            i0.append(i)\n",
    "            newhals[i] = allhal.data[d_sort[0]]\n",
    "        else:\n",
    "            atree = tree.atree(gt)\n",
    "            prg = atree[dt]\n",
    "            for gal2 in gal_before:\n",
    "                dd = dist(hal_now, gal2)\n",
    "                vv = distv(hal_now, gal2)\n",
    "                d_sort = np.argsort(dd)\n",
    "                v_sort = np.argsort(vv)\n",
    "\n",
    "def get_comp_dist(hal_now, gal, nreturn=5, fpos=1.0, fvel=1.0):\n",
    "    \"\"\"Measure 6D distance and return Nreturn closest entries\"\"\"\n",
    "    dd = dist(hal_now, gal)\n",
    "    vv = distv(hal_now, gal)\n",
    "    dd_q1 = np.percentile(dd,10)\n",
    "    vv_q1 = np.percentile(vv,10)\n",
    "    comp_dist = np.sqrt(fpos * np.square(dd/dd_q1) + fvel * np.square(vv/vv_q1))\n",
    "    ind_sort = np.argsort(comp_dist)\n",
    "    return comp_dist[ind_sort[:nreturn]], hal_now[ind_sort[:nreturn]]\n",
    "\n",
    "def before_to_now(htdata, hals, dt):\n",
    "    out = []\n",
    "    for hal in hals:\n",
    "        atree_hal = ctu.extract_main_tree_full(htdata, idx=hal['id'])\n",
    "        out.append(atree_hal[hal['nout'] + dt])\n",
    "    return out\n",
    "\n",
    "def now_to_before(htdata, hals, dt):\n",
    "    \"\"\"\n",
    "    progenitor of current halos.\n",
    "    If does not exist, give -1\n",
    "    \"\"\"\n",
    "    out =[]\n",
    "    for hal in hals:\n",
    "        idx = hal['id']\n",
    "        try:\n",
    "            atree_hal = ctu.extract_main_tree(htdata, idx=idx)\n",
    "            out.append(atree_hal[dt])\n",
    "        except:\n",
    "            print(\"broken tree\")\n",
    "            out.append(-1)        \n",
    "            \n",
    "    return np.array(out)\n",
    "\n",
    "def gal_hal_pair(cluster, gt, ht, info,\n",
    "                    dominant = 0.4,\n",
    "                    abs_tol_pos = 1e-2,\n",
    "                    abs_tol_vel = 100,\n",
    "                    nout_fi = 187,\n",
    "                    dts = [3,5],\n",
    "                    ids=None,\n",
    "                    filter_dup=False,\n",
    "                    verbose=False,\n",
    "                    skip_tree=False,\n",
    "                    fpos=1.0, fvel=1.0):\n",
    "    \"\"\"\n",
    "        fpos, fvel:\n",
    "            weight of position and velocity in comp_dist.\n",
    "    \"\"\"\n",
    "\n",
    "    gal_now = gt.data[gt.data[\"nout\"]==nout_fi]\n",
    "    if ids is not None:\n",
    "        from utils.match import match_list_ind\n",
    "        i_good_gal = mtc.match_list_ind(gal_now[\"Orig_halo_id\"], ids)\n",
    "        gal_now = gal_now[i_good_gal]\n",
    "    hal_now = ht.data[ht.data[\"nout\"]==nout_fi]\n",
    "\n",
    "    # exclude galaxies with too short tree.\n",
    "    gal_ok = ctu.check_tree_complete(gt.data, nout_fi - max(dts), nout_fi, gal_now[\"id\"], idx=True)\n",
    "\n",
    "    hal_3 = ht.data[ht.data[\"nout\"]==nout_fi - 3]\n",
    "    hal_5 = ht.data[ht.data[\"nout\"]==nout_fi - 5]\n",
    "    hal_this_list = [hal_3, hal_5]\n",
    "    \n",
    "    comp_dists=[]\n",
    "    #comp_dists.append(comp_dist)\n",
    "    result = []\n",
    "    mhal_result = []\n",
    "    dist_error = []\n",
    "\n",
    "    i_gal_ok = []\n",
    "    ok_gals = []\n",
    "    for igal, gal in enumerate(gal_now):\n",
    "        if gal['id'] not in gal_ok:\n",
    "            print(\"ID: {},  Too short tree\".format(gal[\"id\"]))\n",
    "            continue\n",
    "        else:\n",
    "            i_gal_ok.append(igal)\n",
    "            if verbose: print(\"Galaxy {} has a fine tree. Good to go.\".format(gal[\"id\"]))\n",
    "            # Halo descendant - galaxy descendant\n",
    "            comp_dist, good_hals_now = get_comp_dist(hal_now, gal, nreturn=5, fpos=fpos, fvel=fvel)\n",
    "            # halo must be more massive than the galaxy\n",
    "            matches=[]\n",
    "            good_hals_now = good_hals_now[good_hals_now[\"m\"] > gal[\"m\"]]\n",
    "            # Sometimes no halo larger than the galaxy is found in the vicinity.\n",
    "            # but... why??\n",
    "            try:\n",
    "                if len(good_hals_now) == 0:\n",
    "                    continue\n",
    "            except:\n",
    "                print(igal, comp_dist, good_hals_now)\n",
    "            \n",
    "            matches.append(good_hals_now[\"Orig_halo_id\"])\n",
    "            \n",
    "            if skip_tree:\n",
    "                ok_gals.append(gal)\n",
    "                result.append(good_hals_now[0])\n",
    "                continue\n",
    "                \n",
    "            # Halo progenitor - galaxy progenitor\n",
    "            atree = ctu.extract_main_tree(gt.data, idx=gal['id'])            \n",
    "            for idt, dt in enumerate([3,5]):\n",
    "                hal_this = hal_this_list[idt]\n",
    "                gal_this = atree[dt]\n",
    "                \n",
    "                # 10 closest galaxies.\n",
    "                comp_dist_this, good_hals_this = get_comp_dist(hal_this, gal_this, nreturn=10)\n",
    "                # halo must be more massive than the galaxy.\n",
    "                good_hals_this = good_hals_this[good_hals_this[\"m\"] > gal_this[\"m\"]]\n",
    "                \n",
    "                # progenitors of the 'good' halo candidates\n",
    "                good_hals_prgsthis = now_to_before(ht.data, good_hals_now, dt)\n",
    "                \n",
    "                i_good = []\n",
    "                i_good_prg=[]\n",
    "                try:\n",
    "                    for i, ghthis in enumerate(good_hals_this['Orig_halo_id']):\n",
    "                        # Why halo id at now and before are compared?? \n",
    "                        if ghthis in good_hals_prgsthis[\"Orig_halo_id\"]:\n",
    "                            #i_good_prg.append(i)\n",
    "                            i_good.append(np.where(good_hals_prgsthis[\"Orig_halo_id\"] == ghthis)[0][0])\n",
    "                except:\n",
    "                    #print(idt, dt, good_hals_this, good_hals_this.dtype, good_hals_this[\"Orig_halo_id\"])\n",
    "                    print(idt, dt, good_hals_prgsthis.dtype)\n",
    "                    print(good_hals_prgsthis)\n",
    "                    print(good_hals_now)\n",
    "                    print(good_hals_prgsthis[\"Orig_halo_id\"])\n",
    "                if verbose: print(i_good)\n",
    "                matches.append(good_hals_now[\"Orig_halo_id\"][i_good])\n",
    "            try:\n",
    "                if matches[0][0] == matches[1][0] == matches[2][0]:\n",
    "                    matched = matches[0][0]\n",
    "                    result.append(good_hals_now[0])\n",
    "                    ok_gals.append(gal)\n",
    "            except:\n",
    "                if verbose:\n",
    "                    print(matches)\n",
    "                pass\n",
    "\n",
    "\n",
    "    result = np.array(result)\n",
    "    ok_gals = np.array(ok_gals)\n",
    "\n",
    "    print( \"Out of {} galaxies, matched {} galaxies.\".format(len(gal_now), len(result)))\n",
    "    \n",
    "    if ~filter_dup:\n",
    "        return result, ok_gals\n",
    "    \n",
    "    # filter duplicates\n",
    "    unq, unq_idx, unq_cnt = np.unique(result[\"Orig_halo_id\"], return_inverse=True, return_counts=True)\n",
    "    cnt_mask = unq_cnt > 1\n",
    "    cnt_idx, = np.nonzero(cnt_mask)\n",
    "    idx_mask = np.in1d(unq_idx, cnt_idx)\n",
    "    idx_idx, = np.nonzero(idx_mask)\n",
    "    srt_idx = np.argsort(unq_idx[idx_mask])\n",
    "    dup_idx = np.split(idx_idx[srt_idx], np.cumsum(unq_cnt[cnt_mask])[:-1])\n",
    "\n",
    "    # Remove smaller duplicates and leave the largest galaxy.\n",
    "    remove_inds=[]\n",
    "    for dup in dup_idx:\n",
    "        ind_all = np.full(len(dup), True, dtype=bool)\n",
    "        #print(ind_all)\n",
    "        imax = np.argmax(ok_gals[\"m\"][dup])\n",
    "        ind_all[imax] = False\n",
    "        remove_inds.extend(dup[ind_all])\n",
    "\n",
    "    remove_inds = np.array(remove_inds)\n",
    "    inds_ok = np.full(len(result), True, dtype=bool)\n",
    "    inds_ok[remove_inds] = False\n",
    "\n",
    "\n",
    "    # load each galaxy and measure stellar mass\n",
    "    return result[inds_ok], ok_gals[inds_ok]\n"
   ]
  },
  {
   "cell_type": "code",
   "execution_count": 2,
   "metadata": {
    "collapsed": true
   },
   "outputs": [],
   "source": [
    "def hal_gal_by_gatalog(hcat, gcat, ids=None, fpos=1.0, fvel=0.0):\n",
    "    hd = hcat.data\n",
    "    gd = gcat.data\n",
    "    if ids is not None:\n",
    "        from utils.match import match_list_ind\n",
    "        i_good_gal = mtc.match_list_ind(gd[\"id\"], ids)\n",
    "        gd = gd[i_good_gal]\n",
    "\n",
    "    gd = gd[np.argsort(gd[\"m\"])][::-1] # Sort in decending stellar mass order.\n",
    "\n",
    "    i_gal_ok=[]\n",
    "    matched_g=[]\n",
    "    matched_h=[]\n",
    "\n",
    "    for igal, gal in enumerate(gd):\n",
    "        i_gal_ok.append(igal)\n",
    "\n",
    "        comp_dist, good_hals = get_comp_dist(hd, gal, nreturn=3, fpos=fpos, fvel=fvel)\n",
    "        #good_hals_now = good_hals_now[good_hals_now[\"m\"] > gal[\"m\"]]\n",
    "\n",
    "        try:\n",
    "            if len(good_hals) == 0:\n",
    "                print(comp_dist)\n",
    "                continue\n",
    "        except:\n",
    "            print(igal, comp_dist, good_hals)\n",
    "\n",
    "        matched_h.append(good_hals[0])\n",
    "        matched_g.append(gal)\n",
    "\n",
    "    return np.hstack(matched_h), np.hstack(matched_g)"
   ]
  },
  {
   "cell_type": "markdown",
   "metadata": {
    "collapsed": false
   },
   "source": [
    "good_hals, good_gals = gal_hal_pair(cluster, gt, ht, info,\n",
    "                                     ids = missing,\n",
    "                                     dominant = 0.4,\n",
    "                                     abs_tol_pos = 1e-2,\n",
    "                                     abs_tol_vel = 100,\n",
    "                                     nout_fi = 187,\n",
    "                                     dts = dts,\n",
    "                                     verbose=True,\n",
    "                                     skip_tree=True,\n",
    "                                     fpos=1.0, fvel=1)"
   ]
  },
  {
   "cell_type": "markdown",
   "metadata": {
    "collapsed": false
   },
   "source": [
    "ax = draw.pp.pp_halo(good_hals, 400, edgecolor='blue', rscale=1e-3)\n",
    "#ax.pp_hal_meta.region[\"zr\"] = (0, 1e9)\n",
    "#ax.pp_hal_meta.region[\"ranges\"][2] = (0, 1e9)\n",
    "print(\"_______________________\")\n",
    "draw.pp.pp_halo(good_gals, 400, edgecolor='green', rscale=1e-3, ax=ax)\n",
    "plt.show()"
   ]
  },
  {
   "cell_type": "markdown",
   "metadata": {},
   "source": [
    "거리만으로 했을 때 어느정도 회복 가능. 그러나 아직도 안 되는 것들 있음. \n",
    "헤일로가 없는 것인가? 아니면 있는데 못 찾는 것인가? "
   ]
  },
  {
   "cell_type": "code",
   "execution_count": 3,
   "metadata": {
    "collapsed": true
   },
   "outputs": [],
   "source": [
    "import numpy as np\n",
    "import matplotlib.pyplot as plt\n",
    "import tree.halomodule as hmo\n",
    "import pickle\n",
    "from analysis.MajorMinorAccretion_module import *\n",
    "import draw\n",
    "import load\n",
    "import utils.match as mtc\n",
    "wdir = '/home/hoseung/Work/data/'"
   ]
  },
  {
   "cell_type": "code",
   "execution_count": 4,
   "metadata": {
    "collapsed": false
   },
   "outputs": [
    {
     "name": "stdout",
     "output_type": "stream",
     "text": [
      "/home/hoseung/Work/data\n"
     ]
    }
   ],
   "source": [
    "cd '/home/hoseung/Work/data/'"
   ]
  },
  {
   "cell_type": "code",
   "execution_count": 5,
   "metadata": {
    "collapsed": false
   },
   "outputs": [],
   "source": [
    "# '_' at the tail...?\n",
    "prg_final = pickle.load(open(wdir + \"main_prgs_final_augmented_5_10_0.5_0.5_0.5_37_0.01_filtered.pickle\", \"rb\"))"
   ]
  },
  {
   "cell_type": "markdown",
   "metadata": {},
   "source": [
    "How do I define centrals and satellites? "
   ]
  },
  {
   "cell_type": "code",
   "execution_count": 6,
   "metadata": {
    "collapsed": false
   },
   "outputs": [],
   "source": [
    "clusters = np.unique([gal.cluster for gal in prg_final])"
   ]
  },
  {
   "cell_type": "code",
   "execution_count": null,
   "metadata": {
    "collapsed": false
   },
   "outputs": [],
   "source": [
    "for cluster in clusters[6:]:\n",
    "    sclu = str(cluster).zfill(5)\n",
    "    wdir_clu = wdir + sclu +'/'\n",
    "    hcat = hmo.Halo(base=wdir_clu, nout=187)\n",
    "    gcat = hmo.Halo(base=wdir_clu, nout=187, is_gal=True)\n",
    "    \n",
    "    gal_this_cluster = [gal.data[0] for gal in prg_final if gal.cluster == cluster]\n",
    "    gal_this_cluster = np.hstack(gal_this_cluster)\n",
    "    mh, mg = hal_gal_by_gatalog(hcat, gcat, ids=gal_this_cluster[\"id\"])\n",
    "\n",
    "    #print(len(gal_this_cluster), len(np.unique(mh)))\n",
    "\n",
    "    ax = draw.pp.pp_halo(mh, 400, color_field=\"level\")\n",
    "    #print(\"_______________________\")\n",
    "    draw.pp.pp_halo(mg, 400, edgecolor='green', ax=ax)\n",
    "    ax.set_aspect('equal', 'datalim')\n",
    "    ax.set_title(\"{}  out of {} matched\".format(len(np.unique(mh)), len(gal_this_cluster)))\n",
    "    plt.savefig(wdir + 'figs/hal_gal_match/' + sclu + \"_hal_gal_match.png\")\n",
    "    plt.close()\n",
    "    "
   ]
  },
  {
   "cell_type": "code",
   "execution_count": 49,
   "metadata": {
    "collapsed": false
   },
   "outputs": [
    {
     "data": {
      "text/plain": [
       "array([1, 1, 2, 1, 3, 2, 2, 2, 2, 2, 1, 2, 2, 2, 1, 2, 2, 2, 2, 2, 2, 2, 2,\n",
       "       2, 2, 2, 2, 2, 1, 2, 2, 2, 3, 2, 3, 1, 4, 2, 1, 2, 2, 2, 2, 2, 1, 2,\n",
       "       2, 2, 2, 3, 2, 2, 3, 3, 2, 3, 2, 2, 2, 2, 2, 2, 2, 2, 2, 2, 2, 3, 2,\n",
       "       2, 1, 2, 2, 2, 2, 2, 1, 2, 2, 2, 1, 1, 2, 2, 2, 1, 2, 1, 2, 2, 2, 2,\n",
       "       2, 2, 2, 2, 2, 2, 2, 2, 2, 2, 3, 2, 2, 3, 3, 2, 2, 2, 2, 2, 2, 2, 2,\n",
       "       2, 2, 2, 2, 2, 2, 2, 2, 2, 2, 2, 3, 2, 2, 2, 2, 2, 2, 2, 2, 2, 2, 2,\n",
       "       2, 2, 2, 3, 2, 3, 2, 2, 2, 2, 2, 3, 4, 2, 3, 2, 2, 2, 2, 2, 2, 3, 3,\n",
       "       2, 2, 2, 4, 2, 3, 2, 2, 2, 2, 2, 2, 4, 2, 2, 3, 2, 1, 4, 2, 2, 3, 3,\n",
       "       3, 2, 4, 2, 2, 2, 2, 2, 2, 2, 3, 3, 2, 2, 2, 3, 1, 3, 2, 2, 1, 3, 1,\n",
       "       2], dtype=int32)"
      ]
     },
     "execution_count": 49,
     "metadata": {},
     "output_type": "execute_result"
    }
   ],
   "source": [
    "mh[\"level\"]"
   ]
  },
  {
   "cell_type": "markdown",
   "metadata": {},
   "source": [
    "8 galaxies with the same host halo. \n",
    "DM halos totally destructed? "
   ]
  },
  {
   "cell_type": "code",
   "execution_count": 43,
   "metadata": {
    "collapsed": false
   },
   "outputs": [
    {
     "name": "stdout",
     "output_type": "stream",
     "text": [
      "MinMax ccc 0.0 256.0\n",
      "_______________________\n"
     ]
    }
   ],
   "source": [
    "ax = draw.pp.pp_halo(hcat.data, 400, color_field=\"level\")\n",
    "print(\"_______________________\")\n",
    "draw.pp.pp_halo(mg, 400, edgecolor='green', ax=ax)\n",
    "plt.show()"
   ]
  },
  {
   "cell_type": "code",
   "execution_count": 6,
   "metadata": {
    "collapsed": false
   },
   "outputs": [],
   "source": [
    "# galaxies in the cluster 29176 at nout=187\n",
    "gal_this_cluster = [gal.data[0] for gal in prg_final if gal.cluster == 29176]\n",
    "gal_this_cluster = np.hstack(gal_this_cluster)"
   ]
  },
  {
   "cell_type": "code",
   "execution_count": null,
   "metadata": {
    "collapsed": true
   },
   "outputs": [],
   "source": [
    "clu = hcat.data[np.argmax(hcat.data[\"np\"])]\n",
    "rscale = 3.0\n",
    "\n",
    "cx,cy,cz = clu[\"x\"], clu[\"y\"], clu[\"z\"]\n",
    "x,y,z = hcat.data[\"x\"], hcat.data[\"y\"], hcat.data[\"z\"]\n",
    "dd = np.sqrt(np.square(cx - x) + np.square(cy - y) + np.square(cz - z))\n",
    "\n",
    "i_cluster = np.where((dd < (clu[\"rvir\"]*rscale)) * (hcat.data[\"mvir\"] > 1e10))[0]\n",
    "\n",
    "gcat = hmo.Halo(base=wdir_clu, nout=187, is_gal=True)"
   ]
  },
  {
   "cell_type": "markdown",
   "metadata": {
    "collapsed": false
   },
   "source": [
    "ax = draw.pp.pp_halo(hcat, 400, ind=i_cluster, color_field=\"level\", color_log=False)\n",
    "#i_good_gal = np.where(gcat.data[\"mvir\"] > 5e9)[0]\n",
    "i_good_gal = mtc.match_list_ind(gcat.data[\"id\"], gal_this_cluster[\"id\"]) #Only the galaxies in the final mpgs list.\n",
    "ax = draw.pp.pp_halo(gcat, 400, ind=i_good_gal, edgecolor='green')#color_field=\"level\", color_log=False)\n",
    "plt.show()"
   ]
  },
  {
   "cell_type": "markdown",
   "metadata": {},
   "source": [
    "Match galaxies and level 1 halos? \n",
    "-> \n",
    "\n",
    "\n",
    "Use tree, but also use halo catalog for halo level information."
   ]
  },
  {
   "cell_type": "code",
   "execution_count": 8,
   "metadata": {
    "collapsed": false
   },
   "outputs": [
    {
     "name": "stdout",
     "output_type": "stream",
     "text": [
      "Loaded an extended tree\n",
      "Loaded an extended tree\n"
     ]
    }
   ],
   "source": [
    "import tree.treemodule as tmo\n",
    "gt = tmo.load_tree(wdir_clu, is_gal=True)\n",
    "ht = tmo.load_tree(wdir_clu, is_gal=False)"
   ]
  },
  {
   "cell_type": "markdown",
   "metadata": {},
   "source": [
    "Every galaxy has a tree. But 20 galaxies have failed to find match. "
   ]
  },
  {
   "cell_type": "code",
   "execution_count": 10,
   "metadata": {
    "collapsed": false
   },
   "outputs": [
    {
     "name": "stdout",
     "output_type": "stream",
     "text": [
      "Out of 150 galaxies, matched 130 galaxies.\n"
     ]
    }
   ],
   "source": [
    "i_good_gt = mtc.match_list_ind(gt.data[\"id\"], gal_this_cluster[\"id\"])\n",
    "\n",
    "\n",
    "dts = [3,5]\n",
    "\n",
    "info = load.info.Info(187, base=wdir_clu)\n",
    "good_hals, good_gals = gal_hal_pair(cluster, gt, ht, info,\n",
    "                                     ids = gal_this_cluster[\"id\"],\n",
    "                                     dominant = 0.4,\n",
    "                                     abs_tol_pos = 1e-2,\n",
    "                                     abs_tol_vel = 100,\n",
    "                                     nout_fi = 187,\n",
    "                                     dts = dts)"
   ]
  },
  {
   "cell_type": "code",
   "execution_count": 42,
   "metadata": {
    "collapsed": false
   },
   "outputs": [
    {
     "name": "stdout",
     "output_type": "stream",
     "text": [
      "Galaxies faield to match are: [  4 116 133 137 199 213 221 227 267 274 314 321 341 348 397 685 702 706\n",
      " 708 753]\n"
     ]
    }
   ],
   "source": [
    "missing = np.setdiff1d(gal_this_cluster[\"id\"], good_gals[\"Orig_halo_id\"])\n",
    "print(\"Galaxies faield to match are:\", missing)"
   ]
  },
  {
   "cell_type": "code",
   "execution_count": 11,
   "metadata": {
    "collapsed": false
   },
   "outputs": [],
   "source": [
    "ax = draw.pp.pp_halo(hcat, 400, ind=i_cluster, edgecolor=\"blue\")#color_field=\"level\", color_log=False)\n",
    "i_good_gal = mtc.match_list_ind(gcat.data[\"id\"], gal_this_cluster[\"id\"]) #Only the galaxies in the final mpgs list.\n",
    "ax = draw.pp.pp_halo(gcat, 400, ind=i_good_gal, edgecolor='green')#color_field=\"level\", color_log=False)\n",
    "i_good_gal = mtc.match_list_ind(gcat.data[\"id\"], good_gals[\"Orig_halo_id\"]) #Only the galaxies in the final mpgs list.\n",
    "draw.pp.pp_halo(gcat, 400, ind=i_good_gal, edgecolor='red', ax=ax)\n",
    "plt.show()"
   ]
  },
  {
   "cell_type": "code",
   "execution_count": 37,
   "metadata": {
    "collapsed": false,
    "scrolled": true
   },
   "outputs": [
    {
     "name": "stdout",
     "output_type": "stream",
     "text": [
      "[Halo.load_info] loading info\n",
      "[Halo.load_info] nout = 187, base =/home/hoseung/Work/data/29176/\n",
      "MinMax ccc 0.0 256.0\n"
     ]
    },
    {
     "ename": "ValueError",
     "evalue": "min() arg is an empty sequence",
     "output_type": "error",
     "traceback": [
      "\u001b[1;31m---------------------------------------------------------------------------\u001b[0m",
      "\u001b[1;31mValueError\u001b[0m                                Traceback (most recent call last)",
      "\u001b[1;32m<ipython-input-37-bda322974e61>\u001b[0m in \u001b[0;36m<module>\u001b[1;34m()\u001b[0m\n\u001b[0;32m      3\u001b[0m \u001b[0mgcat\u001b[0m \u001b[1;33m=\u001b[0m \u001b[0mhmo\u001b[0m\u001b[1;33m.\u001b[0m\u001b[0mHalo\u001b[0m\u001b[1;33m(\u001b[0m\u001b[0mbase\u001b[0m\u001b[1;33m=\u001b[0m\u001b[0mwdir_clu\u001b[0m\u001b[1;33m,\u001b[0m \u001b[0mnout\u001b[0m\u001b[1;33m=\u001b[0m\u001b[1;36m187\u001b[0m\u001b[1;33m,\u001b[0m \u001b[0mis_gal\u001b[0m\u001b[1;33m=\u001b[0m\u001b[1;32mTrue\u001b[0m\u001b[1;33m)\u001b[0m\u001b[1;33m\u001b[0m\u001b[0m\n\u001b[0;32m      4\u001b[0m \u001b[0max\u001b[0m \u001b[1;33m=\u001b[0m \u001b[0mdraw\u001b[0m\u001b[1;33m.\u001b[0m\u001b[0mpp\u001b[0m\u001b[1;33m.\u001b[0m\u001b[0mpp_halo\u001b[0m\u001b[1;33m(\u001b[0m\u001b[0mhcat\u001b[0m\u001b[1;33m,\u001b[0m \u001b[1;36m400\u001b[0m\u001b[1;33m,\u001b[0m \u001b[0mind\u001b[0m\u001b[1;33m=\u001b[0m\u001b[0mi_cluster\u001b[0m\u001b[1;33m,\u001b[0m \u001b[0mcolor_field\u001b[0m\u001b[1;33m=\u001b[0m\u001b[1;34m\"level\"\u001b[0m\u001b[1;33m,\u001b[0m \u001b[0mcolor_log\u001b[0m\u001b[1;33m=\u001b[0m\u001b[1;32mFalse\u001b[0m\u001b[1;33m)\u001b[0m\u001b[1;33m\u001b[0m\u001b[0m\n\u001b[1;32m----> 5\u001b[1;33m \u001b[0mdraw\u001b[0m\u001b[1;33m.\u001b[0m\u001b[0mpp\u001b[0m\u001b[1;33m.\u001b[0m\u001b[0mpp_halo\u001b[0m\u001b[1;33m(\u001b[0m\u001b[0mgood_hals\u001b[0m\u001b[1;33m,\u001b[0m \u001b[1;36m400\u001b[0m\u001b[1;33m,\u001b[0m \u001b[0medgecolor\u001b[0m\u001b[1;33m=\u001b[0m\u001b[1;34m'blue'\u001b[0m\u001b[1;33m,\u001b[0m \u001b[0mrscale\u001b[0m\u001b[1;33m=\u001b[0m\u001b[1;36m1e-3\u001b[0m\u001b[1;33m,\u001b[0m \u001b[0max\u001b[0m\u001b[1;33m=\u001b[0m\u001b[0max\u001b[0m\u001b[1;33m)\u001b[0m\u001b[1;33m\u001b[0m\u001b[0m\n\u001b[0m\u001b[0;32m      6\u001b[0m \u001b[1;31m#ax.pp_hal_meta.region[\"zr\"] = (0, 1e9)\u001b[0m\u001b[1;33m\u001b[0m\u001b[1;33m\u001b[0m\u001b[0m\n\u001b[0;32m      7\u001b[0m \u001b[1;31m#ax.pp_hal_meta.region[\"ranges\"][2] = (0, 1e9)\u001b[0m\u001b[1;33m\u001b[0m\u001b[1;33m\u001b[0m\u001b[0m\n",
      "\u001b[1;32m/home/hoseung/Work/pyclusterevol/draw/pp.py\u001b[0m in \u001b[0;36mpp_halo\u001b[1;34m(h, npix, rscale, region, ind, ax, name, radius, verbose, new_ax, fontsize, linewidth, color_field, color_log, vmin, vmax, keep_clim, cmap, **kwargs)\u001b[0m\n\u001b[0;32m    424\u001b[0m                       linewidth=linewidth, cmap=cmap, **kwargs)\n\u001b[0;32m    425\u001b[0m \u001b[1;33m\u001b[0m\u001b[0m\n\u001b[1;32m--> 426\u001b[1;33m     \u001b[0max\u001b[0m\u001b[1;33m.\u001b[0m\u001b[0mset_xlim\u001b[0m\u001b[1;33m(\u001b[0m\u001b[1;33m[\u001b[0m\u001b[0mmin\u001b[0m\u001b[1;33m(\u001b[0m\u001b[0mx\u001b[0m\u001b[1;33m)\u001b[0m\u001b[1;33m,\u001b[0m \u001b[0mmax\u001b[0m\u001b[1;33m(\u001b[0m\u001b[0mx\u001b[0m\u001b[1;33m)\u001b[0m\u001b[1;33m]\u001b[0m\u001b[1;33m)\u001b[0m\u001b[1;33m\u001b[0m\u001b[0m\n\u001b[0m\u001b[0;32m    427\u001b[0m     \u001b[0max\u001b[0m\u001b[1;33m.\u001b[0m\u001b[0mset_ylim\u001b[0m\u001b[1;33m(\u001b[0m\u001b[1;33m[\u001b[0m\u001b[0mmin\u001b[0m\u001b[1;33m(\u001b[0m\u001b[0my\u001b[0m\u001b[1;33m)\u001b[0m\u001b[1;33m,\u001b[0m \u001b[0mmax\u001b[0m\u001b[1;33m(\u001b[0m\u001b[0my\u001b[0m\u001b[1;33m)\u001b[0m\u001b[1;33m]\u001b[0m\u001b[1;33m)\u001b[0m\u001b[1;33m\u001b[0m\u001b[0m\n\u001b[0;32m    428\u001b[0m     \u001b[1;32mif\u001b[0m \u001b[0mname\u001b[0m\u001b[1;33m:\u001b[0m\u001b[1;33m\u001b[0m\u001b[0m\n",
      "\u001b[1;31mValueError\u001b[0m: min() arg is an empty sequence"
     ]
    }
   ],
   "source": [
    "fig, ax = plt.subplots()\n",
    "\n",
    "\n",
    "draw.pp.pp_halo(good_hals, 400, edgecolor='blue', rscale=1e-3, ax=ax)\n",
    "#ax.pp_hal_meta.region[\"zr\"] = (0, 1e9)\n",
    "#ax.pp_hal_meta.region[\"ranges\"][2] = (0, 1e9)\n",
    "print(\"_______________________\")\n",
    "draw.pp.pp_halo(good_gals, 400, edgecolor='green', rscale=1e-3, ax=ax)\n",
    "ax.set_aspect('equal', 'datalim')\n",
    "plt.show()"
   ]
  },
  {
   "cell_type": "code",
   "execution_count": null,
   "metadata": {
    "collapsed": false
   },
   "outputs": [],
   "source": [
    "from analysis.misc import load_cat\n",
    "cat_final = load_cat(\"/home/hoseung/Work/data/29176/easy_final/catalog187.pickle\")\n",
    "# some galaxies have erroneous values.\n",
    "cat_final[\"idx\"][cat_final[\"idx\"] < 0] = -1"
   ]
  },
  {
   "cell_type": "code",
   "execution_count": null,
   "metadata": {
    "collapsed": true
   },
   "outputs": [],
   "source": [
    "def get_comp_dist(hal_now, gal, nreturn=5, mcut=True):\n",
    "    \"\"\"Measure 6D distance and return Nreturn closest entries\"\"\"\n",
    "    if mcut:\n",
    "        hal_now = hal_now[hal_now[\"m\"] > gal[\"mstar\"]]\n",
    "    dd = dist(hal_now, gal)\n",
    "    vv = distv(hal_now, gal)\n",
    "    dd_q1 = np.percentile(dd, 10)\n",
    "    vv_q1 = np.percentile(vv, 10)\n",
    "    comp_dist = np.sqrt(np.square(dd/dd_q1) + np.square(vv/vv_q1))\n",
    "    ind_sort = np.argsort(comp_dist)\n",
    "    return comp_dist[ind_sort[:nreturn]], hal_now[ind_sort[:nreturn]]\n",
    "\n",
    "\n",
    "hal_ids = list(hcat.data[\"id\"])\n",
    "hal_gal_pair=np.zeros(len(cat_final), dtype=([(\"gid\", \"<i8\"), (\"hid\", \"<i8\")]))\n",
    "for i, gal in enumerate(cat_final[np.argsort(cat_final[\"mstar\"])[::-1]]):\n",
    "    # print(np.log10(gal[\"mstar\"]))\n",
    "    comp_dist_this, good_hals_this = get_comp_dist(hcat.data, gal, nreturn=10, mcut = True)\n",
    "                # halo must be more massive than the galaxy.\n",
    "    # print(good_hals_this[\"m\"])\n",
    "    # Halo mass is exclusive, while the BCG stellar mass may include much more.\n",
    "    good_hals_this = good_hals_this[good_hals_this[\"m\"] > gal[\"mstar\"]]\n",
    "    \n",
    "    matched_hal = good_hals_this[0][\"id\"]\n",
    "    # If everything is good. \n",
    "    hal_gal_pair[\"gid\"] = gal[\"id\"]\n",
    "    hal_gal_pair[\"hid\"] = hal_ids.pop(hal_ids.index(matched_hal))\n",
    "    print(matched_hal)"
   ]
  },
  {
   "cell_type": "code",
   "execution_count": null,
   "metadata": {
    "collapsed": false
   },
   "outputs": [],
   "source": [
    "fig, axs = plt.subplots(1,2)\n",
    "gid_in_clu = np.array([gal.data['id'][0] for gal in prg_final if gal.cluster == cluster])\n",
    "\n",
    "ghal = hmo.Halo(base = wdir_clu, nout=187, is_gal=True)\n",
    "\n",
    "i_final_sample = mtc.match_list_ind(ghal.data[\"id\"], gid_in_clu)\n",
    "axs[1] = draw.pp.pp_halo(ghal.data, 400, color_log=False, radius=\"rvir\")\n",
    "#draw.pp.pp_halo(hcat.data, 400, color_log=False, radius=\"rvir\", ax=ax, edgecolor='red')\n",
    "draw.pp.pp_halo(ghal.data[i_final_sample], 400, ax=axs[1], radius=\"rvir\", edgecolor=\"blue\")\n",
    "print(axs[1].pp_hal_meta.region)\n",
    "draw.pp.pp_halo(ghal.data, 400, ax=axs[0], region=axs[1].pp_hal_meta.region, radius=\"rvir\")\n",
    "#axs[0].set_xlim(axs[1].get_xlim())\n",
    "#axs[0].set_ylim(axs[1].get_ylim())\n",
    "plt.show()"
   ]
  },
  {
   "cell_type": "code",
   "execution_count": null,
   "metadata": {
    "collapsed": false
   },
   "outputs": [],
   "source": [
    "max(ghal.data[i_final_sample][\"x\"])"
   ]
  },
  {
   "cell_type": "code",
   "execution_count": null,
   "metadata": {
    "collapsed": false
   },
   "outputs": [],
   "source": [
    "axs[0].pp_hal_meta.region"
   ]
  }
 ],
 "metadata": {
  "kernelspec": {
   "display_name": "Python 3",
   "language": "python",
   "name": "python3"
  },
  "language_info": {
   "codemirror_mode": {
    "name": "ipython",
    "version": 3
   },
   "file_extension": ".py",
   "mimetype": "text/x-python",
   "name": "python",
   "nbconvert_exporter": "python",
   "pygments_lexer": "ipython3",
   "version": "3.5.1+"
  }
 },
 "nbformat": 4,
 "nbformat_minor": 0
}
