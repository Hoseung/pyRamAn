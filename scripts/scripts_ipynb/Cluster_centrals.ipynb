{
 "cells": [
  {
   "cell_type": "code",
   "execution_count": 37,
   "metadata": {
    "collapsed": true
   },
   "outputs": [],
   "source": [
    "def distv3d(halo, center):\n",
    "    norm = np.sqrt(np.square(center['vx'] - halo['vx']) + \n",
    "                   np.square(center['vy'] - halo['vy']) + \n",
    "                   np.square(center['vz'] - halo['vz']))\n",
    "    return norm\n",
    "\n",
    "def distv(halo, center):\n",
    "    try:\n",
    "        vx, vy, vz = center['vx'], center['vy'], center['vz']\n",
    "    except:\n",
    "        vx, vy, vz = center['vxc'], center['vyc'], center['vzc']\n",
    "        \n",
    "    try:\n",
    "        vhx, vhy, vhz = halo['vx'], halo['vy'], halo['vz']\n",
    "    except:\n",
    "        vhx, vhy, vhz = halo['vxc'], halo['vyc'], halo['vzc']\n",
    "    \n",
    "    norm = np.sqrt(np.square(vx - vhx) + \n",
    "                   np.square(vy - vhy) + \n",
    "                   np.square(vz - vhz))\n",
    "    return norm\n",
    "\n",
    "\n",
    "def dist(halo, center):\n",
    "    try:\n",
    "        cx, cy, cz = center['x'], center['y'], center['z']\n",
    "    except:\n",
    "        cx, cy, cz = center['xc'], center['yc'], center['zc']\n",
    "        \n",
    "    try:\n",
    "        hx, hy, hz = halo['x'], halo['y'], halo['z']\n",
    "    except:\n",
    "        hx, hy, hz = halo['xc'], halo['yc'], halo['zc']\n",
    "    norm = np.sqrt(np.square(cx - hx) + \n",
    "                   np.square(cy - hy) + \n",
    "                   np.square(cz - hz))\n",
    "    return norm \n",
    "\n",
    "def match_gal_hal_tree(gt, ht):\n",
    "    nout = 187\n",
    "    dt = 3 # compare progenitor at dt ago.\n",
    "    \n",
    "    gal_now = gt[gt[\"nout\"]==nout]\n",
    "    hal_now = ht[ht[\"nout\"]==nout]\n",
    "    \n",
    "    gal_before = gt[gt[\"nout\"]==nout-dt]\n",
    "    hal_before = ht[ht[\"nout\"]==nout-dt]    \n",
    "    \n",
    "    dominant = 0.1 # matched one should have less error by this amount or smaller \n",
    "                    # compared to the second best matched one.\n",
    "    \n",
    "    abs_tol_pos = 5e-5 # Position absolute tolerance [in code unit?]\n",
    "    abs_tol_vel = 10   # velocity absolute tolerance [in kms?]\n",
    "    \n",
    "    for gal in gal_now:\n",
    "        dd = dist(hal_now, gal)\n",
    "        vv = distv(hal_now, gal)\n",
    "        d_sort = np.argsort(dd)\n",
    "        v_sort = np.argsort(vv)\n",
    "        if (dd[d_sort[0]] < dominant * dd[d_sort[1]]) and (dd[d_sort[0]] < abs_tol_pos) and \\\n",
    "        (vv[v_sort[0]] < dominant * vv[v_sort[1]]) and (vv[v_sort[0]] < abs_tol_vel):\n",
    "            gal['hosthalo'] = allhal.data['id'][d_sort[0]]\n",
    "            i0.append(i)\n",
    "            newhals[i] = allhal.data[d_sort[0]]\n",
    "        else:\n",
    "            atree = tree.atree(gt)\n",
    "            prg = atree[dt]\n",
    "            for gal2 in gal_before:\n",
    "                dd = dist(hal_now, gal2)\n",
    "                vv = distv(hal_now, gal2)\n",
    "                d_sort = np.argsort(dd)\n",
    "                v_sort = np.argsort(vv)\n",
    "\n",
    "def get_comp_dist(hal_now, gal, nreturn=5):\n",
    "    \"\"\"Measure 6D distance and return Nreturn closest entries\"\"\"\n",
    "    dd = dist(hal_now, gal)\n",
    "    vv = distv(hal_now, gal)\n",
    "    dd_q1 = np.percentile(dd,10)\n",
    "    vv_q1 = np.percentile(vv,10)\n",
    "    comp_dist = np.sqrt(np.square(dd/dd_q1) + np.square(vv/vv_q1))\n",
    "    ind_sort = np.argsort(comp_dist)\n",
    "    return comp_dist[ind_sort[:nreturn]], hal_now[ind_sort[:nreturn]]\n",
    "\n",
    "def before_to_now(htdata, hals, dt):\n",
    "    out = []\n",
    "    for hal in hals:\n",
    "        atree_hal = ctu.extract_main_tree_full(htdata, idx=hal['id'])\n",
    "        out.append(atree_hal[hal['nout'] + dt])\n",
    "    return out\n",
    "\n",
    "def now_to_before(htdata, hals, dt):\n",
    "    \"\"\"\n",
    "    progenitor of current halos.\n",
    "    If does not exist, give -1\n",
    "    \"\"\"\n",
    "    out =[]\n",
    "    for hal in hals:\n",
    "        idx = hal['id']\n",
    "        try:\n",
    "            atree_hal = ctu.extract_main_tree(htdata, idx=idx)\n",
    "            out.append(atree_hal[dt])\n",
    "        except:\n",
    "            print(\"broken tree\")\n",
    "            out.append(-1)        \n",
    "            \n",
    "    return np.array(out)\n",
    "\n",
    "def gal_hal_pair(cluster, gt, ht, info,\n",
    "                    dominant = 0.4,\n",
    "                    abs_tol_pos = 1e-2,\n",
    "                    abs_tol_vel = 100,\n",
    "                    nout_fi = 187,\n",
    "                    dts = [3,5],\n",
    "                    ids=None):\n",
    "\n",
    "    gal_now = gt.data[gt.data[\"nout\"]==nout_fi]\n",
    "    if ids is not None:\n",
    "        from utils.match import match_list_ind\n",
    "        i_good_gal = mtc.match_list_ind(gal_now[\"Orig_halo_id\"], ids)\n",
    "        gal_now = gal_now[i_good_gal]\n",
    "    hal_now = ht.data[ht.data[\"nout\"]==nout_fi]\n",
    "\n",
    "    # exclude galaxies with too short tree.\n",
    "    gal_ok = ctu.check_tree_complete(gt.data, nout_fi - max(dts), nout_fi, gal_now[\"id\"], idx=True)\n",
    "\n",
    "    hal_3 = ht.data[ht.data[\"nout\"]==nout_fi - 3]\n",
    "    hal_5 = ht.data[ht.data[\"nout\"]==nout_fi - 5]\n",
    "    hal_this_list = [hal_3, hal_5]\n",
    "    \n",
    "    comp_dists=[]\n",
    "    #comp_dists.append(comp_dist)\n",
    "    result = []\n",
    "    mhal_result = []\n",
    "    dist_error = []\n",
    "\n",
    "    i_gal_ok = []\n",
    "    ok_gals = []\n",
    "    for igal, gal in enumerate(gal_now):\n",
    "        if gal['id'] not in gal_ok:\n",
    "            print(\"ID: {},  Too short tree\".format(gal[\"id\"]))\n",
    "            continue\n",
    "        else:\n",
    "            i_gal_ok.append(igal)\n",
    "            \n",
    "            # Halo descendant - galaxy descendant\n",
    "            comp_dist, good_hals_now = get_comp_dist(hal_now, gal, nreturn=5)\n",
    "            # halo must be more massive than the galaxy\n",
    "            matches=[]\n",
    "            good_hals_now = good_hals_now[good_hals_now[\"m\"] > gal[\"m\"]]\n",
    "            # Sometimes no halo larger than the galaxy is found in the vicinity.\n",
    "            # but... why??\n",
    "            try:\n",
    "                if len(good_hals_now) == 0:\n",
    "                    continue\n",
    "            except:\n",
    "                print(igal, comp_dist, good_hals_now)\n",
    "            \n",
    "            atree = ctu.extract_main_tree(gt.data, idx=gal['id'])\n",
    "            matches.append(good_hals_now[\"Orig_halo_id\"])\n",
    "            \n",
    "            # Halo progenitor - galaxy progenitor\n",
    "            for idt, dt in enumerate([3,5]):\n",
    "                hal_this = hal_this_list[idt]\n",
    "                gal_this = atree[dt]\n",
    "                \n",
    "                # 10 closest galaxies.\n",
    "                comp_dist_this, good_hals_this = get_comp_dist(hal_this, gal_this, nreturn=10)\n",
    "                # halo must be more massive than the galaxy.\n",
    "                good_hals_this = good_hals_this[good_hals_this[\"m\"] > gal_this[\"m\"]]\n",
    "                \n",
    "                # progenitors of the 'good' halo candidates\n",
    "                good_hals_prgsthis = now_to_before(ht.data, good_hals_now, dt)\n",
    "                \n",
    "                i_good = []\n",
    "                i_good_prg=[]\n",
    "                try:\n",
    "                    for i, ghthis in enumerate(good_hals_this['Orig_halo_id']):\n",
    "                        # Why halo id at now and before are compared?? \n",
    "                        if ghthis in good_hals_prgsthis[\"Orig_halo_id\"]:\n",
    "                            #i_good_prg.append(i)\n",
    "                            i_good.append(np.where(good_hals_prgsthis[\"Orig_halo_id\"] == ghthis)[0][0])\n",
    "                except:\n",
    "                    #print(idt, dt, good_hals_this, good_hals_this.dtype, good_hals_this[\"Orig_halo_id\"])\n",
    "                    print(idt, dt, good_hals_prgsthis.dtype)\n",
    "                    print(good_hals_prgsthis)\n",
    "                    print(good_hals_now)\n",
    "                    print(good_hals_prgsthis[\"Orig_halo_id\"])\n",
    "\n",
    "                matches.append(good_hals_now[\"Orig_halo_id\"][i_good])\n",
    "            try:\n",
    "                if matches[0][0] == matches[1][0] == matches[2][0]:\n",
    "                    matched = matches[0][0]\n",
    "                    result.append(good_hals_now[0])\n",
    "                    ok_gals.append(gal)\n",
    "\n",
    "            except:\n",
    "                pass\n",
    "\n",
    "\n",
    "    result = np.array(result)\n",
    "    ok_gals = np.array(ok_gals)\n",
    "\n",
    "    print( \"Out of {} galaxies, matched {} galaxies.\".format(len(gal_now), len(result)))\n",
    "\n",
    "    # filter duplicates\n",
    "    unq, unq_idx, unq_cnt = np.unique(result[\"Orig_halo_id\"], return_inverse=True, return_counts=True)\n",
    "    cnt_mask = unq_cnt > 1\n",
    "    cnt_idx, = np.nonzero(cnt_mask)\n",
    "    idx_mask = np.in1d(unq_idx, cnt_idx)\n",
    "    idx_idx, = np.nonzero(idx_mask)\n",
    "    srt_idx = np.argsort(unq_idx[idx_mask])\n",
    "    dup_idx = np.split(idx_idx[srt_idx], np.cumsum(unq_cnt[cnt_mask])[:-1])\n",
    "\n",
    "    # Remove smaller duplicates and leave the largest galaxy.\n",
    "    remove_inds=[]\n",
    "    for dup in dup_idx:\n",
    "        ind_all = np.full(len(dup), True, dtype=bool)\n",
    "        #print(ind_all)\n",
    "        imax = np.argmax(ok_gals[\"m\"][dup])\n",
    "        ind_all[imax] = False\n",
    "        remove_inds.extend(dup[ind_all])\n",
    "\n",
    "    remove_inds = np.array(remove_inds)\n",
    "    inds_ok = np.full(len(result), True, dtype=bool)\n",
    "    inds_ok[remove_inds] = False\n",
    "\n",
    "\n",
    "    # load each galaxy and measure stellar mass\n",
    "    return result[inds_ok], ok_gals[inds_ok]\n"
   ]
  },
  {
   "cell_type": "code",
   "execution_count": 2,
   "metadata": {
    "collapsed": true
   },
   "outputs": [],
   "source": [
    "import numpy as np\n",
    "import matplotlib.pyplot as plt\n",
    "import tree.halomodule as hmo\n",
    "import pickle\n",
    "from analysis.MajorMinorAccretion_module import *\n",
    "import draw\n",
    "import load\n",
    "import utils.match as mtc\n",
    "wdir = '/home/hoseung/Work/data/'"
   ]
  },
  {
   "cell_type": "code",
   "execution_count": 3,
   "metadata": {
    "collapsed": false
   },
   "outputs": [
    {
     "name": "stdout",
     "output_type": "stream",
     "text": [
      "/home/hoseung/Work/data\n"
     ]
    }
   ],
   "source": [
    "cd '/home/hoseung/Work/data/'"
   ]
  },
  {
   "cell_type": "code",
   "execution_count": 5,
   "metadata": {
    "collapsed": false
   },
   "outputs": [],
   "source": [
    "# '_' at the tail...?\n",
    "prg_final = pickle.load(open(wdir + \"main_prgs_final_augmented_5_10_0.5_0.5_0.5_37_0.01_filtered_.pickle\", \"rb\"))"
   ]
  },
  {
   "cell_type": "markdown",
   "metadata": {},
   "source": [
    "How do I define centrals and satellites? "
   ]
  },
  {
   "cell_type": "code",
   "execution_count": 6,
   "metadata": {
    "collapsed": false
   },
   "outputs": [
    {
     "name": "stdout",
     "output_type": "stream",
     "text": [
      "[Halo.load_info] loading info\n",
      "[Halo.load_info] nout = 187, base =/home/hoseung/Work/data/29176/\n",
      "/home/hoseung/Work/data/29176/halo/DM/tree_bricks187\n"
     ]
    }
   ],
   "source": [
    "cluster = 29176\n",
    "sclu = str(cluster).zfill(5)\n",
    "wdir_clu = wdir + sclu +'/'\n",
    "hcat = hmo.Halo(base=wdir_clu, nout=187)"
   ]
  },
  {
   "cell_type": "code",
   "execution_count": 24,
   "metadata": {
    "collapsed": false
   },
   "outputs": [],
   "source": [
    "# galaxies in the cluster 29176 at nout=187\n",
    "gal_this_cluster = [gal.data[0] for gal in prg_final if gal.cluster == 29176]\n",
    "gal_this_cluster = np.hstack(gal_this_cluster)"
   ]
  },
  {
   "cell_type": "code",
   "execution_count": 28,
   "metadata": {
    "collapsed": false
   },
   "outputs": [
    {
     "name": "stdout",
     "output_type": "stream",
     "text": [
      "[Halo.load_info] loading info\n",
      "[Halo.load_info] nout = 187, base =/home/hoseung/Work/data/29176/\n",
      "MinMax ccc 0.0 256.0\n"
     ]
    }
   ],
   "source": [
    "clu = hcat.data[np.argmax(hcat.data[\"np\"])]\n",
    "rscale = 3.0\n",
    "\n",
    "cx,cy,cz = clu[\"x\"], clu[\"y\"], clu[\"z\"]\n",
    "x,y,z = hcat.data[\"x\"], hcat.data[\"y\"], hcat.data[\"z\"]\n",
    "dd = np.sqrt(np.square(cx - x) + np.square(cy - y) + np.square(cz - z))\n",
    "\n",
    "i_cluster = np.where((dd < (clu[\"rvir\"]*rscale)) * (hcat.data[\"mvir\"] > 1e10))[0]\n",
    "\n",
    "gcat = hmo.Halo(base=wdir_clu, nout=187, is_gal=True)\n",
    "\n",
    "ax = draw.pp.pp_halo(hcat, 400, ind=i_cluster, color_field=\"level\", color_log=False)\n",
    "#i_good_gal = np.where(gcat.data[\"mvir\"] > 5e9)[0]\n",
    "i_good_gal = mtc.match_list_ind(gcat.data[\"id\"], gal_this_cluster[\"id\"]) #Only the galaxies in the final mpgs list.\n",
    "ax = draw.pp.pp_halo(gcat, 400, ind=i_good_gal, edgecolor='green')#color_field=\"level\", color_log=False)\n",
    "plt.show()"
   ]
  },
  {
   "cell_type": "markdown",
   "metadata": {},
   "source": [
    "Match galaxies and level 1 halos? \n",
    "-> \n",
    "\n",
    "\n",
    "Use tree, but also use halo catalog for halo level information."
   ]
  },
  {
   "cell_type": "code",
   "execution_count": 29,
   "metadata": {
    "collapsed": false
   },
   "outputs": [
    {
     "name": "stdout",
     "output_type": "stream",
     "text": [
      "Loaded an extended tree\n",
      "Loaded an extended tree\n"
     ]
    }
   ],
   "source": [
    "import tree.treemodule as tmo\n",
    "gt = tmo.load_tree(wdir_clu, is_gal=True)\n",
    "ht = tmo.load_tree(wdir_clu, is_gal=False)"
   ]
  },
  {
   "cell_type": "code",
   "execution_count": null,
   "metadata": {
    "collapsed": true
   },
   "outputs": [],
   "source": [
    "i_good_gt = mtc.match_list_ind(gt.data[\"id\"], gal_this_cluster[\"id\"])"
   ]
  },
  {
   "cell_type": "code",
   "execution_count": 42,
   "metadata": {
    "collapsed": false
   },
   "outputs": [
    {
     "data": {
      "text/plain": [
       "dtype((numpy.record, [('index', '<i8'), ('Rgal_to_reff', '<f8'), ('d2t', '<f8'), ('eps', '<f8'), ('epsh', '<f8'), ('epsq', '<f8'), ('id', '<i8'), ('idx', '<f8'), ('lambda_12kpc', 'O'), ('lambda_arr', 'O'), ('lambda_arr2', 'O'), ('lambda_arrh', 'O'), ('lambda_r', '<f8'), ('lambda_r12kpc', '<f8'), ('lambda_r2', '<f8'), ('lambda_rh', '<f8'), ('mgas', '<f8'), ('mrj', '<f8'), ('mstar', '<f8'), ('nstar', '<i8'), ('pa', '<f8'), ('pah', '<f8'), ('paq', '<f8'), ('pq', 'O'), ('pt', 'O'), ('reff', '<f8'), ('reff2', '<f8'), ('rgal', '<f8'), ('rgal2', '<f8'), ('rhalo', '<f8'), ('rscale_lambda', '<f8'), ('sfr', '<f8'), ('sma', '<f8'), ('smah', '<f8'), ('smaq', '<f8'), ('smi', '<f8'), ('smih', '<f8'), ('smiq', '<f8'), ('ssfr', '<f8'), ('star', 'O'), ('vmap', 'O'), ('vxc', '<f8'), ('vyc', '<f8'), ('vzc', '<f8'), ('xc', '<f8'), ('xcen', '<f8'), ('xcenh', '<f8'), ('xcenq', '<f8'), ('yc', '<f8'), ('ycen', '<f8'), ('ycenh', '<f8'), ('ycenq', '<f8'), ('zc', '<f8')]))"
      ]
     },
     "execution_count": 42,
     "metadata": {},
     "output_type": "execute_result"
    }
   ],
   "source": [
    "gal_this_cluster.dtype"
   ]
  },
  {
   "cell_type": "code",
   "execution_count": null,
   "metadata": {
    "collapsed": true
   },
   "outputs": [],
   "source": [
    "prg_final"
   ]
  },
  {
   "cell_type": "code",
   "execution_count": 43,
   "metadata": {
    "collapsed": false
   },
   "outputs": [
    {
     "data": {
      "text/plain": [
       "array([ 262809.,  262807.,  262806.,  262776.,  262767.,  262764.,\n",
       "        262763.,  262762.,  262761.,  262758.,  262754.,  262741.,\n",
       "        262740.,  262737.,  262736.,  262726.,  262575.,  262501.,\n",
       "        262500.,  262486.,  262474.,  262467.,  262465.,  262453.,\n",
       "        262452.,  262449.,  262433.,  262427.,  262418.,  262413.,\n",
       "        262404.,  262398.,  262397.,  262391.,  262387.,  262385.,\n",
       "        262378.,  262377.,  262376.,  262370.,  262364.,  262359.,\n",
       "        262352.,  262350.,  262341.,  262339.,  262335.,  262330.,\n",
       "        262326.,  262325.,  262323.,  262318.,  262305.,  262299.,\n",
       "        262298.,  262295.,  262294.,  262289.,  262287.,  262286.,\n",
       "        262284.,  262283.,  262277.,  262272.,  262269.,  262267.,\n",
       "        262258.,  262255.,  262252.,  262251.,  262247.,  262245.,\n",
       "        262244.,  262242.,  262236.,  262235.,  262231.,  262228.,\n",
       "        262226.,  262221.,  262220.,  262218.,  262217.,  262216.,\n",
       "        262214.,  262208.,  262204.,  262203.,  262201.,  262193.,\n",
       "        262192.,  262189.,  262187.,  262186.,  262184.,  262183.,\n",
       "        262179.,  262175.,  262173.,  262172.,  262170.,  262168.,\n",
       "        262166.,  262164.,  262161.,  262160.,  262156.,  262155.,\n",
       "        262154.,  262152.,  262151.,  262149.,  262148.,  262141.,\n",
       "        262133.,  262131.,  262130.,  262128.,  262127.,  262123.,\n",
       "        262121.,  262119.,  262117.,  262116.,  262113.,  262111.,\n",
       "        262110.,  262106.,  262101.,  262096.,  262093.,  262091.,\n",
       "        262090.,  262087.,  262083.,  262080.,  262079.,  262078.,\n",
       "        262075.,  262073.,  262071.,  262069.,  262067.,  262066.,\n",
       "        262063.,  262062.,  262060.,  262059.,  262057.])"
      ]
     },
     "execution_count": 43,
     "metadata": {},
     "output_type": "execute_result"
    }
   ],
   "source": [
    "gal_this_cluster[\"idx\"]"
   ]
  },
  {
   "cell_type": "markdown",
   "metadata": {},
   "source": [
    "Every galaxy has a tree. But 20 galaxies have failed to find match. "
   ]
  },
  {
   "cell_type": "code",
   "execution_count": 38,
   "metadata": {
    "collapsed": false
   },
   "outputs": [
    {
     "name": "stdout",
     "output_type": "stream",
     "text": [
      "Out of 149 galaxies, matched 129 galaxies.\n"
     ]
    },
    {
     "ename": "ValueError",
     "evalue": "attempt to get argmax of an empty sequence",
     "output_type": "error",
     "traceback": [
      "\u001b[0;31m---------------------------------------------------------------------------\u001b[0m",
      "\u001b[0;31mValueError\u001b[0m                                Traceback (most recent call last)",
      "\u001b[0;32m<ipython-input-38-403215dafd4a>\u001b[0m in \u001b[0;36m<module>\u001b[0;34m()\u001b[0m\n\u001b[1;32m      8\u001b[0m                                      \u001b[0mabs_tol_vel\u001b[0m \u001b[0;34m=\u001b[0m \u001b[0;36m100\u001b[0m\u001b[0;34m,\u001b[0m\u001b[0;34m\u001b[0m\u001b[0m\n\u001b[1;32m      9\u001b[0m                                      \u001b[0mnout_fi\u001b[0m \u001b[0;34m=\u001b[0m \u001b[0;36m187\u001b[0m\u001b[0;34m,\u001b[0m\u001b[0;34m\u001b[0m\u001b[0m\n\u001b[0;32m---> 10\u001b[0;31m                                      dts = dts)\n\u001b[0m",
      "\u001b[0;32m<ipython-input-37-00c3995bc21a>\u001b[0m in \u001b[0;36mgal_hal_pair\u001b[0;34m(cluster, gt, ht, info, dominant, abs_tol_pos, abs_tol_vel, nout_fi, dts, ids)\u001b[0m\n\u001b[1;32m    216\u001b[0m         \u001b[0mind_all\u001b[0m \u001b[0;34m=\u001b[0m \u001b[0mnp\u001b[0m\u001b[0;34m.\u001b[0m\u001b[0mfull\u001b[0m\u001b[0;34m(\u001b[0m\u001b[0mlen\u001b[0m\u001b[0;34m(\u001b[0m\u001b[0mdup\u001b[0m\u001b[0;34m)\u001b[0m\u001b[0;34m,\u001b[0m \u001b[0;32mTrue\u001b[0m\u001b[0;34m,\u001b[0m \u001b[0mdtype\u001b[0m\u001b[0;34m=\u001b[0m\u001b[0mbool\u001b[0m\u001b[0;34m)\u001b[0m\u001b[0;34m\u001b[0m\u001b[0m\n\u001b[1;32m    217\u001b[0m         \u001b[0;31m#print(ind_all)\u001b[0m\u001b[0;34m\u001b[0m\u001b[0;34m\u001b[0m\u001b[0m\n\u001b[0;32m--> 218\u001b[0;31m         \u001b[0mimax\u001b[0m \u001b[0;34m=\u001b[0m \u001b[0mnp\u001b[0m\u001b[0;34m.\u001b[0m\u001b[0margmax\u001b[0m\u001b[0;34m(\u001b[0m\u001b[0mok_gals\u001b[0m\u001b[0;34m[\u001b[0m\u001b[0;34m\"m\"\u001b[0m\u001b[0;34m]\u001b[0m\u001b[0;34m[\u001b[0m\u001b[0mdup\u001b[0m\u001b[0;34m]\u001b[0m\u001b[0;34m)\u001b[0m\u001b[0;34m\u001b[0m\u001b[0m\n\u001b[0m\u001b[1;32m    219\u001b[0m         \u001b[0mind_all\u001b[0m\u001b[0;34m[\u001b[0m\u001b[0mimax\u001b[0m\u001b[0;34m]\u001b[0m \u001b[0;34m=\u001b[0m \u001b[0;32mFalse\u001b[0m\u001b[0;34m\u001b[0m\u001b[0m\n\u001b[1;32m    220\u001b[0m         \u001b[0mremove_inds\u001b[0m\u001b[0;34m.\u001b[0m\u001b[0mextend\u001b[0m\u001b[0;34m(\u001b[0m\u001b[0mdup\u001b[0m\u001b[0;34m[\u001b[0m\u001b[0mind_all\u001b[0m\u001b[0;34m]\u001b[0m\u001b[0;34m)\u001b[0m\u001b[0;34m\u001b[0m\u001b[0m\n",
      "\u001b[0;32m/home/hoseung/.local/lib/python3.5/site-packages/numpy/core/fromnumeric.py\u001b[0m in \u001b[0;36margmax\u001b[0;34m(a, axis, out)\u001b[0m\n\u001b[1;32m    972\u001b[0m     \u001b[0;32mexcept\u001b[0m \u001b[0mAttributeError\u001b[0m\u001b[0;34m:\u001b[0m\u001b[0;34m\u001b[0m\u001b[0m\n\u001b[1;32m    973\u001b[0m         \u001b[0;32mreturn\u001b[0m \u001b[0m_wrapit\u001b[0m\u001b[0;34m(\u001b[0m\u001b[0ma\u001b[0m\u001b[0;34m,\u001b[0m \u001b[0;34m'argmax'\u001b[0m\u001b[0;34m,\u001b[0m \u001b[0maxis\u001b[0m\u001b[0;34m,\u001b[0m \u001b[0mout\u001b[0m\u001b[0;34m)\u001b[0m\u001b[0;34m\u001b[0m\u001b[0m\n\u001b[0;32m--> 974\u001b[0;31m     \u001b[0;32mreturn\u001b[0m \u001b[0margmax\u001b[0m\u001b[0;34m(\u001b[0m\u001b[0maxis\u001b[0m\u001b[0;34m,\u001b[0m \u001b[0mout\u001b[0m\u001b[0;34m)\u001b[0m\u001b[0;34m\u001b[0m\u001b[0m\n\u001b[0m\u001b[1;32m    975\u001b[0m \u001b[0;34m\u001b[0m\u001b[0m\n\u001b[1;32m    976\u001b[0m \u001b[0;34m\u001b[0m\u001b[0m\n",
      "\u001b[0;31mValueError\u001b[0m: attempt to get argmax of an empty sequence"
     ]
    }
   ],
   "source": [
    "dts = [3,5]\n",
    "\n",
    "info = load.info.Info(187, base=wdir_clu)\n",
    "good_hals, good_gals = gal_hal_pair(cluster, gt, ht, info,\n",
    "                                     ids = gal_this_cluster[\"id\"],\n",
    "                                     dominant = 0.4,\n",
    "                                     abs_tol_pos = 1e-2,\n",
    "                                     abs_tol_vel = 100,\n",
    "                                     nout_fi = 187,\n",
    "                                     dts = dts)"
   ]
  },
  {
   "cell_type": "code",
   "execution_count": 6,
   "metadata": {
    "collapsed": false
   },
   "outputs": [],
   "source": [
    "from analysis.misc import load_cat\n",
    "cat_final = load_cat(\"/home/hoseung/Work/data/29176/easy_final/catalog187.pickle\")\n",
    "# some galaxies have erroneous values.\n",
    "cat_final[\"idx\"][cat_final[\"idx\"] < 0] = -1"
   ]
  },
  {
   "cell_type": "code",
   "execution_count": 68,
   "metadata": {
    "collapsed": true
   },
   "outputs": [
    {
     "name": "stdout",
     "output_type": "stream",
     "text": [
      "3025\n",
      "284\n",
      "2308\n",
      "2435\n",
      "2175\n",
      "3655\n",
      "2798\n",
      "1795\n",
      "1974\n",
      "2854\n",
      "2479\n",
      "2475\n",
      "2790\n",
      "3888\n",
      "2538\n",
      "2549\n",
      "1984\n",
      "2350\n",
      "2474\n",
      "3474\n",
      "3443\n",
      "2797\n",
      "2552\n",
      "2023\n",
      "2158\n",
      "496\n",
      "1957\n",
      "2138\n",
      "3974\n",
      "1556\n",
      "2570\n",
      "2218\n",
      "2353\n",
      "1597\n",
      "2683\n"
     ]
    },
    {
     "ename": "ValueError",
     "evalue": "3888 is not in list",
     "output_type": "error",
     "traceback": [
      "\u001b[1;31m---------------------------------------------------------------------------\u001b[0m",
      "\u001b[1;31mValueError\u001b[0m                                Traceback (most recent call last)",
      "\u001b[1;32m<ipython-input-68-17944ace6739>\u001b[0m in \u001b[0;36m<module>\u001b[1;34m()\u001b[0m\n\u001b[0;32m     25\u001b[0m     \u001b[1;31m# If everything is good.\u001b[0m\u001b[1;33m\u001b[0m\u001b[1;33m\u001b[0m\u001b[0m\n\u001b[0;32m     26\u001b[0m     \u001b[0mhal_gal_pair\u001b[0m\u001b[1;33m[\u001b[0m\u001b[1;34m\"gid\"\u001b[0m\u001b[1;33m]\u001b[0m \u001b[1;33m=\u001b[0m \u001b[0mgal\u001b[0m\u001b[1;33m[\u001b[0m\u001b[1;34m\"id\"\u001b[0m\u001b[1;33m]\u001b[0m\u001b[1;33m\u001b[0m\u001b[0m\n\u001b[1;32m---> 27\u001b[1;33m     \u001b[0mhal_gal_pair\u001b[0m\u001b[1;33m[\u001b[0m\u001b[1;34m\"hid\"\u001b[0m\u001b[1;33m]\u001b[0m \u001b[1;33m=\u001b[0m \u001b[0mhal_ids\u001b[0m\u001b[1;33m.\u001b[0m\u001b[0mpop\u001b[0m\u001b[1;33m(\u001b[0m\u001b[0mhal_ids\u001b[0m\u001b[1;33m.\u001b[0m\u001b[0mindex\u001b[0m\u001b[1;33m(\u001b[0m\u001b[0mmatched_hal\u001b[0m\u001b[1;33m)\u001b[0m\u001b[1;33m)\u001b[0m\u001b[1;33m\u001b[0m\u001b[0m\n\u001b[0m\u001b[0;32m     28\u001b[0m     \u001b[0mprint\u001b[0m\u001b[1;33m(\u001b[0m\u001b[0mmatched_hal\u001b[0m\u001b[1;33m)\u001b[0m\u001b[1;33m\u001b[0m\u001b[0m\n",
      "\u001b[1;31mValueError\u001b[0m: 3888 is not in list"
     ]
    }
   ],
   "source": [
    "def get_comp_dist(hal_now, gal, nreturn=5, mcut=True):\n",
    "    \"\"\"Measure 6D distance and return Nreturn closest entries\"\"\"\n",
    "    if mcut:\n",
    "        hal_now = hal_now[hal_now[\"m\"] > gal[\"mstar\"]]\n",
    "    dd = dist(hal_now, gal)\n",
    "    vv = distv(hal_now, gal)\n",
    "    dd_q1 = np.percentile(dd, 10)\n",
    "    vv_q1 = np.percentile(vv, 10)\n",
    "    comp_dist = np.sqrt(np.square(dd/dd_q1) + np.square(vv/vv_q1))\n",
    "    ind_sort = np.argsort(comp_dist)\n",
    "    return comp_dist[ind_sort[:nreturn]], hal_now[ind_sort[:nreturn]]\n",
    "\n",
    "\n",
    "hal_ids = list(hcat.data[\"id\"])\n",
    "hal_gal_pair=np.zeros(len(cat_final), dtype=([(\"gid\", \"<i8\"), (\"hid\", \"<i8\")]))\n",
    "for i, gal in enumerate(cat_final[np.argsort(cat_final[\"mstar\"])[::-1]]):\n",
    "    # print(np.log10(gal[\"mstar\"]))\n",
    "    comp_dist_this, good_hals_this = get_comp_dist(hcat.data, gal, nreturn=10, mcut = True)\n",
    "                # halo must be more massive than the galaxy.\n",
    "    # print(good_hals_this[\"m\"])\n",
    "    # Halo mass is exclusive, while the BCG stellar mass may include much more.\n",
    "    good_hals_this = good_hals_this[good_hals_this[\"m\"] > gal[\"mstar\"]]\n",
    "    \n",
    "    matched_hal = good_hals_this[0][\"id\"]\n",
    "    # If everything is good. \n",
    "    hal_gal_pair[\"gid\"] = gal[\"id\"]\n",
    "    hal_gal_pair[\"hid\"] = hal_ids.pop(hal_ids.index(matched_hal))\n",
    "    print(matched_hal)"
   ]
  },
  {
   "cell_type": "code",
   "execution_count": 37,
   "metadata": {
    "collapsed": false
   },
   "outputs": [
    {
     "name": "stdout",
     "output_type": "stream",
     "text": [
      "[Halo.load_info] loading info\n",
      "[Halo.load_info] nout = 187, base =/home/hoseung/Work/data/29176/\n",
      "{'xc': 0.53475093841552734, 'yc': 0.783111572265625, 'zr': [0, 1], 'ranges': [(0.50339335, 0.56610852), (0.7413919, 0.82483125), [0, 1]], 'yr': (0.7413919, 0.82483125), 'zc': 0.5, 'radius': 1, 'centers': [0.53475093841552734, 0.783111572265625, 0.5], 'xr': (0.50339335, 0.56610852)}\n"
     ]
    }
   ],
   "source": [
    "fig, axs = plt.subplots(1,2)\n",
    "gid_in_clu = np.array([gal.data['id'][0] for gal in prg_final if gal.cluster == cluster])\n",
    "\n",
    "ghal = hmo.Halo(base = wdir_clu, nout=187, is_gal=True)\n",
    "\n",
    "i_final_sample = mtc.match_list_ind(ghal.data[\"id\"], gid_in_clu)\n",
    "axs[1] = draw.pp.pp_halo(ghal.data, 400, color_log=False, radius=\"rvir\")\n",
    "#draw.pp.pp_halo(hcat.data, 400, color_log=False, radius=\"rvir\", ax=ax, edgecolor='red')\n",
    "draw.pp.pp_halo(ghal.data[i_final_sample], 400, ax=axs[1], radius=\"rvir\", edgecolor=\"blue\")\n",
    "print(axs[1].pp_hal_meta.region)\n",
    "draw.pp.pp_halo(ghal.data, 400, ax=axs[0], region=axs[1].pp_hal_meta.region, radius=\"rvir\")\n",
    "#axs[0].set_xlim(axs[1].get_xlim())\n",
    "#axs[0].set_ylim(axs[1].get_ylim())\n",
    "plt.show()"
   ]
  },
  {
   "cell_type": "code",
   "execution_count": 32,
   "metadata": {
    "collapsed": false
   },
   "outputs": [
    {
     "data": {
      "text/plain": [
       "0.54471636"
      ]
     },
     "execution_count": 32,
     "metadata": {},
     "output_type": "execute_result"
    }
   ],
   "source": [
    "max(ghal.data[i_final_sample][\"x\"])"
   ]
  },
  {
   "cell_type": "code",
   "execution_count": 30,
   "metadata": {
    "collapsed": false
   },
   "outputs": [
    {
     "data": {
      "text/plain": [
       "{'centers': [0.53475093841552734, 0.783111572265625, 0.5],\n",
       " 'radius': 1,\n",
       " 'ranges': [(0.50339335, 0.56610852), (0.7413919, 0.82483125), [0, 1]],\n",
       " 'xc': 0.53475093841552734,\n",
       " 'xr': (0.50339335, 0.56610852),\n",
       " 'yc': 0.783111572265625,\n",
       " 'yr': (0.7413919, 0.82483125),\n",
       " 'zc': 0.5,\n",
       " 'zr': [0, 1]}"
      ]
     },
     "execution_count": 30,
     "metadata": {},
     "output_type": "execute_result"
    }
   ],
   "source": [
    "axs[0].pp_hal_meta.region"
   ]
  },
  {
   "cell_type": "code",
   "execution_count": null,
   "metadata": {
    "collapsed": true
   },
   "outputs": [],
   "source": [
    "#def gal_hal_pair(cluster, gt, ht, info,\n",
    "dominant = 0.4,\n",
    "abs_tol_pos = 1e-2,\n",
    "abs_tol_vel = 100,\n",
    "nout_fi = 187,\n",
    "dts = [3,5]#):\n",
    "\n",
    "#gal_now = gt.data[gt.data[\"nout\"]==nout_fi]\n",
    "#hal_now = ht.data[ht.data[\"nout\"]==nout_fi]\n",
    "\n",
    "# exclude galaxies with too short tree.\n",
    "#gal_ok = ctu.check_tree_complete(gt.data, nout_fi - max(dts), nout_fi, gal_now[\"id\"], idx=True)\n",
    "\n",
    "#hal_3 = ht.data[ht.data[\"nout\"]==nout_fi - 3]\n",
    "#hal_5 = ht.data[ht.data[\"nout\"]==nout_fi - 5]\n",
    "#hal_this_list = [hal_3, hal_5]\n",
    "\n",
    "comp_dists=[]\n",
    "#comp_dists.append(comp_dist)\n",
    "result = []\n",
    "mhal_result = []\n",
    "dist_error = []\n",
    "\n",
    "i_gal_ok = []\n",
    "ok_gals = []\n",
    "for igal, gal in enumerate(gal_now):\n",
    "    if gal['id'] not in gal_ok:\n",
    "        print(\"ID: {},  Too short tree\".format(gal[\"id\"]))\n",
    "        continue\n",
    "    else:\n",
    "        i_gal_ok.append(igal)\n",
    "\n",
    "        # Halo descendant - galaxy descendant\n",
    "        comp_dist, good_hals_now = get_comp_dist(hal_now, gal, nreturn=5)\n",
    "        # halo must be more massive than the galaxy\n",
    "        matches=[]\n",
    "        good_hals_now = good_hals_now[good_hals_now[\"m\"] > gal[\"m\"]]\n",
    "        # Sometimes no halo larger than the galaxy is found in the vicinity.\n",
    "        # but... why??\n",
    "        try:\n",
    "            if len(good_hals_now) == 0:\n",
    "                continue\n",
    "        except:\n",
    "            print(igal, comp_dist, good_hals_now)\n",
    "\n",
    "        atree = ctu.extract_main_tree(gt.data, idx=gal['id'])\n",
    "        matches.append(good_hals_now[\"Orig_halo_id\"])\n",
    "\n",
    "        # Halo progenitor - galaxy progenitor\n",
    "        for idt, dt in enumerate([3,5]):\n",
    "            hal_this = hal_this_list[idt]\n",
    "            gal_this = atree[dt]\n",
    "\n",
    "            # 10 closest galaxies.\n",
    "            comp_dist_this, good_hals_this = get_comp_dist(hal_this, gal_this, nreturn=10)\n",
    "            # halo must be more massive than the galaxy.\n",
    "            good_hals_this = good_hals_this[good_hals_this[\"m\"] > gal_this[\"m\"]]\n",
    "\n",
    "            # progenitors of the 'good' halo candidates\n",
    "            good_hals_prgsthis = now_to_before(ht.data, good_hals_now, dt)\n",
    "\n",
    "            i_good = []\n",
    "            i_good_prg=[]\n",
    "            try:\n",
    "                for i, ghthis in enumerate(good_hals_this['Orig_halo_id']):\n",
    "                    # Why halo id at now and before are compared?? \n",
    "                    if ghthis in good_hals_prgsthis[\"Orig_halo_id\"]:\n",
    "                        #i_good_prg.append(i)\n",
    "                        i_good.append(np.where(good_hals_prgsthis[\"Orig_halo_id\"] == ghthis)[0][0])\n",
    "            except:\n",
    "                #print(idt, dt, good_hals_this, good_hals_this.dtype, good_hals_this[\"Orig_halo_id\"])\n",
    "                print(idt, dt, good_hals_prgsthis.dtype)\n",
    "                print(good_hals_prgsthis)\n",
    "                print(good_hals_now)\n",
    "                print(good_hals_prgsthis[\"Orig_halo_id\"])\n",
    "\n",
    "            matches.append(good_hals_now[\"Orig_halo_id\"][i_good])\n",
    "        try:\n",
    "            if matches[0][0] == matches[1][0] == matches[2][0]:\n",
    "                matched = matches[0][0]\n",
    "                result.append(good_hals_now[0])\n",
    "                ok_gals.append(gal)\n",
    "\n",
    "        except:\n",
    "            pass\n",
    "\n",
    "\n",
    "result = np.array(result)\n",
    "ok_gals = np.array(ok_gals)\n",
    "\n",
    "print( \"Out of {} galaxies, matched {} galaxies.\".format(len(gal_now), len(result)))\n"
   ]
  }
 ],
 "metadata": {
  "kernelspec": {
   "display_name": "Python 3",
   "language": "python",
   "name": "python3"
  },
  "language_info": {
   "codemirror_mode": {
    "name": "ipython",
    "version": 3
   },
   "file_extension": ".py",
   "mimetype": "text/x-python",
   "name": "python",
   "nbconvert_exporter": "python",
   "pygments_lexer": "ipython3",
   "version": "3.5.2+"
  }
 },
 "nbformat": 4,
 "nbformat_minor": 0
}
