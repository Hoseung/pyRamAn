{
 "cells": [
  {
   "cell_type": "markdown",
   "metadata": {},
   "source": [
    "### 2D kernel density\n",
    "Measure 2D kernel density of points, and select points in dense region. "
   ]
  },
  {
   "cell_type": "code",
   "execution_count": 8,
   "metadata": {
    "collapsed": true
   },
   "outputs": [],
   "source": [
    "import numpy as np\n",
    "import matplotlib.pyplot as plt\n",
    "from scipy import stats\n",
    "\n",
    "def kernel_density(xx, yy, xmin=None, xmax=None,\n",
    "                   ymin=None, ymax=None, xpix=100, ypix=100):\n",
    "    import numpy as np\n",
    "    import scipy.stats as st\n",
    "    if xmin is None: xmin = min(xx)\n",
    "    if xmax is None: xmax = max(xx)\n",
    "    if ymin is None: ymin = min(yy)\n",
    "    if ymax is None: ymax = max(yy)\n",
    "\n",
    "    xpos, ypos = np.mgrid[xmin:xmax:xpix * 1j, ymin:ymax:ypix*1j]\n",
    "    positions = np.vstack([xpos.ravel(), ypos.ravel()])\n",
    "    values = np.vstack([xx, yy])\n",
    "    kernel = st.gaussian_kde(values)\n",
    "    f = np.reshape(kernel(positions).T, xpos.shape)\n",
    "    return xx, yy, f"
   ]
  },
  {
   "cell_type": "code",
   "execution_count": 18,
   "metadata": {
    "collapsed": false
   },
   "outputs": [],
   "source": [
    "# Roughly, G*M = R*sig^2. (virialized)\n",
    "import pickle\n",
    "mass, sig3d, reff = pickle.load(open(\"mass_sig_r.pickle\", 'rb'))\n",
    "\n",
    "\n",
    "G = 6.67408e-11 #[m3 kg-1 s-2]\n",
    "\n",
    "sig = sig3d * 1e3 # [m/s]\n",
    "msun = 1.989e30 #[kg]\n",
    "mass = mass * msun\n",
    "kpc_to_m = 3.0857e16 #[m]\n",
    "reff = reff * kpc_to_m\n",
    "\n",
    "xx = G * mass\n",
    "yy = sig**2 * reff\n",
    "\n",
    "log = True\n",
    "clip = True\n",
    "\n",
    "if log:\n",
    "    xx = np.log10(xx)\n",
    "    yy = np.log10(yy)\n",
    "\n",
    "if clip:\n",
    "    xmin = min(xx)\n",
    "    xmax = max(xx)\n",
    "    ymin = min(yy)\n",
    "    ymax = max(yy)\n",
    "    \n",
    "    xpos, ypos, f = kernel_density(xx, yy, \n",
    "                                   xmin=xmin, ymin=ymin, \n",
    "                                   xmax=xmax, ymax=ymax,\n",
    "                                   xpix = 100, ypix=100)\n",
    "    \n",
    "    # if the original point belongs to the pixel with f higher than the threshold\n",
    "    # it is a valid point.\n",
    "    x_ngp = np.rint((xx - xmin)/(xmax - xmin) * 100 + 0.5).astype(int)\n",
    "    x_ngp[x_ngp == 100] = 99\n",
    "    y_ngp = np.rint((yy - ymin)/(ymax - ymin) * 100 + 0.5).astype(int)\n",
    "    y_ngp[y_ngp == 100] = 99\n",
    "    \n",
    "    ok = f[x_ngp, y_ngp] > 0.1 * f.max()\n",
    "\n",
    "fig, ax = plt.subplots()\n",
    "ax.scatter(xx, yy)\n",
    "# Color high density points\n",
    "ax.scatter(xx[ok], yy[ok], color='r')\n",
    "slope, intercept, r_value, p_value, std_err = stats.linregress(xx[ok],yy[ok])\n",
    "xpoints = np.linspace(min(xx), max(xx), 10)\n",
    "ax.plot(xpoints, slope * xpoints + intercept, 'r--')\n",
    "\n",
    "plt.show()\n"
   ]
  },
  {
   "cell_type": "code",
   "execution_count": null,
   "metadata": {
    "collapsed": true
   },
   "outputs": [],
   "source": []
  }
 ],
 "metadata": {
  "kernelspec": {
   "display_name": "Python 3",
   "language": "python",
   "name": "python3"
  },
  "language_info": {
   "codemirror_mode": {
    "name": "ipython",
    "version": 3
   },
   "file_extension": ".py",
   "mimetype": "text/x-python",
   "name": "python",
   "nbconvert_exporter": "python",
   "pygments_lexer": "ipython3",
   "version": "3.5.1+"
  }
 },
 "nbformat": 4,
 "nbformat_minor": 0
}
