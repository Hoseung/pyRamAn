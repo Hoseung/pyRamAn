{
 "cells": [
  {
   "cell_type": "markdown",
   "metadata": {},
   "source": [
    "Check co-evolution of lambda, halo mass, stellar mass. "
   ]
  },
  {
   "cell_type": "code",
   "execution_count": 1,
   "metadata": {
    "collapsed": true
   },
   "outputs": [],
   "source": [
    "import pickle\n",
    "# Galaxies of interest\n",
    "#mpgs = pickle.load(open(\"main_prgs_final_augmented_5_10_0.5_0.5_0.5_37_0.01_filtered_.pickle\", \"rb\"))\n",
    "g29176, Maj1 = pickle.load(open(\"g29176_Maj1.pickle\", \"rb\"))"
   ]
  },
  {
   "cell_type": "code",
   "execution_count": 2,
   "metadata": {
    "collapsed": false
   },
   "outputs": [],
   "source": [
    "Majs = [mpgs[728], mpgs[226], mpgs[742]]\n",
    "\n",
    "selected_cluster = 29176\n",
    "selected_gals = [15, 17] # minor mergers\n",
    "Mins = [gal for gal in mpgs if (gal.cluster == selected_cluster and gal.ids[0] in selected_gals)]\n",
    "\n",
    "selected_gals = [45, 50, 98, 130] # no mergers\n",
    "rests = [gal for gal in mpgs if (gal.cluster == selected_cluster and gal.ids[0] in selected_gals)]"
   ]
  },
  {
   "cell_type": "code",
   "execution_count": 6,
   "metadata": {
    "collapsed": false
   },
   "outputs": [],
   "source": [
    "g29176=[Majs[0], Majs[2], Mins[0], Mins[1], rests[0], rests[1], rests[2], rests[3]]\n",
    "#pickle.dump([g29176, Majs[1]], open(\"g29176_Maj1.pickle\", \"wb\"))"
   ]
  },
  {
   "cell_type": "code",
   "execution_count": 4,
   "metadata": {
    "collapsed": false
   },
   "outputs": [],
   "source": [
    "# Load halo and find matches\n",
    "\n",
    "\n",
    "Hall=[]\n",
    "for nout in range(37, 188)[:2]:\n",
    "    h_now = []\n",
    "    hh = hmo.Halo(base='./29176/', nout=nout, is_gal=False)\n",
    "    \n",
    "    h_now.append()"
   ]
  },
  {
   "cell_type": "code",
   "execution_count": 7,
   "metadata": {
    "collapsed": true
   },
   "outputs": [],
   "source": [
    "# find closest halos.\n",
    "gal = g29176[0]"
   ]
  },
  {
   "cell_type": "code",
   "execution_count": 56,
   "metadata": {
    "collapsed": true
   },
   "outputs": [],
   "source": [
    "import numpy as np\n",
    "from tree.ctutils import extract_main_tree, extract_a_tree\n",
    "from tree import halomodule as hmo\n",
    "import matplotlib.pyplot as plt"
   ]
  },
  {
   "cell_type": "code",
   "execution_count": 4,
   "metadata": {
    "collapsed": true
   },
   "outputs": [],
   "source": [
    "tt = pickle.load(open(\"./29176/halo/Trees/extended_tree.pickle\", \"rb\"))    \n",
    "ttf = tt.data[tt.data[\"nout\"] == 187]"
   ]
  },
  {
   "cell_type": "code",
   "execution_count": 8,
   "metadata": {
    "collapsed": true
   },
   "outputs": [],
   "source": [
    "ttf = tt.data[tt.data[\"nout\"] == 187]"
   ]
  },
  {
   "cell_type": "code",
   "execution_count": 63,
   "metadata": {
    "collapsed": true
   },
   "outputs": [],
   "source": [
    "def i_close_10(pos, hx,hy,hz):\n",
    "    dist = np.sqrt(np.square(hx-pos[0]) + \n",
    "                   np.square(hy-pos[1]) + \n",
    "                   np.square(hz-pos[2]))\n",
    "    i = np.argsort(dist)[:10]\n",
    "    return dist[i], i"
   ]
  },
  {
   "cell_type": "code",
   "execution_count": null,
   "metadata": {
    "collapsed": true
   },
   "outputs": [],
   "source": [
    "tree_at_fi=[]\n",
    "hh = hmo.Halo(base='./29176/', nout=187, is_gal=False)\n",
    "hx = hh.data[\"x\"] * hh.info.pboxsize\n",
    "hy = hh.data[\"y\"] * hh.info.pboxsize\n",
    "hz = hh.data[\"z\"] * hh.info.pboxsize"
   ]
  },
  {
   "cell_type": "markdown",
   "metadata": {},
   "source": [
    "A main tree is not enough. \n",
    "The DM halo of a galaxy may have been desolved already. \n",
    "If the real halo is not detected, then there is no point selecting the closest halo to be the host. Instead, selected the locally dominant halo and a branch of the halo tree may be the real progenitor host halo of the galaxy. "
   ]
  },
  {
   "cell_type": "code",
   "execution_count": 64,
   "metadata": {
    "collapsed": false
   },
   "outputs": [],
   "source": [
    "#ind_candidates=[]\n",
    "idx_trees=[]\n",
    "inow = 0 # 187\n",
    "dist_trees=[]\n",
    "for gal in g29176:\n",
    "    pos_now = [gal.data[\"xc\"][inow],\n",
    "               gal.data[\"yc\"][inow],\n",
    "               gal.data[\"zc\"][inow]] # in pboxsize\n",
    "    dist_candidates, ind_candidates = i_close_10(pos_now, hx,hy,hz)\n",
    "    \n",
    "    inow = 0\n",
    "    idx_tree_this=[]\n",
    "    dist_this=[]\n",
    "    for dd, ii in zip(dist_candidates, ind_candidates):\n",
    "        i = np.where(ttf[\"Orig_halo_id\"] == hh.data[\"id\"][ii])[0]\n",
    "        if len(i) > 0:\n",
    "            # More massive than the galaxy stellar mass\n",
    "            if ttf[\"m\"][i] > gal.data[\"mstar\"][inow]:\n",
    "                idx_tree_this.append(ttf['id'][i][0].astype(int))\n",
    "                dist_this.append(dd)\n",
    "    idx_trees.append(idx_tree_this)\n",
    "    dist_trees.append(dist_this)"
   ]
  },
  {
   "cell_type": "code",
   "execution_count": null,
   "metadata": {
    "collapsed": true
   },
   "outputs": [],
   "source": []
  },
  {
   "cell_type": "code",
   "execution_count": 65,
   "metadata": {
    "collapsed": false
   },
   "outputs": [
    {
     "name": "stdout",
     "output_type": "stream",
     "text": [
      "[942065, 942082, 942635, 941854] [0.0012646398, 0.45553318, 0.50928724, 0.52071685]\n",
      "[942591, 942590] [0.00065064913, 0.18535948]\n",
      "[942372] [0.00091403205]\n",
      "[942392] [0.0015397207]\n",
      "[942843, 942847, 941686, 942845, 942816] [0.0002863819, 0.20636073, 0.21796507, 0.26052681, 0.39437816]\n",
      "[942337, 942326, 942403] [0.00276988, 0.14250007, 0.24111241]\n",
      "[942715, 941860, 941814, 942697, 941726, 941815, 942700] [0.00041262261, 0.32559675, 0.43446591, 0.47934696, 0.51713967, 0.57483423, 0.57964987]\n",
      "[941749, 941877, 941742, 940802] [0.0016048047, 0.4683924, 0.49877271, 0.62962329]\n"
     ]
    }
   ],
   "source": [
    "for idx, dd in zip(idx_trees, dist_trees):\n",
    "    print(idx, dd)"
   ]
  },
  {
   "cell_type": "code",
   "execution_count": 67,
   "metadata": {
    "collapsed": true
   },
   "outputs": [],
   "source": [
    "idx_good=[942065, 942591, 942372,\n",
    "          942392, 942843, 942337,\n",
    "          942715, 941749]"
   ]
  },
  {
   "cell_type": "code",
   "execution_count": 58,
   "metadata": {
    "collapsed": false
   },
   "outputs": [],
   "source": [
    "atree = extract_a_tree(tt.data, 942392)"
   ]
  },
  {
   "cell_type": "code",
   "execution_count": null,
   "metadata": {
    "collapsed": true
   },
   "outputs": [],
   "source": []
  },
  {
   "cell_type": "code",
   "execution_count": 84,
   "metadata": {
    "collapsed": true
   },
   "outputs": [],
   "source": [
    "from analysis.all_plot_modules import *"
   ]
  },
  {
   "cell_type": "code",
   "execution_count": 68,
   "metadata": {
    "collapsed": false
   },
   "outputs": [],
   "source": [
    "tts = []\n",
    "for ii in idx_good:\n",
    "    tts.append(extract_a_tree(tt.data, ii))"
   ]
  },
  {
   "cell_type": "code",
   "execution_count": 90,
   "metadata": {
    "collapsed": false
   },
   "outputs": [],
   "source": [
    "from matplotlib.backends.backend_pdf import PdfPages\n",
    "fig, ax = plt.subplots(4, sharex=True)\n",
    "plt.subplots_adjust(hspace=0.001)\n",
    "with PdfPages('lambda_mhalo_mstar4.pdf') as pdf:   \n",
    "    for igal in range(len(g29176)):\n",
    "        i_nout_ok = np.where(tts[igal][\"nout\"] > min(g29176[igal].nouts))[0]\n",
    "        gals = g29176[igal:igal+1]\n",
    "        if igal < 2:            \n",
    "            plot_major(gals, ax[0],\n",
    "                   suptitle=\"Major Mergers\",\n",
    "                   img_scale=1.5,\n",
    "                   arrow_scale=20) # arrow_scale = 50 for png, 20 for vectors.\n",
    "        elif igal < 5:\n",
    "            plot_minor(gals, ax[0],\n",
    "                          suptitle=\"Minor Mergers\",\n",
    "                          style=\"stream\",\n",
    "                          img_scale=1.5,\n",
    "                          annotate=\"(B) \",\n",
    "                          arrow_scale=20)\n",
    "        else:    \n",
    "            plot_rest(gals, ax[0],\n",
    "                  suptitle=\"No Mergers\",\n",
    "                  style=\"stream\",\n",
    "                  img_scale=1.5,\n",
    "                  annotate=\"(C) \",\n",
    "                  arrow_scale=20)\n",
    "        \n",
    "        ax[0].set_ylim([0,0.8])\n",
    "        \n",
    "        if 1 == 2:\n",
    "            ax[0].scatter(tts[igal][\"nout\"][i_nout_ok],\n",
    "                          tts[igal][\"x\"][i_nout_ok] * tts[igal][\"aexp\"][i_nout_ok] / 0.704,\n",
    "                          label=\"tree\")\n",
    "            ax[0].plot(g29176[igal].nouts, g29176[igal].data[\"xc\"], label=\"gal\")\n",
    "            ax[0].scatter(tts[igal][\"nout\"][i_nout_ok],\n",
    "                          tts[igal][\"y\"][i_nout_ok]*tts[igal][\"aexp\"][i_nout_ok] / 0.704,\n",
    "                          label=\"tree\")\n",
    "            ax[0].plot(g29176[igal].nouts, g29176[igal].data[\"yc\"], label=\"gal\")\n",
    "            ax[0].scatter(tts[igal][\"nout\"][i_nout_ok],\n",
    "                          tts[igal][\"z\"][i_nout_ok]*tts[igal][\"aexp\"][i_nout_ok] / 0.704,\n",
    "                          label=\"tree\")\n",
    "            ax[0].plot(g29176[igal].nouts, g29176[igal].data[\"zc\"], label=\"gal\")\n",
    "            #ax[0].legend()\n",
    "        #else:\n",
    "        #    ax[0].plot(g29176[igal].nouts, g29176[igal].smoothed_lambda)\n",
    "        #    ax[0].set_ylim([0., 0.7])\n",
    "        \n",
    "        ax[1].scatter(tts[igal][\"nout\"][i_nout_ok],\n",
    "                      np.log10(tts[igal][\"m\"][i_nout_ok]),\n",
    "                      edgecolor=\"none\", s=6, alpha=0.5,\n",
    "                      label=\"tree\")\n",
    "        ax[1].plot(g29176[igal].nouts, np.log10(g29176[igal].data[\"mstar\"]), label=\"gal\")\n",
    "        #ax[1].legend()\n",
    "        \n",
    "        ax[2].scatter(tts[igal][\"nout\"][i_nout_ok],\n",
    "                      tts[igal][\"vx\"][i_nout_ok],\n",
    "                      edgecolor=\"none\", s=6, alpha=0.5,\n",
    "                      label=\"tree\")\n",
    "        ax[2].plot(g29176[igal].nouts, g29176[igal].data[\"vxc\"], label=\"gal\")\n",
    "        #ax[2].legend()\n",
    "        ax[3].scatter(tts[igal][\"nout\"][i_nout_ok],\n",
    "                      tts[igal][\"vy\"][i_nout_ok],\n",
    "                      edgecolor=\"none\", s=6, alpha=0.5,\n",
    "                      label=\"tree\")\n",
    "        ax[3].plot(g29176[igal].nouts, g29176[igal].data[\"vyc\"], label=\"gal\")\n",
    "        \n",
    "        pdf.savefig()\n",
    "        ax[0].clear()\n",
    "        ax[1].clear()\n",
    "        ax[2].clear()\n",
    "        ax[3].clear()\n",
    "    plt.close()"
   ]
  },
  {
   "cell_type": "code",
   "execution_count": 70,
   "metadata": {
    "collapsed": false
   },
   "outputs": [
    {
     "data": {
      "text/plain": [
       "21"
      ]
     },
     "execution_count": 70,
     "metadata": {},
     "output_type": "execute_result"
    }
   ],
   "source": [
    "len(tts[0])"
   ]
  },
  {
   "cell_type": "code",
   "execution_count": 38,
   "metadata": {
    "collapsed": false
   },
   "outputs": [],
   "source": []
  },
  {
   "cell_type": "code",
   "execution_count": 20,
   "metadata": {
    "collapsed": true
   },
   "outputs": [],
   "source": [
    "\n",
    "plt.hist(dist)\n",
    "plt.show()"
   ]
  },
  {
   "cell_type": "code",
   "execution_count": 24,
   "metadata": {
    "collapsed": true
   },
   "outputs": [],
   "source": [
    "plt.scatter(hx[i_close5],hy[i_close5])\n",
    "plt.scatter(pos_now[0], pos_now[1], c=\"r\")\n",
    "plt.show()"
   ]
  },
  {
   "cell_type": "code",
   "execution_count": 15,
   "metadata": {
    "collapsed": false
   },
   "outputs": [
    {
     "data": {
      "text/plain": [
       "[38.819926721406908, 57.281819347391654, 28.697416528931843]"
      ]
     },
     "execution_count": 15,
     "metadata": {},
     "output_type": "execute_result"
    }
   ],
   "source": [
    "pos_now"
   ]
  },
  {
   "cell_type": "code",
   "execution_count": null,
   "metadata": {
    "collapsed": true
   },
   "outputs": [],
   "source": []
  }
 ],
 "metadata": {
  "kernelspec": {
   "display_name": "Python 3",
   "language": "python",
   "name": "python3"
  },
  "language_info": {
   "codemirror_mode": {
    "name": "ipython",
    "version": 3
   },
   "file_extension": ".py",
   "mimetype": "text/x-python",
   "name": "python",
   "nbconvert_exporter": "python",
   "pygments_lexer": "ipython3",
   "version": "3.5.1+"
  }
 },
 "nbformat": 4,
 "nbformat_minor": 0
}
