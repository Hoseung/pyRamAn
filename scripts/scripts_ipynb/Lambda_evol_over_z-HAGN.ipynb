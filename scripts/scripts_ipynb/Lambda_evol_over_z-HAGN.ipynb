{
 "cells": [
  {
   "cell_type": "code",
   "execution_count": 1,
   "metadata": {
    "collapsed": false
   },
   "outputs": [],
   "source": [
    "import pickle\n",
    "import matplotlib.pyplot as plt\n",
    "import numpy as np\n",
    "from analysis.evol_lambda import MainPrg"
   ]
  },
  {
   "cell_type": "markdown",
   "metadata": {},
   "source": [
    "Gaussian KDE \n",
    "\n",
    "Look at this article for the idea\n",
    "http://www.mglerner.com/blog/?p=28\n",
    "and this for comparison between implementations.\n",
    "https://jakevdp.github.io/blog/2013/12/01/kernel-density-estimation/\n"
   ]
  },
  {
   "cell_type": "code",
   "execution_count": 2,
   "metadata": {
    "collapsed": true
   },
   "outputs": [],
   "source": [
    "from analysis.all_plot_modules import *"
   ]
  },
  {
   "cell_type": "code",
   "execution_count": 3,
   "metadata": {
    "collapsed": false
   },
   "outputs": [],
   "source": [
    "raw_mpgs = False\n",
    "if raw_mpgs:\n",
    "    mpgs = pickle.load(open(\"main_prgs_ALL.pickle\", \"rb\"))\n",
    "    \n",
    "    import analysis.Major_Minor_accretion as mma\n",
    "\n",
    "    for gal in mpgs:\n",
    "        #print(sum(gal.data[\"reff\"] > 0),len(smooth(gal.data[\"reff\"])))\n",
    "        #smoothed_reff = smooth(gal.data[\"reff\"])\n",
    "        gal.fill_missing_data()\n",
    "        #print(1,min(gal.nouts))\n",
    "        gal.clip_non_detection()\n",
    "        #print(2,min(gal.nouts))\n",
    "        gal.smoothed_lambda_org = mma.smooth(gal.data[\"lambda_r\"], window_len=15)[:-1]\n",
    "        #print(3,min(gal.nouts))\n",
    "        gal.smoothed_r = mma.smooth(gal.data[\"reff\"], window_len=15)[:-1]\n",
    "        #print(4,min(gal.nouts))\n",
    "        gal.smoothed_lambda = mma.smooth(l_at_smoothed_r(gal, npix_per_reff=5), window_len=15)[:-1]\n",
    "        #print(5,min(gal.nouts))\n",
    "else:\n",
    "    #mpgs = pickle.load(open(\"main_prgs_final_augmented_5_10_0.5_0.5_0.5_37.pickle\", \"rb\"))\n",
    "    mpgs = pickle.load(open(\"main_prgs_final_augmented_5_10_0.5_0.5_0.5_37_0.01_filtered_.pickle\", \"rb\"))"
   ]
  },
  {
   "cell_type": "code",
   "execution_count": 4,
   "metadata": {
    "collapsed": true
   },
   "outputs": [],
   "source": [
    "def den_lambda_evol(mpgs, nout_ini, nout_fi,\n",
    "                     wdir_info='./',\n",
    "                     density = \"none\",\n",
    "                     sizeOfFont=9):\n",
    "\n",
    "\n",
    "    nnouts = nout_fi - nout_ini + 1\n",
    "    ngals_tot = len(mpgs)\n",
    "    lambda_evol_all = np.zeros([ngals_tot, nnouts])\n",
    "\n",
    "    # Starting nouts of galaxies are different. \n",
    "    # But all end at nout = 187.\n",
    "    for igal, gal in enumerate(mpgs):\n",
    "        for inout, nout in enumerate(gal.nouts):\n",
    "            lambda_evol_all[igal][nout - nout_ini] = gal.data['lambda_r'][inout]\n",
    "\n",
    "\n",
    "    # change ticks\n",
    "    zreds=[]\n",
    "    aexps=[]\n",
    "\n",
    "    # Only nout_ini < nout < nout_fi values are taken.\n",
    "    # So are the x ticks.\n",
    "    import load\n",
    "    for nout in range(nout_ini, nout_fi + 1):\n",
    "        info = load.info.Info(nout=nout, base=wdir_info, load=True)\n",
    "        aexps.append(info.aexp)\n",
    "        zreds.append(info.zred)\n",
    "    aexps = np.array(aexps)\n",
    "    zreds = np.array(zreds)\n",
    "\n",
    "#    modify_ticks1(zreds, aexps, axs[2], nout_ini, nout_fi, fontsize=fontsize_tick_label)\n",
    "\n",
    "    xx = np.tile(np.arange(nnouts), ngals_tot)\n",
    "    all_data = lambda_evol_all.ravel()\n",
    "\n",
    "    ind_ok = all_data > 0.01\n",
    "    lambda_range=[0.01, 0.8]\n",
    "    xx,yy,z = density_map(xx[ind_ok], all_data[ind_ok])\n",
    "    \n",
    "    return xx,yy,z, zreds, aexps\n",
    "\n",
    "\n",
    "def plot_lambda_evol(xx,yy,z,axs,cmap =\"jet\", img_scale=1.5):\n",
    "    fontsize_ticks = 6 * img_scale\n",
    "    fontsize_tick_label = 8 * img_scale\n",
    "    fontsize_legend = 5 * img_scale\n",
    "\n",
    "    for ax in axs:\n",
    "        ax.scatter(xx, yy, c=z, s=50, edgecolor='', cmap=cmap, rasterized=True)\n",
    "#            yticks_ok=[0.0, 0.2, 0.4, 0.6, 0.8]\n",
    "#            ax.set_ylim([-0.05, 0.9])\n",
    "#            ax.set_yticks([0.0, 0.2, 0.4, 0.6, 0.8])\n",
    "#            ax.set_yticklabels([str(yy) for yy in yticks_ok])\n",
    "#            ax.set_ylabel(r\"$\\lambda_{R_{eff}}$\", fontsize=fontsize_tick_label, family=\"Liberation Sans\")\n",
    "#            ax.tick_params(axis='both', which='major', labelsize=fontsize_ticks)\n",
    "\n",
    "#    axs[2].tick_params(axis='x', which='major', labelsize=fontsize_ticks)\n",
    "#    return zreds, aexps\n"
   ]
  },
  {
   "cell_type": "code",
   "execution_count": 5,
   "metadata": {
    "collapsed": true
   },
   "outputs": [],
   "source": [
    "nout_ini = 37\n",
    "fig, axs = plt.subplots(3, sharex=True)\n",
    "fig.set_size_inches(4.75, 8)\n",
    "plt.subplots_adjust(hspace=0.01)"
   ]
  },
  {
   "cell_type": "code",
   "execution_count": 17,
   "metadata": {
    "collapsed": true
   },
   "outputs": [],
   "source": [
    "xx,yy,z, zreds, aexps = den_lambda_evol(mpgs, nout_ini, 187,\n",
    "             wdir_info = './29172/',\n",
    "             density=\"kernel\")\n",
    "\n",
    "pickle.dump((xx,yy,z,zreds,aexps), open(\"lambda_evol_xxyyz.pickle\", \"wb\"))"
   ]
  },
  {
   "cell_type": "code",
   "execution_count": 6,
   "metadata": {
    "collapsed": false
   },
   "outputs": [],
   "source": [
    "xx,yy,z,zreds, aexps = pickle.load(open(\"lambda_evol_xxyyz.pickle\", \"rb\"))\n",
    "\n",
    "plot_lambda_evol(xx,yy,z, axs, cmap = \"Blues\")  # 37 : z = 3.0"
   ]
  },
  {
   "cell_type": "code",
   "execution_count": 21,
   "metadata": {
    "collapsed": true
   },
   "outputs": [],
   "source": [
    "pickle.dump(fig, open(\"lambda_evol_background.pickle\", \"wb\"))\n",
    "#fig = pickle.load(open(\"lambda_evol_background.pickle\", \"rb\"))"
   ]
  },
  {
   "cell_type": "code",
   "execution_count": 9,
   "metadata": {
    "collapsed": true
   },
   "outputs": [],
   "source": [
    "plt.savefig(\"figs/fig4_bare.png\", dpi=200)\n",
    "plt.savefig(\"figs/fig4_bare.pdf\")"
   ]
  },
  {
   "cell_type": "code",
   "execution_count": 7,
   "metadata": {
    "collapsed": false
   },
   "outputs": [],
   "source": [
    "selected_cluster = 29176\n",
    "\n",
    "#fig, ax = plt.subplots()\n",
    "#selected_gals = [40, 75] # major mergers\n",
    "#gals = [i for i, gal in enumerate(mpgs) if (gal.cluster == selected_cluster and gal.ids[0] in selected_gals)]\n",
    "\n",
    "i_major =[13, 34, 39, 43, 44, 51, 116, 219, 220, 728, 742]\n",
    "#gals = [gal for i, gal in enumerate(mpgs) if i in [340, 342, 349]]\n",
    "gals = [mpgs[728], mpgs[226], mpgs[742]]\n",
    "plot_major(gals, axs[0],\n",
    "           suptitle=\"Major Mergers\",\n",
    "           img_scale=1.5,\n",
    "           arrow_scale=20) # arrow_scale = 50 for png, 20 for vectors.\n",
    "\n",
    "#selected_gals = [17] # minor mergers\n",
    "#gals = [gal for gal in mpgs if (gal.cluster == selected_cluster and gal.ids[0] in selected_gals)]\n",
    "gals = []\n",
    "gals.append(mpgs[285])\n",
    "gals.append(mpgs[507])\n",
    "plot_minor(gals, axs[1],\n",
    "              suptitle=\"Minor Mergers\",\n",
    "              style=\"stream\",\n",
    "              img_scale=1.5,\n",
    "              annotate=\"(B) \",\n",
    "              arrow_scale=20)\n",
    "\n",
    "selected_gals = [45, 50, 98, 130] # no mergers\n",
    "gals = [gal for gal in mpgs if (gal.cluster == selected_cluster and gal.ids[0] in selected_gals)]\n",
    "plot_rest(gals, axs[2],\n",
    "          suptitle=\"No Mergers\",\n",
    "          style=\"stream\",\n",
    "          img_scale=1.5,\n",
    "          annotate=\"(C) \",\n",
    "          arrow_scale=20)\n",
    "\n",
    "plt.tight_layout()\n",
    "\n",
    "\n",
    "#Fix font\n",
    "\n",
    "from matplotlib import rc, font_manager\n",
    "sizeOfFont=9\n",
    "fontProperties = {'family':'Liberation Sans',\n",
    "                  'weight' : 'normal', 'size' : sizeOfFont}\n",
    "ticks_font = font_manager.FontProperties(family='Liberation Sans', style='normal',\n",
    "               size=sizeOfFont, weight='normal', stretch='normal')\n",
    "rc('text', usetex=True)\n",
    "#rc('font',**fontProperties)\n",
    "\n",
    "fontsize_ticks = 8\n",
    "fontsize_tick_label = 10\n",
    "for ax in axs:\n",
    "    ax.set_yticklabels(ax.get_yticks(), fontProperties)\n",
    "    yticks_ok=[0.0, 0.2, 0.4, 0.6, 0.8]\n",
    "    ax.set_ylim([-0.05, 0.9])\n",
    "    ax.set_yticks([0.0, 0.2, 0.4, 0.6, 0.8])\n",
    "    ax.set_yticklabels([str(yy) for yy in yticks_ok])\n",
    "    ax.set_ylabel(r\"$\\lambda_{R_{eff}}$\", fontsize=fontsize_tick_label, family=\"Liberation Sans\")\n",
    "    ax.tick_params(axis='both', which='major', labelsize=fontsize_ticks)\n",
    "    \n",
    "axs[2].tick_params(axis='x', which='major', labelsize=fontsize_ticks)\n",
    "axs[2].set_xticklabels(axs[2].get_xticks(), fontProperties)\n",
    "\n",
    "nout_ini = 37\n",
    "nout_fi = 187\n",
    "modify_ticks1(zreds, aexps, axs[2], nout_ini, nout_fi, fontsize=9)\n",
    "\n",
    "\n",
    "fname_base = \"figs/lambdar_evol_test\"\n",
    "plt.savefig(fname_base + \"smooth_\"+\".pdf\")\n",
    "#plt.savefig(fname_base + \"smooth_\"+\".eps\")\n",
    "#plt.savefig(fname_base + \"smooth_\"+\".svg\")\n",
    "plt.savefig(fname_base + \"smooth_\"+\".png\", dpi=200)\n",
    "plt.savefig(fname_base + \"smooth_Hires\"+\".png\", dpi=400)\n"
   ]
  },
  {
   "cell_type": "code",
   "execution_count": null,
   "metadata": {
    "collapsed": true
   },
   "outputs": [],
   "source": []
  },
  {
   "cell_type": "code",
   "execution_count": null,
   "metadata": {
    "collapsed": true
   },
   "outputs": [],
   "source": []
  }
 ],
 "metadata": {
  "kernelspec": {
   "display_name": "Python 3",
   "language": "python",
   "name": "python3"
  },
  "language_info": {
   "codemirror_mode": {
    "name": "ipython",
    "version": 3
   },
   "file_extension": ".py",
   "mimetype": "text/x-python",
   "name": "python",
   "nbconvert_exporter": "python",
   "pygments_lexer": "ipython3",
   "version": "3.5.1+"
  }
 },
 "nbformat": 4,
 "nbformat_minor": 0
}
