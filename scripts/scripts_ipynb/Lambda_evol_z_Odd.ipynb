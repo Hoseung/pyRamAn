{
 "cells": [
  {
   "cell_type": "markdown",
   "metadata": {},
   "source": [
    "Evolution of \"Odd galaxies\" found in the \"zone of avoidance\" in lambda vs eps plot.\n",
    "\n",
    "160500811,  160500745, 3566300002, 2917600065, 2917600001,\n",
    "1000200001, 3641500003, 3999000032, 3999000015, 3999000001, 3641300444"
   ]
  },
  {
   "cell_type": "code",
   "execution_count": 1,
   "metadata": {
    "collapsed": false
   },
   "outputs": [],
   "source": [
    "import pickle\n",
    "import matplotlib.pyplot as plt\n",
    "import numpy as np\n",
    "from analysis.evol_lambda import MainPrg"
   ]
  },
  {
   "cell_type": "markdown",
   "metadata": {},
   "source": [
    "Gaussian KDE \n",
    "\n",
    "Look at this article for the idea\n",
    "http://www.mglerner.com/blog/?p=28\n",
    "and this for comparison between implementations.\n",
    "https://jakevdp.github.io/blog/2013/12/01/kernel-density-estimation/\n"
   ]
  },
  {
   "cell_type": "code",
   "execution_count": 2,
   "metadata": {
    "collapsed": true
   },
   "outputs": [],
   "source": [
    "from analysis.all_plot_modules import *\n",
    "import analysis.Major_Minor_accretion as mma"
   ]
  },
  {
   "cell_type": "code",
   "execution_count": 3,
   "metadata": {
    "collapsed": false
   },
   "outputs": [],
   "source": [
    "wdir = '/home/hoseung/Work/data/'\n",
    "raw_mpgs = False\n",
    "save=True\n",
    "if raw_mpgs:\n",
    "    #mpgs = pickle.load(open(wdir + \"all_prgs/main_prgs_ALL.pickle\", \"rb\"))\n",
    "    mpgs = pickle.load(open(wdir + \"all_prgs/main_prgs_final_augmented_5_10_0.5_0.5_1.0_37_0.01_filtered_.pickle\", \"rb\"))\n",
    "\n",
    "    for gal in mpgs:\n",
    "        #print(sum(gal.data[\"reff\"] > 0),len(smooth(gal.data[\"reff\"])))\n",
    "        #smoothed_reff = smooth(gal.data[\"reff\"])\n",
    "        gal.fill_missing_data()\n",
    "        #print(1,min(gal.nouts))\n",
    "        gal.clip_non_detection()\n",
    "        #print(2,min(gal.nouts))\n",
    "        gal.smoothed_lambda_org = mma.smooth(gal.data[\"lambda_r\"], window_len=15)[:-1]\n",
    "        #print(3,min(gal.nouts))\n",
    "        gal.smoothed_r = mma.smooth(gal.data[\"reff\"], window_len=15)[:-1]\n",
    "        #print(4,min(gal.nouts))\n",
    "        gal.smoothed_lambda = mma.smooth(l_at_smoothed_r(gal, npix_per_reff=5), window_len=15)[:-1]\n",
    "        #print(5,min(gal.nouts))\n",
    "        if save:\n",
    "            pickle.dump(mpgs, open(wdir + \"main_prgs_final_augmented_5_10_0.5_0.5_0.5_37_0.01_filtered.pickle\", \"wb\"))\n",
    "else:\n",
    "    #mpgs = pickle.load(open(\"main_prgs_final_augmented_5_10_0.5_0.5_0.5_37.pickle\", \"rb\"))\n",
    "    mpgs = pickle.load(open(wdir + \"main_prgs_final_augmented_5_10_0.5_0.5_0.5_37_0.01_filtered_.pickle\", \"rb\"))"
   ]
  },
  {
   "cell_type": "code",
   "execution_count": 4,
   "metadata": {
    "collapsed": true
   },
   "outputs": [],
   "source": [
    "def den_lambda_evol(mpgs, nout_ini, nout_fi,\n",
    "                     wdir_info='./',\n",
    "                     density = \"none\",\n",
    "                     sizeOfFont=9):\n",
    "\n",
    "\n",
    "    nnouts = nout_fi - nout_ini + 1\n",
    "    ngals_tot = len(mpgs)\n",
    "    lambda_evol_all = np.zeros([ngals_tot, nnouts])\n",
    "\n",
    "    # Starting nouts of galaxies are different. \n",
    "    # But all end at nout = 187.\n",
    "    for igal, gal in enumerate(mpgs):\n",
    "        for inout, nout in enumerate(gal.nouts):\n",
    "            lambda_evol_all[igal][nout - nout_ini] = gal.data['lambda_r'][inout]\n",
    "\n",
    "\n",
    "    # change ticks\n",
    "    zreds=[]\n",
    "    aexps=[]\n",
    "\n",
    "    # Only nout_ini < nout < nout_fi values are taken.\n",
    "    # So are the x ticks.\n",
    "    import load\n",
    "    for nout in range(nout_ini, nout_fi + 1):\n",
    "        info = load.info.Info(nout=nout, base=wdir_info, load=True)\n",
    "        aexps.append(info.aexp)\n",
    "        zreds.append(info.zred)\n",
    "    aexps = np.array(aexps)\n",
    "    zreds = np.array(zreds)\n",
    "\n",
    "#    modify_ticks1(zreds, aexps, axs[2], nout_ini, nout_fi, fontsize=fontsize_tick_label)\n",
    "\n",
    "    xx = np.tile(np.arange(nnouts), ngals_tot)\n",
    "    all_data = lambda_evol_all.ravel()\n",
    "\n",
    "    ind_ok = all_data > 0.01\n",
    "    lambda_range=[0.01, 0.8]\n",
    "    xx,yy,z = density_map(xx[ind_ok], all_data[ind_ok])\n",
    "    \n",
    "    return xx,yy,z, zreds, aexps\n",
    "\n",
    "\n",
    "def plot_lambda_evol(xx,yy,z,axs,cmap =\"jet\", img_scale=1.5):\n",
    "    fontsize_ticks = 6 * img_scale\n",
    "    fontsize_tick_label = 8 * img_scale\n",
    "    fontsize_legend = 5 * img_scale\n",
    "\n",
    "    for ax in axs:\n",
    "        ax.scatter(xx, yy, c=z, s=50, edgecolor='', cmap=cmap, rasterized=True)\n",
    "#            yticks_ok=[0.0, 0.2, 0.4, 0.6, 0.8]\n",
    "#            ax.set_ylim([-0.05, 0.9])\n",
    "#            ax.set_yticks([0.0, 0.2, 0.4, 0.6, 0.8])\n",
    "#            ax.set_yticklabels([str(yy) for yy in yticks_ok])\n",
    "#            ax.set_ylabel(r\"$\\lambda_{R_{eff}}$\", fontsize=fontsize_tick_label, family=\"Liberation Sans\")\n",
    "#            ax.tick_params(axis='both', which='major', labelsize=fontsize_ticks)\n",
    "\n",
    "#    axs[2].tick_params(axis='x', which='major', labelsize=fontsize_ticks)\n",
    "#    return zreds, aexps\n"
   ]
  },
  {
   "cell_type": "code",
   "execution_count": 9,
   "metadata": {
    "collapsed": false
   },
   "outputs": [],
   "source": [
    "Load_background = True\n",
    "\n",
    "nout_ini = 37\n",
    "fig, axs = plt.subplots(3, sharex=True)\n",
    "fig.set_size_inches(4.75, 8)\n",
    "plt.subplots_adjust(hspace=0.01)\n",
    "\n",
    "if not Load_background:\n",
    "    xx,yy,z, zreds, aexps = den_lambda_evol(mpgs, nout_ini, 187,\n",
    "                 wdir_info = wdir + '29172/',\n",
    "                 density=\"kernel\")\n",
    "    #pickle.dump((xx,yy,z,zreds,aexps), open(\"lambda_evol_xxyyz.pickle\", \"wb\"))\n",
    "else:\n",
    "    xx,yy,z,zreds, aexps = pickle.load(open(wdir+\"lambda_evol_xxyyz.pickle\", \"rb\"))\n",
    "\n",
    "plot_lambda_evol(xx,yy,z, axs, cmap = \"Blues\")  # 37 : z = 3.0\n",
    "#pickle.dump(fig, open(\"lambda_evol_background.pickle\", \"wb\"))\n",
    "#fig = pickle.load(open(\"lambda_evol_background.pickle\", \"rb\"))"
   ]
  },
  {
   "cell_type": "code",
   "execution_count": 10,
   "metadata": {
    "collapsed": true
   },
   "outputs": [],
   "source": [
    "plt.show()"
   ]
  },
  {
   "cell_type": "code",
   "execution_count": 9,
   "metadata": {
    "collapsed": true
   },
   "outputs": [],
   "source": [
    "plt.savefig(\"figs/fig4_bare.png\", dpi=200)\n",
    "plt.savefig(\"figs/fig4_bare.pdf\")"
   ]
  },
  {
   "cell_type": "code",
   "execution_count": 16,
   "metadata": {
    "collapsed": true
   },
   "outputs": [],
   "source": [
    "gal_clu_list= [160500811,  160500745, 3566300002, 2917600065, 2917600001,\n",
    "       1000200001, 3641500003, 3999000032, 3999000015, 3999000001,\n",
    "       3641300444]"
   ]
  },
  {
   "cell_type": "code",
   "execution_count": 21,
   "metadata": {
    "collapsed": false
   },
   "outputs": [
    {
     "data": {
      "text/plain": [
       "dtype((numpy.record, [('index', '<i8'), ('Rgal_to_reff', '<f8'), ('d2t', '<f8'), ('eps', '<f8'), ('epsh', '<f8'), ('epsq', '<f8'), ('id', '<i8'), ('idx', '<f8'), ('lambda_12kpc', 'O'), ('lambda_arr', 'O'), ('lambda_arr2', 'O'), ('lambda_arrh', 'O'), ('lambda_r', '<f8'), ('lambda_r12kpc', '<f8'), ('lambda_r2', '<f8'), ('lambda_rh', '<f8'), ('mgas', '<f8'), ('mrj', '<f8'), ('mstar', '<f8'), ('nstar', '<i8'), ('pa', '<f8'), ('pah', '<f8'), ('paq', '<f8'), ('pq', 'O'), ('pt', 'O'), ('reff', '<f8'), ('reff2', '<f8'), ('rgal', '<f8'), ('rgal2', '<f8'), ('rhalo', '<f8'), ('rscale_lambda', '<f8'), ('sfr', '<f8'), ('sma', '<f8'), ('smah', '<f8'), ('smaq', '<f8'), ('smi', '<f8'), ('smih', '<f8'), ('smiq', '<f8'), ('ssfr', '<f8'), ('star', 'O'), ('vmap', 'O'), ('vxc', '<f8'), ('vyc', '<f8'), ('vzc', '<f8'), ('xc', '<f8'), ('xcen', '<f8'), ('xcenh', '<f8'), ('xcenq', '<f8'), ('yc', '<f8'), ('ycen', '<f8'), ('ycenh', '<f8'), ('ycenq', '<f8'), ('zc', '<f8')]))"
      ]
     },
     "execution_count": 21,
     "metadata": {},
     "output_type": "execute_result"
    }
   ],
   "source": [
    "gal.data.dtype"
   ]
  },
  {
   "cell_type": "code",
   "execution_count": 24,
   "metadata": {
    "collapsed": false
   },
   "outputs": [
    {
     "name": "stdout",
     "output_type": "stream",
     "text": [
      "8\n",
      "11.7975930818 132.290334338\n",
      "16\n",
      "10.0502239918 75.3071783433\n",
      "329\n",
      "11.9456129595 330.345344506\n",
      "733\n",
      "11.2052108634 83.4924921309\n",
      "761\n",
      "11.9940469852 222.719249633\n",
      "852\n",
      "12.0591319038 221.711052816\n",
      "933\n",
      "11.4978869914 142.086042294\n",
      "1484\n",
      "11.4603352162 115.074494084\n",
      "1494\n",
      "11.8329158274 125.282399447\n",
      "1497\n",
      "12.6492692095 555.153945648\n",
      "1499\n",
      "11.459946792 101.509619777\n"
     ]
    }
   ],
   "source": [
    "i=0\n",
    "for gal in mpgs:\n",
    "    gal_clu = gal.ids[0] + 100000 * gal.cluster\n",
    "    if gal_clu in gal_clu_list:\n",
    "        print(i)\n",
    "        print(np.log10(gal.data[\"mstar\"][0]), gal.data[\"rgal\"][0])\n",
    "    i += 1"
   ]
  },
  {
   "cell_type": "code",
   "execution_count": 20,
   "metadata": {
    "collapsed": false
   },
   "outputs": [],
   "source": [
    "gals = [mpgs[8], mpgs[16], mpgs[329]]\n",
    "plot_major(gals, axs[0],\n",
    "           suptitle=\"Major Mergers\",\n",
    "           img_scale=1.5,\n",
    "           arrow_scale=20) # arrow_scale = 50 for png, 20 for vectors.\n",
    "\n",
    "gals = [mpgs[733], mpgs[761], mpgs[852]]\n",
    "plot_minor(gals, axs[1],\n",
    "              suptitle=\"Minor Mergers\",\n",
    "              style=\"stream\",\n",
    "              img_scale=1.5,\n",
    "              annotate=\"(B) \",\n",
    "              arrow_scale=20)\n",
    "\n",
    "selected_gals = [933, 1484, 1494]#, 1497, 1499] # no mergers\n",
    "gals = [mpgs[i] for i in selected_gals]\n",
    "plot_rest(gals, axs[2],\n",
    "          suptitle=\"No Mergers\",\n",
    "          style=\"stream\",\n",
    "          img_scale=1.5,\n",
    "          annotate=\"(C) \",\n",
    "          arrow_scale=20)\n",
    "\n",
    "plt.tight_layout()\n",
    "\n",
    "\n",
    "#Fix font\n",
    "\n",
    "from matplotlib import rc, font_manager\n",
    "sizeOfFont=9\n",
    "fontProperties = {'family':'Liberation Sans',\n",
    "                  'weight' : 'normal', 'size' : sizeOfFont}\n",
    "ticks_font = font_manager.FontProperties(family='Liberation Sans', style='normal',\n",
    "               size=sizeOfFont, weight='normal', stretch='normal')\n",
    "rc('text', usetex=True)\n",
    "#rc('font',**fontProperties)\n",
    "\n",
    "fontsize_ticks = 8\n",
    "fontsize_tick_label = 10\n",
    "for ax in axs:\n",
    "    ax.set_yticklabels(ax.get_yticks(), fontProperties)\n",
    "    yticks_ok=[0.0, 0.2, 0.4, 0.6, 0.8]\n",
    "    ax.set_ylim([-0.05, 0.9])\n",
    "    ax.set_yticks([0.0, 0.2, 0.4, 0.6, 0.8])\n",
    "    ax.set_yticklabels([str(yy) for yy in yticks_ok])\n",
    "    ax.set_ylabel(r\"$\\lambda_{R_{eff}}$\", fontsize=fontsize_tick_label, family=\"Liberation Sans\")\n",
    "    ax.tick_params(axis='both', which='major', labelsize=fontsize_ticks)\n",
    "    \n",
    "axs[2].tick_params(axis='x', which='major', labelsize=fontsize_ticks)\n",
    "axs[2].set_xticklabels(axs[2].get_xticks(), fontProperties)\n",
    "\n",
    "nout_ini = 37\n",
    "nout_fi = 187\n",
    "modify_ticks1(zreds, aexps, axs[2], nout_ini, nout_fi, fontsize=9)\n",
    "\n",
    "\n",
    "fname_base = wdir+\"figs/lambdar_evol_Odd\"\n",
    "plt.savefig(fname_base + \"smooth_\"+\".pdf\")\n",
    "#plt.savefig(fname_base + \"smooth_\"+\".eps\")\n",
    "#plt.savefig(fname_base + \"smooth_\"+\".svg\")\n",
    "plt.savefig(fname_base + \"smooth_\"+\".png\", dpi=200)\n",
    "#plt.savefig(fname_base + \"smooth_Hires\"+\".png\", dpi=400)\n"
   ]
  },
  {
   "cell_type": "code",
   "execution_count": null,
   "metadata": {
    "collapsed": true
   },
   "outputs": [],
   "source": []
  },
  {
   "cell_type": "code",
   "execution_count": null,
   "metadata": {
    "collapsed": true
   },
   "outputs": [],
   "source": []
  }
 ],
 "metadata": {
  "kernelspec": {
   "display_name": "Python 3",
   "language": "python",
   "name": "python3"
  },
  "language_info": {
   "codemirror_mode": {
    "name": "ipython",
    "version": 3
   },
   "file_extension": ".py",
   "mimetype": "text/x-python",
   "name": "python",
   "nbconvert_exporter": "python",
   "pygments_lexer": "ipython3",
   "version": "3.5.1+"
  }
 },
 "nbformat": 4,
 "nbformat_minor": 0
}
