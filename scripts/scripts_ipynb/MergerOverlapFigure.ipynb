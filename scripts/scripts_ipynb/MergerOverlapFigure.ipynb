{
 "cells": [
  {
   "cell_type": "markdown",
   "metadata": {},
   "source": [
    "# Is it reasonable to consider only largest mergers among many?\n",
    "Multiple mergers can occur at a time. Especially when merger takes long, another merger can begin before the other ends. Then the effect of a merger can't be separated. In such case, I will take larger merger only. \n",
    "But how reliable is it? \n",
    "\n",
    "This script shows distribution of mergers and their mass ratio. \n",
    "1) Multiple mergers at a snapshot are rare. \n",
    "\n",
    "2) Multiple major mergers are even rarer.\n",
    "\n",
    "3) Merger time overlap sometimes happen.\n",
    "\n",
    "4) Merger time overlap among major ones are rare.\n",
    "\n",
    "5) When the measurement window (~ 5-10 snapshots before and after) is considered, \n",
    "   many more overlap will be added.\n",
    "   \n",
    "   \n",
    "!! The figure can be pickled and shown later quickly!."
   ]
  },
  {
   "cell_type": "code",
   "execution_count": 222,
   "metadata": {
    "collapsed": false
   },
   "outputs": [],
   "source": [
    "def get_merger_info(main, atree, sat_root_idx,\n",
    "                    dist_gal_scale_in=1.0,\n",
    "                    dist_gal_scale_out=2.0):\n",
    "    \"\"\"\n",
    "    Returns merger mass ratio and beginning of the merger. \n",
    "    nout_init_this_merger, mass_this_merger = get_merger_info()\n",
    "    \n",
    "    Assumes \n",
    "    \"\"\"\n",
    "    satellite = ctu.extract_main_tree(atree, sat_root_idx, no_subset=True)\n",
    "    nout_min = max([min(main['nout']), min(satellite['nout'])])\n",
    "    i_main_ok = (main['nout'] >= nout_min) * (main['nout'] <= max(satellite[\"nout\"]))\n",
    "\n",
    "    i_sat_ok = (satellite['nout'] >= nout_min)\n",
    "    satellite = satellite[i_sat_ok]\n",
    "\n",
    "    # distances at all valid nouts.\n",
    "    dd = np.sqrt(np.square(main[\"x\"][i_main_ok] - satellite['x']) \\\n",
    "               + np.square(main[\"y\"][i_main_ok] - satellite['y']) \\\n",
    "               + np.square(main[\"z\"][i_main_ok] - satellite['z'])) * 1e3\n",
    "    rgal_tot = (main['rvir'][i_main_ok] + satellite['rvir'])\n",
    "    #print(\" Galaxy sizes : main {}, and the second {}, and the sum {}\".format(\n",
    "    #        main['r'][i_main_ok], satellite['r'], rgal_tot))\n",
    "    #print(\" dd :\", dd)\n",
    "    if sum(dist_gal_scale_in * rgal_tot > dd) > 0:\n",
    "        # First close encounter is technically the beginning of merger,\n",
    "        # but in practice that could be merely a flyby, \n",
    "        # and whether they will merger soon or not is not known. \n",
    "        # I can't call an encounter a merger if the encounter will end up merging in 100Gyrs.        \n",
    "        #nout_init_this = min(satellite['nout'][dist_gal_scale * rgal_tot < dd])\n",
    "        # First try\n",
    "        # shouldn't go out 2Rgal.\n",
    "        i_dist_bad = np.where(dist_gal_scale_out * rgal_tot < dd)[0]\n",
    "        i_dist_ok = np.where(dist_gal_scale_in * rgal_tot > dd)[0]\n",
    "        if len(i_dist_bad) > 0:\n",
    "            i_dist_bad_last = min(i_dist_bad)\n",
    "            i_dist_final = i_dist_ok[i_dist_ok < i_dist_bad_last]\n",
    "        else:\n",
    "            i_dist_final = i_dist_ok\n",
    "        if len(i_dist_final) > 0:\n",
    "            nout_init_this = satellite['nout'][min(i_dist_final)]\n",
    "        \n",
    "        \n",
    "        # Second try\n",
    "            mass_this = satellite['m'][satellite['nout'] == nout_init_this].squeeze()\n",
    "        else:\n",
    "            nout_init_this = -1\n",
    "            mass_this = 0\n",
    "        \n",
    "    else:\n",
    "        nout_init_this = -1\n",
    "        mass_this = 0\n",
    "    \n",
    "    return nout_init_this, mass_this"
   ]
  },
  {
   "cell_type": "code",
   "execution_count": 223,
   "metadata": {
    "collapsed": false
   },
   "outputs": [],
   "source": [
    "def find_all_meger(alltrees, \n",
    "                   idx_all, \n",
    "                   nout_ini=37, \n",
    "                   dist_gal_scale=2,\n",
    "                   min_mass_ratio = 0.01,\n",
    "                   verbose=False,\n",
    "                   do_plot = False):\n",
    "    \"\"\"\n",
    "    Parameters\n",
    "    ----------\n",
    "    dist_gal_scale \n",
    "        if two galaxies are closer than dist_gal_scale * (sum of raidus of the two),\n",
    "        that epoch is the nout_init_merger.\n",
    "    nout_ini\n",
    "        blabla\n",
    "    \"\"\"\n",
    "    gal_list=[]\n",
    "    mr_list=[]\n",
    "    nout_list=[]\n",
    "    nout_ini_list=[] # initial time when two halos(Galaxy stellar components in this case) overlap. \n",
    "\n",
    "    for idx in idx_all:\n",
    "        # full tree of a galaxy\n",
    "        atree = ctu.extract_a_tree(alltrees.data, idx)\n",
    "\n",
    "        # main progenitor tree\n",
    "        main = ctu.extract_main_tree(atree, idx)\n",
    "\n",
    "        x_nout = main['nout'].flatten()\n",
    "        i_nout_ok = x_nout > nout_ini\n",
    "        main = main[i_nout_ok]\n",
    "        #x_nout = x_nout[i_nout_ok]\n",
    "        pos = np.zeros((3,len(main)))\n",
    "        pos[0,:] = main['x']\n",
    "        pos[1,:] = main['y']\n",
    "        pos[2,:] = main['z']\n",
    "\n",
    "        mass_ratios_this = []#np.zeros(len(main))\n",
    "        nout_inits_this = []#np.zeros(len(main))\n",
    "        nout_list_this = []\n",
    "                \n",
    "        for i, nout in enumerate(main['nout']):\n",
    "            # merger ratio\n",
    "            i_prgs = np.where(atree['desc_id'] == main['id'][i])[0]\n",
    "            #print(\" {} Progenitors at nout = {}\".format(len(i_prgs), nout))\n",
    "            # multiple prgs = merger\n",
    "            if len(i_prgs) > 1:\n",
    "                #if verbose: \n",
    "                #print(\"{}  {} Progenitors at nout = {}\".format(idx, len(i_prgs), nout))\n",
    "                id_prgs = atree['id'][i_prgs]\n",
    "                mass_prgs = atree['m'][i_prgs]\n",
    "                \n",
    "                m_r = mass_prgs / max(mass_prgs)\n",
    "\n",
    "                sats = id_prgs[mass_prgs < max(mass_prgs)]\n",
    "                \n",
    "                mass_ratios_now=[]\n",
    "                nout_inits_now=[]\n",
    "                \n",
    "                for this_sat in sats:\n",
    "                    n_i_t, mass_this_sat = get_merger_info(main, atree, this_sat,\n",
    "                                                           dist_gal_scale_in=dist_gal_scale,\n",
    "                                                           dist_gal_scale_out = 3.0)\n",
    "                    mass_ratio = mass_this_sat / max(mass_prgs)\n",
    "                    if mass_ratio > min_mass_ratio:\n",
    "                        nout_inits_now.append(n_i_t)\n",
    "                        mass_ratios_now.append(1./mass_ratio)\n",
    "                \n",
    "                nout_list_this.append(nout)\n",
    "                nout_inits_this.append(nout_inits_now)\n",
    "                mass_ratios_this.append(mass_ratios_now)\n",
    "\n",
    "        #mr = 1./mass_ratios\n",
    "        gal_list.append(idx)\n",
    "        nout_list.append(nout_list_this)\n",
    "        mr_list.append(mass_ratios_this)\n",
    "        nout_ini_list.append(nout_inits_this)\n",
    "    return gal_list, mr_list, nout_list, nout_ini_list"
   ]
  },
  {
   "cell_type": "code",
   "execution_count": 224,
   "metadata": {
    "collapsed": false
   },
   "outputs": [
    {
     "name": "stdout",
     "output_type": "stream",
     "text": [
      "Loaded an extended tree\n"
     ]
    }
   ],
   "source": [
    "import tree.ctutils as ctu\n",
    "import numpy as np\n",
    "from analysis.misc import load_cat\n",
    "\n",
    "# parameters used for lambda_arr clipping.\n",
    "ind_upper = 20\n",
    "ind_lower = 20\n",
    "sig_upper = 2.0\n",
    "sig_lower = 2.0\n",
    "\n",
    "nout_ini = 62\n",
    "nout_fi = 187\n",
    "\n",
    "verbose=True\n",
    "# In[4]:\n",
    "\n",
    "base = './'\n",
    "cdir = ['catalog/', 'easy/', 'catalog_GM/', \"easy_final/\"][3]\n",
    "\n",
    "cluster = ['05427', '05420', '29172', \\\n",
    "           '29176', '10002', '36415',\n",
    "           '06098', '39990', '36413','17891', '07206', '04466', '01605', '35663'][3]#[:-3]\n",
    "\n",
    "wdir = base + cluster + '/'\n",
    "alltrees = ctu.load_tree(wdir, is_gal=True)\n",
    "ad = alltrees.data\n",
    "tn = ad[ad['nout'] == nout_fi]\n",
    "\n",
    "cat = load_cat(wdir + cdir + 'catalog' + str(nout_fi) + '.pickle')\n",
    "#idx_all = [tn['id'][tn['Orig_halo_id'] == id_final][0] for id_final in cat['id']]\n",
    "idx_all = cat['idx'][cat[\"idx\"] > 0].astype(int) # why idx are float???"
   ]
  },
  {
   "cell_type": "code",
   "execution_count": 225,
   "metadata": {
    "collapsed": false
   },
   "outputs": [],
   "source": [
    "gal_list, mr_list, nout_list, nout_init_list = \\\n",
    "                find_all_meger(alltrees, \n",
    "                               idx_all, \n",
    "                               nout_ini=37, \n",
    "                               dist_gal_scale=1,\n",
    "                               min_mass_ratio = 0.001,\n",
    "                               verbose=False,\n",
    "                               do_plot = False)"
   ]
  },
  {
   "cell_type": "code",
   "execution_count": 41,
   "metadata": {
    "collapsed": true
   },
   "outputs": [],
   "source": [
    "import matplotlib.pyplot as plt"
   ]
  },
  {
   "cell_type": "code",
   "execution_count": 229,
   "metadata": {
    "collapsed": false
   },
   "outputs": [],
   "source": [
    "# simple scatter\n",
    "fig, ax = plt.subplots()\n",
    "for nout_list_this, mr_list_this in zip(nout_list, mr_list):\n",
    "    for nout, mr in zip(nout_list_this, mr_list_this):\n",
    "        for mm in mr:\n",
    "            ax.scatter(nout, mm)\n",
    "        try:\n",
    "            ax.scatter(nout, mr[0], marker=\"*\", color='r')\n",
    "        except:\n",
    "            #ax.scatter(nout, mr, marker=\"*\", color='r')\n",
    "            pass\n",
    "    ax.set_yscale('log')\n",
    "ax.set_ylabel(\"Merger mass ratio\")\n",
    "ax.set_xlabel(\"Nout\")\n",
    "\n",
    "plt.show()"
   ]
  },
  {
   "cell_type": "code",
   "execution_count": 219,
   "metadata": {
    "collapsed": true
   },
   "outputs": [],
   "source": [
    "import pickle"
   ]
  },
  {
   "cell_type": "code",
   "execution_count": 227,
   "metadata": {
    "collapsed": true
   },
   "outputs": [],
   "source": [
    "# merging process overlap\n",
    "fig, ax = plt.subplots()\n",
    "# each galaxy\n",
    "for igal, (nout_init_this, nout_list_this, mr_list_this) in enumerate(zip(nout_init_list, nout_list, mr_list)):\n",
    "    # each snapshot\n",
    "    allnout_thisgal = []\n",
    "    allmm_thisgal = []\n",
    "    for nout_init, nout, mr in zip(nout_init_this, nout_list_this, mr_list_this):\n",
    "        # each merger\n",
    "        for ni, mm in zip(nout_init, mr):\n",
    "            ax.plot([ni, nout], [mm,mm], 'y.-')\n",
    "    #cm = ax.scatter(allnout_thisgal, igal * 10 + np.arange(len(allnout_thisgal)),\n",
    "    #                s=1e3/np.array(allmm_thisgal))\n",
    "               #c=np.array(allmm_thisgal), cmap=\"Greys\", vmin=0, vmax=1e3)\n",
    "\n",
    "ax.set_ylabel(\"mergers (arbitrary value)\")\n",
    "ax.set_xlabel(\"Nout\")\n",
    "#plt.colorbar(cm)\n",
    "plt.show()\n"
   ]
  },
  {
   "cell_type": "code",
   "execution_count": 221,
   "metadata": {
    "collapsed": false
   },
   "outputs": [],
   "source": [
    "# merging process overlap\n",
    "fig, ax = plt.subplots()\n",
    "# each galaxy\n",
    "for igal, (nout_init_this, nout_list_this, mr_list_this) in enumerate(zip(nout_init_list, nout_list, mr_list)):\n",
    "    # each snapshot\n",
    "    allnout_thisgal = []\n",
    "    allmm_thisgal = []\n",
    "    for nout_init, nout, mr in zip(nout_init_this, nout_list_this, mr_list_this):\n",
    "        # each merger\n",
    "        for ni, mm in zip(nout_init, mr):\n",
    "            allnout_thisgal.append(nout)\n",
    "            allnout_thisgal.append(ni)            \n",
    "            allmm_thisgal.append(mm)\n",
    "            allmm_thisgal.append(1e3) # one marker per one merger, and minimize the other one.\n",
    "    #\n",
    "    ax.plot(allnout_thisgal, igal * 10 + np.arange(len(allnout_thisgal)), '-')\n",
    "    cm = ax.scatter(allnout_thisgal, igal * 10 + np.arange(len(allnout_thisgal)),\n",
    "                    s=1e3/np.array(allmm_thisgal))\n",
    "               #c=np.array(allmm_thisgal), cmap=\"Greys\", vmin=0, vmax=1e3)\n",
    "\n",
    "ax.set_ylabel(\"mergers (arbitrary value)\")\n",
    "ax.set_xlabel(\"Nout\")\n",
    "#plt.colorbar(cm)\n",
    "pickle.dump(plt.gcf(), open(\"merger_overlap_plot.pickle\", \"wb\"))\n",
    "plt.show()"
   ]
  },
  {
   "cell_type": "markdown",
   "metadata": {},
   "source": [
    "### A figure can be saved!"
   ]
  },
  {
   "cell_type": "code",
   "execution_count": 1,
   "metadata": {
    "collapsed": true
   },
   "outputs": [],
   "source": [
    "# On a separate ipython kernel, the following will generate the same figure!\n",
    "import matplotlib.pyplot as plt\n",
    "import pickle\n",
    "fig = pickle.load(open(\"merger_overlap_plot.pickle\", \"rb\"))\n",
    "plt.show(fig)"
   ]
  },
  {
   "cell_type": "code",
   "execution_count": null,
   "metadata": {
    "collapsed": true
   },
   "outputs": [],
   "source": []
  }
 ],
 "metadata": {
  "kernelspec": {
   "display_name": "Python 3",
   "language": "python",
   "name": "python3"
  },
  "language_info": {
   "codemirror_mode": {
    "name": "ipython",
    "version": 3
   },
   "file_extension": ".py",
   "mimetype": "text/x-python",
   "name": "python",
   "nbconvert_exporter": "python",
   "pygments_lexer": "ipython3",
   "version": "3.5.1+"
  }
 },
 "nbformat": 4,
 "nbformat_minor": 0
}
