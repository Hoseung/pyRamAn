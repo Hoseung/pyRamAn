{
 "cells": [
  {
   "cell_type": "code",
   "execution_count": 5,
   "metadata": {},
   "outputs": [],
   "source": [
    "import pickle\n",
    "import numpy as np\n",
    "import matplotlib.pyplot as plt\n",
    "from galaxymodule.galaxy import Galaxy\n",
    "import tree\n",
    "import collections\n",
    "from galaxymodule import galaxy\n",
    "import load\n",
    "\n",
    "from analysis.cal_lambda import *\n"
   ]
  },
  {
   "cell_type": "code",
   "execution_count": 2,
   "metadata": {
    "collapsed": true
   },
   "outputs": [],
   "source": [
    "def mk_gal(gal,\n",
    "            save=False, verbose=False,\n",
    "            mstar_min=1e9,\n",
    "            den_lim=1e6, den_lim2=5e6,\n",
    "            rmin = -1, Rgal_to_reff=5.0, method_com=1, follow_bp=None,\n",
    "            unit_conversion=\"code\"):\n",
    "    \"\"\"\n",
    "        Refine given catalog (star, DM, gas) to define a realistic galaxy.\n",
    "        Raw star/DM/gas catalog as give are only rough representation of a galaxy.\n",
    "        But not much have to be thrown away, either.\n",
    "\n",
    "        Returns True if a \"good\" galaxy is made.\n",
    "\n",
    "\n",
    "        Parameters\n",
    "        ----------\n",
    "\n",
    "        Rgal_to_reff:\n",
    "            Galaxy radius = Reff * Rgal_to_reff.\n",
    "            By default, Rgal = 5*Reff.\n",
    "            (E's have smaller R_t_r, L's have larger.)\n",
    "\n",
    "        Notes\n",
    "        -----\n",
    "        1. Since now (as of 2016.03) galaxy calculation is based on the GalaxyMaker results,\n",
    "        let's just believe and minimize redundant processes such as determining the center of mass,\n",
    "        system velocity, and checking the presence of (unwanted) substructure.\n",
    "\n",
    "        2. Assuming all catalog in the code units.\n",
    "\n",
    "        3. dr, bin size in determining the radial profile cut scales with exponential factor.\n",
    "        Without scaling, 0.5kpc bin size is too large for ~1kpc galaxies at high-z.\n",
    "\n",
    "    \"\"\"\n",
    "    # Need halo information\n",
    "    assert (gal.gcat is not None), (\"Need a catalog,\"\n",
    "    \"use Galaxy.set_halo() and provide x,y,z,vx,vy,vz,r,rvir, at least\"\n",
    "    \"Units are.. ?? \")\n",
    "\n",
    "    # And at least one component.\n",
    "    star = gal.star\n",
    "    if star is not None:\n",
    "        gal.star[\"x\"] = (gal.star[\"x\"] - gal.gcat[\"x\"])*1e3\n",
    "        gal.star[\"y\"] = (gal.star[\"y\"] - gal.gcat[\"y\"])*1e3\n",
    "        gal.star[\"z\"] = (gal.star[\"z\"] - gal.gcat[\"z\"])*1e3\n",
    "        gal.star[\"m\"] *= 1e11#gal.info.msun\n",
    "    dm = gal.dm\n",
    "    if dm is not None:\n",
    "        gal.dm[\"x\"] = (gal.dm[\"x\"] - gal.gcat[\"x\"])*1e3\n",
    "        gal.dm[\"y\"] = (gal.dm[\"y\"] - gal.gcat[\"y\"])*1e3\n",
    "        gal.dm[\"z\"] = (gal.dm[\"z\"] - gal.gcat[\"z\"])*1e3\n",
    "        gal.dm[\"m\"] *= gal.info.msun\n",
    "    cell = gal.cell\n",
    "\n",
    "    assert (gal._has_star or gal._has_dm or gal._has_cell), (\"At least\"\n",
    "    \"one of three(star, dm, gas) component is needed\")\n",
    "\n",
    "    # all tests passed.\n",
    "    if verbose:\n",
    "        print(\"Making a galaxy:\", gal.meta.id)\n",
    "        print(\"SAVE:\", save)\n",
    "        print(\"Halo size:\", gal.gcat['rvir'])\n",
    "\n",
    "    #\n",
    "    member=\"Reff\"\n",
    "\n",
    "    # galaxy center from GalaxyMaker. - good enough.\n",
    "    xc = gal.gcat['x']\n",
    "    yc = gal.gcat['y']\n",
    "    zc = gal.gcat['z']\n",
    "\n",
    "    if verbose: print(\"xc, yc, zc =\", xc, yc, zc)\n",
    "\n",
    "    rgal_tmp = min([gal.gcat['r'] * 1e3, 30]) # gcat[\"rvir\"] in kpc\n",
    "    if verbose: print(\"Rgal_tmp\", rgal_tmp)\n",
    "    print(\"gal.debug\",gal.debug)\n",
    "    dense_enough = radial_profile_cut(gal, star['x'], star['y'], star['m'],\n",
    "                         star['vx'], star['vy'], star['vz'],\n",
    "                         den_lim=den_lim, den_lim2=den_lim2,\n",
    "                         mag_lim=25,\n",
    "                         nbins=int(rgal_tmp/0.5),\n",
    "                         dr=0.5 * gal.info.aexp,\n",
    "                         rmax=rgal_tmp,\n",
    "                         debug=gal.debug)\n",
    "\n",
    "    if not dense_enough:\n",
    "        print(\"Not dense enough\")\n",
    "        return False\n",
    "    ind = np.where((np.square(star['x']) +\n",
    "                    np.square(star['y']) +\n",
    "                    np.square(star['z'])) < gal.meta.rgal**2)[0]# in kpc unit\n",
    "\n",
    "    gal.star = star[ind]\n",
    "\n",
    "    if gal.debug:\n",
    "        print('[galaxy.Galaxy.mk_gal] mima vx 1', min(gal.star['vx']), max(gal.star['vx']))\n",
    "\n",
    "\n",
    "    gal.meta.nstar = len(ind)\n",
    "    gal.meta.mstar = sum(gal.star['m'])\n",
    "\n",
    "    if gal.meta.mstar < mstar_min:\n",
    "        print(\"Not enough stars: {:.2e} Msun\".format(gal.meta.mstar))\n",
    "        print(\"{} Aborting... \\n\".format(len(gal.star['m'])))\n",
    "        gal.meta.star = False\n",
    "        return False\n",
    "\n",
    "    gal.meta.Rgal_to_reff = gal.meta.rgal / gal.meta.reff\n",
    "    # should not surpass rr_tmp, over where another galaxy might be.\n",
    "\n",
    "    # Test if the outer annulus has significant amount of stars\n",
    "    # -> it shouldn't.\n",
    "#        if verbose: print(\"Reff: \", reff_tmp)\n",
    "\n",
    "    # extract galaxy (particles and gas)\n",
    "    if star is not None:\n",
    "        nstar_tot = len(star['x'][ind])\n",
    "        if verbose: print(\"nstar tot:\", nstar_tot)\n",
    "        if verbose: print(\"Store stellar particle\")\n",
    "\n",
    "        if 'time' in gal.star.dtype.names and unit_conversion == \"code\":\n",
    "            import utils.cosmology\n",
    "            gal.star['time'] = utils.cosmology.time2gyr(gal.star['time'],\n",
    "                                         z_now = gal.info.zred,\n",
    "                                         info=gal.info)\n",
    "\n",
    "    # VERY arbitrary..\n",
    "#        gal.Rgal_to_reff = 4 #rgal_tmp / reff_tmp\n",
    "    rgal_tmp = gal.meta.Rgal_to_reff *gal.meta.reff\n",
    "\n",
    "    #print(\".........\", gal.star['m'][100:120], gal.mstar)\n",
    "    import utils.sampling as smp\n",
    "    gal.region = smp.set_region(xc=gal.meta.xc, yc=gal.meta.yc, zc=gal.meta.zc, radius = gal.meta.rgal)\n",
    "\n",
    "    # Now, get cov\n",
    "#        gal.get_cov(center_only=True)\n",
    "    #if gal.star is not None:\n",
    "        #gal._convert_unit_meta(unit_conversion)\n",
    "        #gal._convert_unit(\"star\", unit_conversion)\n",
    "\n",
    "    if gal.debug:\n",
    "        print('[galaxy.Galaxy.mk_gal] meta.v[x,y,z]c', gal.meta.vxc, gal.meta.vyc, gal.meta.vzc)\n",
    "        print('[galaxy.Galaxy.mk_gal] mima vx 2', min(gal.star['vx']), max(gal.star['vx']))\n",
    "\n",
    "    if dm is not None:\n",
    "        if member == \"Reff\":\n",
    "            idm = np.where( np.square(dm[\"x\"] - gal.meta.xc) +\n",
    "                            np.square(dm[\"y\"] - gal.meta.yc) +\n",
    "                            np.square(dm[\"z\"] - gal.meta.zc) <= np.square(rgal_tmp))[0]\n",
    "        elif member == \"v200\":\n",
    "        # Although the velocity is redefined later,\n",
    "        # particle membership is fixed at this point.\n",
    "            idm = np.where( np.square(dm[\"vx\"] - gal.meta.vxc / gal.info.kms)+\n",
    "                            np.square(dm[\"vy\"] - gal.meta.vyc / gal.info.kms)+\n",
    "                            np.square(dm[\"vz\"] - gal.meta.vzc / gal.info.kms) <= np.square(200**2))[0]\n",
    "        gal._convert_unit(\"dm\", unit_conversion)\n",
    "\n",
    "    if cell is not None:\n",
    "        if verbose: print(\"Cell is NOT none\")\n",
    "        icell = np.where(np.square(cell[\"x\"] - xc) +\n",
    "                         np.square(cell[\"y\"] - yc) +\n",
    "                         np.square(cell[\"z\"] - zc) <= np.square(rgal_tmp))[0]\n",
    "\n",
    "        gal._add_cell(cell, icell)\n",
    "        gal._convert_unit(\"cell\", unit_conversion)\n",
    "        gal.cal_mgas()\n",
    "\n",
    "        gal.cell = np.recarray(ncell_tot, dtype=dtype_cell)\n",
    "        gal.cell['x'] = (cell['x'][icell] - xc) * gal.info.pboxsize * 1000\n",
    "        gal.cell['y'] = (cell['y'][icell] - yc) * gal.info.pboxsize * 1000\n",
    "        gal.cell['z'] = (cell['z'][icell] - zc) * gal.info.pboxsize * 1000\n",
    "        gal.cell['dx'] = cell['dx'][icell] * gal.info.pboxsize * 1000\n",
    "        gal.cell['rho'] = cell['var0'][icell]\n",
    "        gal.cell['vx'] = cell['var1'][icell] * gal.info.kms - gal.meta.vxc\n",
    "        gal.cell['vy'] = cell['var2'][icell] * gal.info.kms - gal.meta.vyc\n",
    "        gal.cell['vz'] = cell['var3'][icell] * gal.info.kms - gal.meta.vzc\n",
    "        gal.cell['temp'] = cell['var4'][icell]\n",
    "        gal.cell['metal'] = cell['var5'][icell]\n",
    "\n",
    "\n",
    "    # Some more sophistications.\n",
    "    \"\"\"\n",
    "    print(\"Rgal = 4 * Reff = \", rgal_tmp * gal.info.pboxsize * 1000)\n",
    "\n",
    "        # Save sink particle as a BH, not cloud particles.\n",
    "\n",
    "    \"\"\"\n",
    "    return True\n",
    "\n",
    "\n",
    "def radial_profile_cut(gal, xx, yy, mm, vx, vy, vz,\n",
    "                       den_lim=1e6, den_lim2=5e6,\n",
    "                       mag_lim=25, nbins=100, rmax=20, dr=0.5,\n",
    "                       debug=False):\n",
    "    # 2D photometry. (if rotated towards +y, then use x and z)\n",
    "    # now assuming +z alignment.\n",
    "    rr = np.sqrt(np.square(xx) + np.square(yy))# in kpc unit\n",
    "    if debug:\n",
    "        print(\"min(rr) {}\\n max(rr){}\\n min(xx){}\\n max(xx){}\".format(\n",
    "                               min(rr), max(rr), min(xx), max(xx)))\n",
    "\n",
    "    # Account for weights.\n",
    "    i_sort = np.argsort(rr)\n",
    "    r_sorted = rr[i_sort]\n",
    "    m_sorted = mm[i_sort]\n",
    "\n",
    "    rmax = min([np.max(rr), rmax])\n",
    "    nbins = int(rmax/dr)\n",
    "\n",
    "    if nbins < 3:\n",
    "        print(\"Too small size \\n # of stars:\", len(rr))\n",
    "        return False\n",
    "\n",
    "    frequency, bins = np.histogram(r_sorted, bins = nbins, range=[0, rmax])\n",
    "    bin_centers = bins[:-1] + 0.5 * dr # remove the rightmost boundary.\n",
    "\n",
    "    m_radial = np.zeros(nbins)\n",
    "    ibins = np.concatenate((np.zeros(1,dtype=int), np.cumsum(frequency)))\n",
    "\n",
    "    i_r_cut1 = nbins -1 # Maximum value\n",
    "    # on rare occasions, a galaxy's stellar surface density\n",
    "    # never crosses the density limit. Then i_r_cut1 = last index.\n",
    "    for i in range(nbins):\n",
    "        m_radial[i] = np.sum(m_sorted[ibins[i]:ibins[i+1]])\n",
    "        # Check stellar surface density\n",
    "        sig_at_r = m_radial[i]/(2 * np.pi * bin_centers[i] * dr)\n",
    "        if debug:\n",
    "            print(sig_at_r, den_lim)\n",
    "        if sig_at_r < den_lim:\n",
    "            i_r_cut1 = i-1\n",
    "            break\n",
    "    #i_r_cut2= np.argmax(m_radial/(2 * np.pi * bin_centers * dr) < den_lim2)\n",
    "    # If for some reason central region is less dense,\n",
    "    # profile can end at the first index.\n",
    "    # Instead coming from backward, search for the point the opposite condition satisfied.\n",
    "    if debug:\n",
    "        print(rmax, nbins)\n",
    "        print(\"frequency\", frequency)\n",
    "        print(\"bins\", bins)\n",
    "        print(\"ibins\", ibins)\n",
    "        print(\"bin centers\", bin_centers)\n",
    "        print(\"m_radial\", m_radial)\n",
    "\n",
    "    den_radial_inverse = m_radial[::-1]/(2 * np.pi * bin_centers[::-1] * dr)\n",
    "    if debug: print(\"den_radial_inverse\", den_radial_inverse)\n",
    "    if max(den_radial_inverse) < 2 * den_lim2:\n",
    "        np.set_printoptions(precision=3)\n",
    "        print(\"radial density :\",den_radial_inverse)\n",
    "        return False\n",
    "    i_r_cut2=len(m_radial) - np.argmax(den_radial_inverse > den_lim2) -1\n",
    "    if debug:\n",
    "        print(\"[galaxy.Galaxy.radial_profile_cut] m_radial \\n\", m_radial)\n",
    "        print(\"[galaxy.Galaxy.radial_profile_cut] den_radial_inverse \\n\", den_radial_inverse)\n",
    "        print(\"[galaxy.Galaxy.radial_profile_cut] i_r_cut2\", i_r_cut2)\n",
    "\n",
    "    mtot2 = sum(m_radial[:i_r_cut2])\n",
    "    mtot1 = sum(m_radial[:i_r_cut1])\n",
    "    i_reff2 = np.argmax(np.cumsum(m_sorted) > (0.5*mtot2))\n",
    "    i_reff1 = np.argmax(np.cumsum(m_sorted) > (0.5*mtot1))\n",
    "    gal.meta.reff2 = r_sorted[i_reff2]\n",
    "    gal.meta.reff  = r_sorted[i_reff1]\n",
    "    #print(bin_centers, i_r_cut2, m_radial)\n",
    "    gal.meta.rgal2 = max([bin_centers[i_r_cut2],4*gal.meta.reff2])\n",
    "    gal.meta.rgal  = max([bin_centers[i_r_cut1],4*gal.meta.reff])#bin_centers[i_r_cut1]\n",
    "\n",
    "#       velocity center\n",
    "#       It is not wrong for BCGs to have very large Reff(~50kpc).\n",
    "#       But referring the average velocity of stellar particles inside 50kpc\n",
    "#       as the system velocity is WRONG.\n",
    "#       If 1Reff is huge, try smaller aperture when measuring the system velocity.\n",
    "#\n",
    "    if debug:\n",
    "        print(\"[galaxy.Galaxy.radial_profile_cut] mtot, mtot2\", mtot1, mtot2)\n",
    "\n",
    "    i_close = i_sort[:np.argmax(np.cumsum(m_sorted) > (0.2*mtot2))] # 20% closest particles\n",
    "\n",
    "\n",
    "    gal.meta.vxc = np.average(vx[i_close])\n",
    "    gal.meta.vyc = np.average(vy[i_close])\n",
    "    gal.meta.vzc = np.average(vz[i_close])\n",
    "\n",
    "    return True"
   ]
  },
  {
   "cell_type": "code",
   "execution_count": 6,
   "metadata": {
    "collapsed": true
   },
   "outputs": [],
   "source": [
    "def get_normal_vec(stars):\n",
    "    #vec_rot = np.cross(stars[\"pos\"],stars[\"vel\"])\n",
    "    vec_rot = np.cross(np.vstack((stars[\"x\"],stars[\"y\"],stars[\"z\"])),\n",
    "                       np.vstack((stars[\"vx\"],stars[\"vy\"],stars[\"vz\"])))\n",
    "    Ln = vec_rot.sum(axis=0) \n",
    "    return Ln / np.linalg.norm(Ln)"
   ]
  },
  {
   "cell_type": "code",
   "execution_count": 19,
   "metadata": {},
   "outputs": [
    {
     "name": "stdout",
     "output_type": "stream",
     "text": [
      "[sim._hilbert_cpulist] No AMR instance,\n",
      "[sim._hilbert_cpulist] Loading one...\n",
      "An AMR instance is created\n",
      " Sim\n",
      "An AMR instance is created\n",
      " Sim\n",
      "Simulation set up.\n",
      "[Halo.load_info] loading info\n",
      "[Halo.load_info] nout = 782, base =./\n"
     ]
    }
   ],
   "source": [
    "nout=782\n",
    "Mcut = 1e10\n",
    "\n",
    "cal_lambda_params = dict(npix_per_reff=5,\n",
    "                        rscale=3.0,\n",
    "                        method='ellip',\n",
    "                        n_pseudo=1,\n",
    "                        verbose=False,\n",
    "                        voronoi=None,#voronoi_dict,\n",
    "                        mge_interpol = True)\n",
    "mk_gal_params = dict()\n",
    "\n",
    "# Load data\n",
    "import tree\n",
    "\n",
    "\n",
    "s = load.sim.Sim(nout=nout)\n",
    "gcat = tree.halomodule.Halo(nout=nout, is_gal=True)\n",
    "# Check for tree file before reading.\n",
    "# Or, the fortran routine crashes causing the kernel crash without any error message. "
   ]
  },
  {
   "cell_type": "code",
   "execution_count": 16,
   "metadata": {},
   "outputs": [],
   "source": [
    "gg = Galaxy(catalog=gcat.data[24],info=s.info)"
   ]
  },
  {
   "cell_type": "code",
   "execution_count": 20,
   "metadata": {},
   "outputs": [
    {
     "name": "stdout",
     "output_type": "stream",
     "text": [
      "info <load.info.Info object at 0x7fcc29b08f60>\n",
      "File Not Found: ./halo/HAL_00782/hal_dms_0000025\n",
      "No DM data loaded\n",
      "File Not Found: ./GalaxyMaker/CELL_00782/gal_cells_0000025\n",
      "No CELL data loaded\n"
     ]
    }
   ],
   "source": [
    "gg = load.rd_GM.Gal(nout=782,catalog=gcat.data[24],info=s.info)"
   ]
  },
  {
   "cell_type": "code",
   "execution_count": 21,
   "metadata": {},
   "outputs": [
    {
     "name": "stdout",
     "output_type": "stream",
     "text": [
      "gal.debug False\n"
     ]
    },
    {
     "data": {
      "text/plain": [
       "True"
      ]
     },
     "execution_count": 21,
     "metadata": {},
     "output_type": "execute_result"
    }
   ],
   "source": [
    "from galaxymodule import mk_gal_params as mgp\n",
    "\n",
    "mgp.HAGN[\"verbose\"] = False\n",
    "gg.debug=False\n",
    "#gg.mk_gal(**mgp.HAGN)\n",
    "mk_gal(gg,**mgp.HAGN)\n",
    "\n",
    "# Make sure that the catalog is not being modified."
   ]
  },
  {
   "cell_type": "code",
   "execution_count": 112,
   "metadata": {
    "collapsed": true
   },
   "outputs": [],
   "source": [
    "branches = pickle.load(open(\"all_direct_prgs_7864636.pickle\",\"rb\"))"
   ]
  },
  {
   "cell_type": "code",
   "execution_count": 22,
   "metadata": {
    "collapsed": true
   },
   "outputs": [],
   "source": [
    "all_data = pickle.load(open(\"all_direct_prgs_data.pickle\",\"rb\"))"
   ]
  },
  {
   "cell_type": "code",
   "execution_count": 168,
   "metadata": {
    "collapsed": true
   },
   "outputs": [],
   "source": []
  },
  {
   "cell_type": "code",
   "execution_count": 23,
   "metadata": {},
   "outputs": [
    {
     "ename": "SyntaxError",
     "evalue": "invalid syntax (<ipython-input-23-4f2e555485aa>, line 11)",
     "output_type": "error",
     "traceback": [
      "\u001b[0;36m  File \u001b[0;32m\"<ipython-input-23-4f2e555485aa>\"\u001b[0;36m, line \u001b[0;32m11\u001b[0m\n\u001b[0;31m    for this_gal in  ??  :\u001b[0m\n\u001b[0m                     ^\u001b[0m\n\u001b[0;31mSyntaxError\u001b[0m\u001b[0;31m:\u001b[0m invalid syntax\n"
     ]
    }
   ],
   "source": [
    "all_relang = []\n",
    "for this_step in all_data:\n",
    "    \n",
    "    hid = this_step[0][\"id\"]\n",
    "    gg = load.rd_GM.Gal(782, catalog=gcat.data[hid-1], info=s.info)\n",
    "    mgp.HAGN[\"verbose\"] = False\n",
    "    gg.debug=False\n",
    "    mk_gal(gg,**mgp.HAGN)\n",
    "    gg.cal_norm_vec()\n",
    "\n",
    "    this_gal_relang=[]\n",
    "    for this_gal in  ??  :\n",
    "        gal = this_gal[0]\n",
    "        #print(gal)\n",
    "        rel_pos = (gg.header[\"xg\"] - gal[\"xp\"])*1e3 # in kpc\n",
    "        rel_vel = gg.header[\"vg\"] - gal[\"vp\"] \n",
    "        jx,jy,jz = np.cross(rel_pos, rel_vel)\n",
    "        j_orbital=(jx,jy,jz)/np.sqrt(jx**2 + jy**2 + jz**2)\n",
    "        # rotation axis\n",
    "        relang = 180 / np.pi * np.arccos(np.dot(gg.meta.nvec, -1*j_orbital))\n",
    "        this_gal_relang.append(relang)\n",
    "        print(relang)\n",
    "    print(\"---\\n\")\n",
    "    all_relang.append(this_gal_relang)"
   ]
  },
  {
   "cell_type": "code",
   "execution_count": 130,
   "metadata": {
    "collapsed": true
   },
   "outputs": [],
   "source": []
  },
  {
   "cell_type": "code",
   "execution_count": 132,
   "metadata": {},
   "outputs": [
    {
     "data": {
      "text/plain": [
       "7.9029866426763249"
      ]
     },
     "execution_count": 132,
     "metadata": {},
     "output_type": "execute_result"
    }
   ],
   "source": [
    "relang"
   ]
  },
  {
   "cell_type": "code",
   "execution_count": 131,
   "metadata": {
    "collapsed": true
   },
   "outputs": [],
   "source": [
    "if relang > 90:\n",
    "    print(\"Counter\")"
   ]
  },
  {
   "cell_type": "code",
   "execution_count": null,
   "metadata": {
    "collapsed": true
   },
   "outputs": [],
   "source": [
    "for gal in this_branch:\n",
    "    "
   ]
  },
  {
   "cell_type": "code",
   "execution_count": null,
   "metadata": {
    "collapsed": true
   },
   "outputs": [],
   "source": []
  },
  {
   "cell_type": "code",
   "execution_count": null,
   "metadata": {
    "collapsed": true
   },
   "outputs": [],
   "source": []
  }
 ],
 "metadata": {
  "kernelspec": {
   "display_name": "Python 3",
   "language": "python",
   "name": "python3"
  },
  "language_info": {
   "codemirror_mode": {
    "name": "ipython",
    "version": 3
   },
   "file_extension": ".py",
   "mimetype": "text/x-python",
   "name": "python",
   "nbconvert_exporter": "python",
   "pygments_lexer": "ipython3",
   "version": "3.5.3"
  }
 },
 "nbformat": 4,
 "nbformat_minor": 2
}
