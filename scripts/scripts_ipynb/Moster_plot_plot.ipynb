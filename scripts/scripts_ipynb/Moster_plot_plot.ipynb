{
 "cells": [
  {
   "cell_type": "markdown",
   "metadata": {},
   "source": [
    "# M* vs Mhalo"
   ]
  },
  {
   "cell_type": "markdown",
   "metadata": {},
   "source": [
    "Again, galaxy - halo matching is required."
   ]
  },
  {
   "cell_type": "code",
   "execution_count": 27,
   "metadata": {
    "collapsed": true
   },
   "outputs": [],
   "source": [
    "import matplotlib\n",
    "matplotlib.use(\"Qt4Agg\")\n",
    "\n",
    "import matplotlib.pyplot as plt \n",
    "import numpy as np\n",
    "import load\n",
    "import tree.halomodule as hmo \n",
    "import pickle\n",
    "import pandas as pd\n",
    "import utils.match as mtc \n",
    "import draw\n",
    "from load.info import Info\n",
    "\n",
    "def get_M1(z, M10=11.59 , M11=1.195):\n",
    "    return M10 + M11*(z/(z+1))\n",
    "    \n",
    "\n",
    "def m_M(M,z):\n",
    "    \"\"\"\n",
    "    Moster SHM relation from Moster et al. 2013\n",
    "    Returns M*/Mhalo.\n",
    "    \n",
    "    Parameters\n",
    "    ----------\n",
    "    M : float\n",
    "        Halo Mass\n",
    "    z : float\n",
    "        Redshift\n",
    "    \"\"\"\n",
    "    N = get_M1\n",
    "    N10 = 0.0351\n",
    "    N11 = -0.0247\n",
    "\n",
    "    beta = get_M1\n",
    "    beta10 = 1.376\n",
    "    beta11 = -0.826\n",
    " \n",
    "    gamma = get_M1\n",
    "    gamma10 = 0.608\n",
    "    gamma11 = 0.329\n",
    "\n",
    "    M1 = 10**get_M1(z, 11.59, 1.195)\n",
    "    nn = N(z, N10, N11)\n",
    "    bb = beta(z, beta10, beta11)\n",
    "    gg = gamma(z, gamma10, gamma11)\n",
    "\n",
    "    return 2 * nn / ( (M/M1)**(-bb) + (M/M1)**(gg))"
   ]
  },
  {
   "cell_type": "code",
   "execution_count": 28,
   "metadata": {
    "collapsed": false
   },
   "outputs": [],
   "source": [
    "mm = np.logspace(10, 15, 100)\n",
    "plt.plot(np.log10(xp), np.log10(m_M(mm,0)*mm))\n",
    "plt.show()"
   ]
  },
  {
   "cell_type": "code",
   "execution_count": 45,
   "metadata": {
    "collapsed": false
   },
   "outputs": [],
   "source": [
    "clusters = [\"05420\", \"39990\", \"01605\", \"05427\", \"36415\",\\\n",
    "            \"36413\", \"29176\", \"29172\", \"04466\", \"10002\",\\\n",
    "            \"17891\", \"24954\", \"28930\", \"32675\", \"35663\",\\\n",
    "            \"14172\", \"06098\", \"07206\"][0:1]\n",
    "\n",
    "fig, ax = plt.subplots(1,2)\n",
    "fig.set_size_inches(18, 8)\n",
    "\n",
    "mvir_all_c=[]\n",
    "mstar_all_c=[]\n",
    "\n",
    "info = Info(187, base='./05420/')\n",
    "for cluster in clusters:\n",
    "    wdir = \"./\" + cluster + '/'\n",
    "    try:\n",
    "        cat_final, ad_final = pickle.load(open(wdir + cluster + \"moster.pickle\", \"rb\"))\n",
    "    except:\n",
    "        continue\n",
    "            \n",
    "    # Color code central / satellite\n",
    "    ind_cen = ad_final[\"level\"] == 1\n",
    "    ind_sat = ~ind_cen#np.where(ad_final[\"level\"] != 1)[0]\n",
    "    mstar = cat_final[\"mstar\"]\n",
    "    mvir = ad_final['mvir']\n",
    "         \n",
    "#    plt.clf()\n",
    "    mvir_all_c.extend(mvir[ind_cen])\n",
    "    mstar_all_c.extend(mstar[ind_cen])\n",
    "    satellites = ax[0].scatter(np.log10(mvir[ind_sat]),\\\n",
    "                 mstar[ind_sat]/mvir[ind_sat] / (info.ob/info.om), \\\n",
    "                facecolors=\"blue\", edgecolors=\"blue\",\\\n",
    "                label=\"satellite\", )\n",
    "    centrals = ax[0].scatter(np.log10(mvir[ind_cen]),\\\n",
    "                 mstar[ind_cen]/mvir[ind_cen] / (info.ob/info.om),\\\n",
    "                facecolors = \"red\", edgecolors=\"red\",\\\n",
    "                label=\"central\")\n",
    "\n",
    "    centrals = ax[1].scatter(np.log10(mvir[ind_cen]),\\\n",
    "                 mstar[ind_cen]/mvir[ind_cen] / (info.ob/info.om),\\\n",
    "                facecolors = \"red\", edgecolors=\"red\",\\\n",
    "                label=\"central\")\n",
    "\n",
    "    \n",
    "ax[0].plot(np.log10(mm), m_M(mm,0) / (info.ob/info.om), label=\"Moster 13\")\n",
    "ax[1].plot(np.log10(mm), m_M(mm,0) / (info.ob/info.om), label=\"Moster 13\")\n",
    "\n",
    "ax[0].legend()\n",
    "ax[1].legend()\n",
    "\n",
    "ax[0].set_yscale(\"log\")\n",
    "ax[1].set_yscale(\"log\")\n",
    "#ax[0].set_ylim([0,5])\n",
    "#ax[1].set_ylim([0,2])\n",
    "\n",
    "ax[0].set_ylabel(r\"$ M_{\\star} / M_{200} / (\\Omega_{b} / \\Omega_{m} )$\")\n",
    "ax[0].set_xlabel(r\"log$[M_{200} / M_{\\odot}]$\")\n",
    "\n",
    "ax[1].set_ylabel(r\"$ M_{\\star} / M_{200} / (\\Omega_{b} / \\Omega_{m} )$\")\n",
    "ax[1].set_xlabel(r\"log$[M_{200} / M_{\\odot}]$\")\n",
    "\n",
    "plt.savefig(\"./ALL_Moster_plot.png\")\n",
    "#plt.savefig(wdir + cluster + \"Moster_plot_central_only.png\")\n",
    "\n",
    "plt.close()\n",
    "fig, ax = plt.subplots()\n",
    "#plt.clf()\n",
    "ax.plot(np.log10(mm), np.log10(m_M(mm,0)*mm))\n",
    "ax.scatter(np.log10(mvir_all_c), np.log10(mstar_all_c))\n",
    "plt.savefig(\"./Mstar_Mhal_cen.png\")"
   ]
  },
  {
   "cell_type": "code",
   "execution_count": null,
   "metadata": {
    "collapsed": true
   },
   "outputs": [],
   "source": []
  }
 ],
 "metadata": {
  "kernelspec": {
   "display_name": "Python 3",
   "language": "python",
   "name": "python3"
  },
  "language_info": {
   "codemirror_mode": {
    "name": "ipython",
    "version": 3
   },
   "file_extension": ".py",
   "mimetype": "text/x-python",
   "name": "python",
   "nbconvert_exporter": "python",
   "pygments_lexer": "ipython3",
   "version": "3.5.1+"
  }
 },
 "nbformat": 4,
 "nbformat_minor": 0
}
