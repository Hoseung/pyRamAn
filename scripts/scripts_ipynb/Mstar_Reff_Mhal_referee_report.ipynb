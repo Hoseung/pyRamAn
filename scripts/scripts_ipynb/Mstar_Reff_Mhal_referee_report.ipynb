{
 "cells": [
  {
   "cell_type": "code",
   "execution_count": 1,
   "metadata": {
    "collapsed": true
   },
   "outputs": [],
   "source": [
    "import pickle\n",
    "import numpy as np\n",
    "import matplotlib.pyplot as plt\n",
    "from load.info import Info"
   ]
  },
  {
   "cell_type": "code",
   "execution_count": 2,
   "metadata": {
    "collapsed": false
   },
   "outputs": [],
   "source": [
    "wdir = \"/home/hoseung/Work/data/\"\n",
    "info = Info(nout=187, base=wdir + '29172')\n",
    "mh, mg = pickle.load(open(wdir + \"matched_hal_gal.pickle\", \"rb\"))\n",
    "# mh and mg are mere HaloMaker catalogs"
   ]
  },
  {
   "cell_type": "code",
   "execution_count": 3,
   "metadata": {
    "collapsed": false
   },
   "outputs": [],
   "source": [
    "prg = pickle.load(open(wdir + \"main_prgs_final_augmented_5_10_0.5_0.5_0.5_37_0.01_filtered_.pickle\", \"rb\"))\n",
    "prg = [gal for gal in prg if gal.data[\"mstar\"][0] > 5e9]"
   ]
  },
  {
   "cell_type": "code",
   "execution_count": 4,
   "metadata": {
    "collapsed": false
   },
   "outputs": [],
   "source": [
    "ind = np.lexsort( (mg[\"id\"], mg[\"host\"]) ) \n",
    "sortd_mg = mg[ind]\n",
    "sortd_mh = mh[ind]\n",
    "# Note that the last key in lexsort is primary while the first key in sorted is primary.\n",
    "sortd_prg = sorted(prg, key = lambda gal: (gal.cluster, gal.ids[0]))\n",
    "# Check\n",
    "#for i, gal in enumerate(sortd_prg[:10]):\n",
    "#    print(gal.cluster, gal.ids[0], sortd_mg[\"host\"][i], sortd_mg[\"id\"][i])"
   ]
  },
  {
   "cell_type": "code",
   "execution_count": 8,
   "metadata": {
    "collapsed": false
   },
   "outputs": [],
   "source": [
    "# Rvir Vs 10*Reff\n",
    "Reff = np.array([10 * min([40, gal.data[\"reff\"][0]]) for gal in sortd_prg])\n",
    "Mstar = np.array([gal.data[\"mstar\"][0] for gal in sortd_prg])\n",
    "fig, ax = plt.subplots()\n",
    "fig.suptitle(r\"$R_{vir} Vs R_{eff}$\")\n",
    "cb = ax.scatter(np.log10(sortd_mh[\"rvir\"] * info.boxtokpc),\n",
    "           np.log10(Reff),\n",
    "           c=np.log10(Mstar), cmap=\"jet\", edgecolor=\"none\", alpha=0.8)\n",
    "fig.colorbar(cb, label=\"log10(\" + r\"$M_{\\ast}$)\")\n",
    "ax.plot([1,3.5], [1,3.5], \"r:\", lw=3)\n",
    "ax.set_aspect(\"equal\")\n",
    "ax.set_xlabel(\"log10(\" + r\"R$_{vir}$ / kpc)\")\n",
    "ax.set_ylabel(\"log10(\" + r\"10R$_{eff}$ /kpc)\")\n",
    "#plt.show()\n",
    "plt.savefig(wdir + \"figs/Rvir_Reff.png\")"
   ]
  },
  {
   "cell_type": "code",
   "execution_count": null,
   "metadata": {
    "collapsed": true
   },
   "outputs": [],
   "source": []
  },
  {
   "cell_type": "markdown",
   "metadata": {},
   "source": [
    "# Moster plot"
   ]
  },
  {
   "cell_type": "code",
   "execution_count": 104,
   "metadata": {
    "collapsed": true
   },
   "outputs": [],
   "source": [
    "def get_M1(z, M10=11.59 , M11=1.195):\n",
    "    return M10 + M11*(z/(z+1))\n",
    "\n",
    "def m_M(M,z):\n",
    "    \"\"\"\n",
    "    Moster SHM relation from Moster et al. 2013\n",
    "    Returns M*/Mhalo.\n",
    "    \n",
    "    Parameters\n",
    "    ----------\n",
    "    M : float\n",
    "        Halo Mass\n",
    "    z : float\n",
    "        Redshift\n",
    "    \"\"\"\n",
    "    N = get_M1\n",
    "    N10 = 0.0351\n",
    "    N11 = -0.0247\n",
    "\n",
    "    beta = get_M1\n",
    "    beta10 = 1.376\n",
    "    beta11 = -0.826\n",
    " \n",
    "    gamma = get_M1\n",
    "    gamma10 = 0.608\n",
    "    gamma11 = 0.329\n",
    "\n",
    "    M1 = 10**get_M1(z, 11.59, 1.195)\n",
    "    nn = N(z, N10, N11)\n",
    "    bb = beta(z, beta10, beta11)\n",
    "    gg = gamma(z, gamma10, gamma11)\n",
    "\n",
    "    return 2 * nn / ( (M/M1)**(-bb) + (M/M1)**(gg))"
   ]
  },
  {
   "cell_type": "code",
   "execution_count": 105,
   "metadata": {
    "collapsed": true
   },
   "outputs": [],
   "source": [
    "mm = np.logspace(10, 15, 100)\n",
    "#plt.plot(np.log10(xp), np.log10(m_M(mm,0)*mm))"
   ]
  },
  {
   "cell_type": "code",
   "execution_count": 127,
   "metadata": {
    "collapsed": false
   },
   "outputs": [
    {
     "name": "stderr",
     "output_type": "stream",
     "text": [
      "/home/hoseung/mypy/lib/python3.5/site-packages/matplotlib/pyplot.py:516: RuntimeWarning: More than 20 figures have been opened. Figures created through the pyplot interface (`matplotlib.pyplot.figure`) are retained until explicitly closed and may consume too much memory. (To control this warning, see the rcParam `figure.max_open_warning`).\n",
      "  max_open_warning, RuntimeWarning)\n",
      "/home/hoseung/mypy/lib/python3.5/site-packages/matplotlib/axes/_base.py:1327: UserWarning: aspect is not supported for Axes with xscale=linear, yscale=log\n",
      "  'yscale=%s' % (xscale, yscale))\n"
     ]
    }
   ],
   "source": [
    "# Moster plot (Moster et al. 2013)\n",
    "fig, ax = plt.subplots(1,2)\n",
    "fig.set_size_inches(12,6)\n",
    "\n",
    "#ax.plot([1,3.5], [1,3.5], \"r:\", lw=3)\n",
    "i_central = sortd_mh[\"level\"] == 1\n",
    "\n",
    "ax[1].set_aspect(\"equal\")\n",
    "ax[1].set_xlabel(\"log10(\" + r\"M$_{vir, hal} / M_{\\odot}$)\" )\n",
    "ax[1].set_ylabel(\"lgo10(\" + r\"M$_{\\ast, gal} / M_{\\odot}$)\")\n",
    "\n",
    "ax[0].scatter(np.log10(sortd_mh[\"mvir\"][~i_central]),\n",
    "              np.log10(Mstar[~i_central]), label=\"satellite\",\n",
    "              color=\"blue\", edgecolor=\"none\", alpha=0.3)\n",
    "ax[0].scatter(np.log10(sortd_mh[\"mvir\"][i_central]),\n",
    "              np.log10(Mstar[i_central]), label=\"central\",\n",
    "              color=\"red\", edgecolor=\"none\", alpha=0.3)\n",
    "\n",
    "ax[1].scatter(np.log10(sortd_mh[\"mvir\"][~i_central]), \n",
    "              Mstar[~i_central] / sortd_mh[\"mvir\"][~i_central] / (info.ob/info.om),\n",
    "              label=\"satellite\", color=\"blue\", edgecolor=\"none\", alpha=0.3)\n",
    "ax[1].scatter(np.log10(sortd_mh[\"mvir\"][i_central]), \n",
    "              Mstar[i_central] / sortd_mh[\"mvir\"][i_central] / (info.ob/info.om),\n",
    "              label=\"central\", color=\"red\", alpha=0.3)\n",
    "\n",
    "ax[0].plot(np.log10(mm), np.log10(m_M(mm,0) * mm), label=\"Moster 13\")\n",
    "ax[1].plot(np.log10(mm), m_M(mm,0) / (info.ob/info.om), label=\"Moster 13\")\n",
    "\n",
    "ax[1].legend()\n",
    "#ax[1].legend()\n",
    "\n",
    "#ax[0].set_yscale(\"log\")\n",
    "ax[1].set_yscale(\"log\")\n",
    "#ax[0].set_ylim([0,5])\n",
    "#ax[1].set_ylim([0,2])\n",
    "\n",
    "ax[0].set_ylabel(\"log10(\" + r\"$M_{\\star} / M_{\\odot})$\")\n",
    "ax[0].set_xlabel(\"log10(\" + r\"$M_{200} / M_{\\odot}$)\")\n",
    "ax[0].set_title(\"Stellar-Halo mass\")\n",
    "\n",
    "ax[1].set_ylabel(r\"$ M_{\\ast} / M_{b}$\")\n",
    "ax[1].set_xlabel(\"log10(\" + r\"$M_{200} / M_{\\odot}$)\")\n",
    "ax[1].set_title(\"Baryon conversion effeciency\")\n",
    "plt.tight_layout()\n",
    "plt.savefig(\"./ALL_Moster_plot.png\")"
   ]
  },
  {
   "cell_type": "code",
   "execution_count": null,
   "metadata": {
    "collapsed": true
   },
   "outputs": [],
   "source": []
  }
 ],
 "metadata": {
  "kernelspec": {
   "display_name": "Python 3",
   "language": "python",
   "name": "python3"
  },
  "language_info": {
   "codemirror_mode": {
    "name": "ipython",
    "version": 3
   },
   "file_extension": ".py",
   "mimetype": "text/x-python",
   "name": "python",
   "nbconvert_exporter": "python",
   "pygments_lexer": "ipython3",
   "version": "3.5.1+"
  }
 },
 "nbformat": 4,
 "nbformat_minor": 0
}
