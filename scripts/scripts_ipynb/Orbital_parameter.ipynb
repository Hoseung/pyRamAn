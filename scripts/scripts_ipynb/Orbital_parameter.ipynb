{
 "cells": [
  {
   "cell_type": "code",
   "execution_count": 1,
   "metadata": {
    "collapsed": false
   },
   "outputs": [
    {
     "name": "stdout",
     "output_type": "stream",
     "text": [
      "/media/hoseung/DATA/29172\n"
     ]
    }
   ],
   "source": [
    "cd 29172"
   ]
  },
  {
   "cell_type": "code",
   "execution_count": 12,
   "metadata": {
    "collapsed": false
   },
   "outputs": [],
   "source": [
    "import pickle\n",
    "import matplotlib.pyplot as plt\n",
    "import numpy as np\n",
    "# Need a full tree. not only main progenitor tree. \n",
    "tt = pickle.load(open(\"./GalaxyMaker/Trees/extended_tree.pickle\", \"rb\"))\n",
    "from tree import ctutils as ctu\n",
    "#alltree = extract_a_tree(tt, idx=)"
   ]
  },
  {
   "cell_type": "code",
   "execution_count": 21,
   "metadata": {
    "collapsed": false
   },
   "outputs": [],
   "source": [
    "tt.data[\"nout\"]\n",
    "t_final = tt.data[tt.data[\"nout\"] == 187]"
   ]
  },
  {
   "cell_type": "code",
   "execution_count": 23,
   "metadata": {
    "collapsed": false
   },
   "outputs": [
    {
     "data": {
      "text/plain": [
       "array([43176, 43045, 43039, 43038, 43180, 43082, 43078, 43056, 43154,\n",
       "       43076, 43085, 43051, 43059, 43079, 43103, 43080, 43050, 43070,\n",
       "       43096, 43130, 43048, 43104, 43090, 43142, 43107, 43113, 43036,\n",
       "       43074, 43172, 43160, 43092, 43126, 43129, 43065, 43046, 43091,\n",
       "       43120, 43135, 43168, 43071, 43049, 43153, 43054, 43117, 43044,\n",
       "       43072, 43064, 43088, 43164, 43106, 43110, 43053, 43083, 43112,\n",
       "       43052, 43141, 43143, 43061, 43087, 43067, 43119, 43167, 43111,\n",
       "       43116, 43190, 43069, 43093, 43121, 43124, 43122, 43114, 43134,\n",
       "       43041, 43185, 43139, 43062, 43099, 43146, 43097, 43105, 43128,\n",
       "       43140, 43147, 43125, 43101, 43148, 43186, 43150, 43137, 43115,\n",
       "       43095, 43162, 43173, 43133, 43123, 43188, 43073, 43102, 43131,\n",
       "       43158, 43089, 43161, 43086, 43075, 43127, 43077, 43047, 43183,\n",
       "       43157, 43118, 43151, 43109, 43163, 43165, 43136, 43156, 43166,\n",
       "       43175, 43144, 43152, 43149, 43170, 43155, 43159, 43169])"
      ]
     },
     "execution_count": 23,
     "metadata": {},
     "output_type": "execute_result"
    }
   ],
   "source": [
    "t_final[\"id\"]"
   ]
  },
  {
   "cell_type": "code",
   "execution_count": 95,
   "metadata": {
    "collapsed": true
   },
   "outputs": [],
   "source": [
    "atree = ctu.extract_a_tree(tt.data, 43045)\n",
    "maintree = ctu.extract_main_tree(atree, 43045)\n",
    "\n",
    "allbranches=[]"
   ]
  },
  {
   "cell_type": "code",
   "execution_count": 96,
   "metadata": {
    "collapsed": true
   },
   "outputs": [],
   "source": [
    "while len(atree) > 10:\n",
    "    maintree = ctu.extract_main_tree(atree, atree[\"id\"][0], no_subset=True)\n",
    "    # Need no_subset=True.\n",
    "    # A subset of the whole tree is taken by default to reduce the search time. \n",
    "    # But the subset if extracted by checking the \"tree_root_id\".\n",
    "    # Because the root of each branch is not the root of the tree, \n",
    "    # subset shouldn't be taken. \n",
    "    allbranches.append(maintree)\n",
    "    \n",
    "    # mask extracted tree\n",
    "    for gal in atree:\n",
    "        if gal[\"id\"] in maintree[\"id\"]:\n",
    "            #print(gal[\"id\"])\n",
    "            gal[\"id\"] = 1 \n",
    "    \n",
    "    # keep the rest\n",
    "    atree = atree[atree[\"id\"] != 1]\n",
    "    #print(atree[\"id\"])\n",
    "    #maintree = ctu.extract_main_tree(atree, atree[\"id\"][0])\n",
    "    #print(len(atree))"
   ]
  },
  {
   "cell_type": "code",
   "execution_count": 97,
   "metadata": {
    "collapsed": false
   },
   "outputs": [
    {
     "name": "stdout",
     "output_type": "stream",
     "text": [
      "153 [34]\n",
      "0.01002 0.04823 -0.03253\n",
      "152 [35]\n",
      "0.00358999999999 0.04846 -0.04128\n",
      "151 [36]\n",
      "-0.00300999999999 0.04705 -0.04864\n",
      "150 [37]\n",
      "-0.01127 0.04305 -0.05339\n",
      "149 [38]\n",
      "-0.01878 0.03848 -0.05769\n",
      "148 [39]\n",
      "-0.02463 0.0336 -0.06008\n",
      "147 [40]\n",
      "-0.03141 0.02574 -0.05971\n",
      "146 [41]\n",
      "-0.03724 0.01703 -0.05718\n",
      "145 [42]\n",
      "-0.04421 0.00720000000001 -0.05095\n",
      "144 [43]\n",
      "-0.04808 -0.00212999999999 -0.04357\n",
      "143 [44]\n",
      "-0.05096 -0.01313 -0.03335\n",
      "142 [45]\n",
      "-0.05184 -0.02252 -0.02131\n",
      "141 [46]\n",
      "-0.04791 -0.03074 -0.00763000000001\n",
      "140 [47]\n",
      "-0.04189 -0.03791 0.00893000000001\n",
      "139 [48]\n",
      "-0.03365 -0.04286 0.02557\n",
      "138 [49]\n",
      "-0.02523 -0.04283 0.04092\n",
      "137 [50]\n",
      "-0.01403 -0.04417 0.0563\n",
      "136 [51]\n",
      "-0.000239999999991 -0.04454 0.06898\n",
      "135 [52]\n",
      "0.01206 -0.04257 0.08064\n",
      "134 [53]\n",
      "0.02666 -0.04007 0.08994\n",
      "133 [54]\n",
      "0.04027 -0.03596 0.09842\n",
      "132 [55]\n",
      "0.05259 -0.03123 0.10588\n",
      "131 [56]\n",
      "0.06451 -0.02467 0.11259\n",
      "130 [57]\n",
      "0.07412 -0.02016 0.11959\n",
      "129 [58]\n",
      "0.08579 -0.01497 0.12339\n",
      "128 [59]\n",
      "0.09808 -0.01168 0.12846\n",
      "127 [60]\n",
      "0.10802 -0.00444999999999 0.13202\n",
      "126 [61]\n",
      "0.12041 0.000759999999985 0.1348\n",
      "125 [62]\n",
      "0.12966 0.00724 0.13717\n",
      "124 [63]\n",
      "0.14041 0.01451 0.13797\n",
      "123 [64]\n",
      "0.15011 0.0205 0.13895\n",
      "122 [65]\n",
      "0.15825 0.02691 0.13966\n",
      "121 [66]\n",
      "0.16793 0.03262 0.13738\n",
      "120 [67]\n",
      "0.17647 0.03961 0.13646\n",
      "119 [68]\n",
      "0.18736 0.04762 0.13416\n",
      "118 [69]\n",
      "0.19563 0.05723 0.13366\n",
      "117 [70]\n",
      "0.20252 0.06291 0.13282\n",
      "116 [71]\n",
      "0.20972 0.06536 0.12797\n",
      "115 [72]\n",
      "0.22055 0.07546 0.12153\n",
      "114 [73]\n",
      "0.22776 0.08572 0.11976\n",
      "113 [74]\n",
      "0.23526 0.09431 0.11755\n",
      "112 [75]\n",
      "0.23872 0.10279 0.11686\n",
      "111 [76]\n",
      "0.24355 0.10829 0.11216\n",
      "110 [77]\n",
      "0.24706 0.11402 0.10668\n",
      "109 [78]\n",
      "0.2501 0.1185 0.09984\n",
      "108 [79]\n",
      "0.25513 0.12634 0.08885\n",
      "107 [80]\n",
      "0.25802 0.13303 0.08038\n",
      "106 [81]\n",
      "0.26114 0.14566 0.06923\n",
      "105 [82]\n",
      "0.26673 0.15583 0.06075\n",
      "104 [83]\n",
      "0.27223 0.16603 0.05009\n",
      "103 [84]\n",
      "0.27319 0.17842 0.04094\n",
      "102 [85]\n",
      "0.27661 0.18979 0.03515\n",
      "101 [86]\n",
      "0.27703 0.19728 0.02222\n",
      "100 [87]\n",
      "0.28056 0.2077 0.01214\n",
      "99 [88]\n",
      "0.28047 0.21547 0.00192999999999\n",
      "98 [89]\n",
      "0.28164 0.22561 -0.00876\n",
      "97 [90]\n",
      "0.283 0.23506 -0.01528\n",
      "96 [91]\n",
      "0.28318 0.24284 -0.0288\n",
      "95 [92]\n",
      "0.2808 0.25322 -0.03497\n",
      "94 [93]\n",
      "0.27858 0.26366 -0.05153\n",
      "93 [94]\n",
      "0.27826 0.27231 -0.06457\n",
      "92 [95]\n",
      "0.27256 0.27727 -0.07954\n",
      "91 [96]\n",
      "0.27207 0.27798 -0.09793\n",
      "90 [97]\n",
      "0.27234 0.2851 -0.11384\n",
      "89 [98]\n",
      "0.26875 0.29244 -0.12382\n",
      "88 [99]\n",
      "0.26594 0.29871 -0.14194\n",
      "87 [100]\n",
      "0.2662 0.30036 -0.15195\n",
      "86 [101]\n",
      "0.25677 0.30948 -0.16887\n",
      "85 [102]\n",
      "0.25296 0.31958 -0.18573\n",
      "84 [103]\n",
      "0.24525 0.32043 -0.20081\n",
      "83 [104]\n",
      "0.24071 0.31956 -0.21884\n",
      "82 [105]\n",
      "0.23022 0.32271 -0.23579\n",
      "81 [106]\n",
      "0.223 0.32634 -0.25082\n",
      "80 [107]\n",
      "0.2123 0.32713 -0.26909\n",
      "79 [108]\n",
      "0.19397 0.33072 -0.29018\n",
      "78 [109]\n",
      "0.18255 0.33163 -0.31245\n",
      "77 [110]\n",
      "0.16736 0.33502 -0.33317\n",
      "76 [111]\n",
      "0.15625 0.33506 -0.34805\n",
      "75 [112]\n",
      "0.14303 0.33903 -0.37501\n",
      "74 [113]\n",
      "0.128 0.34486 -0.39356\n",
      "73 [114]\n",
      "0.11523 0.34929 -0.40725\n",
      "72 [115]\n",
      "0.10115 0.35158 -0.42442\n",
      "71 [116]\n",
      "0.08907 0.35431 -0.43982\n",
      "70 [117]\n",
      "0.0774 0.35982 -0.46203\n",
      "69 [118]\n",
      "0.07204 0.35889 -0.47492\n",
      "68 [119]\n",
      "0.05698 0.36613 -0.49243\n",
      "67 [120]\n",
      "0.04741 0.37076 -0.50628\n",
      "66 [121]\n",
      "0.03152 0.38269 -0.52623\n",
      "65 [122]\n",
      "0.02916 0.38635 -0.54954\n",
      "64 [123]\n",
      "0.0179 0.39135 -0.56025\n",
      "63 [124]\n",
      "0.00492 0.40358 -0.57639\n",
      "62 [125]\n",
      "0.00153 0.41197 -0.59928\n",
      "61 [126]\n",
      "-0.01419 0.42291 -0.61032\n",
      "60 [127]\n",
      "-0.02269 0.42817 -0.63214\n",
      "59 [128]\n",
      "-0.04652 0.43895 -0.65348\n",
      "58 [129]\n",
      "-0.05044 0.4464 -0.68008\n",
      "57 [130]\n",
      "-0.05949 0.44951 -0.68533\n",
      "56 [131]\n",
      "-0.08121 0.45642 -0.68676\n",
      "55 [132]\n",
      "-0.09748 0.4666 -0.70366\n",
      "54 [133]\n",
      "-0.1101 0.46714 -0.71884\n",
      "53 [134]\n",
      "-0.11354 0.47325 -0.73118\n",
      "52 [135]\n",
      "-0.12864 0.47552 -0.74475\n",
      "51 [136]\n",
      "-0.13536 0.49123 -0.76354\n",
      "50 [137]\n",
      "-0.14487 0.50732 -0.778\n",
      "49 [138]\n",
      "-0.15695 0.51724 -0.78809\n",
      "48 [139]\n",
      "-0.15678 0.53312 -0.8112\n",
      "47 [140]\n",
      "-0.16596 0.53838 -0.83376\n",
      "46 [141]\n",
      "-0.17982 0.53926 -0.85308\n",
      "45 [142]\n",
      "-0.1933 0.53502 -0.86513\n",
      "44 [143]\n",
      "-0.19434 0.52655 -0.87838\n",
      "105 [82]\n",
      "0.26021 0.14654 0.09577\n",
      "104 [83]\n",
      "0.25728 0.1418 0.0891\n",
      "103 [84]\n",
      "0.25347 0.1416 0.08119\n",
      "102 [85]\n",
      "0.2512 0.1418 0.07444\n",
      "101 [86]\n",
      "0.24749 0.13985 0.05984\n",
      "100 [87]\n",
      "0.24691 0.14015 0.04561\n",
      "99 [88]\n",
      "0.24407 0.14036 0.03126\n",
      "98 [89]\n",
      "0.24036 0.14364 0.01459\n",
      "97 [90]\n",
      "0.23719 0.14638 0.00121\n",
      "96 [91]\n",
      "0.2381 0.15057 -0.01877\n",
      "95 [92]\n",
      "0.23165 0.15805 -0.03159\n",
      "94 [93]\n",
      "0.22533 0.16223 -0.05357\n",
      "93 [94]\n",
      "0.225 0.17029 -0.07389\n",
      "92 [95]\n",
      "0.21907 0.17838 -0.09436\n",
      "91 [96]\n",
      "0.21608 0.1871 -0.1172\n",
      "90 [97]\n",
      "0.21352 0.19829 -0.13705\n",
      "89 [98]\n",
      "0.20736 0.21322 -0.15394\n",
      "88 [99]\n",
      "0.20329 0.22714 -0.17606\n",
      "87 [100]\n",
      "0.20307 0.23702 -0.19116\n",
      "86 [101]\n",
      "0.19397 0.25648 -0.21114\n",
      "85 [102]\n",
      "0.19109 0.27606 -0.2298\n",
      "84 [103]\n",
      "0.19099 0.29463 -0.2466\n",
      "83 [104]\n",
      "0.19086 0.31492 -0.26346\n",
      "82 [105]\n",
      "0.18845 0.33481 -0.27545\n",
      "81 [106]\n",
      "0.19522 0.35201 -0.28555\n",
      "80 [107]\n",
      "0.19783 0.36856 -0.293\n",
      "79 [108]\n",
      "0.20346 0.38698 -0.30065\n",
      "78 [109]\n",
      "0.20991 0.3977 -0.30662\n",
      "77 [110]\n",
      "0.21667 0.40492 -0.31133\n",
      "76 [111]\n",
      "0.22249 0.41126 -0.31039\n",
      "75 [112]\n",
      "0.22441 0.41481 -0.32047\n",
      "74 [113]\n",
      "0.22561 0.41703 -0.32461\n",
      "73 [114]\n",
      "0.23144 0.41779 -0.32459\n",
      "72 [115]\n",
      "0.22914 0.42107 -0.32894\n",
      "71 [116]\n",
      "0.23101 0.42035 -0.33299\n",
      "70 [117]\n",
      "0.23113 0.42241 -0.34587\n",
      "69 [118]\n",
      "0.2373 0.42104 -0.35064\n",
      "68 [119]\n",
      "0.23239 0.42353 -0.36069\n",
      "55 [132]\n",
      "-0.01302 0.00278 0.04283\n",
      "54 [133]\n",
      "-0.03312 0.01553 0.05294\n",
      "53 [134]\n",
      "-0.04061 0.02237 0.05572\n",
      "52 [135]\n",
      "-0.05571 0.0334 0.06002\n",
      "51 [136]\n",
      "-0.06724 0.04181 0.05031\n",
      "50 [137]\n",
      "-0.0772 0.04437 0.0375\n",
      "49 [138]\n",
      "-0.0794 0.05385 0.02897\n"
     ]
    }
   ],
   "source": [
    "mainbranch = allbranches[0]\n",
    "for branch in allbranches[1:]:\n",
    "    for gal in branch:\n",
    "        i = np.where(mainbranch[\"nout\"] == gal[\"nout\"])[0]\n",
    "        gal[\"x\"] = gal[\"x\"] - mainbranch[\"x\"][i]\n",
    "        gal[\"y\"] = gal[\"y\"] - mainbranch[\"y\"][i]\n",
    "        gal[\"z\"] = gal[\"z\"] - mainbranch[\"z\"][i]"
   ]
  },
  {
   "cell_type": "code",
   "execution_count": 111,
   "metadata": {
    "collapsed": false
   },
   "outputs": [],
   "source": [
    "from mpl_toolkits.mplot3d import Axes3D\n",
    "fig = plt.figure()\n",
    "ax = fig.add_subplot(111, projection='3d')\n",
    "\n",
    "for branch in allbranches[1:]:\n",
    "    ax.scatter(branch[\"x\"], branch[\"y\"], branch[\"z\"], s=branch[\"m\"]/1e8)\n",
    "    #for gal in branch:\n",
    "    #    ax.scatter(gal[\"x\"], gal[\"y\"], gal[\"z\"], s=gal[\"m\"]/1e8)\n",
    "        #print(np.log2(gal[\"m\"]))\n",
    "    #print(branch[\"x\"])\n",
    "ax.scatter(0,0,0,s=200, c='r')\n",
    "#ax.scatter(at[\"x\"], atree[\"y\"], atree[\"z\"])\n",
    "#ax.scatter(at[\"x\"], atree[\"y\"], atree[\"z\"])\n",
    "#ax.scatter(at[\"x\"], at[\"y\"], atree[\"z\"])\n",
    "plt.show()"
   ]
  },
  {
   "cell_type": "markdown",
   "metadata": {},
   "source": [
    "branches are separated.\n",
    "So far, so good.\n",
    "\n",
    "Now, spin direction of each galaxy"
   ]
  },
  {
   "cell_type": "code",
   "execution_count": 112,
   "metadata": {
    "collapsed": true
   },
   "outputs": [],
   "source": [
    "import load"
   ]
  },
  {
   "cell_type": "code",
   "execution_count": 117,
   "metadata": {
    "collapsed": false
   },
   "outputs": [
    {
     "data": {
      "text/plain": [
       "dtype([('aexp', '<f8'), ('id', '<i8'), ('desc_aexp', '<i8'), ('desc_id', '<i8'), ('nprog', '<i8'), ('pid', '<i8'), ('upid', '<i8'), ('desc_pid', '<i8'), ('phantom', '<i8'), ('sam_mvir', '<f8'), ('mvir', '<f8'), ('rvir', '<f8'), ('rs', '<i8'), ('vrms', '<f8'), ('mmp', '<f8'), ('aexp_last_MM', '<f8'), ('vmax', '<i8'), ('x', '<f8'), ('y', '<f8'), ('z', '<f8'), ('vx', '<f8'), ('vy', '<f8'), ('vz', '<f8'), ('jx', '<f8'), ('jy', '<f8'), ('jz', '<f8'), ('spin', '<f8'), ('b_id', '<i8'), ('d_id', '<i8'), ('tree_root_id', '<i8'), ('Orig_halo_id', '<i8'), ('nout', '<i8'), ('next_coprogenitor_d_id', '<i8'), ('last_progenitor_d_id', '<i8'), ('last_mainleaf_depthfirst_id', '<i8'), ('tidal_force', '<f8'), ('tidal_id', '<i8'), ('np', '<i4'), ('r', '<f4'), ('tvir', '<f4'), ('cvel', '<f4'), ('sig', '<f4'), ('sigbulge', '<f4'), ('mbulge', '<f4'), ('m', '<f4')])"
      ]
     },
     "execution_count": 117,
     "metadata": {},
     "output_type": "execute_result"
    }
   ],
   "source": [
    "branch.dtype"
   ]
  },
  {
   "cell_type": "code",
   "execution_count": 118,
   "metadata": {
    "collapsed": false
   },
   "outputs": [
    {
     "name": "stdout",
     "output_type": "stream",
     "text": [
      "[rd_GM.rd_gal] fname= ./GalaxyMaker/GAL_00187/gal_stars_0000011\n"
     ]
    }
   ],
   "source": [
    "branch = allbranches[0]\n",
    "igal = 0\n",
    "idgal = branch[\"Orig_halo_id\"][igal]\n",
    "nout = branch[\"nout\"][igal]"
   ]
  },
  {
   "cell_type": "code",
   "execution_count": 122,
   "metadata": {
    "collapsed": false
   },
   "outputs": [
    {
     "name": "stdout",
     "output_type": "stream",
     "text": [
      "[rd_GM.rd_gal] fname= ./GalaxyMaker/GAL_00187/gal_stars_0000011\n"
     ]
    },
    {
     "name": "stderr",
     "output_type": "stream",
     "text": [
      "/home/hoseung/Work/pyclusterevol/galaxy/galaxy.py:135: VisibleDeprecationWarning: using a non-integer number instead of an integer will result in an error in the future\n",
      "  m_radial[i] = np.sum(m_sorted[ibins[i]:ibins[i+1]])\n"
     ]
    }
   ],
   "source": [
    "info = load.info.Info(nout)\n",
    "\n",
    "from galaxy.galaxy import Galaxy\n",
    "import tree.halomodule as hmo\n",
    "\n",
    "gals = hmo.Halo(nout=nout, is_gal=True)\n",
    "gg = gals.data[gals.data[\"id\"] == idgal]\n",
    "gm = load.rd_GM.rd_gal(nout, idgal)\n",
    "gal = Galaxy(halo=gg, info=info)\n",
    "good_gal = gal.mk_gal(gm.star, gm.dm, gm.cell,\n",
    "                      unit_conversion=\"GM\",\n",
    "                      verbose=False, debug=False)"
   ]
  },
  {
   "cell_type": "code",
   "execution_count": 125,
   "metadata": {
    "collapsed": false
   },
   "outputs": [],
   "source": [
    "for branch in allbranches:\n",
    "    plt.plot(branch[\"nout\"])\n",
    "             \n",
    "plt.show()"
   ]
  },
  {
   "cell_type": "code",
   "execution_count": 132,
   "metadata": {
    "collapsed": true
   },
   "outputs": [],
   "source": [
    "# pericentric distance = first local minimum in distance"
   ]
  },
  {
   "cell_type": "code",
   "execution_count": 145,
   "metadata": {
    "collapsed": true
   },
   "outputs": [],
   "source": [
    "#def measure_relative_angles(branch_p, branch_s, gcats, nouts_common):\n",
    "\n",
    "branch_p = allbranches[0]\n",
    "branch_s = allbranches[1]\n",
    "\n",
    "#nouts_common = np.intersect1d(branch_p[\"nout\"], branch_s[\"nout\"])\n",
    "# intersect1d automatically sort the result. \n",
    "nouts_common = branch_s[\"nout\"]\n",
    "\n",
    "gcats = [(hmo.Halo(nout=nout, is_gal=True), nout) for nout in nouts_common]"
   ]
  },
  {
   "cell_type": "code",
   "execution_count": 149,
   "metadata": {
    "collapsed": false
   },
   "outputs": [
    {
     "data": {
      "text/plain": [
       "array(13)"
      ]
     },
     "execution_count": 149,
     "metadata": {},
     "output_type": "execute_result"
    }
   ],
   "source": [
    "i_peri.squeeze()"
   ]
  },
  {
   "cell_type": "code",
   "execution_count": 155,
   "metadata": {
    "collapsed": false
   },
   "outputs": [
    {
     "name": "stdout",
     "output_type": "stream",
     "text": [
      "[rd_GM.rd_gal] fname= ./GalaxyMaker/GAL_00140/gal_stars_0000011\n",
      "[rd_GM.rd_gal] fname= ./GalaxyMaker/GAL_00140/gal_stars_0000103\n"
     ]
    },
    {
     "name": "stderr",
     "output_type": "stream",
     "text": [
      "/home/hoseung/mypy/lib/python3.5/site-packages/ipykernel/__main__.py:18: VisibleDeprecationWarning: using a boolean instead of an integer will result in an error in the future\n",
      "/home/hoseung/Work/pyclusterevol/galaxy/galaxy.py:135: VisibleDeprecationWarning: using a non-integer number instead of an integer will result in an error in the future\n",
      "  m_radial[i] = np.sum(m_sorted[ibins[i]:ibins[i+1]])\n",
      "/home/hoseung/mypy/lib/python3.5/site-packages/ipykernel/__main__.py:27: VisibleDeprecationWarning: using a boolean instead of an integer will result in an error in the future\n"
     ]
    }
   ],
   "source": [
    "from scipy.signal import argrelextrema\n",
    "#if 1 == 1:\n",
    "# Only overlapping nouts\n",
    "\n",
    "# position of All branches are already in the primary galaxy's rest frame.\n",
    "dd = np.sqrt(branch_s[\"x\"]**2 + \n",
    "             branch_s[\"y\"]**2 +\n",
    "             branch_s[\"z\"]**2)\n",
    "i_peri = argrelextrema(dd, np.less)[-1].squeeze()\n",
    "nout_peri = nouts_common[i_peri]\n",
    "\n",
    "info = load.info.Info(nout_peri)\n",
    "\n",
    "#gals = gcats[i_peri]\n",
    "gals = hmo.Halo(nout=nout_peri, is_gal=True)\n",
    "\n",
    "# primary galaxy\n",
    "idgal_pri = branch_p[\"Orig_halo_id\"][nout==nout_peri]\n",
    "gg = gals.data[gals.data[\"id\"] == idgal_pri]\n",
    "gm = load.rd_GM.rd_gal(nout_peri, idgal)\n",
    "gal_p = Galaxy(halo=gg, info=info)\n",
    "good_gal = gal_p.mk_gal(gm.star, gm.dm, gm.cell,\n",
    "                  unit_conversion=\"GM\",\n",
    "                  verbose=False, debug=False)\n",
    "\n",
    "# secondary galaxy\n",
    "idgal_sec = branch_s[\"Orig_halo_id\"][nout==nout_peri]\n",
    "gg = gals.data[gals.data[\"id\"] == idgal_sec]\n",
    "gm = load.rd_GM.rd_gal(nout_peri, idgal_sec)\n",
    "gal_s = Galaxy(halo=gg, info=info)\n",
    "good_gal = gal_s.mk_gal(gm.star, gm.dm, gm.cell,\n",
    "                  unit_conversion=\"GM\",\n",
    "                  verbose=False, debug=False)"
   ]
  },
  {
   "cell_type": "code",
   "execution_count": 158,
   "metadata": {
    "collapsed": false
   },
   "outputs": [
    {
     "data": {
      "text/plain": [
       "array([ 110.09422302], dtype=float32)"
      ]
     },
     "execution_count": 158,
     "metadata": {},
     "output_type": "execute_result"
    }
   ],
   "source": [
    "gal_p.meta.xc"
   ]
  },
  {
   "cell_type": "code",
   "execution_count": 161,
   "metadata": {
    "collapsed": false
   },
   "outputs": [
    {
     "data": {
      "text/plain": [
       "array([ 0.23815007, -0.07011495,  0.96869419])"
      ]
     },
     "execution_count": 161,
     "metadata": {},
     "output_type": "execute_result"
    }
   ],
   "source": [
    "gal_p.cal_norm_vec()"
   ]
  },
  {
   "cell_type": "code",
   "execution_count": 164,
   "metadata": {
    "collapsed": false
   },
   "outputs": [
    {
     "data": {
      "text/plain": [
       "array([ 0.23815007, -0.07011495,  0.96869419])"
      ]
     },
     "execution_count": 164,
     "metadata": {},
     "output_type": "execute_result"
    }
   ],
   "source": [
    "nvec_pri"
   ]
  },
  {
   "cell_type": "code",
   "execution_count": 165,
   "metadata": {
    "collapsed": false
   },
   "outputs": [
    {
     "data": {
      "text/plain": [
       "array([ 0.1852282 , -0.14924   ,  0.97129704])"
      ]
     },
     "execution_count": 165,
     "metadata": {},
     "output_type": "execute_result"
    }
   ],
   "source": [
    "nvec_sec"
   ]
  },
  {
   "cell_type": "code",
   "execution_count": 167,
   "metadata": {
    "collapsed": false
   },
   "outputs": [
    {
     "data": {
      "text/plain": [
       "array([ 659.88812776,  -74.20304598,  166.15854266])"
      ]
     },
     "execution_count": 167,
     "metadata": {},
     "output_type": "execute_result"
    }
   ],
   "source": [
    "vvec"
   ]
  },
  {
   "cell_type": "code",
   "execution_count": 166,
   "metadata": {
    "collapsed": false
   },
   "outputs": [
    {
     "data": {
      "text/plain": [
       "array([[-1.26268005],\n",
       "       [-0.80447388],\n",
       "       [-0.20435333]], dtype=float32)"
      ]
     },
     "execution_count": 166,
     "metadata": {},
     "output_type": "execute_result"
    }
   ],
   "source": [
    "rvec"
   ]
  },
  {
   "cell_type": "code",
   "execution_count": 169,
   "metadata": {
    "collapsed": false
   },
   "outputs": [
    {
     "data": {
      "text/plain": [
       "array([ 565.90055601,  463.20229575,  174.79636674])"
      ]
     },
     "execution_count": 169,
     "metadata": {},
     "output_type": "execute_result"
    }
   ],
   "source": [
    "v_pri"
   ]
  },
  {
   "cell_type": "code",
   "execution_count": 170,
   "metadata": {
    "collapsed": false
   },
   "outputs": [
    {
     "data": {
      "text/plain": [
       "array([ 110.09422302,  147.27996826,   99.37612915], dtype=float32)"
      ]
     },
     "execution_count": 170,
     "metadata": {},
     "output_type": "execute_result"
    }
   ],
   "source": [
    "p_pri.ravel()"
   ]
  },
  {
   "cell_type": "code",
   "execution_count": 172,
   "metadata": {
    "collapsed": false
   },
   "outputs": [
    {
     "name": "stderr",
     "output_type": "stream",
     "text": [
      "/home/hoseung/mypy/lib/python3.5/site-packages/ipykernel/__main__.py:21: RuntimeWarning: invalid value encountered in arccos\n",
      "/home/hoseung/mypy/lib/python3.5/site-packages/ipykernel/__main__.py:22: RuntimeWarning: invalid value encountered in arccos\n"
     ]
    }
   ],
   "source": [
    "gal_p.cal_norm_vec()\n",
    "gal_s.cal_norm_vec()\n",
    "nvec_pri = gal_p.meta.nvec\n",
    "nvec_sec = gal_s.meta.nvec\n",
    "# Angle between two galaxies\n",
    "\n",
    "\n",
    "# angle between orbital plane - spin of primary galaxy\n",
    "p_pri = np.array([gal_p.meta.xc, gal_p.meta.yc, gal_p.meta.zc]).ravel()\n",
    "p_sec = np.array([gal_s.meta.xc, gal_s.meta.yc, gal_s.meta.zc]).ravel()\n",
    "\n",
    "v_pri = np.array([gal_p.meta.vxc, gal_p.meta.vyc, gal_p.meta.vzc])\n",
    "v_sec = np.array([gal_s.meta.vxc, gal_s.meta.vyc, gal_s.meta.vzc])\n",
    "\n",
    "rvec = p_pri - p_sec\n",
    "vvec = v_pri - v_sec\n",
    "\n",
    "nvec_orbit = np.cross(rvec, vvec)\n",
    "\n",
    "# angle between orbital plane - spin of secondary galaxy\n",
    "ang_pri_orb = np.arccos(np.dot(nvec_pri, nvec_orbit) / )\n",
    "ang_sec_orb = np.arccos(np.dot(nvec_sec, nvec_orbit) / )\n",
    "\n",
    "# Determine orbital parameters ()\n",
    "# Orbital eccentricity / pericentric distance / orbit type (para, rad, ellip, hyper)\n",
    "# How...??\n",
    "\n",
    "\n",
    "# Special focus on values at the pericenter."
   ]
  },
  {
   "cell_type": "code",
   "execution_count": 177,
   "metadata": {
    "collapsed": false
   },
   "outputs": [
    {
     "data": {
      "text/plain": [
       "array([  22151.51393363,    5618.21298476,  390072.02906411])"
      ]
     },
     "execution_count": 177,
     "metadata": {},
     "output_type": "execute_result"
    }
   ],
   "source": [
    "nvec_orbit **2 "
   ]
  },
  {
   "cell_type": "code",
   "execution_count": 175,
   "metadata": {
    "collapsed": false
   },
   "outputs": [
    {
     "data": {
      "text/plain": [
       "array([ 0.05671546,  0.00491611,  0.93836844])"
      ]
     },
     "execution_count": 175,
     "metadata": {},
     "output_type": "execute_result"
    }
   ],
   "source": [
    "nvec_pri * nvec_pri"
   ]
  },
  {
   "cell_type": "code",
   "execution_count": 174,
   "metadata": {
    "collapsed": false
   },
   "outputs": [
    {
     "data": {
      "text/plain": [
       "564.30495208025513"
      ]
     },
     "execution_count": 174,
     "metadata": {},
     "output_type": "execute_result"
    }
   ],
   "source": [
    "np.dot(nvec_pri, nvec_orbit) / np."
   ]
  },
  {
   "cell_type": "code",
   "execution_count": 173,
   "metadata": {
    "collapsed": false
   },
   "outputs": [
    {
     "data": {
      "text/plain": [
       "nan"
      ]
     },
     "execution_count": 173,
     "metadata": {},
     "output_type": "execute_result"
    }
   ],
   "source": [
    "ang_pri_orb"
   ]
  },
  {
   "cell_type": "code",
   "execution_count": null,
   "metadata": {
    "collapsed": true
   },
   "outputs": [],
   "source": [
    "def get_merging_system():\n",
    "    \n",
    "    \n",
    "    "
   ]
  },
  {
   "cell_type": "code",
   "execution_count": null,
   "metadata": {
    "collapsed": true
   },
   "outputs": [],
   "source": [
    "def find_merger_epochs(alltrees,\n",
    "                       idx_all,\n",
    "                       mpgs,\n",
    "                       nout_ini=37,\n",
    "                       dist_gal_scale_in=2.0,\n",
    "                       dist_gal_scale_out =3.0,\n",
    "                       min_mass_ratio = 0.05,\n",
    "                       mass_ratio=\"early\",\n",
    "                       verbose=False,\n",
    "                       do_plot = False,\n",
    "                       pdf_fname='./merger_ratio.pdf',\n",
    "                       max_rgal=40):\n",
    "    \"\"\"\n",
    "    Parameters\n",
    "    ----------\n",
    "    dist_gal_scale \n",
    "        if two galaxies are closer than dist_gal_scale * (sum of raidus of the two),\n",
    "        that epoch is the nout_init_merger.\n",
    "    nout_ini\n",
    "        blabla\n",
    "    \"\"\"\n",
    "    gal_list=[]\n",
    "    mr_list=[]\n",
    "    nout_list=[]\n",
    "    nout_ini_list=[] # initial time when two halos(Galaxy stellar components in this case) overlap. \n",
    "\n",
    "    #for idx in idx_all:\n",
    "    if do_plot:\n",
    "        from matplotlib.backends.backend_pdf import PdfPages\n",
    "        fig, ax = plt.subplots(1, sharex=True)\n",
    "        pdf = PdfPages(pdf_fname)\n",
    "    else:\n",
    "        ax = None\n",
    "\n",
    "    for gal in mpgs:\n",
    "        idx = gal.data['idx'][0]\n",
    "        # full tree of a galaxy\n",
    "        atree = ctu.extract_a_tree(alltrees.data, idx)\n",
    "\n",
    "        # main progenitor tree\n",
    "        main = ctu.extract_main_tree(atree, idx)\n",
    "        main_nout = main['nout'].flatten()\n",
    "        i_nout_ok = main_nout > nout_ini\n",
    "        main = main[i_nout_ok]\n",
    "        #x_nout = x_nout[i_nout_ok]\n",
    "        pos = np.zeros((3,len(main)))\n",
    "        pos[0,:] = main['x']\n",
    "        pos[1,:] = main['y']\n",
    "        pos[2,:] = main['z']\n",
    "\n",
    "\n",
    "        ## 왜 len(main)?\n",
    "        mass_ratios_single = np.zeros(len(main))\n",
    "        nout_inits = np.zeros(len(main))\n",
    "        #print(\"log M* ={}\".format(np.log10(gal.data[\"mstar\"][0])))\n",
    "\n",
    "        ## Substitute main[\"r\"] with gal.data[\"reff\"]\n",
    "        if len(main) < len(gal.smoothed_r):\n",
    "            main[\"r\"] = gal.smoothed_r[:len(main)]\n",
    "        elif len(main) > len(gal.smoothed_r):\n",
    "            main[\"r\"][:len(gal.smoothed_r)] = gal.smoothed_r\n",
    "        elif len(main) == len(gal.smoothed_r):\n",
    "            main[\"r\"] = gal.smoothed_r\n",
    "\n",
    "        for i, nout in enumerate(main['nout']):\n",
    "            # merger ratio\n",
    "            # First, check if there are multiple progenitors.\n",
    "            i_prgs = np.where(atree['desc_id'] == main['id'][i])[0]\n",
    "\n",
    "            # multiple prgs = merger\n",
    "            if len(i_prgs) > 1:\n",
    "                if verbose:\n",
    "                    print(\"idx:{}, {} Progenitors at nout = {}\".format(main[\"id\"][0], len(i_prgs), nout))\n",
    "\n",
    "                #print(\"i, inout_mpgs\", i, np.where(gal.nouts == nout)[0])\n",
    "                #print(gal.data[\"reff\"][i])\n",
    "\n",
    "                # Mass ratio must be calculated inside get_merger_info. \n",
    "\n",
    "                id_prgs = atree['id'][i_prgs]\n",
    "                mass_prgs = atree['m'][i_prgs]\n",
    "                #m_r = mass_prgs / max(mass_prgs)\n",
    "\n",
    "                # Progenitor with maximum mass at the FINAL COALESCENCE is the main progenitor.\n",
    "                # Others are satellites.\n",
    "                sats = id_prgs[mass_prgs < max(mass_prgs)]\n",
    "                \n",
    "                mass_ratios_now=[]\n",
    "                nout_inits_now=[]\n",
    "\n",
    "                # loop over satellites at a given nout.\n",
    "                for this_sat in sats:\n",
    "                    n_i_t, mass_this_sat = get_merger_info(main, atree, this_sat,\n",
    "                                                           dist_gal_scale_in=dist_gal_scale_in,\n",
    "                                                           dist_gal_scale_out = dist_gal_scale_out,\n",
    "                                                           do_plot=do_plot,\n",
    "                                                           ax=ax,\n",
    "                                                           max_rgal=max_rgal)\n",
    "\n",
    "                    mass_ratio = mass_this_sat / max(mass_prgs)\n",
    "                    if do_plot:\n",
    "                        ax.text(40, 600, \"{:.3f}\".format(mass_ratio))\n",
    "                        pdf.savefig()\n",
    "                        ax.clear()\n",
    "                    if mass_ratio > min_mass_ratio:\n",
    "                        nout_inits_now.append(n_i_t)\n",
    "                        mass_ratios_now.append(mass_ratio)\n",
    "                if len(nout_inits_now) > 0:\n",
    "                    i_main_merger = np.argmax(np.array(mass_ratios_now))\n",
    "                    mass_ratios_single[i] = mass_ratios_now[i_main_merger]\n",
    "                    nout_inits[i] = nout_inits_now[i_main_merger]\n",
    "                else:\n",
    "                    mass_ratios_single[i] = -1\n",
    "                    nout_inits[i] = -1\n",
    "\n",
    "                #if verbose:\n",
    "                #    print(\" Mass ratios {} at nout = {}: \".format(m_r, nout_inits[i]))\n",
    "                #if do_plot:\n",
    "                #    pdf.savefig()\n",
    "                    #ax.clear()\n",
    "\n",
    "            else:\n",
    "                mass_ratios_single[i] = 0\n",
    "            ##--------------------------------------------------\n",
    "\n",
    "        ind_ok = np.where(mass_ratios_single > 0.01)[0]\n",
    "        if len(ind_ok) > 0:\n",
    "            # if a satellite oscillates around the host, \n",
    "            # it could be identified as multiple mergers with short time interval. \n",
    "            # leave only the first passage / merger.\n",
    "            # No, it doesn't happen in ConsistentTrees.\n",
    "\n",
    "            #good =[]\n",
    "            #for i in range(len(ind_ok)-1):\n",
    "            #    if ind_ok[i+1] > ind_ok[i] + 2:\n",
    "            #        good.append(ind_ok[i])\n",
    "            #good.append(ind_ok[-1])\n",
    "            #ind_ok = good\n",
    "            mr = 1./mass_ratios_single[ind_ok]\n",
    "\n",
    "            gal_list.append(idx)\n",
    "            mr_list.append(mr)\n",
    "            nout_list.append(main_nout[ind_ok])\n",
    "            nout_ini_list.append(nout_inits[ind_ok])\n",
    "            print(idx)\n",
    "    if do_plot:\n",
    "        pdf.close()\n",
    "\n",
    "    inds=[]\n",
    "    for i, gal in enumerate(mpgs):\n",
    "        galid = gal.data['idx'][0]\n",
    "        ind = np.where(galid == gal_list)[0]\n",
    "        if len(ind) > 0:\n",
    "            inds.append(i)\n",
    "            merger = Merger()\n",
    "            merger.mr = mr_list[ind]\n",
    "            merger.nout = nout_list[ind]\n",
    "            merger.nout_ini = nout_ini_list[ind]\n",
    "            gal.merger = merger\n",
    "        else:\n",
    "            gal.merger = None\n",
    "\n"
   ]
  },
  {
   "cell_type": "code",
   "execution_count": null,
   "metadata": {
    "collapsed": true
   },
   "outputs": [],
   "source": [
    "def body(clusters,\n",
    "         dist_gal_scale_in=5,\n",
    "         dist_gal_scale_out=10,\n",
    "         dt_before=0.5,\n",
    "         dt_after=0.5,\n",
    "         dt_settle=0.5,\n",
    "         load=False,\n",
    "         nout_ini = 37,\n",
    "         filter_small=True,\n",
    "         min_mass_ratio = 0.05,\n",
    "         measure_delta_savefig=False,\n",
    "         find_merger_epoch_plot=False,\n",
    "         cdir=\"\"):\n",
    "\n",
    "    suffix = \"_{}_{}_{}_{}_{}_{}_{}\".format(dist_gal_scale_in,\n",
    "    dist_gal_scale_out,dt_before,dt_after,dt_settle,nout_ini,\n",
    "                                           min_mass_ratio)\n",
    "    if filter_small: \n",
    "        suffix = suffix + \"_filtered_\"\n",
    "\n",
    "    if load:\n",
    "        return pickle.load(open(\"main_prgs_final_augmented\" + suffix + \".pickle\", 'rb'))\n",
    "        \n",
    "    else:\n",
    "        mpgs = []\n",
    "        for cluster in clusters:\n",
    "            print(cluster)\n",
    "            wdir = base + cluster + '/'\n",
    "\n",
    "            # Serialize catalogs. -> Only main galaxies\n",
    "            # main galaxy list\n",
    "            alltrees = ctu.load_tree(wdir, is_gal=True)\n",
    "            ad = alltrees.data\n",
    "            tn = ad[ad['nout'] == nout_fi]\n",
    "\n",
    "            cat = load_cat(wdir + cdir + 'catalog' + str(nout_fi) + '.pickle')\n",
    "            #idx_all = [tn['id'][tn['Orig_halo_id'] == id_final][0] for id_final in cat['id']]\n",
    "            idx_all = cat['idx'][cat[\"idx\"] > 0].astype(int) # why idx are float???\n",
    "\n",
    "            mpg_tmp = []\n",
    "            for i, idx in enumerate(idx_all):\n",
    "                #print(i, idx)\n",
    "\n",
    "                mpg_tmp.append(MainPrg(ad, idx))\n",
    "            #    mpg_tmp =[MainPrg(ad, idx) for idx in idx_all]\n",
    "            for nout in range(nout_ini, nout_fi + 1):\n",
    "                cat = load_cat(wdir + cdir + 'catalog' + str(nout) + '.pickle')\n",
    "                for gal in mpg_tmp:\n",
    "                    gal.set_data(cat, nout)\n",
    "                    gal.cluster = int(cluster)\n",
    "        #        print(nout)\n",
    "            # get rid of galaxies with too short tree.\n",
    "            mpg_tmp = [gg for gg in mpg_tmp if sum(gg.data[\"reff\"] > 0) > minimum_good_snap]\n",
    "            for gal in mpg_tmp:\n",
    "                gal.fill_missing_data()\n",
    "                gal.clip_non_detection()\n",
    "                gal.smoothed_lambda_org = mma.smooth(gal.data[\"lambda_r\"], window_len=15)[:-1]\n",
    "                gal.smoothed_r = mma.smooth(gal.data[\"reff\"], window_len=15)[:-1]\n",
    "                gal.smoothed_lambda = mma.smooth(l_at_smoothed_r(gal, npix_per_reff=5), window_len=15)[:-1]\n",
    "\n",
    "            # save for each cluser\n",
    "            with open(wdir + \"main_prgs\" + suffix + \".pickle\", \"wb\") as f:\n",
    "                pickle.dump(mpg_tmp, f)    \n",
    "                \n",
    "            # Find_merger_epochs needs smoothed_r\n",
    "            find_merger_epochs(alltrees,\n",
    "                               idx_all,\n",
    "                               mpg_tmp,\n",
    "                               nout_ini=nout_ini,\n",
    "                               dist_gal_scale_in=dist_gal_scale_in,\n",
    "                               dist_gal_scale_out=dist_gal_scale_out,\n",
    "                               min_mass_ratio = min_mass_ratio,\n",
    "                               mass_ratio='early',\n",
    "                               verbose=False,\n",
    "                               do_plot=find_merger_epoch_plot,\n",
    "                               max_rgal=40,\n",
    "                               pdf_fname=str(cluster) + \"merger_ratio_epoch\" + suffix + \".pdf\")\n"
   ]
  }
 ],
 "metadata": {
  "kernelspec": {
   "display_name": "Python 3",
   "language": "python",
   "name": "python3"
  },
  "language_info": {
   "codemirror_mode": {
    "name": "ipython",
    "version": 3
   },
   "file_extension": ".py",
   "mimetype": "text/x-python",
   "name": "python",
   "nbconvert_exporter": "python",
   "pygments_lexer": "ipython3",
   "version": "3.5.1+"
  }
 },
 "nbformat": 4,
 "nbformat_minor": 0
}
