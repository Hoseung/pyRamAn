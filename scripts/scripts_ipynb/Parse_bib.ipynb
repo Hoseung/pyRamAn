{
 "metadata": {
  "name": "",
  "signature": "sha256:4e1f7e5c5ab1d1451aef2feb4bf31bb570ad35789b1c011c50b55151b66a13bf"
 },
 "nbformat": 3,
 "nbformat_minor": 0,
 "worksheets": [
  {
   "cells": [
    {
     "cell_type": "markdown",
     "metadata": {},
     "source": [
      "# Mendely bib output parse"
     ]
    },
    {
     "cell_type": "code",
     "collapsed": false,
     "input": [
      "import re\n",
      "def parse_name(l):\n",
      "    \"\"\"\n",
      "        Assuming no other than alpahbets and number are used.\n",
      "    \"\"\"    \n",
      "    return(re.split('\\W+', l)[2])\n",
      "\n",
      "def remove_parenthesis(l):\n",
      "    l = l.replace(\"{\", \"\", 1) # only the first occurence\n",
      "    l = l[::-1].replace(\"}\", \"\", 1) # only the last occurence\n",
      "    return l[::-1]\n",
      "\n",
      "def parse_general(l):   \n",
      "    # Can I do this faster..?\n",
      "    if l[-1] == \",\":\n",
      "        l = l[:-1]\n",
      "    remove_parenthesis(l)\n",
      "\n",
      "    splitted = l.split(maxsplit=2)\n",
      "    #name = splitted[0] # name\n",
      "    body = splitted[2]\n",
      "    body = remove_parenthesis(splitted[2]) # body\n",
      "    return splitted[0], body\n",
      "\n",
      "\n",
      "class BibEntry():\n",
      "    def __init__(self, name):\n",
      "        self.name = name\n",
      "        \n",
      "    def save_field(self, name_and_content):\n",
      "        setattr(self, name_and_content[0], name_and_content[1])"
     ],
     "language": "python",
     "metadata": {},
     "outputs": [],
     "prompt_number": 19
    },
    {
     "cell_type": "code",
     "collapsed": false,
     "input": [
      "f=open(\"/home/hoseung/MEGA/Research/Rotators/writing/Rotators.bib\", 'r')\n",
      "wholefile = [line.rstrip() for line in f]\n",
      "#wholefile = f.readlines()"
     ],
     "language": "python",
     "metadata": {},
     "outputs": [],
     "prompt_number": 21
    },
    {
     "cell_type": "code",
     "collapsed": false,
     "input": [
      "# Search for starting points of each entry\n",
      "entrymarker=[]\n",
      "bibs=[]\n",
      "for i, l in enumerate(wholefile):\n",
      "    if l.startswith(\"@article\"):\n",
      "        bibs.append(BibEntry(parse_name(l)))\n",
      "        entrymarker.append(i)\n",
      "    \n",
      "#for i in range(len(entrymarker) -1):\n",
      "for i in range(2):\n",
      "    anEntry = bibs[i] # a BibEntry calss\n",
      "    for j in range(entrymarker[i]+1, entrymarker[i+1]-1): \n",
      "        # skip the first line (name)\n",
      "        # and the last line (empty)\n",
      "        anEntry.save_field(parse_general(wholefile[j]))\n",
      "    "
     ],
     "language": "python",
     "metadata": {},
     "outputs": [],
     "prompt_number": 22
    },
    {
     "cell_type": "code",
     "collapsed": false,
     "input": [
      "a = bibs[0]"
     ],
     "language": "python",
     "metadata": {},
     "outputs": [],
     "prompt_number": 23
    },
    {
     "cell_type": "markdown",
     "metadata": {},
     "source": [
      "I want to get rid of { and }"
     ]
    },
    {
     "cell_type": "code",
     "collapsed": false,
     "input": [
      "a.arxivId"
     ],
     "language": "python",
     "metadata": {},
     "outputs": [
      {
       "metadata": {},
       "output_type": "pyout",
       "prompt_number": 24,
       "text": [
        "'1210.8150'"
       ]
      }
     ],
     "prompt_number": 24
    },
    {
     "cell_type": "code",
     "collapsed": false,
     "input": [
      "ad = a.__dict__"
     ],
     "language": "python",
     "metadata": {},
     "outputs": [],
     "prompt_number": 29
    },
    {
     "cell_type": "markdown",
     "metadata": {},
     "source": [
      "Determine field order \n",
      "construct unique set of all field names and sort in alphabetical order.\n",
      "save name in list (not in dict) so that each entry has an index."
     ]
    },
    {
     "cell_type": "code",
     "collapsed": false,
     "input": [
      "def dump_class(aclass, field_order):\n",
      "    \"\"\"\n",
      "        \n",
      "    \"\"\"\n",
      "    adict = aclass.__dict__\n",
      "    for key in sorted(adict.keys()):\n",
      "        \n",
      "\n",
      "def save_dict_scalar(cc,f, delim=\"   \"):\n",
      "    import collections\n",
      "    keys=[]\n",
      "    data=[]\n",
      "    for key in sorted(cc.keys()):\n",
      "        if isinstance(cc[key], collections.Iterable):\n",
      "            continue\n",
      "        else:\n",
      "            f.write(str(cc[key]) + delim)\n",
      "    f.write(\"\\n\")\n"
     ],
     "language": "python",
     "metadata": {},
     "outputs": []
    },
    {
     "cell_type": "code",
     "collapsed": false,
     "input": [
      "ad.keys()"
     ],
     "language": "python",
     "metadata": {},
     "outputs": [
      {
       "metadata": {},
       "output_type": "pyout",
       "prompt_number": 31,
       "text": [
        "dict_keys(['volume', 'name', 'title', 'keywords', 'abstract', 'issn', 'author', 'file', 'eprint', 'arxivId', 'journal', 'doi', 'archivePrefix', 'pages', 'year', 'url'])"
       ]
      }
     ],
     "prompt_number": 31
    },
    {
     "cell_type": "code",
     "collapsed": false,
     "input": [
      "import csv\n",
      "with open('eggs.csv', 'w', newline='') as csvfile:\n",
      "    spamwriter = csv.writer(csvfile, delimiter=' ',\n",
      "                            quotechar='|', quoting=csv.QUOTE_MINIMAL)\n",
      "    spamwriter.writerow(['Spam'] * 5 + ['Baked Beans'])\n",
      "    spamwriter.writerow(['Spam', 'Lovely Spam', 'Wonderful Spam'])"
     ],
     "language": "python",
     "metadata": {},
     "outputs": [],
     "prompt_number": 25
    },
    {
     "cell_type": "code",
     "collapsed": false,
     "input": [],
     "language": "python",
     "metadata": {},
     "outputs": []
    }
   ],
   "metadata": {}
  }
 ]
}