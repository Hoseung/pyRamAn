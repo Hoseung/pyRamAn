{
 "cells": [
  {
   "cell_type": "markdown",
   "metadata": {},
   "source": [
    "# sub sample by density"
   ]
  },
  {
   "cell_type": "code",
   "execution_count": 8,
   "metadata": {
    "collapsed": true
   },
   "outputs": [],
   "source": [
    "import pickle\n",
    "import load\n",
    "import numpy as np\n",
    "import matplotlib.pyplot as plt\n",
    "from tree import halomodule as hmo\n",
    "import numpy.lib.recfunctions as rcfuncs"
   ]
  },
  {
   "cell_type": "code",
   "execution_count": 3,
   "metadata": {
    "collapsed": false
   },
   "outputs": [
    {
     "name": "stdout",
     "output_type": "stream",
     "text": [
      "/home/hoseung/Work/data/Horizon-AGN/\n",
      "[Halo.load_info] loading info\n",
      "[Halo.load_info] nout = 782, base =/home/hoseung/Work/data/Horizon-AGN/\n"
     ]
    }
   ],
   "source": [
    "wdir = \"/home/hoseung/Work/data/Horizon-AGN/\"\n",
    "print(wdir)\n",
    "\n",
    "gcat = hmo.Halo(nout=782, is_gal=True, base=wdir)\n",
    "\n",
    "x = gcat.data[\"x\"]\n",
    "y = gcat.data[\"y\"]\n",
    "z = gcat.data[\"z\"]\n",
    "\n",
    "x_ind = np.argsort(x)\n",
    "y_ind = np.argsort(y)\n",
    "z_ind = np.argsort(z)"
   ]
  },
  {
   "cell_type": "code",
   "execution_count": 4,
   "metadata": {
    "collapsed": false
   },
   "outputs": [],
   "source": [
    "d5=[]\n",
    "N5=[]\n",
    "\n",
    "Ncut = 50000\n",
    "\n",
    "for i, gal in enumerate(gcat.data):\n",
    "    xg,yg,zg = gal[\"x\"],gal[\"y\"],gal[\"z\"]\n",
    "    x_ok = np.abs(x_ind - xg) < Ncut\n",
    "    y_ok = np.abs(y_ind - yg) < Ncut\n",
    "    z_ok = np.abs(z_ind - zg) < Ncut\n",
    "    #all_ok = np.abs(z_ind[xy_ok] - zg) < 5000\n",
    "    \n",
    "    all_ok = np.where(x_ok * y_ok * z_ok)[0]\n",
    "    \n",
    "    dist = np.sqrt(np.square(xg - x[all_ok]) + \n",
    "                   np.square(yg - y[all_ok]) + \n",
    "                   np.square(zg - z[all_ok]))\n",
    "    \n",
    "    d5.append(sorted(dist)[5] * gcat.info.pboxsize) # 0 = itself.\n",
    "    N5.append(sum(dist < 5/gcat.info.pboxsize))\n",
    "    #print(len(all_ok), d5, N5)"
   ]
  },
  {
   "cell_type": "code",
   "execution_count": 15,
   "metadata": {
    "collapsed": false
   },
   "outputs": [
    {
     "ename": "FileNotFoundError",
     "evalue": "[Errno 2] No such file or directory: '/home/hoseung/Work/data/Horizon-AGN/fatherID.pickle'",
     "output_type": "error",
     "traceback": [
      "\u001b[1;31m---------------------------------------------------------------------------\u001b[0m",
      "\u001b[1;31mFileNotFoundError\u001b[0m                         Traceback (most recent call last)",
      "\u001b[1;32m<ipython-input-15-628b392dd600>\u001b[0m in \u001b[0;36m<module>\u001b[1;34m()\u001b[0m\n\u001b[1;32m----> 1\u001b[1;33m \u001b[0mfatherID\u001b[0m \u001b[1;33m=\u001b[0m \u001b[0mpickle\u001b[0m\u001b[1;33m.\u001b[0m\u001b[0mload\u001b[0m\u001b[1;33m(\u001b[0m\u001b[0mopen\u001b[0m\u001b[1;33m(\u001b[0m\u001b[0mwdir\u001b[0m \u001b[1;33m+\u001b[0m \u001b[1;34m\"fatherID.pickle\"\u001b[0m\u001b[1;33m,\u001b[0m \u001b[1;34m\"rb\"\u001b[0m\u001b[1;33m)\u001b[0m\u001b[1;33m)\u001b[0m\u001b[1;33m\u001b[0m\u001b[0m\n\u001b[0m\u001b[0;32m      2\u001b[0m \u001b[0mfatherIDx\u001b[0m \u001b[1;33m=\u001b[0m \u001b[0mpickle\u001b[0m\u001b[1;33m.\u001b[0m\u001b[0mload\u001b[0m\u001b[1;33m(\u001b[0m\u001b[0mopen\u001b[0m\u001b[1;33m(\u001b[0m\u001b[0mwdir\u001b[0m \u001b[1;33m+\u001b[0m \u001b[1;34m\"fatherIDx.pickle\"\u001b[0m\u001b[1;33m,\u001b[0m \u001b[1;34m\"rb\"\u001b[0m\u001b[1;33m)\u001b[0m\u001b[1;33m)\u001b[0m\u001b[1;33m\u001b[0m\u001b[0m\n\u001b[0;32m      3\u001b[0m \u001b[0mfatherMass\u001b[0m \u001b[1;33m=\u001b[0m \u001b[0mpickle\u001b[0m\u001b[1;33m.\u001b[0m\u001b[0mload\u001b[0m\u001b[1;33m(\u001b[0m\u001b[0mopen\u001b[0m\u001b[1;33m(\u001b[0m\u001b[0mwdir\u001b[0m \u001b[1;33m+\u001b[0m \u001b[1;34m\"fatherMass.pickle\"\u001b[0m\u001b[1;33m,\u001b[0m \u001b[1;34m\"rb\"\u001b[0m\u001b[1;33m)\u001b[0m\u001b[1;33m)\u001b[0m\u001b[1;33m\u001b[0m\u001b[0m\n\u001b[0;32m      4\u001b[0m \u001b[0mtt\u001b[0m \u001b[1;33m=\u001b[0m \u001b[0mpickle\u001b[0m\u001b[1;33m.\u001b[0m\u001b[0mload\u001b[0m\u001b[1;33m(\u001b[0m\u001b[0mopen\u001b[0m\u001b[1;33m(\u001b[0m\u001b[0mwdir\u001b[0m \u001b[1;33m+\u001b[0m \u001b[1;34m\"Tree.pickle\"\u001b[0m\u001b[1;33m,\u001b[0m \u001b[1;34m\"rb\"\u001b[0m\u001b[1;33m)\u001b[0m\u001b[1;33m)\u001b[0m\u001b[1;33m\u001b[0m\u001b[0m\n\u001b[0;32m      5\u001b[0m \u001b[1;33m\u001b[0m\u001b[0m\n",
      "\u001b[1;31mFileNotFoundError\u001b[0m: [Errno 2] No such file or directory: '/home/hoseung/Work/data/Horizon-AGN/fatherID.pickle'"
     ]
    }
   ],
   "source": [
    "fatherID = pickle.load(open(wdir + \"fatherID.pickle\", \"rb\"))\n",
    "fatherIDx = pickle.load(open(wdir + \"fatherIDx.pickle\", \"rb\"))\n",
    "fatherMass = pickle.load(open(wdir + \"fatherMass.pickle\", \"rb\"))\n",
    "tt = pickle.load(open(wdir + \"Tree.pickle\", \"rb\"))\n",
    "\n",
    "t_now = tt[tt['zred'] == tt[\"zred\"][-1]] # zred = 0.017xx?"
   ]
  },
  {
   "cell_type": "code",
   "execution_count": 11,
   "metadata": {
    "collapsed": false
   },
   "outputs": [],
   "source": [
    "d5 = np.array(d5)\n",
    "N5 = np.array(N5)\n",
    "rcfuncs.append_fields(gcat.data, [\"D5\", \"N5\"], data=[d5, N5], usemask=False)\n",
    "pickle.dump(gcat, open(wdir + \"catalog_density_augmented.pickle\", \"wb\"))"
   ]
  },
  {
   "cell_type": "code",
   "execution_count": 14,
   "metadata": {
    "collapsed": false
   },
   "outputs": [],
   "source": [
    "ind_chunks = np.array_split(np.argsort(d5), 20)\n",
    "for i in range(20):\n",
    "    ids = gcat.data[\"id\"][ind_chunks[i]]\n",
    "    final_gals = [t_now['idx'][gid-1] for gid in ids] # Every final galaxy has (short or long) tree.\n",
    "\n",
    "    np.savetxt(wdir + \"density_ \" + str(i * 5) + \"percentile_IDs.txt\", (ids, final_gals), fmt='%10d')"
   ]
  },
  {
   "cell_type": "code",
   "execution_count": 10,
   "metadata": {
    "collapsed": false
   },
   "outputs": [],
   "source": [
    "ids, final_gals = np.genfromtxt(wdir + \"top5_dense_IDs.txt\", dtype=int)"
   ]
  },
  {
   "cell_type": "code",
   "execution_count": 61,
   "metadata": {
    "collapsed": true
   },
   "outputs": [],
   "source": [
    "def extract_main_tree(t, idx, fatherID, fatherMass):\n",
    "    \"\"\" \n",
    "    Extracts \n",
    "    \"\"\"\n",
    "    import numpy as np\n",
    "    t_now = t[idx]\n",
    "    nstep = t_now[\"nstep\"]\n",
    "    nouts = [nstep]\n",
    "    atree = np.zeros(nstep + 1, dtype=t.dtype)\n",
    "    atree[0]=t_now\n",
    "\n",
    "    for i in range(1, nstep + 1): \n",
    "        try:\n",
    "            #id_father = fatherID[t[\"flist_index\"][idx]]\n",
    "            id_father = fatherID[idx]\n",
    "            #print('id_father', id_father)\n",
    "            if len(id_father) > 1:\n",
    "                #mass_father = fatherMass[t[\"flist_index\"][idx]]\n",
    "                mass_father = fatherMass[idx]\n",
    "                #print(mass_father)\n",
    "                id_father_main = id_father[np.argmax(mass_father)]\n",
    "                #print('id_father_main', id_father_main)\n",
    "                #ind_father = id_father[id_father > 0] -1\n",
    "                #print('ind_father', ind_father)\n",
    "                #nstep -= 1\n",
    "                #id_father = ind_father-1\n",
    "                #t_father = t[np.where(t[\"nstep\"] == nstep)[0]][ind_father]\n",
    "                #print(nstep)\n",
    "                #t_father = t[np.where(t[\"nstep\"] == nstep)[0]][id_father_main-1]\n",
    "                t_father = t[id_father_main-1]\n",
    "                idx = t_father[\"idx\"]\n",
    "                #print('idx',idx)\n",
    "                atree[i]=t_father\n",
    "                nouts.append(nstep)\n",
    "            else:\n",
    "                break\n",
    "        except:\n",
    "            break\n",
    "    return atree\n"
   ]
  },
  {
   "cell_type": "code",
   "execution_count": 62,
   "metadata": {
    "collapsed": false
   },
   "outputs": [],
   "source": [
    "import tree.hmutils as hmu\n",
    "\n",
    "allgals=[]\n",
    "for final_idx in final_gals:\n",
    "    atree = extract_main_tree(tt, final_idx, fatherIDx, fatherMass)\n",
    "    allgals.append(rcfuncs.append_fields(atree,\n",
    "                                         \"tree_root_id\",\n",
    "                                         data=np.full(len(atree),final_idx, dtype=np.int64),\n",
    "                                         usemask=False))\n",
    "    # Add main progenitor tag\n",
    "\n",
    "zred_complete = 3.0 # tree starting from earlier than\n",
    "allgals = [ag for ag in allgals if max(ag[\"zred\"] > zred_complete)]    \n",
    "pickle.dump(np.array(allgals), open(wdir +\"All_dense_tree.pickle\", \"wb\"))\n"
   ]
  },
  {
   "cell_type": "code",
   "execution_count": null,
   "metadata": {
    "collapsed": true
   },
   "outputs": [],
   "source": []
  }
 ],
 "metadata": {
  "kernelspec": {
   "display_name": "Python 3",
   "language": "python",
   "name": "python3"
  },
  "language_info": {
   "codemirror_mode": {
    "name": "ipython",
    "version": 3
   },
   "file_extension": ".py",
   "mimetype": "text/x-python",
   "name": "python",
   "nbconvert_exporter": "python",
   "pygments_lexer": "ipython3",
   "version": "3.5.1+"
  }
 },
 "nbformat": 4,
 "nbformat_minor": 0
}
