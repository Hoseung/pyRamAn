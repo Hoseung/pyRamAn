{
 "cells": [
  {
   "cell_type": "markdown",
   "metadata": {},
   "source": [
    "# sub sample by density"
   ]
  },
  {
   "cell_type": "code",
   "execution_count": 1,
   "metadata": {
    "collapsed": true
   },
   "outputs": [],
   "source": [
    "import pickle\n",
    "import load\n",
    "import numpy as np\n",
    "import matplotlib.pyplot as plt\n",
    "from tree import halomodule as hmo"
   ]
  },
  {
   "cell_type": "code",
   "execution_count": 4,
   "metadata": {
    "collapsed": false
   },
   "outputs": [
    {
     "name": "stdout",
     "output_type": "stream",
     "text": [
      "/media/hoseung/btrfs/Horizon-AGN/\n"
     ]
    }
   ],
   "source": [
    "wdir = %pwd\n",
    "wdir = wdir + '/'\n",
    "print(wdir)"
   ]
  },
  {
   "cell_type": "code",
   "execution_count": 5,
   "metadata": {
    "collapsed": false
   },
   "outputs": [
    {
     "name": "stdout",
     "output_type": "stream",
     "text": [
      "[Halo.load_info] loading info\n",
      "[Halo.load_info] nout = 782, base =/media/hoseung/btrfs/Horizon-AGN/\n"
     ]
    }
   ],
   "source": [
    "gcat = hmo.Halo(nout=782, is_gal=True, base=wdir)"
   ]
  },
  {
   "cell_type": "code",
   "execution_count": 6,
   "metadata": {
    "collapsed": true
   },
   "outputs": [],
   "source": [
    "x = gcat.data[\"x\"]\n",
    "y = gcat.data[\"y\"]\n",
    "z = gcat.data[\"z\"]"
   ]
  },
  {
   "cell_type": "code",
   "execution_count": 7,
   "metadata": {
    "collapsed": true
   },
   "outputs": [],
   "source": [
    "x_ind = np.argsort(x)\n",
    "y_ind = np.argsort(y)\n",
    "z_ind = np.argsort(z)"
   ]
  },
  {
   "cell_type": "code",
   "execution_count": 52,
   "metadata": {
    "collapsed": false
   },
   "outputs": [],
   "source": [
    "d5=[]\n",
    "N5=[]\n",
    "\n",
    "Ncut = 50000\n",
    "\n",
    "for i, gal in enumerate(gcat.data):\n",
    "    xg,yg,zg = gal[\"x\"],gal[\"y\"],gal[\"z\"]\n",
    "    x_ok = np.abs(x_ind - xg) < Ncut\n",
    "    y_ok = np.abs(y_ind - yg) < Ncut\n",
    "    z_ok = np.abs(z_ind - zg) < Ncut\n",
    "    #all_ok = np.abs(z_ind[xy_ok] - zg) < 5000\n",
    "    \n",
    "    all_ok = np.where(x_ok * y_ok * z_ok)[0]\n",
    "    \n",
    "    dist = np.sqrt(np.square(xg - x[all_ok]) + \n",
    "                   np.square(yg - y[all_ok]) + \n",
    "                   np.square(zg - z[all_ok]))\n",
    "    \n",
    "    d5.append(sorted(dist)[5] * gcat.info.pboxsize) # 0 = itself.\n",
    "    N5.append(sum(dist < 5/gcat.info.pboxsize))\n",
    "    #print(len(all_ok), d5, N5)"
   ]
  },
  {
   "cell_type": "code",
   "execution_count": 96,
   "metadata": {
    "collapsed": false
   },
   "outputs": [],
   "source": [
    "d5_90 = d5[np.argsort(d5)[np.ceil(0.95 * len(d5)).astype(int)]]\n",
    "i_isol = np.where(d5 >= d5_90)[0]\n",
    "\n",
    "d5_10 = d5[np.argsort(d5)[np.ceil(0.05 * len(d5)).astype(int)]]\n",
    "i_dense = np.where(d5 <= d5_10)[0]"
   ]
  },
  {
   "cell_type": "code",
   "execution_count": 101,
   "metadata": {
    "collapsed": false
   },
   "outputs": [
    {
     "data": {
      "text/plain": [
       "<matplotlib.collections.PathCollection at 0x7f2cfc08b5c0>"
      ]
     },
     "execution_count": 101,
     "metadata": {},
     "output_type": "execute_result"
    }
   ],
   "source": [
    "fig, ax = plt.subplots(1,2)\n",
    "ax[0].hist2d(gcat.data[\"x\"], gcat.data[\"y\"], bins=400)\n",
    "ax[1].hist2d(gcat.data[\"x\"], gcat.data[\"y\"], bins=400)\n",
    "ax[0].scatter(gcat.data[\"x\"][i_dense], gcat.data[\"y\"][i_dense])\n",
    "\n",
    "plt.show()"
   ]
  },
  {
   "cell_type": "code",
   "execution_count": 11,
   "metadata": {
    "collapsed": false
   },
   "outputs": [],
   "source": [
    "ids = gcat.data[\"id\"][i_dense]\n",
    "fatherID = pickle.load(open(wdir + \"fatherID.pickle\", \"rb\"))\n",
    "fatherIDx = pickle.load(open(wdir + \"fatherIDx.pickle\", \"rb\"))\n",
    "fatherMass = pickle.load(open(wdir + \"fatherMass.pickle\", \"rb\"))\n",
    "tt = pickle.load(open(wdir + \"Tree.pickle\", \"rb\"))\n",
    "\n",
    "t_now = tt[tt['zred'] == tt[\"zred\"][-1]] # zred = 0.017xx?\n",
    "\n",
    "final_gals = [t_now['idx'][gid-1] for gid in ids] # Every final galaxy has (short or long) tree.\n",
    "\n",
    "np.savetxt(wdir + \"top5_dense_IDs.txt\", (ids, final_gals), fmt='%10d')"
   ]
  },
  {
   "cell_type": "code",
   "execution_count": 13,
   "metadata": {
    "collapsed": false
   },
   "outputs": [],
   "source": [
    "ids, final_gals = np.genfromtxt(wdir + \"top5_dense_IDs.txt\", dtype=int)"
   ]
  },
  {
   "cell_type": "code",
   "execution_count": 15,
   "metadata": {
    "collapsed": false
   },
   "outputs": [],
   "source": [
    "import numpy.lib.recfunctions as rcfuncs\n",
    "import tree.hmutils as hmu\n",
    "\n",
    "allgals=[]\n",
    "for final_idx in final_gals:\n",
    "    atree = hmu.extract_main_tree(tt, final_idx, fatherIDx, fatherMass)\n",
    "    allgals.append(rcfuncs.append_fields(atree,\n",
    "                                         \"tree_root_id\",\n",
    "                                         data=np.full(len(atree),final_idx, dtype=np.int64),\n",
    "                                         usemask=False))\n",
    "    # Add main progenitor tag\n",
    "\n"
   ]
  },
  {
   "cell_type": "code",
   "execution_count": 17,
   "metadata": {
    "collapsed": false
   },
   "outputs": [],
   "source": [
    "pickle.dump(allgals, open(wdir +\"All_dense_tree.pickle\", \"wb\"))"
   ]
  },
  {
   "cell_type": "code",
   "execution_count": null,
   "metadata": {
    "collapsed": true
   },
   "outputs": [],
   "source": []
  }
 ],
 "metadata": {
  "kernelspec": {
   "display_name": "Python 3",
   "language": "python",
   "name": "python3"
  },
  "language_info": {
   "codemirror_mode": {
    "name": "ipython",
    "version": 3
   },
   "file_extension": ".py",
   "mimetype": "text/x-python",
   "name": "python",
   "nbconvert_exporter": "python",
   "pygments_lexer": "ipython3",
   "version": "3.5.2"
  }
 },
 "nbformat": 4,
 "nbformat_minor": 0
}
