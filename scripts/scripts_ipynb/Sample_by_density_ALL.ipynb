{
 "cells": [
  {
   "cell_type": "markdown",
   "metadata": {},
   "source": [
    "# sub sample by density"
   ]
  },
  {
   "cell_type": "code",
   "execution_count": 1,
   "metadata": {
    "collapsed": true
   },
   "outputs": [],
   "source": [
    "import pickle\n",
    "import load\n",
    "import numpy as np\n",
    "import matplotlib.pyplot as plt\n",
    "from tree import halomodule as hmo"
   ]
  },
  {
   "cell_type": "code",
   "execution_count": 2,
   "metadata": {
    "collapsed": false
   },
   "outputs": [
    {
     "name": "stdout",
     "output_type": "stream",
     "text": [
      "/media/hoseung/btrfs/Horizon-AGN/\n"
     ]
    }
   ],
   "source": [
    "wdir = %pwd\n",
    "wdir = wdir + '/'\n",
    "print(wdir)"
   ]
  },
  {
   "cell_type": "code",
   "execution_count": 3,
   "metadata": {
    "collapsed": false
   },
   "outputs": [
    {
     "name": "stdout",
     "output_type": "stream",
     "text": [
      "[Halo.load_info] loading info\n",
      "[Halo.load_info] nout = 782, base =/media/hoseung/btrfs/Horizon-AGN/\n"
     ]
    }
   ],
   "source": [
    "gcat = hmo.Halo(nout=782, is_gal=True, base=wdir)"
   ]
  },
  {
   "cell_type": "code",
   "execution_count": 4,
   "metadata": {
    "collapsed": true
   },
   "outputs": [],
   "source": [
    "x = gcat.data[\"x\"]\n",
    "y = gcat.data[\"y\"]\n",
    "z = gcat.data[\"z\"]"
   ]
  },
  {
   "cell_type": "code",
   "execution_count": 5,
   "metadata": {
    "collapsed": true
   },
   "outputs": [],
   "source": [
    "x_ind = np.argsort(x)\n",
    "y_ind = np.argsort(y)\n",
    "z_ind = np.argsort(z)"
   ]
  },
  {
   "cell_type": "code",
   "execution_count": 6,
   "metadata": {
    "collapsed": false
   },
   "outputs": [],
   "source": [
    "d5=[]\n",
    "N5=[]\n",
    "\n",
    "Ncut = 50000\n",
    "\n",
    "for i, gal in enumerate(gcat.data):\n",
    "    xg,yg,zg = gal[\"x\"],gal[\"y\"],gal[\"z\"]\n",
    "    x_ok = np.abs(x_ind - xg) < Ncut\n",
    "    y_ok = np.abs(y_ind - yg) < Ncut\n",
    "    z_ok = np.abs(z_ind - zg) < Ncut\n",
    "    #all_ok = np.abs(z_ind[xy_ok] - zg) < 5000\n",
    "    \n",
    "    all_ok = np.where(x_ok * y_ok * z_ok)[0]\n",
    "    \n",
    "    dist = np.sqrt(np.square(xg - x[all_ok]) + \n",
    "                   np.square(yg - y[all_ok]) + \n",
    "                   np.square(zg - z[all_ok]))\n",
    "    \n",
    "    d5.append(sorted(dist)[5] * gcat.info.pboxsize) # 0 = itself.\n",
    "    N5.append(sum(dist < 5/gcat.info.pboxsize))\n",
    "    #print(len(all_ok), d5, N5)"
   ]
  },
  {
   "cell_type": "code",
   "execution_count": 7,
   "metadata": {
    "collapsed": false
   },
   "outputs": [],
   "source": [
    "d5_90 = d5[np.argsort(d5)[np.ceil(0.95 * len(d5)).astype(int)]]\n",
    "i_isol = np.where(d5 >= d5_90)[0]\n",
    "\n",
    "d5_10 = d5[np.argsort(d5)[np.ceil(0.05 * len(d5)).astype(int)]]\n",
    "i_dense = np.where(d5 <= d5_10)[0]"
   ]
  },
  {
   "cell_type": "code",
   "execution_count": 9,
   "metadata": {
    "collapsed": false
   },
   "outputs": [],
   "source": [
    "ids = gcat.data[\"id\"][i_dense]\n",
    "fatherID = pickle.load(open(wdir + \"fatherID.pickle\", \"rb\"))\n",
    "fatherIDx = pickle.load(open(wdir + \"fatherIDx.pickle\", \"rb\"))\n",
    "fatherMass = pickle.load(open(wdir + \"fatherMass.pickle\", \"rb\"))\n",
    "tt = pickle.load(open(wdir + \"Tree.pickle\", \"rb\"))\n",
    "\n",
    "t_now = tt[tt['zred'] == tt[\"zred\"][-1]] # zred = 0.017xx?\n",
    "\n",
    "final_gals = [t_now['idx'][gid-1] for gid in ids] # Every final galaxy has (short or long) tree.\n",
    "\n",
    "np.savetxt(wdir + \"top5_dense_IDs.txt\", (ids, final_gals), fmt='%10d')"
   ]
  },
  {
   "cell_type": "code",
   "execution_count": 10,
   "metadata": {
    "collapsed": false
   },
   "outputs": [],
   "source": [
    "ids, final_gals = np.genfromtxt(wdir + \"top5_dense_IDs.txt\", dtype=int)"
   ]
  },
  {
   "cell_type": "code",
   "execution_count": 17,
   "metadata": {
    "collapsed": false
   },
   "outputs": [
    {
     "data": {
      "text/plain": [
       "(5.874571317995742, 0, 1, 1271670784.0, 0.01240869433968328, 0, 0.004182043951004744, 1271670870.4829216, [-1.4542678594589233, 5.446148872375488, 9.516461372375488], [-110.90049743652344, -76.17131805419922, 3.498713254928589], 1, 1, 0, -1, 0, 1, 0, 0)"
      ]
     },
     "execution_count": 17,
     "metadata": {},
     "output_type": "execute_result"
    }
   ],
   "source": [
    "tt[0]"
   ]
  },
  {
   "cell_type": "code",
   "execution_count": 24,
   "metadata": {
    "collapsed": false
   },
   "outputs": [
    {
     "data": {
      "text/plain": [
       "[array([0], dtype=int32),\n",
       " array([0], dtype=int32),\n",
       " array([5066,    0], dtype=int32),\n",
       " array([3685,    0], dtype=int32),\n",
       " array([1347,    0], dtype=int32),\n",
       " array([2040,    0], dtype=int32),\n",
       " array([   0, 1691], dtype=int32),\n",
       " array([1670,    0], dtype=int32),\n",
       " array([0], dtype=int32),\n",
       " array([0], dtype=int32),\n",
       " array([0], dtype=int32),\n",
       " array([4441,    0], dtype=int32),\n",
       " array([0], dtype=int32),\n",
       " array([4942,    0], dtype=int32),\n",
       " array([1370,    0], dtype=int32),\n",
       " array([0], dtype=int32),\n",
       " array([1685,    0], dtype=int32),\n",
       " array([0], dtype=int32),\n",
       " array([0], dtype=int32),\n",
       " array([   0, 1744], dtype=int32),\n",
       " array([0], dtype=int32),\n",
       " array([0], dtype=int32),\n",
       " array([1629,    0], dtype=int32),\n",
       " array([0], dtype=int32),\n",
       " array([0], dtype=int32),\n",
       " array([3841,    0], dtype=int32),\n",
       " array([2395,    0], dtype=int32),\n",
       " array([0], dtype=int32),\n",
       " array([0], dtype=int32),\n",
       " array([3633,    0], dtype=int32),\n",
       " array([5180,    0], dtype=int32),\n",
       " array([3831,    0], dtype=int32),\n",
       " array([2537,    0], dtype=int32),\n",
       " array([0], dtype=int32),\n",
       " array([   0, 4593], dtype=int32),\n",
       " array([0], dtype=int32),\n",
       " array([0], dtype=int32),\n",
       " array([0], dtype=int32),\n",
       " array([3850,    0], dtype=int32),\n",
       " array([3792,    0], dtype=int32)]"
      ]
     },
     "execution_count": 24,
     "metadata": {},
     "output_type": "execute_result"
    }
   ],
   "source": [
    "fatherID[10000:10040]"
   ]
  },
  {
   "cell_type": "code",
   "execution_count": 61,
   "metadata": {
    "collapsed": true
   },
   "outputs": [],
   "source": [
    "def extract_main_tree(t, idx, fatherID, fatherMass):\n",
    "    \"\"\" \n",
    "    Extracts \n",
    "    \"\"\"\n",
    "    import numpy as np\n",
    "    t_now = t[idx]\n",
    "    nstep = t_now[\"nstep\"]\n",
    "    nouts = [nstep]\n",
    "    atree = np.zeros(nstep + 1, dtype=t.dtype)\n",
    "    atree[0]=t_now\n",
    "\n",
    "    for i in range(1, nstep + 1): \n",
    "        try:\n",
    "            #id_father = fatherID[t[\"flist_index\"][idx]]\n",
    "            id_father = fatherID[idx]\n",
    "            #print('id_father', id_father)\n",
    "            if len(id_father) > 1:\n",
    "                #mass_father = fatherMass[t[\"flist_index\"][idx]]\n",
    "                mass_father = fatherMass[idx]\n",
    "                #print(mass_father)\n",
    "                id_father_main = id_father[np.argmax(mass_father)]\n",
    "                #print('id_father_main', id_father_main)\n",
    "                #ind_father = id_father[id_father > 0] -1\n",
    "                #print('ind_father', ind_father)\n",
    "                #nstep -= 1\n",
    "                #id_father = ind_father-1\n",
    "                #t_father = t[np.where(t[\"nstep\"] == nstep)[0]][ind_father]\n",
    "                #print(nstep)\n",
    "                #t_father = t[np.where(t[\"nstep\"] == nstep)[0]][id_father_main-1]\n",
    "                t_father = t[id_father_main-1]\n",
    "                idx = t_father[\"idx\"]\n",
    "                #print('idx',idx)\n",
    "                atree[i]=t_father\n",
    "                nouts.append(nstep)\n",
    "            else:\n",
    "                break\n",
    "        except:\n",
    "            break\n",
    "    return atree\n"
   ]
  },
  {
   "cell_type": "code",
   "execution_count": 62,
   "metadata": {
    "collapsed": false
   },
   "outputs": [],
   "source": [
    "import numpy.lib.recfunctions as rcfuncs\n",
    "import tree.hmutils as hmu\n",
    "\n",
    "allgals=[]\n",
    "for final_idx in final_gals:\n",
    "    atree = extract_main_tree(tt, final_idx, fatherIDx, fatherMass)\n",
    "    allgals.append(rcfuncs.append_fields(atree,\n",
    "                                         \"tree_root_id\",\n",
    "                                         data=np.full(len(atree),final_idx, dtype=np.int64),\n",
    "                                         usemask=False))\n",
    "    # Add main progenitor tag\n",
    "\n",
    "zred_complete = 3.0 # tree starting from earlier than\n",
    "allgals = [ag for ag in allgals if max(ag[\"zred\"] > zred_complete)]    \n",
    "pickle.dump(np.array(allgals), open(wdir +\"All_dense_tree.pickle\", \"wb\"))\n"
   ]
  },
  {
   "cell_type": "code",
   "execution_count": 65,
   "metadata": {
    "collapsed": false
   },
   "outputs": [
    {
     "data": {
      "text/plain": [
       "6239"
      ]
     },
     "execution_count": 65,
     "metadata": {},
     "output_type": "execute_result"
    }
   ],
   "source": [
    "len(final_gals)"
   ]
  },
  {
   "cell_type": "code",
   "execution_count": 63,
   "metadata": {
    "collapsed": false
   },
   "outputs": [
    {
     "data": {
      "text/plain": [
       "1443"
      ]
     },
     "execution_count": 63,
     "metadata": {},
     "output_type": "execute_result"
    }
   ],
   "source": [
    "len(allgals)"
   ]
  },
  {
   "cell_type": "code",
   "execution_count": null,
   "metadata": {
    "collapsed": true
   },
   "outputs": [],
   "source": []
  }
 ],
 "metadata": {
  "kernelspec": {
   "display_name": "Python 3",
   "language": "python",
   "name": "python3"
  },
  "language_info": {
   "codemirror_mode": {
    "name": "ipython",
    "version": 3
   },
   "file_extension": ".py",
   "mimetype": "text/x-python",
   "name": "python",
   "nbconvert_exporter": "python",
   "pygments_lexer": "ipython3",
   "version": "3.5.2"
  }
 },
 "nbformat": 4,
 "nbformat_minor": 0
}
