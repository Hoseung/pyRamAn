{
 "cells": [
  {
   "cell_type": "markdown",
   "metadata": {},
   "source": [
    "# sub sample by density"
   ]
  },
  {
   "cell_type": "code",
   "execution_count": 1,
   "metadata": {
    "collapsed": true
   },
   "outputs": [],
   "source": [
    "import pickle\n",
    "import load\n",
    "import numpy as np\n",
    "import matplotlib.pyplot as plt\n",
    "from tree import halomodule as hmo\n",
    "import numpy.lib.recfunctions as rcfuncs"
   ]
  },
  {
   "cell_type": "code",
   "execution_count": 2,
   "metadata": {
    "collapsed": false
   },
   "outputs": [
    {
     "name": "stdout",
     "output_type": "stream",
     "text": [
      "/home/hoseung/Work/data/Horizon-AGN/\n"
     ]
    }
   ],
   "source": [
    "wdir = \"/home/hoseung/Work/data/Horizon-AGN/\"\n",
    "tdir = \"GalaxyMaker/\"\n",
    "print(wdir)"
   ]
  },
  {
   "cell_type": "code",
   "execution_count": 109,
   "metadata": {
    "collapsed": false
   },
   "outputs": [
    {
     "name": "stdout",
     "output_type": "stream",
     "text": [
      "[Halo.load_info] loading info\n",
      "[Halo.load_info] nout = 782, base =/home/hoseung/Work/data/Horizon-AGN/\n"
     ]
    }
   ],
   "source": [
    "gcat = hmo.Halo(nout=782, is_gal=True, base=wdir)\n",
    "\n",
    "gcat.data = gcat.data[gcat.data[\"m\"] > 1e10]\n",
    "ngal = len(gcat.data)\n",
    "\n",
    "x = gcat.data[\"x\"]\n",
    "y = gcat.data[\"y\"]\n",
    "z = gcat.data[\"z\"]\n",
    "\n",
    "ngal = len(x)\n",
    "\n",
    "x_rank = np.empty(ngal, int)\n",
    "y_rank = np.empty(ngal, int)\n",
    "z_rank = np.empty(ngal, int)\n",
    "\n",
    "straight_ind = np.arange(ngal)\n",
    "\n",
    "x_ind = np.argsort(x)\n",
    "y_ind = np.argsort(y)\n",
    "z_ind = np.argsort(z)\n",
    "\n",
    "x_rank[x_ind] = straight_ind\n",
    "y_rank[y_ind] = straight_ind \n",
    "z_rank[z_ind] = straight_ind"
   ]
  },
  {
   "cell_type": "code",
   "execution_count": 227,
   "metadata": {
    "collapsed": false
   },
   "outputs": [
    {
     "name": "stdout",
     "output_type": "stream",
     "text": [
      "0.0 % done\n",
      "7.2 % done\n",
      "14.3 % done\n",
      "21.5 % done\n",
      "28.7 % done\n",
      "35.8 % done\n",
      "43.0 % done\n",
      "again\n",
      "50.2 % done\n",
      "57.3 % done\n",
      "64.5 % done\n",
      "again\n",
      "again\n",
      "71.7 % done\n",
      "again\n",
      "again\n",
      "78.8 % done\n",
      "86.0 % done\n",
      "93.2 % done\n"
     ]
    }
   ],
   "source": [
    "d5=[]\n",
    "N5=[]\n",
    "\n",
    "Ncut = 10000\n",
    "Rcut = 0.1\n",
    "method = 2 # method 2 is slightly faster.\n",
    "\n",
    "\n",
    "for i, gal in enumerate(gcat.data):\n",
    "    xg,yg,zg = x_rank[i], y_rank[i],z_rank[i]\n",
    "    if method == 1:\n",
    "        x_ok = np.abs(x_rank - xg) < Ncut\n",
    "        y_ok = np.abs(y_ind - yg) < Ncut\n",
    "        z_ok = np.abs(z_ind - zg) < Ncut\n",
    "        all_ok = np.where(x_ok * y_ok * z_ok)[0]    \n",
    "    elif method == 2:\n",
    "        multiply = 1\n",
    "        while True:\n",
    "            x_ok = np.abs(x - gal[\"x\"]) < (0.05 * multiply)\n",
    "            y_ok = np.abs(y[x_ok] - gal[\"y\"]) < (0.05 * multiply)                \n",
    "            all_ok = np.abs(z[x_ok][y_ok] - gal[\"z\"]) < (0.05 * multiply)\n",
    "            if sum(all_ok) > 5:\n",
    "                break\n",
    "            else:\n",
    "                multiply *=2\n",
    "                print(\"again\")\n",
    "        \n",
    "        all_ok = straight_ind[x_ok][y_ok][all_ok]\n",
    "    \n",
    "    dist = np.sqrt(np.square(gal[\"x\"] - x[all_ok]) + \n",
    "                   np.square(gal[\"y\"] - y[all_ok]) + \n",
    "                   np.square(gal[\"z\"] - z[all_ok]))\n",
    "    \n",
    "    d5.append(sorted(dist)[5] * gcat.info.pboxsize) # 0 = itself.\n",
    "    N5.append(sum(dist < 5/gcat.info.pboxsize))\n",
    "    if i % 2000 == 0:\n",
    "        print(\"{:.1f} % done\".format( 100 * i / ngal))\n",
    "    #print(len(all_ok), d5, N5)"
   ]
  },
  {
   "cell_type": "code",
   "execution_count": 228,
   "metadata": {
    "collapsed": true
   },
   "outputs": [],
   "source": [
    "plt.scatter(x[all_ok], y[all_ok])\n",
    "plt.show()"
   ]
  },
  {
   "cell_type": "code",
   "execution_count": 161,
   "metadata": {
    "collapsed": false
   },
   "outputs": [],
   "source": [
    "fatherID = pickle.load(open(wdir + tdir + \"fatherID.pickle\", \"rb\"))\n",
    "fatherIDx = pickle.load(open(wdir + tdir + \"fatherIDx.pickle\", \"rb\"))\n",
    "fatherMass = pickle.load(open(wdir + tdir + \"fatherMass.pickle\", \"rb\"))\n",
    "tt = pickle.load(open(wdir + tdir + \"Tree.pickle\", \"rb\"))\n",
    "\n",
    "t_now = tt[tt['zred'] == tt[\"zred\"][-1]] # zred = 0.017xx?"
   ]
  },
  {
   "cell_type": "code",
   "execution_count": 229,
   "metadata": {
    "collapsed": false
   },
   "outputs": [],
   "source": [
    "d5 = np.array(d5)\n",
    "N5 = np.array(N5)\n",
    "#rcfuncs.append_fields(gcat.data, [\"D5\", \"N5\"], data=[d5, N5], usemask=False)\n",
    "pickle.dump((gcat.data[\"id\"], d5, N5), open(wdir + \"catalog_density_d5_m10.pickle\", \"wb\"))"
   ]
  },
  {
   "cell_type": "code",
   "execution_count": 176,
   "metadata": {
    "collapsed": true
   },
   "outputs": [],
   "source": [
    "ids, d5, N5 = pickle.load(open(wdir + \"catalog_density_d5_m10.pickle\", \"rb\"))"
   ]
  },
  {
   "cell_type": "code",
   "execution_count": null,
   "metadata": {
    "collapsed": true
   },
   "outputs": [],
   "source": []
  },
  {
   "cell_type": "code",
   "execution_count": 230,
   "metadata": {
    "collapsed": false
   },
   "outputs": [],
   "source": [
    "ind_chunks = np.array_split(np.argsort(N5), 10)\n",
    "for i in range(10):\n",
    "    ids = gcat.data[\"id\"][ind_chunks[i]]\n",
    "    final_gals = [t_now['idx'][gid-1] for gid in ids] # Every final galaxy has (short or long) tree.\n",
    "\n",
    "    np.savetxt(wdir + \"density_\" + str(i * 5) + \"percentile_IDs_d5_m10.txt\", (ids, final_gals), fmt='%10d')"
   ]
  },
  {
   "cell_type": "code",
   "execution_count": 231,
   "metadata": {
    "collapsed": true
   },
   "outputs": [],
   "source": [
    "def extract_main_tree(t, idx, fatherID, fatherMass):\n",
    "    \"\"\" \n",
    "    Extracts \n",
    "    \"\"\"\n",
    "    import numpy as np\n",
    "    t_now = t[idx]\n",
    "    nstep = t_now[\"nstep\"]\n",
    "    nouts = [nstep]\n",
    "    atree = np.zeros(nstep + 1, dtype=t.dtype)\n",
    "    atree[0]=t_now\n",
    "\n",
    "    for i in range(1, nstep + 1): \n",
    "        try:\n",
    "            id_father = fatherID[idx]\n",
    "            if len(id_father) > 1:\n",
    "                mass_father = fatherMass[idx]\n",
    "                id_father_main = id_father[np.argmax(mass_father)]\n",
    "                t_father = t[id_father_main-1]\n",
    "                idx = t_father[\"idx\"]\n",
    "                atree[i]=t_father\n",
    "                nouts.append(nstep)\n",
    "            else:\n",
    "                break\n",
    "        except:\n",
    "            break\n",
    "    return atree\n"
   ]
  },
  {
   "cell_type": "code",
   "execution_count": 233,
   "metadata": {
    "collapsed": false
   },
   "outputs": [],
   "source": [
    "zred_complete = 0.5 # tree starting from earlier than\n",
    "for i in range(10):\n",
    "    alltrees=[]\n",
    "    ids, final_gals = np.genfromtxt(wdir + \"density_\" + str(i * 5) + \"percentile_IDs_d5_m10.txt\", dtype=int)\n",
    "    for final_idx in final_gals:\n",
    "        maintree = extract_main_tree(tt, final_idx, fatherIDx, fatherMass)\n",
    "        # Add main progenitor tag\n",
    "        if max(maintree[\"zred\"]) > zred_complete:\n",
    "            alltrees.append(maintree)\n",
    "    pickle.dump(np.array(alltrees), open(wdir +\"tree_by_density_\" +str(i*5) + \"_percentile_d5_m10.pickle\", \"wb\"))\n"
   ]
  },
  {
   "cell_type": "code",
   "execution_count": null,
   "metadata": {
    "collapsed": true
   },
   "outputs": [],
   "source": []
  }
 ],
 "metadata": {
  "kernelspec": {
   "display_name": "Python 3",
   "language": "python",
   "name": "python3"
  },
  "language_info": {
   "codemirror_mode": {
    "name": "ipython",
    "version": 3
   },
   "file_extension": ".py",
   "mimetype": "text/x-python",
   "name": "python",
   "nbconvert_exporter": "python",
   "pygments_lexer": "ipython3",
   "version": "3.5.1+"
  }
 },
 "nbformat": 4,
 "nbformat_minor": 0
}
