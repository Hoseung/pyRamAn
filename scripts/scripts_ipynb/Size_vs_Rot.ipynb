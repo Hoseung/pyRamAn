{
 "cells": [
  {
   "cell_type": "markdown",
   "metadata": {},
   "source": [
    "## "
   ]
  },
  {
   "cell_type": "code",
   "execution_count": 29,
   "metadata": {
    "collapsed": true
   },
   "outputs": [],
   "source": [
    "import matplotlib.pyplot as plt\n",
    "import pickle\n",
    "\n",
    "\n",
    "class Merger():\n",
    "    pass\n",
    "\n",
    "\n",
    "wdir = \"./10002/\"\n",
    "cdir = \"easy_final/\"\n",
    "#mpgs = pickle.load(open(wdir + \"main_prgs.pickle\", \"rb\"))"
   ]
  },
  {
   "cell_type": "code",
   "execution_count": 30,
   "metadata": {
    "collapsed": false
   },
   "outputs": [],
   "source": [
    "from analysis.misc import load_cat\n",
    "catalog = load_cat(wdir + cdir + \"catalog187.pickle\")"
   ]
  },
  {
   "cell_type": "code",
   "execution_count": 31,
   "metadata": {
    "collapsed": false
   },
   "outputs": [
    {
     "data": {
      "text/plain": [
       "dtype((numpy.record, [('index', '<i8'), ('Rgal_to_reff', '<f8'), ('d2t', '<f8'), ('eps', '<f8'), ('epsh', '<f8'), ('epsq', '<f8'), ('id', '<i8'), ('idx', '<f8'), ('lambda_12kpc', 'O'), ('lambda_arr', 'O'), ('lambda_arr2', 'O'), ('lambda_arrh', 'O'), ('lambda_r', '<f8'), ('lambda_r12kpc', '<f8'), ('lambda_r2', '<f8'), ('lambda_rh', '<f8'), ('mgas', '<f8'), ('mrj', '<f8'), ('mstar', '<f8'), ('nstar', '<i8'), ('pa', '<f8'), ('pah', '<f8'), ('paq', '<f8'), ('pq', 'O'), ('pt', 'O'), ('r_sden_cut', '<f8'), ('r_sden_cut2', '<f8'), ('reff', '<f8'), ('reff2', '<f8'), ('rgal', '<f8'), ('rgal2', '<f8'), ('rhalo', '<f8'), ('rscale_lambda', '<f8'), ('sfr', '<f8'), ('sma', '<f8'), ('smah', '<f8'), ('smaq', '<f8'), ('smi', '<f8'), ('smih', '<f8'), ('smiq', '<f8'), ('ssfr', '<f8'), ('vmap', 'O'), ('vxc', '<f8'), ('vyc', '<f8'), ('vzc', '<f8'), ('xc', '<f8'), ('xcen', '<f8'), ('xcenh', '<f8'), ('xcenq', '<f8'), ('yc', '<f8'), ('ycen', '<f8'), ('ycenh', '<f8'), ('ycenq', '<f8'), ('zc', '<f8')]))"
      ]
     },
     "execution_count": 31,
     "metadata": {},
     "output_type": "execute_result"
    }
   ],
   "source": [
    "catalog.dtype"
   ]
  },
  {
   "cell_type": "code",
   "execution_count": 35,
   "metadata": {
    "collapsed": false
   },
   "outputs": [],
   "source": [
    "fig, ax = plt.subplots()\n",
    "\n",
    "ax.scatter(catalog[\"reff\"], catalog[\"lambda_r\"])\n",
    "ax.scatter(catalog[\"r_sden_cut2\"], catalog[\"lambda_r\"])\n",
    "ax.set_xlim([0,40])\n",
    "ax.set_ylim([0,0.8])\n",
    "plt.show()"
   ]
  },
  {
   "cell_type": "code",
   "execution_count": null,
   "metadata": {
    "collapsed": true
   },
   "outputs": [],
   "source": []
  },
  {
   "cell_type": "code",
   "execution_count": 3,
   "metadata": {
    "collapsed": true
   },
   "outputs": [],
   "source": [
    "ax.text(5, 5, \"asdf\")\n",
    "plt.show()"
   ]
  },
  {
   "cell_type": "code",
   "execution_count": null,
   "metadata": {
    "collapsed": true
   },
   "outputs": [],
   "source": []
  }
 ],
 "metadata": {
  "kernelspec": {
   "display_name": "Python 3",
   "language": "python",
   "name": "python3"
  },
  "language_info": {
   "codemirror_mode": {
    "name": "ipython",
    "version": 3
   },
   "file_extension": ".py",
   "mimetype": "text/x-python",
   "name": "python",
   "nbconvert_exporter": "python",
   "pygments_lexer": "ipython3",
   "version": "3.5.1+"
  }
 },
 "nbformat": 4,
 "nbformat_minor": 0
}
