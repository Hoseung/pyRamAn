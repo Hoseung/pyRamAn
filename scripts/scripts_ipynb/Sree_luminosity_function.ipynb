{
 "cells": [
  {
   "cell_type": "code",
   "execution_count": 118,
   "metadata": {
    "collapsed": true
   },
   "outputs": [],
   "source": [
    "import matplotlib.pyplot as plt\n",
    "import numpy as np\n",
    "from glob import glob"
   ]
  },
  {
   "cell_type": "code",
   "execution_count": 119,
   "metadata": {
    "collapsed": true
   },
   "outputs": [],
   "source": [
    "def abs_mag(app_mag, zreds):\n",
    "    from astropy.cosmology import WMAP7 as cosmo\n",
    "    result=[]\n",
    "    for am, zred in zip(app_mag, zreds):\n",
    "        dist = cosmo.luminosity_distance(zred).value\n",
    "        result.append(am - 5*(np.log10(dist * 1e6) - 1))\n",
    "\n",
    "    return result"
   ]
  },
  {
   "cell_type": "code",
   "execution_count": 120,
   "metadata": {
    "collapsed": false
   },
   "outputs": [],
   "source": [
    "AM = []\n",
    "for file in glob(\"KYDISC/mcat_*.cat\"):\n",
    "    data = np.genfromtxt(file,\n",
    "                     usecols=(11,15,24,30), \n",
    "                     dtype=[('mag', '<f8'),('kcor', '<f8'),('zred', '<f8'), ('member', '|S2')])\n",
    "    ind_ok = data[\"member\"] == b\"M2\"\n",
    "    zreds = data[\"zred\"][ind_ok]\n",
    "    luminosity = data[\"mag\"][ind_ok] - data[\"kcor\"][ind_ok]\n",
    "    #luminosity = luminosity[np.isfinite(luminosity)]\n",
    "    AM.append(abs_mag(luminosity, zreds))\n",
    "\n",
    "    "
   ]
  },
  {
   "cell_type": "code",
   "execution_count": 121,
   "metadata": {
    "collapsed": false
   },
   "outputs": [],
   "source": [
    "from itertools import chain\n",
    "allAM = np.fromiter(chain.from_iterable(AM), dtype=\"float\")"
   ]
  },
  {
   "cell_type": "code",
   "execution_count": 123,
   "metadata": {
    "collapsed": false
   },
   "outputs": [],
   "source": [
    "plt.hist(allAM)\n",
    "ax = plt.gca()\n",
    "ax.set_title(\"KYDISC luminosity function\")\n",
    "ax.set_ylabel(\"#\")\n",
    "ax.set_xlabel(\"Absolute magnitude\")\n",
    "ax.set_yscale('log')\n",
    "plt.show()\n"
   ]
  },
  {
   "cell_type": "code",
   "execution_count": null,
   "metadata": {
    "collapsed": true
   },
   "outputs": [],
   "source": []
  }
 ],
 "metadata": {
  "kernelspec": {
   "display_name": "Python 3",
   "language": "python",
   "name": "python3"
  },
  "language_info": {
   "codemirror_mode": {
    "name": "ipython",
    "version": 3
   },
   "file_extension": ".py",
   "mimetype": "text/x-python",
   "name": "python",
   "nbconvert_exporter": "python",
   "pygments_lexer": "ipython3",
   "version": "3.5.1+"
  }
 },
 "nbformat": 4,
 "nbformat_minor": 0
}
