{
 "cells": [
  {
   "cell_type": "code",
   "execution_count": 18,
   "metadata": {
    "collapsed": false
   },
   "outputs": [],
   "source": [
    "import numpy as np\n",
    "\n",
    "a = np.array([1,2,3,3,2,1,1,1,2,1,3,3,2,1,3,2,3,1,3,2])\n",
    "b = np.random.rand(len(a))"
   ]
  },
  {
   "cell_type": "code",
   "execution_count": 24,
   "metadata": {
    "collapsed": true
   },
   "outputs": [],
   "source": [
    "class dummy():\n",
    "    def __init__(self,a,b):\n",
    "        self.a = a\n",
    "        self.b = b"
   ]
  },
  {
   "cell_type": "code",
   "execution_count": 25,
   "metadata": {
    "collapsed": true
   },
   "outputs": [],
   "source": [
    "alist=[]\n",
    "for aa,bb in zip(a,b):\n",
    "    alist.append(dummy(aa,bb))"
   ]
  },
  {
   "cell_type": "code",
   "execution_count": 27,
   "metadata": {
    "collapsed": true
   },
   "outputs": [],
   "source": [
    "sorted_ab = sorted(alist, key = lambda x: (x.a, x.b))"
   ]
  },
  {
   "cell_type": "code",
   "execution_count": 29,
   "metadata": {
    "collapsed": false
   },
   "outputs": [
    {
     "name": "stdout",
     "output_type": "stream",
     "text": [
      "1 0.0706960437428\n",
      "1 0.152503894019\n",
      "1 0.284759956809\n",
      "1 0.497058553157\n",
      "1 0.698375042323\n",
      "1 0.732521626174\n",
      "1 0.779797503616\n",
      "2 0.26582220244\n",
      "2 0.335984959373\n",
      "2 0.581835371869\n",
      "2 0.647907681252\n",
      "2 0.73526417698\n",
      "2 0.878657852374\n",
      "3 0.210454560062\n",
      "3 0.306363524519\n",
      "3 0.309796016108\n",
      "3 0.460793805609\n",
      "3 0.603566653545\n",
      "3 0.681647184262\n",
      "3 0.68479683659\n"
     ]
    }
   ],
   "source": [
    "for aabb in sorted_ab:\n",
    "    print(aabb.a, aabb.b)"
   ]
  },
  {
   "cell_type": "code",
   "execution_count": 19,
   "metadata": {
    "collapsed": true
   },
   "outputs": [],
   "source": [
    "ab = np.stack((a,b)).T"
   ]
  },
  {
   "cell_type": "code",
   "execution_count": 20,
   "metadata": {
    "collapsed": true
   },
   "outputs": [],
   "source": [
    "sorted_ab = sorted(ab, key = lambda x: (x[0], x[1]))"
   ]
  },
  {
   "cell_type": "code",
   "execution_count": 21,
   "metadata": {
    "collapsed": false
   },
   "outputs": [
    {
     "data": {
      "text/plain": [
       "[array([ 1.        ,  0.07069604]),\n",
       " array([ 1.        ,  0.15250389]),\n",
       " array([ 1.        ,  0.28475996]),\n",
       " array([ 1.        ,  0.49705855]),\n",
       " array([ 1.        ,  0.69837504]),\n",
       " array([ 1.        ,  0.73252163]),\n",
       " array([ 1.       ,  0.7797975]),\n",
       " array([ 2.       ,  0.2658222]),\n",
       " array([ 2.        ,  0.33598496]),\n",
       " array([ 2.        ,  0.58183537]),\n",
       " array([ 2.        ,  0.64790768]),\n",
       " array([ 2.        ,  0.73526418]),\n",
       " array([ 2.        ,  0.87865785]),\n",
       " array([ 3.        ,  0.21045456]),\n",
       " array([ 3.        ,  0.30636352]),\n",
       " array([ 3.        ,  0.30979602]),\n",
       " array([ 3.        ,  0.46079381]),\n",
       " array([ 3.        ,  0.60356665]),\n",
       " array([ 3.        ,  0.68164718]),\n",
       " array([ 3.        ,  0.68479684])]"
      ]
     },
     "execution_count": 21,
     "metadata": {},
     "output_type": "execute_result"
    }
   ],
   "source": [
    "sorted_ab"
   ]
  },
  {
   "cell_type": "code",
   "execution_count": null,
   "metadata": {
    "collapsed": true
   },
   "outputs": [],
   "source": []
  }
 ],
 "metadata": {
  "kernelspec": {
   "display_name": "Python 3",
   "language": "python",
   "name": "python3"
  },
  "language_info": {
   "codemirror_mode": {
    "name": "ipython",
    "version": 3
   },
   "file_extension": ".py",
   "mimetype": "text/x-python",
   "name": "python",
   "nbconvert_exporter": "python",
   "pygments_lexer": "ipython3",
   "version": "3.5.1+"
  }
 },
 "nbformat": 4,
 "nbformat_minor": 0
}
