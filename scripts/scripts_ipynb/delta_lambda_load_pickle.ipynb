{
 "cells": [
  {
   "cell_type": "code",
   "execution_count": 1,
   "metadata": {
    "collapsed": true
   },
   "outputs": [],
   "source": [
    "import pickle\n",
    "import matplotlib.pyplot as plt\n",
    "from matplotlib.ticker import NullFormatter\n",
    "import numpy as np\n",
    "import matplotlib.mlab as mlab\n",
    "\n",
    "dd = pickle.load(open(\"dlmr.pickle\", 'rb'))\n",
    "dl, mr = dd"
   ]
  },
  {
   "cell_type": "code",
   "execution_count": 44,
   "metadata": {
    "collapsed": false
   },
   "outputs": [
    {
     "data": {
      "text/plain": [
       "(-0.4, 0.4)"
      ]
     },
     "execution_count": 44,
     "metadata": {},
     "output_type": "execute_result"
    }
   ],
   "source": [
    "# the random data\n",
    "mr = np.array(mr)\n",
    "dl = np.array(dl)\n",
    "\n",
    "mr_major = 3\n",
    "dl_major = dl[mr < mr_major]\n",
    "dl_minor = dl[mr > mr_major]\n",
    "\n",
    "yll, ylr = (-0.4, 0.4)\n",
    "\n",
    "same_x = True\n",
    "# same x scale \n",
    "if same_x:\n",
    "    hist_major, bin_edges = np.histogram(dl_major, bins=10, range=(yll,ylr))\n",
    "    hist_minor, bin_edges = np.histogram(dl_minor, bins=10, range=(yll,ylr))\n",
    "\n",
    "    mM = max(hist_major)\n",
    "    mm = max(hist_minor)\n",
    "\n",
    "    width_M = mM/(mM + mm) * 0.4\n",
    "    width_m = mm/(mM + mm) * 0.4\n",
    "else:\n",
    "    width_M = 0.2\n",
    "    width_m = 0.2\n",
    "\n",
    "# definitions for the axes\n",
    "left, width = 0.1, 0.4\n",
    "bottom, height = 0.1, 0.7\n",
    "\n",
    "rect_scatter = [left, bottom, width, height]\n",
    "rect_major = [left + width, bottom, width_M, height]\n",
    "rect_minor = [left + width + width_M, bottom, width_m, height]\n",
    "\n",
    "# start with a rectangular Figure\n",
    "plt.figure(1, figsize=(16,8))\n",
    "\n",
    "axScatter = plt.axes(rect_scatter)\n",
    "axHist1 = plt.axes(rect_major)\n",
    "axHist2 = plt.axes(rect_minor)\n",
    "\n",
    "# no labels\n",
    "nullfmt   = NullFormatter() # no labels\n",
    "axHist1.yaxis.set_major_formatter(nullfmt)\n",
    "axHist2.yaxis.set_major_formatter(nullfmt)\n",
    "\n",
    "\n",
    "# the scatter plot:\n",
    "axScatter.scatter(mr[mr < mr_major], dl[mr < mr_major], color='blue')\n",
    "axScatter.scatter(mr[mr > mr_major], dl[mr > mr_major], color='green')\n",
    "axScatter.axvline(mr_major, c='grey', linestyle='dashed', linewidth=2) # Major / Minor\n",
    "axScatter.set_xlabel(\"Merger mass ratio\", fontsize=14)\n",
    "axScatter.set_ylabel(r\"$\\Delta \\lambda_{R_{e}}$\", fontsize=16)\n",
    "\n",
    "axScatter.set_xlim((0.5, 10.5)) # above 1\n",
    "axScatter.set_ylim((yll, ylr))"
   ]
  },
  {
   "cell_type": "code",
   "execution_count": 45,
   "metadata": {
    "collapsed": false
   },
   "outputs": [
    {
     "name": "stderr",
     "output_type": "stream",
     "text": [
      "/home/hoseung/.local/lib/python3.4/site-packages/matplotlib/collections.py:590: FutureWarning: elementwise comparison failed; returning scalar instead, but in the future will perform elementwise comparison\n",
      "  if self._edgecolors == str('face'):\n"
     ]
    }
   ],
   "source": [
    "#axHist1.barh(np.arange(len(hist)), hist_major)\n",
    "#axHist1.hist()\n",
    "\n",
    "hM = axHist1.hist(dl_major, orientation='horizontal', color='blue', range=(yll,ylr))\n",
    "axHist1.set_xlim((1.1*max(hM[0]), 0))\n",
    "\n",
    "def gaussian_fit(ax, data, dx, color='green'):\n",
    "    mean = np.mean(data)\n",
    "    variance = np.var(data)\n",
    "    sigma = np.sqrt(variance)\n",
    "    x = np.linspace(min(data), max(data), 100)\n",
    "    scale = len(data)*dx\n",
    "    ax.plot(mlab.normpdf(x,mean,sigma)*scale, x, color=color)\n",
    "    ax.text(0.1, 0.9, \"mean = {:.2f}\\n sig = {:.2f}\".format(mean,sigma),\n",
    "            horizontalalignment='left',\n",
    "            verticalalignment='top',\n",
    "            transform=ax.transAxes)\n",
    "\n",
    "def fwhm(xx, curve):\n",
    "    from scipy.interpolate import UnivariateSpline\n",
    "    x = np.linspace(min(xx), max(xx), 100)\n",
    "    spline = UnivariateSpline(x, curve-np.max(curve)/2, s=0) # Find FWHM location\n",
    "    r1, r2 = spline.roots()\n",
    "    \n",
    "gaussian_fit(axHist1, dl_major, hM[1][1] - hM[1][0], color='cyan')\n",
    "\n",
    "\n",
    "#axHist2.barh(np.arange(len(hist_minor)), hist_minor, color='green')\n",
    "hm = axHist2.hist(dl_minor, orientation='horizontal', color='green', range=(yll,ylr))\n",
    "axHist2.set_xlim((0, 1.1*max(hm[0])))\n",
    "gaussian_fit(axHist2, dl_minor, hm[1][1] - hm[1][0], color='greenyellow')\n",
    "\n",
    "\n",
    "axHist1.set_ylim(axScatter.get_ylim())\n",
    "axHist2.set_ylim(axScatter.get_ylim())\n",
    "axHist2.set_xlabel(\"# of mergers\", x=0)\n",
    "#fig.tight_layout()\n",
    "#plt.show()\n",
    "plt.savefig(\"delta_lambda.pdf\", bbox_inches='tight') # eps does NOT support transparency!\n",
    "plt.close()"
   ]
  },
  {
   "cell_type": "code",
   "execution_count": null,
   "metadata": {
    "collapsed": true
   },
   "outputs": [],
   "source": []
  }
 ],
 "metadata": {
  "kernelspec": {
   "display_name": "Python 3",
   "language": "python",
   "name": "python3"
  },
  "language_info": {
   "codemirror_mode": {
    "name": "ipython",
    "version": 3
   },
   "file_extension": ".py",
   "mimetype": "text/x-python",
   "name": "python",
   "nbconvert_exporter": "python",
   "pygments_lexer": "ipython3",
   "version": "3.5.1+"
  }
 },
 "nbformat": 4,
 "nbformat_minor": 0
}
