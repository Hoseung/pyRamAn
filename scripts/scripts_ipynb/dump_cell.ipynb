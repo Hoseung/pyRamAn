{
 "cells": [
  {
   "cell_type": "code",
   "execution_count": 11,
   "metadata": {
    "collapsed": true
   },
   "outputs": [],
   "source": [
    "def dump_cell(cell, fname, nout, gid):\n",
    "    from utils import io\n",
    "    import struct\n",
    "    \n",
    "    with open(fname, 'wb') as f:\n",
    "        # Header \n",
    "        # nout\n",
    "        # galaxy id\n",
    "        # number of cell\n",
    "        f.write(struct.pack('i', 4))\n",
    "        f.write(struct.pack('i', nout))\n",
    "        f.write(struct.pack('i', 4))\n",
    "        f.write(struct.pack('i', 4))\n",
    "        f.write(struct.pack('i', gid))\n",
    "        f.write(struct.pack('i', 4))\n",
    "        f.write(struct.pack('i', 4))\n",
    "        f.write(struct.pack('i', len(cell)))\n",
    "        f.write(struct.pack('i', 4))\n",
    "        for field in cell.dtype.names:\n",
    "            io.write_fortran(f, cell[field])\n",
    "\n",
    "            \n",
    "def extract_gas(cell_all, gal, rscale=5.0):\n",
    "    import numpy as np\n",
    "    return _extract_cell(cell_all, gal['x'], gal['y'], gal['z'], rscale *gal['r'])\n",
    "\n",
    "\n",
    "def _extract_cell(cell_all, xc, yc, zc, rr,\n",
    "                  min_gas_density=0,\n",
    "                  unit=\"code\"):\n",
    "    ind_c = np.where((np.square(cell_all['x'] - xc) + \n",
    "                      np.square(cell_all['y'] - yc) +\n",
    "                      np.square(cell_all['z'] - zc)) < rr**2)[0]\n",
    "    \n",
    "    if min_gas_density > 0:\n",
    "        ind_c = ind_c * (cell_all['var0'] > min_gas_density)\n",
    "\n",
    "    cell = cell_all[ind_c].copy()\n",
    "    # Match units to the GM galaxy output. \n",
    "    # position in Mpc\n",
    "    # velocity in kms\n",
    "    # mass in Msun (gal output originaly in 1e11Msun?)\n",
    "    # Should I convert dx in physical unit too? \n",
    "    if unit == \"physical\":\n",
    "        cell['x'] = (cell['x'] -0.5) * info.pboxsize\n",
    "        cell['y'] = (cell['y'] -0.5) * info.pboxsize\n",
    "        cell['z'] = (cell['z'] -0.5) * info.pboxsize\n",
    "        cell['dx'] = cell['dx'] * info.pboxsize\n",
    "\n",
    "    return cell"
   ]
  },
  {
   "cell_type": "code",
   "execution_count": 12,
   "metadata": {
    "collapsed": false
   },
   "outputs": [
    {
     "name": "stdout",
     "output_type": "stream",
     "text": [
      "data_dir = snapshots/\n",
      "Ranges = [[0.0, 1.0], [0.0, 1.0], [0.0, 1.0]]\n",
      "\n",
      "No AMR instance,\n",
      "Loading one...\n",
      "An AMR instance is created\n",
      "\n",
      "Updating info.cpus\n",
      "An AMR instance is created\n",
      "\n",
      "Updating info.cpus\n",
      " Simulation set up.\n",
      "An Hydro instance is created\n",
      "\n",
      " >>> working resolution (lmax) = 19\n",
      "[Halo.load_info] loading info\n",
      "[Halo.load_info] nout = 180, base =./29172/\n",
      "[Halo.load_info] info is loaded\n",
      "180\n",
      "Loading file: ./29172/GalaxyMaker/gal/tree_bricks180\n",
      "180\n"
     ]
    }
   ],
   "source": [
    "import load\n",
    "import tree.halomodule as hmo\n",
    "import numpy as np\n",
    "\n",
    "base='./29172/'\n",
    "nout = 180\n",
    "s = load.sim.Sim(nout=nout, base=wdir, setup=True)\n",
    "s.add_hydro(load=True)\n",
    "\n",
    "info = load.info.Info(base=wdir, nout=nout)\n",
    "\n",
    "gcat = hmo.Halo(base=wdir, is_gal=True, verbose=True, nout=nout)\n",
    "hcat = hmo.Halo(base=wdir, is_gal=False, nout=nout)"
   ]
  },
  {
   "cell_type": "code",
   "execution_count": 13,
   "metadata": {
    "collapsed": true
   },
   "outputs": [],
   "source": [
    "cluster = hcat.data[np.argmax(hcat.data['np'])]"
   ]
  },
  {
   "cell_type": "code",
   "execution_count": 14,
   "metadata": {
    "collapsed": true
   },
   "outputs": [],
   "source": [
    "def radial_cut(xc,yc,zc,r, x,y,z):\n",
    "    return np.where(np.square(xc-x) +\n",
    "                    np.square(yc-y) +\n",
    "                    np.square(zc-z) < r**2)[0]"
   ]
  },
  {
   "cell_type": "code",
   "execution_count": 15,
   "metadata": {
    "collapsed": false
   },
   "outputs": [
    {
     "name": "stdout",
     "output_type": "stream",
     "text": [
      "96\n"
     ]
    }
   ],
   "source": [
    "i_ok_gals = radial_cut(cluster['x'], cluster['y'], cluster['z'], 2.9* cluster['rvir'], gcat.data['x'], gcat.data['y'], gcat.data['z'])\n",
    "\n",
    "out_dir = wdir + 'GalaxyMaker/CELL_00180/'\n",
    "\n",
    "g_ok = gcat.data[i_ok_gals]\n",
    "\n",
    "print(len(g_ok))"
   ]
  },
  {
   "cell_type": "code",
   "execution_count": 18,
   "metadata": {
    "collapsed": false
   },
   "outputs": [
    {
     "name": "stdout",
     "output_type": "stream",
     "text": [
      "16826653.8381\n",
      "0.498657226562 0.525024414062\n",
      "16826653.8381\n",
      "0.511306762695 0.513214111328\n",
      "1989715.48446\n",
      "0.509857177734 0.512542724609\n",
      "4956167.32802\n",
      "0.508590698242 0.515258789062\n",
      "135.33817596\n",
      "0.511138916016 0.512664794922\n",
      "4956167.32802\n",
      "0.510452270508 0.513519287109\n",
      "287994.856149\n",
      "0.510406494141 0.512313842773\n",
      "885212.046825\n",
      "0.508361816406 0.511505126953\n",
      "214.275493232\n",
      "0.515930175781 0.517471313477\n",
      "4956167.32802\n",
      "0.509857177734 0.51188659668\n"
     ]
    }
   ],
   "source": [
    "for gal in g_ok[:10]:\n",
    "    #print(gal['x'], gal['y'], gal['z'], gal['r'])\n",
    "    gcell = extract_gas(s.hydro.cell, gal)\n",
    "    dump_cell(gcell, out_dir + \"gal_cells_\" + str(gal['id']).zfill(7), nout, gal['id'])\n",
    "    print(max(gcell['var0']))\n",
    "    print(min(gcell['x']), max(gcell['x']))"
   ]
  },
  {
   "cell_type": "code",
   "execution_count": 17,
   "metadata": {
    "collapsed": false
   },
   "outputs": [
    {
     "data": {
      "text/plain": [
       "dtype([('x', '<f8'), ('y', '<f8'), ('z', '<f8'), ('dx', '<f8'), ('var0', '<f8'), ('var1', '<f8'), ('var2', '<f8'), ('var3', '<f8'), ('var4', '<f8'), ('var5', '<f8')])"
      ]
     },
     "execution_count": 17,
     "metadata": {},
     "output_type": "execute_result"
    }
   ],
   "source": [
    "gcell.dtype"
   ]
  },
  {
   "cell_type": "code",
   "execution_count": 118,
   "metadata": {
    "collapsed": false
   },
   "outputs": [],
   "source": [
    "import matplotlib.pyplot as plt"
   ]
  },
  {
   "cell_type": "code",
   "execution_count": 18,
   "metadata": {
    "collapsed": false
   },
   "outputs": [
    {
     "data": {
      "text/plain": [
       "4"
      ]
     },
     "execution_count": 18,
     "metadata": {},
     "output_type": "execute_result"
    }
   ],
   "source": [
    "gal['id']"
   ]
  },
  {
   "cell_type": "code",
   "execution_count": 125,
   "metadata": {
    "collapsed": false
   },
   "outputs": [],
   "source": [
    "gc = gcell[range(0, len(gcell), 100)]\n",
    "\n",
    "plt.scatter(gc['x'], gc['y'])\n",
    "plt.show()"
   ]
  },
  {
   "cell_type": "code",
   "execution_count": 20,
   "metadata": {
    "collapsed": true
   },
   "outputs": [],
   "source": [
    "from utils import io"
   ]
  },
  {
   "cell_type": "code",
   "execution_count": 36,
   "metadata": {
    "collapsed": true
   },
   "outputs": [],
   "source": []
  },
  {
   "cell_type": "code",
   "execution_count": 37,
   "metadata": {
    "collapsed": false
   },
   "outputs": [
    {
     "data": {
      "text/plain": [
       "<module 'utils.io' from '/home/hoseung/Work/pyclusterevol/utils/io.py'>"
      ]
     },
     "execution_count": 37,
     "metadata": {},
     "output_type": "execute_result"
    }
   ],
   "source": []
  },
  {
   "cell_type": "code",
   "execution_count": 33,
   "metadata": {
    "collapsed": false
   },
   "outputs": [],
   "source": [
    "f = open(out_dir + \"gal_cells_0000010\", 'rb')\n",
    "nout = io.read_fortran(f, dtype=np.int32, check=False)[0]\n",
    "gid = io.read_fortran(f, dtype=np.int32, check=False)[0] \n",
    "ncell = io.read_fortran(f, dtype=np.int32, check=False)[0]\n",
    "x  = io.read_fortran(f, dtype=np.float64, n=ncell) # guess array length.\n",
    "y  = io.read_fortran(f, dtype=np.float64, n=ncell)\n",
    "z  = io.read_fortran(f, dtype=np.float64, n=ncell)\n",
    "dx = io.read_fortran(f, dtype=np.float64, n=ncell)\n",
    "v0 = io.read_fortran(f, dtype=np.float64, n=ncell)\n",
    "v1 = io.read_fortran(f, dtype=np.float64, n=ncell)\n",
    "v2 = io.read_fortran(f, dtype=np.float64, n=ncell)\n",
    "v3 = io.read_fortran(f, dtype=np.float64, n=ncell)\n",
    "v4 = io.read_fortran(f, dtype=np.float64, n=ncell)\n",
    "v5 = io.read_fortran(f, dtype=np.float64, n=ncell)"
   ]
  },
  {
   "cell_type": "code",
   "execution_count": 35,
   "metadata": {
    "collapsed": false
   },
   "outputs": [
    {
     "data": {
      "text/plain": [
       "10"
      ]
     },
     "execution_count": 35,
     "metadata": {},
     "output_type": "execute_result"
    }
   ],
   "source": [
    "gid"
   ]
  },
  {
   "cell_type": "code",
   "execution_count": 89,
   "metadata": {
    "collapsed": true
   },
   "outputs": [],
   "source": [
    "f.close()"
   ]
  },
  {
   "cell_type": "code",
   "execution_count": null,
   "metadata": {
    "collapsed": true
   },
   "outputs": [],
   "source": []
  }
 ],
 "metadata": {
  "kernelspec": {
   "display_name": "Python 3",
   "language": "python",
   "name": "python3"
  },
  "language_info": {
   "codemirror_mode": {
    "name": "ipython",
    "version": 3
   },
   "file_extension": ".py",
   "mimetype": "text/x-python",
   "name": "python",
   "nbconvert_exporter": "python",
   "pygments_lexer": "ipython3",
   "version": "3.5.1+"
  }
 },
 "nbformat": 4,
 "nbformat_minor": 0
}
