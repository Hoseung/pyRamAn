{
 "cells": [
  {
   "cell_type": "code",
   "execution_count": 1,
   "metadata": {
    "collapsed": true
   },
   "outputs": [],
   "source": [
    "def link_circle_up(x, y, r, ax, finish=0):\n",
    "    \"\"\"\n",
    "    Given two points, draw circle at the first point and link it to the second point\n",
    "    without drawing the second point by default (so that it can repeat to build a long thread of bids).\n",
    "    for the last point, pass the radius of the last circle to the argument 'finish'\n",
    "    \n",
    "    For example,\n",
    "\n",
    "    fig = plt.figure()\n",
    "    ax = fig.add_subplot(111)\n",
    "    xpos = [1,1] &  ypos = [2,4]\n",
    "    link_circle(xpos, ypos, 10, ax)\n",
    "\n",
    "    xpos = [1,2] & ypos = [4,6]\n",
    "    link_circle(xpos, ypos, 30, ax, finish=30)\n",
    "    fig.show()\n",
    "    \"\"\"\n",
    "    ax.plot(x[0], y[0], 'o', ms=r, lw=2,  alpha=0.7, mfc='orange')\n",
    "    ax.plot(x, y, '-', c='black',alpha=0.7)\n",
    "    if finish > 0:\n",
    "        ax.plot(x[1], y[1], 'o', ms=20, lw=2, alpha=0.7, mfc='orange')    \n",
    "\n",
    "def get_xarr(n):\n",
    "    import numpy as np\n",
    "    arr=[]\n",
    "    a=0\n",
    "    for i in range(n):\n",
    "        a += (-1)**i * i\n",
    "        arr.append(a)\n",
    "    return np.asarray(arr)  \n",
    "        \n",
    "def recursive_tree(idx, tt, nstep, ax, x0, y0, dx, mass_unit=1e10):\n",
    "    import tree.draw_merger_tree as dmt\n",
    "    prgs = ctu.get_progenitors(tt, idx)\n",
    "    i_this_gal = np.where(tt['id'] == idx)\n",
    "    m = np.sqrt(tt[i_this_gal][\"mvir\"] / mass_unit)\n",
    "    #print(\"IDX:\", idx, \"prgs: \",prgs, \"mass:\", m, i_this_gal)\n",
    "    nprg = len(prgs)\n",
    "    if nstep == 0:\n",
    "        return \n",
    "    else:\n",
    "        if nprg == 0:\n",
    "            return\n",
    "        else:\n",
    "            if nprg > 1:\n",
    "                #dx *= 1.1\n",
    "                dx += 0.5\n",
    "#                print(\"Branch!\", nprg)\n",
    "\n",
    "            #xarr = get_xarr(nprg) * dx + x0\n",
    "            xarr = np.arange(nprg) * dx + x0\n",
    "            for i, x in zip(prgs, xarr):\n",
    "                link_circle_up([x0, x], [y0, y0 + 1], m, ax)\n",
    "                recursive_tree(i, tt, nstep - 1, ax, x, y0 + 1, dx, mass_unit=mass_unit)\n",
    "\n",
    "\n",
    "def extract_main_tree(treedata, idx=None, verbose=False):\n",
    "    \"\"\"\n",
    "        Returns a single branch/trunk of tree following only the main progenitors.\n",
    "        Works with both alltrees or atree.\n",
    "        Search until no progenitor is found. Doesn't matter how long the given tree is. \n",
    "        Only earlier snapshots are searched for.\n",
    "    \"\"\"\n",
    "    \n",
    "    if idx == None:\n",
    "        idx = treedata['id'][0]\n",
    "        if verbose:\n",
    "            print(\"No idx is given\")\n",
    "            print(\"idx = \", idx)\n",
    "\n",
    "    \n",
    "    nprg = 1\n",
    "    ind_list=[np.where(treedata['id'] == idx)[0][0]]\n",
    "    \n",
    "    # main progenitor = mmp.\n",
    "    while nprg > 0:        \n",
    "        idx = ctu.get_progenitors(treedata, idx, main=True)\n",
    "#        print(idx)\n",
    "        ind_list.append(np.where(treedata['id'] == idx[0])[0][0])\n",
    "\n",
    "        nprg = ctu.get_npr(treedata, idx[0])\n",
    "\n",
    "    return treedata[ind_list]\n",
    "\n",
    "\n",
    "\n",
    "def plot_atree(atree, galid):\n",
    "    fig, ax = plt.subplots(1)\n",
    "    ax.scatter(atree['aexp'], np.log10(atree['m']))\n",
    "    ax.title(galid)\n",
    "    plt.savefig(wdir + \"mergertrees/\" + sidgal + '.png')\n",
    "\n",
    "###############################################################################\n",
    "import matplotlib.pyplot as plt\n",
    "from tree import treemodule\n",
    "from tree import treeutils\n",
    "import pickle\n",
    "import numpy as np"
   ]
  },
  {
   "cell_type": "code",
   "execution_count": 2,
   "metadata": {
    "collapsed": false
   },
   "outputs": [
    {
     "name": "stdout",
     "output_type": "stream",
     "text": [
      "Go\n",
      "./GalaxyMaker/Trees/tree_0_0_0.dat\n",
      "header\n",
      "DAFFFS\n",
      "Loading Consistent Tree data from ASCII is done\n",
      "done\n",
      "------ NOUT fixed\n",
      "------ tree data extended\n"
     ]
    }
   ],
   "source": [
    "import tree.ctutils as ctu\n",
    "wdir='./'\n",
    "alltrees = treemodule.load_tree(wdir, is_gal=True, load_ascii=True, no_dump=True)"
   ]
  },
  {
   "cell_type": "code",
   "execution_count": null,
   "metadata": {
    "collapsed": false
   },
   "outputs": [],
   "source": [
    "aaa= ctu.augment_tree(alltrees.data, wdir, is_gal=True)"
   ]
  },
  {
   "cell_type": "code",
   "execution_count": null,
   "metadata": {
    "collapsed": false
   },
   "outputs": [],
   "source": [
    "nout_fi = 187\n",
    "nout_ini = 30\n",
    "\n",
    "\n",
    "i_final = np.where(alltrees.data[\"nout\"] == nout_fi)\n",
    "ttt_sub = alltrees.data[i_final]\n",
    "\n",
    "nouts = np.arange(nout_fi - nout_ini + 1)\n",
    "\n",
    "final_gals = ttt_sub['id']\n",
    "final_gals_org = ttt_sub['Orig_halo_id']\n",
    "\n",
    "plt.ioff()\n",
    "\n",
    "#figure(figsize=[6,6])\n",
    "#ax = fig.add_subplot(211)\n",
    "\n",
    "#aexps = np.unique(alltrees.data[\"aexp\"])[:len(nouts)]\n",
    "aexps = np.unique(alltrees.data[\"aexp\"])[:-len(nouts):-1]\n",
    "zreds = [\"%.2f\" % (1/i -1) for i in aexps]"
   ]
  },
  {
   "cell_type": "code",
   "execution_count": 1,
   "metadata": {
    "collapsed": false
   },
   "outputs": [],
   "source": [
    "def _load_ascii(self, filename):\n",
    "    cnt_header = 0\n",
    "\n",
    "    datatype =[ 'f8','i8','i8','i8','i8','i8','i8','i8','i8','f8'\\\n",
    "               ,'f8','f8','i8','f8','f8','f8','i8','f8','f8','f8'\\\n",
    "               ,'f8','f8','f8','f8','f8','f8','f8','i8','i8','i8'\\\n",
    "               ,'i8','i8','i8','i8','i8','f8','i8']#,\\      \n",
    "\n",
    "    with open(filename, 'rb') as f:   \n",
    "        for i in range(180):\n",
    "            line = f.readline()\n",
    "            line = line.decode('utf-8')\n",
    "            if line[0] != '#':\n",
    "                self.ntrees = int(line) # The first line after the header is the number of trees.\n",
    "                cnt_header = f.tell()\n",
    "                break\n",
    "        f.seek(cnt_header)\n",
    "        self.data = np.genfromtxt(f,dtype=datatype)\n",
    "\n",
    "    self.data.dtype.names=(\\\n",
    "        'aexp','id','desc_aexp','desc_id','nprog','pid','upid','desc_pid','phantom','sam_mvir'\\\n",
    "        ,'mvir','rvir','rs','vrms','mmp','aexp_last_MM','vmax','x','y','z'\\\n",
    "        ,'vx','vy','vz','jx','jy','jz','spin','b_id','d_id','tree_root_id'\\\n",
    "        ,'Orig_halo_id','nout','next_coprogenitor_d_id','last_progenitor_d_id'\\\n",
    "        ,'last_mainleaf_depthfirst_id', 'tidal_force', 'tidal_id')\n",
    "\n",
    "    print(\"Loading Consistent Tree data from ASCII is done\")"
   ]
  },
  {
   "cell_type": "code",
   "execution_count": 5,
   "metadata": {
    "collapsed": false
   },
   "outputs": [
    {
     "name": "stdout",
     "output_type": "stream",
     "text": [
      "./GalaxyMaker/Trees/tree_0_0_0.dat\n",
      "header\n",
      "DAFFFS\n",
      "Loading Consistent Tree data from ASCII is done\n"
     ]
    }
   ],
   "source": [
    "import numpy as np\n",
    "\n",
    "class abc():\n",
    "    pass\n",
    "\n",
    "ccc = treemodule.CTree()\n",
    "\n",
    "ccc._load_ascii('./GalaxyMaker/Trees/tree_0_0_0.dat')"
   ]
  },
  {
   "cell_type": "code",
   "execution_count": null,
   "metadata": {
    "collapsed": true
   },
   "outputs": [],
   "source": []
  },
  {
   "cell_type": "markdown",
   "metadata": {},
   "source": [
    "### ###\n"
   ]
  },
  {
   "cell_type": "code",
   "execution_count": 8,
   "metadata": {
    "collapsed": false
   },
   "outputs": [],
   "source": [
    "atree = ctu.extract_a_tree(alltrees.data, 270444)"
   ]
  },
  {
   "cell_type": "code",
   "execution_count": 5,
   "metadata": {
    "collapsed": false
   },
   "outputs": [],
   "source": [
    "indgal = (atree['nout'] > 87) * (atree['nout'] < 105) * (atree['m'] > 1e10)"
   ]
  },
  {
   "cell_type": "code",
   "execution_count": 5,
   "metadata": {
    "collapsed": false
   },
   "outputs": [
    {
     "name": "stdout",
     "output_type": "stream",
     "text": [
      "[172573 171034 171035 169490 169491 167950 167951 166399 166400 164832\n",
      " 164833 163270 161715 160144 160145 158542 158543 156939 156940 155312\n",
      " 155314 153694 153696 152060 152062 150407 150409 148739 148741 147040\n",
      " 147042]\n"
     ]
    }
   ],
   "source": [
    "print(atree['id'][indgal])"
   ]
  },
  {
   "cell_type": "code",
   "execution_count": 6,
   "metadata": {
    "collapsed": false
   },
   "outputs": [],
   "source": [
    "m1 = extract_main_tree(alltrees.data, idx=171034)\n",
    "m2 = extract_main_tree(alltrees.data, idx=171035)"
   ]
  },
  {
   "cell_type": "code",
   "execution_count": 9,
   "metadata": {
    "collapsed": false
   },
   "outputs": [],
   "source": [
    "sub1 = ctu.extract_main_tree(atree, idx=171034, no_subset=True)\n",
    "sub2 = ctu.extract_main_tree(atree, idx=171035, no_subset=True)"
   ]
  },
  {
   "cell_type": "code",
   "execution_count": 10,
   "metadata": {
    "collapsed": false
   },
   "outputs": [],
   "source": [
    "plt.scatter(sub1['aexp'], sub1['m'], c='red')\n",
    "plt.scatter(sub2['aexp'], sub2['m'], c='blue')\n",
    "plt.show()"
   ]
  },
  {
   "cell_type": "code",
   "execution_count": 13,
   "metadata": {
    "collapsed": false
   },
   "outputs": [
    {
     "data": {
      "text/plain": [
       "dtype([('aexp', '<f8'), ('id', '<i8'), ('desc_aexp', '<i8'), ('desc_id', '<i8'), ('nprog', '<i8'), ('pid', '<i8'), ('upid', '<i8'), ('desc_pid', '<i8'), ('phantom', '<i8'), ('sam_mvir', '<f8'), ('mvir', '<f8'), ('rvir', '<f8'), ('rs', '<i8'), ('vrms', '<f8'), ('mmp', '<f8'), ('aexp_last_MM', '<f8'), ('vmax', '<i8'), ('x', '<f8'), ('y', '<f8'), ('z', '<f8'), ('vx', '<f8'), ('vy', '<f8'), ('vz', '<i8'), ('jx', '<i8'), ('jy', '<i8'), ('jz', '<f8'), ('spin', '<i8'), ('b_id', '<i8'), ('d_id', '<i8'), ('tree_root_id', '<i8'), ('Orig_halo_id', '<i8'), ('nout', '<i8'), ('next_coprogenitor_d_id', '<i8'), ('last_progenitor_d_id', '<f8'), ('np', '<i4'), ('m', '<f4'), ('r', '<f4'), ('tvir', '<f4'), ('cvel', '<f4'), ('sig', '<f4'), ('sigbulge', '<f4'), ('mbulge', '<f4')])"
      ]
     },
     "execution_count": 13,
     "metadata": {},
     "output_type": "execute_result"
    }
   ],
   "source": [
    "sub1.dtype"
   ]
  },
  {
   "cell_type": "code",
   "execution_count": 11,
   "metadata": {
    "collapsed": false
   },
   "outputs": [],
   "source": [
    "qlist = [\"mvir\", \"rvir\", \"rs\", \"vrms\", \"vmax\",\n",
    "         \"x\", \"y\", \"z\", \"vx\", \"vy\",\n",
    "         \"vz\", \"jx\", \"jy\", \"jz\", \"spin\", \"np\", \"m\", \"r\",\n",
    "         \"tvir\", \"cvel\", \"sig\", \"sigbulge\", \"mbulge\"][:]\n",
    "fig, ax = plt.subplots(8,3)\n",
    "ax= ax.ravel()\n",
    "\n",
    "for i, q in enumerate(qlist):\n",
    "    ax[i].plot(sub1['aexp'], sub1[q], c='blue')\n",
    "    ax[i].plot(sub2['aexp'], sub2[q], c='red')\n",
    "    ax[i].set_title(q)\n",
    "\n",
    "plt.tight_layout()\n",
    "plt.show()"
   ]
  },
  {
   "cell_type": "code",
   "execution_count": 7,
   "metadata": {
    "collapsed": false
   },
   "outputs": [],
   "source": [
    "ind1 = m1['nout'] > 80\n",
    "ind2 = m2['nout'] > 80\n",
    "plt.plot(m1['nout'][ind1],m1['m'][ind1])\n",
    "plt.plot(m2['nout'][ind2],m2['m'][ind2])\n",
    "plt.show()"
   ]
  },
  {
   "cell_type": "code",
   "execution_count": 8,
   "metadata": {
    "collapsed": false
   },
   "outputs": [],
   "source": [
    "plt.scatter(atree[indgal]['aexp'], atree[indgal]['m'])\n",
    "plt.show()"
   ]
  },
  {
   "cell_type": "code",
   "execution_count": null,
   "metadata": {
    "collapsed": true
   },
   "outputs": [],
   "source": []
  },
  {
   "cell_type": "code",
   "execution_count": 46,
   "metadata": {
    "collapsed": false
   },
   "outputs": [
    {
     "name": "stdout",
     "output_type": "stream",
     "text": [
      "[('aexp', '<f8'), ('id', '<i8'), ('desc_aexp', '<i8'), ('desc_id', '<i8'), ('nprog', '<i8'), ('pid', '<i8'), ('upid', '<i8'), ('desc_pid', '<i8'), ('phantom', '<i8'), ('sam_mvir', '<f8'), ('mvir', '<f8'), ('rvir', '<f8'), ('rs', '<i8'), ('vrms', '<f8'), ('mmp', '<f8'), ('aexp_last_MM', '<f8'), ('vmax', '<i8'), ('x', '<f8'), ('y', '<f8'), ('z', '<f8'), ('vx', '<f8'), ('vy', '<f8'), ('vz', '<i8'), ('jx', '<i8'), ('jy', '<i8'), ('jz', '<f8'), ('spin', '<i8'), ('b_id', '<i8'), ('d_id', '<i8'), ('tree_root_id', '<i8'), ('Orig_halo_id', '<i8'), ('nout', '<i8'), ('next_coprogenitor_d_id', '<i8'), ('last_progenitor_d_id', '<f8'), ('np', '<i4'), ('m', '<f4'), ('r', '<f4'), ('tvir', '<f4'), ('cvel', '<f4'), ('sig', '<f4'), ('sigbulge', '<f4'), ('mbulge', '<f4')]\n",
      "(1.0, 270444, -1, -1, 1, -1, -1, -1, 0, 128133000000.0, 126100000000.0, 318.616, -1, 0.0, 1.0, 0.95, -1, 108.567, 160.908, 76.7034, -358.22, -467.53, -1, -1, -1, 913300000000000.0, -1, 38691, 38691, 270444, 4, 187, -1, 40200.0, 187238, 88781709312.0, 0.0015930818626657128, 101502.2265625, 53.17292404174805, 102.47334289550781, 92.47478485107422, 0.44415220618247986)\n"
     ]
    }
   ],
   "source": [
    "print(atree.dtype)\n",
    "print(atree[0])"
   ]
  },
  {
   "cell_type": "code",
   "execution_count": 75,
   "metadata": {
    "collapsed": false
   },
   "outputs": [
    {
     "name": "stdout",
     "output_type": "stream",
     "text": [
      " aexp  : 1.00\n",
      " id  : 270444\n",
      " desc_aexp  : -1\n",
      " desc_id  : -1\n",
      " nprog  : 1\n",
      " pid  : -1\n",
      " upid  : -1\n",
      " desc_pid  : -1\n",
      " phantom  : 0\n",
      " sam_mvir  : 1.281e+11\n",
      " mvir  : 1.261e+11\n",
      " rvir  : 318.62\n",
      " rs  : -1\n",
      " vrms  : 0.00\n",
      " mmp  : 1.00\n",
      " aexp_last_MM  : 0.95\n",
      " vmax  : -1\n",
      " x  : 108.57\n",
      " y  : 160.91\n",
      " z  : 76.70\n",
      " vx  : -358.22\n",
      " vy  : -467.53\n",
      " vz  : -1\n",
      " jx  : -1\n",
      " jy  : -1\n",
      " jz  : 9.133e+14\n",
      " spin  : -1\n",
      " b_id  : 38691\n",
      " d_id  : 38691\n",
      " tree_root_id  : 270444\n",
      " Orig_halo_id  : 4\n",
      " nout  : 187\n",
      " next_coprogenitor_d_id  : -1\n",
      " last_progenitor_d_id  : 4.020e+04\n",
      " np  : 1.872e+05\n",
      " m  : 8.878e+10\n",
      " r  : 0.00\n",
      " tvir  : 1.015e+05\n",
      " cvel  : 53.17\n",
      " sig  : 102.47\n",
      " sigbulge  : 92.47\n",
      " mbulge  : 0.44\n"
     ]
    }
   ],
   "source": [
    "for t,q in zip(atree.dtype.names, atree[0]):\n",
    "    if isinstance(q, np.int64):\n",
    "        #print(\"int\")\n",
    "        print(\" {}  : {:d}\".format(t, q))\n",
    "    elif q > 1e4:\n",
    "        print(\" {}  : {:.3e}\".format(t, q))\n",
    "    else:\n",
    "        print(\" {}  : {:.2f}\".format(t, q))"
   ]
  },
  {
   "cell_type": "code",
   "execution_count": null,
   "metadata": {
    "collapsed": true
   },
   "outputs": [],
   "source": [
    "import os\n",
    "if not os.path.isdir(wdir + \"mergertrees/\"):\n",
    "    os.mkdir(wdir + \"mergertrees/\")\n",
    "\n",
    "\n",
    "fig, ax = plt.subplots(1,2)\n",
    "fig.set_size_inches([12,6])\n",
    "for galid in final_gals:\n",
    "    sidgal = str(galid).zfill(5)      \n",
    "    \n",
    "    #print(zreds)\n",
    "    atree = ctu.extract_a_tree(alltrees.data, galid)\n",
    "    mtree = extract_main_tree(atree)\n",
    "    \n",
    "    ax[0].scatter(atree['aexp'], np.log10(atree['m']), edgecolors='none', alpha=0.3)\n",
    "    ax[0].scatter(mtree['aexp'], np.log10(mtree['m']), edgecolors='none', alpha=0.6,\n",
    "                  facecolors='red')\n",
    "    ax[0].set_xlim([0.15,1.1])\n",
    "    ax[0].set_xticks(aexps[0:151:20])\n",
    "    ax[0].set_xticklabels(zreds[0:151:20])\n",
    "    ax[0].set_title(galid)\n",
    "    \n",
    "    recursive_tree(galid, atree, 150, ax[1], 0, 0, 0.8, mass_unit=2e8)\n",
    "    \n",
    "    # y axis label (redshift)\n",
    "    ax[1].set_ylabel(\"Redshift\")\n",
    "    ax[1].set_ylim([-5,155])\n",
    "    ax[1].set_yticks(range(0,151,10))\n",
    "    ax[1].set_yticklabels(zreds[0:151:10])\n",
    "    #plt.yticks(range(0,151,10), zreds[0:151:10])\n",
    "    ax[1].set_title(sidgal + \", \" + str(atree[0]['Orig_halo_id']))\n",
    "    #fig.show()\n",
    "    plt.savefig(wdir + \"mergertrees/\" + sidgal + '.png')\n",
    "    ax[0].clear()\n",
    "    ax[1].clear()\n",
    "    \n",
    "    #plt.close()\n",
    "\n",
    "\n",
    "plt.close()"
   ]
  },
  {
   "cell_type": "code",
   "execution_count": 34,
   "metadata": {
    "collapsed": true
   },
   "outputs": [],
   "source": [
    "import tree.halomodulemodule as hmo"
   ]
  },
  {
   "cell_type": "code",
   "execution_count": 37,
   "metadata": {
    "collapsed": true
   },
   "outputs": [],
   "source": [
    "gg = hmo.Halo(nout=187, is_gal=True, load=True)"
   ]
  },
  {
   "cell_type": "code",
   "execution_count": 39,
   "metadata": {
    "collapsed": false
   },
   "outputs": [
    {
     "data": {
      "text/plain": [
       "dtype((numpy.record, [('np', '<i4'), ('id', '<i4'), ('level', '<i4'), ('host', '<i4'), ('sub', '<i4'), ('nsub', '<i4'), ('nextsub', '<i4'), ('m', '<f4'), ('mvir', '<f4'), ('r', '<f4'), ('rvir', '<f4'), ('tvir', '<f4'), ('cvel', '<f4'), ('x', '<f4'), ('y', '<f4'), ('z', '<f4'), ('vx', '<f4'), ('vy', '<f4'), ('vz', '<f4'), ('ax', '<f4'), ('ay', '<f4'), ('az', '<f4'), ('sp', '<f4'), ('idx', '<i4'), ('p_rho', '<f4'), ('p_c', '<f4'), ('energy', '<f8', (3,)), ('radius', '<f8', (4,)), ('sig', '<f4'), ('sigbulge', '<f4'), ('mbulge', '<f4'), ('hosthalo', '<i4'), ('g_nbin', '<i4'), ('g_rr', '<f4', (100,)), ('g_rho', '<f4', (100,))]))"
      ]
     },
     "execution_count": 39,
     "metadata": {},
     "output_type": "execute_result"
    }
   ],
   "source": [
    "gg.data.dtype"
   ]
  },
  {
   "cell_type": "code",
   "execution_count": 44,
   "metadata": {
    "collapsed": false
   },
   "outputs": [
    {
     "data": {
      "text/plain": [
       "array([ -1.13061008e+01,  -7.01060100e-03,   9.38960731e-01,\n",
       "         4.52640676e+00,  -3.07331115e-01,  -2.36604512e-02,\n",
       "         1.46900741e-02,  -8.77192542e-02,  -4.45459175e+00,\n",
       "        -1.81807458e-01,   3.49070072e+00,  -2.82486659e-02,\n",
       "        -7.14577660e-02,  -1.05326967e-02,   2.70612895e-01,\n",
       "         1.45428600e-02,  -5.92599273e-01,  -2.03332162e+00,\n",
       "        -1.08956069e-01,   9.83856869e+00,  -2.38497835e-02,\n",
       "         2.58718014e-01,   1.66282490e-01,  -1.70101392e+00,\n",
       "        -7.14281201e-02,   1.19412087e-01,  -6.33126032e-03,\n",
       "        -5.22932751e-05,  -1.20246212e-03,   7.46302074e-03,\n",
       "         2.38446984e-02,   1.02446623e-01,   2.28215218e-01,\n",
       "        -4.77806330e-02,   1.25209346e-01,   2.12405226e-03,\n",
       "        -9.21617672e-02,  -2.27775681e-03,   1.91194534e+00,\n",
       "        -6.06292009e-01,   3.07610491e-03,   1.74930636e-02,\n",
       "        -1.18322065e-02,   3.23338807e-03,  -7.33600976e-03,\n",
       "         1.71045613e-04,   1.11963636e-04,   4.28991541e-02,\n",
       "         2.71807648e-02,   4.63290252e-02,  -2.03002454e-03,\n",
       "        -4.63827774e-02,  -6.42937096e-03,  -1.20510781e+00,\n",
       "         1.66593809e-02,  -3.82814615e-04,   5.49704360e-04,\n",
       "        -3.87786981e-03,  -4.25229082e-04,  -3.24554765e-03,\n",
       "        -9.81627591e-03,  -5.75320087e-02,  -6.90078676e-01,\n",
       "        -2.05321252e-04,  -7.42516994e-01,  -6.92578079e-03,\n",
       "        -3.01276818e-02,   4.41479264e-03,  -6.68255147e-03,\n",
       "         2.92358130e-01,  -2.07320705e-01,   2.32449081e-02,\n",
       "         1.59997740e-04,  -4.51671705e-02,  -1.05478086e-01,\n",
       "        -4.05751722e-04,   2.05461169e-03,  -6.50718692e-04,\n",
       "        -5.23156114e-03,   8.50446336e-03,   1.74370245e-03,\n",
       "         6.19991481e-01,  -5.87132818e-04,   4.81129112e-03,\n",
       "        -1.93551794e-01,   8.50663148e-03,   6.67626679e-01,\n",
       "        -2.19051796e-03,   2.47648340e-02,   8.76575796e-05,\n",
       "        -1.07450597e-02,  -2.81147240e-03,  -1.00494012e-01,\n",
       "        -1.13870334e-02,   1.70664694e-02,   7.45130377e-03,\n",
       "        -2.40400732e-02,   3.87810282e-02,   1.32996812e-01,\n",
       "        -1.84601471e-02,  -2.09725052e-02,   1.01924059e-03,\n",
       "        -1.50889745e-02,   3.29156741e-02,   3.33862007e-02,\n",
       "        -5.96374972e-03,  -5.85682280e-02,   1.89727834e-05,\n",
       "         1.70007080e-03,  -8.54803994e-02,   4.39427700e-03,\n",
       "        -2.30864845e-02,   6.11579604e-02,   5.41461296e-02,\n",
       "         1.19060781e-02,   1.24903545e-01,   1.19922645e-02,\n",
       "        -2.95679897e-01,  -1.58830751e-02,  -3.34258366e-04,\n",
       "        -1.58411136e-03,   1.19023532e-01,  -2.19402462e-03,\n",
       "         4.37244853e-05,  -1.26271416e-03,  -1.10400157e-04,\n",
       "        -6.04121089e-02,   8.46507202e-04,   4.11088804e-05,\n",
       "        -2.91485861e-02,   1.55013637e-03,  -2.22798390e-03,\n",
       "        -3.32445838e-02,   1.07978820e-03,   1.72030064e-03,\n",
       "        -1.00863517e-05,   3.56623642e-02,   5.48591986e-02,\n",
       "        -2.59134715e-04,  -6.83628768e-03,  -8.74604939e-06,\n",
       "         2.99673039e-03,  -1.36811705e-03,   1.08844996e-03,\n",
       "         3.60140771e-01,  -8.57160339e-05,   6.70737028e-02,\n",
       "         4.48042639e-02,   1.13955943e-03,  -6.91484749e-01,\n",
       "         1.88995444e-03,  -2.92602610e-02,   1.36459470e-01,\n",
       "        -2.94343203e-01,  -2.16520857e-02,   2.33466577e-04,\n",
       "         7.34872519e-05,  -5.17808739e-03,   9.25131244e-05,\n",
       "         4.06752601e-02,   4.35270183e-03,  -1.87890045e-02,\n",
       "        -5.04904136e-04,   2.12628227e-02,  -8.97580385e-02,\n",
       "        -1.21104401e-02,  -6.41605444e-03,   1.11380843e-02,\n",
       "        -1.79274136e-03,   6.22881390e-02,  -3.24105024e-02,\n",
       "         4.78457026e-02,   1.56794256e-03,  -5.64894266e-03,\n",
       "        -2.70062150e-03,  -2.50574143e-04,  -1.42313661e-02,\n",
       "         3.64728730e-05,   3.17923464e-02,  -1.57303065e-02,\n",
       "         1.16035789e-02,   2.40822901e-05,  -1.75346376e-03,\n",
       "        -1.01928255e-02,   3.09451338e-04,  -6.92088231e-02,\n",
       "        -6.92152709e-04,  -3.40803228e-02,   2.04159636e-02,\n",
       "        -2.63960520e-03,   7.41272792e-03,  -1.03653212e-04,\n",
       "         6.99795055e-05,   3.42469551e-02,  -2.85807066e-03,\n",
       "         1.57642066e-02,   2.70506758e-02,  -2.01781141e-03,\n",
       "        -1.06937727e-02,  -5.96767450e-06,  -1.00266458e-02,\n",
       "         5.92882570e-04,  -8.13935045e-03,  -1.26416147e-01,\n",
       "        -3.71586008e-04,  -1.60189556e-05,  -3.09379655e-03,\n",
       "         1.29895452e-02,   2.55103572e-03,   2.01713730e-04,\n",
       "         7.55485939e-03,   4.20312630e-03,  -2.57897601e-02,\n",
       "         1.58232381e-03,   3.63518298e-02,   3.52055728e-02,\n",
       "         8.91783237e-02,  -1.51401234e-03,  -4.55039274e-03,\n",
       "         2.92083412e-01,   2.07047854e-02,  -1.30678658e-04,\n",
       "        -7.01552024e-03,   2.56122695e-03,  -6.47974946e-03,\n",
       "         1.11473433e-03,  -3.42513807e-02,  -1.27178645e-02,\n",
       "         1.40368296e-02,   1.25869870e-01,  -6.19080311e-05,\n",
       "         5.73500991e-04,  -1.88083183e-02,   6.08004193e-05,\n",
       "         2.03088089e-03,  -9.86426137e-04,  -8.64544418e-03,\n",
       "         5.19856485e-03,  -3.62984790e-03,   4.00237972e-04,\n",
       "         6.34964043e-03,   1.39896050e-02,   2.44118217e-02,\n",
       "        -3.70966372e-05,   1.22776302e-03,   4.29564482e-03,\n",
       "         3.55748110e-03,  -1.26896531e-03,   9.69411656e-02,\n",
       "        -1.97844813e-03,   1.67889576e-02,  -7.25873133e-06,\n",
       "        -1.72732890e-01,   1.77340684e-04,   1.49352560e-02,\n",
       "        -3.09568690e-03,  -4.03893320e-03,  -6.72525261e-03,\n",
       "        -2.63320636e-02,   2.08960241e-03,   9.58580058e-04,\n",
       "         8.76181666e-03,  -6.65895874e-03,  -5.08765770e-05,\n",
       "        -7.10614142e-04,   3.93728577e-02,  -3.88481189e-03,\n",
       "         1.98479295e-02,  -5.01328090e-04,  -1.13110552e-02,\n",
       "        -2.55535170e-02,  -1.06232092e-02,  -4.26529441e-03,\n",
       "        -2.32140664e-02,  -6.06372312e-04,  -1.74291339e-02,\n",
       "         2.09272548e-04,  -6.75865624e-04,   6.13886863e-03,\n",
       "        -7.77314231e-03,  -8.91840376e-04,  -4.15740721e-02,\n",
       "         1.86639978e-03,   1.15597690e-03,   4.23092133e-04,\n",
       "        -7.89151964e-05,  -6.59127429e-04,  -2.15510069e-03,\n",
       "        -8.89033690e-05,  -1.57480768e-03,  -9.33720148e-04,\n",
       "        -9.07185313e-05,  -1.48977013e-03,   1.27553884e-02,\n",
       "        -2.02263909e-05,   5.45742130e-03,   5.37056429e-03,\n",
       "         8.73764511e-05,   8.32590982e-02,  -6.45185448e-03,\n",
       "         3.33467469e-04,   4.42265446e-04,   1.77727714e-02,\n",
       "         8.52815516e-04,   4.52884659e-03,   1.48300864e-02,\n",
       "        -5.86717331e-04,   1.19411002e-03,   7.91703569e-05,\n",
       "         6.37089042e-03,   2.40421318e-03,   7.30370957e-05,\n",
       "        -3.11397052e-05,  -6.35005627e-03,  -5.75418992e-04,\n",
       "         1.23634562e-02,   3.09016872e-02,  -7.96583854e-03,\n",
       "        -1.76283228e-03,   4.84674610e-03,  -7.72616267e-02,\n",
       "        -7.60963978e-03,  -1.26931263e-05,   5.15314238e-03,\n",
       "         3.81380887e-05,   1.30937609e-04,  -2.85336646e-05,\n",
       "        -9.26445122e-04,  -1.66974533e-02,   8.09629411e-02,\n",
       "         8.70578177e-03,  -6.31551212e-03,   2.76714945e-05,\n",
       "        -3.62170162e-03,   1.41683910e-02,  -3.72628041e-04,\n",
       "         1.59395655e-04,   2.12133257e-03,   1.15531278e-04,\n",
       "         1.92477557e-04,  -1.18536800e-02,  -7.68892840e-03,\n",
       "         1.39676592e-06,  -2.12314626e-04,   8.62383786e-06,\n",
       "         1.02526066e-03,   1.12655363e-03,   4.00903076e-03,\n",
       "        -1.96148303e-05,  -8.42811482e-04,   1.47978088e-03,\n",
       "         5.43725968e-04,   3.97496537e-04,   1.85408877e-04,\n",
       "         2.50037829e-03,  -4.71475348e-03,  -5.88218507e-04,\n",
       "        -1.52247885e-04,   1.35298042e-05,  -1.09885982e-03,\n",
       "        -1.64109315e-05,  -3.53817275e-04,  -1.84287273e-04,\n",
       "         1.21688699e-05,   9.75864183e-04,  -2.09083693e-04,\n",
       "         9.03317123e-04,  -2.71080760e-04,  -8.88360431e-04,\n",
       "         6.49277237e-04,   4.38720779e-03,   9.23374959e-04,\n",
       "        -8.86889757e-06,   1.74637279e-03,   1.52835928e-05,\n",
       "         1.13042779e-05,   1.25682309e-01,   1.27684849e-04,\n",
       "        -9.20539896e-04,   6.25831308e-04,   1.56316615e-04,\n",
       "         3.71505885e-04,   2.91976088e-04,   3.60330613e-03,\n",
       "         1.13865681e-04,  -2.78533807e-05,   7.22839730e-04,\n",
       "        -3.75365307e-05,  -2.45803330e-05,   1.25079887e-05,\n",
       "        -1.00491021e-03,  -2.38329684e-03,  -3.94915650e-03,\n",
       "         6.88358114e-06,  -7.83856865e-03,  -3.87391029e-03,\n",
       "         1.20116379e-02,  -9.25274007e-03,   4.75073874e-04,\n",
       "         6.83108578e-04,  -2.97569150e-05,  -3.72456088e-05,\n",
       "        -2.97922234e-04,   3.66598164e-04,  -8.51395191e-04,\n",
       "         4.16890020e-03,  -6.35947159e-04,  -2.00839804e-05,\n",
       "         1.94944981e-02,   1.03501766e-03,   2.09105164e-02,\n",
       "        -6.76175172e-04,   1.62378019e-05,  -9.06389905e-05,\n",
       "        -3.45863918e-05,  -3.42937551e-06,   3.43324027e-05,\n",
       "        -2.17990018e-02,  -2.67747929e-03,   5.71374595e-03,\n",
       "         2.34727544e-04,   3.42363084e-04,  -4.57811511e-05,\n",
       "         4.32402412e-05,   3.35239834e-04,   4.00934048e-04,\n",
       "         1.77278183e-04,  -1.15278456e-03,  -1.23550009e-03,\n",
       "        -1.09912187e-03,  -3.90618879e-05,  -7.82411007e-05,\n",
       "        -3.22182779e-04,   9.06523317e-03,   8.01037473e-04,\n",
       "        -8.94469384e-04,   4.04379789e-05,  -8.20040877e-04,\n",
       "         9.04718217e-06,  -1.70742460e-02,  -1.63202116e-03,\n",
       "        -8.58572486e-04,  -2.34950247e-04,   9.52035561e-03,\n",
       "        -4.18706797e-02,  -1.47787679e-04,  -5.44697628e-04,\n",
       "         2.70902558e-04,  -3.63890864e-02,  -3.03900102e-04,\n",
       "         4.06963154e-05,  -3.11969733e-03,  -6.04165078e-04,\n",
       "        -8.45331815e-05,   3.63477186e-04,  -1.07105942e-02,\n",
       "        -4.89871530e-03,  -2.53119157e-04,   1.19155535e-04,\n",
       "        -4.20804252e-04,  -3.57470766e-04,   6.53769588e-04,\n",
       "        -1.39245065e-04,   1.65638339e-04,   7.93484651e-05,\n",
       "        -6.10271709e-05,  -2.65983690e-04,   4.53484972e-04,\n",
       "         1.55720609e-05,  -2.33286228e-05,  -7.20688549e-05,\n",
       "        -3.40271545e-05,  -1.94688091e-05,   2.04117410e-03,\n",
       "        -2.47735243e-05,  -3.37756392e-05,  -2.18017030e-05,\n",
       "        -8.18578337e-05,   1.36980680e-05,   3.72873401e-05,\n",
       "        -3.33152566e-04,  -1.17035466e-03,  -1.64640415e-03,\n",
       "         1.90342905e-03,   3.50511604e-04,  -3.90757079e-04,\n",
       "         6.55328631e-06,  -4.64434939e-04,   3.24834429e-04,\n",
       "         5.71906785e-05,   1.29809006e-04,   1.53763755e-03,\n",
       "        -4.66573692e-05,   4.61701802e-06,   1.21623860e-04,\n",
       "         3.85043968e-04,  -1.76608114e-06,  -4.18304844e-05,\n",
       "         2.60805013e-04,  -3.98882039e-05,  -8.03817966e-05,\n",
       "        -1.56706756e-05,   1.81395575e-04,  -8.71501179e-05,\n",
       "         1.06118969e-03,   1.07458956e-03,  -6.45730033e-05,\n",
       "         5.21287031e-04,  -1.56311702e-03,   1.20462893e-04,\n",
       "        -6.12375970e-06,  -3.86659412e-05,   6.70389563e-04,\n",
       "         6.47400593e-05,  -1.63377880e-03,  -6.51954360e-06,\n",
       "        -1.51478278e-04,  -7.50904030e-04,   3.70005630e-02,\n",
       "        -1.10656256e-04,  -1.65475085e-05,  -1.16277682e-02,\n",
       "         1.42297315e-04,  -2.95329257e-04,   5.16548567e-03,\n",
       "         3.92191717e-03,  -1.32628502e-05,  -7.40817313e-06,\n",
       "         1.19189604e-03,   1.84347573e-05,   6.94158643e-06,\n",
       "         1.44353717e-05,   3.10537464e-04,  -2.28769437e-04,\n",
       "         1.04303600e-03,  -4.92831285e-04,  -1.30539411e-04,\n",
       "        -2.46131949e-05,  -3.25041992e-06,   8.00774797e-06,\n",
       "         3.76454031e-04,  -5.52880636e-04,   5.15720640e-05,\n",
       "        -3.12058907e-03,  -6.86210478e-05,   2.93951656e-04,\n",
       "         4.09068016e-05,  -3.93937284e-04,   3.12023680e-04,\n",
       "         3.70709895e-05,  -1.67762410e-04,   6.88575674e-05,\n",
       "         1.12635513e-04,  -8.68125178e-04,  -5.14732383e-05,\n",
       "        -5.08763551e-05,  -1.03690763e-04,   4.03941260e-04,\n",
       "        -3.91871424e-07,  -2.46897052e-05,   8.52276116e-06,\n",
       "         8.17399632e-05,  -2.06103541e-05,  -4.97765250e-05,\n",
       "         2.13224979e-04,   1.15692965e-04,   6.70234876e-05,\n",
       "         2.56866151e-05,   1.04967691e-03,   2.01047093e-04,\n",
       "        -7.44777280e-05,   4.48275350e-05,  -1.97716887e-04,\n",
       "        -3.26177033e-05,  -1.82889198e-04,   6.22025909e-05,\n",
       "        -3.77148739e-04,   7.16213472e-05,   3.55616139e-05,\n",
       "         5.18174435e-04,   9.65363361e-05,  -9.80485114e-04,\n",
       "        -2.85013783e-04,  -3.67140346e-05,   3.47015593e-05,\n",
       "        -1.63261677e-04,  -1.15982853e-04,  -8.05283344e-05,\n",
       "        -1.72853016e-03,   7.28949526e-05,   1.50475171e-04,\n",
       "         1.98646703e-05,   1.00819534e-03,   3.35495565e-06,\n",
       "        -1.39135018e-05,  -1.19865162e-03,   2.35921175e-06,\n",
       "         2.01546893e-04,  -5.45047769e-05,   1.03321527e-05,\n",
       "        -9.27705696e-05,   1.28741347e-04,   2.98363575e-05,\n",
       "        -5.08862468e-06,  -2.12882496e-05,  -7.11160683e-05,\n",
       "         1.27163396e-04,  -5.71573173e-06,   1.43831043e-04,\n",
       "        -7.40004689e-05,  -3.09529220e-04,   3.58596095e-04,\n",
       "         8.03284580e-04,   3.31235933e-04,   5.01714094e-05,\n",
       "        -1.78903410e-05,   6.97997120e-06,   1.27523002e-04,\n",
       "         3.72156246e-05,   1.51787535e-05,  -3.22575419e-04,\n",
       "         1.21573743e-04,  -2.15603082e-04,   3.11595286e-05,\n",
       "        -5.31833848e-06,  -4.30053158e-04,   1.36181712e-04,\n",
       "         1.84480759e-05,  -7.85709854e-05,  -1.56426802e-02,\n",
       "        -3.61856837e-05,   3.26105190e-04,  -2.96883827e-05,\n",
       "         1.26808314e-04,  -1.08386412e-05,  -6.07958918e-06,\n",
       "        -5.38493914e-05,   6.02090207e-04,   7.99987720e-06,\n",
       "         2.92867655e-04,  -2.11183447e-03,   8.60092259e-05,\n",
       "         3.11255717e-05,  -4.52994755e-05,  -5.51520061e-05,\n",
       "         2.89018794e-06,   3.68461497e-06,  -1.03846600e-04,\n",
       "         1.44906386e-04,   3.24928178e-03,  -5.64876282e-05,\n",
       "        -1.22714546e-05,  -2.49459554e-05,  -4.93799616e-03,\n",
       "         1.45307959e-05,  -2.58948785e-06,   5.65888658e-05,\n",
       "        -2.26109969e-05,   9.79850938e-06,   4.15184390e-04,\n",
       "         4.26743645e-05,  -8.34126331e-05,  -5.76464345e-06,\n",
       "         4.71874846e-05,  -2.02140684e-04,   3.64742373e-05,\n",
       "        -6.31069925e-05,   3.27565782e-02,  -1.37422245e-03,\n",
       "        -7.61069357e-03,  -3.96429654e-03,  -9.34342202e-03,\n",
       "        -2.00008857e-04,   2.38150544e-03,  -6.63773157e-03,\n",
       "         2.99510136e-02,   5.48197925e-02,  -8.57157633e-03,\n",
       "         2.23194322e-04,   6.68178778e-03,   5.63046851e-05,\n",
       "        -3.10487521e-04,   4.54434950e-04,   2.75666453e-02,\n",
       "        -3.99867333e-02,   3.77362710e-04,  -1.64103124e-03,\n",
       "         2.00414611e-03,  -2.13288353e-03,   7.08340725e-04,\n",
       "        -6.72994275e-03,  -9.63172317e-02,  -8.16227496e-03,\n",
       "        -6.36237413e-02,   1.26256524e-02,   1.78302582e-02,\n",
       "        -5.15241688e-03,   4.32727821e-02,   5.53163840e-03,\n",
       "         1.04479017e-02,  -1.05321128e-03,  -2.34664395e-03,\n",
       "        -3.62832798e-05,   2.12382842e-02,  -1.72901619e-02,\n",
       "        -7.50561953e-01,   3.08477134e-03,   2.18043312e-01,\n",
       "         8.19928769e-04,   4.86893550e-04,  -1.87724903e-01,\n",
       "        -2.03359290e-03,  -3.45647350e-05,  -2.87053816e-04,\n",
       "        -3.03736189e-03,   4.11542878e-03,  -9.50307644e-04,\n",
       "        -1.14057384e-05,   2.66891584e-04,  -1.89765126e-01,\n",
       "         4.34235175e-04,   2.49700504e-04,   3.94422673e-02,\n",
       "         6.63044804e-04,   1.67836741e-04,  -8.88739087e-05,\n",
       "         1.83624122e-03,  -7.07329530e-03,  -2.01994000e-04,\n",
       "         3.16522941e-02,  -3.61288176e-03,   2.64992035e-04,\n",
       "        -1.60753832e-03,  -3.21063970e-04,  -1.58778008e-03,\n",
       "        -3.71924427e-04,  -7.59926799e-04,  -2.55808746e-03,\n",
       "        -3.07099021e-04,  -1.16744509e-03,   7.71806983e-04,\n",
       "        -8.07936085e-05,   1.08022429e-01,   3.14893899e-04,\n",
       "        -1.06740894e-03,  -2.13790223e-01,  -8.52980302e-05,\n",
       "         3.74035627e-01,  -3.70156558e-05,  -2.11180411e-02,\n",
       "         1.52257166e-03,  -7.37314438e-03,  -5.89377992e-03,\n",
       "        -9.85200604e-05,   6.78600685e-04,   3.84929765e-04,\n",
       "        -9.44181695e-04,   1.77674156e-04,   4.95196218e-05,\n",
       "         8.16469360e-03,  -1.78989358e-04,   4.66854108e-04,\n",
       "        -5.01718205e-05,   4.88073565e-04,  -1.93580016e-01,\n",
       "         3.67785431e-02,   1.58188399e-03,   8.62623006e-03,\n",
       "        -1.01607122e-01,   3.05978861e-03,   4.53865454e-02,\n",
       "         3.54722771e-03,  -4.74408232e-02,   8.28516856e-03,\n",
       "        -1.77211873e-03,  -6.05889072e-04,   1.15200346e-04,\n",
       "        -3.48879199e-04,   1.21731567e-03,   8.45544506e-03,\n",
       "         6.81330202e-05,   2.15621833e-02,  -4.69680817e-05,\n",
       "        -8.59057182e-05,   2.20665475e-03,  -3.22358064e-05,\n",
       "         3.06364964e-04,   3.96177471e-01,   1.12464884e-03,\n",
       "         8.24172236e-03,  -7.77302543e-04,  -5.13241903e-05,\n",
       "         2.10258324e-04,   4.98403737e-04,   2.74433514e-05,\n",
       "        -6.35729346e-04,  -1.86623204e-02,  -2.26805874e-04,\n",
       "         5.42390998e-03,   4.72596321e-06,   1.03866034e-04,\n",
       "        -1.91086685e-04,   4.21578334e-05,  -1.52422674e-03,\n",
       "        -5.41478687e-04,   1.05290022e-03,   1.59518514e-03,\n",
       "         1.08805718e-04,  -5.82590364e-02,   1.02290534e-03,\n",
       "        -1.10951019e-02,   7.36814342e-04,   1.48675928e-03,\n",
       "         1.00432197e-03,   3.00924090e-04,  -1.22938224e-03,\n",
       "         3.72449541e-03,   1.00390687e-04,  -3.95925157e-03,\n",
       "         1.86440549e-04,   8.15345272e-02,  -1.01814396e-03,\n",
       "        -1.44851161e-04,  -3.88668210e-04,  -1.53001174e-02,\n",
       "         1.07134078e-02,  -2.56836647e-04,   3.36291065e-04,\n",
       "         2.60796060e-05,   1.14295348e-04,   3.94378963e-04,\n",
       "         2.99614403e-05,  -7.35346839e-06], dtype=float32)"
      ]
     },
     "execution_count": 44,
     "metadata": {},
     "output_type": "execute_result"
    }
   ],
   "source": [
    "gg.data['az']"
   ]
  },
  {
   "cell_type": "code",
   "execution_count": null,
   "metadata": {
    "collapsed": true
   },
   "outputs": [],
   "source": []
  }
 ],
 "metadata": {
  "kernelspec": {
   "display_name": "Python 3",
   "language": "python",
   "name": "python3"
  },
  "language_info": {
   "codemirror_mode": {
    "name": "ipython",
    "version": 3
   },
   "file_extension": ".py",
   "mimetype": "text/x-python",
   "name": "python",
   "nbconvert_exporter": "python",
   "pygments_lexer": "ipython3",
   "version": "3.5.1+"
  }
 },
 "nbformat": 4,
 "nbformat_minor": 0
}
