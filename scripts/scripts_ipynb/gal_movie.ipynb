{
 "cells": [
  {
   "cell_type": "markdown",
   "metadata": {},
   "source": [
    "# compile figures of one galaxy.\n",
    "\n",
    "Complete!  - 2016.08.02"
   ]
  },
  {
   "cell_type": "code",
   "execution_count": 1,
   "metadata": {
    "collapsed": false
   },
   "outputs": [],
   "source": [
    "class Merger():\n",
    "    pass\n",
    "\n",
    "import os\n",
    "import shutil\n",
    "import pickle\n",
    "wdir = \"./10002/\"\n",
    "cdir = \"easy_final/\"\n",
    "mpgs = pickle.load(open(wdir + \"main_prgs.pickle\", \"rb\"))"
   ]
  },
  {
   "cell_type": "code",
   "execution_count": 2,
   "metadata": {
    "collapsed": false
   },
   "outputs": [],
   "source": [
    "for gallist in mpgs:\n",
    "    galdir = wdir + cdir + str(gallist.ids[0]) + \"_\" + str(gallist.idxs[0])\n",
    "    if not os.path.isdir(galdir):\n",
    "        os.mkdir(galdir)\n",
    "    for nout, idgal in zip(gallist.nouts, gallist.ids):\n",
    "        fn = str(nout) + \"_\" + str(idgal) + \".png\"\n",
    "        #flist.append(fn)\n",
    "        try:\n",
    "            os.link(wdir + cdir + \"galaxy_plot/\" + fn, galdir + \"/\" + fn)\n",
    "        except:\n",
    "            pass\n",
    "            # Phantom galaxies don't have figures. \n",
    "    "
   ]
  },
  {
   "cell_type": "markdown",
   "metadata": {},
   "source": [
    "### Note on hard link\n",
    "A file is a pointer to a data (inode).\n",
    "If \"file.dat\" is given as a name of the inode (or a pointer to), and a symlink (or soft link) to \"file.dat\" has the path to the file.dat. However, another file \"file2.dat\" can also point to the inode same as \"file.dat\". \n",
    "If \"file.dat\" is deleted, the original data is still available through file2.dat.\n",
    "If both file.dat and file2.dat are deleted, and no other process is accessing to the data, \n",
    "the data is actually destroyed by the filesystem. \n",
    "\n",
    "So multiple hard links does not occupy multiple amount of space.\n",
    "\n",
    "The \"ls\" command simply shows the information of the inode through the file(name). If you ask about an inode twice (with two hard links to the inode) it will tell you the samething twice. That is, \"ls\" can not tell you how much disk space is occupied by a data(inode) with mulitple hard links. \n",
    "Instead, \"du - Ssb\" tells you that correctly."
   ]
  },
  {
   "cell_type": "code",
   "execution_count": null,
   "metadata": {
    "collapsed": true
   },
   "outputs": [],
   "source": []
  }
 ],
 "metadata": {
  "kernelspec": {
   "display_name": "Python 3",
   "language": "python",
   "name": "python3"
  },
  "language_info": {
   "codemirror_mode": {
    "name": "ipython",
    "version": 3
   },
   "file_extension": ".py",
   "mimetype": "text/x-python",
   "name": "python",
   "nbconvert_exporter": "python",
   "pygments_lexer": "ipython3",
   "version": "3.5.1+"
  }
 },
 "nbformat": 4,
 "nbformat_minor": 0
}
