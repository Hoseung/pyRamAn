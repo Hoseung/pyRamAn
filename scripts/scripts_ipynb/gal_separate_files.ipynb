{
 "cells": [
  {
   "cell_type": "code",
   "execution_count": 1,
   "metadata": {
    "collapsed": true
   },
   "outputs": [],
   "source": [
    "def add_halo_properties(gal, hal):\n",
    "    gal.meta.__dict__['idx'] = hals.data['idx'][i]\n",
    "    gal.meta.__dict__['rhalo'] = hals.data['rvir'][i]"
   ]
  },
  {
   "cell_type": "code",
   "execution_count": 2,
   "metadata": {
    "collapsed": true
   },
   "outputs": [],
   "source": [
    "import pickle"
   ]
  },
  {
   "cell_type": "code",
   "execution_count": 5,
   "metadata": {
    "collapsed": false
   },
   "outputs": [],
   "source": [
    "prg_only_tree = pickle.load(open(wdir+'prg_only_tree.pickle', 'rb'))"
   ]
  },
  {
   "cell_type": "code",
   "execution_count": 9,
   "metadata": {
    "collapsed": true
   },
   "outputs": [],
   "source": [
    "import tree.ctutils as ctu"
   ]
  },
  {
   "cell_type": "code",
   "execution_count": 10,
   "metadata": {
    "collapsed": true
   },
   "outputs": [],
   "source": [
    "aprg = ctu.extract_main_tree(prg_only_tree, idx=43071)"
   ]
  },
  {
   "cell_type": "code",
   "execution_count": 13,
   "metadata": {
    "collapsed": false
   },
   "outputs": [
    {
     "data": {
      "text/plain": [
       "dtype([('aexp', '<f8'), ('id', '<i8'), ('desc_aexp', '<i8'), ('desc_id', '<i8'), ('nprog', '<i8'), ('pid', '<i8'), ('upid', '<i8'), ('desc_pid', '<i8'), ('phantom', '<i8'), ('sam_mvir', '<f8'), ('mvir', '<f8'), ('rvir', '<f8'), ('rs', '<i8'), ('vrms', '<f8'), ('mmp', '<f8'), ('aexp_last_MM', '<f8'), ('vmax', '<i8'), ('x', '<f8'), ('y', '<f8'), ('z', '<f8'), ('vx', '<f8'), ('vy', '<f8'), ('vz', '<f8'), ('jx', '<f8'), ('jy', '<f8'), ('jz', '<f8'), ('spin', '<f8'), ('b_id', '<i8'), ('d_id', '<i8'), ('tree_root_id', '<i8'), ('Orig_halo_id', '<i8'), ('nout', '<i8'), ('next_coprogenitor_d_id', '<i8'), ('last_progenitor_d_id', '<i8'), ('last_mainleaf_depthfirst_id', '<i8'), ('tidal_force', '<f8'), ('tidal_id', '<i8'), ('np', '<i4'), ('r', '<f4'), ('tvir', '<f4'), ('cvel', '<f4'), ('sig', '<f4'), ('sigbulge', '<f4'), ('mbulge', '<f4'), ('m', '<f4')])"
      ]
     },
     "execution_count": 13,
     "metadata": {},
     "output_type": "execute_result"
    }
   ],
   "source": [
    "aprg.dtype"
   ]
  },
  {
   "cell_type": "code",
   "execution_count": 12,
   "metadata": {
    "collapsed": false
   },
   "outputs": [
    {
     "name": "stdout",
     "output_type": "stream",
     "text": [
      "[Halo.load_info] loading info\n",
      "[Halo.load_info] nout = 180, base =./29172/\n",
      "[Halo.load_info] info is loaded\n",
      "180\n",
      "Loading file: ./29172/GalaxyMaker/gal/tree_bricks180\n"
     ]
    },
    {
     "ename": "NameError",
     "evalue": "name 'halid' is not defined",
     "output_type": "error",
     "traceback": [
      "\u001b[1;31m---------------------------------------------------------------------------\u001b[0m",
      "\u001b[1;31mNameError\u001b[0m                                 Traceback (most recent call last)",
      "\u001b[1;32m<ipython-input-12-72e40900cac3>\u001b[0m in \u001b[0;36m<module>\u001b[1;34m()\u001b[0m\n\u001b[0;32m     21\u001b[0m \u001b[1;31m#\u001b[0m\u001b[1;33m\u001b[0m\u001b[1;33m\u001b[0m\u001b[0m\n\u001b[0;32m     22\u001b[0m \u001b[0mgm\u001b[0m \u001b[1;33m=\u001b[0m \u001b[0mload\u001b[0m\u001b[1;33m.\u001b[0m\u001b[0mrd_GM\u001b[0m\u001b[1;33m.\u001b[0m\u001b[0mrd_gal\u001b[0m\u001b[1;33m(\u001b[0m\u001b[0mnout\u001b[0m\u001b[1;33m,\u001b[0m \u001b[0mgalid\u001b[0m\u001b[1;33m,\u001b[0m \u001b[0mwdir\u001b[0m\u001b[1;33m=\u001b[0m\u001b[0mwdir\u001b[0m\u001b[1;33m)\u001b[0m\u001b[1;33m\u001b[0m\u001b[0m\n\u001b[1;32m---> 23\u001b[1;33m \u001b[0mgm\u001b[0m\u001b[1;33m.\u001b[0m\u001b[0mdm\u001b[0m \u001b[1;33m=\u001b[0m \u001b[0mload\u001b[0m\u001b[1;33m.\u001b[0m\u001b[0mrd_GM\u001b[0m\u001b[1;33m.\u001b[0m\u001b[0mrd_dm\u001b[0m\u001b[1;33m(\u001b[0m\u001b[0mnout\u001b[0m\u001b[1;33m,\u001b[0m \u001b[0mhalid\u001b[0m\u001b[1;33m,\u001b[0m \u001b[0mwdir\u001b[0m\u001b[1;33m=\u001b[0m\u001b[0mwdir\u001b[0m\u001b[1;33m)\u001b[0m\u001b[1;33m\u001b[0m\u001b[0m\n\u001b[0m\u001b[0;32m     24\u001b[0m \u001b[1;31m#gm.cell = load.rd_GM.rd_cell(nout, galid, base=wdir)\u001b[0m\u001b[1;33m\u001b[0m\u001b[1;33m\u001b[0m\u001b[0m\n",
      "\u001b[1;31mNameError\u001b[0m: name 'halid' is not defined"
     ]
    }
   ],
   "source": [
    "import load\n",
    "import numpy as np\n",
    "import tree.halomodule as hmo\n",
    "\n",
    "wdir = './29172/'\n",
    "nout = 180\n",
    "\n",
    "info = load.info.Info(nout=nout, base=wdir)\n",
    "\n",
    "gcat = hmo.Halo(base=wdir, is_gal=True, verbose=True, nout=nout)\n",
    "\n",
    "gg = gcat.data[10]\n",
    "galid = gg['id']\n",
    "\n",
    "import galaxy\n",
    "\n",
    "# galdata is needed to set up the meta data of the galaxy. \n",
    "# modify the code to make the intend clearer.\n",
    "# \n",
    "# Finally a galaxy instance has self.star, self.dm, self.cell, self.meta and other properties and methods.\n",
    "# \n",
    "gm = load.rd_GM.rd_gal(nout, galid, base=wdir)\n",
    "gm.dm = load.rd_GM.rd_dm(nout, halid, base=wdir)\n",
    "#gm.cell = load.rd_GM.rd_cell(nout, galid, base=wdir)"
   ]
  },
  {
   "cell_type": "code",
   "execution_count": 20,
   "metadata": {
    "collapsed": false
   },
   "outputs": [
    {
     "name": "stdout",
     "output_type": "stream",
     "text": [
      "106.352600098 677.018432617\n",
      "0.0084149377569 0.0325635425693\n",
      "Making a galaxy: 11\n",
      "SAVE: False\n",
      "RSCALE: 0.5\n",
      "Halo size: 43.7766474071\n",
      "0.511899 0.689009 0.459023\n",
      "Rgal_tmp 43.7766474071\n",
      "nstar tot: 33806\n",
      "Store stellar particle\n",
      "Cell is NOT none\n",
      "-217.864201957 282.625032292\n"
     ]
    },
    {
     "name": "stderr",
     "output_type": "stream",
     "text": [
      "/home/hoseung/Work/pyclusterevol/galaxy/galaxy.py:123: VisibleDeprecationWarning: using a non-integer number instead of an integer will result in an error in the future\n",
      "  m_radial[i] = np.sum(m_sorted[ibins[i]:ibins[i+1]])\n"
     ]
    }
   ],
   "source": [
    "print(min(gm.star['vx']), max(gm.star['vx']))\n",
    "print(min(gm.cell['var1']), max(gm.cell['var1']))\n",
    "gal = galaxy.galaxy.Galaxy(halo = gg, radius_method='eff', info=info)\n",
    "\n",
    "\n",
    "good_gal = gal.mk_gal(gm.star, None, gm.cell, unit_conversion=\"GM\", verbose=True)\n",
    "print(min(gal.cell['vx']), max(gal.cell['vx']))"
   ]
  },
  {
   "cell_type": "code",
   "execution_count": 11,
   "metadata": {
    "collapsed": false
   },
   "outputs": [
    {
     "name": "stdout",
     "output_type": "stream",
     "text": [
      "-1134.63759391 222.49821016\n",
      "-1045.18783686 488.962340145\n"
     ]
    }
   ],
   "source": [
    "print(min(gal.cell['vz']), max(gal.cell['vz']))\n",
    "print(min(gal.star['vz']), max(gal.star['vz']))"
   ]
  },
  {
   "cell_type": "markdown",
   "metadata": {},
   "source": [
    "## Now, further calculations"
   ]
  },
  {
   "cell_type": "code",
   "execution_count": 4,
   "metadata": {
    "collapsed": true
   },
   "outputs": [],
   "source": [
    "## Parameters\n",
    "lambda_params = {'npix_per_reff':5, \"rscale\":3, 'method':'ellip',\n",
    "                'verbose':False}\n",
    "\n",
    "\n",
    "\n",
    "# general\n",
    "galaxy_plot=True\n",
    "galaxy_plot_dir = './'\n",
    "dump_gal=False # I don't need it anymore. (but I can save meta data of a galaxy, where meta = all - star - dm - cell.)\n",
    "reorient=True\n",
    "\n",
    "\n",
    "import queue\n",
    "out_q = queue.Queue()"
   ]
  },
  {
   "cell_type": "markdown",
   "metadata": {},
   "source": [
    "### Units\n",
    "\n",
    "* Often data come through different pipelines have different units. \n",
    "But don't try to devise a nice method to deal with units of ndarray.\n",
    "close to hundred of ndarray attributes will need wrappers."
   ]
  },
  {
   "cell_type": "code",
   "execution_count": 6,
   "metadata": {
    "collapsed": false
   },
   "outputs": [
    {
     "name": "stdout",
     "output_type": "stream",
     "text": [
      "self.rscale_lambda is updated to 3.\n",
      "effective radius 8.03799983382 32.1519993353\n",
      "100.00% of stellar particles selected\n",
      "frac05 0.123125\n",
      "frac15 0.303902242168\n",
      "Updating data\n",
      "minmax field after crop and converting into physical unit 4695214.53972 122075578.033\n",
      "Updating data\n"
     ]
    }
   ],
   "source": [
    "import galaxy.make_gal as mkg\n",
    "\n",
    "\n",
    "lambdas = gal.cal_lambda_r_eps(**lambda_params) # calculate within 1.0 * reff\n",
    "gal.meta.lambda_arr, gal.meta.lambda_arrh, gal.meta.lambda_12kpc= lambdas[0]\n",
    "gal.meta.lambda_r,   gal.meta.lambda_rh,   gal.meta.lambda_12kpc = lambdas[1]\n",
    "if galaxy_plot:\n",
    "    gal.plot_gal(fn_save = galaxy_plot_dir + str(nout).zfill(3) \\\n",
    "                     + \"_\" + str(galid) + \".png\", ioff=True)\n",
    "\n",
    "#add_halo_properties(gal, hal)\n",
    "#print(\"\\n \\n Good galaxy. ID, IDx\", galid, gal.meta.idx)\n",
    "\n",
    "\n",
    "if dump_gal:\n",
    "    # save gal before reorientation\n",
    "    print(galaxy_plot_dir + str(nout).zfill(3) + \"_\" + str(galid) + \".h5\")\n",
    "    mkg.save_gal(gal, galaxy_plot_dir + str(nout).zfill(3) + \"_\" + str(galid) + \".h5\")"
   ]
  },
  {
   "cell_type": "code",
   "execution_count": 7,
   "metadata": {
    "collapsed": false,
    "scrolled": true
   },
   "outputs": [
    {
     "name": "stdout",
     "output_type": "stream",
     "text": [
      "self.rscale_lambda is updated to 3.\n",
      "effective radius 8.03799983382 32.1519993353\n",
      "100.00% of stellar particles selected\n",
      "frac05 0.10125\n",
      "frac15 0.303902242168\n",
      "Updating data\n",
      "minmax field after crop and converting into physical unit 4657205.04201 149030561.344\n",
      "Updating data\n"
     ]
    }
   ],
   "source": [
    "if reorient:\n",
    "    gal.cal_norm_vec([\"star\"], dest=[0.,1.,0.])\n",
    "    gal.cal_rotation_matrix(dest = [0., 1., 0.])\n",
    "    gal.reorient(dest=[0., 1., 0.], pop_nvec = ['star'],\n",
    "                 pops=['star', 'cell'], verbose=False)\n",
    "    lambdas = gal.cal_lambda_r_eps(**lambda_params)\n",
    "# Because lambda is measured for ALL stars,\n",
    "# B/T must also be measured for ALL stars, not only for bound stars.\n",
    "#                print(lambdas[0],\"d\", lambdas[1])\n",
    "    gal.meta.lambda_arr2, gal.meta.lambda_arr2h, gal.meta.lambda_arr2q = lambdas[0]\n",
    "    gal.meta.lambda_r2,   gal.meta.lambda_r2h  , gal.meta.lambda_r2q   = lambdas[1]\n",
    "if galaxy_plot:\n",
    "\n",
    "#                gal.cal_b2t(ptype='star',\n",
    "#                            bound_only=False,\n",
    "#                            hist=False,\n",
    "#                            proj='y')\n",
    "    gal.plot_gal(fn_save = galaxy_plot_dir + str(nout).zfill(3) \\\n",
    "                         + \"_\" + str(galid) + \"_reori.png\", ioff=True)\n",
    "out_q.put(gal.meta.__dict__)"
   ]
  },
  {
   "cell_type": "code",
   "execution_count": 7,
   "metadata": {
    "collapsed": false
   },
   "outputs": [
    {
     "ename": "KeyboardInterrupt",
     "evalue": "",
     "output_type": "error",
     "traceback": [
      "\u001b[1;31m---------------------------------------------------------------------------\u001b[0m",
      "\u001b[1;31mKeyboardInterrupt\u001b[0m                         Traceback (most recent call last)",
      "\u001b[1;32m<ipython-input-7-de9a24326567>\u001b[0m in \u001b[0;36m<module>\u001b[1;34m()\u001b[0m\n\u001b[1;32m----> 1\u001b[1;33m \u001b[0ma\u001b[0m \u001b[1;33m=\u001b[0m \u001b[0mout_q\u001b[0m\u001b[1;33m.\u001b[0m\u001b[0mget\u001b[0m\u001b[1;33m(\u001b[0m\u001b[1;33m)\u001b[0m\u001b[1;33m\u001b[0m\u001b[0m\n\u001b[0m",
      "\u001b[1;32m/usr/lib/python3.5/queue.py\u001b[0m in \u001b[0;36mget\u001b[1;34m(self, block, timeout)\u001b[0m\n\u001b[0;32m    162\u001b[0m             \u001b[1;32melif\u001b[0m \u001b[0mtimeout\u001b[0m \u001b[1;32mis\u001b[0m \u001b[1;32mNone\u001b[0m\u001b[1;33m:\u001b[0m\u001b[1;33m\u001b[0m\u001b[0m\n\u001b[0;32m    163\u001b[0m                 \u001b[1;32mwhile\u001b[0m \u001b[1;32mnot\u001b[0m \u001b[0mself\u001b[0m\u001b[1;33m.\u001b[0m\u001b[0m_qsize\u001b[0m\u001b[1;33m(\u001b[0m\u001b[1;33m)\u001b[0m\u001b[1;33m:\u001b[0m\u001b[1;33m\u001b[0m\u001b[0m\n\u001b[1;32m--> 164\u001b[1;33m                     \u001b[0mself\u001b[0m\u001b[1;33m.\u001b[0m\u001b[0mnot_empty\u001b[0m\u001b[1;33m.\u001b[0m\u001b[0mwait\u001b[0m\u001b[1;33m(\u001b[0m\u001b[1;33m)\u001b[0m\u001b[1;33m\u001b[0m\u001b[0m\n\u001b[0m\u001b[0;32m    165\u001b[0m             \u001b[1;32melif\u001b[0m \u001b[0mtimeout\u001b[0m \u001b[1;33m<\u001b[0m \u001b[1;36m0\u001b[0m\u001b[1;33m:\u001b[0m\u001b[1;33m\u001b[0m\u001b[0m\n\u001b[0;32m    166\u001b[0m                 \u001b[1;32mraise\u001b[0m \u001b[0mValueError\u001b[0m\u001b[1;33m(\u001b[0m\u001b[1;34m\"'timeout' must be a non-negative number\"\u001b[0m\u001b[1;33m)\u001b[0m\u001b[1;33m\u001b[0m\u001b[0m\n",
      "\u001b[1;32m/usr/lib/python3.5/threading.py\u001b[0m in \u001b[0;36mwait\u001b[1;34m(self, timeout)\u001b[0m\n\u001b[0;32m    291\u001b[0m         \u001b[1;32mtry\u001b[0m\u001b[1;33m:\u001b[0m    \u001b[1;31m# restore state no matter what (e.g., KeyboardInterrupt)\u001b[0m\u001b[1;33m\u001b[0m\u001b[0m\n\u001b[0;32m    292\u001b[0m             \u001b[1;32mif\u001b[0m \u001b[0mtimeout\u001b[0m \u001b[1;32mis\u001b[0m \u001b[1;32mNone\u001b[0m\u001b[1;33m:\u001b[0m\u001b[1;33m\u001b[0m\u001b[0m\n\u001b[1;32m--> 293\u001b[1;33m                 \u001b[0mwaiter\u001b[0m\u001b[1;33m.\u001b[0m\u001b[0macquire\u001b[0m\u001b[1;33m(\u001b[0m\u001b[1;33m)\u001b[0m\u001b[1;33m\u001b[0m\u001b[0m\n\u001b[0m\u001b[0;32m    294\u001b[0m                 \u001b[0mgotit\u001b[0m \u001b[1;33m=\u001b[0m \u001b[1;32mTrue\u001b[0m\u001b[1;33m\u001b[0m\u001b[0m\n\u001b[0;32m    295\u001b[0m             \u001b[1;32melse\u001b[0m\u001b[1;33m:\u001b[0m\u001b[1;33m\u001b[0m\u001b[0m\n",
      "\u001b[1;31mKeyboardInterrupt\u001b[0m: "
     ]
    }
   ],
   "source": [
    "a = out_q.get()"
   ]
  },
  {
   "cell_type": "markdown",
   "metadata": {},
   "source": [
    "###  seems good so far.\n",
    "Now gas properties"
   ]
  },
  {
   "cell_type": "code",
   "execution_count": 9,
   "metadata": {
    "collapsed": false
   },
   "outputs": [],
   "source": [
    "def gas_inflow(cell):\n",
    "    \"\"\"\n",
    "        How do I measure gas? \n",
    "        \n",
    "        Spherical shell?\n",
    "        isosurface? \n",
    "        \n",
    "    \"\"\"\n",
    "    \n",
    "    \n",
    "    "
   ]
  },
  {
   "cell_type": "code",
   "execution_count": 4,
   "metadata": {
    "collapsed": true
   },
   "outputs": [],
   "source": [
    "from draw import pp\n",
    "import importlib"
   ]
  },
  {
   "cell_type": "code",
   "execution_count": 20,
   "metadata": {
    "collapsed": false
   },
   "outputs": [
    {
     "data": {
      "text/plain": [
       "<module 'draw.pp' from '/home/hoseung/Work/pyclusterevol/draw/pp.py'>"
      ]
     },
     "execution_count": 20,
     "metadata": {},
     "output_type": "execute_result"
    }
   ],
   "source": [
    "importlib.reload(pp)"
   ]
  },
  {
   "cell_type": "code",
   "execution_count": 7,
   "metadata": {
    "collapsed": false
   },
   "outputs": [
    {
     "name": "stdout",
     "output_type": "stream",
     "text": [
      " ... working resolution % npix  72 72\n",
      " ... given npix: 82\n",
      "int32 int32\n",
      "dimensions of \n",
      " mass = (6370,), \n",
      " sden = (6370,), and nx, ny are 72, 72\n",
      "True True\n",
      "[ 279.69843447  293.21163991  345.80081569  253.51006741  342.82538227\n",
      "  337.03465078  338.79938971  255.40765138  246.93886291  337.52080765]\n",
      "[ 0.02414744  0.02653709  0.03690991  0.01983725  0.03627746  0.03506227\n",
      "  0.03543041  0.02013533  0.01882218  0.0351635 ]\n",
      "int32 int32 int32 int32 int32\n"
     ]
    },
    {
     "name": "stderr",
     "output_type": "stream",
     "text": [
      "/home/hoseung/Work/pyclusterevol/draw/pp.py:646: RuntimeWarning: invalid value encountered in true_divide\n",
      "  return resize(ppc.col_over_denom(iin, ixl, ixr, iyl, iyr, mass, sden, nx, ny, column), [npix,npix])\n",
      "/home/hoseung/Work/pyclusterevol/draw/pp.py:356: VisibleDeprecationWarning: using a non-integer number instead of an integer will result in an error in the future\n",
      "  Y[i,:] = X[i*p,np.int_(np.arange(n)*q)]\n"
     ]
    }
   ],
   "source": [
    "dmap = pp.pp_cell(gal.cell, 82, gal.info, verbose=True)"
   ]
  },
  {
   "cell_type": "code",
   "execution_count": 8,
   "metadata": {
    "collapsed": true
   },
   "outputs": [],
   "source": [
    "import matplotlib.pyplot as plt"
   ]
  },
  {
   "cell_type": "code",
   "execution_count": 9,
   "metadata": {
    "collapsed": true
   },
   "outputs": [],
   "source": [
    "plt.imshow(dmap)\n",
    "plt.show()"
   ]
  },
  {
   "cell_type": "code",
   "execution_count": null,
   "metadata": {
    "collapsed": true
   },
   "outputs": [],
   "source": [
    "import vispy"
   ]
  },
  {
   "cell_type": "code",
   "execution_count": null,
   "metadata": {
    "collapsed": true
   },
   "outputs": [],
   "source": [
    "# 3D volume rendering using vispy/volume_rendering example. \n",
    "# simple (uniform grid) 3D array is needed."
   ]
  }
 ],
 "metadata": {
  "kernelspec": {
   "display_name": "Python 3",
   "language": "python",
   "name": "python3"
  },
  "language_info": {
   "codemirror_mode": {
    "name": "ipython",
    "version": 3
   },
   "file_extension": ".py",
   "mimetype": "text/x-python",
   "name": "python",
   "nbconvert_exporter": "python",
   "pygments_lexer": "ipython3",
   "version": "3.5.1+"
  }
 },
 "nbformat": 4,
 "nbformat_minor": 0
}
