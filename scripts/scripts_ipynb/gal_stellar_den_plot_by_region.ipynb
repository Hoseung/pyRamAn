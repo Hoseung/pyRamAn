{
 "cells": [
  {
   "cell_type": "code",
   "execution_count": 17,
   "metadata": {
    "collapsed": false
   },
   "outputs": [],
   "source": [
    "import matplotlib.pyplot as plt \n",
    "\n",
    "\n",
    "class Merger():\n",
    "    def __init__(self):\n",
    "        pass\n",
    "\n",
    "import pickle\n",
    "mpgs = pickle.load(open(wdir + \"main_prgs.pickle\", \"rb\"))"
   ]
  },
  {
   "cell_type": "code",
   "execution_count": 18,
   "metadata": {
    "collapsed": false
   },
   "outputs": [
    {
     "name": "stdout",
     "output_type": "stream",
     "text": [
      "[sim._hilbert_cpulist] No AMR instance,\n",
      "[sim._hilbert_cpulist] Loading one...\n",
      "Updating info.cpus\n",
      "Loading by fortran module\n",
      "Fortran-reading done\n",
      "[sim._hilbert_cpulist] No AMR instance,\n",
      "[sim._hilbert_cpulist] Loading one...\n",
      "Updating info.cpus\n",
      "Loading by fortran module\n",
      "Fortran-reading done\n",
      "[sim._hilbert_cpulist] No AMR instance,\n",
      "[sim._hilbert_cpulist] Loading one...\n",
      "Updating info.cpus\n",
      "[sim._hilbert_cpulist] No AMR instance,\n",
      "[sim._hilbert_cpulist] Loading one...\n"
     ]
    },
    {
     "ename": "FileNotFoundError",
     "evalue": "[Errno 2] No such file or directory: './29172/snapshots/output_00186/amr_00186.out00001'",
     "output_type": "error",
     "traceback": [
      "\u001b[1;31m---------------------------------------------------------------------------\u001b[0m",
      "\u001b[1;31mFileNotFoundError\u001b[0m                         Traceback (most recent call last)",
      "\u001b[1;32m<ipython-input-18-c71b393f554a>\u001b[0m in \u001b[0;36m<module>\u001b[1;34m()\u001b[0m\n\u001b[0;32m      9\u001b[0m             \u001b[0mgalid\u001b[0m \u001b[1;33m=\u001b[0m \u001b[0mgg\u001b[0m\u001b[1;33m.\u001b[0m\u001b[0mdata\u001b[0m\u001b[1;33m[\u001b[0m\u001b[1;34m\"id\"\u001b[0m\u001b[1;33m]\u001b[0m\u001b[1;33m[\u001b[0m\u001b[0mi\u001b[0m\u001b[1;33m]\u001b[0m\u001b[1;33m\u001b[0m\u001b[0m\n\u001b[0;32m     10\u001b[0m             \u001b[0mgal\u001b[0m \u001b[1;33m=\u001b[0m \u001b[0mGal\u001b[0m\u001b[1;33m(\u001b[0m\u001b[0mnout\u001b[0m\u001b[1;33m,\u001b[0m \u001b[0mgalid\u001b[0m\u001b[1;33m,\u001b[0m \u001b[0mwdir\u001b[0m\u001b[1;33m=\u001b[0m\u001b[0mwdir\u001b[0m\u001b[1;33m,\u001b[0m \u001b[0mload\u001b[0m\u001b[1;33m=\u001b[0m\u001b[1;32mFalse\u001b[0m\u001b[1;33m)\u001b[0m\u001b[1;33m\u001b[0m\u001b[0m\n\u001b[1;32m---> 11\u001b[1;33m             \u001b[0mgal\u001b[0m\u001b[1;33m.\u001b[0m\u001b[0mload\u001b[0m\u001b[1;33m(\u001b[0m\u001b[0mstar\u001b[0m\u001b[1;33m=\u001b[0m\u001b[1;34m\"raw\"\u001b[0m\u001b[1;33m,\u001b[0m \u001b[0mcell\u001b[0m\u001b[1;33m=\u001b[0m\u001b[1;34m\"raw\"\u001b[0m\u001b[1;33m,\u001b[0m \u001b[0mdm\u001b[0m\u001b[1;33m=\u001b[0m\u001b[1;34m\"raw\"\u001b[0m\u001b[1;33m)\u001b[0m\u001b[1;33m\u001b[0m\u001b[0m\n\u001b[0m\u001b[0;32m     12\u001b[0m             \u001b[0mgal\u001b[0m\u001b[1;33m.\u001b[0m\u001b[0mstar\u001b[0m\u001b[1;33m[\u001b[0m\u001b[1;34m\"x\"\u001b[0m\u001b[1;33m]\u001b[0m \u001b[1;33m=\u001b[0m \u001b[0mgal\u001b[0m\u001b[1;33m.\u001b[0m\u001b[0mstar\u001b[0m\u001b[1;33m[\u001b[0m\u001b[1;34m\"x\"\u001b[0m\u001b[1;33m]\u001b[0m \u001b[1;33m-\u001b[0m \u001b[0mgal\u001b[0m\u001b[1;33m.\u001b[0m\u001b[0mheader\u001b[0m\u001b[1;33m[\u001b[0m\u001b[1;34m\"xg\"\u001b[0m\u001b[1;33m]\u001b[0m\u001b[1;33m[\u001b[0m\u001b[1;36m0\u001b[0m\u001b[1;33m]\u001b[0m\u001b[1;33m\u001b[0m\u001b[0m\n\u001b[0;32m     13\u001b[0m             \u001b[0mgal\u001b[0m\u001b[1;33m.\u001b[0m\u001b[0mstar\u001b[0m\u001b[1;33m[\u001b[0m\u001b[1;34m\"y\"\u001b[0m\u001b[1;33m]\u001b[0m \u001b[1;33m=\u001b[0m \u001b[0mgal\u001b[0m\u001b[1;33m.\u001b[0m\u001b[0mstar\u001b[0m\u001b[1;33m[\u001b[0m\u001b[1;34m\"y\"\u001b[0m\u001b[1;33m]\u001b[0m \u001b[1;33m-\u001b[0m \u001b[0mgal\u001b[0m\u001b[1;33m.\u001b[0m\u001b[0mheader\u001b[0m\u001b[1;33m[\u001b[0m\u001b[1;34m\"xg\"\u001b[0m\u001b[1;33m]\u001b[0m\u001b[1;33m[\u001b[0m\u001b[1;36m1\u001b[0m\u001b[1;33m]\u001b[0m\u001b[1;33m\u001b[0m\u001b[0m\n",
      "\u001b[1;32m/home/hoseung/Work/pyclusterevol/load/rd_GM.py\u001b[0m in \u001b[0;36mload\u001b[1;34m(self, star, dm, cell, info, rscale)\u001b[0m\n\u001b[0;32m    161\u001b[0m             \u001b[1;32mfrom\u001b[0m \u001b[0mload\u001b[0m\u001b[1;33m.\u001b[0m\u001b[0mpart\u001b[0m \u001b[1;32mimport\u001b[0m \u001b[0mPart\u001b[0m\u001b[1;33m\u001b[0m\u001b[0m\n\u001b[0;32m    162\u001b[0m             pp = Part(info=self.info, ptypes=['star id pos vel time metal'],\n\u001b[1;32m--> 163\u001b[1;33m                       region=self.region, load=True)\n\u001b[0m\u001b[0;32m    164\u001b[0m             \u001b[0mself\u001b[0m\u001b[1;33m.\u001b[0m\u001b[0mstar\u001b[0m \u001b[1;33m=\u001b[0m \u001b[0mpp\u001b[0m\u001b[1;33m.\u001b[0m\u001b[0mstar\u001b[0m\u001b[1;33m\u001b[0m\u001b[0m\n\u001b[0;32m    165\u001b[0m             \u001b[0mself\u001b[0m\u001b[1;33m.\u001b[0m\u001b[0munits\u001b[0m\u001b[1;33m.\u001b[0m\u001b[0mstar\u001b[0m\u001b[1;33m.\u001b[0m\u001b[0mset_system\u001b[0m\u001b[1;33m(\u001b[0m\u001b[1;34m\"code\"\u001b[0m\u001b[1;33m)\u001b[0m\u001b[1;33m\u001b[0m\u001b[0m\n",
      "\u001b[1;32m/home/hoseung/Work/pyclusterevol/load/part.py\u001b[0m in \u001b[0;36m__init__\u001b[1;34m(self, nout, info, dmo, ptypes, base, region, ranges, data_dir, dmref, dmvel, dmmass, load, cosmo)\u001b[0m\n\u001b[0;32m    133\u001b[0m             \u001b[0mranges\u001b[0m \u001b[1;33m=\u001b[0m \u001b[0mregion\u001b[0m\u001b[1;33m[\u001b[0m\u001b[1;34m'ranges'\u001b[0m\u001b[1;33m]\u001b[0m\u001b[1;33m\u001b[0m\u001b[0m\n\u001b[0;32m    134\u001b[0m         \u001b[1;32mif\u001b[0m \u001b[0mranges\u001b[0m \u001b[1;32mis\u001b[0m \u001b[1;32mnot\u001b[0m \u001b[1;32mNone\u001b[0m\u001b[1;33m:\u001b[0m\u001b[1;33m\u001b[0m\u001b[0m\n\u001b[1;32m--> 135\u001b[1;33m             \u001b[0mself\u001b[0m\u001b[1;33m.\u001b[0m\u001b[0mset_ranges\u001b[0m\u001b[1;33m(\u001b[0m\u001b[0mranges\u001b[0m\u001b[1;33m=\u001b[0m\u001b[0mranges\u001b[0m\u001b[1;33m)\u001b[0m\u001b[1;33m\u001b[0m\u001b[0m\n\u001b[0m\u001b[0;32m    136\u001b[0m         \u001b[1;32melse\u001b[0m\u001b[1;33m:\u001b[0m\u001b[1;33m\u001b[0m\u001b[0m\n\u001b[0;32m    137\u001b[0m             \u001b[1;32mtry\u001b[0m\u001b[1;33m:\u001b[0m\u001b[1;33m\u001b[0m\u001b[0m\n",
      "\u001b[1;32m/home/hoseung/Work/pyclusterevol/load/sim.py\u001b[0m in \u001b[0;36mset_ranges\u001b[1;34m(self, ranges)\u001b[0m\n\u001b[0;32m     48\u001b[0m \u001b[1;31m#            except AttributeError:\u001b[0m\u001b[1;33m\u001b[0m\u001b[1;33m\u001b[0m\u001b[0m\n\u001b[0;32m     49\u001b[0m \u001b[1;31m#                print(\"There is no info._set_ranges attribute\")\u001b[0m\u001b[1;33m\u001b[0m\u001b[1;33m\u001b[0m\u001b[0m\n\u001b[1;32m---> 50\u001b[1;33m             \u001b[0mself\u001b[0m\u001b[1;33m.\u001b[0m\u001b[0mset_cpus\u001b[0m\u001b[1;33m(\u001b[0m\u001b[0mself\u001b[0m\u001b[1;33m.\u001b[0m\u001b[0m_hilbert_cpulist\u001b[0m\u001b[1;33m(\u001b[0m\u001b[0mself\u001b[0m\u001b[1;33m.\u001b[0m\u001b[0minfo\u001b[0m\u001b[1;33m,\u001b[0m \u001b[0mself\u001b[0m\u001b[1;33m.\u001b[0m\u001b[0mranges\u001b[0m\u001b[1;33m)\u001b[0m\u001b[1;33m)\u001b[0m\u001b[1;33m\u001b[0m\u001b[0m\n\u001b[0m\u001b[0;32m     51\u001b[0m \u001b[1;33m\u001b[0m\u001b[0m\n\u001b[0;32m     52\u001b[0m \u001b[1;33m\u001b[0m\u001b[0m\n",
      "\u001b[1;32m/home/hoseung/Work/pyclusterevol/load/sim.py\u001b[0m in \u001b[0;36m_hilbert_cpulist\u001b[1;34m(self, info, ranges)\u001b[0m\n\u001b[0;32m     64\u001b[0m             \u001b[0mprint\u001b[0m\u001b[1;33m(\u001b[0m\u001b[1;34m\"[sim._hilbert_cpulist] No AMR instance,\"\u001b[0m\u001b[1;33m)\u001b[0m\u001b[1;33m\u001b[0m\u001b[0m\n\u001b[0;32m     65\u001b[0m             \u001b[0mprint\u001b[0m\u001b[1;33m(\u001b[0m\u001b[1;34m\"[sim._hilbert_cpulist] Loading one...\"\u001b[0m\u001b[1;33m)\u001b[0m\u001b[1;33m\u001b[0m\u001b[0m\n\u001b[1;32m---> 66\u001b[1;33m             \u001b[0mself\u001b[0m\u001b[1;33m.\u001b[0m\u001b[0mamr\u001b[0m \u001b[1;33m=\u001b[0m \u001b[0mAmr\u001b[0m\u001b[1;33m(\u001b[0m\u001b[0mself\u001b[0m\u001b[1;33m.\u001b[0m\u001b[0minfo\u001b[0m\u001b[1;33m)\u001b[0m\u001b[1;33m\u001b[0m\u001b[0m\n\u001b[0m\u001b[0;32m     67\u001b[0m \u001b[1;33m\u001b[0m\u001b[0m\n\u001b[0;32m     68\u001b[0m         \u001b[0mnlevelmax\u001b[0m \u001b[1;33m=\u001b[0m \u001b[0mself\u001b[0m\u001b[1;33m.\u001b[0m\u001b[0mamr\u001b[0m\u001b[1;33m.\u001b[0m\u001b[0mheader\u001b[0m\u001b[1;33m.\u001b[0m\u001b[0mnlevelmax\u001b[0m\u001b[1;33m\u001b[0m\u001b[0m\n",
      "\u001b[1;32m/home/hoseung/Work/pyclusterevol/load/amr.py\u001b[0m in \u001b[0;36m__init__\u001b[1;34m(self, info)\u001b[0m\n\u001b[0;32m    221\u001b[0m         \u001b[0mself\u001b[0m\u001b[1;33m.\u001b[0m\u001b[0minfo\u001b[0m \u001b[1;33m=\u001b[0m \u001b[0minfo\u001b[0m\u001b[1;33m\u001b[0m\u001b[0m\n\u001b[0;32m    222\u001b[0m         \u001b[0mself\u001b[0m\u001b[1;33m.\u001b[0m\u001b[0m_fnbase\u001b[0m \u001b[1;33m=\u001b[0m \u001b[0minfo\u001b[0m\u001b[1;33m.\u001b[0m\u001b[0mbase\u001b[0m \u001b[1;33m+\u001b[0m \u001b[0minfo\u001b[0m\u001b[1;33m.\u001b[0m\u001b[0mdata_dir\u001b[0m \u001b[1;33m+\u001b[0m \u001b[1;34m'output_'\u001b[0m \u001b[1;33m+\u001b[0m \u001b[0msnout\u001b[0m \u001b[1;33m+\u001b[0m \u001b[1;34m'/amr_'\u001b[0m \u001b[1;33m+\u001b[0m \u001b[0msnout\u001b[0m \u001b[1;33m+\u001b[0m \u001b[1;34m'.out'\u001b[0m\u001b[1;33m\u001b[0m\u001b[0m\n\u001b[1;32m--> 223\u001b[1;33m         \u001b[0mf\u001b[0m \u001b[1;33m=\u001b[0m \u001b[0mopen\u001b[0m\u001b[1;33m(\u001b[0m\u001b[0mself\u001b[0m\u001b[1;33m.\u001b[0m\u001b[0m_fnbase\u001b[0m \u001b[1;33m+\u001b[0m \u001b[1;34m'00001'\u001b[0m\u001b[1;33m,\u001b[0m \u001b[1;34m\"rb\"\u001b[0m\u001b[1;33m)\u001b[0m\u001b[1;33m\u001b[0m\u001b[0m\n\u001b[0m\u001b[0;32m    224\u001b[0m \u001b[1;33m\u001b[0m\u001b[0m\n\u001b[0;32m    225\u001b[0m         \u001b[0mself\u001b[0m\u001b[1;33m.\u001b[0m\u001b[0mheader\u001b[0m \u001b[1;33m=\u001b[0m \u001b[0mAmrHeader\u001b[0m\u001b[1;33m(\u001b[0m\u001b[1;33m)\u001b[0m\u001b[1;33m\u001b[0m\u001b[0m\n",
      "\u001b[1;31mFileNotFoundError\u001b[0m: [Errno 2] No such file or directory: './29172/snapshots/output_00186/amr_00186.out00001'"
     ]
    }
   ],
   "source": [
    "wdir = './29172/'\n",
    "for gg in mpgs:\n",
    "    from matplotlib.backends.backend_pdf import PdfPages\n",
    "    fig, ax = plt.subplots(1, sharex=True)\n",
    "    galidx = gg.data[\"idx\"][i]\n",
    "    with PdfPages(wdir + 'stellar_density_map_'+ str(galidx) + '.pdf') as pdf:\n",
    "\n",
    "        for i, nout in enumerate(gg.nouts):\n",
    "            galid = gg.data[\"id\"][i]\n",
    "            gal = Gal(nout, galid, base=wdir, load=False)\n",
    "            gal.load(star=\"raw\", cell=\"raw\", dm=\"raw\")\n",
    "            gal.star[\"x\"] = gal.star[\"x\"] - gal.header[\"xg\"][0]\n",
    "            gal.star[\"y\"] = gal.star[\"y\"] - gal.header[\"xg\"][1]\n",
    "            gal.star[\"z\"] = gal.star[\"z\"] - gal.header[\"xg\"][2]\n",
    "            ax.hist2d(gal.star[\"x\"], gal.star[\"y\"], bins=[100,100])\n",
    "            ax.set_title(\"id: {} at nout: {}\".format(galid, nout))\n",
    "            pdf.savefig()\n",
    "            ax.clear()\n",
    "\n",
    "        #info = gal.info\n",
    "        \n",
    "        #print(gal.data[\"xc\"][0] / gal.data[\"\"])"
   ]
  },
  {
   "cell_type": "code",
   "execution_count": 22,
   "metadata": {
    "collapsed": false
   },
   "outputs": [
    {
     "name": "stdout",
     "output_type": "stream",
     "text": [
      "[  5   7   7   7   8   0   4  10   9   7 146 145   0   0 147   7   7   9\n",
      "   8   7   7  10   9   9   9   8  12  10  10  10   9   9  10   9  10  11\n",
      "   0   7   9  12  12  13  16  12   9  14  10  10  18   9  14  11  10  10\n",
      "  11  14  13   9  10  10   6   9  13   8  12  10  10  11   9   8  12  11\n",
      "  11   9  13  12   7   8   0   0  14   7   9  11   5  14   9  12  13  15\n",
      "  10  11  18  16   7  11   7  13  12   8  12  16  15  10  17  14   8  12\n",
      "  12  21  19  20   7  22  16  24  11  16  13  11  15  22  12  12  24  11\n",
      "   0   0   0   0   0   0   0   0   0   0   0   0   0   0   0   0   0   0\n",
      "   0   0   0   0   0   0   0   0   0   0   0   0   0   0   0   0   0   0\n",
      "   0   0   0   0   0   0]\n"
     ]
    }
   ],
   "source": [
    "print(gg.data['id'])"
   ]
  },
  {
   "cell_type": "code",
   "execution_count": 26,
   "metadata": {
    "collapsed": false
   },
   "outputs": [
    {
     "data": {
      "text/plain": [
       "dtype((numpy.record, [('index', '<i8'), ('Rgal_to_reff', '<f8'), ('d2t', '<f8'), ('eps', '<f8'), ('epsh', '<f8'), ('epsq', '<f8'), ('id', '<i8'), ('idx', '<f8'), ('lambda_12kpc', 'O'), ('lambda_arr', 'O'), ('lambda_arr2', 'O'), ('lambda_arrh', 'O'), ('lambda_r', '<f8'), ('lambda_r12kpc', '<f8'), ('lambda_r2', '<f8'), ('lambda_rh', '<f8'), ('mgas', '<f8'), ('mrj', '<f8'), ('mstar', '<f8'), ('nstar', '<i8'), ('pa', '<f8'), ('pah', '<f8'), ('paq', '<f8'), ('pq', 'O'), ('pt', 'O'), ('reff', '<f8'), ('reff2', '<f8'), ('rgal', '<f8'), ('rgal2', '<f8'), ('rhalo', '<f8'), ('rscale_lambda', '<f8'), ('sfr', '<f8'), ('sma', '<f8'), ('smah', '<f8'), ('smaq', '<f8'), ('smi', '<f8'), ('smih', '<f8'), ('smiq', '<f8'), ('ssfr', '<f8'), ('star', 'O'), ('vmap', 'O'), ('vxc', '<f8'), ('vyc', '<f8'), ('vzc', '<f8'), ('xc', '<f8'), ('xcen', '<f8'), ('xcenh', '<f8'), ('xcenq', '<f8'), ('yc', '<f8'), ('ycen', '<f8'), ('ycenh', '<f8'), ('ycenq', '<f8'), ('zc', '<f8')]))"
      ]
     },
     "execution_count": 26,
     "metadata": {},
     "output_type": "execute_result"
    }
   ],
   "source": [
    "gg.data.dtype"
   ]
  },
  {
   "cell_type": "code",
   "execution_count": 28,
   "metadata": {
    "collapsed": false
   },
   "outputs": [
    {
     "data": {
      "text/plain": [
       "array([ 54.90742301,  55.54390779,  55.80815935,  56.27381441,\n",
       "        55.15854362,   0.        ,  50.05453773,  51.65484829,\n",
       "        52.44420933,  51.86844905,  51.84730441,  52.73057309,\n",
       "         0.        ,   0.        ,  48.79800289,  51.66637098,\n",
       "        53.86415439,  53.15427855,  52.95334673,  53.47654469,\n",
       "        53.09601997,  50.84635439,  51.87876711,  53.15566241,\n",
       "        54.28738354,  54.58628695,  54.19354806,  55.77130584,\n",
       "        57.69611716,  56.92823769,  57.1960304 ,  58.42985677,\n",
       "        55.36542125,  55.09151534,  69.88489094,  56.27317063,\n",
       "         0.        ,  53.15152588,  50.9113942 ,  51.88415173,\n",
       "        51.22122921,  50.53861302,  50.73013901,  51.33136794,\n",
       "        50.73603654,  48.12758337,  47.54715128,  47.98425095,\n",
       "        47.85671689,  48.53945222,  49.0062973 ,  46.8992695 ,\n",
       "        46.48611683,  45.3084991 ,  44.75646024,  45.5378918 ,\n",
       "        45.50529038,  45.57752231,  44.67124472,  43.8308396 ,\n",
       "        43.77343445,  44.12754942,  47.22769625,  45.79714445,\n",
       "        48.07552162,  47.14066225,  46.43701227,  44.02277361,\n",
       "        45.39066641,  45.62347287,  45.09375601,  44.70596992,\n",
       "        44.02199834,  41.43433133,  39.85311864,  41.21266736,\n",
       "        41.59263093,  41.51213422,   0.        ,   0.        ,\n",
       "        39.49654167,  38.59900498,  39.32577837,  38.72529826,\n",
       "        38.274732  ,  37.99502997,  41.34057899,  39.32226187,\n",
       "        42.27916495,  42.47178969,  39.56137101,  34.73407104,\n",
       "        31.78756559,  37.64150354,  45.69628077,  45.12874032,\n",
       "        39.69360938,  33.89036744,  32.64808013,  38.31379644,\n",
       "        29.4331603 ,  30.3031028 ,  16.50250518,  16.62307547,\n",
       "        16.04332081,  16.02923666,  16.37385765,  15.99348638,\n",
       "        17.16577402,  16.73500506,  16.87864231,  16.63290677,\n",
       "        15.39099378,  16.26217067,  16.98278396,  16.8988187 ,\n",
       "        17.11766973,  16.96744817,  17.25288862,  17.30159394,\n",
       "        17.93939265,  17.55721291,  17.232202  ,  17.22103141,\n",
       "        17.91696146,  16.99645832,   0.        ,   0.        ,\n",
       "         0.        ,   0.        ,   0.        ,   0.        ,\n",
       "         0.        ,   0.        ,   0.        ,   0.        ,\n",
       "         0.        ,   0.        ,   0.        ,   0.        ,\n",
       "         0.        ,   0.        ,   0.        ,   0.        ,\n",
       "         0.        ,   0.        ,   0.        ,   0.        ,\n",
       "         0.        ,   0.        ,   0.        ,   0.        ,\n",
       "         0.        ,   0.        ,   0.        ,   0.        ,\n",
       "         0.        ,   0.        ,   0.        ,   0.        ,\n",
       "         0.        ,   0.        ,   0.        ,   0.        ,\n",
       "         0.        ,   0.        ,   0.        ,   0.        ])"
      ]
     },
     "execution_count": 28,
     "metadata": {},
     "output_type": "execute_result"
    }
   ],
   "source": [
    "gg.data[\"rgal\"]"
   ]
  },
  {
   "cell_type": "code",
   "execution_count": null,
   "metadata": {
    "collapsed": true
   },
   "outputs": [],
   "source": []
  }
 ],
 "metadata": {
  "kernelspec": {
   "display_name": "Python 3",
   "language": "python",
   "name": "python3"
  },
  "language_info": {
   "codemirror_mode": {
    "name": "ipython",
    "version": 3
   },
   "file_extension": ".py",
   "mimetype": "text/x-python",
   "name": "python",
   "nbconvert_exporter": "python",
   "pygments_lexer": "ipython3",
   "version": "3.5.1+"
  }
 },
 "nbformat": 4,
 "nbformat_minor": 0
}
