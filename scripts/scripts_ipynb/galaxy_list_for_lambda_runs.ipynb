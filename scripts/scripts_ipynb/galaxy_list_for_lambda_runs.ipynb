{
 "cells": [
  {
   "cell_type": "code",
   "execution_count": 1,
   "metadata": {
    "collapsed": true
   },
   "outputs": [],
   "source": [
    "import general\n",
    "import tree.halomodule as hmo"
   ]
  },
  {
   "cell_type": "code",
   "execution_count": 28,
   "metadata": {
    "collapsed": true
   },
   "outputs": [],
   "source": [
    "def extract_halos_within(halos, i_center, info, dist_in_mpc=1.0):\n",
    "    xc = halos['x'][i_center]\n",
    "    yc = halos['y'][i_center]\n",
    "    zc = halos['z'][i_center]\n",
    "\n",
    "    xx = halos['x']\n",
    "    yy = halos['y']\n",
    "    zz = halos['z']\n",
    "\n",
    "    dd = np.multiply(distance_to([xc,yc,zc], [xx,yy,zz]), info.pboxsize)\n",
    "\n",
    "    return (dd < (dist_in_mpc))\n",
    "\n",
    "\n",
    "def distance_to(xc, xx):\n",
    "    import numpy as np\n",
    "    return np.sqrt([(xc[0] - xx[0])**2 + (xc[1] - xx[1])**2 + (xc[2] - xx[2])**2])[0]\n",
    "\n",
    "\n",
    "def all_gals_org(treedata, final_gals, nout_ini=None, nout_fi=None):\n",
    "    \"\"\"\n",
    "       build a list of all progenitors of the final_gals from nout_fi up to nout_ini\n",
    "       [ [final_gals (at nout = nout_fi) ], \n",
    "         [all progenitors of final gals at nout = nout_fi -1],\n",
    "         [ '' at the at nout = nout_fi -2 ], ...]\n",
    "    \"\"\"\n",
    "    if nout_ini == None:\n",
    "        nout_ini = min(treedata['nout'])\n",
    "    if nout_fi == None:\n",
    "        nout_fi = max(treedata['nout'])\n",
    "\n",
    "    all_gals_at_nouts = []\n",
    "    for inout, nout in enumerate(range(nout_ini, nout_fi+1)):\n",
    "        all_gals_this_nout = []\n",
    "        tree_now = treedata[np.where(treedata['nout'] == nout)]\n",
    "\n",
    "        for finalgal in final_gals:\n",
    "            i_gals_include = np.where(tree_now['tree_root_id'] == finalgal)[0]\n",
    "            [all_gals_this_nout.append(gal) for gal in tree_now['id'][i_gals_include]]\n",
    "\n",
    "        all_gals_at_nouts.append(all_gals_this_nout)\n",
    "\n",
    "    return all_gals_at_nouts\n",
    "\n",
    "\n",
    "def all_gals(treedata, final_gals, nout_ini=None, nout_fi=None):\n",
    "    \"\"\"\n",
    "       build a list of all progenitors of the final_gals from nout_fi up to nout_ini\n",
    "       [ [final_gals (at nout = nout_fi) ], \n",
    "         [all progenitors of final gals at nout = nout_fi -1],\n",
    "         [ '' at the at nout = nout_fi -2 ], ...]\n",
    "    \"\"\"\n",
    "    if nout_ini == None:\n",
    "        nout_ini = min(treedata['nout'])\n",
    "    if nout_fi == None:\n",
    "        nout_fi = max(treedata['nout'])\n",
    "\n",
    "    #all_gals_at_nouts = []\n",
    "    inds=[]\n",
    "    for inout, nout in enumerate(range(nout_ini, nout_fi+1)):\n",
    "        all_gals_this_nout = []\n",
    "        tree_now = treedata[np.where(treedata['nout'] == nout)]\n",
    "\n",
    "        for finalgal in final_gals:\n",
    "            inds.extend(np.where(treedata['tree_root_id'] == finalgal)[0])\n",
    "            #i_gals_include = np.where(tree_now['tree_root_id'] == finalgal)[0]\n",
    "            #[all_gals_this_nout.append(gal) for gal in tree_now['id'][i_gals_include]]\n",
    "\n",
    "        #all_gals_at_nouts.append(all_gals_this_nout)\n",
    "\n",
    "    return treedata[inds]\n",
    "\n",
    "\n",
    "def halo_from_tree(tree_element, info):\n",
    "    import tree.halomodule as hmo\n",
    "\n",
    "    dtype_halo = [('id', '<i4'), ('idx', '<i4'), ('m', '<f4'), ('mvir', '<f4'),\n",
    "              ('r', '<f4'), ('rvir', '<f4'),\n",
    "              ('x', '<f4'), ('y', '<f4'), ('z', '<f4'),\n",
    "              ('vx', '<f4'), ('vy', '<f4'), ('vz', '<f4')]\n",
    "\n",
    "    cboxsize = 200.\n",
    "\n",
    "    nout = tree_element['nout']\n",
    "    h = hmo.Halo(nout=nout, halofinder='HM', info=info, is_gal=True)\n",
    "\n",
    "    h.data = np.recarray(len(tree_element), dtype=dtype_halo)\n",
    "    h.nout = nout\n",
    "\n",
    "    h.data['m'] = tree_element['m']\n",
    "    h.data['mvir'] = tree_element['mvir']\n",
    "    h.data['x'] = tree_element['x'] / cboxsize\n",
    "    h.data['y'] = tree_element['y'] / cboxsize\n",
    "    h.data['z'] = tree_element['z'] / cboxsize # Mpc/h -> code unit\n",
    "    h.data['vx'] = tree_element['vx']\n",
    "    h.data['vy'] = tree_element['vy']\n",
    "    h.data['vz'] = tree_element['vz']\n",
    "    h.data['r'] = tree_element['r'] # already in code unit\n",
    "    h.data['rvir'] = tree_element['rvir'] / (cboxsize * 1000) # kpc/h -> code unit\n",
    "    h.data['id'] = tree_element['Orig_halo_id']\n",
    "    h.data['idx'] = tree_element['id']\n",
    "    h.aexp = tree_element['aexp']\n",
    "\n",
    "    return h\n",
    "\n",
    "def dist(data, center):\n",
    "    return np.sqrt(np.square(center['x'] - data['x']) +\n",
    "                np.square(center['y'] - data['y']) +\n",
    "                np.square(center['z'] - data['z']))\n",
    "\n",
    "def dist2(data, center):\n",
    "    return (np.square(center['x'] - data['x']) +\n",
    "         np.square(center['y'] - data['y']) +\n",
    "         np.square(center['z'] - data['z']))\n",
    "\n",
    "\n",
    "def find_halo_near(data, center, rscale=1.0):\n",
    "    import numpy as np\n",
    "    i_gal_ok = dist2(data, center) <  np.square(rscale * center['rvir'])\n",
    "    return i_gal_ok\n",
    "\n",
    "\n",
    "def unique(a,b):\n",
    "    a = np.concatenate((a,b))\n",
    "    a = np.sort(a)\n",
    "    b = np.diff(a)\n",
    "    b = np.r_[1, b]\n",
    "    return a[b != 0]\n",
    "\n"
   ]
  },
  {
   "cell_type": "code",
   "execution_count": 29,
   "metadata": {
    "collapsed": true
   },
   "outputs": [],
   "source": [
    "gd = general.defaults.Default()"
   ]
  },
  {
   "cell_type": "code",
   "execution_count": 30,
   "metadata": {
    "collapsed": false
   },
   "outputs": [
    {
     "name": "stdout",
     "output_type": "stream",
     "text": [
      "Total 474 galaxies \n",
      " 337 galaxies are within 2.9 times the cluster virial radius, 4.199010105870456 Mpc\n",
      " 58 galaxies have complete tree up to nout = 87\n"
     ]
    },
    {
     "name": "stderr",
     "output_type": "stream",
     "text": [
      "/home/hoseung/.local/lib/python3.5/site-packages/ipykernel/__main__.py:65: DeprecationWarning: elementwise == comparison failed; this will raise an error in the future.\n"
     ]
    }
   ],
   "source": [
    "import numpy as np\n",
    "import load\n",
    "import pickle\n",
    "import tree.ctutils as ctu\n",
    "wdir='./10002/'\n",
    "\n",
    "nout_ini=57\n",
    "nout_fi = 187\n",
    "is_gal = True\n",
    "r_cluster_scale = 2.9\n",
    "m_halo_min = 1e10\n",
    "nout_complete = 87\n",
    "\n",
    "\n",
    "info = load.info.Info(nout=nout_fi, base=wdir, load=True)\n",
    "# load galaxy tree \n",
    "\n",
    "alltrees = pickle.load(open(wdir + \\\n",
    "                gd.dir_galaxy_tree + \"extended_tree.pickle\", \"rb\"))\n",
    "\n",
    "td = alltrees.data\n",
    "\n",
    "# halo catalog\n",
    "hhal = hmo.Halo(base=wdir, nout=nout_fi, halofinder='HM', load=True, is_gal=False)\n",
    "# cluster radius \n",
    "\n",
    "i_center = np.where(hhal.data['np'] == max(hhal.data['np']))[0]\n",
    "r_cluster = hhal.data['rvir'][i_center].squeeze() * hhal.info.pboxsize\n",
    "\n",
    "# galaxies\n",
    "hh = hmo.Halo(base=wdir, nout=nout_fi, halofinder='HM', info=info, load=True, is_gal=is_gal)\n",
    "i_center = np.where(hh.data['np'] == max(hh.data['np']))[0]\n",
    "# galaxies that are within r_cluster_scale * the cluster halo from the BCG \n",
    "# (not the cluster halo center, although two must be virtually identical)\n",
    "\n",
    "# All galaxies inside the cluster radius * r_scale\n",
    "i_satellites = extract_halos_within(hh.data, i_center, info, dist_in_mpc = r_cluster * r_cluster_scale)\n",
    "print(\"Total {} galaxies \\n {} galaxies are within {} times the cluster virial radius, {} Mpc\".format(\n",
    "      len(i_satellites),sum(i_satellites), r_cluster_scale, r_cluster_scale * r_cluster))\n",
    "\n",
    "# Above a mass cut at nout_fi\n",
    "# halos found inside the cluster and have complete tree back to nout_ini\n",
    "large_enough = hh.data['mvir'] > m_halo_min\n",
    "halo_list = hh.data['id'][i_satellites * large_enough]\n",
    "final_ids = ctu.check_tree_complete(td, nout_complete, nout_fi, halo_list, idx=False) # 87: z = 1\n",
    "\n",
    "\n",
    "# build list of progenitors (all mass)\n",
    "tt_final = td[td['nout'] == nout_fi]\n",
    "final_gals_idx = [tt_final['id'][tt_final['Orig_halo_id'] == final_gal] for final_gal in final_ids]\n",
    "ngals = len(final_gals_idx)\n",
    "print(\" {} galaxies have complete tree up to nout = {}\".format(ngals, nout_complete))\n",
    "# Search for all galaxies that are listed in the trees of final_gals\n",
    "prg_only_tree = all_gals(td, final_gals_idx, nout_fi=nout_fi, nout_ini=nout_ini)\n",
    "#all_gals_in_trees = prg_only_tree['']"
   ]
  },
  {
   "cell_type": "code",
   "execution_count": 34,
   "metadata": {
    "collapsed": false
   },
   "outputs": [
    {
     "data": {
      "text/plain": [
       "array([  1, 519,   1, ..., 877, 811, 883])"
      ]
     },
     "execution_count": 34,
     "metadata": {},
     "output_type": "execute_result"
    }
   ],
   "source": [
    "prg_only_tree['Orig_halo_id']"
   ]
  },
  {
   "cell_type": "code",
   "execution_count": 40,
   "metadata": {
    "collapsed": false
   },
   "outputs": [
    {
     "name": "stdout",
     "output_type": "stream",
     "text": [
      "(catalogue) # galaxies more massive than 5.00e+09 at nout = 144\n"
     ]
    },
    {
     "name": "stderr",
     "output_type": "stream",
     "text": [
      "/home/hoseung/.local/lib/python3.5/site-packages/ipykernel/__main__.py:12: VisibleDeprecationWarning: boolean index did not match indexed array along dimension 0; dimension is 4268766 but corresponding boolean dimension is 83318\n"
     ]
    }
   ],
   "source": [
    "prg_only_tree['Orig_halo_id']\n",
    "\n",
    "import utils.match as mtc\n",
    "nout=186\n",
    "\n",
    "mstar_min = 5e9\n",
    "\n",
    "inout=1\n",
    "\n",
    "for inout, nout in enumerate(range(nout_fi)\n",
    "# idx list of galaxies at the current nout (from all_gals_in_trees list)\n",
    "t_now = prg_only_tree[td['nout'] == nout]\n",
    "#idxs_tree_now = all_gals_in_trees[inout]\n",
    "\n",
    "#gals_in_tree_now = halo_from_tree(t_now[mtc.match_list_ind(t_now['id'], np.array(idxs_tree_now))], info)\n",
    "gals_in_tree_now = prg_only_tree[prg_only_tree['nout'] == nout]\n",
    "id_now = gals_in_tree_now['Orig_halo_id'] # this is Orig_halo_id\n",
    "\n",
    "allhal = hmo.Halo(base=wdir, nout=nout, is_gal=False, halofinder='HM', return_id=False, load=True)\n",
    "cluster_now = allhal.data[allhal.data.np.argmax()]\n",
    "\n",
    "dd = np.sqrt(np.square(cluster_now['x'] * 200 - t_now['x']) + \n",
    "             np.square(cluster_now['y'] * 200 - t_now['y']) + \n",
    "             np.square(cluster_now['z'] * 200 - t_now['z'])) # in Mpc/h\n",
    "print(max(dd))\n",
    "\n",
    "\n",
    "\n",
    "\n",
    "# Galaxy with enough stellar mass\n",
    "# -> there is no stellar mass cut when building all_gals_in_trees list.\n",
    "allgal = hmo.Halo(base=wdir, nout=nout, is_gal=True, halofinder='HM', return_id=False, load=True)\n",
    "igal_mass_ok_cat = allgal.data['m'] > mstar_min\n",
    "print(\"(catalogue) # galaxies more massive than {:.2e} at nout = {}\".format(mstar_min, sum(igal_mass_ok_cat)))\n",
    "\n",
    "# Galaxies outside the refinement region MUST be excluded.\n",
    "# But, do you know the refinement region? \n",
    "# any galaxy closer than the furthest galaxy in the tree is OK.\n",
    "#igals_in_tree_now = mtc.match_list_ind(allgal.data['id'], id_now)\n",
    "dist_from_cluster_center = dist(allgal.data, cluster_now)"
   ]
  },
  {
   "cell_type": "code",
   "execution_count": 52,
   "metadata": {
    "collapsed": false
   },
   "outputs": [
    {
     "data": {
      "text/plain": [
       "157.13034425035198"
      ]
     },
     "execution_count": 52,
     "metadata": {},
     "output_type": "execute_result"
    }
   ],
   "source": [
    "cluster_now['z'] * info.pboxsize"
   ]
  },
  {
   "cell_type": "code",
   "execution_count": 54,
   "metadata": {
    "collapsed": false,
    "scrolled": true
   },
   "outputs": [
    {
     "name": "stdout",
     "output_type": "stream",
     "text": [
      "13.2849156683\n"
     ]
    }
   ],
   "source": [
    "\n",
    "\n",
    "#max_dist_prgs = "
   ]
  },
  {
   "cell_type": "code",
   "execution_count": 39,
   "metadata": {
    "collapsed": false
   },
   "outputs": [
    {
     "name": "stdout",
     "output_type": "stream",
     "text": [
      "(catalogue) # galaxies more massive than 5.00e+09 at nout = 144\n"
     ]
    },
    {
     "name": "stderr",
     "output_type": "stream",
     "text": [
      "/home/hoseung/.local/lib/python3.5/site-packages/ipykernel/__main__.py:10: VisibleDeprecationWarning: boolean index did not match indexed array along dimension 0; dimension is 4268766 but corresponding boolean dimension is 83318\n"
     ]
    },
    {
     "ename": "ValueError",
     "evalue": "max() arg is an empty sequence",
     "output_type": "error",
     "traceback": [
      "\u001b[1;31m---------------------------------------------------------------------------\u001b[0m",
      "\u001b[1;31mValueError\u001b[0m                                Traceback (most recent call last)",
      "\u001b[1;32m<ipython-input-39-fbd0406dad70>\u001b[0m in \u001b[0;36m<module>\u001b[1;34m()\u001b[0m\n\u001b[0;32m     31\u001b[0m \u001b[0mdist_from_cluster_center\u001b[0m \u001b[1;33m=\u001b[0m \u001b[0mdist\u001b[0m\u001b[1;33m(\u001b[0m\u001b[0mallgal\u001b[0m\u001b[1;33m.\u001b[0m\u001b[0mdata\u001b[0m\u001b[1;33m,\u001b[0m \u001b[0mcluster_now\u001b[0m\u001b[1;33m)\u001b[0m\u001b[1;33m\u001b[0m\u001b[0m\n\u001b[0;32m     32\u001b[0m \u001b[1;33m\u001b[0m\u001b[0m\n\u001b[1;32m---> 33\u001b[1;33m \u001b[0migal_add\u001b[0m \u001b[1;33m=\u001b[0m \u001b[1;33m(\u001b[0m\u001b[1;33m(\u001b[0m\u001b[0mallgal\u001b[0m\u001b[1;33m.\u001b[0m\u001b[0mdata\u001b[0m\u001b[1;33m[\u001b[0m\u001b[1;34m'm'\u001b[0m\u001b[1;33m]\u001b[0m \u001b[1;33m>\u001b[0m \u001b[0mmstar_min\u001b[0m\u001b[1;33m)\u001b[0m \u001b[1;33m*\u001b[0m \u001b[1;33m(\u001b[0m\u001b[0mdist_from_cluster_center\u001b[0m \u001b[1;33m<\u001b[0m \u001b[0mmax\u001b[0m\u001b[1;33m(\u001b[0m\u001b[0mdist_from_cluster_center\u001b[0m\u001b[1;33m[\u001b[0m\u001b[0migals_in_tree_now\u001b[0m\u001b[1;33m]\u001b[0m\u001b[1;33m)\u001b[0m\u001b[1;33m)\u001b[0m\u001b[1;33m)\u001b[0m\u001b[1;33m\u001b[0m\u001b[0m\n\u001b[0m\u001b[0;32m     34\u001b[0m \u001b[1;31m# massvie and inside zoomin + tree pogenitors\u001b[0m\u001b[1;33m\u001b[0m\u001b[1;33m\u001b[0m\u001b[0m\n\u001b[0;32m     35\u001b[0m \u001b[0migal_ok\u001b[0m \u001b[1;33m=\u001b[0m \u001b[0munique\u001b[0m\u001b[1;33m(\u001b[0m\u001b[0migal_add\u001b[0m\u001b[1;33m,\u001b[0m\u001b[0migals_in_tree_now\u001b[0m\u001b[1;33m)\u001b[0m\u001b[1;33m\u001b[0m\u001b[0m\n",
      "\u001b[1;31mValueError\u001b[0m: max() arg is an empty sequence"
     ]
    }
   ],
   "source": [
    "igal_add = (allgal.data['m'] > mstar_min) * (dist_from_cluster_center < max(dist_from_cluster_center[igals_in_tree_now]))\n",
    "# massvie and inside zoomin + tree pogenitors\n",
    "igal_ok = unique(igal_add,igals_in_tree_now)"
   ]
  },
  {
   "cell_type": "code",
   "execution_count": 38,
   "metadata": {
    "collapsed": false
   },
   "outputs": [
    {
     "data": {
      "text/plain": [
       "dtype([('aexp', '<f8'), ('id', '<i8'), ('desc_aexp', '<i8'), ('desc_id', '<i8'), ('nprog', '<i8'), ('pid', '<i8'), ('upid', '<i8'), ('desc_pid', '<i8'), ('phantom', '<i8'), ('sam_mvir', '<f8'), ('mvir', '<f8'), ('rvir', '<f8'), ('rs', '<i8'), ('vrms', '<f8'), ('mmp', '<f8'), ('aexp_last_MM', '<f8'), ('vmax', '<i8'), ('x', '<f8'), ('y', '<f8'), ('z', '<f8'), ('vx', '<f8'), ('vy', '<f8'), ('vz', '<i8'), ('jx', '<i8'), ('jy', '<i8'), ('jz', '<f8'), ('spin', '<i8'), ('b_id', '<i8'), ('d_id', '<i8'), ('tree_root_id', '<i8'), ('Orig_halo_id', '<i8'), ('nout', '<i8'), ('next_coprogenitor_d_id', '<i8'), ('last_progenitor_d_id', '<f8'), ('np', '<i4'), ('m', '<f4'), ('r', '<f4'), ('tvir', '<f4'), ('cvel', '<f4'), ('sig', '<f4'), ('sigbulge', '<f4'), ('mbulge', '<f4')])"
      ]
     },
     "execution_count": 38,
     "metadata": {},
     "output_type": "execute_result"
    }
   ],
   "source": [
    "gals_in_tree_now.dtype"
   ]
  },
  {
   "cell_type": "code",
   "execution_count": null,
   "metadata": {
    "collapsed": false
   },
   "outputs": [],
   "source": [
    "# at each nout, add galaxies above certain mass cut(least mass main progenitor)\n",
    "# and closer to the BCG than the most distant progenitor(, which must be inside the zoom-in region)\n",
    "mstar_min = 5e9\n",
    "for nout in range(180, nout_fi):\n",
    "    allgal = hmo.Halo(base=wdir, nout=nout, is_gal=True, halofinder='HM', return_id=False, load=True)\n",
    "    igal_mass_ok = allgal.data['m'] > mstar_min\n",
    "    print(\"# galaxies more massive than {:.2e} at nout = {}\".format(mstar_min, sum(igal_mass_ok)))\n",
    "\n",
    "    # Galaxies outside the refinement region MUST be excluded.\n",
    "    # But, do you know the refinement region? \n",
    "    # any galaxy closer than the furthest galaxy in the tree is OK.\n",
    "    igals_in_tree_now = mtc.match_list_ind(allgal.data['id'], id_now)\n",
    "    dist_from_cluster_center = dist(allgal.data, cluster_now)\n",
    "    \n",
    "    \n",
    "    #np.unique()\n",
    "\n",
    "\n",
    "# Then, I don't need to worry about sampling anymore. \n",
    "\n",
    "# along with the list, save anoter list of \"tree_root_halo\" to make it easy to identify the final descendent."
   ]
  },
  {
   "cell_type": "code",
   "execution_count": null,
   "metadata": {
    "collapsed": true
   },
   "outputs": [],
   "source": []
  }
 ],
 "metadata": {
  "kernelspec": {
   "display_name": "Python 3",
   "language": "python",
   "name": "python3"
  },
  "language_info": {
   "codemirror_mode": {
    "name": "ipython",
    "version": 3
   },
   "file_extension": ".py",
   "mimetype": "text/x-python",
   "name": "python",
   "nbconvert_exporter": "python",
   "pygments_lexer": "ipython3",
   "version": "3.5.1+"
  }
 },
 "nbformat": 4,
 "nbformat_minor": 0
}
