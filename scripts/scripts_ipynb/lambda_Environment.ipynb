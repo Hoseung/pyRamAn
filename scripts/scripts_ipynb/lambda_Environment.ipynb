{
 "cells": [
  {
   "cell_type": "markdown",
   "metadata": {},
   "source": [
    "Clusentric distance"
   ]
  },
  {
   "cell_type": "code",
   "execution_count": 2,
   "metadata": {
    "collapsed": true
   },
   "outputs": [],
   "source": [
    "import tree.ctutils as ctu\n",
    "\n",
    "import matplotlib.pyplot as plt\n",
    "import pickle\n",
    "import numpy as np\n",
    "import load"
   ]
  },
  {
   "cell_type": "code",
   "execution_count": 29,
   "metadata": {
    "collapsed": false
   },
   "outputs": [],
   "source": [
    "wdir = './05427/'\n",
    "mpgs = pickle.load(open(wdir + \"main_prgs_5_10_0.5_0.5_0.5_37_0.01_filtered_.pickle\", 'rb'))"
   ]
  },
  {
   "cell_type": "markdown",
   "metadata": {},
   "source": [
    "cluster center "
   ]
  },
  {
   "cell_type": "code",
   "execution_count": 30,
   "metadata": {
    "collapsed": true
   },
   "outputs": [],
   "source": [
    "import tree.halomodule as hmo\n",
    "\n",
    "def get_main_halo(halo):\n",
    "    return halo.data[np.argmax(halo.data[\"np\"])]"
   ]
  },
  {
   "cell_type": "code",
   "execution_count": 31,
   "metadata": {
    "collapsed": false
   },
   "outputs": [],
   "source": [
    "nout = 187\n",
    "info = load.info.Info(base=wdir, nout=nout)\n",
    "\n",
    "hh = hmo.Halo(nout=nout, base=wdir)\n",
    "main_cluster = get_main_halo(hh)\n",
    "pos = np.array([main_cluster.x, main_cluster.y, main_cluster.z]) * info.pboxsize\n",
    "#print(pos)"
   ]
  },
  {
   "cell_type": "markdown",
   "metadata": {},
   "source": [
    "Distance from the cluster center"
   ]
  },
  {
   "cell_type": "code",
   "execution_count": 32,
   "metadata": {
    "collapsed": true
   },
   "outputs": [],
   "source": [
    "nout_ini = 54\n",
    "nout_fi = 187"
   ]
  },
  {
   "cell_type": "code",
   "execution_count": 33,
   "metadata": {
    "collapsed": false
   },
   "outputs": [],
   "source": [
    "tt = pickle.load(open(wdir + 'halo/Trees/extended_tree.pickle', \"rb\"))\n",
    "tt_now = tt.data[tt.data[\"nout\"] == nout_fi]\n",
    "cluster = tt_now[np.argmax(tt_now[\"np\"])]\n",
    "cluster_tree = ctu.extract_main_tree(tt.data, idx=cluster[\"id\"])"
   ]
  },
  {
   "cell_type": "code",
   "execution_count": 34,
   "metadata": {
    "collapsed": true
   },
   "outputs": [],
   "source": [
    "ttg = pickle.load(open(wdir + 'GalaxyMaker/Trees/extended_tree.pickle', \"rb\"))\n",
    "ttg_now = ttg.data[ttg.data[\"nout\"] == nout_fi]\n",
    "clusterg = ttg_now[np.argmax(ttg_now[\"np\"])]\n",
    "cluster_treeg = ctu.extract_main_tree(ttg.data, idx=clusterg[\"id\"])"
   ]
  },
  {
   "cell_type": "code",
   "execution_count": 35,
   "metadata": {
    "collapsed": false
   },
   "outputs": [],
   "source": [
    "info_list = []\n",
    "for i, nout in enumerate(range(nout_ini, nout_fi+1)):\n",
    "    info = load.info.Info(base=wdir, nout=nout)\n",
    "    info_list.append(info)"
   ]
  },
  {
   "cell_type": "code",
   "execution_count": 36,
   "metadata": {
    "collapsed": false
   },
   "outputs": [],
   "source": [
    "pbox_arr = np.array([info.pboxsize for info in info_list])\n",
    "nout_arr = np.array([info.nout for info in info_list])\n",
    "aexp_arr = np.array([info.aexp for info in info_list])\n",
    "\n",
    "info_arr = np.rec.fromarrays((pbox_arr[::-1], nout_arr[::-1], aexp_arr[::-1]),\n",
    "                               dtype=[(\"pbox\", \"<f8\"),\n",
    "                                      (\"nout\", \"<i4\"),\n",
    "                                      (\"aexp\", \"<f8\")])\n",
    "\n"
   ]
  },
  {
   "cell_type": "code",
   "execution_count": 37,
   "metadata": {
    "collapsed": false
   },
   "outputs": [],
   "source": [
    "cluster_atree = ctu.extract_a_tree(tt.data, idx_last=cluster[\"id\"])"
   ]
  },
  {
   "cell_type": "markdown",
   "metadata": {},
   "source": [
    "1. lambda / d_lambda Vs clustocentric distance"
   ]
  },
  {
   "cell_type": "markdown",
   "metadata": {
    "collapsed": false
   },
   "source": [
    "----------------------------"
   ]
  },
  {
   "cell_type": "code",
   "execution_count": 40,
   "metadata": {
    "collapsed": true
   },
   "outputs": [],
   "source": [
    "dd_all=[]\n",
    "lam_all=[]\n",
    "color=[]\n",
    "cluster_size =[]\n",
    "for i in range(len(info_arr)):\n",
    "    ClusterRvir = cluster_tree[\"rvir\"] / 1e3 # * info_arr[\"pbox\"]\n",
    "    cx = cluster_treeg[\"x\"][i]# in Mpc/h\n",
    "    cy = cluster_treeg[\"y\"][i]# \n",
    "    cz = cluster_treeg[\"z\"][i]# \n",
    "    \n",
    "    #xf = [ gal.data[\"xc\"][i] for gal in mpgs]\n",
    "    for j, gal in enumerate(mpgs):\n",
    "        try:\n",
    "            # galaxy position in Mpc unit.\n",
    "            xf = gal.data[\"xc\"][i] / info_arr[\"aexp\"][i] * info.H0 * 1e-2\n",
    "            yf = gal.data[\"yc\"][i] / info_arr[\"aexp\"][i] * info.H0 * 1e-2\n",
    "            zf = gal.data[\"zc\"][i] / info_arr[\"aexp\"][i] * info.H0 * 1e-2\n",
    "\n",
    "            dd = np.sqrt(np.square(xf - cx) +\n",
    "                         np.square(yf - cy) + \n",
    "                         np.square(zf - cz))\n",
    "            if dd > 20:\n",
    "                continue\n",
    "            dd_all.append(dd)\n",
    "            lam_all.append(gal.data[\"lambda_r\"][i])\n",
    "            color.append(j)\n",
    "            cluster_size.append(ClusterRvir)\n",
    "            #ax.scatter(dd, gal.data[\"lambda_r\"][i],\n",
    "            #           c=i, cmap=\"jet\")\n",
    "        except:\n",
    "            pass"
   ]
  },
  {
   "cell_type": "code",
   "execution_count": 41,
   "metadata": {
    "collapsed": true
   },
   "outputs": [],
   "source": [
    "# cluster infall time\n",
    "gals = []\n",
    "for j, gal in enumerate(mpgs):\n",
    "    dd_all=[]\n",
    "    lam_all=[]\n",
    "    color=[]\n",
    "    cluster_size =[]\n",
    "    for i in range(len(info_arr)):\n",
    "        ClusterRvir = cluster_tree[\"rvir\"][i] / 1e3 # * info_arr[\"pbox\"]\n",
    "        cx = cluster_treeg[\"x\"][i]# in Mpc/h\n",
    "        cy = cluster_treeg[\"y\"][i]# \n",
    "        cz = cluster_treeg[\"z\"][i]# \n",
    "\n",
    "        try:\n",
    "            # galaxy position in Mpc unit.\n",
    "            xf = gal.data[\"xc\"][i] / info_arr[\"aexp\"][i] * info.H0 * 1e-2\n",
    "            yf = gal.data[\"yc\"][i] / info_arr[\"aexp\"][i] * info.H0 * 1e-2\n",
    "            zf = gal.data[\"zc\"][i] / info_arr[\"aexp\"][i] * info.H0 * 1e-2\n",
    "\n",
    "            dd = np.sqrt(np.square(xf - cx) +\n",
    "                         np.square(yf - cy) + \n",
    "                         np.square(zf - cz))\n",
    "            if dd > 20:\n",
    "                continue\n",
    "\n",
    "            dd_all.append(dd)\n",
    "            lam_all.append(gal.data[\"lambda_r\"][i])\n",
    "            color.append(j)\n",
    "            cluster_size.append(ClusterRvir)\n",
    "            #ax.scatter(dd, gal.data[\"lambda_r\"][i],\n",
    "            #           c=i, cmap=\"jet\")\n",
    "        except:\n",
    "            pass\n",
    "    \n",
    "    gals.append((dd_all, lam_all, color, cluster_size))"
   ]
  },
  {
   "cell_type": "code",
   "execution_count": 42,
   "metadata": {
    "collapsed": true
   },
   "outputs": [],
   "source": [
    "color = np.array(color)\n",
    "dd_all = np.array(dd_all)\n",
    "lam_all = np.array(lam_all)\n",
    "cluster_size = np.array(cluster_size)"
   ]
  },
  {
   "cell_type": "code",
   "execution_count": 43,
   "metadata": {
    "collapsed": false
   },
   "outputs": [],
   "source": [
    "t_inf = []\n",
    "for gal in gals:\n",
    "    dist = gal[0]\n",
    "    csize = gal[3]\n",
    "    t_inf.append(np.argmin(3*np.array(csize) > np.array(dist)))\n",
    "    \n",
    "t_inf = nout_fi - np.array(t_inf)"
   ]
  },
  {
   "cell_type": "code",
   "execution_count": 44,
   "metadata": {
    "collapsed": false
   },
   "outputs": [
    {
     "name": "stdout",
     "output_type": "stream",
     "text": [
      "[187 124 153 108 165 124 148 127 136 173 149  91  67  97 104 115 107  78\n",
      " 114  76 124 132 149 187 118 146 141 181 148 141 145  84 120 125 150 159\n",
      " 133 154 155 146 106 160 154 136 146 125 156 146 124 151 147 128 153 121\n",
      " 151 147 124 157 108  77 148 187 130 129  94 125]\n"
     ]
    }
   ],
   "source": [
    "print(t_inf)"
   ]
  },
  {
   "cell_type": "code",
   "execution_count": 45,
   "metadata": {
    "collapsed": false
   },
   "outputs": [],
   "source": [
    "lambda_fi = np.array([gal.data[\"lambda_r\"][0] for gal in mpgs])\n",
    "lambda_ini = np.array([gal.data[\"lambda_r\"][-1] for gal in mpgs])\n",
    "delta_lambda = lambda_fi - lambda_ini\n",
    "\n",
    "fig, ax = plt.subplots(1,2)\n",
    "ax[0].scatter(t_inf, lambda_fi)\n",
    "ax[0].set_xlabel(\"t_infall\")\n",
    "ax[0].set_ylabel(\"Lambda at z=0\")\n",
    "ax[1].scatter(t_inf, delta_lambda)\n",
    "ax[1].set_xlabel(\"t_infall\")\n",
    "ax[1].set_ylabel(\"Total Delta Lambda\")\n",
    "plt.show()"
   ]
  },
  {
   "cell_type": "code",
   "execution_count": null,
   "metadata": {
    "collapsed": true
   },
   "outputs": [],
   "source": [
    "fig, ax = plt.subplots()\n",
    "for i in range(len(mpgs)):\n",
    "    ind = np.where(color == i)[0]\n",
    "    \n"
   ]
  },
  {
   "cell_type": "code",
   "execution_count": 209,
   "metadata": {
    "collapsed": false
   },
   "outputs": [],
   "source": [
    "fig, ax = plt.subplots()\n",
    "for i in range(15):\n",
    "    ind = np.where(color == i)[0]\n",
    "    #ax.scatter(dd_all[ind],\n",
    "    ax.plot(dd_all[ind],\n",
    "               lam_all[ind])\n",
    "    #inside_cluster = ClusterRvir < dd"
   ]
  },
  {
   "cell_type": "code",
   "execution_count": 210,
   "metadata": {
    "collapsed": false
   },
   "outputs": [],
   "source": [
    "plt.show()"
   ]
  }
 ],
 "metadata": {
  "kernelspec": {
   "display_name": "Python 3",
   "language": "python",
   "name": "python3"
  },
  "language_info": {
   "codemirror_mode": {
    "name": "ipython",
    "version": 3
   },
   "file_extension": ".py",
   "mimetype": "text/x-python",
   "name": "python",
   "nbconvert_exporter": "python",
   "pygments_lexer": "ipython3",
   "version": "3.5.1+"
  }
 },
 "nbformat": 4,
 "nbformat_minor": 0
}
