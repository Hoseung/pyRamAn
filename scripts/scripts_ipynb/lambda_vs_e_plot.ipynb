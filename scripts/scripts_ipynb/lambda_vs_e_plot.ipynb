{
 "cells": [
  {
   "cell_type": "markdown",
   "metadata": {},
   "source": [
    "# Load data\n",
    "cats = pickle.load(open('./all_cats.pickle', 'rb'))\n",
    "for cnt, cat in enumerate(cats):\n",
    "    ind = np.isfinite(cat['eps'])\n",
    "    lambda_e.extend( cat['lambda_r'][ind])\n",
    "    eps.extend(cat['eps'][ind])\n",
    "\n",
    "    lambda_c.extend( cat['lambda_r'][ind])\n",
    "    stellarmass.extend( cat['mstar'][ind])\n",
    "    reff.extend( cat['reff'][ind])\n",
    "    ids.extend( cat['id'][ind] + cnt*10000) # annotation!\n",
    "    d2t.extend( cat['d2t'][ind])\n",
    "\n",
    "    rank.extend( 100*(np.argsort(cat['mstar'][ind])/sum(ind) ))"
   ]
  },
  {
   "cell_type": "code",
   "execution_count": 4,
   "metadata": {
    "collapsed": false
   },
   "outputs": [
    {
     "name": "stdout",
     "output_type": "stream",
     "text": [
      "07206 187\n04466 187\n01605 187\n35663 187\n24954 187\n49096 187\n05427 187\n05420 187\n29172 187\n29176 187\n10002 187\n36415 187\n06098 187\n39990 187\n"
     ]
    },
    {
     "name": "stdout",
     "output_type": "stream",
     "text": [
      "36413 187\n17891 187\n"
     ]
    }
   ],
   "source": [
    "import pickle\n",
    "import matplotlib.pyplot as plt\n",
    "import numpy as np\n",
    "from analysis import MajorMinorAccretion_module as mma\n",
    "from utils import match\n",
    "from analysis.all_plot_modules import *\n",
    "\n",
    "do_lambda_vs_e = True\n",
    "do_scatter = True\n",
    "sami_scatter = False\n",
    "load_data = False\n",
    "\n",
    "Horizon=False\n",
    "\n",
    "eps = []\n",
    "lambda_c = []\n",
    "lambda_e = []\n",
    "stellarmass =[]\n",
    "reff = []\n",
    "ids = []\n",
    "d2t = []\n",
    "\n",
    "rank = []\n",
    "\n",
    "annotate=False # output id of flat slow rotators\n",
    "color = False # BCGs in different colors.\n",
    "nout_fi = 37\n",
    "\n",
    "wdir = '/home/hoseung/Work/data/'\n",
    "\n",
    "if load_data:\n",
    "    mpgs = pickle.load(open(wdir + \"main_prgs_final_augmented_5_10_0.5_0.5_0.5_37_0.01_filtered_.pickle\", \"rb\"))\n",
    "    eps = []\n",
    "    lambda_e = []\n",
    "\n",
    "    inout = 0 # nout=187\n",
    "    mstar_cut_hard = 5e9\n",
    "\n",
    "    for gal in mpgs:\n",
    "        mgal = gal.data[\"mstar\"][0]\n",
    "        if mgal > mstar_cut_hard:\n",
    "            eps.append(gal.data['eps'][inout])\n",
    "            lambda_e.append(gal.data['lambda_r'][inout])    \n",
    "else:\n",
    "    fname_vs_e = \"./figs/lambda_vs_e_HM_z1\"    \n",
    "    \n",
    "    cat_dir = \"easy_final/\"\n",
    "    if Horizon:\n",
    "        clusters = [0,1,2,3,4,6,7,8,9,10,11,15,16]\n",
    "        clusters = [str(i) for i in clusters]\n",
    "        #nout_fi = [782, 358, 125][2]\n",
    "    else:\n",
    "        clusters = ['07206', '04466', '01605', \\\n",
    "                    '35663', '24954', '49096', \\\n",
    "                    '05427', '05420', '29172', \\\n",
    "                    '29176', '10002', '36415', \\\n",
    "                    '06098', '39990', '36413', \\\n",
    "                    '17891']\n",
    "        nout_fi = 187\n",
    "    #clusters = [\"05420\"]\n",
    "                # 35663, 49096, 249554, and 14172 to be added.\n",
    "\n",
    "    from analysis import misc\n",
    "    for cnt, cluster in enumerate(clusters):\n",
    "        print(cluster, nout_fi)\n",
    "        if Horizon:\n",
    "            fname = \"Horizon-AGN/lambda_results/\" + cluster + \"/\" + \"catalog\" + str(nout_fi) + cluster + \".pickle\"            \n",
    "        else:        \n",
    "            fname = wdir + cluster + \"/\" + cat_dir + \"catalog\" + str(nout_fi) + \".pickle\"    \n",
    "        cat = misc.load_cat(fname)\n",
    "        cat = cat[~np.isnan(cat['eps'])]\n",
    "\n",
    "        ind = np.isfinite(cat['eps'])\n",
    "        lambda_e.extend(cat['lambda_r'][ind])\n",
    "        eps.extend(cat['eps'][ind])\n",
    "\n",
    "        lambda_c.extend(cat['lambda_r'][ind])\n",
    "        stellarmass.extend(cat['mstar'][ind])\n",
    "        reff.extend(cat['reff'][ind])\n",
    "        ids.extend(cat['id'][ind] + cnt*10000) # annotation!\n",
    "        d2t.extend(cat['d2t'][ind])\n",
    "\n",
    "        rank.extend(100*(np.argsort(cat['mstar'][ind])/sum(ind)))\n",
    "        #print(cat['eps'])"
   ]
  },
  {
   "cell_type": "code",
   "execution_count": 8,
   "metadata": {
    "collapsed": false
   },
   "outputs": [
    {
     "name": "stdout",
     "output_type": "stream",
     "text": [
      "number of galaxies in total 2227\nNumber of galaxies below the demarkation line: 189\n"
     ]
    }
   ],
   "source": [
    "# load SAMI data\n",
    "\n",
    "sd = np.genfromtxt(wdir+'/samidata/jvds_sami_lambdar_220216_0arc_fwhm.txt',\n",
    "                    dtype=(int, float, float, float, float, float, float),\n",
    "                    usecols=(0,2,3,6,7,10,11))\n",
    "sd.dtype.names = ('id', 'r05', 'e05', 'r1', 'e1', 'r2', 'e2') # e = errors, ellip = ellipticity\n",
    "\n",
    "dd = np.genfromtxt(wdir+'/samidata/input_catalog_lambdar.txt',\n",
    "                          dtype=(int, float, float, float),\n",
    "                          usecols=(0,3,4,6))\n",
    "dd.dtype.names = ('id', 're', 'ellp', 'mstar')\n",
    "\n",
    "common_ids = np.intersect1d(sd['id'], dd['id'])\n",
    "\n",
    "ind = match.match_list_ind(common_ids, sd['id'])\n",
    "sd = sd[ind]\n",
    "ind = match.match_list_ind(common_ids, dd['id'])\n",
    "dd = dd[ind]\n",
    "\n",
    "from numpy.lib.recfunctions import append_fields\n",
    "\n",
    "if all(sd['id'] == dd['id']):\n",
    "    tt = dd[['re', 'ellp', 'mstar']]\n",
    "    sami_data = append_fields(sd, tt.dtype.names, [tt[n] for n in tt.dtype.names])\n",
    "    # only valid values\n",
    "    all_finite = np.all([np.isfinite(sami_data[field]) for field in ['id', 'r05', 'r1', 're', 'ellp', 'mstar']], axis=0)\n",
    "    sami_data = sami_data[all_finite]\n",
    "    \n",
    "# exclude ellp == 0\n",
    "\n",
    "sami_data = sami_data[sami_data['ellp'] > 0].data\n",
    "\n",
    "# Mass cut\n",
    "sami_data = sami_data[sami_data['mstar'] > 9.7]\n",
    "\n",
    "\n",
    "atlas = np.genfromtxt(wdir+'ATLAS3D/Emsellem2011_Atlas3D_Paper3_TableB1.txt',\n",
    "                      skip_header=12,\n",
    "                      usecols=(2,7))\n",
    "\n",
    "i = np.isfinite(lambda_e)\n",
    "x = np.array(eps)[i] # isfinit\n",
    "y = np.array(lambda_e)[i]\n",
    "print(\"number of galaxies in total\", len(eps))\n",
    "print(\"Number of galaxies below the demarkation line:\", sum(y < 0.31 * np.sqrt(x)))\n",
    "\n",
    "#new_map = truncate_colormap(\"winter_r\", minval=0.3)\n",
    "\n",
    "# Color\n",
    "#hex_colors = ['#4c72b0', '#55a868', '#c44e52', '#8172b2', '#ccb974', '#64b5cd']\n",
    "twocolors=['#4c72b0', '#c44e52']\n",
    "#twocolors=[\"blue\", \"red\"]\n",
    "den_cmap=[\"cool\", \"YlGnBu\", \"PuBu\"][1]\n",
    "#blue = '#4c72b0'\n",
    "#red = '#c44e52'\n",
    "do_plot(x,y, atlas,\n",
    "        do_scatter=False,\n",
    "        contour_label=False,\n",
    "        surf = False,\n",
    "        img_scale = 2.0,\n",
    "        twocolors=twocolors,\n",
    "        den_cmap = \"YlGnBu_r\",\n",
    "        d_alpha=1.0,\n",
    "        levels=None,#np.linspace(0.02, 1.0, 19),\n",
    "        fname_vs_e = wdir+\"figs/lambda_vs_e_HM\")"
   ]
  },
  {
   "cell_type": "code",
   "execution_count": null,
   "metadata": {
    "collapsed": true
   },
   "outputs": [],
   "source": [
    ""
   ]
  }
 ],
 "metadata": {
  "kernelspec": {
   "display_name": "Python 3",
   "language": "python",
   "name": "python3"
  }
 },
 "nbformat": 4,
 "nbformat_minor": 0
}