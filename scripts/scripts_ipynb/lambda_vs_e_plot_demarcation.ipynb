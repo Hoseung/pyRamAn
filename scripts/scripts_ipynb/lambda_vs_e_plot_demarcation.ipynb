{
 "cells": [
  {
   "cell_type": "markdown",
   "metadata": {},
   "source": [
    "# Load data\n",
    "cats = pickle.load(open('./all_cats.pickle', 'rb'))\n",
    "for cnt, cat in enumerate(cats):\n",
    "    ind = np.isfinite(cat['eps'])\n",
    "    lambda_e.extend( cat['lambda_r'][ind])\n",
    "    eps.extend(cat['eps'][ind])\n",
    "\n",
    "    lambda_c.extend( cat['lambda_r'][ind])\n",
    "    stellarmass.extend( cat['mstar'][ind])\n",
    "    reff.extend( cat['reff'][ind])\n",
    "    ids.extend( cat['id'][ind] + cnt*10000) # annotation!\n",
    "    d2t.extend( cat['d2t'][ind])\n",
    "\n",
    "    rank.extend( 100*(np.argsort(cat['mstar'][ind])/sum(ind) ))"
   ]
  },
  {
   "cell_type": "code",
   "execution_count": 6,
   "metadata": {
    "collapsed": false
   },
   "outputs": [],
   "source": [
    "import pickle\n",
    "import matplotlib.pyplot as plt\n",
    "import numpy as np\n",
    "from analysis import MajorMinorAccretion_module as mma\n",
    "from utils import match\n",
    "from analysis.all_plot_modules import *\n",
    "\n",
    "do_lambda_vs_e = True\n",
    "do_scatter = True\n",
    "sami_scatter = False\n",
    "load_data = True\n",
    "\n",
    "Horizon=False\n",
    "\n",
    "eps = []\n",
    "lambda_c = []\n",
    "lambda_e = []\n",
    "stellarmass =[]\n",
    "reff = []\n",
    "ids = []\n",
    "d2t = []\n",
    "\n",
    "rank = []\n",
    "\n",
    "annotate=False # output id of flat slow rotators\n",
    "color = False # BCGs in different colors.\n",
    "nout_fi = 37\n",
    "\n",
    "wdir = '/home/hoseung/Work/data/'\n",
    "\n",
    "if load_data:\n",
    "    mpgs = pickle.load(open(wdir + \"all_prgs/main_prgs_final_augmented_5_10_0.5_0.5_0.5_37_0.01_filtered_.pickle\", \"rb\"))\n",
    "    eps = []\n",
    "    lambda_e = []\n",
    "    ids = []\n",
    "    mstar = []\n",
    "    inout = 0 # nout=187\n",
    "    mstar_cut_hard = 5e9\n",
    "\n",
    "    for gal in mpgs:\n",
    "        mgal = gal.data[\"mstar\"][0]\n",
    "        if mgal > mstar_cut_hard:\n",
    "            eps.append(gal.data['eps'][inout])\n",
    "            lambda_e.append(gal.data['lambda_r'][inout])    \n",
    "            ids.append(gal.data[\"id\"][inout] + 100000 * gal.cluster)\n",
    "            mstar.append(gal.data[\"mstar\"][inout])\n",
    "else:\n",
    "    fname_vs_e = \"./figs/lambda_vs_e_HM_z1\"    \n",
    "    \n",
    "    cat_dir = \"easy_final/\"\n",
    "    if Horizon:\n",
    "        clusters = [0,1,2,3,4,6,7,8,9,10,11,15,16]\n",
    "        clusters = [str(i) for i in clusters]\n",
    "        #nout_fi = [782, 358, 125][2]\n",
    "    else:\n",
    "        clusters = ['07206', '04466', '01605', \\\n",
    "                    '35663', '24954', '49096', \\\n",
    "                    '05427', '05420', '29172', \\\n",
    "                    '29176', '10002', '36415', \\\n",
    "                    '06098', '39990', '36413', \\\n",
    "                    '17891']\n",
    "        nout_fi = 187\n",
    "    #clusters = [\"05420\"]\n",
    "                # 35663, 49096, 249554, and 14172 to be added.\n",
    "\n",
    "    from analysis import misc\n",
    "    for cnt, cluster in enumerate(clusters):\n",
    "        print(cluster, nout_fi)\n",
    "        if Horizon:\n",
    "            fname = \"Horizon-AGN/lambda_results/\" + cluster + \"/\" + \"catalog\" + str(nout_fi) + cluster + \".pickle\"            \n",
    "        else:        \n",
    "            fname = wdir + cluster + \"/\" + cat_dir + \"catalog\" + str(nout_fi) + \".pickle\"    \n",
    "        cat = misc.load_cat(fname)\n",
    "        cat = cat[~np.isnan(cat['eps'])]\n",
    "\n",
    "        ind = np.isfinite(cat['eps'])\n",
    "        lambda_e.extend(cat['lambda_r'][ind])\n",
    "        eps.extend(cat['eps'][ind])\n",
    "\n",
    "        lambda_c.extend(cat['lambda_r'][ind])\n",
    "        stellarmass.extend(cat['mstar'][ind])\n",
    "        reff.extend(cat['reff'][ind])\n",
    "        ids.extend(cat['id'][ind] + cnt*10000) # annotation!\n",
    "        d2t.extend(cat['d2t'][ind])\n",
    "\n",
    "        rank.extend(100*(np.argsort(cat['mstar'][ind])/sum(ind)))\n",
    "        #print(cat['eps'])"
   ]
  },
  {
   "cell_type": "code",
   "execution_count": 8,
   "metadata": {
    "collapsed": false
   },
   "outputs": [
    {
     "name": "stdout",
     "output_type": "stream",
     "text": [
      "number of galaxies in total 1726\n",
      "Number of galaxies below the demarkation line: 138\n"
     ]
    }
   ],
   "source": [
    "atlas = np.genfromtxt(wdir+'ATLAS3D/Emsellem2011_Atlas3D_Paper3_TableB1.txt',\n",
    "                      skip_header=12,\n",
    "                      usecols=(2,7))\n",
    "\n",
    "i = np.isfinite(lambda_e)\n",
    "x = np.array(eps)[i] # isfinit\n",
    "y = np.array(lambda_e)[i]\n",
    "id_ok = np.array(ids)[i]\n",
    "mstar = np.array(mstar)[i]\n",
    "# Zone of Avoidance\n",
    "odd = (y < 0.08 + x/4) * (x > 0.4)\n",
    "\n",
    "print(\"number of galaxies in total\", len(eps))\n",
    "print(\"Number of galaxies below the demarkation line:\", sum(y < 0.31 * np.sqrt(x)))\n",
    "\n",
    "#new_map = truncate_colormap(\"winter_r\", minval=0.3)\n",
    "\n",
    "# Color\n",
    "#hex_colors = ['#4c72b0', '#55a868', '#c44e52', '#8172b2', '#ccb974', '#64b5cd']\n",
    "twocolors=['#4c72b0', '#c44e52']\n",
    "#twocolors=[\"blue\", \"red\"]\n",
    "den_cmap=[\"cool\", \"YlGnBu\", \"PuBu\"][1]\n",
    "#blue = '#4c72b0'\n",
    "#red = '#c44e52'\n",
    "do_plot(x,y, atlas,\n",
    "        do_scatter=False,\n",
    "        contour_label=False,\n",
    "        surf = False,\n",
    "        img_scale = 2.0,\n",
    "        twocolors=twocolors,\n",
    "        den_cmap = \"YlGnBu_r\",\n",
    "        d_alpha=1.0,\n",
    "        levels=None,#np.linspace(0.02, 1.0, 19),\n",
    "        fname_vs_e = wdir +\"figs/lambda_vs_e_HM\")"
   ]
  },
  {
   "cell_type": "code",
   "execution_count": 3,
   "metadata": {
    "collapsed": false
   },
   "outputs": [
    {
     "data": {
      "text/plain": [
       "array([ 160500811,  160500745, 3566300002, 2917600065, 2917600001,\n",
       "       1000200001, 3999000032, 3999000015, 3999000001, 3641300444,\n",
       "       3641500003])"
      ]
     },
     "execution_count": 3,
     "metadata": {},
     "output_type": "execute_result"
    }
   ],
   "source": [
    "id_ok[odd]"
   ]
  },
  {
   "cell_type": "code",
   "execution_count": 9,
   "metadata": {
    "collapsed": false
   },
   "outputs": [
    {
     "data": {
      "text/plain": [
       "array([  6.27470167e+11,   1.12259730e+10,   8.82293256e+11,\n",
       "         1.60402400e+11,   9.86386195e+11,   1.14586091e+12,\n",
       "         2.88625844e+11,   6.80637428e+11,   4.45932586e+12,\n",
       "         2.88367819e+11,   3.14692934e+11])"
      ]
     },
     "execution_count": 9,
     "metadata": {},
     "output_type": "execute_result"
    }
   ],
   "source": [
    "mstar[odd]"
   ]
  },
  {
   "cell_type": "code",
   "execution_count": null,
   "metadata": {
    "collapsed": true
   },
   "outputs": [],
   "source": []
  }
 ],
 "metadata": {
  "kernelspec": {
   "display_name": "Python 3",
   "language": "python",
   "name": "python3"
  },
  "language_info": {
   "codemirror_mode": {
    "name": "ipython",
    "version": 3
   },
   "file_extension": ".py",
   "mimetype": "text/x-python",
   "name": "python",
   "nbconvert_exporter": "python",
   "pygments_lexer": "ipython3",
   "version": "3.5.2+"
  }
 },
 "nbformat": 4,
 "nbformat_minor": 0
}
