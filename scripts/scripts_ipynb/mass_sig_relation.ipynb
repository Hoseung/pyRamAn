{
 "cells": [
  {
   "cell_type": "code",
   "execution_count": 6,
   "metadata": {
    "collapsed": true
   },
   "outputs": [],
   "source": [
    "import load\n",
    "import numpy as np\n",
    "import pickle\n",
    "import matplotlib.pyplot as plt\n",
    "from scipy import stats\n",
    "\n",
    "class Meta():\n",
    "    pass\n",
    "\n",
    "def radial_profile_cut(meta, xx, yy, mm, vx, vy, vz,\n",
    "                       den_lim=1e6, den_lim2=5e6,\n",
    "                       mag_lim=25, nbins=100, rmax=50, dr=0.5):\n",
    "    # 2D photometry. (if rotated towards +y, then use x and z)\n",
    "    # now assuming +z alignment. \n",
    "    rr = np.sqrt(np.square(xx) + np.square(yy))# in kpc unit\n",
    "\n",
    "    # Account for weights.\n",
    "    i_sort = np.argsort(rr)\n",
    "    r_sorted = rr[i_sort]\n",
    "    m_sorted = mm[i_sort]\n",
    " \n",
    "    rmax = np.max(rr)\n",
    "    nbins = int(rmax/dr)\n",
    "\n",
    "    frequency, bins = np.histogram(r_sorted, bins = nbins, range=[0,rmax])\n",
    "    bin_centers = bins[:-1] + 0.5 * dr # remove the rightmost boundary.\n",
    " \n",
    "    m_radial = np.zeros(nbins)\n",
    "    ibins = np.concatenate((np.zeros(1), np.cumsum(frequency)))\n",
    "    for i in range(nbins):\n",
    "        m_radial[i] = np.sum(m_sorted[ibins[i]:ibins[i+1]])\n",
    "        if (m_radial[i]/(2 * np.pi * bin_centers[i] * dr)) < den_lim:\n",
    "            i_r_cut1 = i-1\n",
    "            break\n",
    " \n",
    "    i_r_cut2= np.argmax(m_radial/(2 * np.pi * bin_centers * dr) < den_lim2)\n",
    "\n",
    "    mtot2 = sum(m_radial[:i_r_cut2])\n",
    "    mtot1 = sum(m_radial[:i_r_cut1])\n",
    "    i_reff2 = np.argmax(np.cumsum(m_sorted) > (0.5*mtot2))\n",
    "    i_reff1 = np.argmax(np.cumsum(m_sorted) > (0.5*mtot1))\n",
    "    meta.reff2 = r_sorted[i_reff2]\n",
    "    meta.reff  = r_sorted[i_reff1]\n",
    "    meta.rgal2 = max([bin_centers[i_r_cut2],4*meta.reff2])\n",
    "    meta.rgal  = max([bin_centers[i_r_cut1],4*meta.reff])#bin_centers[i_r_cut1]\n",
    "\n",
    "    # velocity center\n",
    "    # It is not wrong for BCGs to have very large Reff(~50kpc). \n",
    "    # But referring the average velocity of stellar particles inside 50kpc \n",
    "    # as the system velocity is WRONG.\n",
    "    # If 1Reff is huge, try smaller aperture when measuring the system velocity.\n",
    "\n",
    "    i_close = i_sort[:np.argmax(np.cumsum(m_sorted) > (0.1*mtot2))] # 10% closest particles\n",
    "    meta.vxc = np.average(vx[i_close])\n",
    "    meta.vyc = np.average(vy[i_close])\n",
    "    meta.vzc = np.average(vz[i_close])\n",
    "\n",
    "\n",
    "def rp(gal, meta):\n",
    "    radial_profile_cut(meta, gal.data['pos'][:,0]\n",
    "                           , gal.data['pos'][:,1]\n",
    "                           , gal.data['pos'][:,2]\n",
    "                           , gal.data['vel'][:,0]\n",
    "                           , gal.data['vel'][:,1]\n",
    "                           , gal.data['vel'][:,2])"
   ]
  },
  {
   "cell_type": "code",
   "execution_count": 57,
   "metadata": {
    "collapsed": true
   },
   "outputs": [],
   "source": [
    "read=False\n",
    "nout = 187\n",
    "wdir = './29176/'\n",
    "\n",
    "if read:\n",
    "    sig3d=[]\n",
    "    mass=[]\n",
    "    reff=[]\n",
    "    import tree.halomodule as hmo\n",
    "    gg = hmo.Halo(base=wdir, nout=nout, is_gal=True, load=True)\n",
    "    ngal = len(gg.data)\n",
    "    print(\"Total {} galaxies in {}\".format(ngal, wdir))\n",
    "    for igal in range(1,ngal + 1):\n",
    "        gal = load.rd_GM.rd_gal(nout, igal, base=wdir)\n",
    "        sig3d.append((np.std(gal.data['vel'][:,0])+\n",
    "                      np.std(gal.data['vel'][:,0])+\n",
    "                      np.std(gal.data['vel'][:,0]))/np.sqrt(3))\n",
    "        mass.append(gal.header['mgal'])\n",
    " \n",
    "        meta = Meta()\n",
    "        rp(gal, meta)\n",
    "        reff.append(meta.reff)\n",
    "\n",
    "    mass = np.array(mass)\n",
    "    sig3d = np.array(sig3d)\n",
    "    reff = np.array(reff)\n",
    "    pickle.dump((mass, sig3d, reff),open(\"mass_sig_r.pickle\", 'wb'))\n",
    "else:\n",
    "    mass, sig3d, reff = pickle.load(open(\"mass_sig_r.pickle\", 'rb'))\n",
    "\n",
    "\n",
    "G = 6.67408e-11 #[m3 kg-1 s-2]\n",
    "msun = 1.989e30 #[kg]\n",
    "kpc_to_m = 3.0857e16 #[m]"
   ]
  },
  {
   "cell_type": "code",
   "execution_count": 21,
   "metadata": {
    "collapsed": true
   },
   "outputs": [],
   "source": [
    "def kernel_density(xx, yy, xmin=None, xmax=None,\n",
    "                   ymin=None, ymax=None, xpix=100, ypix=100):\n",
    "    import numpy as np\n",
    "    import scipy.stats as st\n",
    "    if xmin is None: xmin = min(xx)\n",
    "    if xmax is None: xmax = max(xx)\n",
    "    if ymin is None: ymin = min(yy)\n",
    "    if ymax is None: ymax = max(yy)\n",
    "\n",
    "    xpos, ypos = np.mgrid[xmin:xmax:xpix * 1j, ymin:ymax:ypix*1j]\n",
    "    positions = np.vstack([xpos.ravel(), ypos.ravel()])\n",
    "    values = np.vstack([xx, yy])\n",
    "    kernel = st.gaussian_kde(values)\n",
    "    f = np.reshape(kernel(positions).T, xpos.shape)\n",
    "    return xx, yy, f"
   ]
  },
  {
   "cell_type": "code",
   "execution_count": 71,
   "metadata": {
    "collapsed": false
   },
   "outputs": [],
   "source": [
    "fig, ax = plt.subplots()\n",
    "\n",
    "# Roughly, G*M = R*sig^2. (virialized)\n",
    "#sig = sig3d * 1e3 # [m/s]\n",
    "#mass = mass * msun\n",
    "#reff = reff * kpc_to_m\n",
    "\n",
    "xx = mass\n",
    "yy = sig3d**2 * reff\n",
    "\n",
    "log = True\n",
    "clip = True\n",
    "\n",
    "if log:\n",
    "    xx = np.log10(xx)\n",
    "    yy = np.log10(yy)\n",
    "\n",
    "ax.scatter(xx, yy)\n",
    "#ax.set_xscale('log')\n",
    "#ax.set_yscale('log')\n",
    "\n",
    "def fit_median_subsample(xx, yy, n_per_bin=None, nbins=None):\n",
    "    if nbins is None:\n",
    "        if n_per_bin is None:\n",
    "            return False\n",
    "\n",
    "    if n_per_bin is None:\n",
    "        n_per_bin = np.ceil(len(xx)/nbins).astype(int)\n",
    "\n",
    "    nbins = np.ceil(len(xx)/n_per_bin).astype(int)\n",
    "    x_bins = np.zeros(nbins)\n",
    "    y_medians = np.zeros(nbins)\n",
    "\n",
    "    if clip:\n",
    "        i_sorted = np.argsort(xx)    \n",
    "        for i in range(nbins):\n",
    "            x_bins[i] = np.median(xx[i_sorted[i*n_per_bin:min([len(xx)-1,(i+1)*n_per_bin])]])\n",
    "            y_medians[i] = np.median(yy[i_sorted[i*n_per_bin:min([len(xx)-1,(i+1)*n_per_bin])]])\n",
    "    \n",
    "    return x_bins, y_medians\n",
    "\n",
    "# Color high density points\n",
    "x_bins, y_medians = fit_median_subsample(xx, yy, n_per_bin=None, nbins=10)\n",
    "ax.scatter(x_bins, y_medians, color='r')\n",
    "slope, intercept, r_value, p_value, std_err = stats.linregress(x_bins,y_medians)\n",
    "xpoints = np.linspace(min(xx), max(xx), 10)\n",
    "ax.plot(xpoints, slope * xpoints + intercept, 'r--')\n",
    "\n",
    "plt.show()"
   ]
  },
  {
   "cell_type": "code",
   "execution_count": 67,
   "metadata": {
    "collapsed": false
   },
   "outputs": [
    {
     "data": {
      "text/plain": [
       "60331288.702876493"
      ]
     },
     "execution_count": 67,
     "metadata": {},
     "output_type": "execute_result"
    }
   ],
   "source": [
    "slope * xx[i_bcg] + intercept"
   ]
  },
  {
   "cell_type": "code",
   "execution_count": 84,
   "metadata": {
    "collapsed": false
   },
   "outputs": [
    {
     "name": "stdout",
     "output_type": "stream",
     "text": [
      "original Reff of the BCG =  83.3977362433\n",
      "Projected Reff of the BCG =  12.8648881417\n"
     ]
    }
   ],
   "source": [
    "i_bcg = np.argmax(mass)\n",
    "print(\"original Reff of the BCG = \", reff[i_bcg])\n",
    "print(\"Projected Reff of the BCG = \", 10**(slope * xx[i_bcg] + intercept) / sig3d[i_bcg]**2)"
   ]
  },
  {
   "cell_type": "code",
   "execution_count": 49,
   "metadata": {
    "collapsed": false
   },
   "outputs": [
    {
     "data": {
      "text/plain": [
       "29.117063621057895"
      ]
     },
     "execution_count": 49,
     "metadata": {},
     "output_type": "execute_result"
    }
   ],
   "source": [
    "y_medians"
   ]
  },
  {
   "cell_type": "markdown",
   "metadata": {},
   "source": [
    "Now, apply this to derive BCG Reff. (or use as upper limit for any other galaxies)"
   ]
  }
 ],
 "metadata": {
  "kernelspec": {
   "display_name": "Python 3",
   "language": "python",
   "name": "python3"
  },
  "language_info": {
   "codemirror_mode": {
    "name": "ipython",
    "version": 3
   },
   "file_extension": ".py",
   "mimetype": "text/x-python",
   "name": "python",
   "nbconvert_exporter": "python",
   "pygments_lexer": "ipython3",
   "version": "3.5.1+"
  }
 },
 "nbformat": 4,
 "nbformat_minor": 0
}
