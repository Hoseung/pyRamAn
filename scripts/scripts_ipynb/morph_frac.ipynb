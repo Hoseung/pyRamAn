{
 "cells": [
  {
   "cell_type": "code",
   "execution_count": 1,
   "metadata": {
    "collapsed": true
   },
   "outputs": [],
   "source": [
    "import pickle\n",
    "import matplotlib.pyplot as plt\n",
    "\n",
    "m_bins, gal_mass_bins, ngal_mass_bins = pickle.load(open(\"morp_frac.pickle\", \"rb\"))\n"
   ]
  },
  {
   "cell_type": "code",
   "execution_count": 9,
   "metadata": {
    "collapsed": false
   },
   "outputs": [],
   "source": [
    "import numpy as np\n",
    "\n",
    "\n",
    "def stacked_bar_full_height(data_2d, xlabels, width=0.5):\n",
    "    N, K = data_2d.shape\n",
    "\n",
    "    ind = np.arange(N)  # the x-axis locations for the novels\n",
    "\n",
    "    width = 0.5  # the width of the bars\n",
    "    plots = []\n",
    "    height_cumulative = np.zeros(N)\n",
    "    for k in range(K):\n",
    "        color = plt.cm.coolwarm(k/K, 1)\n",
    "        if k == 0:\n",
    "            p = plt.bar(ind, data_2d[:, k], width, color=color)\n",
    "        else:\n",
    "            p = plt.bar(ind, data_2d[:, k], width, bottom=height_cumulative, color=color)\n",
    "        height_cumulative += data_2d[:, k]\n",
    "        plots.append(p)\n",
    "\n",
    "    plt.xticks(ind+width/2, xlabels)\n",
    "    return plt.gca()\n",
    "\n",
    "\n",
    "xlabels = [\"{:.1f}\".format(m_b) for m_b in m_bins]\n",
    "data_2d = np.zeros((len(m_bins) -1, 2))\n",
    "data_2d[:,0] = gal_mass_bins[:-1]\n",
    "data_2d[:,1] = 1- gal_mass_bins[:-1]\n",
    "\n",
    "plt.hist(ngal_mass_bins)\n",
    "plt.plot(gal_mass_bins * 500)\n",
    "\n",
    "#stacked_bar_full_height(data_2d, xlabels, width=1.5)\n",
    "plt.ylabel(r'$f_{early}$', fontsize=18)\n",
    "plt.xlabel(r'$log10(M_{*})$', fontsize=18)\n",
    "plt.show()\n",
    "plt.close()"
   ]
  },
  {
   "cell_type": "code",
   "execution_count": 11,
   "metadata": {
    "collapsed": false
   },
   "outputs": [
    {
     "name": "stderr",
     "output_type": "stream",
     "text": [
      "/home/hoseung/.local/lib/python3.4/site-packages/matplotlib/collections.py:590: FutureWarning: elementwise comparison failed; returning scalar instead, but in the future will perform elementwise comparison\n",
      "  if self._edgecolors == str('face'):\n"
     ]
    }
   ],
   "source": [
    "c = np.arange(100)\n",
    "x = np.random.random(100)\n",
    "y = np.random.random(100)\n",
    "plt.scatter(x,y, c=c)\n",
    "plt.show()"
   ]
  },
  {
   "cell_type": "code",
   "execution_count": null,
   "metadata": {
    "collapsed": true
   },
   "outputs": [],
   "source": []
  }
 ],
 "metadata": {
  "kernelspec": {
   "display_name": "Python 3",
   "language": "python",
   "name": "python3"
  },
  "language_info": {
   "codemirror_mode": {
    "name": "ipython",
    "version": 3
   },
   "file_extension": ".py",
   "mimetype": "text/x-python",
   "name": "python",
   "nbconvert_exporter": "python",
   "pygments_lexer": "ipython3",
   "version": "3.4.3+"
  }
 },
 "nbformat": 4,
 "nbformat_minor": 0
}
