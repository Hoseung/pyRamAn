{
 "cells": [
  {
   "cell_type": "code",
   "execution_count": 1,
   "metadata": {
    "collapsed": true
   },
   "outputs": [],
   "source": [
    "import numpy as np\n",
    "a = np.array([0,1,2,3,4])"
   ]
  },
  {
   "cell_type": "code",
   "execution_count": 8,
   "metadata": {
    "collapsed": false
   },
   "outputs": [
    {
     "name": "stdout",
     "output_type": "stream",
     "text": [
      "datatype: <class 'numpy.ndarray'> int64\n",
      "8\n",
      "(5,)\n",
      "(5,)\n",
      "5\n",
      "5\n",
      "40\n"
     ]
    }
   ],
   "source": [
    "print(\"datatype:\", type(a), a.dtype)\n",
    "print(a.itemsize)\n",
    "print(a.shape)\n",
    "print(np.shape(a))\n",
    "print(a.size)\n",
    "print(np.size(a))\n",
    "print(a.nbytes)"
   ]
  },
  {
   "cell_type": "code",
   "execution_count": 9,
   "metadata": {
    "collapsed": false
   },
   "outputs": [
    {
     "name": "stdout",
     "output_type": "stream",
     "text": [
      "[123 123 123 123 123]\n"
     ]
    }
   ],
   "source": [
    "a.fill(123)\n",
    "print(a)"
   ]
  },
  {
   "cell_type": "code",
   "execution_count": 10,
   "metadata": {
    "collapsed": false
   },
   "outputs": [
    {
     "name": "stdout",
     "output_type": "stream",
     "text": [
      "[321 321 321 321 321]\n"
     ]
    }
   ],
   "source": [
    "a[:] = 321\n",
    "print(a)"
   ]
  },
  {
   "cell_type": "markdown",
   "metadata": {},
   "source": [
    "#### Slicing"
   ]
  },
  {
   "cell_type": "code",
   "execution_count": 18,
   "metadata": {
    "collapsed": false
   },
   "outputs": [
    {
     "name": "stdout",
     "output_type": "stream",
     "text": [
      "[11 12]\n",
      "negative index\n",
      "[13]\n",
      "[10 11 12]\n",
      "[13 14 15 16]\n"
     ]
    }
   ],
   "source": [
    "a = np.array([10,11,12,13,14,15,16])\n",
    "print(a[1:3])\n",
    "print(\"negative index\")\n",
    "print(a[3:-3])\n",
    "print(a[:3])\n",
    "print(a[3:])"
   ]
  },
  {
   "cell_type": "code",
   "execution_count": 20,
   "metadata": {
    "collapsed": false
   },
   "outputs": [
    {
     "name": "stdout",
     "output_type": "stream",
     "text": [
      "STEP\n",
      "every other element [10 12 14 16]\n",
      "every third element [10 13 16]\n",
      "starting from the first [11 13 15]\n"
     ]
    }
   ],
   "source": [
    "print(\"STEP\")\n",
    "print(\"every other element\", a[::2])\n",
    "print(\"every third element\", a[::3])\n",
    "print(\"starting from the first\", a[1::2])"
   ]
  },
  {
   "cell_type": "markdown",
   "metadata": {},
   "source": [
    "#### Multi-dimensional"
   ]
  },
  {
   "cell_type": "code",
   "execution_count": 27,
   "metadata": {
    "collapsed": false
   },
   "outputs": [
    {
     "name": "stdout",
     "output_type": "stream",
     "text": [
      "(2, 5)\n",
      "10\n",
      "2\n"
     ]
    }
   ],
   "source": [
    "a = np.array([[0,1, 2, 3, 4],\n",
    "              [8,9,10,11,12]])\n",
    "print(a.shape)\n",
    "print(a.size)\n",
    "print(a.ndim)"
   ]
  },
  {
   "cell_type": "code",
   "execution_count": 28,
   "metadata": {
    "collapsed": false
   },
   "outputs": [
    {
     "name": "stdout",
     "output_type": "stream",
     "text": [
      "10\n",
      "11\n",
      "[ 8  9 10 11 12]\n"
     ]
    }
   ],
   "source": [
    "print(a[1,2])\n",
    "print(a[-1,3])\n",
    "print(a[1])"
   ]
  },
  {
   "cell_type": "markdown",
   "metadata": {},
   "source": [
    "#### Indexing"
   ]
  },
  {
   "cell_type": "code",
   "execution_count": null,
   "metadata": {
    "collapsed": true
   },
   "outputs": [],
   "source": []
  }
 ],
 "metadata": {
  "kernelspec": {
   "display_name": "Python 3",
   "language": "python",
   "name": "python3"
  },
  "language_info": {
   "codemirror_mode": {
    "name": "ipython",
    "version": 3
   },
   "file_extension": ".py",
   "mimetype": "text/x-python",
   "name": "python",
   "nbconvert_exporter": "python",
   "pygments_lexer": "ipython3",
   "version": "3.4.3"
  }
 },
 "nbformat": 4,
 "nbformat_minor": 0
}
