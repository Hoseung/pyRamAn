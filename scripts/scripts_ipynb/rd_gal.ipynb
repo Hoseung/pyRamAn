{
 "metadata": {
  "name": "",
  "signature": "sha256:f94eac3be77df21139d66d1f7c3fa152db43a161ca915a7b8e718b4343311527"
 },
 "nbformat": 3,
 "nbformat_minor": 0,
 "worksheets": [
  {
   "cells": [
    {
     "cell_type": "code",
     "collapsed": false,
     "input": [
      "import matplotlib.pyplot as plt\n",
      "import numpy as np\n",
      "import load"
     ],
     "language": "python",
     "metadata": {},
     "outputs": [],
     "prompt_number": 10
    },
    {
     "cell_type": "code",
     "collapsed": false,
     "input": [
      "gal = load.rd_GM.rd_gal(187, 56)"
     ],
     "language": "python",
     "metadata": {},
     "outputs": [],
     "prompt_number": 11
    },
    {
     "cell_type": "markdown",
     "metadata": {},
     "source": [
      "1. \ud655\uc778 \ud544 - \uc740\ud558\uc758 \uc911\uc2ec\uc740 densest point ??\n",
      "\n",
      "2. \n",
      "\ucc98\uc74c \uc77d\uc73c\uba74, \n",
      "\uc704\uce58\ub294 Mpc(physical scale) (Mpc/h\ub791 \uad6c\ubd84\ud560 \uac83, comoving scale/unit),\n",
      "0,0,0 = \uc2dc\ubbac\ub808\uc774\uc158 \ubc15\uc2a4\uc758 \uc911\uc2ec (100Mpc/h,100Mpc/h,100Mpc/h = 147.217531Mpc)\n",
      "(h = 0.704)\n",
      "\uadf8\ub7ec\ub2c8 \uacc4\uc0b0\uc774 \ud3b8\ub9ac\ud558\ub3c4\ub85d \uc740\ud558 \uc911\uc2ec\uc744 0,0,0\uc73c\ub85c, \uc720\ub2db\uc744 kpc\uc73c\ub85c \ubc14\uafc0 \uac83. \n",
      "\n",
      "3. \uc18d\ub3c4 \ub2e8\uc704\ub294 Km/s\n",
      "\uc2dc\ubbac\ub808\uc774\uc158 \ubc15\uc2a4\ub97c \uae30\uc900\uc73c\ub85c. \n",
      "\uc5ec\uae30\uc11c \uc740\ud558\uc758 system velocity\ub97c \ube7c\uc904 \uac83. \n",
      "\n"
     ]
    },
    {
     "cell_type": "code",
     "collapsed": false,
     "input": [
      "gal.header.dtype"
     ],
     "language": "python",
     "metadata": {},
     "outputs": [
      {
       "metadata": {},
       "output_type": "pyout",
       "prompt_number": 39,
       "text": [
        "dtype([('my_number', '<i4'), ('level', '<i4'), ('mgal', '<f8'), ('xg', '<f8', (3,)), ('vg', '<f8', (3,)), ('lg', '<f8', (3,)), ('npart', '<i4')])"
       ]
      }
     ],
     "prompt_number": 39
    },
    {
     "cell_type": "code",
     "collapsed": false,
     "input": [
      "gal.header['xg']"
     ],
     "language": "python",
     "metadata": {},
     "outputs": [
      {
       "metadata": {},
       "output_type": "pyout",
       "prompt_number": 27,
       "text": [
        "array([-30.07379532, -49.3116188 , -50.76317596])"
       ]
      }
     ],
     "prompt_number": 27
    },
    {
     "cell_type": "code",
     "collapsed": false,
     "input": [
      "gal.star['x'] -= gal.header['xg'][0]\n",
      "gal.star['y'] -= gal.header['xg'][1]\n",
      "gal.star['z'] -= gal.header['xg'][2]\n",
      "gal.star['x'] *= 1e3\n",
      "gal.star['y'] *= 1e3\n",
      "gal.star['z'] *= 1e3"
     ],
     "language": "python",
     "metadata": {},
     "outputs": [],
     "prompt_number": 28
    },
    {
     "cell_type": "code",
     "collapsed": false,
     "input": [
      "gal.star['vx'] -= gal.header['vg'][0]\n",
      "gal.star['vy'] -= gal.header['vg'][1]\n",
      "gal.star['vz'] -= gal.header['vg'][2]"
     ],
     "language": "python",
     "metadata": {},
     "outputs": [],
     "prompt_number": 40
    },
    {
     "cell_type": "code",
     "collapsed": false,
     "input": [
      "fig, ax = plt.subplots(1,2)\n",
      "ax[0].hist(gal.star['vx'])\n",
      "#ax[0].set_label(\"Vx\")\n",
      "ax[1].hist(gal.star['x'])\n",
      "#ax[1].set_label(\"Pos X\")\n",
      "plt.show()"
     ],
     "language": "python",
     "metadata": {},
     "outputs": [],
     "prompt_number": 48
    },
    {
     "cell_type": "code",
     "collapsed": false,
     "input": [
      "# Mass\n",
      "gal.star['m'] *= 1e11"
     ],
     "language": "python",
     "metadata": {},
     "outputs": [],
     "prompt_number": 49
    },
    {
     "cell_type": "code",
     "collapsed": false,
     "input": [
      "np.unique(gal.star['m'])"
     ],
     "language": "python",
     "metadata": {},
     "outputs": [
      {
       "metadata": {},
       "output_type": "pyout",
       "prompt_number": 51,
       "text": [
        "array([ 464074.94664891,  928149.89329781])"
       ]
      }
     ],
     "prompt_number": 51
    },
    {
     "cell_type": "code",
     "collapsed": false,
     "input": [
      "plt.hist(gal.star['m'])\n",
      "plt.show()"
     ],
     "language": "python",
     "metadata": {},
     "outputs": [],
     "prompt_number": 50
    },
    {
     "cell_type": "markdown",
     "metadata": {},
     "source": [
      "\uc774\uc81c \uacc4\uc0b0\ud560 \uc900\ube44 \uc644\ub8cc. "
     ]
    }
   ],
   "metadata": {}
  }
 ]
}