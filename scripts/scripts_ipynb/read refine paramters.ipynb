{
 "cells": [
  {
   "cell_type": "code",
   "execution_count": 9,
   "metadata": {
    "collapsed": false
   },
   "outputs": [],
   "source": [
    "def read_params(fname):\n",
    "    f = open(fname, 'r')\n",
    "    f.readline() # skip the first line\n",
    "    nout=int(f.readline())\n",
    "    f.readline()\n",
    "    nzoomlevel=f.readline()\n",
    "    f.readline()\n",
    "    #aexp = float(f.readline())\n",
    "    s=f.readline() # s is a buch of 'comma-separated' values\n",
    "    aexp = [float(x) for x in s.split(',')]\n",
    "\n",
    "    x_refine=[]\n",
    "    y_refine=[]\n",
    "    z_refine=[]\n",
    "    r_refine=[]\n",
    "\n",
    "    #x_refine\n",
    "    f.readline()\n",
    "    for i in range(0,nout):\n",
    "        x_refine.append(float(f.readline()))\n",
    "    #y_refine\n",
    "    f.readline()\n",
    "    for i in range(0,nout):\n",
    "        y_refine.append(float(f.readline()))\n",
    "    #z_refine\n",
    "    f.readline()\n",
    "    for i in range(0,nout):\n",
    "        z_refine.append(float(f.readline()))\n",
    "    f.readline()\n",
    "    for i in range(0,nout):\n",
    "        r_refine.append(float(f.readline()))\n",
    "    f.close()\n",
    "    \n",
    "    return x_refine, y_refine, z_refine, r_refine\n",
    "x1, y1, z1, r1 = read_params(\"refines_01191.txt\")\n",
    "#x1, y1, z1, r1 = read_params(\"refines_01191.txt\")\n",
    "import matplotlib.pyplot as plt\n",
    "# parameter 1\n",
    "fig = plt.figure()\n",
    "ax1 = fig.add_subplot(2,2,1)\n",
    "ax1.plot(x1, c='blue')\n",
    "\n",
    "ax2 = fig.add_subplot(2,2,2)\n",
    "ax2.plot(y1)\n",
    "\n",
    "ax3 = fig.add_subplot(2,2,3)\n",
    "ax3.plot(z1)\n",
    "\n",
    "ax4 = fig.add_subplot(2,2,4)\n",
    "ax4.plot(r1)\n",
    "\n",
    "##################################\n",
    "#parameter 2\n",
    "ax1.plot(x2, c='red')\n",
    "ax2.plot(y2, c='red')\n",
    "ax3.plot(z2, c='red')\n",
    "ax4.plot(r2, c='red')\n",
    "\n",
    "\n",
    "plt.show()"
   ]
  },
  {
   "cell_type": "code",
   "execution_count": null,
   "metadata": {
    "collapsed": true
   },
   "outputs": [],
   "source": []
  }
 ],
 "metadata": {
  "kernelspec": {
   "display_name": "Python 3",
   "language": "python",
   "name": "python3"
  },
  "language_info": {
   "codemirror_mode": {
    "name": "ipython",
    "version": 3
   },
   "file_extension": ".py",
   "mimetype": "text/x-python",
   "name": "python",
   "nbconvert_exporter": "python",
   "pygments_lexer": "ipython3",
   "version": "3.5.1+"
  }
 },
 "nbformat": 4,
 "nbformat_minor": 0
}
