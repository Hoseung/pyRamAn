{
 "cells": [
  {
   "cell_type": "markdown",
   "metadata": {},
   "source": [
    "How many mergers are excluded due to merger overlap?\n",
    "\n",
    "\n",
    "There are 628 / 1584 mergers finally left.  "
   ]
  },
  {
   "cell_type": "code",
   "execution_count": null,
   "metadata": {
    "collapsed": true
   },
   "outputs": [],
   "source": [
    "import utils.sampling as smp\n",
    "import matplotlib.pyplot as plt\n",
    "import tree\n",
    "import pickle\n",
    "import tree.halomodule as hmo\n",
    "import numpy as np\n",
    "from analysis.misc import load_cat\n",
    "import scipy.stats\n",
    "import tree.ctutils as ctu\n",
    "from analysis.evol_lambda import MainPrg\n",
    "import draw\n",
    "import load\n",
    "import analysis.evol_lambda as evl\n",
    "import analysis.Major_Minor_accretion as mma\n",
    "import analysis.misc as amsc\n",
    "import tree.ctutils as ctu\n",
    "import utils.match as mtc\n",
    "# Read a single galaxy evolution catalog.\n",
    "\n",
    "from analysis.MajorMinorAccretion_module import *\n",
    "from analysis.all_plot_modules import *\n",
    "\n",
    "verbose=True\n",
    "# In[4]:\n",
    "base = './'\n",
    "cdir = ['catalog/', 'HM/', 'catalog_GM/', \"easy_final/\"][3]\n",
    "\n",
    "clusters = ['01605', '07206', \\\n",
    "            '35663', '24954', '49096', \\\n",
    "            '05427', '05420', '29172', \\\n",
    "            '29176', '10002', '36415', \\\n",
    "            '06098', '39990', '36413', \\\n",
    "            '17891', '04466']\n",
    "# parameters used for lambda_arr clipping.\n",
    "#ind_upper = 20\n",
    "#ind_lower = 20\n",
    "#sig_upper = 2.0\n",
    "#sig_lower = 2.0\n",
    "\n",
    " # 62: z = 1.666\n",
    "nout_fi = 187\n",
    "\n",
    "minimum_good_snap = 87\n",
    "\n",
    "wdir = '/home/hoseung/Work/data/'\n",
    "\n",
    "mpgs = pickle.load(open(wdir + \"all_prgs/main_prgs_5_10_0.5_0.5_0.5_37_0.01_before_filter.pickle\", \"rb\"))\n",
    "mc_M = 0\n",
    "mc_m = 0\n",
    "for gg in mpgs:\n",
    "    if hasattr(gg, \"merger\"):\n",
    "        if gg.merger is not None:\n",
    "            mc_M += sum((gg.merger.nout_ini >= 37) * (gg.merger.mr < 4))\n",
    "            mc_m += sum((gg.merger.nout_ini >= 37) * (gg.merger.mr >= 4))\n",
    "            \n",
    "print(\" # Major / minor mergers originally\", mc_M, mc_m)"
   ]
  }
 ],
 "metadata": {
  "kernelspec": {
   "display_name": "Python 3",
   "language": "python",
   "name": "python3"
  },
  "language_info": {
   "codemirror_mode": {
    "name": "ipython",
    "version": 3
   },
   "file_extension": ".py",
   "mimetype": "text/x-python",
   "name": "python",
   "nbconvert_exporter": "python",
   "pygments_lexer": "ipython3",
   "version": "3.5.1+"
  }
 },
 "nbformat": 4,
 "nbformat_minor": 0
}
