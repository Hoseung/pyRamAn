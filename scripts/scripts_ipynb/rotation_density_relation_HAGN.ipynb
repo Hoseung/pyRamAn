{
 "cells": [
  {
   "cell_type": "markdown",
   "metadata": {},
   "source": [
    "As a response to Brough 2017 \"The SAMI Galaxy Survey: the cluster kinematic morphology-density relation.\n",
    "check density - rotation parameter relation, and see if the fraction of slow rotator saturates at group scale, not continues toward cluster regime."
   ]
  },
  {
   "cell_type": "code",
   "execution_count": null,
   "metadata": {
    "collapsed": true
   },
   "outputs": [],
   "source": [
    "def Number_density(gcat, nth = 5, aperture=5,\n",
    "                   Nslice = 50000):\n",
    "    \"\"\"\n",
    "    calculate both n-th nearest distance and # within x Mpc.\n",
    "    nth = 5  distance to the n-th closest galaxy. \n",
    "    aperture = 5  number of galaxies insie 5Mpc(3D)\n",
    "    \n",
    "    Nslice = 5e4, performance tuning\n",
    "    \"\"\"\n",
    "    x = gcat.data[\"x\"]\n",
    "    y = gcat.data[\"y\"]\n",
    "    z = gcat.data[\"z\"]\n",
    "\n",
    "    x_ind = np.argsort(x)\n",
    "    y_ind = np.argsort(y)\n",
    "    z_ind = np.argsort(z)\n",
    "\n",
    "    d5=[]\n",
    "    N5=[]\n",
    "\n",
    "    for i, gal in enumerate(gcat.data):\n",
    "        xg,yg,zg = gal[\"x\"],gal[\"y\"],gal[\"z\"]\n",
    "        x_ok = np.abs(x_ind - xg) < Nslice\n",
    "        y_ok = np.abs(y_ind - yg) < Nslice\n",
    "        z_ok = np.abs(z_ind - zg) < Nslice\n",
    "        all_ok = np.where(x_ok * y_ok * z_ok)[0]\n",
    "\n",
    "        dist = np.sqrt(np.square(xg - x[all_ok]) + \n",
    "                       np.square(yg - y[all_ok]) + \n",
    "                       np.square(zg - z[all_ok]))\n",
    "\n",
    "        d5.append(sorted(dist)[nth] * gcat.info.pboxsize) # 0 = itself.\n",
    "        N5.append(sum(dist < aperture/gcat.info.pboxsize))\n",
    "    \n",
    "    return np.array(d5), np.array(N5)"
   ]
  },
  {
   "cell_type": "code",
   "execution_count": null,
   "metadata": {
    "collapsed": true
   },
   "outputs": [],
   "source": [
    "import pickle\n",
    "import load\n",
    "import numpy as np\n",
    "import matplotlib.pyplot as plt\n",
    "from tree import halomodule as hmo\n",
    "\n",
    "wdir = '/home/hoseung/Work/data/Horizon-AGN/'\n",
    "\n",
    "gcat = hmo.Halo(nout=782, is_gal=True, base=wdir)\n",
    "\n",
    "\n",
    "## Mass of main halo of each galaxy. \n",
    "\n",
    "# for each galaxy, first select all halos within 2Mpc. \n",
    "\n",
    "# then search for the largest (and second largest) halo with R_vir > d_gal_hal\n",
    "\n",
    "# Assign the halo id to the galaxy. \n",
    "\n",
    "# and keep distance from the center of the main halo\n",
    "\n",
    "# If it is group environment, rather than the clsuter environment, \n",
    "# I expect stronger correlation between group-centric distance and rotation parameter of galaxies,\n",
    "# than cluster-ceontric distance and rotation parameter. \n",
    "\n",
    "\n",
    "\n",
    "## galaxy number density (As a proxy to the main halo mass)\n",
    "\n",
    "# As a side step, check galaxy number density vs main halo mass relation. "
   ]
  }
 ],
 "metadata": {
  "kernelspec": {
   "display_name": "Python 3",
   "language": "python",
   "name": "python3"
  },
  "language_info": {
   "codemirror_mode": {
    "name": "ipython",
    "version": 3
   },
   "file_extension": ".py",
   "mimetype": "text/x-python",
   "name": "python",
   "nbconvert_exporter": "python",
   "pygments_lexer": "ipython3",
   "version": "3.5.1+"
  }
 },
 "nbformat": 4,
 "nbformat_minor": 0
}
