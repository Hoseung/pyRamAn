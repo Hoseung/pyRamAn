{
 "cells": [
  {
   "cell_type": "code",
   "execution_count": 56,
   "metadata": {
    "collapsed": true
   },
   "outputs": [],
   "source": [
    "def nouts_from_zreds(zreds, wdir='./'):\n",
    "#if True:\n",
    "    \"\"\"\n",
    "    Look for info in wdir/snapshots/outpu*/\n",
    "    \"\"\"\n",
    "    import glob\n",
    "    from load.info import Info\n",
    "    finfos = glob.glob(wdir + \"snapshots/output*/info*\")\n",
    "    nouts_info = []\n",
    "    zreds_info = []\n",
    "    for fn in finfos:\n",
    "        ii = Info(fn=fn)\n",
    "        nouts_info.append(ii.nout)\n",
    "        zreds_info.append(ii.zred) \n",
    "    \n",
    "    nouts_info = np.array(nouts_info)\n",
    "    zreds_info = np.array(zreds_info)\n",
    "    \n",
    "    isort = np.argsort(zreds_info)\n",
    "    nouts_info = nouts_info[isort]\n",
    "    zreds_info = zreds_info[isort]\n",
    "\n",
    "    nouts=[]\n",
    "    for zz in zreds:\n",
    "        nouts.append(nouts_info[find_closest(zreds_info, zz)])\n",
    "\n",
    "    return nouts"
   ]
  },
  {
   "cell_type": "code",
   "execution_count": 30,
   "metadata": {
    "collapsed": true
   },
   "outputs": [],
   "source": [
    "def worker(gcat, hals, out_q, info, inds,\n",
    "           wdir = './',\n",
    "           galaxy_plot = True,\n",
    "           galaxy_plot_dir = \"./\",\n",
    "           cal_lambda_params=None):\n",
    "    \n",
    "    from galaxymodule import galaxy\n",
    "\n",
    "    for i in inds:\n",
    "        gcat_single = gcat.data[i]\n",
    "        galid = gcat_single[\"id\"]\n",
    "        galidx = gcat_single[\"idx\"]\n",
    "\n",
    "        gal = galaxy.Galaxy(halo=gcat_single, info=info)\n",
    "        gm = load.rd_GM.rd_gal(nout, galid, wdir=wdir)\n",
    "        good_gal = gal.mk_gal(gm.star, gm.dm, gm.cell,\n",
    "                          unit_conversion=\"GM\",\n",
    "                          verbose=False)\n",
    "        if good_gal:\n",
    "            lambdas = gal.cal_lambda_r_eps(**cal_lambda_params)\n",
    "            gal.meta.lambda_arr, gal.meta.lambda_arrh, gal.meta.lambda_12kpc= lambdas[0]\n",
    "            gal.meta.lambda_r,   gal.meta.lambda_rh,   gal.meta.lambda_r12kpc = lambdas[1]\n",
    "            if galaxy_plot:\n",
    "                gal.plot_gal(fn_save = galaxy_plot_dir + str(nout).zfill(3) \\\n",
    "                                            + \"_\" + str(galid) + \".png\", ioff=True)\n",
    "        else:\n",
    "            pass\n"
   ]
  },
  {
   "cell_type": "code",
   "execution_count": 92,
   "metadata": {},
   "outputs": [
    {
     "data": {
      "text/plain": [
       "array([4], dtype=int32)"
      ]
     },
     "execution_count": 92,
     "metadata": {},
     "output_type": "execute_result"
    }
   ],
   "source": [
    "np.full(1,4,dtype=np.int32)"
   ]
  },
  {
   "cell_type": "code",
   "execution_count": 22,
   "metadata": {
    "collapsed": true
   },
   "outputs": [],
   "source": [
    "cal_lambda_params = dict(npix_per_reff=5,\n",
    "                        rscale=3.0,\n",
    "                        method='ellip',\n",
    "                        n_pseudo=1,\n",
    "                        verbose=False,\n",
    "                        voronoi=None,#voronoi_dict,\n",
    "                        mge_interpol = True)\n"
   ]
  },
  {
   "cell_type": "code",
   "execution_count": 78,
   "metadata": {
    "collapsed": true
   },
   "outputs": [],
   "source": [
    "import load\n",
    "import tree.halomodule as hmo\n",
    "import pickle\n",
    "\n",
    "wdir ='./'\n",
    "prgs = pickle.load(open(wdir + 'prg_only_tree.pickle', 'rb'))\n",
    "nsteps = np.unique(tt[\"nstep\"])[::-1]\n",
    "zreds = np.unique(tt[\"zred\"])\n",
    "nouts = nouts_from_zreds(zreds, wdir=wdir)"
   ]
  },
  {
   "cell_type": "code",
   "execution_count": 88,
   "metadata": {
    "scrolled": true
   },
   "outputs": [
    {
     "name": "stdout",
     "output_type": "stream",
     "text": [
      "[rd_GM.rd_gal] fname= /home/hoseung/Work/data/29172/GalaxyMaker/GAL_00187/gal_stars_0000029\n",
      "Not dense enough\n",
      "[rd_GM.rd_gal] fname= /home/hoseung/Work/data/29172/GalaxyMaker/GAL_00187/gal_stars_0000042\n"
     ]
    },
    {
     "name": "stderr",
     "output_type": "stream",
     "text": [
      "/home/hoseung/Work/pyclusterevol/galaxy/galaxy.py:137: VisibleDeprecationWarning: using a non-integer number instead of an integer will result in an error in the future\n",
      "  m_radial[i] = np.sum(m_sorted[ibins[i]:ibins[i+1]])\n"
     ]
    },
    {
     "name": "stdout",
     "output_type": "stream",
     "text": [
      "[rd_GM.rd_gal] fname= /home/hoseung/Work/data/29172/GalaxyMaker/GAL_00187/gal_stars_0000142\n",
      "[rd_GM.rd_gal] fname= /home/hoseung/Work/data/29172/GalaxyMaker/GAL_00187/gal_stars_0000001\n",
      "[rd_GM.rd_gal] fname= /home/hoseung/Work/data/29172/GalaxyMaker/GAL_00187/gal_stars_0000011\n",
      "[rd_GM.rd_gal] fname= /home/hoseung/Work/data/29172/GalaxyMaker/GAL_00187/gal_stars_0000012\n",
      "[rd_GM.rd_gal] fname= /home/hoseung/Work/data/29172/GalaxyMaker/GAL_00187/gal_stars_0000137\n",
      "[rd_GM.rd_gal] fname= /home/hoseung/Work/data/29172/GalaxyMaker/GAL_00187/gal_stars_0000024\n",
      "[rd_GM.rd_gal] fname= /home/hoseung/Work/data/29172/GalaxyMaker/GAL_00187/gal_stars_0000004\n",
      "Not dense enough\n",
      "[rd_GM.rd_gal] fname= /home/hoseung/Work/data/29172/GalaxyMaker/GAL_00187/gal_stars_0000020\n",
      "[rd_GM.rd_gal] fname= /home/hoseung/Work/data/29172/GalaxyMaker/GAL_00187/gal_stars_0000025\n",
      "[rd_GM.rd_gal] fname= /home/hoseung/Work/data/29172/GalaxyMaker/GAL_00187/gal_stars_0000146\n",
      "[rd_GM.rd_gal] fname= /home/hoseung/Work/data/29172/GalaxyMaker/GAL_00187/gal_stars_0000143\n",
      "[rd_GM.rd_gal] fname= /home/hoseung/Work/data/29172/GalaxyMaker/GAL_00187/gal_stars_0000040\n",
      "[rd_GM.rd_gal] fname= /home/hoseung/Work/data/29172/GalaxyMaker/GAL_00187/gal_stars_0000002\n",
      "Not dense enough\n",
      "[rd_GM.rd_gal] fname= /home/hoseung/Work/data/29172/GalaxyMaker/GAL_00187/gal_stars_0000022\n",
      "[rd_GM.rd_gal] fname= /home/hoseung/Work/data/29172/GalaxyMaker/GAL_00187/gal_stars_0000023\n",
      "Not dense enough\n",
      "[rd_GM.rd_gal] fname= /home/hoseung/Work/data/29172/GalaxyMaker/GAL_00187/gal_stars_0000006\n",
      "Not dense enough\n",
      "[rd_GM.rd_gal] fname= /home/hoseung/Work/data/29172/GalaxyMaker/GAL_00187/gal_stars_0000005\n",
      "[rd_GM.rd_gal] fname= /home/hoseung/Work/data/29172/GalaxyMaker/GAL_00187/gal_stars_0000014\n",
      "[rd_GM.rd_gal] fname= /home/hoseung/Work/data/29172/GalaxyMaker/GAL_00187/gal_stars_0000016\n",
      "[rd_GM.rd_gal] fname= /home/hoseung/Work/data/29172/GalaxyMaker/GAL_00187/gal_stars_0000036\n",
      "[rd_GM.rd_gal] fname= /home/hoseung/Work/data/29172/GalaxyMaker/GAL_00187/gal_stars_0000015\n",
      "[rd_GM.rd_gal] fname= /home/hoseung/Work/data/29172/GalaxyMaker/GAL_00186/gal_stars_0000016\n",
      "Not dense enough\n",
      "[rd_GM.rd_gal] fname= /home/hoseung/Work/data/29172/GalaxyMaker/GAL_00186/gal_stars_0000026\n",
      "[rd_GM.rd_gal] fname= /home/hoseung/Work/data/29172/GalaxyMaker/GAL_00186/gal_stars_0000142\n",
      "[rd_GM.rd_gal] fname= /home/hoseung/Work/data/29172/GalaxyMaker/GAL_00186/gal_stars_0000001\n",
      "[rd_GM.rd_gal] fname= /home/hoseung/Work/data/29172/GalaxyMaker/GAL_00186/gal_stars_0000008\n",
      "[rd_GM.rd_gal] fname= /home/hoseung/Work/data/29172/GalaxyMaker/GAL_00186/gal_stars_0000012\n",
      "[rd_GM.rd_gal] fname= /home/hoseung/Work/data/29172/GalaxyMaker/GAL_00186/gal_stars_0000138\n",
      "[rd_GM.rd_gal] fname= /home/hoseung/Work/data/29172/GalaxyMaker/GAL_00186/gal_stars_0000019\n",
      "[rd_GM.rd_gal] fname= /home/hoseung/Work/data/29172/GalaxyMaker/GAL_00186/gal_stars_0000002\n",
      "Not dense enough\n",
      "[rd_GM.rd_gal] fname= /home/hoseung/Work/data/29172/GalaxyMaker/GAL_00186/gal_stars_0000043\n",
      "[rd_GM.rd_gal] fname= /home/hoseung/Work/data/29172/GalaxyMaker/GAL_00186/gal_stars_0000018\n",
      "[rd_GM.rd_gal] fname= /home/hoseung/Work/data/29172/GalaxyMaker/GAL_00186/gal_stars_0000146\n",
      "[rd_GM.rd_gal] fname= /home/hoseung/Work/data/29172/GalaxyMaker/GAL_00186/gal_stars_0000147\n",
      "[rd_GM.rd_gal] fname= /home/hoseung/Work/data/29172/GalaxyMaker/GAL_00186/gal_stars_0000040\n",
      "[rd_GM.rd_gal] fname= /home/hoseung/Work/data/29172/GalaxyMaker/GAL_00186/gal_stars_0000006\n",
      "Not dense enough\n",
      "[rd_GM.rd_gal] fname= /home/hoseung/Work/data/29172/GalaxyMaker/GAL_00186/gal_stars_0000025\n",
      "[rd_GM.rd_gal] fname= /home/hoseung/Work/data/29172/GalaxyMaker/GAL_00186/gal_stars_0000041\n",
      "Not dense enough\n",
      "[rd_GM.rd_gal] fname= /home/hoseung/Work/data/29172/GalaxyMaker/GAL_00186/gal_stars_0000005\n",
      "Not dense enough\n",
      "[rd_GM.rd_gal] fname= /home/hoseung/Work/data/29172/GalaxyMaker/GAL_00186/gal_stars_0000007\n",
      "[rd_GM.rd_gal] fname= /home/hoseung/Work/data/29172/GalaxyMaker/GAL_00186/gal_stars_0000011\n",
      "[rd_GM.rd_gal] fname= /home/hoseung/Work/data/29172/GalaxyMaker/GAL_00186/gal_stars_0000021\n",
      "[rd_GM.rd_gal] fname= /home/hoseung/Work/data/29172/GalaxyMaker/GAL_00186/gal_stars_0000023\n",
      "[rd_GM.rd_gal] fname= /home/hoseung/Work/data/29172/GalaxyMaker/GAL_00186/gal_stars_0000020\n",
      "[rd_GM.rd_gal] fname= /home/hoseung/Work/data/29172/GalaxyMaker/GAL_00185/gal_stars_0000020\n"
     ]
    },
    {
     "ename": "FileNotFoundError",
     "evalue": "[Errno 2] No such file or directory: '/home/hoseung/Work/data/29172/GalaxyMaker/GAL_00185/gal_stars_0000020'",
     "output_type": "error",
     "traceback": [
      "\u001b[0;31m---------------------------------------------------------------------------\u001b[0m",
      "\u001b[0;31mFileNotFoundError\u001b[0m                         Traceback (most recent call last)",
      "\u001b[0;32m<ipython-input-88-9c00e22902f5>\u001b[0m in \u001b[0;36m<module>\u001b[0;34m()\u001b[0m\n\u001b[1;32m      5\u001b[0m     \u001b[0minds\u001b[0m \u001b[0;34m=\u001b[0m \u001b[0mids_now\u001b[0m\u001b[0;34m[\u001b[0m\u001b[0mids_now\u001b[0m \u001b[0;34m>\u001b[0m \u001b[0;36m0\u001b[0m\u001b[0;34m]\u001b[0m \u001b[0;34m-\u001b[0m\u001b[0;36m1\u001b[0m\u001b[0;34m\u001b[0m\u001b[0m\n\u001b[1;32m      6\u001b[0m     \u001b[0;31m#print(nout, nstep, ids_now)\u001b[0m\u001b[0;34m\u001b[0m\u001b[0;34m\u001b[0m\u001b[0m\n\u001b[0;32m----> 7\u001b[0;31m     \u001b[0mworker\u001b[0m\u001b[0;34m(\u001b[0m\u001b[0mgcat\u001b[0m\u001b[0;34m,\u001b[0m \u001b[0;32mNone\u001b[0m\u001b[0;34m,\u001b[0m \u001b[0;32mNone\u001b[0m\u001b[0;34m,\u001b[0m \u001b[0minfo\u001b[0m\u001b[0;34m,\u001b[0m \u001b[0minds\u001b[0m\u001b[0;34m,\u001b[0m \u001b[0mwdir\u001b[0m\u001b[0;34m=\u001b[0m\u001b[0mwdir\u001b[0m\u001b[0;34m,\u001b[0m\u001b[0mcal_lambda_params\u001b[0m\u001b[0;34m=\u001b[0m\u001b[0mcal_lambda_params\u001b[0m\u001b[0;34m)\u001b[0m\u001b[0;34m\u001b[0m\u001b[0m\n\u001b[0m",
      "\u001b[0;32m<ipython-input-30-6bc895abf594>\u001b[0m in \u001b[0;36mworker\u001b[0;34m(gcat, hals, out_q, info, inds, wdir, galaxy_plot, galaxy_plot_dir, cal_lambda_params)\u001b[0m\n\u001b[1;32m     13\u001b[0m \u001b[0;34m\u001b[0m\u001b[0m\n\u001b[1;32m     14\u001b[0m         \u001b[0mgal\u001b[0m \u001b[0;34m=\u001b[0m \u001b[0mgalaxy\u001b[0m\u001b[0;34m.\u001b[0m\u001b[0mGalaxy\u001b[0m\u001b[0;34m(\u001b[0m\u001b[0mhalo\u001b[0m\u001b[0;34m=\u001b[0m\u001b[0mgcat_single\u001b[0m\u001b[0;34m,\u001b[0m \u001b[0minfo\u001b[0m\u001b[0;34m=\u001b[0m\u001b[0minfo\u001b[0m\u001b[0;34m)\u001b[0m\u001b[0;34m\u001b[0m\u001b[0m\n\u001b[0;32m---> 15\u001b[0;31m         \u001b[0mgm\u001b[0m \u001b[0;34m=\u001b[0m \u001b[0mload\u001b[0m\u001b[0;34m.\u001b[0m\u001b[0mrd_GM\u001b[0m\u001b[0;34m.\u001b[0m\u001b[0mrd_gal\u001b[0m\u001b[0;34m(\u001b[0m\u001b[0mnout\u001b[0m\u001b[0;34m,\u001b[0m \u001b[0mgalid\u001b[0m\u001b[0;34m,\u001b[0m \u001b[0mwdir\u001b[0m\u001b[0;34m=\u001b[0m\u001b[0mwdir\u001b[0m\u001b[0;34m)\u001b[0m\u001b[0;34m\u001b[0m\u001b[0m\n\u001b[0m\u001b[1;32m     16\u001b[0m         good_gal = gal.mk_gal(gm.star, gm.dm, gm.cell,\n\u001b[1;32m     17\u001b[0m                           \u001b[0munit_conversion\u001b[0m\u001b[0;34m=\u001b[0m\u001b[0;34m\"GM\"\u001b[0m\u001b[0;34m,\u001b[0m\u001b[0;34m\u001b[0m\u001b[0m\n",
      "\u001b[0;32m/home/hoseung/Work/pyclusterevol/load/rd_GM.py\u001b[0m in \u001b[0;36mrd_gal\u001b[0;34m(nout, idgal, wdir, metal, nchem, long, fname)\u001b[0m\n\u001b[1;32m    311\u001b[0m \u001b[0;34m\u001b[0m\u001b[0m\n\u001b[1;32m    312\u001b[0m     \u001b[0mprint\u001b[0m\u001b[0;34m(\u001b[0m\u001b[0;34m\"[rd_GM.rd_gal] fname=\"\u001b[0m\u001b[0;34m,\u001b[0m \u001b[0mfname\u001b[0m\u001b[0;34m)\u001b[0m\u001b[0;34m\u001b[0m\u001b[0m\n\u001b[0;32m--> 313\u001b[0;31m     \u001b[0mheader\u001b[0m\u001b[0;34m,\u001b[0m \u001b[0mdata\u001b[0m \u001b[0;34m=\u001b[0m \u001b[0mrd_gm_star_file\u001b[0m\u001b[0;34m(\u001b[0m\u001b[0mfname\u001b[0m\u001b[0;34m)\u001b[0m\u001b[0;34m\u001b[0m\u001b[0m\n\u001b[0m\u001b[1;32m    314\u001b[0m \u001b[0;34m\u001b[0m\u001b[0m\n\u001b[1;32m    315\u001b[0m     \u001b[0mgal\u001b[0m \u001b[0;34m=\u001b[0m \u001b[0mGal\u001b[0m\u001b[0;34m(\u001b[0m\u001b[0mnout\u001b[0m\u001b[0;34m,\u001b[0m \u001b[0midgal\u001b[0m\u001b[0;34m,\u001b[0m \u001b[0mwdir\u001b[0m\u001b[0;34m=\u001b[0m\u001b[0mwdir\u001b[0m\u001b[0;34m,\u001b[0m \u001b[0mload\u001b[0m\u001b[0;34m=\u001b[0m\u001b[0;32mFalse\u001b[0m\u001b[0;34m)\u001b[0m\u001b[0;34m\u001b[0m\u001b[0m\n",
      "\u001b[0;32m/home/hoseung/Work/pyclusterevol/load/rd_GM.py\u001b[0m in \u001b[0;36mrd_gm_star_file\u001b[0;34m(fname, metal, nchem, long)\u001b[0m\n\u001b[1;32m    400\u001b[0m             \u001b[0mdtype_data\u001b[0m\u001b[0;34m.\u001b[0m\u001b[0mappend\u001b[0m\u001b[0;34m(\u001b[0m\u001b[0;34m(\u001b[0m\u001b[0;34m'cp'\u001b[0m\u001b[0;34m,\u001b[0m \u001b[0;34m'<f8'\u001b[0m\u001b[0;34m,\u001b[0m \u001b[0;34m(\u001b[0m\u001b[0mnchem\u001b[0m\u001b[0;34m,\u001b[0m\u001b[0;34m)\u001b[0m\u001b[0;34m)\u001b[0m\u001b[0;34m)\u001b[0m\u001b[0;34m\u001b[0m\u001b[0m\n\u001b[1;32m    401\u001b[0m \u001b[0;34m\u001b[0m\u001b[0m\n\u001b[0;32m--> 402\u001b[0;31m     \u001b[0;32mwith\u001b[0m \u001b[0mopen\u001b[0m\u001b[0;34m(\u001b[0m\u001b[0mfname\u001b[0m\u001b[0;34m,\u001b[0m \u001b[0;34m\"rb\"\u001b[0m\u001b[0;34m)\u001b[0m \u001b[0;32mas\u001b[0m \u001b[0mf\u001b[0m\u001b[0;34m:\u001b[0m\u001b[0;34m\u001b[0m\u001b[0m\n\u001b[0m\u001b[1;32m    403\u001b[0m         \u001b[0mheader\u001b[0m \u001b[0;34m=\u001b[0m \u001b[0mread_header\u001b[0m\u001b[0;34m(\u001b[0m\u001b[0mf\u001b[0m\u001b[0;34m,\u001b[0m \u001b[0mdtype\u001b[0m\u001b[0;34m=\u001b[0m\u001b[0mdtype_header\u001b[0m\u001b[0;34m)\u001b[0m\u001b[0;34m\u001b[0m\u001b[0m\n\u001b[1;32m    404\u001b[0m         \u001b[0mheader\u001b[0m\u001b[0;34m[\u001b[0m\u001b[0;34m'mgal'\u001b[0m\u001b[0;34m]\u001b[0m \u001b[0;34m*=\u001b[0m \u001b[0;36m1e11\u001b[0m \u001b[0;31m# mass fof galaxy\u001b[0m\u001b[0;34m\u001b[0m\u001b[0m\n",
      "\u001b[0;31mFileNotFoundError\u001b[0m: [Errno 2] No such file or directory: '/home/hoseung/Work/data/29172/GalaxyMaker/GAL_00185/gal_stars_0000020'"
     ]
    }
   ],
   "source": [
    "for nout, nstep in zip(nouts, nsteps):\n",
    "    gcat = hmo.Halo(nout=nout, base=wdir, is_gal=True)\n",
    "    info = load.info.Info(nout=nout, base=wdir)\n",
    "    ids_now = prgs[\"id\"][prgs[\"nstep\"]==nstep]\n",
    "    inds = ids_now[ids_now > 0] -1\n",
    "    #print(nout, nstep, ids_now)\n",
    "    worker(gcat, None, None, info, inds, wdir=wdir,cal_lambda_params=cal_lambda_params)"
   ]
  }
 ],
 "metadata": {
  "kernelspec": {
   "display_name": "Python 3",
   "language": "python",
   "name": "python3"
  },
  "language_info": {
   "codemirror_mode": {
    "name": "ipython",
    "version": 3
   },
   "file_extension": ".py",
   "mimetype": "text/x-python",
   "name": "python",
   "nbconvert_exporter": "python",
   "pygments_lexer": "ipython3",
   "version": "3.5.3"
  }
 },
 "nbformat": 4,
 "nbformat_minor": 1
}
