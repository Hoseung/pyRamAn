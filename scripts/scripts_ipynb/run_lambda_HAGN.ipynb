{
 "cells": [
  {
   "cell_type": "markdown",
   "metadata": {},
   "source": [
    "1. What the final output should look like?\n",
    "    - dd\n",
    "2. Quantities to calculate\n",
    "    - lambda & sigma (at various apertures)\n",
    "    - Mgas\n",
    "    - L vectors of gas/DM/star (in Msun * km/s * kpc unit)\n",
    "    - Vmax\n",
    "    - B/T (using various definitions)\n",
    "    - SFR\n",
    "    - color, metallicity\n",
    "3. Quantities that can be derived lateron\n",
    "    - subhalo mass\n",
    "    - local (galaxy number) density\n",
    "    - merger orbit"
   ]
  },
  {
   "cell_type": "code",
   "execution_count": 4,
   "metadata": {
    "collapsed": true
   },
   "outputs": [],
   "source": [
    "def mk_gal(gal,\n",
    "            save=False, verbose=False,\n",
    "            mstar_min=1e9,\n",
    "            den_lim=1e6, den_lim2=5e6,\n",
    "            rmin = -1, Rgal_to_reff=5.0, method_com=1, follow_bp=None,\n",
    "            unit_conversion=\"code\"):\n",
    "    \"\"\"\n",
    "        Refine given catalog (star, DM, gas) to define a realistic galaxy.\n",
    "        Raw star/DM/gas catalog as give are only rough representation of a galaxy.\n",
    "        But not much have to be thrown away, either.\n",
    "\n",
    "        Returns True if a \"good\" galaxy is made.\n",
    "\n",
    "\n",
    "        Parameters\n",
    "        ----------\n",
    "\n",
    "        Rgal_to_reff:\n",
    "            Galaxy radius = Reff * Rgal_to_reff.\n",
    "            By default, Rgal = 5*Reff.\n",
    "            (E's have smaller R_t_r, L's have larger.)\n",
    "\n",
    "        Notes\n",
    "        -----\n",
    "        1. Since now (as of 2016.03) galaxy calculation is based on the GalaxyMaker results,\n",
    "        let's just believe and minimize redundant processes such as determining the center of mass,\n",
    "        system velocity, and checking the presence of (unwanted) substructure.\n",
    "\n",
    "        2. Assuming all catalog in the code units.\n",
    "\n",
    "        3. dr, bin size in determining the radial profile cut scales with exponential factor.\n",
    "        Without scaling, 0.5kpc bin size is too large for ~1kpc galaxies at high-z.\n",
    "\n",
    "    \"\"\"\n",
    "    # Need halo information\n",
    "    assert (gal.gcat is not None), (\"Need a catalog,\"\n",
    "    \"use Galaxy.set_halo() and provide x,y,z,vx,vy,vz,r,rvir, at least\"\n",
    "    \"Units are.. ?? \")\n",
    "\n",
    "    # And at least one component.\n",
    "    star = gal.star\n",
    "    if star is not None:\n",
    "        gal.star[\"x\"] = (gal.star[\"x\"] - gal.gcat[\"x\"])*1e3\n",
    "        gal.star[\"y\"] = (gal.star[\"y\"] - gal.gcat[\"y\"])*1e3\n",
    "        gal.star[\"z\"] = (gal.star[\"z\"] - gal.gcat[\"z\"])*1e3\n",
    "        gal.star[\"m\"] *= 1e11#gal.info.msun\n",
    "    dm = gal.dm\n",
    "    if dm is not None:\n",
    "        gal.dm[\"x\"] = (gal.dm[\"x\"] - gal.gcat[\"x\"])*1e3\n",
    "        gal.dm[\"y\"] = (gal.dm[\"y\"] - gal.gcat[\"y\"])*1e3\n",
    "        gal.dm[\"z\"] = (gal.dm[\"z\"] - gal.gcat[\"z\"])*1e3\n",
    "        gal.dm[\"m\"] *= gal.info.msun\n",
    "    cell = gal.cell\n",
    "\n",
    "    assert (gal._has_star or gal._has_dm or gal._has_cell), (\"At least\"\n",
    "    \"one of three(star, dm, gas) component is needed\")\n",
    "\n",
    "    # all tests passed.\n",
    "    if verbose:\n",
    "        print(\"Making a galaxy:\", gal.meta.id)\n",
    "        print(\"SAVE:\", save)\n",
    "        print(\"Halo size:\", gal.gcat['rvir'])\n",
    "\n",
    "    #\n",
    "    member=\"Reff\"\n",
    "\n",
    "    # galaxy center from GalaxyMaker. - good enough.\n",
    "    xc = gal.gcat['x']\n",
    "    yc = gal.gcat['y']\n",
    "    zc = gal.gcat['z']\n",
    "\n",
    "    if verbose: print(\"xc, yc, zc =\", xc, yc, zc)\n",
    "\n",
    "    rgal_tmp = min([gal.gcat['r'] * 1e3, 30]) # gcat[\"rvir\"] in kpc\n",
    "    if verbose: print(\"Rgal_tmp\", rgal_tmp)\n",
    "    print(\"gal.debug\",gal.debug)\n",
    "    dense_enough = radial_profile_cut(gal, star['x'], star['y'], star['m'],\n",
    "                         star['vx'], star['vy'], star['vz'],\n",
    "                         den_lim=den_lim, den_lim2=den_lim2,\n",
    "                         mag_lim=25,\n",
    "                         nbins=int(rgal_tmp/0.5),\n",
    "                         dr=0.5 * gal.info.aexp,\n",
    "                         rmax=rgal_tmp,\n",
    "                         debug=gal.debug)\n",
    "\n",
    "    if not dense_enough:\n",
    "        print(\"Not dense enough\")\n",
    "        return False\n",
    "    ind = np.where((np.square(star['x']) +\n",
    "                    np.square(star['y']) +\n",
    "                    np.square(star['z'])) < gal.meta.rgal**2)[0]# in kpc unit\n",
    "\n",
    "    gal.star = star[ind]\n",
    "\n",
    "    if gal.debug:\n",
    "        print('[galaxy.Galaxy.mk_gal] mima vx 1', min(gal.star['vx']), max(gal.star['vx']))\n",
    "\n",
    "\n",
    "    gal.meta.nstar = len(ind)\n",
    "    gal.meta.mstar = sum(gal.star['m'])\n",
    "\n",
    "    if gal.meta.mstar < mstar_min:\n",
    "        print(\"Not enough stars: {:.2e} Msun\".format(gal.meta.mstar))\n",
    "        print(\"{} Aborting... \\n\".format(len(gal.star['m'])))\n",
    "        gal.meta.star = False\n",
    "        return False\n",
    "\n",
    "    gal.meta.Rgal_to_reff = gal.meta.rgal / gal.meta.reff\n",
    "    # should not surpass rr_tmp, over where another galaxy might be.\n",
    "\n",
    "    # Test if the outer annulus has significant amount of stars\n",
    "    # -> it shouldn't.\n",
    "#        if verbose: print(\"Reff: \", reff_tmp)\n",
    "\n",
    "    # extract galaxy (particles and gas)\n",
    "    if star is not None:\n",
    "        nstar_tot = len(star['x'][ind])\n",
    "        if verbose: print(\"nstar tot:\", nstar_tot)\n",
    "        if verbose: print(\"Store stellar particle\")\n",
    "\n",
    "        if 'time' in gal.star.dtype.names and unit_conversion == \"code\":\n",
    "            import utils.cosmology\n",
    "            gal.star['time'] = utils.cosmology.time2gyr(gal.star['time'],\n",
    "                                         z_now = gal.info.zred,\n",
    "                                         info=gal.info)\n",
    "\n",
    "    # VERY arbitrary..\n",
    "#        gal.Rgal_to_reff = 4 #rgal_tmp / reff_tmp\n",
    "    rgal_tmp = gal.meta.Rgal_to_reff *gal.meta.reff\n",
    "\n",
    "    #print(\".........\", gal.star['m'][100:120], gal.mstar)\n",
    "    import utils.sampling as smp\n",
    "    gal.region = smp.set_region(xc=gal.meta.xc, yc=gal.meta.yc, zc=gal.meta.zc, radius = gal.meta.rgal)\n",
    "\n",
    "    # Now, get cov\n",
    "#        gal.get_cov(center_only=True)\n",
    "    #if gal.star is not None:\n",
    "        #gal._convert_unit_meta(unit_conversion)\n",
    "        #gal._convert_unit(\"star\", unit_conversion)\n",
    "\n",
    "    if gal.debug:\n",
    "        print('[galaxy.Galaxy.mk_gal] meta.v[x,y,z]c', gal.meta.vxc, gal.meta.vyc, gal.meta.vzc)\n",
    "        print('[galaxy.Galaxy.mk_gal] mima vx 2', min(gal.star['vx']), max(gal.star['vx']))\n",
    "\n",
    "    if dm is not None:\n",
    "        if member == \"Reff\":\n",
    "            idm = np.where( np.square(dm[\"x\"] - gal.meta.xc) +\n",
    "                            np.square(dm[\"y\"] - gal.meta.yc) +\n",
    "                            np.square(dm[\"z\"] - gal.meta.zc) <= np.square(rgal_tmp))[0]\n",
    "        elif member == \"v200\":\n",
    "        # Although the velocity is redefined later,\n",
    "        # particle membership is fixed at this point.\n",
    "            idm = np.where( np.square(dm[\"vx\"] - gal.meta.vxc / gal.info.kms)+\n",
    "                            np.square(dm[\"vy\"] - gal.meta.vyc / gal.info.kms)+\n",
    "                            np.square(dm[\"vz\"] - gal.meta.vzc / gal.info.kms) <= np.square(200**2))[0]\n",
    "        gal._convert_unit(\"dm\", unit_conversion)\n",
    "\n",
    "    if cell is not None:\n",
    "        if verbose: print(\"Cell is NOT none\")\n",
    "        icell = np.where(np.square(cell[\"x\"] - xc) +\n",
    "                         np.square(cell[\"y\"] - yc) +\n",
    "                         np.square(cell[\"z\"] - zc) <= np.square(rgal_tmp))[0]\n",
    "\n",
    "        gal._add_cell(cell, icell)\n",
    "        gal._convert_unit(\"cell\", unit_conversion)\n",
    "        gal.cal_mgas()\n",
    "\n",
    "        gal.cell = np.recarray(ncell_tot, dtype=dtype_cell)\n",
    "        gal.cell['x'] = (cell['x'][icell] - xc) * gal.info.pboxsize * 1000\n",
    "        gal.cell['y'] = (cell['y'][icell] - yc) * gal.info.pboxsize * 1000\n",
    "        gal.cell['z'] = (cell['z'][icell] - zc) * gal.info.pboxsize * 1000\n",
    "        gal.cell['dx'] = cell['dx'][icell] * gal.info.pboxsize * 1000\n",
    "        gal.cell['rho'] = cell['var0'][icell]\n",
    "        gal.cell['vx'] = cell['var1'][icell] * gal.info.kms - gal.meta.vxc\n",
    "        gal.cell['vy'] = cell['var2'][icell] * gal.info.kms - gal.meta.vyc\n",
    "        gal.cell['vz'] = cell['var3'][icell] * gal.info.kms - gal.meta.vzc\n",
    "        gal.cell['temp'] = cell['var4'][icell]\n",
    "        gal.cell['metal'] = cell['var5'][icell]\n",
    "\n",
    "\n",
    "    # Some more sophistications.\n",
    "    \"\"\"\n",
    "    print(\"Rgal = 4 * Reff = \", rgal_tmp * gal.info.pboxsize * 1000)\n",
    "\n",
    "        # Save sink particle as a BH, not cloud particles.\n",
    "\n",
    "    \"\"\"\n",
    "    return True\n",
    "\n",
    "\n",
    "def radial_profile_cut(gal, xx, yy, mm, vx, vy, vz,\n",
    "                       den_lim=1e6, den_lim2=5e6,\n",
    "                       mag_lim=25, nbins=100, rmax=20, dr=0.5,\n",
    "                       debug=False):\n",
    "    # 2D photometry. (if rotated towards +y, then use x and z)\n",
    "    # now assuming +z alignment.\n",
    "    rr = np.sqrt(np.square(xx) + np.square(yy))# in kpc unit\n",
    "    if debug:\n",
    "        print(\"min(rr) {}\\n max(rr){}\\n min(xx){}\\n max(xx){}\".format(\n",
    "                               min(rr), max(rr), min(xx), max(xx)))\n",
    "\n",
    "    # Account for weights.\n",
    "    i_sort = np.argsort(rr)\n",
    "    r_sorted = rr[i_sort]\n",
    "    m_sorted = mm[i_sort]\n",
    "\n",
    "    rmax = min([np.max(rr), rmax])\n",
    "    nbins = int(rmax/dr)\n",
    "\n",
    "    if nbins < 3:\n",
    "        print(\"Too small size \\n # of stars:\", len(rr))\n",
    "        return False\n",
    "\n",
    "    frequency, bins = np.histogram(r_sorted, bins = nbins, range=[0, rmax])\n",
    "    bin_centers = bins[:-1] + 0.5 * dr # remove the rightmost boundary.\n",
    "\n",
    "    m_radial = np.zeros(nbins)\n",
    "    ibins = np.concatenate((np.zeros(1,dtype=int), np.cumsum(frequency)))\n",
    "\n",
    "    i_r_cut1 = nbins -1 # Maximum value\n",
    "    # on rare occasions, a galaxy's stellar surface density\n",
    "    # never crosses the density limit. Then i_r_cut1 = last index.\n",
    "    for i in range(nbins):\n",
    "        m_radial[i] = np.sum(m_sorted[ibins[i]:ibins[i+1]])\n",
    "        # Check stellar surface density\n",
    "        sig_at_r = m_radial[i]/(2 * np.pi * bin_centers[i] * dr)\n",
    "        if debug:\n",
    "            print(sig_at_r, den_lim)\n",
    "        if sig_at_r < den_lim:\n",
    "            i_r_cut1 = i-1\n",
    "            break\n",
    "    #i_r_cut2= np.argmax(m_radial/(2 * np.pi * bin_centers * dr) < den_lim2)\n",
    "    # If for some reason central region is less dense,\n",
    "    # profile can end at the first index.\n",
    "    # Instead coming from backward, search for the point the opposite condition satisfied.\n",
    "    if debug:\n",
    "        print(rmax, nbins)\n",
    "        print(\"frequency\", frequency)\n",
    "        print(\"bins\", bins)\n",
    "        print(\"ibins\", ibins)\n",
    "        print(\"bin centers\", bin_centers)\n",
    "        print(\"m_radial\", m_radial)\n",
    "\n",
    "    den_radial_inverse = m_radial[::-1]/(2 * np.pi * bin_centers[::-1] * dr)\n",
    "    if debug: print(\"den_radial_inverse\", den_radial_inverse)\n",
    "    if max(den_radial_inverse) < 2 * den_lim2:\n",
    "        np.set_printoptions(precision=3)\n",
    "        print(\"radial density :\",den_radial_inverse)\n",
    "        return False\n",
    "    i_r_cut2=len(m_radial) - np.argmax(den_radial_inverse > den_lim2) -1\n",
    "    if debug:\n",
    "        print(\"[galaxy.Galaxy.radial_profile_cut] m_radial \\n\", m_radial)\n",
    "        print(\"[galaxy.Galaxy.radial_profile_cut] den_radial_inverse \\n\", den_radial_inverse)\n",
    "        print(\"[galaxy.Galaxy.radial_profile_cut] i_r_cut2\", i_r_cut2)\n",
    "\n",
    "    mtot2 = sum(m_radial[:i_r_cut2])\n",
    "    mtot1 = sum(m_radial[:i_r_cut1])\n",
    "    i_reff2 = np.argmax(np.cumsum(m_sorted) > (0.5*mtot2))\n",
    "    i_reff1 = np.argmax(np.cumsum(m_sorted) > (0.5*mtot1))\n",
    "    gal.meta.reff2 = r_sorted[i_reff2]\n",
    "    gal.meta.reff  = r_sorted[i_reff1]\n",
    "    #print(bin_centers, i_r_cut2, m_radial)\n",
    "    gal.meta.rgal2 = max([bin_centers[i_r_cut2],4*gal.meta.reff2])\n",
    "    gal.meta.rgal  = max([bin_centers[i_r_cut1],4*gal.meta.reff])#bin_centers[i_r_cut1]\n",
    "\n",
    "#       velocity center\n",
    "#       It is not wrong for BCGs to have very large Reff(~50kpc).\n",
    "#       But referring the average velocity of stellar particles inside 50kpc\n",
    "#       as the system velocity is WRONG.\n",
    "#       If 1Reff is huge, try smaller aperture when measuring the system velocity.\n",
    "#\n",
    "    if debug:\n",
    "        print(\"[galaxy.Galaxy.radial_profile_cut] mtot, mtot2\", mtot1, mtot2)\n",
    "\n",
    "    i_close = i_sort[:np.argmax(np.cumsum(m_sorted) > (0.2*mtot2))] # 20% closest particles\n",
    "\n",
    "\n",
    "    gal.meta.vxc = np.average(vx[i_close])\n",
    "    gal.meta.vyc = np.average(vy[i_close])\n",
    "    gal.meta.vzc = np.average(vz[i_close])\n",
    "\n",
    "    return True"
   ]
  },
  {
   "cell_type": "code",
   "execution_count": 5,
   "metadata": {},
   "outputs": [],
   "source": [
    "import numpy as np\n",
    "import collections\n",
    "from galaxymodule import galaxy\n",
    "import pickle\n",
    "import load\n",
    "from load.hydro import Hydro\n",
    "\n",
    "from analysis.cal_lambda import *\n",
    "\n",
    "##\n",
    "##\n",
    "## \"from galaxymodule.galaxy import Galaxy \" in load.rd_GM fails at first try,\n",
    "# but successes at second try. "
   ]
  },
  {
   "cell_type": "markdown",
   "metadata": {},
   "source": [
    "## parameters"
   ]
  },
  {
   "cell_type": "code",
   "execution_count": 6,
   "metadata": {
    "collapsed": true
   },
   "outputs": [],
   "source": [
    "nout=782\n",
    "Mcut = 1e10"
   ]
  },
  {
   "cell_type": "code",
   "execution_count": 7,
   "metadata": {
    "collapsed": true
   },
   "outputs": [],
   "source": [
    "cal_lambda_params = dict(npix_per_reff=5,\n",
    "                        rscale=3.0,\n",
    "                        method='ellip',\n",
    "                        n_pseudo=1,\n",
    "                        verbose=False,\n",
    "                        voronoi=None,#voronoi_dict,\n",
    "                        mge_interpol = True)\n",
    "mk_gal_params = dict()"
   ]
  },
  {
   "cell_type": "code",
   "execution_count": 8,
   "metadata": {},
   "outputs": [
    {
     "name": "stdout",
     "output_type": "stream",
     "text": [
      "[sim._hilbert_cpulist] No AMR instance,\n",
      "[sim._hilbert_cpulist] Loading one...\n",
      "An AMR instance is created\n",
      " Sim\n",
      "An AMR instance is created\n",
      " Sim\n",
      "Simulation set up.\n",
      "[Halo.load_info] loading info\n",
      "[Halo.load_info] nout = 782, base =./\n"
     ]
    }
   ],
   "source": [
    "# Load data\n",
    "import tree\n",
    "\n",
    "\n",
    "s = load.sim.Sim(nout=nout)\n",
    "gcat = tree.halomodule.Halo(nout=nout, is_gal=True)\n",
    "# Check for tree file before reading.\n",
    "# Or, the fortran routine crashes causing the kernel crash without any error message. "
   ]
  },
  {
   "cell_type": "markdown",
   "metadata": {},
   "source": [
    "## Sampling\n",
    "\n",
    "Mass cut log(M) > 10"
   ]
  },
  {
   "cell_type": "code",
   "execution_count": 7,
   "metadata": {},
   "outputs": [
    {
     "name": "stdout",
     "output_type": "stream",
     "text": [
      "there are 2769 galaxies in the sample.\n",
      "info <load.info.Info object at 0x7f60a746ec18>\n",
      "File Not Found: ./halo/HAL_00782/hal_dms_0000035\n",
      "No DM data loaded\n",
      "File Not Found: ./GalaxyMaker/CELL_00782/gal_cells_0000035\n",
      "No CELL data loaded\n"
     ]
    }
   ],
   "source": [
    "i_massive = np.where((gcat.data[\"id\"] % 10 == 5) * (gcat.data[\"m\"] > Mcut))[0]\n",
    "print(\"there are {} galaxies in the sample.\".format(len(i_massive)))\n",
    "large_gals = gcat.data[i_massive]\n",
    "\n",
    "gg = load.rd_GM.Gal(782, catalog=large_gals[3], info=s.info)\n",
    "# No chance for a halo to come in."
   ]
  },
  {
   "cell_type": "code",
   "execution_count": 20,
   "metadata": {},
   "outputs": [
    {
     "data": {
      "text/plain": [
       "1.5414468e+12"
      ]
     },
     "execution_count": 20,
     "metadata": {},
     "output_type": "execute_result"
    }
   ],
   "source": [
    "large_gals[3][\"mvir\"]"
   ]
  },
  {
   "cell_type": "code",
   "execution_count": 21,
   "metadata": {
    "collapsed": true
   },
   "outputs": [],
   "source": [
    "gg = None"
   ]
  },
  {
   "cell_type": "code",
   "execution_count": 8,
   "metadata": {},
   "outputs": [
    {
     "name": "stdout",
     "output_type": "stream",
     "text": [
      "gal.debug False\n"
     ]
    },
    {
     "data": {
      "text/plain": [
       "True"
      ]
     },
     "execution_count": 8,
     "metadata": {},
     "output_type": "execute_result"
    }
   ],
   "source": [
    "from galaxymodule import mk_gal_params as mgp\n",
    "\n",
    "mgp.HAGN[\"verbose\"] = False\n",
    "gg.debug=False\n",
    "#gg.mk_gal(**mgp.HAGN)\n",
    "mk_gal(gg,**mgp.HAGN)"
   ]
  },
  {
   "cell_type": "code",
   "execution_count": 15,
   "metadata": {},
   "outputs": [
    {
     "ename": "TypeError",
     "evalue": "'NoneType' object is not subscriptable",
     "output_type": "error",
     "traceback": [
      "\u001b[0;31m---------------------------------------------------------------------------\u001b[0m",
      "\u001b[0;31mTypeError\u001b[0m                                 Traceback (most recent call last)",
      "\u001b[0;32m<ipython-input-15-49d3b93eae44>\u001b[0m in \u001b[0;36m<module>\u001b[0;34m()\u001b[0m\n\u001b[0;32m----> 1\u001b[0;31m \u001b[0mimg_hist\u001b[0m \u001b[0;34m=\u001b[0m \u001b[0mgg\u001b[0m\u001b[0;34m.\u001b[0m\u001b[0mcal_b2t\u001b[0m\u001b[0;34m(\u001b[0m\u001b[0mhist\u001b[0m\u001b[0;34m=\u001b[0m\u001b[0;32mTrue\u001b[0m\u001b[0;34m)\u001b[0m\u001b[0;34m\u001b[0m\u001b[0m\n\u001b[0m",
      "\u001b[0;32m/home/hoseung/Work/pyclusterevol/galaxymodule/galaxy.py\u001b[0m in \u001b[0;36mcal_b2t\u001b[0;34m(self, ptype, disk_criterion, bound_only, hist, proj)\u001b[0m\n\u001b[1;32m   1636\u001b[0m         \u001b[0;31m#part = getattr(self, ptype)\u001b[0m\u001b[0;34m\u001b[0m\u001b[0;34m\u001b[0m\u001b[0m\n\u001b[1;32m   1637\u001b[0m \u001b[0;34m\u001b[0m\u001b[0m\n\u001b[0;32m-> 1638\u001b[0;31m         \u001b[0mm_d\u001b[0m \u001b[0;34m=\u001b[0m \u001b[0mself\u001b[0m\u001b[0;34m.\u001b[0m\u001b[0mdm\u001b[0m\u001b[0;34m[\u001b[0m\u001b[0;34m'm'\u001b[0m\u001b[0;34m]\u001b[0m\u001b[0;31m# * info.msun\u001b[0m\u001b[0;34m\u001b[0m\u001b[0m\n\u001b[0m\u001b[1;32m   1639\u001b[0m \u001b[0;34m\u001b[0m\u001b[0m\n\u001b[1;32m   1640\u001b[0m         \u001b[0;32mif\u001b[0m \u001b[0mhasattr\u001b[0m\u001b[0;34m(\u001b[0m\u001b[0mself\u001b[0m\u001b[0;34m,\u001b[0m \u001b[0;34m\"cell\"\u001b[0m\u001b[0;34m)\u001b[0m\u001b[0;34m:\u001b[0m\u001b[0;34m\u001b[0m\u001b[0m\n",
      "\u001b[0;31mTypeError\u001b[0m: 'NoneType' object is not subscriptable"
     ]
    }
   ],
   "source": [
    "img_hist = gg.cal_b2t(hist=True)"
   ]
  },
  {
   "cell_type": "code",
   "execution_count": null,
   "metadata": {
    "collapsed": true
   },
   "outputs": [],
   "source": [
    "# Stars are ready! \n",
    "\n",
    "    def cal_b2t(gal, ptype='star', disk_criterion=\"Abadi2003\",\n",
    "                bound_only = True, hist=False, proj=\"z\"):\n",
    "        \"\"\"\n",
    "        Measure bulge to total ratio of the galaxy.\n",
    "\n",
    "        parameters\n",
    "        ----------\n",
    "        ptype : str\n",
    "            type of particle to consider.\n",
    "        disk_criterion : str\n",
    "            discrimination criterion. (Defaults to \"Abadi2003\")\n",
    "        bound_only : logical\n",
    "            consider bound particles only\n",
    "        hist : logical\n",
    "            if True, ellipticity histogram is returned\n",
    "        \"\"\"\n",
    "        def gas_mass(cell, info):\n",
    "            \"\"\"\n",
    "                return mass of gas cells.\n",
    "                Keep in mind that size of cells differ.\n",
    "            \"\"\"\n",
    "            msun = 1.98892e33 # solar mass in gram.\n",
    "            return (cell['rho'] * info.unit_d) * (cell['dx'] * info.unit_l)**3 / msun\n",
    "\n",
    "        import numpy as np\n",
    "\n",
    "        if proj==\"x\":\n",
    "            pos1, pos2, vel1, vel2 = 'y', 'z', 'vy', 'vz'\n",
    "        if proj==\"y\":\n",
    "            pos1, pos2, vel1, vel2 = 'z', 'x', 'vz', 'vx'\n",
    "        if proj==\"z\":\n",
    "            pos1, pos2, vel1, vel2 = 'x', 'y', 'vx', 'vy'\n",
    "\n",
    "\n",
    "\n",
    "        # Radius\n",
    "\n",
    "        # Calculating boundness requires total mass inside a radius.\n",
    "        # -> DM, Cell are also needed.\n",
    "        #part = getattr(gal, ptype)\n",
    "\n",
    "        m_d = gal.dm['m']# * info.msun\n",
    "\n",
    "        if hasattr(gal, \"cell\"):\n",
    "            m_g = gas_mass(gal.cell, gal.info)\n",
    "            m_all = np.concatenate((gal.star['m'], m_g, m_d))\n",
    "        else:\n",
    "            m_all = np.concatenate((gal.star['m'], m_d))\n",
    "\n",
    "\n",
    "        r_s = np.sqrt(np.square(gal.star['x'])\n",
    "                    + np.square(gal.star['y'])\n",
    "                    + np.square(gal.star['z']))\n",
    "\n",
    "        if hasattr(gal, \"cell\"):\n",
    "            r_g = np.sqrt(np.square(gal.cell['x'])\n",
    "                    + np.square(gal.cell['y'])\n",
    "                    + np.square(gal.cell['z']))\n",
    "        r_d = np.sqrt(np.square(gal.dm['x'])\n",
    "                    + np.square(gal.dm['y'])\n",
    "                    + np.square(gal.dm['z']))\n",
    "\n",
    "        if hasattr(gal, \"cell\"):\n",
    "            r_all = np.concatenate((r_s, r_g, r_d))\n",
    "        else:\n",
    "            r_all = np.concatenate((r_s, r_d))\n",
    "        i_sorted = np.argsort(r_all)\n",
    "        m_enc = np.cumsum(m_all[i_sorted])\n",
    "\n",
    "        # First nstar indices are stars.\n",
    "        if bound_only:\n",
    "            i_star = i_sorted[gal.bound_ptcl]\n",
    "            x = gal.star[pos1][gal.bound_ptcl]\n",
    "            y = gal.star[pos2][gal.bound_ptcl]\n",
    "            vx = gal.star[vel1][gal.bound_ptcl]\n",
    "            vy = gal.star[vel2][gal.bound_ptcl]\n",
    "            m = gal.star['m'][gal.bound_ptcl]# * info.msun\n",
    "        else:\n",
    "            i_star = i_sorted[0:len(r_s)]\n",
    "            x = gal.star[pos1]\n",
    "            y = gal.star[pos2]\n",
    "            vx = gal.star[vel1]\n",
    "            vy = gal.star[vel2]\n",
    "            m = gal.star['m']# * info.msun\n",
    "\n",
    "        #boxtokpc = gal.info.pboxsize * 1000\n",
    "        G = 6.67384e-11  # m^3 kg^-1 s^-2\n",
    "        kpc_to_m = 3.08567758e19\n",
    "        msun_in_kg = 1.9891e30 # kg\n",
    "        v_circ = np.sqrt(G * msun_in_kg * m_enc[i_star]/\n",
    "                        (kpc_to_m * r_all[i_star])) * 1e-3 # m/s to in km/s\n",
    "\n",
    "        j_circ = np.sqrt(np.square(x)\n",
    "                    + np.square(y)) * v_circ # * boxtokpc omitted (later compensated.)\n",
    "        # Finally, r in code unit, v in km/s\n",
    "        j_phi = (x * vy - y * vx) # * boxtokpc omitted.\n",
    "        ellipticity = j_phi / j_circ\n",
    "\n",
    "        if disk_criterion == \"Scannapieco2009\":\n",
    "            # < 0.8 from Scannapieco 2009\n",
    "            disk = np.sum(m[ellipticity < 0.8])\n",
    "        elif disk_criterion == \"Abadi2003\":\n",
    "            #bulge = 2.0 * np.sum(gal.star['m'][j_phi < 0])\n",
    "            bulge = 2.0 * min([np.sum(m[j_phi < 0]),\n",
    "                               np.sum(m[j_phi > 0])])\n",
    "            disk = np.sum(m) - bulge\n",
    "\n",
    "        gal.meta.d2t = disk / gal.meta.mstar # or sum(gal.star['m'][ind])\n",
    "        if hist:\n",
    "            return np.histogram(ellipticity, range=[-2,2], bins=20)"
   ]
  },
  {
   "cell_type": "code",
   "execution_count": 13,
   "metadata": {},
   "outputs": [
    {
     "data": {
      "text/plain": [
       "3320397.0815520734"
      ]
     },
     "execution_count": 13,
     "metadata": {},
     "output_type": "execute_result"
    }
   ],
   "source": [
    "min(gg.star[\"m\"])"
   ]
  },
  {
   "cell_type": "code",
   "execution_count": 11,
   "metadata": {
    "collapsed": true
   },
   "outputs": [],
   "source": [
    "import matplotlib.pyplot as plt"
   ]
  },
  {
   "cell_type": "code",
   "execution_count": 12,
   "metadata": {},
   "outputs": [
    {
     "data": {
      "image/png": "[encoded data removed]",
      "text/plain": [
       "<matplotlib.figure.Figure at 0x7f6075ccc438>"
      ]
     },
     "metadata": {},
     "output_type": "display_data"
    }
   ],
   "source": [
    "plt.hist2d(gg.star[\"x\"], gg.star[\"y\"], bins=100)\n",
    "plt.show()"
   ]
  },
  {
   "cell_type": "code",
   "execution_count": null,
   "metadata": {
    "collapsed": true
   },
   "outputs": [],
   "source": []
  }
 ],
 "metadata": {
  "kernelspec": {
   "display_name": "Python 3",
   "language": "python",
   "name": "python3"
  },
  "language_info": {
   "codemirror_mode": {
    "name": "ipython",
    "version": 3
   },
   "file_extension": ".py",
   "mimetype": "text/x-python",
   "name": "python",
   "nbconvert_exporter": "python",
   "pygments_lexer": "ipython3",
   "version": "3.5.3"
  }
 },
 "nbformat": 4,
 "nbformat_minor": 2
}
