{
 "metadata": {
  "kernelspec": {
   "display_name": "Python 3",
   "language": "python",
   "name": "python3"
  },
  "language_info": {
   "codemirror_mode": {
    "name": "ipython",
    "version": 3
   },
   "file_extension": ".py",
   "mimetype": "text/x-python",
   "name": "python",
   "nbconvert_exporter": "python",
   "pygments_lexer": "ipython3",
   "version": "3.5.1+"
  },
  "name": "",
  "signature": "sha256:dd71321ea730af0b2db4d14676e9993da099697ed003f458a342f1e5631bd17c"
 },
 "nbformat": 3,
 "nbformat_minor": 0,
 "worksheets": [
  {
   "cells": [
    {
     "cell_type": "code",
     "collapsed": true,
     "input": [
      "import load\n",
      "import astropy.cosmology as acosmo"
     ],
     "language": "python",
     "metadata": {},
     "outputs": [],
     "prompt_number": 9
    },
    {
     "cell_type": "code",
     "collapsed": false,
     "input": [
      "import numpy as np\n",
      "nouts = np.arange(1,188)\n",
      "\n",
      "with open(\"time.dat\", \"w\") as f:\n",
      "    for i, nout in enumerate(nouts):\n",
      "        info = load.info.Info(base='./29172/', nout=nout)\n",
      "        f.write(\"{:}   {:}   {:}   {:} \\n\".format(nout,\n",
      "                info.aexp, info.zred, acosmo.WMAP7.lookback_time(info.zred).value))\n",
      "    \n",
      "\n"
     ],
     "language": "python",
     "metadata": {},
     "outputs": [],
     "prompt_number": 42
    }
   ],
   "metadata": {}
  }
 ]
}