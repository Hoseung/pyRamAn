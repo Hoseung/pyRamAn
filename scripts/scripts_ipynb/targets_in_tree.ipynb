{
 "cells": [
  {
   "cell_type": "code",
   "execution_count": 1,
   "metadata": {
    "collapsed": true
   },
   "outputs": [],
   "source": [
    "import matplotlib\n",
    "matplotlib.use(\"Qt5Agg\")\n",
    "import matplotlib.pyplot as plt\n",
    "from mpl_toolkits.mplot3d import Axes3D"
   ]
  },
  {
   "cell_type": "code",
   "execution_count": 2,
   "metadata": {
    "collapsed": true
   },
   "outputs": [],
   "source": [
    "import tree\n",
    "import pickle\n",
    "import numpy as np"
   ]
  },
  {
   "cell_type": "code",
   "execution_count": 3,
   "metadata": {
    "collapsed": true
   },
   "outputs": [],
   "source": [
    "tt = tree.tmtree.Tree(is_gal=True)\n",
    "#tt.dump()\n",
    "\n",
    "#tt = pickle.load(open(\"tree_meta_gal.pickle\", \"rb\"))\n",
    "#tt.load_np()"
   ]
  },
  {
   "cell_type": "code",
   "execution_count": 43,
   "metadata": {
    "collapsed": true
   },
   "outputs": [],
   "source": [
    "tt.fatherID = tt.fatherID[1:]\n",
    "tt.fatherIDx= tt.fatherIDx[1:]"
   ]
  },
  {
   "cell_type": "code",
   "execution_count": 155,
   "metadata": {},
   "outputs": [
    {
     "data": {
      "text/plain": [
       "7864800"
      ]
     },
     "execution_count": 155,
     "metadata": {},
     "output_type": "execute_result"
    }
   ],
   "source": [
    "tnow = tt.tree[tt.tree[\"nstep\"]==max(tt.tree[\"nstep\"])]\n",
    "large_last = tnow[(tnow[\"m\"] > 1) * (tnow[\"m\"] < 2)]\n",
    "large_last[\"idx\"][24]"
   ]
  },
  {
   "cell_type": "code",
   "execution_count": 154,
   "metadata": {},
   "outputs": [
    {
     "data": {
      "text/plain": [
       "17"
      ]
     },
     "execution_count": 154,
     "metadata": {},
     "output_type": "execute_result"
    }
   ],
   "source": [
    "tt.tree[7864648][\"id\"]"
   ]
  },
  {
   "cell_type": "code",
   "execution_count": 156,
   "metadata": {
    "collapsed": true
   },
   "outputs": [
    {
     "name": "stdout",
     "output_type": "stream",
     "text": [
      "0-th step\n",
      "1-th step\n",
      "2-th step\n",
      "3-th step\n",
      "4-th step\n",
      "5-th step\n",
      "6-th step\n",
      "7-th step\n",
      "8-th step\n",
      "9-th step\n",
      "10-th step\n",
      "11-th step\n",
      "12-th step\n",
      "13-th step\n",
      "14-th step\n",
      "15-th step\n",
      "16-th step\n",
      "17-th step\n",
      "18-th step\n",
      "19-th step\n",
      "20-th step\n",
      "21-th step\n",
      "22-th step\n",
      "23-th step\n",
      "24-th step\n",
      "25-th step\n",
      "26-th step\n",
      "27-th step\n",
      "28-th step\n",
      "29-th step\n",
      "30-th step\n",
      "31-th step\n",
      "32-th step\n",
      "33-th step\n",
      "34-th step\n",
      "35-th step\n",
      "36-th step\n",
      "37-th step\n",
      "38-th step\n",
      "39-th step\n",
      "40-th step\n",
      "41-th step\n",
      "42-th step\n",
      "43-th step\n",
      "44-th step\n",
      "45-th step\n",
      "46-th step\n",
      "47-th step\n",
      "48-th step\n",
      "49-th step\n",
      "50-th step\n",
      "51-th step\n",
      "52-th step\n",
      "53-th step\n",
      "54-th step\n",
      "55-th step\n",
      "56-th step\n",
      "57-th step\n",
      "58-th step\n",
      "59-th step\n",
      "60-th step\n"
     ]
    }
   ],
   "source": [
    "maintree, idx_prgs_alltime2 = extract_direct_full_tree(tt,7864800)\n",
    "all_direct_prgs2 = get_all_trees(tt,idx_prgs_alltime2)"
   ]
  },
  {
   "cell_type": "code",
   "execution_count": 157,
   "metadata": {},
   "outputs": [
    {
     "name": "stderr",
     "output_type": "stream",
     "text": [
      "/home/hoseung/Work/hspy/lib/python3.5/site-packages/matplotlib/axes/_axes.py:545: UserWarning: No labelled objects found. Use label='...' kwarg on individual plots.\n",
      "  warnings.warn(\"No labelled objects found. \"\n"
     ]
    }
   ],
   "source": [
    "from matplotlib import cm\n",
    "fig = plt.figure()\n",
    "ax = fig.add_subplot(111, projection='3d')\n",
    "\n",
    "\n",
    "for i, gals_this_step in enumerate(all_direct_prgs2):\n",
    "    for  this_gal in gals_this_step:\n",
    "        if this_gal is None:\n",
    "            continue\n",
    "        ax.plot(this_gal[\"xp\"][:,0],this_gal[\"xp\"][:,1],this_gal[\"xp\"][:,2],\n",
    "                c=cm.hot(i*4))\n",
    "\n",
    "plt.legend()\n",
    "plt.show()"
   ]
  },
  {
   "cell_type": "code",
   "execution_count": 158,
   "metadata": {
    "collapsed": true
   },
   "outputs": [],
   "source": [
    "plt.close()"
   ]
  },
  {
   "cell_type": "code",
   "execution_count": 159,
   "metadata": {},
   "outputs": [],
   "source": [
    "all_data = pickle.dump(all_direct_prgs2,open(\"all_direct_prgs_data.pickle\",\"wb\"))"
   ]
  },
  {
   "cell_type": "code",
   "execution_count": null,
   "metadata": {
    "collapsed": true
   },
   "outputs": [],
   "source": []
  },
  {
   "cell_type": "code",
   "execution_count": null,
   "metadata": {
    "collapsed": true
   },
   "outputs": [],
   "source": []
  },
  {
   "cell_type": "code",
   "execution_count": null,
   "metadata": {
    "collapsed": true
   },
   "outputs": [],
   "source": []
  },
  {
   "cell_type": "code",
   "execution_count": null,
   "metadata": {
    "collapsed": true
   },
   "outputs": [],
   "source": []
  },
  {
   "cell_type": "code",
   "execution_count": 141,
   "metadata": {
    "collapsed": true
   },
   "outputs": [],
   "source": [
    "def extract_direct_full_tree(self, idx):\n",
    "    \"\"\"\n",
    "    Extracts main progenitors from a TreeMaker tree.\n",
    "\n",
    "\n",
    "    example\n",
    "    -------\n",
    "    >>> tt = tmtree.Tree(\"tree.dat\")\n",
    "    >>> atree = tt.extract_main_tree(12345)\n",
    "\n",
    "    TODO\n",
    "    ----\n",
    "    It works, but the try - except clause is error-prone.\n",
    "    Explicitly check the end of progenitor tree and make the function more predictable.\n",
    "\n",
    "    \"\"\"\n",
    "\n",
    "    t = self.tree\n",
    "    #fatherID = self.fatherID\n",
    "    fatherIDx = self.fatherIDx\n",
    "    fatherMass = self.fatherMass\n",
    "\n",
    "    t_now = t[idx]\n",
    "    nstep = t_now[\"nstep\"]\n",
    "    nouts = [nstep]\n",
    "    atree = np.zeros(nstep + 1, dtype=t.dtype)\n",
    "    atree[0] = t_now\n",
    "\n",
    "    idx_prgs_alltime = []\n",
    "\n",
    "    for i in range(1, nstep + 1):\n",
    "        try:\n",
    "            idx_father = fatherIDx[t[\"f_ind\"][idx]:t[\"f_ind\"][idx]+t[\"nprgs\"][idx]] -1\n",
    "            if len(idx_father) > 0:\n",
    "                idx_prgs_alltime.append(idx_father[idx_father>0])\n",
    "                mass_father = fatherMass[t[\"f_ind\"][idx]:t[\"f_ind\"][idx]+t[\"nprgs\"][idx]]\n",
    "                idx = idx_father[np.argmax(mass_father)]\n",
    "                if idx < 1:\n",
    "                    break\n",
    "                t_father=t[idx]\n",
    "                atree[i]=t_father\n",
    "                nouts.append(nstep)\n",
    "            else:\n",
    "                break\n",
    "        except:\n",
    "            break\n",
    "\n",
    "    return atree, idx_prgs_alltime\n",
    "\n",
    "def get_all_trees(t,idx_prgs_alltime):\n",
    "    all_main_prgs=[]\n",
    "    # Per nstep\n",
    "    for j, satellie_roots in enumerate(idx_prgs_alltime):\n",
    "        print(\"{}-th step\".format(j))\n",
    "        mainprgs=[]\n",
    "        # Per galaxy\n",
    "        for sat in satellie_roots:\n",
    "            mainprgs.append(extract_main_tree(t,sat))\n",
    "        all_main_prgs.append(mainprgs)\n",
    "            \n",
    "    return all_main_prgs\n"
   ]
  },
  {
   "cell_type": "code",
   "execution_count": 123,
   "metadata": {
    "collapsed": true
   },
   "outputs": [],
   "source": [
    "def extract_main_tree(self, idx):\n",
    "    \"\"\"\n",
    "    Extracts main progenitors from a TreeMaker tree.\n",
    "\n",
    "\n",
    "    example\n",
    "    -------\n",
    "    >>> tt = tmtree.Tree(\"tree.dat\")\n",
    "    >>> atree = tt.extract_main_tree(12345)\n",
    "\n",
    "    TODO\n",
    "    ----\n",
    "    It works, but the try - except clause is error-prone.\n",
    "    Explicitly check the end of progenitor tree and make the function more predictable.\n",
    "\n",
    "    \"\"\"\n",
    "\n",
    "    t = self.tree\n",
    "    fatherIDx = self.fatherIDx\n",
    "    fatherMass = self.fatherMass\n",
    "\n",
    "    t_now = t[idx]\n",
    "    nstep = t_now[\"nstep\"]\n",
    "    nouts = [nstep]\n",
    "    atree = np.zeros(nstep + 1, dtype=t.dtype)\n",
    "    atree[0] = t_now\n",
    "\n",
    "    if nstep <= 1:\n",
    "        return\n",
    "\n",
    "    for i in range(1, nstep + 1):\n",
    "        try:\n",
    "            idx_father = fatherIDx[t[\"f_ind\"][idx]:t[\"f_ind\"][idx]+t[\"nprgs\"][idx]]\n",
    "            if len(idx_father) > 0:\n",
    "                mass_father = fatherMass[t[\"f_ind\"][idx]:t[\"f_ind\"][idx]+t[\"nprgs\"][idx]]\n",
    "                idx = idx_father[np.argmax(mass_father)] -1\n",
    "                if idx < 1:\n",
    "                    break\n",
    "                t_father=t[idx]\n",
    "                #idx = t_father[\"idx\"]\n",
    "                atree[i]=t_father\n",
    "                nouts.append(nstep)\n",
    "            else:\n",
    "                break\n",
    "        except:\n",
    "            break\n",
    "\n",
    "    return np.copy(atree[:i])"
   ]
  },
  {
   "cell_type": "code",
   "execution_count": null,
   "metadata": {
    "collapsed": true
   },
   "outputs": [],
   "source": [
    "def get_prgs(self,idx):\n",
    "    t = self.tree\n",
    "    fatherIDx = self.fatherIDx\n",
    "    fatherMass = self.fatherMass\n",
    "    \n",
    "    idx_father = fatherIDx[t[\"f_ind\"][idx]:t[\"f_ind\"][idx]+t[\"nprgs\"][idx]]\n",
    "    if len(id_father) > 0:\n",
    "        #mass_father = fatherMass[t[\"f_ind\"][idx]:t[\"f_ind\"][idx]+t[\"nprgs\"][idx]]\n",
    "\n",
    "        t_father = t[idx_father]\n",
    "        idx = t_father[\"idx\"][0] # need to be a integer scalar.\n",
    "        atree.append(t_father)\n",
    "        #nouts.append(nstep)\n",
    "    else:\n",
    "        break"
   ]
  },
  {
   "cell_type": "code",
   "execution_count": null,
   "metadata": {
    "collapsed": true
   },
   "outputs": [],
   "source": [
    "# sample galaxies at z=0\n",
    "\n",
    "\n",
    "\n",
    "# find full merger tree of the sample galaxies"
   ]
  }
 ],
 "metadata": {
  "kernelspec": {
   "display_name": "Python 3",
   "language": "python",
   "name": "python3"
  },
  "language_info": {
   "codemirror_mode": {
    "name": "ipython",
    "version": 3
   },
   "file_extension": ".py",
   "mimetype": "text/x-python",
   "name": "python",
   "nbconvert_exporter": "python",
   "pygments_lexer": "ipython3",
   "version": "3.5.3"
  }
 },
 "nbformat": 4,
 "nbformat_minor": 2
}
