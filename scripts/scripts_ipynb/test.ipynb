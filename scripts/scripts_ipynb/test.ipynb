{
 "metadata": {
  "name": "",
  "signature": "sha256:1d7aa64d22c41125d192080415ed8a8d7e3844dfaa1164dcf145ecbd9257b85b"
 },
 "nbformat": 3,
 "nbformat_minor": 0,
 "worksheets": [
  {
   "cells": [
    {
     "cell_type": "code",
     "collapsed": false,
     "input": [
      "args_worker = {\"dump_gal\":False,\n",
      "               \"reorient\":False,\n",
      "               \"lambda_method\":'ellip',\n",
      "               \"rscale_lambda\":3,\n",
      "               \"npix_lambda\":10,\n",
      "               \"galaxy_plot\":False,\n",
      "               \"galaxy_plot_dir\":'galaxy_plot/',\n",
      "               \"region_plot\":False,\n",
      "               \"wdir\":'./',\n",
      "               \"with_DM\":True,\n",
      "               \"with_cell\":True}\n"
     ],
     "language": "python",
     "metadata": {},
     "outputs": [],
     "prompt_number": 2
    },
    {
     "cell_type": "code",
     "collapsed": false,
     "input": [
      "args_worker[\"dump_gal\"]"
     ],
     "language": "python",
     "metadata": {},
     "outputs": [
      {
       "metadata": {},
       "output_type": "pyout",
       "prompt_number": 3,
       "text": [
        "False"
       ]
      }
     ],
     "prompt_number": 3
    },
    {
     "cell_type": "code",
     "collapsed": false,
     "input": [
      "def afun(a1=1, a2=3):\n",
      "    print(a1, a2)\n",
      "    \n",
      "def bfun(c1=1, c2=3):\n",
      "    cfun(c1,c2)\n",
      "\n",
      "def cfun(c1,c2):\n",
      "    print(c2, c1)"
     ],
     "language": "python",
     "metadata": {},
     "outputs": [],
     "prompt_number": 20
    },
    {
     "cell_type": "code",
     "collapsed": false,
     "input": [
      "def twofun(c1=\"asdf\", kwargs_a={}, kwargs_b={}):\n",
      "    afun(**kwargs_a)\n",
      "    bfun(**kwargs_b)"
     ],
     "language": "python",
     "metadata": {},
     "outputs": [],
     "prompt_number": 21
    },
    {
     "cell_type": "code",
     "collapsed": false,
     "input": [
      "dd = dict(a1 = 123, a2 = 23)\n",
      "bb = dict(c1 = 11123, c2 = 1123)\n",
      "twofun(kwargs_a=dd, kwargs_b=bb)"
     ],
     "language": "python",
     "metadata": {},
     "outputs": [
      {
       "output_type": "stream",
       "stream": "stdout",
       "text": [
        "123 23\n",
        "1123 11123\n"
       ]
      }
     ],
     "prompt_number": 22
    },
    {
     "cell_type": "code",
     "collapsed": false,
     "input": [],
     "language": "python",
     "metadata": {},
     "outputs": []
    },
    {
     "cell_type": "code",
     "collapsed": false,
     "input": [],
     "language": "python",
     "metadata": {},
     "outputs": []
    }
   ],
   "metadata": {}
  }
 ]
}