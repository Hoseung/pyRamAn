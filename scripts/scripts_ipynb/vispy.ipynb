{
 "cells": [
  {
   "cell_type": "markdown",
   "metadata": {},
   "source": [
    "# Vispy First try\n",
    "\n",
    "It works! \n",
    "But the volume center is weird. "
   ]
  },
  {
   "cell_type": "code",
   "execution_count": 1,
   "metadata": {
    "collapsed": true
   },
   "outputs": [],
   "source": [
    "# prepare a 3D volume data"
   ]
  },
  {
   "cell_type": "code",
   "execution_count": 2,
   "metadata": {
    "collapsed": false
   },
   "outputs": [
    {
     "name": "stderr",
     "output_type": "stream",
     "text": [
      "/home/hoseung/Work/pyclusterevol/galaxy/galaxy.py:126: VisibleDeprecationWarning: using a non-integer number instead of an integer will result in an error in the future\n",
      "  m_radial[i] = np.sum(m_sorted[ibins[i]:ibins[i+1]])\n"
     ]
    }
   ],
   "source": [
    "import matplotlib\n",
    "matplotlib.use('Qt4Agg')\n",
    "import load\n",
    "import numpy as np\n",
    "import tree.halomodule as hmo\n",
    "import galaxy\n",
    "\n",
    "wdir = './29172/'\n",
    "nout = 180\n",
    "\n",
    "info = load.info.Info(nout=nout, base=wdir)\n",
    "\n",
    "gcat = hmo.Halo(base=wdir, is_gal=True, verbose=False, nout=nout)\n",
    "\n",
    "gg = gcat.data[10]\n",
    "galid = gg['id']\n",
    "\n",
    "gm = load.rd_GM.rd_gal(nout, galid, wdir=wdir)\n",
    "gm.cell = load.rd_GM.rd_cell(nout, galid, wdir=wdir)\n",
    "\n",
    "gal = galaxy.galaxy.Galaxy(halo = gg, info=info)\n",
    "good_gal = gal.mk_gal(gm.star, None, gm.cell, unit_conversion=\"GM\", verbose=False)\n",
    "\n",
    "celldata=gal.cell\n",
    "\n",
    "points = np.stack((celldata['x'], celldata['y'], celldata['z'])).T"
   ]
  },
  {
   "cell_type": "code",
   "execution_count": 3,
   "metadata": {
    "collapsed": true
   },
   "outputs": [],
   "source": [
    "xmin = -45\n",
    "xmax = 45\n",
    "npoints = 200"
   ]
  },
  {
   "cell_type": "code",
   "execution_count": 4,
   "metadata": {
    "collapsed": false
   },
   "outputs": [],
   "source": [
    "# interpolate irregular data into uniform grid.\n",
    "from scipy.interpolate import griddata\n",
    "grid_x, grid_y, grid_z = np.mgrid[xmin:xmax:1j*npoints,\n",
    "                                  xmin:xmax:1j*npoints,\n",
    "                                  xmin:xmax:1j*npoints]\n",
    "vol1 = griddata(points, celldata['temp'], (grid_x, grid_y, grid_z), method='nearest')"
   ]
  },
  {
   "cell_type": "code",
   "execution_count": null,
   "metadata": {
    "collapsed": true
   },
   "outputs": [],
   "source": [
    "from itertools import cycle\n",
    "\n",
    "import numpy as np\n",
    "\n",
    "from vispy import app, scene, io\n",
    "from vispy.color import get_colormaps, BaseColormap\n",
    "\n",
    "# Read volume\n",
    "#vol1 = np.load(io.load_data_file('volume/stent.npz'))['arr_0']\n",
    "#vol2 = np.load(io.load_data_file('brain/mri.npz'))['data']\n",
    "#vol2 = np.flipud(np.rollaxis(vol2, 1))\n",
    "\n",
    "# Prepare canvas\n",
    "canvas = scene.SceneCanvas(keys='interactive', size=(800, 600), show=True)\n",
    "canvas.measure_fps()\n",
    "\n",
    "# Set up a viewbox to display the image with interactive pan/zoom\n",
    "view = canvas.central_widget.add_view()\n",
    "\n",
    "# Set whether we are emulating a 3D texture\n",
    "emulate_texture = False\n",
    "\n",
    "# Create the volume visuals, only one is visible\n",
    "volume1 = scene.visuals.Volume(vol1, parent=view.scene, threshold=0.225,\n",
    "                               emulate_texture=emulate_texture)\n",
    "volume1.transform = scene.STTransform(translate=(64, 64, 0))\n",
    "#volume2 = scene.visuals.Volume(vol2, parent=view.scene, threshold=0.2,\n",
    "#                               emulate_texture=emulate_texture)\n",
    "#volume2.visible = False\n",
    "\n",
    "# Create two cameras (1 for firstperson, 3 for 3d person)\n",
    "fov = 60.\n",
    "cam1 = scene.cameras.FlyCamera(parent=view.scene, fov=fov)\n",
    "cam2 = scene.cameras.TurntableCamera(parent=view.scene, fov=fov)\n",
    "cam3 = scene.cameras.ArcballCamera(parent=view.scene, fov=fov)\n",
    "view.camera = cam2  # Select turntable at first\n",
    "\n",
    "# create colormaps that work well for translucent and additive volume rendering\n",
    "class TransFire(BaseColormap):\n",
    "    glsl_map = \"\"\"\n",
    "    vec4 translucent_fire(float t) {\n",
    "        return vec4(pow(t, 0.5), t, t*t, max(0, t*1.05 - 0.05));\n",
    "    }\n",
    "    \"\"\"\n",
    "\n",
    "\n",
    "class TransGrays(BaseColormap):\n",
    "    glsl_map = \"\"\"\n",
    "    vec4 translucent_grays(float t) {\n",
    "        return vec4(t, t, t, t*0.05);\n",
    "    }\n",
    "    \"\"\"\n",
    "\n",
    "# Setup colormap iterators\n",
    "opaque_cmaps = cycle(get_colormaps())\n",
    "translucent_cmaps = cycle([TransFire(), TransGrays()])\n",
    "opaque_cmap = next(opaque_cmaps)\n",
    "translucent_cmap = next(translucent_cmaps)\n",
    "\n",
    "\n",
    "# Implement key presses\n",
    "@canvas.events.key_press.connect\n",
    "def on_key_press(event):\n",
    "    global opaque_cmap, translucent_cmap\n",
    "    if event.text == '1':\n",
    "        cam_toggle = {cam1: cam2, cam2: cam3, cam3: cam1}\n",
    "        view.camera = cam_toggle.get(view.camera, 'fly')\n",
    "    elif event.text == '2':\n",
    "        methods = ['mip', 'translucent', 'iso', 'additive']\n",
    "        method = methods[(methods.index(volume1.method) + 1) % 4]\n",
    "        print(\"Volume render method: %s\" % method)\n",
    "        cmap = opaque_cmap if method in ['mip', 'iso'] else translucent_cmap\n",
    "        volume1.method = method\n",
    "        volume1.cmap = cmap\n",
    "        #volume2.method = method\n",
    "        #volume2.cmap = cmap\n",
    "#    elif event.text == '3':\n",
    "#        volume1.visible = not volume1.visible\n",
    "#        volume2.visible = not volume1.visible\n",
    "    elif event.text == '3':\n",
    "        if volume1.method in ['mip', 'iso']:\n",
    "            cmap = opaque_cmap = next(opaque_cmaps)\n",
    "        else:\n",
    "            cmap = translucent_cmap = next(translucent_cmaps)\n",
    "        volume1.cmap = cmap\n",
    "        #volume2.cmap = cmap\n",
    "    elif event.text == '0':\n",
    "        cam1.set_range()\n",
    "        cam3.set_range()\n",
    "    elif event.text != '' and event.text in '[]':\n",
    "        s = -0.025 if event.text == '[' else 0.025\n",
    "        volume1.threshold += s\n",
    "        #volume2.threshold += s\n",
    "        th = volume1.threshold# if volume1.visible else volume2.threshold\n",
    "        print(\"Isosurface threshold: %0.3f\" % th)\n",
    "\n",
    "\n",
    "# for testing performance\n",
    "#@canvas.connect\n",
    "#def on_draw(ev):\n",
    "    #canvas.update()"
   ]
  },
  {
   "cell_type": "code",
   "execution_count": 5,
   "metadata": {
    "collapsed": false
   },
   "outputs": [
    {
     "name": "stdout",
     "output_type": "stream",
     "text": [
      "Automatically created module for IPython interactive environment\n"
     ]
    },
    {
     "name": "stderr",
     "output_type": "stream",
     "text": [
      "/home/hoseung/mypy/lib/python3.5/site-packages/IPython/config.py:13: ShimWarning: The `IPython.config` package has been deprecated. You should import from traitlets.config instead.\n",
      "  \"You should import from traitlets.config instead.\", ShimWarning)\n"
     ]
    }
   ],
   "source": [
    "if __name__ == '__main__':\n",
    "    print(__doc__)\n",
    "    app.run()"
   ]
  },
  {
   "cell_type": "code",
   "execution_count": 6,
   "metadata": {
    "collapsed": false
   },
   "outputs": [],
   "source": [
    "app.run()\n"
   ]
  },
  {
   "cell_type": "code",
   "execution_count": 7,
   "metadata": {
    "collapsed": false
   },
   "outputs": [],
   "source": [
    "from vispy import plot as vp\n",
    "\n",
    "fig = vp.Fig(show=False)\n",
    "fig1 = fig[0, 0]\n",
    "fig1.plot(range(10000),marker_size=0)\n",
    "fig.show(run=True)"
   ]
  },
  {
   "cell_type": "code",
   "execution_count": null,
   "metadata": {
    "collapsed": true
   },
   "outputs": [],
   "source": []
  }
 ],
 "metadata": {
  "kernelspec": {
   "display_name": "Python 3",
   "language": "python",
   "name": "python3"
  },
  "language_info": {
   "codemirror_mode": {
    "name": "ipython",
    "version": 3
   },
   "file_extension": ".py",
   "mimetype": "text/x-python",
   "name": "python",
   "nbconvert_exporter": "python",
   "pygments_lexer": "ipython3",
   "version": "3.5.1+"
  }
 },
 "nbformat": 4,
 "nbformat_minor": 0
}
