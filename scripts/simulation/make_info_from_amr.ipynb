{
 "cells": [
  {
   "cell_type": "code",
   "execution_count": 1,
   "metadata": {
    "collapsed": false
   },
   "outputs": [],
   "source": [
    "wdir = \"/home/hoseung/Work/data/05427/\"\n",
    "import load\n",
    "#info = load.info.Info()\n",
    "#info.setup(nout=187, base=wdir)\n",
    "s = load.sim.Sim(nout=187, base=wdir)#, setup=True)\n",
    "ah = load.amr.AmrHeader()\n",
    "nout = 187\n",
    "snout = str(nout).zfill(5)\n",
    "famr = open(wdir + \"snapshots/output_\"+snout+\"/amr_\"+snout+\".out00001\", 'rb')\n",
    "ah._read_amr_header(famr)\n",
    "levelmin = 7 # From other info file\n"
   ]
  },
  {
   "cell_type": "code",
   "execution_count": 56,
   "metadata": {
    "collapsed": false
   },
   "outputs": [],
   "source": [
    "def write_info(amr):\n",
    "    import fortranformat as ff\n",
    "    #nout = amr.nout\n",
    "    \n",
    "    aexp = amr.aexp\n",
    "    h0 = amr.h0\n",
    "    rhoc = 1.88e-29\n",
    "    boxlen = 1.0\n",
    "    \n",
    "    f = open(\"info_\" + str(nout).zfill(5) + \".txt\", 'w')\n",
    "\n",
    "    for name, val in zip([\"ncpu\", \"ndim\", \"levelmin\", \"levelmax\", \"ngridmax\", \"nstep_coarse\"],\n",
    "                         [amr.ncpu, amr.ndim, levelmin, amr.nlevelmax, amr.ngridmax, amr.nstep_coarse]):\n",
    "        f.write(\"{:<12s}={:11d} \\n\".format(name, val))\n",
    "    f.write(\"\\n\")\n",
    "    \n",
    "    lineformat = ff.FortranRecordWriter('(1E23.15)')\n",
    "    \n",
    "    scale_d = amr.Om * rhoc * h0**2 / aexp**3\n",
    "    scale_t = aexp**2 / (h0*1e5/3.08e24)\n",
    "    scale_l = aexp* amr.boxlen * 3.08e24/(h0)\n",
    "    \n",
    "    for name, val in zip([\"boxlen\", \"time\", \"aexp\", \"H0\", \"omega_m\", \"omega_l\", \"omega_k\", \"omega_b\",\n",
    "                         \"unit_l\", \"unit_d\", \"unit_t\"],\n",
    "                         [boxlen, amr.t, aexp, h0, amr.Om, amr.Ol, amr.Ok, amr.Ob, scale_l, scale_d, scale_t]):\n",
    "        \n",
    "        f.write(\"{:<12s}=\".format(name) + lineformat.write([val])+\"\\n\")\n",
    "    f.write(\"\\n\")\n",
    "    \n",
    "    f.write(\"ordering type=\" + ah.ordering[0].decode(\"UTF-8\"))\n",
    "    \n",
    "    \n",
    "    f.write(\"\\n   DOMAIN   ind_min                 ind_max  \\n\")\n",
    "    for i in range(amr.ncpu):\n",
    "        f.write(\"{:8d} \".format(i+1) + lineformat.write([amr.bound_key[i]]) + \" \"\n",
    "                                   + lineformat.write([amr.bound_key[i+1]]) + \"\\n\")\n",
    "    \n",
    "    f.close()\n",
    "        \n",
    "write_info(ah)        "
   ]
  }
 ],
 "metadata": {
  "kernelspec": {
   "display_name": "Python 3",
   "language": "python",
   "name": "python3"
  },
  "language_info": {
   "codemirror_mode": {
    "name": "ipython",
    "version": 3
   },
   "file_extension": ".py",
   "mimetype": "text/x-python",
   "name": "python",
   "nbconvert_exporter": "python",
   "pygments_lexer": "ipython3",
   "version": "3.4.3"
  }
 },
 "nbformat": 4,
 "nbformat_minor": 0
}
