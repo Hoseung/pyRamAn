{
 "cells": [
  {
   "cell_type": "code",
   "execution_count": 3,
   "metadata": {
    "collapsed": false
   },
   "outputs": [
    {
     "name": "stdout",
     "output_type": "stream",
     "text": [
      "/home/hoseung/Work/data/05427\n"
     ]
    }
   ],
   "source": [
    "%cd /home/hoseung/Work/data/05427/"
   ]
  },
  {
   "cell_type": "markdown",
   "metadata": {},
   "source": [
    "### HDF5"
   ]
  },
  {
   "cell_type": "code",
   "execution_count": 9,
   "metadata": {
    "collapsed": false
   },
   "outputs": [],
   "source": [
    "import h5py"
   ]
  },
  {
   "cell_type": "code",
   "execution_count": 22,
   "metadata": {
    "collapsed": true
   },
   "outputs": [],
   "source": [
    "class Sample_data():\n",
    "    def __init__(self):\n",
    "        import numpy as np\n",
    "        self.data = np.random.random(10)\n",
    "        self.var = np.random.random(10)\n",
    "        self.quan = np.random.random(10)\n",
    "        self.meta = [0.0, 124324]\n",
    "        "
   ]
  },
  {
   "cell_type": "code",
   "execution_count": 23,
   "metadata": {
    "collapsed": false
   },
   "outputs": [],
   "source": [
    "sd = Sample_data()"
   ]
  },
  {
   "cell_type": "code",
   "execution_count": 25,
   "metadata": {
    "collapsed": false
   },
   "outputs": [
    {
     "data": {
      "text/plain": [
       "array([ 0.88160859,  0.1931255 ,  0.60869696,  0.82192794,  0.71589443,\n",
       "        0.07476137,  0.28199408,  0.97060204,  0.17079758,  0.27114304])"
      ]
     },
     "execution_count": 25,
     "metadata": {},
     "output_type": "execute_result"
    }
   ],
   "source": [
    "sd.data"
   ]
  },
  {
   "cell_type": "code",
   "execution_count": null,
   "metadata": {
    "collapsed": true
   },
   "outputs": [],
   "source": [
    "filename = 'hdf5file.hdf5'\n",
    "outfile = hdf.File(filename, 'w')\n",
    "\n",
    "# Store some data under /axisgrid with direct assignment of the data x\n",
    "outfile.create_dataset(\"data\", data=sd.data)\n",
    "\n",
    "# Create a group for storing further data under /grid/*\n",
    "grp_grid = outfile.create_group(\"grid\")\n",
    "\n",
    "# Store some data under /grid/grid* with direct assignment of the data X and Y\n",
    "grp_grid.create_dataset(\"gridx\", data=X)\n",
    "grp_grid.create_dataset(\"gridy\", data=Y)\n",
    "\n",
    "# Store the vector field values under another group called /values\n",
    "grp_vals = outfile.create_group(\"values\")\n",
    "\n",
    "# Prepare space for storing the values but do not assign values yet\n",
    "grp_vals.create_dataset(\"valsx\", U.shape, np.float)\n",
    "grp_vals.create_dataset(\"valsy\", V.shape, np.float)\n",
    "\n",
    "# Now assign the data for U and V and show slicing via \":\" and ellipsis \"...\"\n",
    "outfile[\"/values/valsx\"][:] = U\n",
    "outfile[\"/values/valsy\"][...] = V\n",
    "\n",
    "\n",
    "\n",
    "\n",
    "\n",
    "\n",
    "print \"Dataset dataspace is\", dataset.shape\n",
    "print \"Dataset Numpy datatype is\", dataset.dtype\n",
    "print \"Dataset name is\", dataset.name\n",
    "print \"Dataset is a member of the group\", dataset.parent\n",
    "print \"Dataset was created in the file\", dataset.file\n",
    "\n",
    "\n"
   ]
  }
 ],
 "metadata": {
  "kernelspec": {
   "display_name": "Python 3",
   "language": "python",
   "name": "python3"
  },
  "language_info": {
   "codemirror_mode": {
    "name": "ipython",
    "version": 3
   },
   "file_extension": ".py",
   "mimetype": "text/x-python",
   "name": "python",
   "nbconvert_exporter": "python",
   "pygments_lexer": "ipython3",
   "version": "3.4.3"
  }
 },
 "nbformat": 4,
 "nbformat_minor": 0
}
