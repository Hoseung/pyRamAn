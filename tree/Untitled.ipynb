{
 "cells": [
  {
   "cell_type": "code",
   "execution_count": 5,
   "metadata": {
    "collapsed": true
   },
   "outputs": [],
   "source": [
    "# -*- coding: utf-8 -*-\n",
    "\"\"\"\n",
    "Created on Sun Apr 17 14:02:51 2016\n",
    "\n",
    "@author: hoseung\n",
    "\"\"\"\n",
    "\n",
    "def load_meta(f):\n",
    "    import numpy as np\n",
    "    from load.utils import read_fortran\n",
    "    read_fortran(f, np.dtype('i4'), 1)\n",
    "    read_fortran(f, np.dtype('f4'), 1)\n",
    "    read_fortran(f, np.dtype('f4'), 1)\n",
    "    read_fortran(f, np.dtype('f4'), 1)\n",
    "    read_fortran(f, np.dtype('f4'), 1)\n",
    "    halnum, subnum = read_fortran(f, np.dtype('i4'), 2)\n",
    "    return halnum, subnum\n",
    "\n",
    "\n",
    "def load_data(f, tothal):\n",
    "    import numpy as np\n",
    "    from load.utils import read_fortran\n",
    "    dtype_halo = [('np', '<i4'), ('hnu', '<i4'), ('hhost', '<i4', (5,)),\n",
    "          ('ang', '<f8', (3,)), ('m', '<f8'), ('mvir', '<f8'),\n",
    "            ('r', '<f8'), ('rvir', '<f8'), ('p', '<f8', (3,)),\n",
    "            ('v', '<f8', (3,)), ('sp', '<f8')]\n",
    "\n",
    "    data = np.recarray(tothal, dtype=dtype_halo)\n",
    "    for i in range(tothal):\n",
    "        nph = read_fortran(f, np.dtype('i4'), 1)\n",
    "        data['np'][i] = nph\n",
    "        read_fortran(f, np.dtype('i4'), nph) # id list. \n",
    "        hnu = read_fortran(f, np.dtype('i4'), 1)\n",
    "        data['hnu'][i] = hnu\n",
    "        \n",
    "        read_fortran(f, np.dtype('i4'), 1) #timestep\n",
    "        data['hhost'][i][0:5] = read_fortran(f, np.dtype('i4'), 5)\n",
    "        data['m'][i] = read_fortran(f, np.dtype('f4'), 1)\n",
    "        data['p'][i][0:3] = read_fortran(f, np.dtype('f4'), 3)\n",
    "        data['v'][i][0:3] = read_fortran(f, np.dtype('f4'), 3)\n",
    "        data['ang'][i][0:3] = read_fortran(f, np.dtype('f4'), 3)\n",
    "        data['r'][i] = read_fortran(f, np.dtype('f4'), 4)[0]\n",
    "        read_fortran(f, np.dtype('f4'), 3)#energies\n",
    "        data['sp'][i] = read_fortran(f, np.dtype('f4'), 1)\n",
    "        data['rvir'][i], data['mvir'][i] = read_fortran(f, np.dtype('f4'), 4)[0:2]\n",
    "        read_fortran(f, np.dtype('f4'), 2)\n",
    "    \n",
    "    return data"
   ]
  },
  {
   "cell_type": "code",
   "execution_count": 6,
   "metadata": {
    "collapsed": false
   },
   "outputs": [
    {
     "name": "stdout",
     "output_type": "stream",
     "text": [
      "Took 5.285022735595703 seconds\n"
     ]
    }
   ],
   "source": [
    "if __name__ == \"__main__\":\n",
    "    import time\n",
    "    f = open(\"/home/hoseung/Work/data/01605/halo/DM/tree_bricks187\", \"rb\")\n",
    "    numh, nums = load_meta(f)\n",
    "    t = time.time()\n",
    "    hh = load_data(f, numh + nums)\n",
    "    print(\"Took {} seconds\".format(time.time() - t))\n",
    "    "
   ]
  },
  {
   "cell_type": "code",
   "execution_count": 9,
   "metadata": {
    "collapsed": false
   },
   "outputs": [
    {
     "data": {
      "text/plain": [
       "5037"
      ]
     },
     "execution_count": 9,
     "metadata": {},
     "output_type": "execute_result"
    }
   ],
   "source": [
    "len(hh)"
   ]
  },
  {
   "cell_type": "code",
   "execution_count": null,
   "metadata": {
    "collapsed": true
   },
   "outputs": [],
   "source": []
  }
 ],
 "metadata": {
  "kernelspec": {
   "display_name": "Python 3",
   "language": "python",
   "name": "python3"
  },
  "language_info": {
   "codemirror_mode": {
    "name": "ipython",
    "version": 3
   },
   "file_extension": ".py",
   "mimetype": "text/x-python",
   "name": "python",
   "nbconvert_exporter": "python",
   "pygments_lexer": "ipython3",
   "version": "3.4.3+"
  }
 },
 "nbformat": 4,
 "nbformat_minor": 0
}
