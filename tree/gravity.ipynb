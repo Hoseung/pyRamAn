{
 "cells": [
  {
   "cell_type": "code",
   "execution_count": 1,
   "metadata": {
    "collapsed": true
   },
   "outputs": [],
   "source": [
    "from math import sqrt"
   ]
  },
  {
   "cell_type": "code",
   "execution_count": 2,
   "metadata": {
    "collapsed": true
   },
   "outputs": [],
   "source": [
    "class Planet():\n",
    "    def __init__(self):\n",
    "        self.x = 1.0\n",
    "        self.y = 0.0\n",
    "        self.z = 0.0\n",
    "        self.vx = 0.0\n",
    "        self.vy = 0.5\n",
    "        self.vz = 0.0\n",
    "        \n",
    "        self.m = 1.0"
   ]
  },
  {
   "cell_type": "code",
   "execution_count": 3,
   "metadata": {
    "collapsed": true
   },
   "outputs": [],
   "source": [
    "def sigle_step(planet, dt):\n",
    "    distance = sqrt(palnet.x**2 + planet.y**2 + planet.z**2)\n",
    "    Fx = -planet.x / distance **3\n",
    "    Fy = -planet.y / distance **3\n",
    "    Fz = -planet.z / distance **3\n",
    "    \n",
    "    planet.x += dt * planet.vx\n",
    "    planet.y += dt * planet.vy\n",
    "    planet.z += dt * planet.vz\n",
    "    \n",
    "    planet.vx += dt * Fx / planet.m\n",
    "    planet.vy += dt * Fy / planet.m\n",
    "    planet.vz += dt * Fz / planet.m\n",
    "    \n",
    "def step_time(planet, time_span, n_steps):\n",
    "    \n",
    "    dt = time_span / n_steps\n",
    "    \n",
    "    for j in range(n_steps):\n",
    "        single_step(palnet, dt)"
   ]
  },
  {
   "cell_type": "code",
   "execution_count": null,
   "metadata": {
    "collapsed": true
   },
   "outputs": [],
   "source": []
  }
 ],
 "metadata": {
  "kernelspec": {
   "display_name": "Python 3",
   "language": "python",
   "name": "python3"
  },
  "language_info": {
   "codemirror_mode": {
    "name": "ipython",
    "version": 3
   },
   "file_extension": ".py",
   "mimetype": "text/x-python",
   "name": "python",
   "nbconvert_exporter": "python",
   "pygments_lexer": "ipython3",
   "version": "3.4.3+"
  }
 },
 "nbformat": 4,
 "nbformat_minor": 0
}
